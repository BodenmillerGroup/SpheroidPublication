{
 "cells": [
  {
   "cell_type": "code",
   "execution_count": null,
   "metadata": {},
   "outputs": [],
   "source": [
    "sm = snakemake"
   ]
  },
  {
   "cell_type": "code",
   "execution_count": null,
   "metadata": {},
   "outputs": [],
   "source": [
    "%load_ext autoreload\n",
    "%autoreload 2"
   ]
  },
  {
   "cell_type": "code",
   "execution_count": null,
   "metadata": {},
   "outputs": [],
   "source": [
    "import spherpro.bro as sb\n",
    "import spherpro.db as db\n",
    "\n",
    "import pandas as pd\n",
    "import numpy as np\n",
    "import matplotlib.pyplot as plt\n",
    "import matplotlib as mpl\n",
    "import plotnine as gg\n",
    "\n",
    "import scanpy as sc\n",
    "%matplotlib inline"
   ]
  },
  {
   "cell_type": "code",
   "execution_count": null,
   "metadata": {},
   "outputs": [],
   "source": [
    "from src.variables import Vars\n",
    "#from src.config import Conf"
   ]
  },
  {
   "cell_type": "code",
   "execution_count": null,
   "metadata": {},
   "outputs": [],
   "source": [
    "def censor_dat(x, q=99.9):\n",
    "    x = np.copy(x)\n",
    "    pmax = np.percentile(x,q=q)\n",
    "    x[ x > pmax ] = pmax\n",
    "    pmin = np.percentile(x,q=100-q)\n",
    "    x[x < pmin] = pmin\n",
    "    return x\n",
    "\n",
    "def cur_logtransf(x):\n",
    "    return np.log10(x+0.1)\n",
    "\n",
    "def cur_transf(x):\n",
    "    x= censor_dat(x, 99.9)\n",
    "    x= cur_logtransf(x)\n",
    "    return x"
   ]
  },
  {
   "cell_type": "markdown",
   "metadata": {},
   "outputs": [],
   "source": [
    "## Aim\n",
    "\n",
    "Cluster cell cylce and cell deadth markers to identify apoptotic and mitotic cells"
   ]
  },
  {
   "cell_type": "code",
   "execution_count": null,
   "metadata": {},
   "outputs": [],
   "source": [
    "class V(Vars):\n",
    "    COL_LEIDEN = 'leiden'\n",
    "    COL_ISCC = 'is_cc'\n",
    "    COL_METAL = 'metal'\n",
    "    \n",
    "class C:\n",
    "    chans_dead = ['Yb172', 'Yb174']\n",
    "    chan_phh3 = 'Eu153'\n",
    "    fn_config = sm.input.fn_config\n",
    "    \n"
   ]
  },
  {
   "cell_type": "code",
   "execution_count": null,
   "metadata": {},
   "outputs": [],
   "source": []
  },
  {
   "cell_type": "markdown",
   "metadata": {},
   "outputs": [],
   "source": [
    "## 0) Setup configuration and bro"
   ]
  },
  {
   "cell_type": "code",
   "execution_count": null,
   "metadata": {},
   "outputs": [],
   "source": [
    "bro = sb.get_bro(C.fn_config)"
   ]
  },
  {
   "cell_type": "markdown",
   "metadata": {},
   "outputs": [],
   "source": [
    "## 1) Analysis"
   ]
  },
  {
   "cell_type": "code",
   "execution_count": null,
   "metadata": {},
   "outputs": [],
   "source": [
    "import spherpro.bromodules.helpers_vz as helpers_vz\n",
    "hpr = helpers_vz.HelperVZ(bro)"
   ]
  },
  {
   "cell_type": "code",
   "execution_count": null,
   "metadata": {},
   "outputs": [],
   "source": [
    "dat_pannel = bro.data.pannel"
   ]
  },
  {
   "cell_type": "code",
   "execution_count": null,
   "metadata": {},
   "outputs": [],
   "source": [
    "dat_pannel.columns"
   ]
  },
  {
   "cell_type": "code",
   "execution_count": null,
   "metadata": {},
   "outputs": [],
   "source": [
    "chan_cc = dat_pannel.query(f'{V.COL_ISCC} == True')[V.COL_METAL]"
   ]
  },
  {
   "cell_type": "code",
   "execution_count": null,
   "metadata": {},
   "outputs": [],
   "source": [
    "\n",
    "fil = bro.filters.measurements.get_measmeta_filter_statements(\n",
    "    channel_names=[tuple(list(chan_cc)+ C.chans_dead)],\n",
    "    stack_names=['FullStackFiltered'],\n",
    "    measurement_names=['MeanIntensityComp'],\n",
    "    measurement_types=[None])\n",
    "\n",
    "q_meas = (bro.data.get_measmeta_query()\n",
    "          .filter(fil)\n",
    "          .add_columns(db.ref_stacks.scale, db.ref_planes.channel_name,\n",
    "                      db.stacks.stack_name)\n",
    "         )\n",
    "\n",
    "q_obj = (bro.data.get_objectmeta_query()\n",
    "         .join(db.conditions, db.conditions.condition_id == db.images.condition_id)\n",
    "         .filter(db.objects.object_type == 'cell')\n",
    "         .add_entity(db.conditions)\n",
    "         .add_entity(db.acquisitions)\n",
    "         .add_entity(db.sites)\n",
    "         .add_entity(db.slideacs)\n",
    "         .add_entity(db.slides)\n",
    "        )"
   ]
  },
  {
   "cell_type": "code",
   "execution_count": null,
   "metadata": {},
   "outputs": [],
   "source": [
    "%%time\n",
    "dat = bro.io.objmeasurements.get_measurements(q_meas=q_meas, q_obj=q_obj)\n",
    "dat = bro.io.objmeasurements.scale_anndata(dat)"
   ]
  },
  {
   "cell_type": "code",
   "execution_count": null,
   "metadata": {},
   "outputs": [],
   "source": [
    "# Check why the index isnt called index any more\n",
    "dat.obs.index.name = 'index'"
   ]
  },
  {
   "cell_type": "code",
   "execution_count": null,
   "metadata": {},
   "outputs": [],
   "source": [
    "dat.obs = dat.obs.loc[:,~dat.obs.columns.duplicated()]\n",
    "dat.var = dat.var.loc[:,~dat.var.columns.duplicated()]"
   ]
  },
  {
   "cell_type": "code",
   "execution_count": null,
   "metadata": {},
   "outputs": [],
   "source": [
    "dat.X = np.apply_along_axis(cur_transf, 0, dat.X)"
   ]
  },
  {
   "cell_type": "markdown",
   "metadata": {},
   "outputs": [],
   "source": [
    "Subset only cellcyle genes + , do clustering"
   ]
  },
  {
   "cell_type": "code",
   "execution_count": null,
   "metadata": {},
   "outputs": [],
   "source": [
    "bro.data._read_experiment_layout()"
   ]
  },
  {
   "cell_type": "code",
   "execution_count": null,
   "metadata": {},
   "outputs": [],
   "source": [
    "dat_d2rim = hpr.get_d2rim()"
   ]
  },
  {
   "cell_type": "code",
   "execution_count": null,
   "metadata": {},
   "outputs": [],
   "source": [
    "bro.helpers.anndata.add_anndata_obsmeta(dat,dat_d2rim[[db.objects.object_id.key, V.COL_D2RIM]])"
   ]
  },
  {
   "cell_type": "code",
   "execution_count": null,
   "metadata": {},
   "outputs": [],
   "source": [
    "bro.helpers.anndata.add_anndata_obsmeta(dat, bro.data.experiment_layout)"
   ]
  },
  {
   "cell_type": "code",
   "execution_count": null,
   "metadata": {},
   "outputs": [],
   "source": [
    "bro.data.pannel[db.ref_planes.channel_name.key] = bro.data.pannel['metal']\n",
    "bro.helpers.anndata.add_anndata_varmeta(dat, bro.data.pannel)"
   ]
  },
  {
   "cell_type": "markdown",
   "metadata": {},
   "outputs": [],
   "source": [
    "Cluster over all:"
   ]
  },
  {
   "cell_type": "code",
   "execution_count": null,
   "metadata": {},
   "outputs": [],
   "source": [
    "sc.pp.neighbors(dat, use_rep='X',)"
   ]
  },
  {
   "cell_type": "code",
   "execution_count": null,
   "metadata": {},
   "outputs": [],
   "source": [
    "sc.tl.umap(dat)"
   ]
  },
  {
   "cell_type": "code",
   "execution_count": null,
   "metadata": {},
   "outputs": [],
   "source": [
    "sc.tl.leiden(dat)"
   ]
  },
  {
   "cell_type": "markdown",
   "metadata": {},
   "outputs": [],
   "source": [
    "Cluster by cell line:"
   ]
  },
  {
   "cell_type": "code",
   "execution_count": null,
   "metadata": {},
   "outputs": [],
   "source": [
    "datf_cl_cc  = {cl: dat[dat.obs['cellline'] == cl,:] for cl in dat.obs['cellline'].unique()}"
   ]
  },
  {
   "cell_type": "code",
   "execution_count": null,
   "metadata": {},
   "outputs": [],
   "source": [
    "for k, d in datf_cl_cc.items():\n",
    "    sc.pp.neighbors(d, use_rep='X',)\n",
    "    sc.tl.umap(d)\n",
    "    sc.tl.leiden(d)"
   ]
  },
  {
   "cell_type": "code",
   "execution_count": null,
   "metadata": {},
   "outputs": [],
   "source": [
    "for k, d in datf_cl_cc.items():\n",
    "    print(k)\n",
    "    sc.pl.umap(d,color=list(d.var.goodname)+['distrim'],gene_symbols='goodname')\n",
    "    plt.gcf().suptitle(k)"
   ]
  },
  {
   "cell_type": "code",
   "execution_count": null,
   "metadata": {},
   "outputs": [],
   "source": [
    "for k, d in datf_cl_cc.items():\n",
    "    sc.pl.umap(d,color='distrim')\n",
    "    plt.suptitle(k)"
   ]
  },
  {
   "cell_type": "code",
   "execution_count": null,
   "metadata": {},
   "outputs": [],
   "source": [
    "for k, d in datf_cl_cc.items():\n",
    "    sc.pl.umap(d,color='leiden')\n",
    "    #plt.suptitle(k)"
   ]
  },
  {
   "cell_type": "markdown",
   "metadata": {},
   "outputs": [],
   "source": [
    "Cluster markers"
   ]
  },
  {
   "cell_type": "code",
   "execution_count": null,
   "metadata": {},
   "outputs": [],
   "source": [
    "for k, d in datf_cl_cc.items():\n",
    "    print(k)\n",
    "    sc.tl.dendrogram(d, groupby='leiden')\n",
    "    sc.pl.stacked_violin(d, var_names=d.var.goodname,groupby='leiden', swap_axes=True, dendrogram=True, gene_symbols='goodname')"
   ]
  },
  {
   "cell_type": "markdown",
   "metadata": {},
   "outputs": [],
   "source": [
    "Identify apoptotic clusters  \n",
    "-> This can be done equally well with cleaved Parp and cleaved Caspase (see cluster markers)"
   ]
  },
  {
   "cell_type": "code",
   "execution_count": null,
   "metadata": {},
   "outputs": [],
   "source": [
    "clust_dead = {}\n",
    "tresh_pos = -0.4\n",
    "apopt_channel = C.chans_dead[1]\n",
    "apopt_name = bro.helpers.dbhelp.get_target_by_channel(apopt_channel)\n",
    "for k, d in datf_cl_cc.items():\n",
    "    d=(d.obs[[V.COL_LEIDEN]]\n",
    "        .assign(**{V.COL_VALUE: d.X[:, d.var[V.COL_CHANNELNAME] == apopt_channel]})\n",
    "        .groupby(V.COL_LEIDEN).median()\n",
    "\n",
    "    )\n",
    "    d.hist(bins=30)\n",
    "    plt.title(f'{k} - {apopt_name}')\n",
    "    plt.vlines(tresh_pos,0, 10)\n",
    "    clust_dead[k] = [l for l in d.query(f'{V.COL_VALUE} > {tresh_pos}').index]\n",
    "print(f'Apoptotic clusters: {clust_dead}')"
   ]
  },
  {
   "cell_type": "markdown",
   "metadata": {},
   "outputs": [],
   "source": [
    "Identify Mitotitic clusters"
   ]
  },
  {
   "cell_type": "code",
   "execution_count": null,
   "metadata": {},
   "outputs": [],
   "source": [
    "clust_mitosis = {}\n",
    "tresh_pos = -0.4\n",
    "for k, d in datf_cl_cc.items():\n",
    "    d=(d.obs[[V.COL_LEIDEN]]\n",
    "        .assign(**{V.COL_VALUE: d.X[:, d.var[V.COL_CHANNELNAME] == C.chan_phh3]})\n",
    "        .groupby(V.COL_LEIDEN).mean()\n",
    "\n",
    "    )\n",
    "    d.hist(bins=30)\n",
    "    plt.title(k)\n",
    "    plt.vlines(tresh_pos,0, 10)\n",
    "    clust_mitosis[k] = [l for l in d.query(f'{V.COL_VALUE} > {tresh_pos}').index]\n",
    "print(f'Mitotic clusters: {clust_mitosis}')"
   ]
  },
  {
   "cell_type": "markdown",
   "metadata": {},
   "outputs": [],
   "source": [
    "Get all mitosis cells for a 'is-mitosis' filter"
   ]
  },
  {
   "cell_type": "code",
   "execution_count": null,
   "metadata": {},
   "outputs": [],
   "source": [
    "obs_mitosis = []\n",
    "obs_dead = []\n",
    "for k, d in datf_cl_cc.items():\n",
    "    obs_mitosis.append(d.obs.index[d.obs['leiden']\n",
    "                                 .isin(clust_mitosis[k])\n",
    "                                  ].values)\n",
    "    obs_dead.append(d.obs.index[d.obs['leiden']\n",
    "                              .isin(clust_dead[k])\n",
    "                               ].values\n",
    "                   )\n",
    "obs_mitosis = np.concatenate(obs_mitosis)\n",
    "obs_dead = np.concatenate(obs_dead)"
   ]
  },
  {
   "cell_type": "code",
   "execution_count": null,
   "metadata": {},
   "outputs": [],
   "source": [
    "dat.obs['mitosis'] = dat.obs.index.isin(obs_mitosis)\n",
    "dat.obs['dead'] = dat.obs.index.isin(obs_dead)"
   ]
  },
  {
   "cell_type": "code",
   "execution_count": null,
   "metadata": {},
   "outputs": [],
   "source": [
    "dat.obs[db.object_filters.object_id.key] = dat.obs.index.values.astype(int)"
   ]
  },
  {
   "cell_type": "code",
   "execution_count": null,
   "metadata": {},
   "outputs": [],
   "source": [
    "bro.filters.objectfilterlib.write_filter_to_db(\n",
    "    (dat.obs[[db.object_filters.object_id.key, 'mitosis']].rename(columns={'mitosis': db.object_filters.filter_value.key}))\n",
    "    , V.FIL_MITOSIS, drop=True)"
   ]
  },
  {
   "cell_type": "code",
   "execution_count": null,
   "metadata": {},
   "outputs": [],
   "source": [
    "bro.filters.objectfilterlib.write_filter_to_db(\n",
    "    (dat.obs[[db.object_filters.object_id.key, 'dead']].rename(columns={'dead': db.object_filters.filter_value.key}))\n",
    "    , V.FIL_APOPTOSIS , drop=True)"
   ]
  },
  {
   "cell_type": "code",
   "execution_count": null,
   "metadata": {},
   "outputs": [],
   "source": [
    "sc.pl.umap(dat, color=list(dat.var.goodname)+['distrim','dead', 'mitosis'],gene_symbols='goodname')"
   ]
  },
  {
   "cell_type": "markdown",
   "metadata": {},
   "outputs": [],
   "source": [
    "Calculate MeanNbIntensity of all cells, excluding mitosis or apoptosis"
   ]
  },
  {
   "cell_type": "code",
   "execution_count": null,
   "metadata": {},
   "outputs": [],
   "source": [
    "import sqlalchemy as sa"
   ]
  },
  {
   "cell_type": "code",
   "execution_count": null,
   "metadata": {},
   "outputs": [],
   "source": [
    "fil_norm = bro.filters.objectfilterlib.get_combined_filterquery(\n",
    "    object_filters=[(V.FIL_MITOSIS,0),(V.FIL_APOPTOSIS,0)])"
   ]
  },
  {
   "cell_type": "code",
   "execution_count": null,
   "metadata": {},
   "outputs": [],
   "source": [
    "(bro.session.query(db.objects)\n",
    "     .filter(db.objects.object_id==fil_norm.c.object_id)).count()"
   ]
  },
  {
   "cell_type": "code",
   "execution_count": null,
   "metadata": {},
   "outputs": [],
   "source": [
    "bro.processing.nb_aggregation.add_nb_measurement('NbMeanNorm',np.mean, object_type='cell',\n",
    "                                                 measurement_name='MeanIntensityComp',\n",
    "                                                    stack_name='FullStackFiltered',\n",
    "                                            filter_query=fil_norm,\n",
    "                                            #remove_fil_nb=False,\n",
    "                                               # drop_all_old=True\n",
    "                                                )"
   ]
  },
  {
   "cell_type": "code",
   "execution_count": null,
   "metadata": {},
   "outputs": [],
   "source": []
  }
 ],
 "metadata": {
  "jupytext": {
   "text_representation": {
    "extension": ".py",
    "format_name": "percent",
    "format_version": "1.3",
    "jupytext_version": "1.3.4"
   }
  },
  "kernelspec": {
   "display_name": "Python 3",
   "language": "python",
   "name": "python3"
  },
  "language_info": {
   "codemirror_mode": {
    "name": "ipython",
    "version": 3
   },
   "file_extension": ".py",
   "mimetype": "text/x-python",
   "name": "python",
   "nbconvert_exporter": "python",
   "pygments_lexer": "ipython3",
   "version": "3.8.5"
  }
 },
 "nbformat": 4,
 "nbformat_minor": 4
}
