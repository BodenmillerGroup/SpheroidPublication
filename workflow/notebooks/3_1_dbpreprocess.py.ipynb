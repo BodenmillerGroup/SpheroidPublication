{
 "cells": [
  {
   "cell_type": "code",
   "execution_count": null,
   "metadata": {
    "pycharm": {
     "name": "#%%\n"
    }
   },
   "outputs": [],
   "source": [
    "import spherpro.bro as spb\n",
    "import spherpro.datastore as spd\n",
    "import spherpro.db as db\n",
    "\n",
    "import numpy as np\n",
    "import sqlalchemy as sa\n",
    "import pathlib\n",
    "\n",
    "import pandas as pd"
   ]
  },
  {
   "cell_type": "code",
   "execution_count": null,
   "metadata": {
    "pycharm": {
     "name": "#%%\n"
    }
   },
   "outputs": [],
   "source": [
    "sm = snakemake"
   ]
  },
  {
   "cell_type": "markdown",
   "metadata": {
    "collapsed": false
   },
   "source": [
    "## Aim\n",
    "This notebook contains all the processing steps that alter the database, e.g. setting the valid_images and valid_objects as well as debarcoding\n",
    "\n",
    "\n",
    "\n",
    "TODO:\n",
    "- Filter non-attached\n",
    "- Filter everything with an area < 10 pixels\n"
   ]
  },
  {
   "cell_type": "code",
   "execution_count": null,
   "metadata": {
    "pycharm": {
     "name": "#%%\n"
    }
   },
   "outputs": [],
   "source": [
    "%matplotlib inline"
   ]
  },
  {
   "cell_type": "code",
   "execution_count": null,
   "metadata": {
    "pycharm": {
     "name": "#%%\n"
    }
   },
   "outputs": [],
   "source": [
    "class C:\n",
    "    fn_config = sm.input.fn_config   "
   ]
  },
  {
   "cell_type": "code",
   "execution_count": null,
   "metadata": {
    "pycharm": {
     "name": "#%%\n"
    }
   },
   "outputs": [],
   "source": [
    "bro = spb.get_bro(C.fn_config)\n",
    "\n"
   ]
  },
  {
   "cell_type": "code",
   "execution_count": null,
   "metadata": {
    "pycharm": {
     "name": "#%%\n"
    }
   },
   "outputs": [],
   "source": [
    "bro.data.reset_valid_images()\n",
    "bro.data.reset_valid_objects()"
   ]
  },
  {
   "cell_type": "code",
   "execution_count": null,
   "metadata": {
    "pycharm": {
     "name": "#%%\n"
    }
   },
   "outputs": [],
   "source": [
    "bro.session.commit()"
   ]
  },
  {
   "cell_type": "markdown",
   "metadata": {
    "collapsed": false
   },
   "source": [
    "Initial cell and image numbers"
   ]
  },
  {
   "cell_type": "code",
   "execution_count": null,
   "metadata": {
    "pycharm": {
     "name": "#%%\n"
    }
   },
   "outputs": [],
   "source": []
  },
  {
   "cell_type": "code",
   "execution_count": null,
   "metadata": {
    "pycharm": {
     "name": "#%%\n"
    }
   },
   "outputs": [],
   "source": [
    "n_img = bro.session.query(db.valid_images.image_id).count()\n",
    "n_obj = (bro.session.query(db.valid_objects.object_id)\n",
    "            .join(db.objects)\n",
    "            .filter(db.objects.object_type == 'cell').count())\n",
    "print(n_img, n_obj)"
   ]
  },
  {
   "cell_type": "markdown",
   "metadata": {
    "collapsed": false
   },
   "source": [
    "Add filters"
   ]
  },
  {
   "cell_type": "code",
   "execution_count": null,
   "metadata": {
    "pycharm": {
     "name": "#%%\n"
    }
   },
   "outputs": [],
   "source": [
    "%%time\n",
    "outsphere = bro.filters.membership.add_issphere(minfrac=0.9, drop=True)"
   ]
  },
  {
   "cell_type": "code",
   "execution_count": null,
   "metadata": {
    "pycharm": {
     "name": "#%%\n"
    }
   },
   "outputs": [],
   "source": [
    "%%time\n",
    "outamb = bro.filters.membership.add_isambiguous(distother=-20, drop=True)"
   ]
  },
  {
   "cell_type": "code",
   "execution_count": null,
   "metadata": {
    "pycharm": {
     "name": "#%%\n"
    }
   },
   "outputs": [],
   "source": [
    "%%time\n",
    "\n",
    "outamb = bro.filters.membership.add_issmall(minpix=10, drop=True, object_type='cell')"
   ]
  },
  {
   "cell_type": "code",
   "execution_count": null,
   "metadata": {
    "pycharm": {
     "name": "#%%\n"
    }
   },
   "outputs": [],
   "source": [
    "%%time\n",
    "\n",
    "outamb = bro.filters.membership.add_isnotborder(borderdist=2)"
   ]
  },
  {
   "cell_type": "markdown",
   "metadata": {
    "collapsed": false
   },
   "source": [
    "Remove objects from 'valid_objects' according to these filters"
   ]
  },
  {
   "cell_type": "code",
   "execution_count": null,
   "metadata": {
    "pycharm": {
     "name": "#%%\n"
    }
   },
   "outputs": [],
   "source": [
    "\n",
    "def calc_stats_and_apply(tup):\n",
    "    q_fil = bro.filters.objectfilterlib.get_combined_filterquery([tup])\n",
    "\n",
    "    # Calculate some additional statistics\n",
    "    q_base= (bro.session.query(db.objects)\n",
    "            .filter(db.objects.object_type=='cell'))\n",
    "    q_tot = (q_base\n",
    "            .filter(db.objects.object_id.in_(q_fil)))\n",
    "    n_tot = q_tot.count()\n",
    "    n_valid = q_tot.join(db.valid_objects).count()\n",
    "    print(f'''{tup[0]} equal to {tup[1]} filters total {n_tot} cells\n",
    "            of which {n_valid} were previously valid\\n''')\n",
    "    # Apply filter\n",
    "    bro.filters.objectfilterlib.delete_by_filter(q_fil)\n",
    "\n"
   ]
  },
  {
   "cell_type": "code",
   "execution_count": null,
   "metadata": {
    "pycharm": {
     "name": "#%%\n"
    }
   },
   "outputs": [],
   "source": [
    "for tup in [\n",
    "    ('is-sphere', False),\n",
    "    ('is-ambiguous', True),\n",
    "    ('is-small', True),\n",
    "    ('is-notborder', False)\n",
    "            ]:\n",
    "    calc_stats_and_apply(tup)"
   ]
  },
  {
   "cell_type": "raw",
   "metadata": {
    "collapsed": false
   },
   "source": [
    "Only keep the largest connected component"
   ]
  },
  {
   "cell_type": "code",
   "execution_count": null,
   "metadata": {
    "pycharm": {
     "name": "#%%\n"
    }
   },
   "outputs": [],
   "source": [
    "%%time\n",
    "outamb =bro.filters.membership.add_ismaincomponent(drop=True)"
   ]
  },
  {
   "cell_type": "code",
   "execution_count": null,
   "metadata": {
    "pycharm": {
     "name": "#%%\n"
    }
   },
   "outputs": [],
   "source": [
    "calc_stats_and_apply(('is-maincomponent', False))"
   ]
  },
  {
   "cell_type": "code",
   "execution_count": null,
   "metadata": {
    "pycharm": {
     "name": "#%%\n"
    }
   },
   "outputs": [],
   "source": [
    "\n",
    "q_meas = (bro.data.get_measmeta_query()\n",
    "          .filter(db.ref_planes.channel_name == 'prob-hq',\n",
    "                  db.measurement_names.measurement_name == 'MeanIntensity',\n",
    "                 db.stacks.stack_name == 'ProbQc')\n",
    "          .add_column(db.ref_stacks.scale)\n",
    "         )\n",
    "q_obj = (bro.data.get_objectmeta_query(valid_objects=False, valid_images=False)\n",
    "        .filter(db.objects.object_type == 'cell')\n",
    "        )\n",
    "d=bro.io.objmeasurements.get_measurements(q_obj=q_obj, q_meas=q_meas)\n",
    "d_fil = pd.DataFrame({db.object_filters.filter_value.key: d.X[:].squeeze() > 0.75,\n",
    "             db.object_filters.object_id.key: d.obs.index.astype(int)})\n",
    "\n",
    "bro.filters.objectfilterlib.write_filter_to_db(d_fil, 'is-qchq')"
   ]
  },
  {
   "cell_type": "code",
   "execution_count": null,
   "metadata": {
    "pycharm": {
     "name": "#%%\n"
    }
   },
   "outputs": [],
   "source": [
    "calc_stats_and_apply(('is-qchq', False))"
   ]
  },
  {
   "cell_type": "markdown",
   "metadata": {
    "collapsed": false
   },
   "source": [
    "Look at what is left over"
   ]
  },
  {
   "cell_type": "code",
   "execution_count": null,
   "metadata": {
    "pycharm": {
     "name": "#%%\n"
    }
   },
   "outputs": [],
   "source": [
    "n_img = bro.session.query(db.valid_images.image_id).count()\n",
    "n_obj = (bro.session.query(db.valid_objects.object_id)\n",
    "            .join(db.objects)\n",
    "            .filter(db.objects.object_type == 'cell').count())\n",
    "print(n_img, n_obj)"
   ]
  },
  {
   "cell_type": "code",
   "execution_count": null,
   "metadata": {
    "pycharm": {
     "name": "#%%\n"
    }
   },
   "outputs": [],
   "source": [
    "(bro.session.query(db.objects)\n",
    ".filter(db.objects.object_type == 'cell').count()\n",
    ")"
   ]
  },
  {
   "cell_type": "code",
   "execution_count": null,
   "metadata": {
    "pycharm": {
     "name": "#%%\n"
    }
   },
   "outputs": [],
   "source": [
    "\n",
    "q_fil=bro.filters.objectfilterlib.get_combined_filterquery([('is-sphere', True) ])\n",
    "stmt = bro.session.query(db.valid_objects).filter(db.valid_objects.object_id.in_(q_fil))\n",
    "bro.doquery(stmt).shape\n",
    "\n"
   ]
  },
  {
   "cell_type": "markdown",
   "metadata": {
    "collapsed": false
   },
   "source": [
    "## Remove image ids without any valid cells"
   ]
  },
  {
   "cell_type": "code",
   "execution_count": null,
   "metadata": {
    "pycharm": {
     "name": "#%%\n"
    }
   },
   "outputs": [],
   "source": [
    "from sqlalchemy import func"
   ]
  },
  {
   "cell_type": "code",
   "execution_count": null,
   "metadata": {
    "pycharm": {
     "name": "#%%\n"
    }
   },
   "outputs": [],
   "source": [
    "min_cells = 25\n",
    "sq_stat = (bro.session.query(db.objects.image_id, func.count(db.objects.object_id).label('count'))\n",
    "     .join(db.valid_objects)\n",
    "     .filter(db.objects.object_type == 'cell')\n",
    "     .group_by(db.objects.image_id)\n",
    ").subquery()\n",
    "\n",
    "stmt = (bro.session.query(db.valid_images)\n",
    "    .filter(~(db.valid_images.image_id.in_(bro.session.query(sq_stat.c.image_id).filter(sq_stat.c.count > min_cells).subquery())))\n",
    "    )\n",
    "\n",
    "print(f'{stmt.count()} images have less than {min_cells} single valid cells.')\n",
    "\n"
   ]
  },
  {
   "cell_type": "code",
   "execution_count": null,
   "metadata": {
    "pycharm": {
     "name": "#%%\n"
    }
   },
   "outputs": [],
   "source": [
    "ax = (bro.doquery(bro.session.query(sq_stat))['count'].map(np.sqrt)).hist(bins=100)\n",
    "ax.axvline(np.sqrt(min_cells), color='red')"
   ]
  },
  {
   "cell_type": "code",
   "execution_count": null,
   "metadata": {
    "pycharm": {
     "name": "#%%\n"
    }
   },
   "outputs": [],
   "source": [
    "n_img = bro.session.query(db.valid_images.image_id).count()\n",
    "n_obj = (bro.session.query(db.valid_objects.object_id)\n",
    "            .join(db.objects)\n",
    "            .filter(db.objects.object_type == 'cell').count())\n",
    "print(n_img, n_obj)"
   ]
  },
  {
   "cell_type": "code",
   "execution_count": null,
   "metadata": {
    "pycharm": {
     "name": "#%%\n"
    }
   },
   "outputs": [],
   "source": [
    "stmt.delete(synchronize_session='fetch')\n",
    "bro.session.commit()\n",
    "\n",
    "\n",
    "# This adds mean neightbourhood intensity"
   ]
  },
  {
   "cell_type": "code",
   "execution_count": null,
   "metadata": {
    "pycharm": {
     "name": "#%%\n"
    }
   },
   "outputs": [],
   "source": [
    "import numpy as np"
   ]
  },
  {
   "cell_type": "code",
   "execution_count": null,
   "metadata": {
    "pycharm": {
     "name": "#%%\n"
    }
   },
   "outputs": [],
   "source": [
    "%%time\n",
    "bro.processing.nb_aggregation.add_nb_measurement('NbMean',np.mean, object_type='cell', measurement_name='MeanIntensityComp',\n",
    "                                                    stack_name='FullStackFiltered')"
   ]
  },
  {
   "cell_type": "code",
   "execution_count": null,
   "metadata": {
    "pycharm": {
     "name": "#%%\n"
    }
   },
   "outputs": [],
   "source": [
    "%%time\n",
    "bro.processing.nb_aggregation.add_nb_measurement('NbMax',np.max, object_type='cell', measurement_name='MeanIntensityComp',\n",
    "                                                    stack_name='FullStackFiltered')"
   ]
  },
  {
   "cell_type": "code",
   "execution_count": null,
   "metadata": {
    "pycharm": {
     "name": "#%%\n"
    }
   },
   "outputs": [],
   "source": [
    "%%time\n",
    "bro.processing.nb_aggregation.add_nb_measurement('NbAllMax',np.max, object_type='cell', measurement_name='MeanIntensity',\n",
    "                                                    stack_name='ProbPos',valid_objects=False)"
   ]
  },
  {
   "cell_type": "code",
   "execution_count": null,
   "metadata": {
    "pycharm": {
     "name": "#%%\n"
    }
   },
   "outputs": [],
   "source": [
    "%%time\n",
    "bro.processing.nb_aggregation.add_nb_measurement('NbMax',np.max, object_type='cell', measurement_name='MeanIntensity',\n",
    "                                                    stack_name='ProbPos',valid_objects=True)"
   ]
  },
  {
   "cell_type": "code",
   "execution_count": null,
   "metadata": {
    "pycharm": {
     "name": "#%%\n"
    }
   },
   "outputs": [],
   "source": [
    "%%time\n",
    "bro.processing.nb_aggregation.add_nb_measurement('NbAllMax',np.max, object_type='cell', measurement_name='MeanIntensityComp',\n",
    "                                                    stack_name='FullStackFiltered',valid_objects=False)\n"
   ]
  }
 ],
 "metadata": {
  "jupytext": {
   "text_representation": {
    "extension": ".py",
    "format_name": "percent",
    "format_version": "1.3",
    "jupytext_version": "1.3.4"
   }
  },
  "kernelspec": {
   "display_name": "Python 3",
   "language": "python",
   "name": "python3"
  },
  "language_info": {
   "codemirror_mode": {
    "name": "ipython",
    "version": 3
   },
   "file_extension": ".py",
   "mimetype": "text/x-python",
   "name": "python",
   "nbconvert_exporter": "python",
   "pygments_lexer": "ipython3",
   "version": "3.8.5"
  }
 },
 "nbformat": 4,
 "nbformat_minor": 4
}
