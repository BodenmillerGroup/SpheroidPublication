{
 "cells": [
  {
   "cell_type": "raw",
   "metadata": {},
   "source": [
    "---\n",
    "title: \"Adapt spillover matrix for IMC compensation\"\n",
    "author: 'Vito Zanotelli et al.'\n",
    "output:\n",
    "  html_document:\n",
    "    df_print: paged\n",
    "    keep_md: true\n",
    "---"
   ]
  },
  {
   "cell_type": "markdown",
   "metadata": {},
   "source": [
    "# Adapts the spillover matrix for use in CellProfiller"
   ]
  },
  {
   "cell_type": "code",
   "execution_count": null,
   "metadata": {
    "lines_to_next_cell": 2,
    "name": "Libraries"
   },
   "outputs": [],
   "source": [
    "library(CATALYST)\n",
    "library(tiff)"
   ]
  },
  {
   "cell_type": "markdown",
   "metadata": {
    "lines_to_next_cell": 0
   },
   "source": [
    "##"
   ]
  },
  {
   "cell_type": "code",
   "execution_count": null,
   "metadata": {
    "lines_to_next_cell": 2,
    "name": "Setup"
   },
   "outputs": [],
   "source": [
    "fn_sm = '../../figures/spill_20190618_bc126v1spillover_slide1_ac7_vz.zip_sm.csv'\n",
    "# a csv with a list of metals used, generated from the IMC preprocessing ipython notebook:\n",
    "fn_imc_metals = '/home/vitoz/mnt/tmp/scratch/vitoz/Data/Analysis/20190624_phys_p173-p176-physiology_v1/tiffs/20190619_p173_slide31_ac1_vz_s1_p1_r11_a11_ac_full.csv'\n",
    "fol_out = '/home/vitoz/mnt/tmp/scratch/vitoz/Data/Analysis/20190624_phys_p173-p176-physiology_v1/crop/'\n",
    "prefix_out =  'adapted_'"
   ]
  },
  {
   "cell_type": "markdown",
   "metadata": {
    "lines_to_next_cell": 0
   },
   "source": [
    "Write the spillover matrix for cellprofier"
   ]
  },
  {
   "cell_type": "code",
   "execution_count": null,
   "metadata": {
    "lines_to_next_cell": 2
   },
   "outputs": [],
   "source": [
    "sm = read.csv(fn_sm, row.names = 1)\n",
    "analysis_channels = read.csv(fn_imc_metals,header = F)\n",
    "analysis_channels = paste(as.character(analysis_channels$V1), 'Di', sep = '')"
   ]
  },
  {
   "cell_type": "markdown",
   "metadata": {},
   "source": [
    "FIX naming"
   ]
  },
  {
   "cell_type": "code",
   "execution_count": null,
   "metadata": {},
   "outputs": [],
   "source": [
    "#analysis_channels = replace(analysis_channels, analysis_channels== 'Ba132Di', 'Xe132Di')"
   ]
  },
  {
   "cell_type": "code",
   "execution_count": null,
   "metadata": {},
   "outputs": [],
   "source": [
    "sm[sm>1]=1\n",
    "sm = sm[row.names(sm) %in% analysis_channels,colnames(sm) %in% analysis_channels]\n",
    "sm_table = CATALYST::adaptSpillmat(input_sm = as.matrix(sm), out_chs = analysis_channels)"
   ]
  },
  {
   "cell_type": "markdown",
   "metadata": {
    "lines_to_next_cell": 0
   },
   "source": [
    "Writes out a 32bit tiff that can be used in CellProfiller together with the \"CorrectSpilloverApply\" module"
   ]
  },
  {
   "cell_type": "code",
   "execution_count": null,
   "metadata": {
    "lines_to_next_cell": 0
   },
   "outputs": [],
   "source": [
    "tiff::writeTIFF(sm_table, file.path(fol_out, 'imc_full_sm.tiff'), bits.per.sample = 32, reduce = T)"
   ]
  },
  {
   "cell_type": "code",
   "execution_count": null,
   "metadata": {},
   "outputs": [],
   "source": [
    "print(length(analysis_channels))\n",
    "nrow(sm_table)\n",
    "sm_table"
   ]
  },
  {
   "cell_type": "code",
   "execution_count": null,
   "metadata": {},
   "outputs": [],
   "source": [
    "sessionInfo()"
   ]
  }
 ],
 "metadata": {
  "jupytext": {
   "cell_metadata_filter": "name,-all",
   "formats": "Rmd,ipynb",
   "notebook_metadata_filter": "-all",
   "text_representation": {
    "extension": ".Rmd",
    "format_name": "rmarkdown"
   }
  },
  "kernelspec": {
   "display_name": "R [conda env:rcatalyst]",
   "language": "R",
   "name": "conda-env-rcatalyst-r"
  },
  "language_info": {
   "codemirror_mode": "r",
   "file_extension": ".r",
   "mimetype": "text/x-r-source",
   "name": "R",
   "pygments_lexer": "r",
   "version": "3.6.3"
  }
 },
 "nbformat": 4,
 "nbformat_minor": 4
}
