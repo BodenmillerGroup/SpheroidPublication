{
 "cells": [
  {
   "cell_type": "code",
   "execution_count": null,
   "metadata": {
    "pycharm": {
     "name": "#%%\n"
    }
   },
   "outputs": [],
   "source": [
    "sm = snakemake"
   ]
  },
  {
   "cell_type": "code",
   "execution_count": null,
   "metadata": {
    "lines_to_next_cell": 2
   },
   "outputs": [],
   "source": [
    "import pandas as pd\n",
    "\n",
    "import spherpro.bro as spb\n",
    "import spherpro.db as db\n",
    "\n",
    "import numpy as np\n",
    "import pathlib"
   ]
  },
  {
   "cell_type": "code",
   "execution_count": null,
   "metadata": {},
   "outputs": [],
   "source": [
    "from src.variables import Vars"
   ]
  },
  {
   "cell_type": "markdown",
   "metadata": {},
   "outputs": [],
   "source": [
    "### Aim: The goal is to find if there are markers which are significantly different with and without overexpression.\n",
    "\n",
    "First it is investigated for the infected cells themselves. Approach:\n",
    "- Fit a model to calculate:\n",
    "\n",
    "    log(y_marker) ~ dist-to-rim + site (a random effect)\n",
    "    \n",
    "    \n",
    "- Is is_overexpressing a singificant covariate?\n",
    "- Calculate the residuals after applying this model, visualize the z-score \n",
    "\n",
    "\n",
    "#### Data requirements\n",
    "\n",
    "- Data:\n",
    "    - dat_meas:\n",
    "        - imageid+objectid ~ measurement_id\n",
    "    - dat_d2rim:\n",
    "        - objectid ~ d2rim\n",
    "    - dat_pos:\n",
    "        - ojectid ~ is_FLAG+is_GFP\n",
    "    \n",
    "    \n",
    "- Metadata:\n",
    "    - dat_condition:\n",
    "        - conditionid ~ gene+is_FLAG+is_GFP\n",
    "    - dat_image:\n",
    "        - imageid ~ site + conditionid\n",
    "           "
   ]
  },
  {
   "cell_type": "code",
   "execution_count": null,
   "metadata": {},
   "outputs": [],
   "source": [
    "fn_config =  sm.input.fn_config"
   ]
  },
  {
   "cell_type": "code",
   "execution_count": null,
   "metadata": {},
   "outputs": [],
   "source": [
    "bro = spb.get_bro(fn_config)"
   ]
  },
  {
   "cell_type": "code",
   "execution_count": null,
   "metadata": {},
   "outputs": [],
   "source": [
    "V = Vars"
   ]
  },
  {
   "cell_type": "code",
   "execution_count": null,
   "metadata": {},
   "outputs": [],
   "source": [
    "class Config:\n",
    "    fn_constructs = pathlib.Path(sm.input.fn_constructs)\n",
    "    REF_COND = 'ctrl'\n",
    "    SUFFIX_NB = '-NB'\n",
    "    FIL_FLAGPOS = 'is-flagpos'\n",
    "    FIL_FLAGPOSNB = FIL_FLAGPOS+V.SUFFIX_FILNB\n",
    "    FIL_GFPPOS = 'is-gfppos'\n",
    "    FIL_GFPPOSNB = FIL_GFPPOS+V.SUFFIX_FILNB\n",
    "    FIL_LM = 'modelfitcond_v1'\n",
    "    FIL_LM_ONEFLAG = 'modelfitcondflag_v1'\n",
    "    FIL_LM_ALLCTRL = 'modelfitcondallctrl_v1'\n",
    "    DIC_FILS = {FIL_GFPPOS: V.COL_GFPPOS , FIL_FLAGPOS: V.COL_FLAGPOS,\n",
    "                FIL_FLAGPOSNB: V.COL_FLAGPOSNB,\n",
    "                FIL_GFPPOSNB: V.COL_GFPPOSNB}\n",
    "    FIL_LM_CLASSES = ['doubt', 'ctrl', 'oexp-NB', 'oexp']\n",
    "\n",
    "C = Config"
   ]
  },
  {
   "cell_type": "code",
   "execution_count": null,
   "metadata": {
    "lines_to_next_cell": 2
   },
   "outputs": [],
   "source": [
    "\n",
    "fil_gfppos = (bro.session.query(db.object_filters)\n",
    "               .join(db.object_filter_names)\n",
    "               .filter(db.object_filter_names.object_filter_name == C.FIL_GFPPOS)).subquery()\n",
    "\n",
    "\n",
    "q_obj = (bro.data.get_objectmeta_query()\n",
    "             .filter(db.objects.object_type == 'cell')\n",
    "            # .filter(db.objects.image_id == 101)\n",
    "            .join(db.conditions, db.images.condition_id == db.conditions.condition_id)\n",
    "            .add_columns(db.conditions.condition_id, db.conditions.plate_id)\n",
    "        )\n",
    "\n",
    "for fil_name in C.DIC_FILS.keys():\n",
    "    fil = (bro.session.query(db.object_filters)\n",
    "               .join(db.object_filter_names)\n",
    "               .filter(db.object_filter_names.object_filter_name == fil_name)).subquery()\n",
    "    q_obj = (q_obj\n",
    "         .join(fil, fil.c.object_id == db.objects.object_id)\n",
    "         .add_columns(fil.c.filter_value.label(fil_name))\n",
    "        )"
   ]
  },
  {
   "cell_type": "code",
   "execution_count": null,
   "metadata": {},
   "outputs": [],
   "source": [
    "%%time\n",
    "dat_obj = bro.doquery(q_obj)"
   ]
  },
  {
   "cell_type": "code",
   "execution_count": null,
   "metadata": {},
   "outputs": [],
   "source": [
    "dat_obj"
   ]
  },
  {
   "cell_type": "code",
   "execution_count": null,
   "metadata": {},
   "outputs": [],
   "source": [
    "dat_cond = bro.doquery(bro.session.query(db.conditions))"
   ]
  },
  {
   "cell_type": "code",
   "execution_count": null,
   "metadata": {},
   "outputs": [],
   "source": [
    "dat_constructs = pd.read_csv(C.fn_constructs)"
   ]
  },
  {
   "cell_type": "code",
   "execution_count": null,
   "metadata": {},
   "outputs": [],
   "source": [
    "dat_constructs = dat_constructs.merge(dat_cond[[V.COL_CONDID, V.COL_CONDNAME]])"
   ]
  },
  {
   "cell_type": "code",
   "execution_count": null,
   "metadata": {},
   "outputs": [],
   "source": [
    "def get_fitcond(dat):\n",
    "    dat[V.COL_FITCONDITIONNAME] = C.FIL_LM_CLASSES[1] # ref\n",
    "    #fil = (((dat[V.COL_TAGGFP] == 1) & (dat[C.FIL_GFPPOS] == 0)) |\n",
    "    #       ((dat[V.COL_TAGFLAG] == 1) & (dat[C.FIL_GFPPOS] == 0) )|\n",
    "    #       ((dat[V.COL_TAGGFP] == 0) &(dat[V.COL_TAGFLAG] == 0)))\n",
    "    \n",
    "    fil = (((dat[V.COL_TAGGFP] == 1) & (dat[C.FIL_GFPPOSNB] > 0)) | \n",
    "           ((dat[V.COL_TAGFLAG] == 1) & (dat[C.FIL_FLAGPOSNB] >0) ))\n",
    "    \n",
    "    dat.loc[fil, V.COL_FITCONDITIONNAME] = C.FIL_LM_CLASSES[2]\n",
    "    \n",
    "    fil = (((dat[V.COL_TAGGFP] == 1) & (dat[C.FIL_GFPPOS] == 2)) | \n",
    "           ((dat[V.COL_TAGFLAG] == 1) & (dat[C.FIL_FLAGPOS] == 2) ))\n",
    "    \n",
    "    dat.loc[fil, V.COL_FITCONDITIONNAME] = C.FIL_LM_CLASSES[3]\n",
    "    \n",
    "    fil = (((dat[V.COL_TAGGFP] == 1) & (dat[C.FIL_GFPPOS] == 1)) | \n",
    "           ((dat[V.COL_TAGFLAG] == 1) & (dat[C.FIL_FLAGPOS] == 1) ))\n",
    "    \n",
    "    dat.loc[fil, V.COL_FITCONDITIONNAME] = C.FIL_LM_CLASSES[0]\n",
    "    dat[V.COL_FITCONDITIONNAME] = pd.Categorical(dat[V.COL_FITCONDITIONNAME], categories=C.FIL_LM_CLASSES)\n",
    "    \n",
    "    return dat[[V.COL_FITCONDITIONNAME, V.COL_OBJID]]"
   ]
  },
  {
   "cell_type": "code",
   "execution_count": null,
   "metadata": {},
   "outputs": [],
   "source": [
    "dat_fitcond = get_fitcond(dat_cond.merge(dat_constructs).merge(dat_obj))\n",
    "dat_fitcond[db.object_filters.filter_value.key] = dat_fitcond[V.COL_FITCONDITIONNAME].cat.codes"
   ]
  },
  {
   "cell_type": "code",
   "execution_count": null,
   "metadata": {},
   "outputs": [],
   "source": [
    "fil = dat_fitcond[V.COL_FITCONDITIONNAME].cat.codes == 0\n",
    "dat_fitcond.loc[fil]"
   ]
  },
  {
   "cell_type": "code",
   "execution_count": null,
   "metadata": {},
   "outputs": [],
   "source": []
  },
  {
   "cell_type": "code",
   "execution_count": null,
   "metadata": {},
   "outputs": [],
   "source": [
    "bro.filters.objectfilterlib.write_filter_to_db(dat_fitcond, C.FIL_LM)"
   ]
  },
  {
   "cell_type": "markdown",
   "metadata": {},
   "outputs": [],
   "source": [
    "Same but in this filter all FLAGS are 'ctrl' cells"
   ]
  },
  {
   "cell_type": "code",
   "execution_count": null,
   "metadata": {},
   "outputs": [],
   "source": []
  },
  {
   "cell_type": "code",
   "execution_count": null,
   "metadata": {},
   "outputs": [],
   "source": [
    "def get_fitcond(dat):\n",
    "    dat[V.COL_FITCONDITIONNAME] = C.FIL_LM_CLASSES[1] # ref\n",
    "    #fil = (((dat[V.COL_TAGGFP] == 1) & (dat[C.FIL_GFPPOS] == 0)) | \n",
    "    #       ((dat[V.COL_TAGFLAG] == 1) & (dat[C.FIL_GFPPOS] == 0) )|\n",
    "    #       ((dat[V.COL_TAGGFP] == 0) &(dat[V.COL_TAGFLAG] == 0)))\n",
    "    \n",
    "    fil = (((dat[V.COL_TAGGFP] == 1) & (dat[C.FIL_GFPPOSNB] > 0)))\n",
    "    \n",
    "    dat.loc[fil, V.COL_FITCONDITIONNAME] = C.FIL_LM_CLASSES[2]\n",
    "    \n",
    "    fil = (((dat[V.COL_TAGGFP] == 1) & (dat[C.FIL_GFPPOS] == 2)))\n",
    "    \n",
    "    dat.loc[fil, V.COL_FITCONDITIONNAME] = C.FIL_LM_CLASSES[3]\n",
    "    \n",
    "    fil = (((dat[V.COL_TAGGFP] == 1) & (dat[C.FIL_GFPPOS] == 1)) )\n",
    "    \n",
    "    dat.loc[fil, V.COL_FITCONDITIONNAME] = C.FIL_LM_CLASSES[0]\n",
    "    dat[V.COL_FITCONDITIONNAME] = pd.Categorical(dat[V.COL_FITCONDITIONNAME], categories=C.FIL_LM_CLASSES)\n",
    "    \n",
    "    return dat[[V.COL_FITCONDITIONNAME, V.COL_OBJID]]"
   ]
  },
  {
   "cell_type": "code",
   "execution_count": null,
   "metadata": {},
   "outputs": [],
   "source": [
    "dat_fitcond = get_fitcond(dat_cond.merge(dat_constructs).merge(dat_obj))\n",
    "dat_fitcond[db.object_filters.filter_value.key] = dat_fitcond[V.COL_FITCONDITIONNAME].cat.codes"
   ]
  },
  {
   "cell_type": "code",
   "execution_count": null,
   "metadata": {},
   "outputs": [],
   "source": [
    "fil = dat_fitcond[V.COL_FITCONDITIONNAME].cat.codes == 0\n",
    "dat_fitcond.loc[fil]"
   ]
  },
  {
   "cell_type": "code",
   "execution_count": null,
   "metadata": {},
   "outputs": [],
   "source": [
    "bro.filters.objectfilterlib.write_filter_to_db(dat_fitcond, C.FIL_LM_ONEFLAG)"
   ]
  },
  {
   "cell_type": "code",
   "execution_count": null,
   "metadata": {},
   "outputs": [],
   "source": []
  },
  {
   "cell_type": "markdown",
   "metadata": {},
   "outputs": [],
   "source": [
    "Same but in this filter all cells are 'ctrl' cells"
   ]
  },
  {
   "cell_type": "code",
   "execution_count": null,
   "metadata": {},
   "outputs": [],
   "source": []
  },
  {
   "cell_type": "code",
   "execution_count": null,
   "metadata": {},
   "outputs": [],
   "source": [
    "def get_fitcond(dat):\n",
    "    dat[V.COL_FITCONDITIONNAME] =  C.FIL_LM_CLASSES[1]\n",
    "    dat[V.COL_FITCONDITIONNAME] = pd.Categorical(dat[V.COL_FITCONDITIONNAME], categories=C.FIL_LM_CLASSES)\n",
    "    \n",
    "    return dat[[V.COL_FITCONDITIONNAME, V.COL_OBJID]]"
   ]
  },
  {
   "cell_type": "code",
   "execution_count": null,
   "metadata": {},
   "outputs": [],
   "source": [
    "dat_fitcond = get_fitcond(dat_cond.merge(dat_constructs).merge(dat_obj))\n",
    "dat_fitcond[db.object_filters.filter_value.key] = dat_fitcond[V.COL_FITCONDITIONNAME].cat.codes"
   ]
  },
  {
   "cell_type": "code",
   "execution_count": null,
   "metadata": {},
   "outputs": [],
   "source": [
    "fil = dat_fitcond[V.COL_FITCONDITIONNAME].cat.codes == 0\n",
    "dat_fitcond.loc[fil]"
   ]
  },
  {
   "cell_type": "code",
   "execution_count": null,
   "metadata": {
    "pycharm": {
     "name": "#%%\n"
    }
   },
   "outputs": [],
   "source": [
    "bro.filters.objectfilterlib.write_filter_to_db(dat_fitcond, C.FIL_LM_ALLCTRL)"
   ]
  }
 ],
 "metadata": {
  "jupytext": {
   "text_representation": {
    "extension": ".py",
    "format_name": "percent",
    "format_version": "1.3",
    "jupytext_version": "1.3.4"
   }
  },
  "kernelspec": {
   "display_name": "Python 3",
   "language": "python",
   "name": "python3"
  },
  "language_info": {
   "codemirror_mode": {
    "name": "ipython",
    "version": 3
   },
   "file_extension": ".py",
   "mimetype": "text/x-python",
   "name": "python",
   "nbconvert_exporter": "python",
   "pygments_lexer": "ipython3",
   "version": "3.8.5"
  }
 },
 "nbformat": 4,
 "nbformat_minor": 4
}
