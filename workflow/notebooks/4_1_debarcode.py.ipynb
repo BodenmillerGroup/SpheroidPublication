{
 "cells": [
  {
   "cell_type": "code",
   "execution_count": null,
   "metadata": {},
   "outputs": [],
   "source": [
    "sm = snakemake"
   ]
  },
  {
   "cell_type": "code",
   "execution_count": null,
   "metadata": {},
   "outputs": [],
   "source": [
    "import spherpro.bro as spb\n",
    "import spherpro.db as db\n",
    "\n",
    "import pandas as pd\n",
    "import pathlib\n",
    "import sqlalchemy as sa\n",
    "\n",
    "import numpy as np"
   ]
  },
  {
   "cell_type": "markdown",
   "metadata": {},
   "outputs": [],
   "source": [
    "## Applies debarcoding"
   ]
  },
  {
   "cell_type": "raw",
   "metadata": {},
   "outputs": [],
   "source": [
    "from src.config import Conf as C\n",
    "\n"
   ]
  },
  {
   "cell_type": "code",
   "execution_count": null,
   "metadata": {},
   "outputs": [],
   "source": [
    "C = sm.input"
   ]
  },
  {
   "cell_type": "code",
   "execution_count": null,
   "metadata": {},
   "outputs": [],
   "source": [
    "bro = spb.get_bro(C.fn_config, readonly=False)"
   ]
  },
  {
   "cell_type": "code",
   "execution_count": null,
   "metadata": {},
   "outputs": [],
   "source": [
    "n_img = bro.session.query(db.valid_images.image_id).count()\n",
    "n_obj = (bro.session.query(db.valid_objects.object_id)\n",
    "            .join(db.objects)\n",
    "            .filter(db.objects.object_type == 'cell').count())\n",
    "\n",
    "\n",
    "print(n_img, n_obj)"
   ]
  },
  {
   "cell_type": "code",
   "execution_count": null,
   "metadata": {},
   "outputs": [],
   "source": [
    "%matplotlib inline"
   ]
  },
  {
   "cell_type": "code",
   "execution_count": null,
   "metadata": {},
   "outputs": [],
   "source": [
    "%%time\n",
    "p = bro.processing.debarcode.plot_histograms(dist=30,\n",
    "                                             stack='FullStackFiltered',\n",
    "                                             measurement_name='MeanIntensityComp',\n",
    "                                            transform='np.log10(value+0.01)')\n",
    "\n",
    "print(p)"
   ]
  },
  {
   "cell_type": "code",
   "execution_count": null,
   "metadata": {},
   "outputs": [],
   "source": [
    "%%time\n",
    "bro.processing.debarcode.debarcode(dist=30,\n",
    "                                   stack='FullStackFiltered',\n",
    "                                   measurement_name='MeanIntensityComp',\n",
    "                                   #bc_treshs=manual_co\n",
    "                                   transform=lambda x: np.log10(x+0.01)\n",
    "                                  )"
   ]
  },
  {
   "cell_type": "code",
   "execution_count": null,
   "metadata": {},
   "outputs": [],
   "source": [
    "%matplotlib inline"
   ]
  },
  {
   "cell_type": "code",
   "execution_count": null,
   "metadata": {},
   "outputs": [],
   "source": [
    "%%time\n",
    "bro.plots.debarcoedequality.quality_plot()"
   ]
  },
  {
   "cell_type": "markdown",
   "metadata": {},
   "outputs": [],
   "source": [
    "This will delete not (clearly) debarcoded spheres"
   ]
  },
  {
   "cell_type": "code",
   "execution_count": null,
   "metadata": {},
   "outputs": [],
   "source": [
    "q_debar=(bro.data.main_session.query(db.images.image_id\n",
    "                                )\n",
    "     .filter(sa.and_(db.images.bc_highest_count > 10,db.images.bc_highest_count/(db.images.bc_second_count+1) > 2 ))\n",
    "    ).subquery()\n",
    "stmt = bro.session.query(db.valid_images).filter(sa.not_(db.valid_images.image_id.in_(q_debar)))"
   ]
  },
  {
   "cell_type": "code",
   "execution_count": null,
   "metadata": {},
   "outputs": [],
   "source": [
    "print(f'{stmt.count()} sphere sections not unambiguously debarcoded')"
   ]
  },
  {
   "cell_type": "code",
   "execution_count": null,
   "metadata": {},
   "outputs": [],
   "source": [
    "stmt.delete(synchronize_session='fetch')\n",
    "bro.session.commit()"
   ]
  },
  {
   "cell_type": "code",
   "execution_count": null,
   "metadata": {},
   "outputs": [],
   "source": [
    "n_cond = (bro.session.query(db.conditions.condition_id)\n",
    "            .join(db.images)\n",
    "             .join(db.valid_images)\n",
    "              .group_by(db.conditions.condition_id).count())\n",
    "n_img = bro.session.query(db.valid_images.image_id).count()\n",
    "n_obj = (bro.session.query(db.valid_objects.object_id)\n",
    "            .join(db.objects)\n",
    "            .filter(db.objects.object_type == 'cell').count())\n",
    "\n",
    "\n",
    "\n",
    "\n",
    "print(n_cond,n_img, n_obj)"
   ]
  },
  {
   "cell_type": "raw",
   "metadata": {},
   "outputs": [],
   "source": [
    "c = bro.session.query(db.images.condition_id, sa.func.count()).group_by(db.images.condition_id).join(db.valid_images).all()\n",
    "print(len(c))\n",
    "c"
   ]
  },
  {
   "cell_type": "code",
   "execution_count": null,
   "metadata": {},
   "outputs": [],
   "source": []
  },
  {
   "cell_type": "markdown",
   "metadata": {},
   "outputs": [],
   "source": [
    "This plots 10 random spheres"
   ]
  },
  {
   "cell_type": "code",
   "execution_count": null,
   "metadata": {},
   "outputs": [],
   "source": [
    "import matplotlib.pyplot as plt\n",
    "import random\n",
    "import colorcet\n",
    "from matplotlib_scalebar.scalebar import ScaleBar\n",
    "\n",
    "def add_scalebar(\n",
    "    ax, resolution=0.000001, location=4, color=\"white\", pad=0.5, frameon=False, fixed_value=None, **kwargs\n",
    "):\n",
    "    scalebar = ScaleBar(\n",
    "        resolution, location=location, color=color, pad=pad, frameon=frameon,fixed_value=fixed_value, **kwargs\n",
    "    )  # 1 pixel = 0.2 meter\n",
    "    ax.add_artist(scalebar)\n",
    "\n",
    "n=10\n",
    "ids = [c[0] for c in  bro.session.query(db.valid_images.image_id).all()]\n",
    "\n",
    "random.seed(234)\n",
    "random.shuffle(ids)\n",
    "\n",
    "fig, axs = plt.subplots(ncols=n)\n",
    "for i, (imid, ax) in enumerate(zip(ids, axs)):\n",
    "    has_cb = i == (n-1)\n",
    "    bro.plots.debarcoededcells.plot_debarcoded_cells(imid, ax=ax, colorbar=has_cb,\n",
    "                                                     base_colormap=colorcet.glasbey_dark,\n",
    "                                                     color_invalid='white',\n",
    "                                                     cmap_mask='Greys',\n",
    "                                                     cmap_mask_alpha=0.6\n",
    "                                                )\n",
    "    add_scalebar(ax, fixed_value=0.00005, label_formatter=lambda value, unit: '',\n",
    "                height_fraction=0.05)\n",
    "fig.set_figwidth(30)"
   ]
  },
  {
   "cell_type": "code",
   "execution_count": null,
   "metadata": {},
   "outputs": [],
   "source": [
    "fig.savefig('./results/figures/subfig_example_debarcoded.pdf', dpi=800)"
   ]
  },
  {
   "cell_type": "code",
   "execution_count": null,
   "metadata": {},
   "outputs": [],
   "source": [
    "fig.savefig('./results/figures/subfig_example_debarcoded.svg', dpi=800)"
   ]
  },
  {
   "cell_type": "code",
   "execution_count": null,
   "metadata": {},
   "outputs": [],
   "source": []
  }
 ],
 "metadata": {
  "jupytext": {
   "text_representation": {
    "extension": ".py",
    "format_name": "percent",
    "format_version": "1.3",
    "jupytext_version": "1.3.4"
   }
  },
  "kernelspec": {
   "display_name": "Python 3",
   "language": "python",
   "name": "python3"
  },
  "language_info": {
   "codemirror_mode": {
    "name": "ipython",
    "version": 3
   },
   "file_extension": ".py",
   "mimetype": "text/x-python",
   "name": "python",
   "nbconvert_exporter": "python",
   "pygments_lexer": "ipython3",
   "version": "3.7.7"
  }
 },
 "nbformat": 4,
 "nbformat_minor": 4
}
