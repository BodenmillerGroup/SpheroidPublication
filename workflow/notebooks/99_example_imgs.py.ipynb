{
 "cells": [
  {
   "cell_type": "code",
   "execution_count": null,
   "metadata": {},
   "outputs": [],
   "source": [
    "sm = snakemake"
   ]
  },
  {
   "cell_type": "code",
   "execution_count": null,
   "metadata": {},
   "outputs": [],
   "source": [
    "import spherpro.bro as sb\n",
    "import spherpro.db as db\n",
    "\n",
    "import pandas as pd\n",
    "import numpy as np\n",
    "import matplotlib.pyplot as plt\n",
    "import matplotlib as mpl\n",
    "import plotnine as gg\n",
    "\n",
    "import pathlib\n",
    "\n",
    "%matplotlib inline"
   ]
  },
  {
   "cell_type": "code",
   "execution_count": null,
   "metadata": {},
   "outputs": [],
   "source": [
    "from src.variables import Vars as V\n",
    "from src.config import Conf as C"
   ]
  },
  {
   "cell_type": "code",
   "execution_count": null,
   "metadata": {},
   "outputs": [],
   "source": [
    "import spherpro.bromodules.plot_condition_images as pci\n",
    "import spherpro.bromodules.plot_image as plot_image\n",
    "from src.plots.plot_ad_image import AnndataImagePlotter"
   ]
  },
  {
   "cell_type": "markdown",
   "metadata": {},
   "outputs": [],
   "source": [
    "## Aim\n",
    "\n",
    "Show example images of apoptosis for all conditions"
   ]
  },
  {
   "cell_type": "markdown",
   "metadata": {},
   "outputs": [],
   "source": [
    "## 0) Setup configuration and bro"
   ]
  },
  {
   "cell_type": "code",
   "execution_count": null,
   "metadata": {},
   "outputs": [],
   "source": [
    "C.fn_config = sm.input.fn_config\n",
    "C.fol_paper = pathlib.Path(sm.output.fol_plots)"
   ]
  },
  {
   "cell_type": "code",
   "execution_count": null,
   "metadata": {},
   "outputs": [],
   "source": [
    "C.conds_plots = ['TNF_GFP-FLAG','TNFRSF1A_GFP-FLAG',\n",
    "                'GFP_nan']\n",
    "C.channel_name_parp = 'Yb174'\n",
    "C.channel_name_casp = 'Yb172'\n",
    "C.channel_name_gfp = 'Tm169'\n",
    "C.channels_apoptosis = [C.channel_name_parp, C.channel_name_casp ]\n",
    "C.default_meas = 'MeanIntensityComp'\n",
    "C.default_stack = 'FullStackFiltered'\n",
    "C.default_transform = lambda x: np.log10(x+0.1)\n"
   ]
  },
  {
   "cell_type": "code",
   "execution_count": null,
   "metadata": {},
   "outputs": [],
   "source": [
    "C.fol_paper.mkdir(exist_ok=True)"
   ]
  },
  {
   "cell_type": "code",
   "execution_count": null,
   "metadata": {},
   "outputs": [],
   "source": [
    "bro = sb.get_bro(C.fn_config)"
   ]
  },
  {
   "cell_type": "markdown",
   "metadata": {},
   "outputs": [],
   "source": [
    "## 1) Analysis"
   ]
  },
  {
   "cell_type": "markdown",
   "metadata": {},
   "outputs": [],
   "source": [
    "Plot cleaved Parp/Caspase/Classifier for"
   ]
  },
  {
   "cell_type": "code",
   "execution_count": null,
   "metadata": {},
   "outputs": [],
   "source": [
    "bpci = pci.PlotConditionImages(bro)\n",
    "ap = AnndataImagePlotter(bro)"
   ]
  },
  {
   "cell_type": "markdown",
   "metadata": {},
   "outputs": [],
   "source": [
    "Get class"
   ]
  },
  {
   "cell_type": "code",
   "execution_count": null,
   "metadata": {},
   "outputs": [],
   "source": [
    "dat_fil = bro.doquery(bro.session.query(db.object_filters, db.objects.object_number,\n",
    "                                       db.objects.image_id, db.conditions.condition_name)\n",
    "                     .join(db.object_filter_names)\n",
    "                      .join(db.objects)\n",
    "                      .join(db.images)\n",
    "                      .join(db.conditions)\n",
    "                      .filter(db.conditions.condition_name.in_(C.conds_plots))\n",
    "                     .filter(db.object_filter_names.object_filter_name ==  'modelfitcondflag_v1'))"
   ]
  },
  {
   "cell_type": "code",
   "execution_count": null,
   "metadata": {},
   "outputs": [],
   "source": [
    "dat_fil"
   ]
  },
  {
   "cell_type": "code",
   "execution_count": null,
   "metadata": {},
   "outputs": [],
   "source": [
    "figs = []\n",
    "for m in [C.channel_name_parp]:\n",
    "    for c in C.conds_plots:\n",
    "        figs.append(bpci.plot_hm_conditions(c, m, measurement_name=C.default_meas, transf=C.default_transform))"
   ]
  },
  {
   "cell_type": "raw",
   "metadata": {},
   "outputs": [],
   "source": [
    "# Consider adding to the filter bro\n",
    "q = (bro.session.query(db.object_filters,\n",
    "                   db.object_filter_names.object_filter_name,\n",
    "                      db.images.image_id,\n",
    "                      db.objects.object_number)\n",
    "    .join(db.object_filter_names)\n",
    "     .join(db.objects)\n",
    "     .join(db.valid_objects)\n",
    "     .join(db.images)\n",
    "     .filter(db.object_filter_names.object_filter_name.in_([V.FIL_MITOSIS,\n",
    "                                        V.FIL_APOPTOSIS]))\n",
    ")\n",
    "dat_fil_state = (bro.doquery(q)\n",
    "           .pivot_table(values=V.COL_FILTERVAL, index=[V.COL_OBJID, V.COL_IMGID,\n",
    "                                                       db.objects.object_number.key],\n",
    "                        columns=db.object_filter_names.object_filter_name.key)\n",
    "           .reset_index()\n",
    "          )"
   ]
  },
  {
   "cell_type": "markdown",
   "metadata": {},
   "outputs": [],
   "source": [
    "Select spheres:\n"
   ]
  },
  {
   "cell_type": "code",
   "execution_count": null,
   "metadata": {},
   "outputs": [],
   "source": [
    "C.exp_img_yap = 1140\n",
    "C.exp_img_tnf = 1009\n",
    "C.exp_img_tnfr = 376\n",
    "C.exp_img_gfp = 161\n",
    "\n",
    "C.exp_imgs = [\n",
    "    C.exp_img_tnf,\n",
    "    C.exp_img_tnfr,\n",
    "    C.exp_img_gfp\n",
    "             ]\n",
    "C.exp_imgs_labels = C.conds_plots"
   ]
  },
  {
   "cell_type": "code",
   "execution_count": null,
   "metadata": {},
   "outputs": [],
   "source": [
    "\n",
    "def plot_examples(chan, cmap=plt.cm.viridis):\n",
    "    fig, axs = plt.subplots(1,len(C.exp_imgs), figsize=(10,2))\n",
    "    for i, ax, t in zip(C.exp_imgs, axs.flatten(), C.exp_imgs_labels):\n",
    "        cond = (bro.session.query(db.conditions.condition_name)\n",
    "                .join(db.images)\n",
    "                .filter(db.images.image_id == i).one()[0]\n",
    "               ).split('_')\n",
    "        tit = ' '.join(cond)\n",
    "        bro.plots.heatmask.plt_heatplot([i], stat=C.default_meas,\n",
    "                                        stack=C.default_stack, channel=chan, ax=ax, colorbar=i == C.exp_imgs[-1],\n",
    "                                       transform_fkt=C.default_transform, title=tit, censor_max=1,\n",
    "                                       cmap=cmap, bad_color='k')\n",
    "        plot_image.add_scalebar(ax)\n",
    "\n",
    "    plot_image.add_scalebar(axs[0])\n",
    "    plot_image.adapt_ax_clims(axs.flatten())\n",
    "    return fig\n",
    "\n",
    "def plot_examples_raw(chan, cmap='plasma'):\n",
    "    plane_id = bro.helpers.dbhelp.get_plane_id('FullStackComp', chan)\n",
    "    \n",
    "    fig, axs = plt.subplots(1,len(C.exp_imgs), figsize=(10,2))\n",
    "    for i, ax, t in zip(C.exp_imgs, axs.flatten(), C.exp_imgs_labels):\n",
    "        cond = (bro.session.query(db.conditions.condition_name)\n",
    "                .join(db.images)\n",
    "                .filter(db.images.image_id == i).one()[0]\n",
    "               ).split('_')\n",
    "        tit = ' '.join(cond)\n",
    "        mask = bro.io.masks.get_mask(i, 'cell')\n",
    "\n",
    "        #bro.plots.heatmask.plt_heatplot([i], stat=C.default_meas,\n",
    "        #                                stack=C.default_stack, channel=chan, ax=ax, colorbar=i == C.exp_imgs[-1],\n",
    "        #                               transform_fkt=C.default_transform, title=tit, censor_max=1,\n",
    "        #                               cmap=plt.cm.viridis, bad_color='k')\n",
    "        ap._plot_imc(plane_id, i, ax=ax, cmap=cmap, sigma=0)\n",
    "        ax.set_title(t)\n",
    "        plot_image.add_scalebar(ax)\n",
    "        ax.axis('off')\n",
    "        ap._add_raw_contour(mask, ax=ax)\n",
    "        \n",
    "    plt.colorbar(ax.get_images()[0])\n",
    "    plot_image.add_scalebar(axs[0])\n",
    "    plot_image.adapt_ax_clims(axs.flatten())\n",
    "    fig.set_dpi(300)\n",
    "    return fig\n",
    "\n",
    "def add_fils(fig, oexp_only=True):\n",
    "    for ax, imid in zip(fig.axes, C.exp_imgs):\n",
    "        mask = bro.io.masks.get_mask(imid, 'cell')\n",
    "        tdat = dat_fil.query(f'{db.objects.image_id.key}=={imid}')\n",
    "        if oexp_only:\n",
    "            tdat = tdat.query(f'{db.object_filters.filter_value.key} == 3')\n",
    "        val = tdat[db.object_filters.filter_value.key]\n",
    "        objnr = tdat[db.objects.object_number.key]\n",
    "        ap._add_contour(mask, val, objnr=objnr, ax=ax,\n",
    "                        cmap=['red','lightyellow', 'blue', 'white'],\n",
    "                     linestyles='-', linewidths=0.5)\n",
    "    fig.set_dpi(300)\n",
    "    return fig\n",
    "\n",
    "def add_ax_classes(ax, imid):\n",
    "    mask = bro.io.masks.get_mask(imid, 'cell')\n",
    "    tdat = dat_fil.query(f'{db.objects.image_id.key}=={imid}')\n",
    "    val = tdat[db.object_filters.filter_value.key]\n",
    "    objnr = tdat[db.objects.object_number.key]\n",
    "    ap._add_contour(mask, val, objnr=objnr, ax=ax,\n",
    "                    cmap=['red','lightyellow', 'blue', 'white'],\n",
    "                 linestyles='-', linewidths=0.5)\n",
    "    return ax"
   ]
  },
  {
   "cell_type": "code",
   "execution_count": null,
   "metadata": {},
   "outputs": [],
   "source": [
    "fig_parp = plot_examples(C.channel_name_parp)"
   ]
  },
  {
   "cell_type": "code",
   "execution_count": null,
   "metadata": {},
   "outputs": [],
   "source": [
    "fig_raw = plot_examples_raw(C.channel_name_parp)\n"
   ]
  },
  {
   "cell_type": "code",
   "execution_count": null,
   "metadata": {},
   "outputs": [],
   "source": []
  },
  {
   "cell_type": "code",
   "execution_count": null,
   "metadata": {},
   "outputs": [],
   "source": [
    "add_fils(fig_raw)\n",
    "fig_raw.savefig(C.fol_paper / 'supfig_apoptosis_img_parp.pdf',transparent=True)\n",
    "fig_raw"
   ]
  },
  {
   "cell_type": "code",
   "execution_count": null,
   "metadata": {},
   "outputs": [],
   "source": []
  },
  {
   "cell_type": "code",
   "execution_count": null,
   "metadata": {},
   "outputs": [],
   "source": [
    "fig_parp = plot_examples(C.channel_name_parp)\n",
    "fig_parp.savefig(C.fol_paper / 'supfig_apoptosis_parp.pdf',transparent=True)\n"
   ]
  },
  {
   "cell_type": "code",
   "execution_count": null,
   "metadata": {},
   "outputs": [],
   "source": [
    "plt.show(fig_parp)\n",
    "add_fils(fig_parp)\n",
    "fig_parp.savefig(C.fol_paper / 'supfig_apoptosis_parp_classes.pdf',transparent=True)\n",
    "fig_parp"
   ]
  },
  {
   "cell_type": "code",
   "execution_count": null,
   "metadata": {},
   "outputs": [],
   "source": []
  },
  {
   "cell_type": "code",
   "execution_count": null,
   "metadata": {},
   "outputs": [],
   "source": [
    "fig_casp = plot_examples(C.channel_name_casp)"
   ]
  },
  {
   "cell_type": "code",
   "execution_count": null,
   "metadata": {},
   "outputs": [],
   "source": [
    "fig_casp.savefig(C.fol_paper / 'supfig_apoptosis_casp.pdf',transparent=True)"
   ]
  },
  {
   "cell_type": "code",
   "execution_count": null,
   "metadata": {},
   "outputs": [],
   "source": []
  },
  {
   "cell_type": "code",
   "execution_count": null,
   "metadata": {},
   "outputs": [],
   "source": []
  },
  {
   "cell_type": "code",
   "execution_count": null,
   "metadata": {},
   "outputs": [],
   "source": [
    "add_fils(fig_casp)"
   ]
  },
  {
   "cell_type": "code",
   "execution_count": null,
   "metadata": {},
   "outputs": [],
   "source": [
    "fig_raw = plot_examples_raw('Nd144')\n",
    "add_fils(fig_raw)"
   ]
  },
  {
   "cell_type": "code",
   "execution_count": null,
   "metadata": {},
   "outputs": [],
   "source": [
    "fig_raw = plot_examples_raw('Sm154')\n",
    "add_fils(fig_raw)"
   ]
  },
  {
   "cell_type": "code",
   "execution_count": null,
   "metadata": {},
   "outputs": [],
   "source": [
    "fig_raw = plot_examples_raw('Nd143')\n",
    "add_fils(fig_raw)"
   ]
  },
  {
   "cell_type": "code",
   "execution_count": null,
   "metadata": {},
   "outputs": [],
   "source": [
    "fig_raw = plot_examples('Nd143')\n",
    "add_fils(fig_raw)"
   ]
  },
  {
   "cell_type": "code",
   "execution_count": null,
   "metadata": {},
   "outputs": [],
   "source": [
    "fig_raw = plot_examples_raw(C.channel_name_gfp)\n",
    "add_fils(fig_raw)"
   ]
  },
  {
   "cell_type": "code",
   "execution_count": null,
   "metadata": {},
   "outputs": [],
   "source": [
    "f= plot_examples('Dy163')\n",
    "add_fils(f)"
   ]
  },
  {
   "cell_type": "code",
   "execution_count": null,
   "metadata": {},
   "outputs": [],
   "source": [
    "bpci.plot_hm_conditions(C.conds_plots[0], 'Yb171', measurement_name=C.default_meas, transf=C.default_transform)"
   ]
  },
  {
   "cell_type": "code",
   "execution_count": null,
   "metadata": {},
   "outputs": [],
   "source": [
    "bpci.plot_hm_conditions(C.conds_plots[2], 'Yb171', measurement_name=C.default_meas, transf=C.default_transform)"
   ]
  },
  {
   "cell_type": "code",
   "execution_count": null,
   "metadata": {},
   "outputs": [],
   "source": [
    "h=bro.helpers.anndata.HelpersAnndata(bro)"
   ]
  },
  {
   "cell_type": "code",
   "execution_count": null,
   "metadata": {
    "pycharm": {
     "name": "#%%\n"
    }
   },
   "outputs": [],
   "source": []
  },
  {
   "cell_type": "code",
   "execution_count": null,
   "metadata": {
    "pycharm": {
     "name": "#%%\n"
    }
   },
   "outputs": [],
   "source": [
    "def plot_raw_img(imgid, chan, cmap='Greys_r', figsize=(2,2)):\n",
    "    i = imgid\n",
    "    plane_id = bro.helpers.dbhelp.get_plane_id('FullStackComp', chan)\n",
    "    \n",
    "    fig, ax = plt.subplots(1,1, figsize=figsize)\n",
    "    cond = (bro.session.query(db.conditions.condition_name)\n",
    "            .join(db.images)\n",
    "            .filter(db.images.image_id == i).one()[0]\n",
    "           ).split('_')\n",
    "    tit = ' '.join(cond)\n",
    "    mask = bro.io.masks.get_mask(i, 'cell')\n",
    "\n",
    "    #bro.plots.heatmask.plt_heatplot([i], stat=C.default_meas,\n",
    "    #                                stack=C.default_stack, channel=chan, ax=ax, colorbar=i == C.exp_imgs[-1],\n",
    "    #                               transform_fkt=C.default_transform, title=tit, censor_max=1,\n",
    "    #                               cmap=plt.cm.viridis, bad_color='k')\n",
    "    ap._plot_imc(plane_id, i, ax=ax, cmap=cmap, sigma=0)\n",
    "    #ax.set_title(t)\n",
    "    plot_image.add_scalebar(ax)\n",
    "    ax.axis('off')\n",
    "    ap._add_raw_contour(mask, ax=ax)\n",
    "    return ax "
   ]
  },
  {
   "cell_type": "code",
   "execution_count": null,
   "metadata": {
    "pycharm": {
     "name": "#%%\n"
    }
   },
   "outputs": [],
   "source": [
    "ax = plot_raw_img(C.exp_img_gfp, C.channel_name_gfp)\n",
    "add_ax_classes(ax, C.exp_img_gfp)\n",
    "fig = plt.gcf()\n",
    "fig.set_dpi(400)"
   ]
  },
  {
   "cell_type": "code",
   "execution_count": null,
   "metadata": {
    "pycharm": {
     "name": "#%%\n"
    }
   },
   "outputs": [],
   "source": [
    "fig_raw = plot_examples_raw(C.channel_name_gfp, cmap='Greys_r')\n",
    "add_fils(fig_raw, oexp_only=False)\n"
   ]
  },
  {
   "cell_type": "code",
   "execution_count": null,
   "metadata": {
    "pycharm": {
     "name": "#%%\n"
    }
   },
   "outputs": [],
   "source": [
    "fig_raw = plot_examples(C.channel_name_gfp, cmap=plt.cm.Greys_r)\n",
    "add_fils(fig_raw, oexp_only=False)\n"
   ]
  },
  {
   "cell_type": "code",
   "execution_count": null,
   "metadata": {},
   "outputs": [],
   "source": []
  },
  {
   "cell_type": "code",
   "execution_count": null,
   "metadata": {},
   "outputs": [],
   "source": [
    "def plot_raw_img(imgid, chan, cmap='Greys_r', figsize=(2,2)):\n",
    "    i = imgid\n",
    "    plane_id = bro.helpers.dbhelp.get_plane_id('FullStackComp', chan)\n",
    "    \n",
    "    fig, ax = plt.subplots(1,1, figsize=figsize)\n",
    "    cond = (bro.session.query(db.conditions.condition_name)\n",
    "            .join(db.images)\n",
    "            .filter(db.images.image_id == i).one()[0]\n",
    "           ).split('_')\n",
    "    tit = ' '.join(cond)\n",
    "    mask = bro.io.masks.get_mask(i, 'cell')\n",
    "\n",
    "    #bro.plots.heatmask.plt_heatplot([i], stat=C.default_meas,\n",
    "    #                                stack=C.default_stack, channel=chan, ax=ax, colorbar=i == C.exp_imgs[-1],\n",
    "    #                               transform_fkt=C.default_transform, title=tit, censor_max=1,\n",
    "    #                               cmap=plt.cm.viridis, bad_color='k')\n",
    "    ap._plot_imc(plane_id, i, ax=ax, cmap=cmap, sigma=0)\n",
    "    #ax.set_title(t)\n",
    "    plot_image.add_scalebar(ax)\n",
    "    ax.axis('off')\n",
    "    ap._add_raw_contour(mask, ax=ax)\n",
    "    return ax "
   ]
  },
  {
   "cell_type": "code",
   "execution_count": null,
   "metadata": {},
   "outputs": [],
   "source": [
    "ax = plot_raw_img(C.exp_img_gfp, C.channel_name_gfp)\n",
    "add_ax_classes(ax, C.exp_img_gfp)\n",
    "fig = plt.gcf()\n",
    "fig.set_dpi(400)"
   ]
  },
  {
   "cell_type": "code",
   "execution_count": null,
   "metadata": {},
   "outputs": [],
   "source": [
    "fig_raw = plot_examples_raw(C.channel_name_gfp, cmap='Greys_r')\n",
    "add_fils(fig_raw, oexp_only=False)\n"
   ]
  },
  {
   "cell_type": "code",
   "execution_count": null,
   "metadata": {},
   "outputs": [],
   "source": [
    "fig_raw = plot_examples(C.channel_name_gfp, cmap=plt.cm.Greys_r)\n",
    "add_fils(fig_raw, oexp_only=False)\n"
   ]
  },
  {
   "cell_type": "code",
   "execution_count": null,
   "metadata": {},
   "outputs": [],
   "source": []
  }
 ],
 "metadata": {
  "jupytext": {
   "text_representation": {
    "extension": ".py",
    "format_name": "percent",
    "format_version": "1.3",
    "jupytext_version": "1.3.4"
   }
  },
  "kernelspec": {
   "display_name": "Python 3",
   "language": "python",
   "name": "python3"
  },
  "language_info": {
   "codemirror_mode": {
    "name": "ipython",
    "version": 3
   },
   "file_extension": ".py",
   "mimetype": "text/x-python",
   "name": "python",
   "nbconvert_exporter": "python",
   "pygments_lexer": "ipython3",
   "version": "3.7.7"
  }
 },
 "nbformat": 4,
 "nbformat_minor": 4
}
