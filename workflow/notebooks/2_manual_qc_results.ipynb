{
 "cells": [
  {
   "cell_type": "code",
   "execution_count": null,
   "metadata": {},
   "outputs": [],
   "source": [
    "import pathlib\n",
    "import pandas as pd\n",
    "import re"
   ]
  },
  {
   "cell_type": "markdown",
   "metadata": {},
   "source": [
    "# Converts the manual QC results into a csv\n",
    "\n",
    "The well overviews from the `cpout_analysis` script were manually sorted into 'good' and other artifact folders.\n",
    "\n",
    "This script should read parse the folder and filename information."
   ]
  },
  {
   "cell_type": "code",
   "execution_count": null,
   "metadata": {},
   "outputs": [],
   "source": [
    "class C:\n",
    "    fol_in= pathlib.Path('/mnt/bbvolume//server_homes/vitoz/mnt/tmp/scratch/vitoz/Data/Analysis/20190311_bfanalyisis-bigoverexpression2_v1/plots')\n",
    "    fol_qc = fol_in/ 'qc'\n",
    "    fn_qc_csv = pathlib.Path('../figures/bfqc_manual_v1.csv')\n",
    "\n",
    "class V:\n",
    "    COL_QC = 'bf_qc'\n",
    "    classes_qc = ['good', 'maybe', 'double', 'hair']"
   ]
  },
  {
   "cell_type": "code",
   "execution_count": null,
   "metadata": {},
   "outputs": [],
   "source": [
    "list(C.fol_qc.glob('*'))"
   ]
  },
  {
   "cell_type": "code",
   "execution_count": null,
   "metadata": {},
   "outputs": [],
   "source": [
    "def get_meta_from_fn(fn):\n",
    "    re_fn = 'plate(?P<plate>[0-9]+)_well(?P<well>[A-Z][0-9]+)'\n",
    "    m=re.match(re_fn,fn)\n",
    "    return m.groupdict()\n",
    "    \n",
    "    "
   ]
  },
  {
   "cell_type": "code",
   "execution_count": null,
   "metadata": {},
   "outputs": [],
   "source": [
    "dat_qc = (pd.concat({qc_class:\n",
    "                    pd.DataFrame([get_meta_from_fn(fn.stem)\n",
    "                                  for fn in (C.fol_qc / qc_class).glob('*')\n",
    "                                 ])\n",
    "                    for qc_class in V.classes_qc\n",
    "                           },\n",
    "                   names=[V.COL_QC])\n",
    "          .reset_index(V.COL_QC)\n",
    "         )\n"
   ]
  },
  {
   "cell_type": "code",
   "execution_count": null,
   "metadata": {},
   "outputs": [],
   "source": [
    "dat_qc"
   ]
  },
  {
   "cell_type": "code",
   "execution_count": null,
   "metadata": {},
   "outputs": [],
   "source": [
    "dat_qc.groupby('plate')[V.COL_QC].value_counts()"
   ]
  },
  {
   "cell_type": "code",
   "execution_count": null,
   "metadata": {},
   "outputs": [],
   "source": [
    "dat_qc.to_csv(C.fn_qc_csv, index=False)"
   ]
  }
 ],
 "metadata": {
  "kernelspec": {
   "display_name": "spheroid_testenv",
   "language": "python",
   "name": "spheroid_testenv"
  },
  "language_info": {
   "codemirror_mode": {
    "name": "ipython",
    "version": 3
   },
   "file_extension": ".py",
   "mimetype": "text/x-python",
   "name": "python",
   "nbconvert_exporter": "python",
   "pygments_lexer": "ipython3",
   "version": "3.7.3"
  }
 },
 "nbformat": 4,
 "nbformat_minor": 4
}
