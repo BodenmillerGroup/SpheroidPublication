{
 "cells": [
  {
   "cell_type": "code",
   "execution_count": null,
   "metadata": {
    "tags": [
     "snakemake-job-properties"
    ]
   },
   "outputs": [],
   "source": [
    "\n",
    "######## snakemake preamble start (automatically inserted, do not edit) ########\n",
    "import sys; sys.path.extend(['/mnt/snakemake', '/net/cephfs/scratch/vizano/SpheroidPublication/subworkflows/phys_analysis/workflow/notebooks']); import pickle; snakemake = pickle.loads(b\"\\x80\\x04\\x95\\x1b\\x08\\x00\\x00\\x00\\x00\\x00\\x00\\x8c\\x10snakemake.script\\x94\\x8c\\tSnakemake\\x94\\x93\\x94)\\x81\\x94}\\x94(\\x8c\\x05input\\x94\\x8c\\x0csnakemake.io\\x94\\x8c\\nInputFiles\\x94\\x93\\x94)\\x81\\x94(\\x8c$resources/spherpro_config/config.yml\\x94\\x8c\\x16results/db/spherpro.db\\x94\\x8c\\x1fresults/db/cellsclassified.done\\x94\\x8c\\x1cresources/pannel_ordered.csv\\x94e}\\x94(\\x8c\\x06_names\\x94}\\x94(\\x8c\\tfn_config\\x94K\\x00N\\x86\\x94\\x8c\\x05fn_db\\x94K\\x01N\\x86\\x94\\x8c\\x05is_cc\\x94K\\x02N\\x86\\x94\\x8c\\x0cfn_panel_ord\\x94K\\x03N\\x86\\x94u\\x8c\\x12_allowed_overrides\\x94]\\x94(\\x8c\\x05index\\x94\\x8c\\x04sort\\x94eh\\x1b\\x8c\\tfunctools\\x94\\x8c\\x07partial\\x94\\x93\\x94h\\x06\\x8c\\x19Namedlist._used_attribute\\x94\\x93\\x94\\x85\\x94R\\x94(h!)}\\x94\\x8c\\x05_name\\x94h\\x1bsNt\\x94bh\\x1ch\\x1fh!\\x85\\x94R\\x94(h!)}\\x94h%h\\x1csNt\\x94bh\\x11h\\nh\\x13h\\x0bh\\x15h\\x0ch\\x17h\\rub\\x8c\\x06output\\x94h\\x06\\x8c\\x0bOutputFiles\\x94\\x93\\x94)\\x81\\x94\\x8c\\x1eresults/figures/apoptosis_imgs\\x94a}\\x94(h\\x0f}\\x94\\x8c\\x07fol_out\\x94K\\x00N\\x86\\x94sh\\x19]\\x94(h\\x1bh\\x1ceh\\x1bh\\x1fh!\\x85\\x94R\\x94(h!)}\\x94h%h\\x1bsNt\\x94bh\\x1ch\\x1fh!\\x85\\x94R\\x94(h!)}\\x94h%h\\x1csNt\\x94bh2h/ub\\x8c\\x06params\\x94h\\x06\\x8c\\x06Params\\x94\\x93\\x94)\\x81\\x94}\\x94(h\\x0f}\\x94h\\x19]\\x94(h\\x1bh\\x1ceh\\x1bh\\x1fh!\\x85\\x94R\\x94(h!)}\\x94h%h\\x1bsNt\\x94bh\\x1ch\\x1fh!\\x85\\x94R\\x94(h!)}\\x94h%h\\x1csNt\\x94bub\\x8c\\twildcards\\x94h\\x06\\x8c\\tWildcards\\x94\\x93\\x94)\\x81\\x94}\\x94(h\\x0f}\\x94h\\x19]\\x94(h\\x1bh\\x1ceh\\x1bh\\x1fh!\\x85\\x94R\\x94(h!)}\\x94h%h\\x1bsNt\\x94bh\\x1ch\\x1fh!\\x85\\x94R\\x94(h!)}\\x94h%h\\x1csNt\\x94bub\\x8c\\x07threads\\x94K\\x08\\x8c\\tresources\\x94h\\x06\\x8c\\tResources\\x94\\x93\\x94)\\x81\\x94(K\\x08K\\x01\\x8c\\x0332G\\x94\\x8c\\x0260\\x94e}\\x94(h\\x0f}\\x94(\\x8c\\x06_cores\\x94K\\x00N\\x86\\x94\\x8c\\x06_nodes\\x94K\\x01N\\x86\\x94\\x8c\\x03mem\\x94K\\x02N\\x86\\x94\\x8c\\x04time\\x94K\\x03N\\x86\\x94uh\\x19]\\x94(h\\x1bh\\x1ceh\\x1bh\\x1fh!\\x85\\x94R\\x94(h!)}\\x94h%h\\x1bsNt\\x94bh\\x1ch\\x1fh!\\x85\\x94R\\x94(h!)}\\x94h%h\\x1csNt\\x94bhdK\\x08hfK\\x01hhh`hjhaub\\x8c\\x03log\\x94h\\x06\\x8c\\x03Log\\x94\\x93\\x94)\\x81\\x94\\x8c\\x1flogs/99_apoptosis_imgs.py.ipynb\\x94a}\\x94(h\\x0f}\\x94\\x8c\\x08notebook\\x94K\\x00N\\x86\\x94sh\\x19]\\x94(h\\x1bh\\x1ceh\\x1bh\\x1fh!\\x85\\x94R\\x94(h!)}\\x94h%h\\x1bsNt\\x94bh\\x1ch\\x1fh!\\x85\\x94R\\x94(h!)}\\x94h%h\\x1csNt\\x94bh|hyub\\x8c\\x06config\\x94}\\x94(\\x8c\\x16cellprofiler_container\\x94\\x8c!docker://votti/cellprofiler:3.1.8\\x94\\x8c\\x12input_data_folders\\x94]\\x94\\x8c\\x0eresources/zips\\x94a\\x8c\\x11input_file_regexp\\x94\\x8c8.*20190(5|6|7)[0-9]+_p17(3|6)_slide[0-9]+_ac[0-9]_vz.zip\\x94\\x8c\\tcsv_panel\\x94\\x8c\\x11config/pannel.csv\\x94\\x8c\\x0fcsv_panel_metal\\x94\\x8c\\x05metal\\x94\\x8c\\x11csv_panel_ilastik\\x94\\x8c\\x07ilastik\\x94\\x8c\\x0ecsv_panel_full\\x94\\x8c\\x04full\\x94\\x8c\\x13csv_panel_sphereseg\\x94\\x8c\\tsphereseg\\x94\\x8c\\x0ccompensation\\x94}\\x94(\\x8c\\x10fns_compensation\\x94]\\x94(\\x8cG/mnt/imls-bod/Zoidberg_Data/20190618_bc126v1spillover_slide1_ac7_vz.zip\\x94\\x8cP/mnt/imls-bod/Zoidberg_Data/20190618_overexpressionv7spillover_slide1_ac3_vz.zip\\x94e\\x8c\\x0bfn_ss_panel\\x94\\x8c,resources/compensation_singlestain_panel.csv\\x94u\\x8c\\x14cellprofiler_plugins\\x94\\x8c)resources/cp_plugins/ImcPluginsCP/plugins\\x94\\x8c\\x11ilastik_container\\x94\\x8c/docker://ilastik/ilastik-from-binary:1.3.3post3\\x94\\x8c\\x0filastik_threads\\x94K\\x04\\x8c\\x0eilastik_mem_mb\\x94M\\x10'u\\x8c\\x04rule\\x94\\x8c\\x0eapoptosis_imgs\\x94\\x8c\\x0fbench_iteration\\x94N\\x8c\\tscriptdir\\x94\\x8c\\\\/net/cephfs/scratch/vizano/SpheroidPublication/subworkflows/phys_analysis/workflow/notebooks\\x94ub.\"); from snakemake.logging import logger; logger.printshellcmds = False; import os; os.chdir('/net/cephfs/scratch/vizano/SpheroidPublication/subworkflows/phys_analysis');\n",
    "######## snakemake preamble end #########\n"
   ]
  },
  {
   "cell_type": "code",
   "execution_count": null,
   "metadata": {},
   "outputs": [],
   "source": [
    "sm = snakemake"
   ]
  },
  {
   "cell_type": "code",
   "execution_count": null,
   "metadata": {},
   "outputs": [],
   "source": [
    "%load_ext autoreload\n",
    "%autoreload 2"
   ]
  },
  {
   "cell_type": "code",
   "execution_count": null,
   "metadata": {},
   "outputs": [],
   "source": [
    "import spherpro.bro as sb\n",
    "import spherpro.db as db\n",
    "\n",
    "import pandas as pd\n",
    "import numpy as np\n",
    "import matplotlib.pyplot as plt\n",
    "import matplotlib as mpl\n",
    "import plotnine as gg\n",
    "\n",
    "import pathlib\n",
    "\n",
    "import scanpy as sp\n",
    "\n",
    "%matplotlib inline"
   ]
  },
  {
   "cell_type": "code",
   "execution_count": null,
   "metadata": {},
   "outputs": [],
   "source": [
    "from src.variables import Vars as V\n",
    "from src.config import Conf as C"
   ]
  },
  {
   "cell_type": "code",
   "execution_count": null,
   "metadata": {},
   "outputs": [],
   "source": [
    "import spherpro.bromodules.plot_condition_images as pci\n",
    "import spherpro.bromodules.plot_image as plot_image"
   ]
  },
  {
   "cell_type": "markdown",
   "metadata": {},
   "source": [
    "## Aim\n",
    "\n",
    "Generate the images to compare apoptosis based on cleaved Parp in the largest spheres of the 96h timepoint."
   ]
  },
  {
   "cell_type": "markdown",
   "metadata": {},
   "source": [
    "## 0) Setup configuration and bro"
   ]
  },
  {
   "cell_type": "code",
   "execution_count": null,
   "metadata": {},
   "outputs": [],
   "source": [
    "C.fn_config = sm.input.fn_config\n",
    "C.fol_paper = pathlib.Path(sm.output.fol_out)"
   ]
  },
  {
   "cell_type": "code",
   "execution_count": null,
   "metadata": {},
   "outputs": [],
   "source": [
    "C.fol_paper.mkdir(exist_ok=True)"
   ]
  },
  {
   "cell_type": "code",
   "execution_count": null,
   "metadata": {},
   "outputs": [],
   "source": [
    "C.conds_plots = [f'{cl}_c{c}_tp{tp}'  for cl in [ 'HT-29', 'DLD-1', 'T-REx-293', 'T-47D'] for tp in ['96'] for c in ['1.0'] ]\n",
    "C.channel_name_parp = 'Yb174'\n",
    "C.channel_name_casp = 'Yb172'\n",
    "C.channels_apoptosis = [C.channel_name_parp, C.channel_name_casp ]\n",
    "C.default_meas = 'MeanIntensityComp'\n",
    "C.default_stack = 'FullStackFiltered'\n",
    "C.default_transform = lambda x: np.log10(x+0.1)"
   ]
  },
  {
   "cell_type": "code",
   "execution_count": null,
   "metadata": {},
   "outputs": [],
   "source": [
    "bro = sb.get_bro(C.fn_config)"
   ]
  },
  {
   "cell_type": "markdown",
   "metadata": {},
   "source": [
    "## 1) Analysis"
   ]
  },
  {
   "cell_type": "markdown",
   "metadata": {},
   "source": [
    "Plot cleaved Parp for all plot conditions to select suitable images."
   ]
  },
  {
   "cell_type": "code",
   "execution_count": null,
   "metadata": {},
   "outputs": [],
   "source": [
    "bpci = pci.PlotConditionImages(bro)"
   ]
  },
  {
   "cell_type": "code",
   "execution_count": null,
   "metadata": {},
   "outputs": [],
   "source": [
    "figs = []\n",
    "for m in [C.channel_name_parp]:\n",
    "    for c in C.conds_plots:\n",
    "        figs.append(bpci.plot_hm_conditions(c, m, measurement_name=C.default_meas, transf=C.default_transform))"
   ]
  },
  {
   "cell_type": "markdown",
   "metadata": {},
   "source": [
    "Select spheres:\n"
   ]
  },
  {
   "cell_type": "code",
   "execution_count": null,
   "metadata": {},
   "outputs": [],
   "source": [
    "C.exp_img_293 = 416\n",
    "C.exp_img_ht29 = 425\n",
    "C.exp_img_dld1 = 429\n",
    "C.exp_img_t47d = 415\n",
    "C.exp_imgs = [C.exp_img_ht29, C.exp_img_dld1, C.exp_img_293, C.exp_img_t47d]\n",
    "C.exp_imgs_labels = V.CAT_CELLLINE"
   ]
  },
  {
   "cell_type": "code",
   "execution_count": null,
   "metadata": {},
   "outputs": [],
   "source": [
    "def get_cond(img_id):\n",
    "    cond = (bro.session.query(db.conditions.condition_name)\n",
    "                .join(db.images)\n",
    "                .filter(db.images.image_id == img_id).one()[0]\n",
    "               )\n",
    "    return cond\n",
    "    "
   ]
  },
  {
   "cell_type": "code",
   "execution_count": null,
   "metadata": {},
   "outputs": [],
   "source": [
    "def plot_examples(chan):\n",
    "    fig, axs = plt.subplots(1,4, figsize=(10,2))\n",
    "    for i, ax, t in zip(C.exp_imgs, axs.flatten(), C.exp_imgs_labels):\n",
    "        tit = get_cond(i)\n",
    "        bro.plots.heatmask.plt_heatplot([i], stat=C.default_meas,\n",
    "                                        stack=C.default_stack, channel=chan, ax=ax, colorbar=i == C.exp_imgs[-1],\n",
    "                                       transform_fkt=C.default_transform, title=tit, censor_max=1)\n",
    "\n",
    "\n",
    "    plot_image.add_scalebar(axs[0])\n",
    "    plot_image.adapt_ax_clims(axs.flatten())\n",
    "    return fig"
   ]
  },
  {
   "cell_type": "code",
   "execution_count": null,
   "metadata": {},
   "outputs": [],
   "source": [
    "fig_parp = plot_examples(C.channel_name_parp)"
   ]
  },
  {
   "cell_type": "code",
   "execution_count": null,
   "metadata": {},
   "outputs": [],
   "source": [
    "fig_parp.savefig(C.fol_paper / 'supfig_apoptosis_parp.png',transparent=True)"
   ]
  },
  {
   "cell_type": "code",
   "execution_count": null,
   "metadata": {},
   "outputs": [],
   "source": [
    "fig_casp = plot_examples(C.channel_name_casp)"
   ]
  },
  {
   "cell_type": "code",
   "execution_count": null,
   "metadata": {},
   "outputs": [],
   "source": [
    "fig_parp.savefig(C.fol_paper / 'supfig_apoptosis_casp.png',transparent=True)"
   ]
  },
  {
   "cell_type": "code",
   "execution_count": null,
   "metadata": {},
   "outputs": [],
   "source": [
    "q_meas = (bro.data.get_measmeta_query()\n",
    "         .filter( db.ref_planes.channel_name.in_([C.channel_name_casp, C.channel_name_parp]))\n",
    "         .filter( db.stacks.stack_name == C.default_stack)\n",
    "         .filter( db.measurements.measurement_name == C.default_meas)\n",
    "          .add_columns(db.ref_stacks.scale)\n",
    "          .add_columns(db.ref_planes.channel_name)\n",
    "        )\n",
    "q_obj = (bro.data.get_objectmeta_query()\n",
    "        # .filter(db.images.image_id.in_(C.exp_imgs))\n",
    "         .join(db.conditions, db.images.condition_id==db.conditions.condition_id)\n",
    "         .filter(db.conditions.condition_name.in_(C.conds_plots))\n",
    "         .add_columns(db.conditions.condition_name)\n",
    "        )\n",
    "\n",
    "\n",
    "andat = bro.io.objmeasurements.get_measurements(q_meas=q_meas, q_obj=q_obj)\n",
    "bro.io.objmeasurements.scale_anndata(andat)\n",
    "andat.X = C.default_transform(andat.X)"
   ]
  },
  {
   "cell_type": "code",
   "execution_count": null,
   "metadata": {},
   "outputs": [],
   "source": [
    "andat.var_names = andat.var.channel_name\n",
    "andat.obs_names = andat.obs.condition_name"
   ]
  },
  {
   "cell_type": "code",
   "execution_count": null,
   "metadata": {},
   "outputs": [],
   "source": [
    "p = (andat.to_df().reset_index() >> \n",
    "     gg.ggplot(gg.aes(x=C.channel_name_casp, y=C.channel_name_parp))\n",
    "         + gg.facet_wrap(V.COL_CONDNAME)\n",
    "    # + gg.geom_point()\n",
    "    +gg.stat_bin2d(mapping=gg.aes(x=C.channel_name_casp, y=C.channel_name_parp), bins=300)\n",
    "    +gg.scale_fill_continuous(trans='log10')\n",
    "    +gg.xlab('Cleaved Caspase (Yb172) [log10(x+0.1)]')\n",
    "    +gg.ylab('Cleaved PARP (Yb174) [log10(x+0.1)]')\n",
    ")\n",
    "p"
   ]
  },
  {
   "cell_type": "code",
   "execution_count": null,
   "metadata": {},
   "outputs": [],
   "source": [
    "gg.ggsave(p, C.fol_paper / 'Caspase_vs_parp.png')"
   ]
  },
  {
   "cell_type": "code",
   "execution_count": null,
   "metadata": {},
   "outputs": [],
   "source": [
    "# Consider adding to the filter bro\n",
    "q = (bro.session.query(db.object_filters,\n",
    "                   db.object_filter_names.object_filter_name,\n",
    "                      db.images.image_id,\n",
    "                      db.objects.object_number)\n",
    "    .join(db.object_filter_names)\n",
    "     .join(db.objects)\n",
    "     .join(db.images)\n",
    "     .filter(db.object_filter_names.object_filter_name.in_([V.FIL_MITOSIS,\n",
    "                                        V.FIL_APOPTOSIS]))\n",
    ")\n",
    "dat_fil = (bro.doquery(q)\n",
    "           .pivot_table(values=V.COL_FILTERVAL, index=[V.COL_OBJID, V.COL_IMGID,\n",
    "                                                       db.objects.object_number.key],\n",
    "                        columns=db.object_filter_names.object_filter_name.key)\n",
    "           .reset_index()\n",
    "          )"
   ]
  },
  {
   "cell_type": "code",
   "execution_count": null,
   "metadata": {},
   "outputs": [],
   "source": [
    "fig, axs = plt.subplots(1,4, figsize=(10,2))\n",
    "for i, ax, t in zip(C.exp_imgs, axs.flatten(), C.exp_imgs_labels):\n",
    "    dplot = dat_fil.query(f'{V.COL_IMGID} == {i} ')\n",
    "    cond = (bro.session.query(db.conditions.condition_name)\n",
    "            .join(db.images)\n",
    "            .filter(db.images.image_id == i).one()[0]\n",
    "           ).split('_')\n",
    "    tit = ' '.join([cond[0], cond[1], cond[2]])\n",
    "    img = bro.plots.heatmask.assemble_heatmap_image(dplot, value_var=V.FIL_APOPTOSIS, object_type='cell')\n",
    "    bro.plots.heatmask.do_heatplot(img, ax=ax, colorbar=False)\n",
    "    ax.axis('off')\n",
    "plot_image.add_scalebar(axs[0])\n",
    "plot_image.adapt_ax_clims(axs.flatten())\n",
    "fig.savefig(C.fol_paper / 'supfig_apoptosis_clusters.pdf',transparent=True)"
   ]
  },
  {
   "cell_type": "markdown",
   "metadata": {},
   "source": [
    "Calculate the occurence of apoptosis in conditions"
   ]
  },
  {
   "cell_type": "code",
   "execution_count": null,
   "metadata": {},
   "outputs": [],
   "source": [
    "q= (bro.session.query(db.conditions, db.images.image_id)\n",
    "    .join(db.images)\n",
    "   )\n",
    "dat_img = bro.doquery(q)"
   ]
  },
  {
   "cell_type": "code",
   "execution_count": null,
   "metadata": {},
   "outputs": [],
   "source": [
    "bro.data._read_experiment_layout()"
   ]
  },
  {
   "cell_type": "code",
   "execution_count": null,
   "metadata": {},
   "outputs": [],
   "source": [
    "d = (dat_fil\n",
    "      .merge(dat_img)\n",
    "      .merge(bro.data.experiment_layout)\n",
    "     )"
   ]
  },
  {
   "cell_type": "code",
   "execution_count": null,
   "metadata": {},
   "outputs": [],
   "source": [
    "dat_filsum = (d\n",
    " .groupby(by=[V.COL_CELLLINE, V.COL_CONCENTRATION, V.COL_TIMEPOINT])\n",
    " [V.FIL_APOPTOSIS, V.FIL_MITOSIS].mean()\n",
    " .reset_index()\n",
    ")\n",
    "#dat_filsum.columns.set_names([V.COL_FILTERVAL, 'stat'], inplace=True)\n",
    "#dat_filsum = dat_filsum.stack(V.COL_FILTERVAL).reset_index()"
   ]
  },
  {
   "cell_type": "code",
   "execution_count": null,
   "metadata": {},
   "outputs": [],
   "source": [
    "cat_cellline = pd.CategoricalDtype(categories=V.CAT_CELLLINE)\n",
    "\n",
    "d = (dat_filsum\n",
    "    .assign(**{V.COL_CELLLINE: lambda x: x[V.COL_CELLLINE].astype(cat_cellline),\n",
    "               V.COL_TIMEPOINT: lambda x: x[V.COL_TIMEPOINT].astype('category')\n",
    "              }) \n",
    "    )\n",
    "p = (gg.ggplot(d, gg.aes(x=V.COL_CONCENTRATION, y=V.FIL_APOPTOSIS,\n",
    "                              color=V.COL_TIMEPOINT))\n",
    " + gg.facet_wrap(V.COL_CELLLINE, ncol=4)\n",
    " + gg.geom_point()\n",
    " + gg.geom_line(gg.aes(group=V.COL_TIMEPOINT))\n",
    " + gg.scale_color_discrete(name='Timepoint')\n",
    " + gg.scale_y_sqrt(breaks=(0,0.001, 0.005, 0.01, 0.02, 0.04, 0.08, 0.1))\n",
    " + gg.ylab('Fraction of apoptotic cells')\n",
    " + gg.xlab('Relative seeding concentration')\n",
    " + gg.theme(figure_size=(8,2))\n",
    ")\n",
    "p"
   ]
  },
  {
   "cell_type": "code",
   "execution_count": null,
   "metadata": {},
   "outputs": [],
   "source": [
    "gg.ggsave(p, C.fol_paper / 'apoptosis_per_condition.pdf')"
   ]
  },
  {
   "cell_type": "code",
   "execution_count": null,
   "metadata": {},
   "outputs": [],
   "source": []
  }
 ],
 "metadata": {
  "jupytext": {
   "text_representation": {
    "extension": ".py",
    "format_name": "percent",
    "format_version": "1.3",
    "jupytext_version": "1.3.4"
   }
  },
  "kernelspec": {
   "display_name": "Python 3",
   "language": "python",
   "name": "python3"
  },
  "language_info": {
   "codemirror_mode": {
    "name": "ipython",
    "version": 3
   },
   "file_extension": ".py",
   "mimetype": "text/x-python",
   "name": "python",
   "nbconvert_exporter": "python",
   "pygments_lexer": "ipython3",
   "version": "3.8.5"
  }
 },
 "nbformat": 4,
 "nbformat_minor": 4
}
