{
 "cells": [
  {
   "cell_type": "markdown",
   "metadata": {},
   "source": [
    "# Analyse the bf data\n",
    "\n",
    "## Aim:\n",
    "\n",
    "I did a TC experiment and want to get the BF analysis. To this end I run Ilastik + CP segmentation on the timecourse\n",
    "\n",
    "This is for all the plates from the experiment - thus do an analysis for each of the experiments seperately."
   ]
  },
  {
   "cell_type": "code",
   "execution_count": null,
   "metadata": {
    "lines_to_next_cell": 2,
    "pycharm": {
     "is_executing": true
    }
   },
   "outputs": [],
   "source": [
    "sm = snakemake"
   ]
  },
  {
   "cell_type": "code",
   "execution_count": null,
   "metadata": {},
   "outputs": [],
   "source": [
    "import os\n",
    "import pandas as pd\n",
    "import numpy as np\n",
    "import re\n",
    "import plotnine as pn\n",
    "import string\n",
    "import pathlib\n"
   ]
  },
  {
   "cell_type": "code",
   "execution_count": null,
   "metadata": {},
   "outputs": [],
   "source": [
    "import multiprocessing\n",
    "import functools\n"
   ]
  },
  {
   "cell_type": "code",
   "execution_count": null,
   "metadata": {
    "jupyter": {
     "outputs_hidden": false
    },
    "pycharm": {
     "is_executing": false,
     "name": "#%%\n"
    }
   },
   "outputs": [],
   "source": [
    "# dat_img columns\n",
    "COL_SPHERMASK = 'ObjectsFileName_mask'\n",
    "COL_DATE = 'Metadata_Date'\n",
    "COL_PLATE = 'Metadata_plate'\n",
    "COL_REP = 'Metadata_plateloc'\n",
    "COL_AC = 'Metadata_acquisition'\n",
    "COL_WELL = 'Metadata_well'\n",
    "COL_WL = 'Metadata_wl'\n",
    "COL_DPS = 'Metadata_day'\n",
    "COL_PLATEAC = 'Metadata_plateac'\n",
    "\n",
    "COLS_META = [COL_SPHERMASK, COL_DATE, COL_PLATE, COL_REP, COL_WELL, COL_DPS]\n",
    "# user defined\n",
    "COL_MAXPROB = 'is_maxprob'\n",
    "COL_MAXPROBAC = 'is_maxprobac'\n",
    "COL_HIGHPROB = 'is_highprob'\n",
    "\n",
    "COL_ISLASTTP = 'is_lasttp'\n",
    "COL_ISMEDIAN = 'is_mediangood'\n",
    "\n",
    "COL_SELECTEDSEGMENTAITON = 'is_selected'\n",
    "\n",
    "COL_CV = 'well_cv'\n",
    "\n",
    "COL_ROWIDX = 'row_idx'\n",
    "COL_COLIDX = 'col_idx'\n",
    "# dat_sphere columns\n",
    "COL_AREA = 'AreaShape_Area'\n",
    "COL_IMGNUMBER = 'ImageNumber'\n",
    "COL_SPHEREPROB = 'Intensity_MeanIntensity_IsSphere'\n",
    "\n",
    "\n",
    "# dat_layout columns\n",
    "L_COL_CLIDX = 'cellline_idx'\n",
    "L_COL_TPIDX = 'timepoint_idx'\n",
    "L_COL_CTIDX = 'count_idx'\n",
    "L_COL_PTIDX = 'plate_idx'\n",
    "L_COL_WELLIDX = 'well_idx'\n",
    "L_COL_ROWIDX = 'row_idx'\n",
    "L_COL_COLIDX = 'col_idx'\n",
    "\n",
    "L_COL_PTID = 'plate_id'\n",
    "L_COL_CLID = 'cellline_id'\n",
    "L_COL_CTID = 'count_id'\n",
    "L_COL_TPID = 'timepoint_id'\n",
    "\n",
    "L_COL_RLAB = 'row_label'\n",
    "L_COL_CLAB = 'col_label'\n",
    "L_COL_WELL = 'well'\n",
    "\n",
    "\n",
    "fillvals = {COL_REP: 'norm', COL_WL: 1}\n",
    "colmap_layout_img = {L_COL_PTID: COL_PLATE, L_COL_WELL: COL_WELL}"
   ]
  },
  {
   "cell_type": "code",
   "execution_count": null,
   "metadata": {
    "lines_to_next_cell": 2,
    "pycharm": {
     "is_executing": false
    }
   },
   "outputs": [],
   "source": [
    "%matplotlib inline"
   ]
  },
  {
   "cell_type": "code",
   "execution_count": null,
   "metadata": {
    "lines_to_next_cell": 2,
    "pycharm": {
     "is_executing": false
    }
   },
   "outputs": [],
   "source": [
    "#fn_layout ='../../../experiments/20180530_phys_4celllines-time-size_v1/figures/tc_layout.csv'\n",
    "fn_hq_spheres = sm.output.fn_hqspheres"
   ]
  },
  {
   "cell_type": "code",
   "execution_count": null,
   "metadata": {
    "lines_to_next_cell": 2,
    "pycharm": {
     "is_executing": false
    }
   },
   "outputs": [],
   "source": [
    "fol_overviews_plates = pathlib.Path(sm.output.fol_plateov)\n",
    "fol_overviews_wells = pathlib.Path(sm.output.fol_wellov)"
   ]
  },
  {
   "cell_type": "code",
   "execution_count": null,
   "metadata": {},
   "outputs": [],
   "source": []
  },
  {
   "cell_type": "code",
   "execution_count": null,
   "metadata": {
    "lines_to_next_cell": 2,
    "pycharm": {
     "is_executing": false
    }
   },
   "outputs": [],
   "source": [
    "for fol in [fol_overviews_plates, fol_overviews_wells]:\n",
    "    fol.mkdir(parents=True, exist_ok=True)"
   ]
  },
  {
   "cell_type": "code",
   "execution_count": null,
   "metadata": {
    "lines_to_next_cell": 2,
    "pycharm": {
     "is_executing": false
    }
   },
   "outputs": [],
   "source": [
    "fn_img = sm.input.fn_images\n",
    "fn_sphere = sm.input.fn_mask"
   ]
  },
  {
   "cell_type": "code",
   "execution_count": null,
   "metadata": {},
   "outputs": [],
   "source": [
    "fol_imgs = sm.input.fol_images\n",
    "fol_masks = sm.input.fol_masks"
   ]
  },
  {
   "cell_type": "code",
   "execution_count": null,
   "metadata": {
    "lines_to_next_cell": 2,
    "pycharm": {
     "is_executing": false
    }
   },
   "outputs": [],
   "source": [
    "dat_img = pd.read_csv(fn_img)\n",
    "dat_sphere = pd.read_csv(fn_sphere)\n",
    "#dat_layout = pd.read_csv(fn_layout)"
   ]
  },
  {
   "cell_type": "code",
   "execution_count": null,
   "metadata": {},
   "outputs": [],
   "source": [
    "dat_sphere.head()"
   ]
  },
  {
   "cell_type": "code",
   "execution_count": null,
   "metadata": {
    "lines_to_next_cell": 2
   },
   "outputs": [],
   "source": [
    "dat_img = dat_img.fillna(fillvals)"
   ]
  },
  {
   "cell_type": "code",
   "execution_count": null,
   "metadata": {},
   "outputs": [],
   "source": [
    "sm.input.fol_images"
   ]
  },
  {
   "cell_type": "code",
   "execution_count": null,
   "metadata": {
    "lines_to_next_cell": 2
   },
   "outputs": [],
   "source": [
    "def fix_path(dat, col,fol):\n",
    "    fol = pathlib.Path(fol)\n",
    "    dat[col] = dat[col].map(lambda x: fol / pathlib.Path(x).name)"
   ]
  },
  {
   "cell_type": "code",
   "execution_count": null,
   "metadata": {
    "lines_to_next_cell": 0
   },
   "outputs": [],
   "source": [
    "fix_path(dat_img, 'URL_bfimage', fol_imgs)\n",
    "fix_path(dat_img, 'ObjectsURL_mask', fol_masks)"
   ]
  },
  {
   "cell_type": "markdown",
   "metadata": {},
   "outputs": [],
   "source": [
    "# Filenames to be fixed:"
   ]
  },
  {
   "cell_type": "code",
   "execution_count": null,
   "metadata": {
    "lines_to_next_cell": 2
   },
   "outputs": [],
   "source": [
    "#'date', 'plate', 'rep', 'dps',\n",
    "#       'ac', 'well', 'wl', 'plateac'\n",
    "\n",
    "\n",
    "# This is a list of tuples, that describes fixes to the metadata due to naming error:\n",
    "# ('metaid', value, [('mata1', 'new_value'), ('meta2', 'new_value2'),...])\n",
    "#p161 (13199), p163 (13200), p165 (13190, 13194), p167 (13192, 13196), p169 (13193, 13197), p171 (13191, 13195)\n",
    "meta_fix = [\n",
    "        (COL_PLATEAC,13199, [(COL_DPS, 3)]),\n",
    "        (COL_PLATEAC,13200, [(COL_DPS, 3)]),\n",
    "        (COL_PLATEAC,13190, [(COL_DPS, 3)]),\n",
    "        (COL_PLATEAC,13194, [(COL_DPS, 3)]),\n",
    "        (COL_PLATEAC,13192, [(COL_DPS, 3)]),\n",
    "        (COL_PLATEAC,13196, [(COL_DPS, 3)]),\n",
    "    (COL_PLATEAC,13193, [(COL_DPS, 3)]),\n",
    "    (COL_PLATEAC,13197, [(COL_DPS, 3)]),\n",
    "    (COL_PLATEAC,13191, [(COL_DPS, 3)]),\n",
    "    (COL_PLATEAC,13195, [(COL_DPS, 3)]),\n",
    "          ]\n",
    "\n",
    "# all images that have this metadata will be deleted:\n",
    "meta_drop = [\n",
    "    ('Metadata_plateac',13186),#Looks like a misslabeled plate\n",
    "     #        ('Metadata_plateac',12154),#seems wrongly named\n",
    "      #       ('Metadata_plateac',12157) #wrongly named\n",
    "            ]"
   ]
  },
  {
   "cell_type": "code",
   "execution_count": null,
   "metadata": {
    "lines_to_next_cell": 2
   },
   "outputs": [],
   "source": [
    "[c for c in dat_img.columns if c.startswith('URL')]"
   ]
  },
  {
   "cell_type": "code",
   "execution_count": null,
   "metadata": {},
   "outputs": [],
   "source": [
    "def fix_metadata(dat, meta_fix, inplace=False):\n",
    "    '''\n",
    "    Corrects (meta)data in a pandas dataframe\n",
    "    Input:\n",
    "        dat: a pandas dataframe\n",
    "        meta fix:  a list of tuples: (key/key, value/values, [('mata1', 'new_value'), ('meta2', 'new_value2'),...])\n",
    "    Returns:\n",
    "        the metadata frame with the fixed values\n",
    "    '''\n",
    "    if inplace == False:\n",
    "        dat = dat.copy()\n",
    "    for meta, val, fixes in meta_fix:\n",
    "        fil = dat[meta] == val\n",
    "        col, newval = zip(*fixes)\n",
    "        dat.loc[fil, col] = newval\n",
    "    return dat\n",
    "\n",
    "def drop_data(dat, meta_drop, inplace=False):\n",
    "    if inplace == False:\n",
    "        dat = dat.copy()\n",
    "    for key, val in meta_drop:\n",
    "        fil = dat[key] != val\n",
    "        dat = dat.loc[fil, :]\n",
    "    return dat\n",
    "\n"
   ]
  },
  {
   "cell_type": "code",
   "execution_count": null,
   "metadata": {
    "lines_to_next_cell": 2
   },
   "outputs": [],
   "source": [
    "dat_img = fix_metadata(dat_img, meta_fix)\n",
    "dat_img = drop_data(dat_img, meta_drop)"
   ]
  },
  {
   "cell_type": "code",
   "execution_count": null,
   "metadata": {},
   "outputs": [],
   "source": [
    "def area2diam(x):\n",
    "    return np.sqrt(x/np.pi)* 0.325*5*2\n",
    "\n",
    "\n",
    "# Check if the dataset is consistent: allways the same number of images per well? All the correct timepoints?"
   ]
  },
  {
   "cell_type": "code",
   "execution_count": null,
   "metadata": {
    "lines_to_next_cell": 2
   },
   "outputs": [],
   "source": [
    "d = (dat_img\n",
    " #.merge(dat_layout, on=[COL_PLATE, COL_WELL])\n",
    " .groupby([COL_PLATE, COL_DATE, COL_DPS, COL_REP,COL_PLATEAC, COL_AC])[COL_IMGNUMBER]\n",
    " .describe()\n",
    "\n",
    ")"
   ]
  },
  {
   "cell_type": "code",
   "execution_count": null,
   "metadata": {},
   "outputs": [],
   "source": [
    "#qgrid.show_grid(d,)\n",
    "d"
   ]
  },
  {
   "cell_type": "markdown",
   "metadata": {},
   "outputs": [],
   "source": [
    "# Comments:\n",
    " -p163: only imaged 1x @harvesting day 20180205 -> likely a mistake...\n",
    " -> rest imaged once forward & once reversed\n",
    "\n",
    " - visually confirmed that p161, 20180205 is indeed reversed -> e.g. well B05 is matching\n",
    "     -> Checked microscope and there is also a normal p161.\n",
    "\n",
    " Things to fix:\n",
    " - p161 (13199), p163 (13200), p165 (13190, 13194), p167 (13192, 13196), p169 (13193, 13197), p171 (13191, 13195): 20180205: Metadata day should be 3\n",
    "\n",
    "\n",
    " # Fix reverted plates\n",
    "\n",
    " Some plates have been acquired twice in order to circumvent imaging artefacts (Metadta_plateloc)\n",
    "\n",
    " -> For all plates with Plateloc == rev, rotate the wells\n",
    "\n",
    " Well\n",
    " 2 -> 10=12-2\n",
    " B -> G = H-B"
   ]
  },
  {
   "cell_type": "code",
   "execution_count": null,
   "metadata": {
    "lines_to_next_cell": 2
   },
   "outputs": [],
   "source": [
    "old_wells = [ '{}{:02d}'.format(s,n) for s in string.ascii_uppercase[1:7] for n in range(2,12)]\n",
    "new_wells = [ '{}{:02d}'.format(s,n) for s in reversed(string.ascii_uppercase[1:7]) for n in reversed(range(2,12))]\n",
    "rev_welldict = {o: n for o,n in zip(old_wells, new_wells)}"
   ]
  },
  {
   "cell_type": "code",
   "execution_count": null,
   "metadata": {},
   "outputs": [],
   "source": [
    "fil = dat_img[COL_REP] == 'rev'\n",
    "dat_img.loc[fil, COL_WELL] = dat_img.loc[fil, COL_WELL].map(lambda x: rev_welldict[x])"
   ]
  },
  {
   "cell_type": "markdown",
   "metadata": {},
   "outputs": [],
   "source": [
    "# More sanity checks\n",
    "\n",
    " Check uncertainty vs size"
   ]
  },
  {
   "cell_type": "code",
   "execution_count": null,
   "metadata": {},
   "outputs": [],
   "source": [
    "(dat_img\n",
    " .merge(dat_sphere, on=COL_IMGNUMBER)\n",
    " .query(f'({COL_DPS} != \"0\")') >>\n",
    "     pn.ggplot(pn.aes(x='Intensity_MeanIntensity_IsSphere', y=f'area2diam({COL_AREA})'))+\n",
    "     pn.facet_grid(f'{COL_PLATE}~{COL_DPS}')+\n",
    "     pn.geom_point()+\n",
    " pn.theme(figure_size=(9,12))\n",
    ")\n",
    "\n",
    "\n"
   ]
  },
  {
   "cell_type": "markdown",
   "metadata": {},
   "outputs": [],
   "source": [
    "-> clearly some outlier with low probability & big area!-> Retrain!\n",
    "\n",
    "For each well, identify the best acquisition by taking the one with the highest average probability"
   ]
  },
  {
   "cell_type": "code",
   "execution_count": null,
   "metadata": {
    "lines_to_next_cell": 2
   },
   "outputs": [],
   "source": [
    "max_imgs = (dat_img.merge(dat_sphere, on=COL_IMGNUMBER)\n",
    "     .groupby([COL_WELL, COL_PLATEAC])\n",
    "     .apply(lambda x: x[COL_IMGNUMBER][x[COL_SPHEREPROB].idxmax()])\n",
    ")"
   ]
  },
  {
   "cell_type": "code",
   "execution_count": null,
   "metadata": {
    "lines_to_next_cell": 2
   },
   "outputs": [],
   "source": [
    "dat_img[COL_MAXPROB] = dat_img[COL_IMGNUMBER].isin(max_imgs)"
   ]
  },
  {
   "cell_type": "code",
   "execution_count": null,
   "metadata": {},
   "outputs": [],
   "source": [
    "(dat_img\n",
    " .merge(dat_sphere, on=COL_IMGNUMBER)\n",
    " .query(f'({COL_DPS} != \"0\")') >>\n",
    "     pn.ggplot(pn.aes(x='Intensity_MeanIntensity_IsSphere', y=f'area2diam({COL_AREA})'))+\n",
    "     pn.facet_grid(f'{COL_PLATE}~{COL_DPS}')+\n",
    "     pn.geom_point(pn.aes(color=COL_MAXPROB))+\n",
    " pn.theme(figure_size=(9,12))\n",
    ")\n",
    "\n",
    "\n",
    "# For all wells with multiple acquisition replicates check how they look like"
   ]
  },
  {
   "cell_type": "code",
   "execution_count": null,
   "metadata": {
    "lines_to_next_cell": 2
   },
   "outputs": [],
   "source": [
    "max_imgs = (dat_img\n",
    "      .query(f'{COL_MAXPROB} == True')\n",
    "     .merge(dat_sphere, on=COL_IMGNUMBER)\n",
    "     .groupby([COL_PLATE,COL_WELL, COL_DPS, COL_AC])\n",
    "     .apply(lambda x: x[COL_IMGNUMBER][x[COL_SPHEREPROB].idxmax()])\n",
    ")\n",
    "\n",
    "dat_img[COL_MAXPROBAC] = dat_img[COL_IMGNUMBER].isin(max_imgs)"
   ]
  },
  {
   "cell_type": "code",
   "execution_count": null,
   "metadata": {
    "lines_to_next_cell": 2
   },
   "outputs": [],
   "source": [
    "(dat_img\n",
    " .merge(dat_sphere, on=COL_IMGNUMBER)\n",
    " .query(f'({COL_DPS} != \"0\")') >>\n",
    "     pn.ggplot(pn.aes(x='Intensity_MeanIntensity_IsSphere', y=f'area2diam({COL_AREA})'))+\n",
    "     pn.facet_grid(f'{COL_PLATE}~{COL_DPS}')+\n",
    "     pn.geom_point(pn.aes(color=COL_MAXPROBAC))+\n",
    " pn.theme(figure_size=(9,12))\n",
    ")"
   ]
  },
  {
   "cell_type": "code",
   "execution_count": null,
   "metadata": {
    "lines_to_next_cell": 2
   },
   "outputs": [],
   "source": [
    "max_imgs = (dat_img\n",
    "      .query(f'{COL_MAXPROB} == True')\n",
    "     .merge(dat_sphere, on=COL_IMGNUMBER)\n",
    "     .groupby([COL_PLATE,COL_WELL, COL_DPS, COL_AC])\n",
    "     .apply(lambda x: x[COL_IMGNUMBER][x[COL_SPHEREPROB].idxmax()])\n",
    ")\n",
    "\n",
    "dat_img[COL_MAXPROBAC] = dat_img[COL_IMGNUMBER].isin(max_imgs)"
   ]
  },
  {
   "cell_type": "code",
   "execution_count": null,
   "metadata": {},
   "outputs": [],
   "source": [
    "import skimage as sk\n",
    "import skimage.io\n",
    "import matplotlib.pyplot as plt\n",
    "import seaborn as sns\n",
    "def get_img(imid, dat, col_path):\n",
    "    path = dat.query(f'{COL_IMGNUMBER} == {imid}')[col_path].values[0]\n",
    "    img = sk.io.imread(path)\n",
    "    return img\n",
    "\n",
    "def get_mask(imid):\n",
    "    COL_PATHMASK = 'ObjectsURL_mask'\n",
    "    return get_img(imid, dat_img, COL_PATHMASK)\n",
    "\n",
    "def get_bfimg(imid):\n",
    "    COL_PATHMASK = 'URL_bfimage'\n",
    "    return get_img(imid, dat_img, COL_PATHMASK)\n",
    "\n",
    "def plot_segmentation(i, color='r', ax=None):\n",
    "    if ax is None:\n",
    "        ax = plt.gca()\n",
    "    ax.imshow(get_bfimg(i))\n",
    "    ax.contour(get_mask(i), [0.5], linewidths=1.2, colors=color)\n",
    "    return ax\n",
    "\n",
    "def plot_segmentation_sb(x, color, **kwargs):\n",
    "    plot_segmentation(x.values[0])\n",
    "\n",
    "def plot_segmentation_sb_col(x, col, **kwargs):\n",
    "    colstr = 'rwb'[int(col.values[0])]\n",
    "    plot_segmentation(x.values[0], color=colstr)\n",
    "\n",
    "def plt_well(plateac, well, axs=None):\n",
    "    imgnrs = dat_img.query(f'{COL_PLATEAC} =={plateac} & {COL_WELL} == \"{well}\"')[COL_IMGNUMBER]\n",
    "    ncol = len(imgnrs)\n",
    "    if axs is None:\n",
    "        f, axs = plt.subplots(ncols=ncol)\n",
    "    for a,i in zip(axs,imgnrs):\n",
    "        plot_segmentation(i, ax=a)\n",
    "    return axs\n",
    "\n"
   ]
  },
  {
   "cell_type": "code",
   "execution_count": null,
   "metadata": {
    "lines_to_next_cell": 2
   },
   "outputs": [],
   "source": [
    "d = ( dat_img\n",
    " .query(f'{COL_PLATE} == 176 & {COL_WELL} == \"B02\" & {COL_MAXPROB} == True')\n",
    ")\n",
    "\n",
    "g=sns.FacetGrid(d, row=COL_PLATEAC, col=COL_DPS)\n",
    "g.map(plot_segmentation_sb,  COL_IMGNUMBER)"
   ]
  },
  {
   "cell_type": "code",
   "execution_count": null,
   "metadata": {},
   "outputs": [],
   "source": [
    "d = ( dat_img\n",
    " .query(f'{COL_PLATE} == 165 & {COL_WELL} == \"B02\" & {COL_MAXPROB} == True')\n",
    ")\n",
    "\n",
    "g=sns.FacetGrid(d, row=COL_PLATEAC, col=COL_DPS)\n",
    "g.map(plot_segmentation_sb,  COL_IMGNUMBER)\n",
    "\n",
    "\n"
   ]
  },
  {
   "cell_type": "markdown",
   "metadata": {},
   "outputs": [],
   "source": [
    "-> Attention: the max probability criterion can also be quite good in misssegmented spheres!\n",
    "\n",
    "- Looks like taking the average in case there were multiple acquisitions (maybe after filtering for a minimum average probability of 0.8) could be approrpiate."
   ]
  },
  {
   "cell_type": "code",
   "execution_count": null,
   "metadata": {
    "lines_to_next_cell": 2
   },
   "outputs": [],
   "source": [
    "dat_img = dat_img.drop(COL_HIGHPROB, axis=1,errors='ignore')\n",
    "\n",
    "t = ((dat_img\n",
    "     .merge(dat_sphere, on=COL_IMGNUMBER)\n",
    "     .set_index(COL_IMGNUMBER)[COL_SPHEREPROB] > 0.925)\n",
    "     .rename(COL_HIGHPROB)\n",
    "     .reset_index(COL_IMGNUMBER, drop=False)\n",
    ")\n",
    "dat_img = dat_img.merge(t)"
   ]
  },
  {
   "cell_type": "code",
   "execution_count": null,
   "metadata": {},
   "outputs": [],
   "source": [
    "dat_img[COL_HIGHPROB].sum()\n",
    "\n",
    "\n",
    "# Also make a filter for 'last timepoint'"
   ]
  },
  {
   "cell_type": "code",
   "execution_count": null,
   "metadata": {
    "lines_to_next_cell": 2
   },
   "outputs": [],
   "source": [
    "max_imgs = (dat_img\n",
    "     .merge(dat_sphere, on=COL_IMGNUMBER)\n",
    "     .groupby([COL_PLATE,COL_WELL])\n",
    "     .apply(lambda x: x[COL_IMGNUMBER].loc[x[COL_DPS] == x[COL_DPS].max()])\n",
    ")\n",
    "\n",
    "dat_img[COL_ISLASTTP] = dat_img[COL_IMGNUMBER].isin(max_imgs)"
   ]
  },
  {
   "cell_type": "code",
   "execution_count": null,
   "metadata": {
    "lines_to_next_cell": 2
   },
   "outputs": [],
   "source": [
    "d = (dat_img\n",
    " #.merge(dat_layout, on=[COL_PLATE, COL_WELL])\n",
    "     .query(f'{COL_ISLASTTP} == True')\n",
    " .groupby([COL_PLATE, COL_WELL])[COL_HIGHPROB]\n",
    " .mean()\n",
    "\n",
    ")\n",
    "\n",
    "bad_wells = d[d==0].reset_index()"
   ]
  },
  {
   "cell_type": "code",
   "execution_count": null,
   "metadata": {
    "lines_to_next_cell": 2
   },
   "outputs": [],
   "source": [
    "bad_wells"
   ]
  },
  {
   "cell_type": "code",
   "execution_count": null,
   "metadata": {
    "lines_to_next_cell": 2
   },
   "outputs": [],
   "source": [
    "def fix_rowlabels(g):\n",
    "    for i, axes_row in enumerate(g.axes):\n",
    "        for j, axes_col in enumerate(axes_row):\n",
    "            row, col = axes_col.get_title().split('|')\n",
    "\n",
    "            if i == 0:\n",
    "                axes_col.set_title(col.strip())\n",
    "            else:\n",
    "                axes_col.set_title('')\n",
    "\n",
    "            if j == 0:\n",
    "                ylabel = axes_col.get_ylabel()\n",
    "                axes_col.set_ylabel(row.strip() + ' | ' + ylabel)\n",
    "\n",
    "def plot_well_imgs(dat_img, plate, well, colorvar=COL_HIGHPROB):\n",
    "    d = ( dat_img\n",
    "     .query(f'{COL_PLATE} == {plate} & {COL_WELL} == \"{well}\" & {COL_MAXPROB} == True')\n",
    "    )\n",
    "\n",
    "    g=sns.FacetGrid(d, col=COL_PLATEAC, row=COL_DPS)\n",
    "    g.map(plot_segmentation_sb_col,  COL_IMGNUMBER, colorvar)\n",
    "    fix_rowlabels(g)\n",
    "    g.fig.suptitle(f'{plate} - {well}')\n",
    "    g.fig.subplots_adjust(top=.9)\n",
    "    return g"
   ]
  },
  {
   "cell_type": "code",
   "execution_count": null,
   "metadata": {
    "lines_to_next_cell": 2
   },
   "outputs": [],
   "source": [
    "for p, w in bad_wells[[COL_PLATE, COL_WELL]].values:\n",
    "    plot_well_imgs(dat_img.query(f'{COL_ISLASTTP} == True'), p, w)\n",
    "    plt.show()\n",
    "    plt.close()"
   ]
  },
  {
   "cell_type": "code",
   "execution_count": null,
   "metadata": {},
   "outputs": [],
   "source": [
    "plt.close('all')"
   ]
  },
  {
   "cell_type": "markdown",
   "metadata": {},
   "outputs": [],
   "source": [
    "-> add to training:\n",
    "There are some spheres I would add"
   ]
  },
  {
   "cell_type": "code",
   "execution_count": null,
   "metadata": {},
   "outputs": [],
   "source": [
    "selected_from_allbad =     [f'({COL_PLATEAC} == 13230) & ({COL_WELL} == \"F05\") & ({COL_MAXPROB} == True)']\n",
    "\n"
   ]
  },
  {
   "cell_type": "markdown",
   "metadata": {},
   "outputs": [],
   "source": [
    "As a final area take for each sphere the 'median' area, high quality (p>0.9) sphere from the maximal probability wavelength"
   ]
  },
  {
   "cell_type": "code",
   "execution_count": null,
   "metadata": {
    "lines_to_next_cell": 2
   },
   "outputs": [],
   "source": [
    "def get_median_idx(val):\n",
    "    # Get the index closest to the median\n",
    "    if len(val) == 0:\n",
    "        return None\n",
    "    val = val.values\n",
    "    idx = np.argsort(val)\n",
    "    idxmed = np.nonzero(val[idx] >= np.median(val))\n",
    "    return idx[idxmed[0][0]]\n",
    "\n",
    "max_imgs = (dat_img\n",
    "      .query(f'{COL_MAXPROB} == True')\n",
    "     .query(f'{COL_HIGHPROB} == True')\n",
    "     .merge(dat_sphere, on=COL_IMGNUMBER)\n",
    "     .groupby([COL_PLATE, COL_WELL, COL_DPS])\n",
    "     .apply(lambda x: x[COL_IMGNUMBER].iloc[get_median_idx(x[COL_AREA])])\n",
    ")\n",
    "\n",
    "dat_img[COL_ISMEDIAN] = dat_img[COL_IMGNUMBER].isin(max_imgs)"
   ]
  },
  {
   "cell_type": "code",
   "execution_count": null,
   "metadata": {
    "lines_to_next_cell": 2
   },
   "outputs": [],
   "source": [
    "(dat_img\n",
    "      .query(f'{COL_MAXPROB} == True')\n",
    "     .query(f'{COL_HIGHPROB} == True')\n",
    "  .query(f'{COL_ISMEDIAN} == True')\n",
    "     .query(f'({COL_PLATE} == 161) & ({COL_WELL} == \"B04\")')\n",
    "     .merge(dat_sphere, on=COL_IMGNUMBER))"
   ]
  },
  {
   "cell_type": "code",
   "execution_count": null,
   "metadata": {},
   "outputs": [],
   "source": [
    "plate = 167\n",
    "(dat_img\n",
    "      .query(f'{COL_MAXPROB} == True')\n",
    "     .query(f'{COL_HIGHPROB} == True')\n",
    "      .query(f'{COL_ISLASTTP} == True')\n",
    "     .query(f'({COL_PLATE} == {plate})')\n",
    "     .merge(dat_sphere, on=COL_IMGNUMBER) >>\n",
    "pn.ggplot(pn.aes(x=COL_WELL, y=COL_AREA))+\n",
    " pn.geom_boxplot()+\n",
    " pn.geom_point(pn.aes(color=COL_ISMEDIAN))+\n",
    " pn.expand_limits(y=0)+\n",
    "  pn.theme(axis_text_x = pn.element_text(angle = 90, hjust = 1),\n",
    "            figure_size=(8,5))+\n",
    " pn.ggtitle(str(plate))\n",
    "\n",
    ")"
   ]
  },
  {
   "cell_type": "markdown",
   "metadata": {},
   "outputs": [],
   "source": [
    "-> Calculate CV's\n",
    "\n",
    "-> Still some spheres almost touching that give problems...\n",
    "\n",
    "-> Calculate CVs to identify problems"
   ]
  },
  {
   "cell_type": "code",
   "execution_count": null,
   "metadata": {},
   "outputs": [],
   "source": [
    "def cv(x):\n",
    "    x = x.values\n",
    "    return np.nanstd(x)/np.mean(x)\n",
    "dat_cv =(dat_img\n",
    "      .query(f'{COL_MAXPROB} == True')\n",
    "     .query(f'{COL_HIGHPROB} == True')\n",
    "       .query(f'{COL_ISLASTTP} == True')\n",
    "     .merge(dat_sphere, on=COL_IMGNUMBER)\n",
    "    .groupby([COL_PLATE, COL_DPS, COL_WELL])[COL_AREA]\n",
    "     .apply(cv)\n",
    "     .rename(COL_CV)\n",
    "    .reset_index())\n",
    "\n",
    "(dat_cv >>\n",
    " pn.ggplot(pn.aes(x=COL_CV))+\n",
    " pn.facet_grid(f'{COL_PLATE}~{COL_DPS}')+\n",
    " pn.geom_histogram()\n",
    "\n",
    ")"
   ]
  },
  {
   "cell_type": "markdown",
   "metadata": {},
   "outputs": [],
   "source": [
    "->  All looks good!\n",
    "\n",
    "Still look at all the spheres with a CV of > 15%"
   ]
  },
  {
   "cell_type": "code",
   "execution_count": null,
   "metadata": {
    "lines_to_next_cell": 2
   },
   "outputs": [],
   "source": [
    "pdat = dat_cv.query(f'{COL_CV} > 0.1')\n",
    "pdat"
   ]
  },
  {
   "cell_type": "code",
   "execution_count": null,
   "metadata": {},
   "outputs": [],
   "source": [
    "for p, well in pdat[[COL_PLATE, COL_WELL]].values:\n",
    "    plot_well_imgs(dat_img.query(f'{COL_ISLASTTP} == True'), p, well, colorvar=COL_ISMEDIAN)\n",
    "    plt.show()\n",
    "    plt.close()"
   ]
  },
  {
   "cell_type": "markdown",
   "metadata": {},
   "outputs": [],
   "source": [
    "Above shows in white the segmentation that is picked for quantification - it actually looks really good.  \n",
    "All the selected spheres are reasonably segmented.\n"
   ]
  },
  {
   "cell_type": "code",
   "execution_count": null,
   "metadata": {
    "lines_to_next_cell": 2
   },
   "outputs": [],
   "source": [
    "unselect_well = []\n",
    "select_well = [\n",
    "              ]"
   ]
  },
  {
   "cell_type": "code",
   "execution_count": null,
   "metadata": {
    "lines_to_next_cell": 2
   },
   "outputs": [],
   "source": [
    "dat_img[COL_SELECTEDSEGMENTAITON] = dat_img[COL_ISMEDIAN].copy()"
   ]
  },
  {
   "cell_type": "code",
   "execution_count": null,
   "metadata": {
    "lines_to_next_cell": 2
   },
   "outputs": [],
   "source": [
    "for u, s in zip(unselect_well, select_well):\n",
    "    dat_img.loc[dat_img.query(u).index, COL_SELECTEDSEGMENTAITON] = False\n",
    "    dat_img.loc[dat_img.query(s).index, COL_SELECTEDSEGMENTAITON] = True\n",
    "\n",
    "for s in selected_from_allbad:\n",
    "    # selected from the wells which had no 'good' segmentation\n",
    "    dat_img.loc[dat_img.query(s).index, COL_SELECTEDSEGMENTAITON] = True"
   ]
  },
  {
   "cell_type": "markdown",
   "metadata": {},
   "outputs": [],
   "source": [
    " Finally: make whole plate overviews, allways showing the selected segmentation\n",
    "\n",
    " In cases where there was no selected segmentation plot the COL_MAXPROBAX"
   ]
  },
  {
   "cell_type": "code",
   "execution_count": null,
   "metadata": {
    "lines_to_next_cell": 2
   },
   "outputs": [],
   "source": [
    "def well2colidx(w):\n",
    "    return int(w[1:])\n",
    "def well2rowidx(w):\n",
    "    return string.ascii_uppercase.index(w[0])\n",
    "dat_img[COL_COLIDX] = dat_img[COL_WELL].map(well2colidx)\n",
    "dat_img[COL_ROWIDX] = dat_img[COL_WELL].map(well2rowidx)"
   ]
  },
  {
   "cell_type": "code",
   "execution_count": null,
   "metadata": {
    "lines_to_next_cell": 2
   },
   "outputs": [],
   "source": [
    "def get_best(x):\n",
    "    if np.any(x[COL_SELECTEDSEGMENTAITON]):\n",
    "        return x.loc[x[COL_SELECTEDSEGMENTAITON].idxmax]\n",
    "    else:\n",
    "        return x.loc[x[COL_MAXPROBAC].idxmax]"
   ]
  },
  {
   "cell_type": "code",
   "execution_count": null,
   "metadata": {
    "lines_to_next_cell": 2
   },
   "outputs": [],
   "source": [
    "dat_bestimgs = (dat_img\n",
    "     .query(f'{COL_ISLASTTP} == True')\n",
    "     .groupby([COL_PLATE, COL_WELL])\n",
    "     .apply(get_best)\n",
    ")\n",
    "dat_bestimgs[COL_PLATE].unique()"
   ]
  },
  {
   "cell_type": "code",
   "execution_count": null,
   "metadata": {
    "lines_to_next_cell": 2
   },
   "outputs": [],
   "source": [
    "def plot_plate(dat, plate, colorvar):\n",
    "    pdat = dat.query(f'{COL_PLATE} == {plate}')\n",
    "    if pdat[COL_WELL].duplicated().any():\n",
    "        raise ValueError('Duplicated Wells not supported')\n",
    "    g=sns.FacetGrid(pdat, col=COL_COLIDX, row=COL_ROWIDX)\n",
    "    g.map(plot_segmentation_sb_col,  COL_IMGNUMBER, colorvar)\n",
    "    g.fig.suptitle(f'{plate}', size=30)\n",
    "    g.fig.subplots_adjust(top=.9)\n",
    "    return g"
   ]
  },
  {
   "cell_type": "code",
   "execution_count": null,
   "metadata": {},
   "outputs": [],
   "source": []
  },
  {
   "cell_type": "code",
   "execution_count": null,
   "metadata": {},
   "outputs": [],
   "source": [
    "def plot_plate_best(plate):\n",
    "    p = plot_plate(dat_bestimgs, plate, COL_SELECTEDSEGMENTAITON)\n",
    "    p.savefig(fol_overviews_plates /f'segmented_overview_p{plate}.png')\n",
    "    #plt.show()\n",
    "    plt.close()\n",
    "    \n",
    "with multiprocessing.Pool(sm.threads) as pool:\n",
    "    pool.map(plot_plate_best, dat_bestimgs[COL_PLATE].unique())"
   ]
  },
  {
   "cell_type": "code",
   "execution_count": null,
   "metadata": {
    "lines_to_next_cell": 2
   },
   "outputs": [],
   "source": [
    "dat_hqspheres = (dat_img\n",
    "      .query(f'{COL_ISLASTTP} == True')\n",
    "     .query(f'{COL_SELECTEDSEGMENTAITON} == True')\n",
    "     .merge(dat_sphere, on=COL_IMGNUMBER))"
   ]
  },
  {
   "cell_type": "code",
   "execution_count": null,
   "metadata": {},
   "outputs": [],
   "source": [
    "dat_hqspheres.to_csv(fn_hq_spheres)"
   ]
  },
  {
   "cell_type": "markdown",
   "metadata": {},
   "outputs": [],
   "source": [
    "Plot all spheres from plate for manual qc"
   ]
  },
  {
   "cell_type": "code",
   "execution_count": null,
   "metadata": {},
   "outputs": [],
   "source": [
    "def plot_well_overviews(folder, plateid):\n",
    "    folder = pathlib.Path(folder)\n",
    "    wells = dat_img[COL_WELL].unique()\n",
    "    for w in wells:\n",
    "        g = plot_well_imgs(dat_img.query(f'{COL_ISLASTTP} == True'), plateid, w, colorvar=COL_ISMEDIAN)\n",
    "        g.savefig(folder / f'plate{plateid}_well{w}.png')\n",
    "        plt.close()"
   ]
  },
  {
   "cell_type": "code",
   "execution_count": null,
   "metadata": {
    "lines_to_next_cell": 2
   },
   "outputs": [],
   "source": [
    "p='173'\n",
    "well='B02'\n",
    "g = plot_well_imgs(dat_img.query(f'{COL_ISLASTTP} == True'), p, well, colorvar=COL_ISMEDIAN)"
   ]
  },
  {
   "cell_type": "code",
   "execution_count": null,
   "metadata": {},
   "outputs": [],
   "source": [
    "import itertools"
   ]
  },
  {
   "cell_type": "code",
   "execution_count": null,
   "metadata": {},
   "outputs": [],
   "source": [
    "def plot_and_save_well(plateid, well, imgdat, folder):\n",
    "    g = plot_well_imgs(imgdat, plateid, well, colorvar=COL_ISMEDIAN)\n",
    "    g.savefig(folder / f'plate{plateid}_well{well}.png')\n",
    "    plt.close()\n",
    "        \n",
    "plates=['169', '163', '171', '167', '161', '165', '173', '176']\n",
    "wells=dat_img[COL_WELL].unique()\n",
    "\n",
    "with multiprocessing.Pool(sm.threads) as pool:\n",
    "    pool.starmap(functools.partial(plot_and_save_well,\n",
    "                                   folder=fol_overviews_wells,\n",
    "                                   imgdat=dat_img.query(f'{COL_ISLASTTP} == True')),\n",
    "                 itertools.product(plates, wells))\n"
   ]
  },
  {
   "cell_type": "markdown",
   "metadata": {},
   "outputs": [],
   "source": [
    "# Load QC results form 2_manual_qc\n",
    "\n",
    "-> Do qc and run 2_manual_qc"
   ]
  },
  {
   "cell_type": "code",
   "execution_count": null,
   "metadata": {
    "lines_to_next_cell": 2
   },
   "outputs": [],
   "source": [
    "fn_qc_res = pathlib.Path(sm.input.fn_manual_qc)"
   ]
  },
  {
   "cell_type": "code",
   "execution_count": null,
   "metadata": {
    "lines_to_next_cell": 2
   },
   "outputs": [],
   "source": [
    "sel_plate = 176"
   ]
  },
  {
   "cell_type": "code",
   "execution_count": null,
   "metadata": {
    "lines_to_next_cell": 2
   },
   "outputs": [],
   "source": [
    "dat_qcres = pd.read_csv(fn_qc_res)"
   ]
  },
  {
   "cell_type": "code",
   "execution_count": null,
   "metadata": {
    "lines_to_next_cell": 2
   },
   "outputs": [],
   "source": [
    "dat_img.columns"
   ]
  },
  {
   "cell_type": "code",
   "execution_count": null,
   "metadata": {
    "lines_to_next_cell": 2
   },
   "outputs": [],
   "source": [
    "dat_qcres.columns"
   ]
  },
  {
   "cell_type": "code",
   "execution_count": null,
   "metadata": {
    "lines_to_next_cell": 2
   },
   "outputs": [],
   "source": [
    "pdat = dat_bestimgs.reset_index(drop=True).merge(dat_qcres, left_on=[COL_WELL, COL_PLATE], right_on=['well', 'plate'])"
   ]
  },
  {
   "cell_type": "code",
   "execution_count": null,
   "metadata": {
    "lines_to_next_cell": 2
   },
   "outputs": [],
   "source": [
    "COL_ISHQ = 'ishq'"
   ]
  },
  {
   "cell_type": "code",
   "execution_count": null,
   "metadata": {
    "lines_to_next_cell": 2
   },
   "outputs": [],
   "source": [
    "pdat[COL_ISHQ] = pdat[COL_SELECTEDSEGMENTAITON] & (pdat['bf_qc'] == 'good')"
   ]
  },
  {
   "cell_type": "code",
   "execution_count": null,
   "metadata": {
    "lines_to_next_cell": 2
   },
   "outputs": [],
   "source": [
    "fig = plot_plate(pdat, sel_plate, COL_ISHQ)"
   ]
  },
  {
   "cell_type": "code",
   "execution_count": null,
   "metadata": {
    "lines_to_next_cell": 2
   },
   "outputs": [],
   "source": [
    "import skimage.filters as skif"
   ]
  },
  {
   "cell_type": "code",
   "execution_count": null,
   "metadata": {
    "lines_to_next_cell": 2
   },
   "outputs": [],
   "source": [
    "ref_img = fig.axes.flatten()[1].images[0].get_array().data"
   ]
  },
  {
   "cell_type": "code",
   "execution_count": null,
   "metadata": {
    "lines_to_next_cell": 2
   },
   "outputs": [],
   "source": [
    "for ax in fig.axes.flatten():\n",
    "    ax.axis('off')\n",
    "    ax.set_title('')\n",
    "    ax.set_xlabel('')\n",
    "    ax.set_ylabel('')\n",
    "    aximg = ax.images[0]\n",
    "    img = aximg.get_array().data.copy()\n",
    "    p = 99.95\n",
    "    maxperc = np.percentile(img, p)\n",
    "    minperc = np.percentile(img, 100-p)\n",
    "    img[ img > maxperc]=maxperc\n",
    "    img[ img < minperc]=minperc\n",
    "    #img = img-minperc\n",
    "    aximg.set_cmap('gist_gray')\n",
    "    #img = sk.transform.match_histograms(aximg.get_array().data, ref_img)\n",
    "    #aximg.norm(img)\n",
    "    aximg.set_data(img)\n",
    "    aximg.set_clim((minperc,maxperc))"
   ]
  },
  {
   "cell_type": "code",
   "execution_count": null,
   "metadata": {
    "lines_to_next_cell": 2
   },
   "outputs": [],
   "source": [
    "fig.fig.suptitle('')"
   ]
  },
  {
   "cell_type": "code",
   "execution_count": null,
   "metadata": {
    "lines_to_next_cell": 2
   },
   "outputs": [],
   "source": [
    "fig.fig"
   ]
  },
  {
   "cell_type": "code",
   "execution_count": null,
   "metadata": {
    "lines_to_next_cell": 2
   },
   "outputs": [],
   "source": [
    "fig.savefig(sm.output.fn_fig1_bfspheres)"
   ]
  }
 ],
 "metadata": {
  "jupytext": {
   "cell_metadata_filter": "-all",
   "encoding": "# coding: utf-8",
   "executable": "/usr/bin/env python",
   "notebook_metadata_filter": "-all",
   "text_representation": {
    "extension": ".py",
    "format_name": "percent"
   }
  },
  "kernelspec": {
   "display_name": "Python 3",
   "language": "python",
   "name": "python3"
  },
  "language_info": {
   "codemirror_mode": {
    "name": "ipython",
    "version": 3
   },
   "file_extension": ".py",
   "mimetype": "text/x-python",
   "name": "python",
   "nbconvert_exporter": "python",
   "pygments_lexer": "ipython3",
   "version": "3.8.3"
  }
 },
 "nbformat": 4,
 "nbformat_minor": 4
}
