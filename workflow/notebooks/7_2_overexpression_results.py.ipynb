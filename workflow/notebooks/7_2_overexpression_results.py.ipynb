{
 "cells": [
  {
   "cell_type": "code",
   "execution_count": null,
   "metadata": {},
   "outputs": [],
   "source": [
    "sm = snakemake"
   ]
  },
  {
   "cell_type": "code",
   "execution_count": null,
   "metadata": {},
   "outputs": [],
   "source": [
    "import pandas as pd\n",
    "\n",
    "import spherpro.bro as spb\n",
    "import spherpro.datastore as spd\n",
    "import spherpro.library as spl\n",
    "import spherpro.configuration as conf\n",
    "import spherpro.db as db\n",
    "import imp\n",
    "import pycytools as pct\n",
    "import pycytools.library\n",
    "import re\n",
    "import os\n",
    "\n",
    "import numpy as np\n",
    "import spherpro.library as lib\n",
    "import matplotlib.pyplot as plt\n",
    "import plotnine as gg\n",
    "import seaborn as sns\n",
    "from matplotlib import colors\n",
    "#import mpld3\n",
    "import pathlib\n",
    "#import feather"
   ]
  },
  {
   "cell_type": "code",
   "execution_count": null,
   "metadata": {},
   "outputs": [],
   "source": [
    "from src.variables import Vars\n",
    "from src.config import Conf"
   ]
  },
  {
   "cell_type": "code",
   "execution_count": null,
   "metadata": {},
   "outputs": [],
   "source": [
    "%load_ext autoreload\n",
    "%autoreload 2"
   ]
  },
  {
   "cell_type": "code",
   "execution_count": null,
   "metadata": {},
   "outputs": [],
   "source": [
    "import spherpro.bromodules.helpers_anndata as ha"
   ]
  },
  {
   "cell_type": "markdown",
   "metadata": {},
   "outputs": [],
   "source": [
    "import rpy2\n",
    "import os\n",
    "#os.environ[\"R_HOME\"] = \"/home/vitoz/miniconda3/envs/spherpro2/lib/R\"\n",
    "%load_ext rpy2.ipython\n",
    "from rpy2.robjects import r, pandas2ri\n",
    "pandas2ri.activate()"
   ]
  },
  {
   "cell_type": "markdown",
   "metadata": {
    "pycharm": {
     "name": "#%% md\n"
    }
   },
   "outputs": [],
   "source": [
    "### Aim: Load lmm results"
   ]
  },
  {
   "cell_type": "code",
   "execution_count": null,
   "metadata": {},
   "outputs": [],
   "source": []
  },
  {
   "cell_type": "code",
   "execution_count": null,
   "metadata": {},
   "outputs": [],
   "source": [
    "def censor_dat(x, q=99.99):\n",
    "    x = np.copy(x)\n",
    "    p = np.percentile(x,q=q)\n",
    "    x[x> p] = p\n",
    "    return x\n",
    "\n",
    "def cur_logtransf(x):\n",
    "    return np.log10(x+0.1)\n",
    "transform = cur_logtransf\n",
    "\n",
    "def cur_transf(x):\n",
    "    x= censor_dat(x)\n",
    "    x= cur_logtransf(x)\n",
    "    return x"
   ]
  },
  {
   "cell_type": "code",
   "execution_count": null,
   "metadata": {},
   "outputs": [],
   "source": [
    "class CurVariableHelper(Vars):\n",
    "    pass\n",
    "    \n",
    "V = CurVariableHelper"
   ]
  },
  {
   "cell_type": "code",
   "execution_count": null,
   "metadata": {},
   "outputs": [],
   "source": [
    "class C(Conf):\n",
    "    fn_config = sm.input.fn_config\n",
    "    fol_plts = pathlib.Path(sm.output.fol_figures)\n",
    "    fol_paper = fol_plts \n",
    "    fn_out_sig = sm.output.fn_out_sig\n",
    "    fns_lmm_params = sm.input.fns_lmm_params\n",
    "    fns_lmm_model = sm.input.fns_lmm_model\n",
    "    fns_lmm_absstat = sm.input.fns_lmm_absstat\n",
    "    fns_lmm_randeff = sm.input.fns_lmm_randeff\n",
    "    fn_panel_ordered = sm.input.fn_panel_ordered\n",
    "    fn_constructmeta = sm.input.fn_construct_meta\n",
    "    fn_phist = fol_plts / 'phist.png'"
   ]
  },
  {
   "cell_type": "code",
   "execution_count": null,
   "metadata": {},
   "outputs": [],
   "source": [
    "C.fol_plts.mkdir(exist_ok=True)\n",
    "C.fol_paper.mkdir(exist_ok=True)"
   ]
  },
  {
   "cell_type": "code",
   "execution_count": null,
   "metadata": {},
   "outputs": [],
   "source": [
    "C.fns_lmm_params"
   ]
  },
  {
   "cell_type": "code",
   "execution_count": null,
   "metadata": {},
   "outputs": [],
   "source": [
    "bro = spb.get_bro(C.fn_config)"
   ]
  },
  {
   "cell_type": "code",
   "execution_count": null,
   "metadata": {
    "pycharm": {
     "name": "#%%\n"
    }
   },
   "outputs": [],
   "source": [
    "import spherpro.bromodules.plot_condition_images as pci\n",
    "ci = pci.PlotConditionImages(bro)"
   ]
  },
  {
   "cell_type": "markdown",
   "metadata": {
    "pycharm": {
     "name": "#%% md\n"
    }
   },
   "outputs": [],
   "source": [
    "Load the fitted data"
   ]
  },
  {
   "cell_type": "code",
   "execution_count": null,
   "metadata": {},
   "outputs": [],
   "source": [
    "bro.data._read_pannel()\n",
    "dat_pannel = bro.data.pannel\n",
    "\n",
    "fil = bro.filters.measurements.get_measmeta_filter_statements(channel_names=[tuple(dat_pannel.query(f'{V.COL_WORKING} == True')['metal'].values), 'object'],\n",
    "                                                         measurement_names=['MeanIntensityComp', 'dist-rim'],\n",
    "                                                             measurement_types=['Intensity', 'Location'],\n",
    "                                                             stack_names=['FullStackFiltered', 'ObjectStack'])\n",
    "q_meas = (bro.data.get_measmeta_query()\n",
    "         .add_columns(db.ref_planes.channel_name,\n",
    "                      db.stacks.stack_name,\n",
    "                     db.ref_stacks.scale)\n",
    "          .filter(fil)\n",
    "         )\n",
    "dat_measmeta = bro.doquery(q_meas).merge(dat_pannel,left_on='channel_name', right_on='metal')"
   ]
  },
  {
   "cell_type": "code",
   "execution_count": null,
   "metadata": {},
   "outputs": [],
   "source": [
    "chans = [c for c in dat_measmeta[V.COL_CHANNELNAME].unique() if c != 'object']"
   ]
  },
  {
   "cell_type": "code",
   "execution_count": null,
   "metadata": {
    "lines_to_next_cell": 2
   },
   "outputs": [],
   "source": [
    "dat_lmcoefs = (pd.concat([pd.read_csv(sm.params.pat_lmm_params.format(channel=c)) for c in chans],\n",
    "                        keys=chans, names=[V.COL_CHANNELNAME,'index']).reset_index(V.COL_CHANNELNAME, drop=False)\n",
    "               .reset_index(drop=True)\n",
    "                )"
   ]
  },
  {
   "cell_type": "code",
   "execution_count": null,
   "metadata": {
    "lines_to_next_cell": 2
   },
   "outputs": [],
   "source": [
    "dat_absstat= (pd.concat([pd.read_csv(sm.params.pat_lmm_absstat.format(channel=c)) for c in chans],\n",
    "                        keys=chans, names=[V.COL_CHANNELNAME,'index']).reset_index(V.COL_CHANNELNAME, drop=False)\n",
    "               .reset_index(drop=True)\n",
    "                )"
   ]
  },
  {
   "cell_type": "code",
   "execution_count": null,
   "metadata": {
    "lines_to_next_cell": 2
   },
   "outputs": [],
   "source": [
    "from pandas.api.types import CategoricalDtype\n",
    "dat_lmcoefs[V.COL_ISNB] = dat_lmcoefs[C.FIL_LM].astype(CategoricalDtype([1,2,3])).cat.rename_categories(C.FIL_LM_CLASSES[1:])\n",
    "dat_absstat[V.COL_ISNB] = dat_absstat[C.FIL_LM].astype(CategoricalDtype([1,2,3])).cat.rename_categories(C.FIL_LM_CLASSES[1:])"
   ]
  },
  {
   "cell_type": "code",
   "execution_count": null,
   "metadata": {},
   "outputs": [],
   "source": []
  },
  {
   "cell_type": "code",
   "execution_count": null,
   "metadata": {},
   "outputs": [],
   "source": [
    "dat_lmcoefs = dat_lmcoefs.rename(columns={'Pr(>|t|)': V.COL_P,\n",
    "                                         '2.5 %': V.COL_LB,\n",
    "                                         '97.5 %': V.COL_UB,\n",
    "                                          V.COL_ESTIMATE: V.COL_DELTA\n",
    "                                         })"
   ]
  },
  {
   "cell_type": "code",
   "execution_count": null,
   "metadata": {},
   "outputs": [],
   "source": []
  },
  {
   "cell_type": "code",
   "execution_count": null,
   "metadata": {},
   "outputs": [],
   "source": [
    "dat_lmcoefs[V.COL_FC] = 10**dat_lmcoefs[V.COL_DELTA]\n",
    "fil = (~dat_lmcoefs[V.COL_CONDNAME].isna())\n",
    "\n"
   ]
  },
  {
   "cell_type": "code",
   "execution_count": null,
   "metadata": {},
   "outputs": [],
   "source": [
    "dat_lmcoefs"
   ]
  },
  {
   "cell_type": "code",
   "execution_count": null,
   "metadata": {},
   "outputs": [],
   "source": [
    "import statsmodels.stats.multitest as multitest"
   ]
  },
  {
   "cell_type": "code",
   "execution_count": null,
   "metadata": {},
   "outputs": [],
   "source": [
    "fil = (~dat_lmcoefs[V.COL_CONDNAME].isna())\n",
    "dat_lmcoefs.loc[fil, V.COL_P_CORR] = multitest.multipletests(dat_lmcoefs.loc[fil, V.COL_P].values, alpha=0.1, method='FDR_BH')[1]"
   ]
  },
  {
   "cell_type": "code",
   "execution_count": null,
   "metadata": {},
   "outputs": [],
   "source": [
    "fig = plt.figure()\n",
    "dat_lmcoefs.loc[fil, V.COL_P].hist(bins=50)\n",
    "plt.title('p-value histogram')\n",
    "plt.xlabel('p-value')\n",
    "plt.ylabel('occurence in bin')"
   ]
  },
  {
   "cell_type": "code",
   "execution_count": null,
   "metadata": {},
   "outputs": [],
   "source": [
    "fig.savefig(C.fn_phist )"
   ]
  },
  {
   "cell_type": "code",
   "execution_count": null,
   "metadata": {},
   "outputs": [],
   "source": [
    "p_tresh = 0.01\n",
    "deltat = np.log10(1.3)\n",
    "fil = (dat_lmcoefs[V.COL_P_CORR] < p_tresh)& (np.abs(dat_lmcoefs[V.COL_DELTA]) > deltat) & (~dat_lmcoefs[V.COL_CONDNAME].isna())\n",
    "\n",
    "sighits = dat_lmcoefs.loc[fil,:].merge(dat_measmeta).sort_values(V.COL_DELTA)"
   ]
  },
  {
   "cell_type": "code",
   "execution_count": null,
   "metadata": {},
   "outputs": [],
   "source": [
    "#sighits.loc[(sighits['goodname'].isin(['GFP','DYKDDDDK Tag'])==False),:]"
   ]
  },
  {
   "cell_type": "code",
   "execution_count": null,
   "metadata": {},
   "outputs": [],
   "source": [
    "sighits"
   ]
  },
  {
   "cell_type": "code",
   "execution_count": null,
   "metadata": {},
   "outputs": [],
   "source": [
    "sighits.loc[sighits[V.COL_CONDNAME].isin(['GFP_GFP-FLAG','GFP_nan'])].merge(dat_measmeta)"
   ]
  },
  {
   "cell_type": "code",
   "execution_count": null,
   "metadata": {},
   "outputs": [],
   "source": [
    "dat_plt = dat_lmcoefs.copy()"
   ]
  },
  {
   "cell_type": "code",
   "execution_count": null,
   "metadata": {
    "pycharm": {
     "name": "#%%\n"
    }
   },
   "outputs": [],
   "source": [
    "co_fc = 1.05\n",
    "co_p = 2\n",
    "\n",
    "maxfc = 4\n",
    "breaks = 10**np.arange(np.log10(1/maxfc), np.log10(maxfc)+0.2, 0.2)\n",
    "\n",
    "pltdat = dat_plt.dropna().merge(dat_measmeta[[V.COL_CHANNELNAME, V.COL_MEASNAME, V.COL_GOODNAME]]).copy()\n",
    "#c = ['GFP_GFP-FLAG', 'GFP_nan']\n",
    "#pltdat = pltdat.query(f'{V.COL_CONDNAME} in {c}')\n",
    "pltdat['sig'] = ((np.abs(pltdat['delta']) > np.log10(co_fc)) & (pltdat[V.COL_P_CORR] < 10 ** (-co_p)))\n",
    "pltdat['sigdir'] = pd.Categorical((pltdat['sig'] * np.sign(pltdat['delta'])).astype(str), categories=['-1','1'])\n",
    "pltdat.loc[pltdat[V.COL_FC] >maxfc, V.COL_FC] = maxfc\n",
    "pltdat.loc[pltdat[V.COL_FC] <1/maxfc, V.COL_FC] = 1/maxfc\n",
    "pltdatsig =pltdat.query('sig != 0')\n",
    "pltdatnonsig =pltdat.query('sig == 0')\n",
    "\n",
    "p = (gg.ggplot(pltdatnonsig,\n",
    "           gg.aes(x=V.COL_FC, y='-np.log10('+V.COL_P_CORR+'+10**(-10))'))+\n",
    "         gg.facet_grid(f'{V.COL_ISNB}~{V.COL_CONDNAME}')+\n",
    "     gg.geom_point()+\n",
    "        gg.geom_vline(xintercept=co_fc, color='grey')+\n",
    "      gg.geom_vline(xintercept=1/co_fc, color='grey')+\n",
    "     gg.geom_hline(yintercept=co_p, color='grey')+\n",
    "     gg.geom_point(gg.aes(color='sigdir'), data= pltdatsig)+\n",
    "\n",
    "     gg.geom_text(gg.aes(label='goodname', color='sigdir'), size=8, data= pltdatsig)+\n",
    "    gg.scale_x_log10(limits=(1/maxfc, maxfc), breaks=breaks)+\n",
    "        gg.theme(figure_size=(60,6))\n",
    ")"
   ]
  },
  {
   "cell_type": "markdown",
   "metadata": {
    "pycharm": {
     "name": "#%% md\n"
    }
   },
   "outputs": [],
   "source": [
    "%%R -i pltdat -w 18200 -h 800 -u px\n",
    "\n",
    "\n",
    "co_fc = 1.2\n",
    "co_p = -log10(0.01)\n",
    "require(ggplot2)\n",
    "require(ggrepel)\n",
    "fil = (abs(pltdat$delta) > log10(co_fc)) & (pltdat$p_corrected < 10^(-co_p))\n",
    "\n",
    "ggplot(pltdat, aes(x=fc, y=(-log10(p_corrected+10^(-10)))))+\n",
    "    facet_grid(isnb~condition_name)+\n",
    "    geom_vline(aes(xintercept=co_fc), alpha=0.3)+\n",
    "    geom_vline(aes(xintercept=(1/co_fc)), alpha=0.3)+\n",
    "    geom_hline(aes(yintercept=co_p), alpha=0.3)+\n",
    "    scale_x_continuous(trans='log2', breaks= c(1/8, 1/4,1/2,1, 2,4,8))+\n",
    "    scale_color_hue(l=10)+\n",
    "    geom_point()+\n",
    "    geom_text_repel(data=pltdat[fil,],aes(label = goodname, color=fc>1), size=5)+\n",
    "    xlab('log2(Fold Change)')+\n",
    "    ylab('-log10(p)')+\n",
    "    theme_grey(20)"
   ]
  },
  {
   "cell_type": "code",
   "execution_count": null,
   "metadata": {},
   "outputs": [],
   "source": [
    "def get_pltname(d):\n",
    "    return ' - '.join([d[V.COL_GOODNAME]])\n",
    "                      \n",
    "pltdat[V.COL_PLTNAME] = pltdat.apply(get_pltname , axis=1)"
   ]
  },
  {
   "cell_type": "code",
   "execution_count": null,
   "metadata": {
    "lines_to_next_cell": 2
   },
   "outputs": [],
   "source": [
    "pltdat[V.COL_ISNB] = pd.Categorical(pltdat[V.COL_ISNB], categories=['oexp', 'oexp-NB', 'ctrl'])\n",
    "\n",
    "valvar = V.COL_DELTA\n",
    "ind = [V.COL_CONDNAME, V.COL_ISNB]\n",
    "col = V.COL_PLTNAME\n",
    "dat_hm = (pltdat\n",
    "          #.query(f'{V.COL_N_OVEREXPR} > 10')\n",
    "          .pivot_table(valvar, index=ind, columns=col)\n",
    "         )"
   ]
  },
  {
   "cell_type": "code",
   "execution_count": null,
   "metadata": {
    "pycharm": {
     "name": "#%%\n"
    }
   },
   "outputs": [],
   "source": [
    "pltdat.query('isnb == \"ctrl\" & channel_name == \"La139\"')"
   ]
  },
  {
   "cell_type": "markdown",
   "metadata": {
    "pycharm": {
     "name": "#%% md\n"
    }
   },
   "outputs": [],
   "source": [
    "Calculate clustering on the intrenal markers"
   ]
  },
  {
   "cell_type": "code",
   "execution_count": null,
   "metadata": {
    "pycharm": {
     "name": "#%%\n"
    }
   },
   "outputs": [],
   "source": [
    "import scipy.cluster.hierarchy as hclust\n",
    "import scipy.spatial.distance as dist\n",
    "import scipy.stats as stats\n",
    "from matplotlib.patches import Rectangle\n",
    "\n",
    "import matplotlib.colors as mplcolors\n",
    "import matplotlib as mpl\n",
    "from matplotlib.colors import LogNorm\n",
    "\n",
    "\n",
    "def adapt_linkage(clink, grp_values_old, grp_values_new):\n",
    "    \"\"\"\n",
    "    Adapts a linkage matrix for a matrix where there can be multiple values per group\n",
    "    \"\"\"\n",
    "    # total number of groups need to be compatible\n",
    "    assert(len(grp_values_old) == clink[-1,3])\n",
    "    # start making the 'new' cluster table, by assigning all the observations that belong to the same group\n",
    "    # together\n",
    "    clink = clink.copy()\n",
    "    new_lmat = list()\n",
    "    n_newleafes = len(grp_values_new)\n",
    "    n_oldleafes = len(grp_values_old)\n",
    "    c_dict = np.zeros(n_oldleafes)\n",
    "    for idx, val in enumerate(grp_values_old):\n",
    "        new_vals = np.where(grp_values_new == val)[0][::-1].tolist()\n",
    "        new_validx = new_vals.pop()\n",
    "        while (len(new_vals) >= 1):\n",
    "            n_row = np.array([[new_validx, new_vals.pop(), 0, 0]])\n",
    "            new_lmat.append(n_row)\n",
    "            new_validx = len(new_lmat)+n_newleafes-1\n",
    "        \n",
    "        c_dict[idx] = new_validx\n",
    "    # adapt the old linkage matrix\n",
    "    # update the columns\n",
    "    for i in [0,1]:\n",
    "        fil = clink[:, i] > (n_oldleafes-1)\n",
    "        clink[fil, i] += len(new_lmat)+n_newleafes-n_oldleafes\n",
    "        fil = fil == False\n",
    "        clink[fil, i] = c_dict[clink[fil, i].astype(np.int)]\n",
    "    new_clink = np.concatenate([np.concatenate(new_lmat, axis=0), clink])\n",
    "    leaves_link = np.zeros((n_newleafes,4))\n",
    "    \n",
    "    links_all = np.concatenate([leaves_link,new_clink])\n",
    "    links_all[:,3] = 1\n",
    "    \n",
    "    # fix the leaf counts:\n",
    "    for i in range(links_all.shape[0]):\n",
    "        if i > n_newleafes-1:\n",
    "            lidx= int(links_all[i,0])\n",
    "            ridx = int(links_all[i,1])\n",
    "            links_all[i,3] = links_all[lidx,3] + links_all[ridx,3]         \n",
    "    new_clink = links_all[n_newleafes:,:]\n",
    "    return new_clink\n",
    "\n",
    "\n",
    "class MidPointLogNorm(LogNorm):\n",
    "    def __init__(self, vmin=None, vmax=None, midpoint=None, clip=False):\n",
    "        LogNorm.__init__(self,vmin=vmin, vmax=vmax, clip=clip)\n",
    "        self.midpoint=midpoint\n",
    "    def __call__(self, value, clip=None):\n",
    "        # I'm ignoring masked values and all kinds of edge cases to make a\n",
    "        # simple example...\n",
    "        x, y = [np.log(self.vmin), np.log(self.midpoint), np.log(self.vmax)], [0, 0.5, 1]\n",
    "        return np.ma.masked_array(np.interp(np.log(value), x, y))"
   ]
  },
  {
   "cell_type": "markdown",
   "metadata": {},
   "outputs": [],
   "source": [
    "Calculate the row clustering per condition\n",
    "\n",
    "-> remove GFP & FLAG tag to estimate the clustering"
   ]
  },
  {
   "cell_type": "markdown",
   "metadata": {
    "pycharm": {
     "name": "#%% md\n"
    }
   },
   "outputs": [],
   "source": []
  },
  {
   "cell_type": "code",
   "execution_count": null,
   "metadata": {},
   "outputs": [],
   "source": [
    "c_method = 'ward'\n",
    "c_link = 'euclidean'"
   ]
  },
  {
   "cell_type": "code",
   "execution_count": null,
   "metadata": {
    "lines_to_next_cell": 2,
    "pycharm": {
     "name": "#%%\n"
    }
   },
   "outputs": [],
   "source": [
    "mlist = ['Er167', 'Tm169', 'Yb176']\n",
    "\n",
    "fil_cs = [c for c in dat_hm.columns.get_level_values(V.COL_PLTNAME) for m in mlist if m in c]\n",
    "fil = dat_hm.columns.get_level_values(V.COL_PLTNAME).isin(fil_cs)\n",
    "\n",
    "#cmat = dat_hm.xs('oexp',  level=V.COL_ISNB)\n",
    "cmat = dat_hm.loc[:, fil==False].unstack(level=V.COL_ISNB).fillna(0)\n",
    "rlink =  hclust.linkage(cmat, method=c_method, metric=c_link, optimal_ordering=True)\n",
    "rnames = cmat.index.get_level_values(V.COL_CONDNAME)"
   ]
  },
  {
   "cell_type": "markdown",
   "metadata": {
    "pycharm": {
     "name": "#%% md\n"
    }
   },
   "outputs": [],
   "source": [
    "Calculate the column clustering by channel\n"
   ]
  },
  {
   "cell_type": "code",
   "execution_count": null,
   "metadata": {},
   "outputs": [],
   "source": [
    "dat_hm_plot = (dat_hm.loc[dat_hm.index.get_level_values(V.COL_CONDNAME).isin(rnames),:]\n",
    "               .unstack(level=V.COL_ISNB)\n",
    "               .fillna(0)\n",
    "               .stack(level=V.COL_ISNB)\n",
    "              )"
   ]
  },
  {
   "cell_type": "code",
   "execution_count": null,
   "metadata": {},
   "outputs": [],
   "source": [
    "cmat_c = dat_hm_plot #.xs('oexp',  level=V.COL_ISNB)\n",
    "clink =  hclust.linkage(cmat_c.T, method=c_method, metric=c_link, optimal_ordering=True)\n",
    "cnames = cmat_c.columns.get_level_values(V.COL_PLTNAME)\n",
    "\n",
    "row_linkage = adapt_linkage(rlink, rnames, dat_hm_plot.index.get_level_values(V.COL_CONDNAME))\n",
    "col_linkage = clink"
   ]
  },
  {
   "cell_type": "code",
   "execution_count": null,
   "metadata": {
    "lines_to_next_cell": 2
   },
   "outputs": [],
   "source": [
    "def do_heatmap(pdat, col_linkage, row_linkage, figsize=(14,25),row_colors=True,**kwargs):\n",
    "    tresh = 3.\n",
    "\n",
    "    #pdat = dat_hm_plot.copy()\n",
    "    pdat = np.log2(10**pdat)\n",
    "\n",
    "    nticks = 5\n",
    "    cbar_ticks = [np.round((np.log2(1/tresh)+i*(np.log2(tresh)-np.log2(1/tresh))/(nticks-1)), decimals=2) for i in range(nticks)]\n",
    "    if row_colors:\n",
    "        vals = pdat.index.get_level_values(V.COL_ISNB).codes\n",
    "        cols = [mplcolors.get_named_colors_mapping()[c] for c in ['green','blue','darkgrey']]\n",
    "        row_colors = [cols[i] for i in  vals]\n",
    "    else:\n",
    "        row_colors=None\n",
    "        \n",
    "    cg = sns.clustermap(pdat.reset_index(V.COL_ISNB, drop=True),\n",
    "                        cmap=\"RdBu_r\",\n",
    "                        figsize= figsize,\n",
    "                        col_linkage=col_linkage,\n",
    "                        row_linkage=row_linkage,\n",
    "                        center=0,\n",
    "                        yticklabels=3,\n",
    "                        xticklabels=1,\n",
    "                        row_colors=row_colors,\n",
    "                        #norm=LogNorm(vmin=1/tresh, vmax=tresh),\n",
    "                        vmin=np.log2(1/tresh),\n",
    "                        vmax=np.log2(tresh),\n",
    "                        cbar_kws={'ticks': cbar_ticks},**kwargs\n",
    "\n",
    "                       )\n",
    "    plt.setp(cg.ax_heatmap.yaxis.get_majorticklabels(), rotation=0, va='top')\n",
    "    plt.setp(cg.ax_heatmap.xaxis.get_majorticklabels(), rotation=-90,rotation_mode='anchor', ha='left', va='center')\n",
    "\n",
    "    plt.setp(cg.ax_heatmap.yaxis.get_majorticklabels(), size=5)\n",
    "    plt.setp(cg.ax_heatmap.xaxis.get_majorticklabels(), size=5)\n",
    "    cg.fig.subplots_adjust(bottom=0.3)\n",
    "    cg.fig.subplots_adjust(right=0.7)\n",
    "        #sns.set(font_scale=0.2)\n",
    "    cg.ax_heatmap.hlines(np.arange(3,dat_hm.shape[0],3), *cg.ax_heatmap.get_xlim(), lw=0.5,colors='grey')\n",
    "    cg.ax_heatmap.vlines(np.arange(1,dat_hm.shape[1],1), *cg.ax_heatmap.get_ylim(), lw=0.5, colors='grey')\n",
    "    return cg\n",
    "cg = do_heatmap(dat_hm_plot.loc[:, cnames],col_linkage, row_linkage)"
   ]
  },
  {
   "cell_type": "code",
   "execution_count": null,
   "metadata": {
    "pycharm": {
     "name": "#%%\n"
    }
   },
   "outputs": [],
   "source": [
    "delta_co = np.log10(1.1)\n",
    "pltdat[V.COL_ISSIG] = (pltdat[V.COL_P_CORR] <= 0.01) & (np.abs(pltdat[V.COL_DELTA]) > delta_co) & (pltdat[V.COL_P] <= 0.01)\n",
    "\n",
    "dat_hm_sig = pltdat.pivot_table(values=V.COL_ISSIG, index=dat_hm_plot.index.names, columns=dat_hm_plot.columns.names).fillna(False)\n",
    "\n",
    "row_ind = dat_hm_plot.index[cg.dendrogram_row.reordered_ind]\n",
    "col_ind = dat_hm_plot.columns[cg.dendrogram_col.reordered_ind]\n",
    "dat_hm_sig_reord = dat_hm_sig.reindex(index=row_ind,columns=col_ind, fill_value=False)\n",
    "coord = np.where(dat_hm_sig_reord)\n",
    "coord = zip(coord[1], coord[0])\n",
    "\n",
    "ax = cg.ax_heatmap\n",
    "\n",
    "for (x,y) in coord:\n",
    "    isnb = dat_hm_sig_reord.index.get_level_values(V.COL_ISNB)[y]\n",
    "    #if isnb == 'ctrl':\n",
    "    #    color = 'black'\n",
    "    #elif isnb == 'oexp':\n",
    "    #    color = 'red'\n",
    "    #else:\n",
    "    #    color='green'\n",
    "    color='yellow'\n",
    "    ax.scatter(x+0.5, y+0.4, color=color,zorder=2, s=14,edgecolors='black',linewidth=0.5)\n",
    "cg.fig"
   ]
  },
  {
   "cell_type": "markdown",
   "metadata": {
    "pycharm": {
     "name": "#%% md\n"
    }
   },
   "outputs": [],
   "source": [
    "Lodat the 'absolute increase' data"
   ]
  },
  {
   "cell_type": "code",
   "execution_count": null,
   "metadata": {},
   "outputs": [],
   "source": []
  },
  {
   "cell_type": "code",
   "execution_count": null,
   "metadata": {},
   "outputs": [],
   "source": [
    "V.COL_IS_CHANGED = 'is_changed'"
   ]
  },
  {
   "cell_type": "code",
   "execution_count": null,
   "metadata": {},
   "outputs": [],
   "source": [
    "V.COL_FC_VS_OEXP = 'fc_vs_oexp'\n",
    "V.COL_MEAN_ABS_DELTA = 'mean_abs_delta'"
   ]
  },
  {
   "cell_type": "code",
   "execution_count": null,
   "metadata": {},
   "outputs": [],
   "source": []
  },
  {
   "cell_type": "code",
   "execution_count": null,
   "metadata": {},
   "outputs": [],
   "source": [
    "d=(dat_absstat.query(f'{V.COL_CHANNELNAME} in [\"Er167\", \"Tm169\"]')\n",
    "   .set_index(V.COL_ISNB)\n",
    "   .sort_values(V.COL_FC_VS_OEXP, ascending=False)\n",
    "     ['fc_vs_oexp'])\n",
    "d.groupby(V.COL_ISNB).describe()"
   ]
  },
  {
   "cell_type": "code",
   "execution_count": null,
   "metadata": {
    "pycharm": {
     "name": "#%%\n"
    }
   },
   "outputs": [],
   "source": [
    "dat_absstat[V.COL_IS_CHANGED] = dat_absstat.apply(lambda x: (x[V.COL_MEAN_ABS_DELTA] < 0) |\n",
    "                                                  (x[V.COL_ISNB] == 'oexp') |\n",
    "                                                   ((x[V.COL_ISNB] == 'oexp-NB') & (x[V.COL_FC_VS_OEXP] > (0.1))) |\n",
    "                                                  ((x[V.COL_ISNB] == 'ctrl') & (x[V.COL_FC_VS_OEXP] > (0.05))) |\n",
    "                                                    (np.isnan(x[V.COL_FC_VS_OEXP])) ,axis=1)"
   ]
  },
  {
   "cell_type": "raw",
   "metadata": {
    "pycharm": {
     "name": "#%% raw\n"
    }
   },
   "outputs": [],
   "source": [
    "dat_absstat.query(f'({V.COL_CHANNELNAME} in [\"Tm169\", \"Er1d67\"]) &(isnb != \"oexp\")').sort_values([V.COL_FC_VS_OEXP],ascending=False)"
   ]
  },
  {
   "cell_type": "code",
   "execution_count": null,
   "metadata": {},
   "outputs": [],
   "source": [
    "dat_absstat.query('channel_name == \"La139\" & isnb==\"ctrl\"')"
   ]
  },
  {
   "cell_type": "code",
   "execution_count": null,
   "metadata": {
    "pycharm": {
     "name": "#%%\n"
    }
   },
   "outputs": [],
   "source": [
    "def add_annotations(cg, pltdat, dathm, s=14):\n",
    "    dat_hm_sig = pltdat.pivot_table(values=V.COL_ISSIG, index=dat_hm_plot.index.names, columns=dat_hm_plot.columns.names).fillna(False)\n",
    "\n",
    "    if cg.dendrogram_row is not None:\n",
    "        row_ind = dathm.index[cg.dendrogram_row.reordered_ind]\n",
    "    else:\n",
    "        row_ind = dathm.index\n",
    "    if cg.dendrogram_col is not None:\n",
    "        col_ind = dathm.columns[cg.dendrogram_col.reordered_ind]\n",
    "    else:\n",
    "        col_ind = dathm.columns\n",
    "    dat_hm_sig_reord = dat_hm_sig.reindex(index=row_ind,columns=col_ind, fill_value=False)\n",
    "    coord = np.where(dat_hm_sig_reord)\n",
    "    coord = zip(coord[1], coord[0])\n",
    "\n",
    "    ax = cg.ax_heatmap\n",
    "\n",
    "    for (x,y) in coord:\n",
    "        isnb = dat_hm_sig_reord.index.get_level_values(V.COL_ISNB)[y]\n",
    "        #if isnb == 'ctrl':\n",
    "        #    color = 'black'\n",
    "        #elif isnb == 'oexp':\n",
    "        #    color = 'red'\n",
    "        #else:\n",
    "        #    color='green'\n",
    "        color='yellow'\n",
    "        ax.scatter(x+0.5, y+0.4, color=color,zorder=2, s=s,edgecolors='black',linewidth=0.5)\n",
    "    return cg\n",
    "\n"
   ]
  },
  {
   "cell_type": "markdown",
   "metadata": {
    "pycharm": {
     "name": "#%% md\n"
    }
   },
   "outputs": [],
   "source": [
    "Do final cutoffs"
   ]
  },
  {
   "cell_type": "code",
   "execution_count": null,
   "metadata": {},
   "outputs": [],
   "source": [
    "delta_co = np.log10(1.2)\n",
    "dat_issig = pltdat.merge(dat_absstat[[V.COL_CHANNELNAME, V.COL_CONDNAME, V.COL_ISNB, V.COL_IS_CHANGED]],\n",
    "                        on=[V.COL_CHANNELNAME, V.COL_CONDNAME, V.COL_ISNB])\n",
    "dat_issig[V.COL_ISSIG] = ((dat_issig[V.COL_P_CORR] <= 0.01) & (np.abs(dat_issig[V.COL_DELTA]) > delta_co) &\\\n",
    "    (dat_issig[V.COL_P] <= 0.01) & (dat_issig[V.COL_IS_CHANGED] == True))\n",
    "\n",
    "\n",
    "cg =do_heatmap(dat_hm_plot.loc[:, cnames],col_linkage, row_linkage)\n",
    "\n",
    "cg = add_annotations(cg, dat_issig,dat_hm_plot.loc[:, cnames] ) \n",
    "cg.fig"
   ]
  },
  {
   "cell_type": "code",
   "execution_count": null,
   "metadata": {},
   "outputs": [],
   "source": [
    "dat_issig['sigdir'] = dat_issig['sig'] * np.sign(dat_issig['delta'])"
   ]
  },
  {
   "cell_type": "code",
   "execution_count": null,
   "metadata": {},
   "outputs": [],
   "source": []
  },
  {
   "cell_type": "code",
   "execution_count": null,
   "metadata": {},
   "outputs": [],
   "source": [
    "class CHANS:\n",
    "    p38 = 'Gd156'\n",
    "    jnk = 'Er170'\n",
    "    gfp1 = 'Er167'\n",
    "    gfp2 = 'Tm169'\n",
    "    flag = 'Yb176'\n",
    "    stereotypic = [p38, jnk, gfp1, gfp2, flag]"
   ]
  },
  {
   "cell_type": "code",
   "execution_count": null,
   "metadata": {},
   "outputs": [],
   "source": [
    "V.COL_ISSTEREOTYPIC = 'is_stereotypic'"
   ]
  },
  {
   "cell_type": "code",
   "execution_count": null,
   "metadata": {},
   "outputs": [],
   "source": []
  },
  {
   "cell_type": "code",
   "execution_count": null,
   "metadata": {},
   "outputs": [],
   "source": [
    "dstat = (dat_issig\n",
    "     .assign(**{V.COL_ISSTEREOTYPIC: lambda x: ['gfp' if chan in [CHANS.gfp1, CHANS.gfp2, CHANS.flag] else\n",
    "                                      'p38' if chan == CHANS.p38 else\n",
    "                                      'JNK' if chan == CHANS.jnk else\n",
    "                                      'other' for chan in  x[V.COL_CHANNELNAME].values]})\n",
    "     .pivot_table(index=V.COL_CONDNAME, columns=[V.COL_ISSTEREOTYPIC, V.COL_ISNB], values=V.COL_ISSIG, aggfunc=np.sum)\n",
    "     .sort_values([('other', 'oexp')], ascending=False)\n",
    ")\n",
    "\n",
    "dstat_all = (dat_issig\n",
    "     .assign(**{V.COL_ISSTEREOTYPIC: lambda x: ['gfp' if chan in [CHANS.gfp1, CHANS.gfp2, CHANS.flag] else\n",
    "                                      'other' for chan in  x[V.COL_CHANNELNAME].values]})\n",
    "     .pivot_table(index=V.COL_CONDNAME, columns=[V.COL_ISSTEREOTYPIC, V.COL_ISNB], values=V.COL_ISSIG, aggfunc=np.sum)\n",
    "     .sort_values([('other', 'oexp')], ascending=False)\n",
    ")"
   ]
  },
  {
   "cell_type": "code",
   "execution_count": null,
   "metadata": {
    "pycharm": {
     "name": "#%%\n"
    }
   },
   "outputs": [],
   "source": [
    "dstat.head()"
   ]
  },
  {
   "cell_type": "markdown",
   "metadata": {},
   "outputs": [],
   "source": [
    "Plot everything that has also neighbourhood effects"
   ]
  },
  {
   "cell_type": "markdown",
   "metadata": {
    "pycharm": {
     "name": "#%% md\n"
    }
   },
   "outputs": [],
   "source": [
    "Order by pathway"
   ]
  },
  {
   "cell_type": "code",
   "execution_count": null,
   "metadata": {},
   "outputs": [],
   "source": [
    "dat_pannel_ord = pd.read_csv(C.fn_panel_ordered)\n",
    "COL_CLASS = 'class'\n",
    "COL_ORD_WITHIN = 'ord_within_class'\n",
    "cols = [V.COL_METAL, COL_CLASS, COL_ORD_WITHIN]\n",
    "class_ord = ['tag','egf','mtor', 'cellcycle', 'stress', 'apoptosis','total']\n",
    "dat_pannel_ord[COL_CLASS] = pd.Categorical(dat_pannel_ord[COL_CLASS], categories=class_ord)\n",
    "\n",
    "ord_pltname = pltdat.drop_duplicates([V.COL_PLTNAME]).merge(dat_pannel_ord[[V.COL_METAL, COL_CLASS, COL_ORD_WITHIN]], left_on=V.COL_CHANNELNAME,\n",
    "                             right_on=V.COL_METAL).sort_values([ COL_CLASS, COL_ORD_WITHIN])[V.COL_PLTNAME].values"
   ]
  },
  {
   "cell_type": "code",
   "execution_count": null,
   "metadata": {},
   "outputs": [],
   "source": [
    "ord_pltname"
   ]
  },
  {
   "cell_type": "code",
   "execution_count": null,
   "metadata": {},
   "outputs": [],
   "source": [
    "ord_pltname"
   ]
  },
  {
   "cell_type": "code",
   "execution_count": null,
   "metadata": {},
   "outputs": [],
   "source": [
    "#col_nbresp = (dstat['other'].loc[(dstat[[(s, n) for s in ['other'] for n in ('oexp-NB','ctrl')]].sum(1) >1 ) |\\\n",
    "#                                 (dstat.index.get_level_values(V.COL_CONDNAME).isin([\n",
    "#                                        'GFP_nan',\n",
    "#                                        'GFP_GFP-FLAG',\n",
    "#                                        'HcRed_GFP-FLAG',\n",
    "#                                        'Luciferase_GFP-FLAG'])), :].index)\n",
    "\n",
    "#col_nbresp = (dstat['other'].loc[((dstat['other']['oexp'] >0 ) |&\\\n",
    "#                                  (dstat['other']['oexp-NB'] >0 )) | \\\n",
    "#                                 dstat.index.get_level_values(V.COL_CONDNAME).isin([\n",
    "#                                        'GFP_nan',\n",
    "#                                        'GFP_GFP-FLAG',\n",
    "#                                        'HcRed_GFP-FLAG',\n",
    "#                                        'Luciferase_GFP-FLAG']), :].index)\n",
    "col_nbresp = (dstat['other'].loc[(((dstat['other']['ctrl'] > 0 ) |\\\n",
    "                                  (dstat['other']['oexp-NB'] >0 )) | \\\n",
    "                                 dstat.index.get_level_values(V.COL_CONDNAME).isin([\n",
    "                                        'GFP_nan',\n",
    "                                        'GFP_GFP-FLAG',\n",
    "                                        'HcRed_GFP-FLAG',\n",
    "                                        'Luciferase_GFP-FLAG'])\n",
    "                                 ) & ~(dstat['other']['oexp'].isna()), :].index)\n",
    "\n",
    "mlist = ['Er167', 'Tm169', 'Yb176']\n",
    "\n",
    "\n",
    "d= dat_hm_plot.loc[col_nbresp,:]\n",
    "fil_cs = [c for c in d.columns.get_level_values(V.COL_PLTNAME) for m in mlist if m in c]\n",
    "fil = d.columns.get_level_values(V.COL_PLTNAME).isin(fil_cs)\n",
    "#cmat = dat_hm.xs('oexp',  level=V.COL_ISNB)\n",
    "cmat = d.loc[:, fil==False].unstack(level=V.COL_ISNB).dropna()\n",
    "rlink2 =  hclust.linkage(cmat, method=c_method, metric=c_link, optimal_ordering=True)\n",
    "rnames2 = cmat.index.get_level_values(V.COL_CONDNAME)\n",
    "\n",
    "row_linkage2 = adapt_linkage(rlink2, rnames2, d.index.get_level_values(V.COL_CONDNAME))\n",
    "\n",
    "cmat_c = d\n",
    "clink2 =  hclust.linkage(cmat_c.T, method=c_method, metric=c_link, optimal_ordering=True)\n",
    "\n",
    "\n",
    "cnames2 = list(ord_pltname)\n",
    "\n",
    "with plt.rc_context({'font.size': 5}):\n",
    "    cg =do_heatmap(d.loc[:,cnames2], clink2, row_linkage2, figsize=(5, 5), col_cluster=False)\n",
    "\n",
    "\n",
    "    cg = add_annotations(cg, dat_issig,d.loc[:,cnames2], s=5) \n",
    "    cg.fig.savefig(C.fol_paper / 'fig5_res_heatmap.pdf')\n",
    "    cg.fig"
   ]
  },
  {
   "cell_type": "code",
   "execution_count": null,
   "metadata": {},
   "outputs": [],
   "source": [
    "pdat = d.loc[:,cnames2]\n",
    "pdat"
   ]
  },
  {
   "cell_type": "code",
   "execution_count": null,
   "metadata": {},
   "outputs": [],
   "source": [
    "#col_nbresp = (dstat['other'].loc[((dstat['other']['oexp'] >0 )&\\\n",
    "#                                  (dstat['other']['oexp-NB'] ==0)) | \\\n",
    "#                                 dstat.index.get_level_values(V.COL_CONDNAME).isin([\n",
    "#                                        'GFP_nan',\n",
    "#                                        'GFP_GFP-FLAG',\n",
    "#                                        'HcRed_GFP-FLAG',\n",
    "#                                        'Luciferase_GFP-FLAG']), :].index)\n",
    "\n",
    "mlist = ['Er167', 'Tm169', 'Yb176']\n",
    "\n",
    "\n",
    "fil = ~dat_hm_plot.index.get_level_values(V.COL_CONDNAME).isin(col_nbresp)\n",
    "d= dat_hm_plot.loc[fil,:][ord_pltname]\n",
    "fil_cs = [c for c in d.columns.get_level_values(V.COL_PLTNAME) for m in mlist if m in c]\n",
    "fil = d.columns.get_level_values(V.COL_PLTNAME).isin(fil_cs)\n",
    "#cmat = dat_hm.xs('oexp',  level=V.COL_ISNB)\n",
    "cmat = d.loc[:, fil==False].unstack(level=V.COL_ISNB).fillna(0)\n",
    "rlink2 =  hclust.linkage(cmat, method=c_method, metric=c_link, optimal_ordering=True)\n",
    "rnames2 = cmat.index.get_level_values(V.COL_CONDNAME)\n",
    "\n",
    "cmat_c = d\n",
    "clink =  hclust.linkage(cmat_c.T, method=c_method, metric=c_link, optimal_ordering=True)\n",
    "\n",
    "\n",
    "cnames2 = ord_pltname\n",
    "\n",
    "row_linkage2 = adapt_linkage(rlink2, rnames2, d.index.get_level_values(V.COL_CONDNAME))\n",
    "col_linkage2 = clink\n",
    "\n",
    "with plt.rc_context({'font.size': 5}):\n",
    "    cg =do_heatmap(d.loc[:,cnames2],col_linkage2, row_linkage2, figsize=(5, 5),col_cluster=False)\n",
    "\n",
    "    cg = add_annotations(cg, dat_issig,d.loc[:,cnames2], s=5) \n",
    "    cg.fig.savefig(C.fol_paper / 'fig5_res_heatmap_a.pdf')\n",
    "    cg.fig"
   ]
  },
  {
   "cell_type": "code",
   "execution_count": null,
   "metadata": {},
   "outputs": [],
   "source": [
    "col_nbresp = (dstat['other'].loc[((dstat['other']['oexp'] >1 )&\\\n",
    "                                  (dstat['other']['oexp-NB'] >1 )) | \\\n",
    "                                 dstat.index.get_level_values(V.COL_CONDNAME).isin([\n",
    "                                        'GFP_nan',\n",
    "                                        'GFP_GFP-FLAG',\n",
    "                                        'HcRed_GFP-FLAG',\n",
    "                                        'Luciferase_GFP-FLAG']), :].index)\n",
    "\n",
    "mlist = ['Er167', 'Tm169', 'Yb176']\n",
    "\n",
    "\n",
    "\n",
    "d= dat_hm_plot[ord_pltname]\n",
    "fil_cs = [c for c in d.columns.get_level_values(V.COL_PLTNAME) for m in mlist if m in c]\n",
    "fil = d.columns.get_level_values(V.COL_PLTNAME).isin(fil_cs)\n",
    "#cmat = dat_hm.xs('oexp',  level=V.COL_ISNB)\n",
    "cmat = d.loc[:, fil==False].unstack(level=V.COL_ISNB).dropna()\n",
    "rlink2 =  hclust.linkage(cmat, method=c_method, metric=c_link, optimal_ordering=True)\n",
    "rnames2 = cmat.index.get_level_values(V.COL_CONDNAME)\n",
    "\n",
    "row_linkage2 = adapt_linkage(rlink2, rnames2, d.index.get_level_values(V.COL_CONDNAME))\n",
    "\n",
    "cg =do_heatmap(d.loc[:,ord_pltname],None, row_linkage2, figsize=(12, 16), col_cluster=False)\n",
    "\n",
    "\n",
    "cg = add_annotations(cg, dat_issig,d.loc[:,cnames2], s=10) \n",
    "cg.fig.savefig(C.fol_paper / 'supfig_oexpall_heatmap.pdf')\n",
    "cg.fig"
   ]
  },
  {
   "cell_type": "raw",
   "metadata": {},
   "outputs": [],
   "source": [
    "# Only overexpressing\n",
    "col_nbresp = (dstat['other'].loc[((dstat['other']['oexp'] >1 )&\\\n",
    "                                  (dstat['other']['oexp-NB'] >1 )) | \\\n",
    "                                 dstat.index.get_level_values(V.COL_CONDNAME).isin([\n",
    "                                        'GFP_nan',\n",
    "                                        'GFP_GFP-FLAG',\n",
    "                                        'HcRed_GFP-FLAG',\n",
    "                                        'Luciferase_GFP-FLAG']), :].index)\n",
    "\n",
    "mlist = ['Er167', 'Tm169', 'Yb176']\n",
    "\n",
    "\n",
    "\n",
    "d= dat_hm_plot[ord_pltname]\n",
    "fil_cs = [c for c in d.columns.get_level_values(V.COL_PLTNAME) for m in mlist if m in c]\n",
    "fil = d.columns.get_level_values(V.COL_PLTNAME).isin(fil_cs)\n",
    "\n",
    "cmat = d.loc[d.index.get_level_values(V.COL_ISNB) == 'oexp', fil==False].unstack(level=V.COL_ISNB).dropna()\n",
    "rlink2 =  hclust.linkage(cmat, method=c_method, metric=c_link, optimal_ordering=True)\n",
    "rnames2 = cmat.index.get_level_values(V.COL_CONDNAME)\n",
    "\n",
    "cmat_c = d.loc[d.index.get_level_values(V.COL_ISNB) == 'oexp', :]\n",
    "clink =  hclust.linkage(cmat_c.T, method=c_method, metric=c_link, optimal_ordering=True)\n",
    "cnames2 = cmat_c.columns.get_level_values(V.COL_PLTNAME)\n",
    "\n",
    "row_linkage2 =rlink2\n",
    "#adapt_linkage(rlink2, rnames2, d.index.get_level_values(V.COL_CONDNAME))\n",
    "col_linkage2 = clink\n",
    "\n",
    "def do_heatmap_oexponly(pdat, col_linkage, row_linkage, figsize=(14,25),row_colors=True,**kwargs):\n",
    "    tresh = 3.\n",
    "\n",
    "    #pdat = dat_hm_plot.copy()\n",
    "    pdat = np.log2(10**pdat)\n",
    "\n",
    "    nticks = 5\n",
    "    cbar_ticks = [np.round((np.log2(1/tresh)+i*(np.log2(tresh)-np.log2(1/tresh))/(nticks-1)), decimals=2) for i in range(nticks)]\n",
    "    if row_colors:\n",
    "        row_colors = [mplcolors.get_named_colors_mapping()[c]\n",
    "                                     for i in range(int(pdat.shape[0]/3)) \n",
    "                                     for c in ['blue','green','darkgrey']]\n",
    "    else:\n",
    "        row_colors=None\n",
    "        \n",
    "    cg = sns.clustermap(pdat.reset_index(V.COL_ISNB, drop=True),\n",
    "                        cmap=\"RdBu_r\",\n",
    "                        figsize= figsize,\n",
    "                        col_linkage=col_linkage,\n",
    "                        row_linkage=row_linkage,\n",
    "                        center=0,\n",
    "                        yticklabels=1,\n",
    "                        xticklabels=1,\n",
    "                        row_colors=row_colors,\n",
    "                        #norm=LogNorm(vmin=1/tresh, vmax=tresh),\n",
    "                        vmin=np.log2(1/tresh),\n",
    "                        vmax=np.log2(tresh),\n",
    "                        cbar_kws={'ticks': cbar_ticks},**kwargs\n",
    "\n",
    "                       )\n",
    "    plt.setp(cg.ax_heatmap.yaxis.get_majorticklabels(), rotation=0, va='center')\n",
    "    plt.setp(cg.ax_heatmap.xaxis.get_majorticklabels(), rotation=-90,rotation_mode='anchor', ha='left', va='center')\n",
    "\n",
    "    plt.setp(cg.ax_heatmap.yaxis.get_majorticklabels(), size=10)\n",
    "    plt.setp(cg.ax_heatmap.xaxis.get_majorticklabels(), size=10)\n",
    "    cg.fig.subplots_adjust(bottom=0.3)\n",
    "    cg.fig.subplots_adjust(right=0.7)\n",
    "        #sns.set(font_scale=0.2)\n",
    "    #     cg.ax_heatmap.hlines(np.arange(3,dat_hm.shape[0],3), *cg.ax_heatmap.get_xlim(), lw=0.5,colors='grey')\n",
    "    #     cg.ax_heatmap.vlines(np.arange(1,dat_hm.shape[1],1), *cg.ax_heatmap.get_ylim(), lw=0.5, colors='grey')\n",
    "    return cg\n",
    "\n",
    "cg =do_heatmap_oexponly(d.loc[d.index.get_level_values(V.COL_ISNB) == 'oexp',cnames2],\n",
    "               col_linkage2, row_linkage2, figsize=(12, 16), col_cluster=False, row_colors=False)\n",
    "delta_co = np.log10(1.2)\n",
    "\n",
    "cg = add_annotations(cg, dat_issig,d.loc[d.index.get_level_values(V.COL_ISNB) == 'oexp',cnames2], s=10) \n",
    "cg.fig.savefig(C.fol_paper / 'supfig_oexponly_heatmap.pdf')\n",
    "cg.fig"
   ]
  },
  {
   "cell_type": "code",
   "execution_count": null,
   "metadata": {},
   "outputs": [],
   "source": [
    "col_nbresp = (dstat['other'].loc[((dstat['other']['oexp'] >0 )&\\\n",
    "                                  (dstat['other']['oexp-NB'] >0 )) | \\\n",
    "                                 dstat.index.get_level_values(V.COL_CONDNAME).isin([\n",
    "                                        'GFP_nan',\n",
    "                                        'GFP_GFP-FLAG',\n",
    "                                        'HcRed_GFP-FLAG',\n",
    "                                        'Luciferase_GFP-FLAG']), :].index)\n",
    "\n",
    "mlist = ['Er167', 'Tm169', 'Yb176']\n",
    "\n",
    "\n",
    "\n",
    "d= dat_hm_plot.loc[col_nbresp,:]\n",
    "fil_cs = [c for c in d.columns.get_level_values(V.COL_PLTNAME) for m in mlist if m in c]\n",
    "fil = d.columns.get_level_values(V.COL_PLTNAME).isin(fil_cs)\n",
    "#cmat = dat_hm.xs('oexp',  level=V.COL_ISNB)\n",
    "cmat = d.loc[:, fil==False].unstack(level=V.COL_ISNB).dropna()\n",
    "rlink2 =  hclust.linkage(cmat, method=c_method, metric=c_link, optimal_ordering=True)\n",
    "rnames2 = cmat.index.get_level_values(V.COL_CONDNAME)\n",
    "\n",
    "cmat_c = d\n",
    "clink =  hclust.linkage(cmat_c.T, method=c_method, metric=c_link, optimal_ordering=True)\n",
    "cnames2 = cmat_c.columns.get_level_values(V.COL_PLTNAME)\n",
    "\n",
    "row_linkage2 = adapt_linkage(rlink2, rnames2, d.index.get_level_values(V.COL_CONDNAME))\n",
    "col_linkage2 = clink\n",
    "cg =do_heatmap(d.loc[:,cnames2],col_linkage2, row_linkage2, figsize=(12, 10))\n",
    "delta_co = np.log10(1.2)\n",
    "\n",
    "cg = add_annotations(cg, dat_issig,d.loc[:,cnames2], s=10) \n",
    "cg.fig"
   ]
  },
  {
   "cell_type": "code",
   "execution_count": null,
   "metadata": {},
   "outputs": [],
   "source": [
    "col_nbresp = (dstat['other'].loc[((dstat['other']['oexp'] >1 )&\\\n",
    "                                  (dstat['other']['oexp-NB'] >-1 )) | \\\n",
    "                                 dstat.index.get_level_values(V.COL_CONDNAME).isin([\n",
    "                                        'GFP_nan',\n",
    "                                        'GFP_GFP-FLAG',\n",
    "                                        'HcRed_GFP-FLAG',\n",
    "                                        'Luciferase_GFP-FLAG']), :].index)\n",
    "\n",
    "mlist = ['Er167', 'Tm169', 'Yb176']\n",
    "\n",
    "\n",
    "\n",
    "d= dat_hm_plot.loc[col_nbresp,:]\n",
    "fil_cs = [c for c in d.columns.get_level_values(V.COL_PLTNAME) for m in mlist if m in c]\n",
    "fil = d.columns.get_level_values(V.COL_PLTNAME).isin(fil_cs)\n",
    "#cmat = dat_hm.xs('oexp',  level=V.COL_ISNB)\n",
    "cmat = d.loc[:, fil==False].unstack(level=V.COL_ISNB).fillna(0)\n",
    "rlink2 =  hclust.linkage(cmat, method=c_method, metric=c_link, optimal_ordering=True)\n",
    "rnames2 = cmat.index.get_level_values(V.COL_CONDNAME)\n",
    "\n",
    "cmat_c = d\n",
    "clink =  hclust.linkage(cmat_c.T, method=c_method, metric=c_link, optimal_ordering=True)\n",
    "cnames2 = cmat_c.columns.get_level_values(V.COL_PLTNAME)\n",
    "\n",
    "row_linkage2 = adapt_linkage(rlink2, rnames2, d.index.get_level_values(V.COL_CONDNAME))\n",
    "col_linkage2 = clink\n",
    "cg =do_heatmap(d.loc[:,cnames2],col_linkage2, row_linkage2, figsize=(10, 15))\n",
    "delta_co = np.log10(1.2)\n",
    "\n",
    "cg = add_annotations(cg, dat_issig,d.loc[:,cnames2]) \n",
    "cg.fig"
   ]
  },
  {
   "cell_type": "markdown",
   "metadata": {},
   "outputs": [],
   "source": [
    "## Calculate statistics from these significant constructs\n",
    "\n",
    "This is the main basis for the text"
   ]
  },
  {
   "cell_type": "code",
   "execution_count": null,
   "metadata": {},
   "outputs": [],
   "source": [
    "dat_issig.to_csv(C.fn_out_sig, index=False)"
   ]
  },
  {
   "cell_type": "code",
   "execution_count": null,
   "metadata": {},
   "outputs": [],
   "source": []
  },
  {
   "cell_type": "code",
   "execution_count": null,
   "metadata": {},
   "outputs": [],
   "source": [
    "V.COL_CONSTR_TYPE = 'construct_type'"
   ]
  },
  {
   "cell_type": "code",
   "execution_count": null,
   "metadata": {
    "pycharm": {
     "name": "#%%\n"
    }
   },
   "outputs": [],
   "source": [
    "\n",
    "\n",
    "dat_constrmeta = pd.read_csv(C.fn_constructmeta)"
   ]
  },
  {
   "cell_type": "code",
   "execution_count": null,
   "metadata": {
    "pycharm": {
     "name": "#%%\n"
    }
   },
   "outputs": [],
   "source": [
    "dat_constrmeta"
   ]
  },
  {
   "cell_type": "code",
   "execution_count": null,
   "metadata": {},
   "outputs": [],
   "source": [
    "dat_pannel = bro.data.pannel"
   ]
  },
  {
   "cell_type": "code",
   "execution_count": null,
   "metadata": {},
   "outputs": [],
   "source": [
    "dat_constrmeta"
   ]
  },
  {
   "cell_type": "code",
   "execution_count": null,
   "metadata": {},
   "outputs": [],
   "source": [
    "dat_pannel = bro.data.pannel"
   ]
  },
  {
   "cell_type": "raw",
   "metadata": {},
   "outputs": [],
   "source": [
    "dat_nodes = pd.read_csv( '../config/network/network_nodes.csv')\n",
    "\n",
    "\n",
    "dat_nodes[[V.COL_CHANNELNAME, 'gene', 'type', 'shared_name']]\n",
    "dat_nodes.iloc[23,:]"
   ]
  },
  {
   "cell_type": "code",
   "execution_count": null,
   "metadata": {},
   "outputs": [],
   "source": [
    "d = (dat_issig\n",
    " .query(f'{V.COL_ISNB} == \"oexp\"')\n",
    " .groupby([V.COL_CHANNELNAME, V.COL_GOODNAME])[V.COL_ISSIG]\n",
    " .apply(lambda x: np.mean(x>0))\n",
    " .sort_values(ascending=False).reset_index()\n",
    ")\n",
    "d.query(f'{V.COL_CHANNELNAME} in {[CHANS.p38, CHANS.jnk]}')"
   ]
  },
  {
   "cell_type": "markdown",
   "metadata": {},
   "outputs": [],
   "source": [
    "-> p38 is changed in 84%, JNK in 64%"
   ]
  },
  {
   "cell_type": "code",
   "execution_count": null,
   "metadata": {},
   "outputs": [],
   "source": [
    "(dat_issig\n",
    " .query(f'{V.COL_ISNB} == \"oexp\"')\n",
    " .query(f'{V.COL_CHANNELNAME} in {[CHANS.p38, CHANS.jnk]}')\n",
    " .merge(dat_constrmeta)\n",
    " .query(f'{V.COL_CONSTR_TYPE}==\"Control\"')\n",
    " .query(f'{V.COL_ISSIG} == 1')\n",
    ")"
   ]
  },
  {
   "cell_type": "markdown",
   "metadata": {},
   "outputs": [],
   "source": [
    "'3 out of 44 controls have stress pathway affected'"
   ]
  },
  {
   "cell_type": "code",
   "execution_count": null,
   "metadata": {},
   "outputs": [],
   "source": [
    "(dat_issig\n",
    " #.query(f'{V.COL_ISNB} == \"oexp-NB\"')\n",
    " .groupby([V.COL_CHANNELNAME, V.COL_GOODNAME,V.COL_ISNB],\n",
    "          observed=True)[V.COL_ISSIG]\n",
    " .apply(lambda x: np.sum(x>0))\n",
    " .sort_values(ascending=False)\n",
    " .reset_index()\n",
    " .assign(**{V.COL_ISNB: lambda x: x[V.COL_ISNB].astype(str)})\n",
    " .set_index([V.COL_ISNB, V.COL_CHANNELNAME, V.COL_GOODNAME])[V.COL_ISSIG]\n",
    " .unstack(V.COL_ISNB)\n",
    "  .sort_values('oexp-NB',ascending=False)\n",
    "  .assign(**{'frac_oexp': lambda x: x['oexp-NB']/x['oexp']})\n",
    "      .sort_values('frac_oexp',ascending=False)\n",
    " \n",
    " \n",
    ")"
   ]
  },
  {
   "cell_type": "code",
   "execution_count": null,
   "metadata": {},
   "outputs": [],
   "source": [
    "d= (dat_issig\n",
    " #.query(f'{V.COL_ISNB} == \"oexp-NB\"')\n",
    " .merge(dat_pannel_ord, left_on=V.COL_CHANNELNAME, right_on=V.COL_METAL)\n",
    " .groupby(['class',V.COL_ISNB],\n",
    "          observed=True)[V.COL_ISSIG]\n",
    " .apply(lambda x: np.sum(x>0))\n",
    " .sort_values(ascending=False)\n",
    " .reset_index()\n",
    " .assign(**{V.COL_ISNB: lambda x: x[V.COL_ISNB].astype(str)})\n",
    " .set_index([V.COL_ISNB, 'class'])[V.COL_ISSIG]\n",
    " .unstack(V.COL_ISNB)\n",
    " .assign(**{'frac_oexp': lambda x: x['oexp-NB']/x['oexp']})\n",
    "      .sort_values('frac_oexp',ascending=False)\n",
    ")\n",
    "d"
   ]
  },
  {
   "cell_type": "code",
   "execution_count": null,
   "metadata": {},
   "outputs": [],
   "source": [
    "(dat_issig\n",
    " #.query(f'{V.COL_ISNB} == \"oexp-NB\"')\n",
    "\n",
    " .groupby([V.COL_CHANNELNAME, V.COL_GOODNAME,V.COL_ISNB],\n",
    "          observed=True)[V.COL_ISSIG]\n",
    " .apply(lambda x: np.sum(x>0))\n",
    " .sort_values(ascending=False)\n",
    " .reset_index()\n",
    " .assign(**{V.COL_ISNB: lambda x: x[V.COL_ISNB].astype(str)})\n",
    " .set_index([V.COL_ISNB, V.COL_CHANNELNAME, V.COL_GOODNAME])[V.COL_ISSIG]\n",
    " .unstack(V.COL_ISNB)\n",
    "  .sort_values('oexp-NB',ascending=False)\n",
    ")"
   ]
  },
  {
   "cell_type": "code",
   "execution_count": null,
   "metadata": {},
   "outputs": [],
   "source": [
    "dat_issig"
   ]
  },
  {
   "cell_type": "markdown",
   "metadata": {},
   "outputs": [],
   "source": [
    "How many constructs have more than one intracellular effect?"
   ]
  },
  {
   "cell_type": "code",
   "execution_count": null,
   "metadata": {},
   "outputs": [],
   "source": [
    "oexp_thresh = 1"
   ]
  },
  {
   "cell_type": "code",
   "execution_count": null,
   "metadata": {},
   "outputs": [],
   "source": [
    "dstat_is_respond = dstat > oexp_thresh\n",
    "\n",
    "dstat_is_respond.head()"
   ]
  },
  {
   "cell_type": "code",
   "execution_count": null,
   "metadata": {},
   "outputs": [],
   "source": [
    "((dstat_is_respond['other']['oexp']).to_frame()\n",
    "    .join(dat_constrmeta.set_index(V.COL_CONDNAME)[[V.COL_CONSTR_TYPE]])\n",
    "     .groupby(V.COL_CONSTR_TYPE)['oexp'].agg(**{'frac': lambda x: np.sum(x)/x.size,\n",
    "                                        'tot': len,\n",
    "                                        'pos': np.sum})\n",
    ")"
   ]
  },
  {
   "cell_type": "markdown",
   "metadata": {},
   "outputs": [],
   "source": [
    "73% of markers affect multiple markers"
   ]
  },
  {
   "cell_type": "markdown",
   "metadata": {},
   "outputs": [],
   "source": [
    "How many effect > 2 in:\n",
    "overexpression"
   ]
  },
  {
   "cell_type": "code",
   "execution_count": null,
   "metadata": {},
   "outputs": [],
   "source": [
    "((dstat_is_respond['other']['oexp']).to_frame()\n",
    "    .join(dat_constrmeta.set_index(V.COL_CONDNAME)[[V.COL_CONSTR_TYPE]])['oexp'].agg({'frac': lambda x: np.sum(x)/x.size,\n",
    "                                        'tot': len,\n",
    "                                        'pos': np.sum})\n",
    ")"
   ]
  },
  {
   "cell_type": "markdown",
   "metadata": {},
   "outputs": [],
   "source": [
    "How many effect > 2 in:\n",
    "neighbours"
   ]
  },
  {
   "cell_type": "code",
   "execution_count": null,
   "metadata": {},
   "outputs": [],
   "source": [
    "((dstat_is_respond['other']['oexp-NB']).to_frame()\n",
    "    .join(dat_constrmeta.set_index(V.COL_CONDNAME)[[V.COL_CONSTR_TYPE]])['oexp-NB'].agg({'frac': lambda x: np.sum(x)/x.size,\n",
    "                                        'tot': len,\n",
    "                                        'pos': np.sum})\n",
    ")"
   ]
  },
  {
   "cell_type": "markdown",
   "metadata": {},
   "outputs": [],
   "source": [
    "How many markers are affected?"
   ]
  },
  {
   "cell_type": "code",
   "execution_count": null,
   "metadata": {},
   "outputs": [],
   "source": [
    "dstat['other'].sort_values('oexp',ascending=False)"
   ]
  },
  {
   "cell_type": "code",
   "execution_count": null,
   "metadata": {},
   "outputs": [],
   "source": [
    "dstat['other']['oexp-NB'].sort_values(ascending=False)"
   ]
  },
  {
   "cell_type": "code",
   "execution_count": null,
   "metadata": {},
   "outputs": [],
   "source": []
  },
  {
   "cell_type": "code",
   "execution_count": null,
   "metadata": {},
   "outputs": [],
   "source": [
    "((dstat_is_respond['other']['oexp-NB']).to_frame()\n",
    "    .join(dat_constrmeta.set_index(V.COL_CONDNAME)[[V.COL_CONSTR_TYPE]])['oexp-NB'])"
   ]
  },
  {
   "cell_type": "markdown",
   "metadata": {},
   "outputs": [],
   "source": [
    "How many effect > 2 in:\n",
    "bystanders"
   ]
  },
  {
   "cell_type": "code",
   "execution_count": null,
   "metadata": {},
   "outputs": [],
   "source": [
    "((dstat_is_respond['other']['ctrl']).to_frame()\n",
    "    .join(dat_constrmeta.set_index(V.COL_CONDNAME)[[V.COL_CONSTR_TYPE]])['ctrl'].agg({'frac': lambda x: np.sum(x)/x.size,\n",
    "                                        'tot': len,\n",
    "                                        'pos': np.sum})\n",
    ")"
   ]
  },
  {
   "cell_type": "code",
   "execution_count": null,
   "metadata": {},
   "outputs": [],
   "source": []
  },
  {
   "cell_type": "markdown",
   "metadata": {},
   "outputs": [],
   "source": [
    "How many intracellular markers are affected on average?"
   ]
  },
  {
   "cell_type": "code",
   "execution_count": null,
   "metadata": {},
   "outputs": [],
   "source": [
    "(dstat['other']\n",
    " .rename(columns=str)\n",
    " .reset_index()\n",
    " .merge(dat_constrmeta)\n",
    " .groupby([V.COL_CONSTR_TYPE])['oexp'].describe()\n",
    ")"
   ]
  },
  {
   "cell_type": "markdown",
   "metadata": {},
   "outputs": [],
   "source": [
    "How many markers are responding in the neighbourhood given significant overexpression"
   ]
  },
  {
   "cell_type": "code",
   "execution_count": null,
   "metadata": {},
   "outputs": [],
   "source": [
    "dstat_is_respond['other'].groupby('oexp').aggregate(['mean', 'sum', len])"
   ]
  },
  {
   "cell_type": "code",
   "execution_count": null,
   "metadata": {},
   "outputs": [],
   "source": [
    "dstat_is_respond['other'].query('(oexp == False) & (`oexp-NB` == True)')"
   ]
  },
  {
   "cell_type": "code",
   "execution_count": null,
   "metadata": {},
   "outputs": [],
   "source": [
    "dstat_is_respond['other'].query('(oexp == False) & (`ctrl` == True)')"
   ]
  },
  {
   "cell_type": "code",
   "execution_count": null,
   "metadata": {},
   "outputs": [],
   "source": [
    "dstat_is_respond['other'].groupby('ctrl').aggregate(['mean', 'sum', len])"
   ]
  },
  {
   "cell_type": "code",
   "execution_count": null,
   "metadata": {},
   "outputs": [],
   "source": []
  },
  {
   "cell_type": "raw",
   "metadata": {},
   "outputs": [],
   "source": [
    "(dstat['other'].rename(columns=str)\n",
    "    #.set_index('oexp')\n",
    "     .join(dat_constrmeta.set_index(V.COL_CONDNAME)[[V.COL_CONSTR_TYPE]])\n",
    " .groupby([V.COL_CONSTR_TYPE, 'oexp',V.COL_CONDNAME]).aggregate(['mean', 'sum','size'])\n",
    "# .sort_values(('oexp-NB', 'sum'), ascending=False)\n",
    ")"
   ]
  },
  {
   "cell_type": "raw",
   "metadata": {},
   "outputs": [],
   "source": [
    "(dstat['other'].rename(columns=str)\n",
    "    #.set_index('oexp')\n",
    "     .join(dat_constrmeta.set_index(V.COL_CONDNAME)[[V.COL_CONSTR_TYPE]])\n",
    " .groupby([V.COL_CONSTR_TYPE,V.COL_CONDNAME, 'oexp']).aggregate(['mean', 'sum','size'])\n",
    " .sort_values(('oexp-NB', 'sum'), ascending=False)\n",
    ")"
   ]
  },
  {
   "cell_type": "markdown",
   "metadata": {},
   "outputs": [],
   "source": [
    "(dstat_is_respond['other'].rename(columns=str)\n",
    "    #.set_index('oexp')\n",
    "     .join(dat_constrmeta.set_index(V.COL_CONDNAME)[[V.COL_CONSTR_TYPE]])\n",
    " .groupby([V.COL_CONSTR_TYPE,'oexp']).aggregate(['mean', 'sum','size'])\n",
    ")"
   ]
  },
  {
   "cell_type": "code",
   "execution_count": null,
   "metadata": {},
   "outputs": [],
   "source": [
    "(dstat_is_respond['other']\n",
    " .rename(columns=str)\n",
    "    #.set_index('oexp')\n",
    "     .join(dat_constrmeta.set_index(V.COL_CONDNAME)[[V.COL_CONSTR_TYPE]])\n",
    " .groupby(['oexp']).aggregate(['mean', 'sum','size'])\n",
    ")"
   ]
  },
  {
   "cell_type": "code",
   "execution_count": null,
   "metadata": {},
   "outputs": [],
   "source": [
    "cond_responding = dstat_is_respond['other'].query('oexp==1').rename(columns=str).reset_index()[[V.COL_CONDNAME]]"
   ]
  },
  {
   "cell_type": "markdown",
   "metadata": {},
   "outputs": [],
   "source": [
    "Given that a marker is significantly changed internaly, how often is it change in the neighbourhood?"
   ]
  },
  {
   "cell_type": "code",
   "execution_count": null,
   "metadata": {
    "lines_to_next_cell": 2
   },
   "outputs": [],
   "source": [
    "d=(dat_issig\n",
    "    #.merge(cond_responding)\n",
    "     .pivot_table(index=[V.COL_CHANNELNAME, V.COL_GOODNAME, V.COL_CONDNAME], columns=V.COL_ISNB, values=V.COL_ISSIG)\n",
    "   .rename(columns=str)  \n",
    "   .reset_index()\n",
    "     .merge(dat_constrmeta)\n",
    "       .dropna()\n",
    "   .query(f'{V.COL_CHANNELNAME} not in {CHANS.stereotypic}')\n",
    "     \n",
    ")"
   ]
  },
  {
   "cell_type": "code",
   "execution_count": null,
   "metadata": {},
   "outputs": [],
   "source": [
    "d.head()"
   ]
  },
  {
   "cell_type": "code",
   "execution_count": null,
   "metadata": {},
   "outputs": [],
   "source": [
    "display(d.groupby(['oexp', V.COL_CONSTR_TYPE])['oexp-NB'].agg(**{'mn': lambda x: np.mean(x.values.astype(float)),\n",
    "                                                               'sum': lambda x: np.sum(x.values.astype(float)),\n",
    "                                                                 'size': len\n",
    "                                                              })\n",
    "       )"
   ]
  },
  {
   "cell_type": "code",
   "execution_count": null,
   "metadata": {},
   "outputs": [],
   "source": [
    "display(d.groupby(['oexp'])['oexp-NB'].agg(**{'mn': lambda x: np.mean(x.values.astype(float)),\n",
    "                                                               'sum': lambda x: np.sum(x.values.astype(float)),\n",
    "                                                                 'size': len\n",
    "                                                              })\n",
    "       )"
   ]
  },
  {
   "cell_type": "code",
   "execution_count": null,
   "metadata": {},
   "outputs": [],
   "source": [
    "display(d.groupby(['oexp'])['oexp-NB'].agg(**{'mn': lambda x: np.mean(x.values.astype(float)),\n",
    "                                                               'sum': lambda x: np.sum(x.values.astype(float)),\n",
    "                                                                 'size': len\n",
    "                                                              })\n",
    "       )"
   ]
  },
  {
   "cell_type": "code",
   "execution_count": null,
   "metadata": {},
   "outputs": [],
   "source": [
    "0.131/.0146"
   ]
  },
  {
   "cell_type": "code",
   "execution_count": null,
   "metadata": {},
   "outputs": [],
   "source": [
    "display(d.groupby(['oexp'])['ctrl'].agg(**{'mn': lambda x: np.mean(x.values.astype(float)),\n",
    "                                                               'sum': lambda x: np.sum(x.values.astype(float)),\n",
    "                                                                 'size': len\n",
    "                                                              })\n",
    "       )"
   ]
  },
  {
   "cell_type": "code",
   "execution_count": null,
   "metadata": {},
   "outputs": [],
   "source": [
    "display(d.groupby(['oexp', V.COL_CONSTR_TYPE])['ctrl'].agg(**{'mn': lambda x: np.mean(x.values.astype(float)),\n",
    "                                                               'sum': lambda x: np.sum(x.values.astype(float)),\n",
    "                                                                 'size': len\n",
    "                                                              })\n",
    "       )"
   ]
  },
  {
   "cell_type": "raw",
   "metadata": {},
   "outputs": [],
   "source": [
    "display(d.groupby(['ctrl'])['oexp'].agg(**{'mn': lambda x: np.mean(x.values.astype(float)),\n",
    "                                                               'sum': lambda x: np.sum(x.values.astype(float)),\n",
    "                                                                 'size': len\n",
    "                         -                                     })\n",
    "       )\n",
    "display(d.groupby(['ctrl'])['oexp-NB'].agg(**{'mn': lambda x: np.mean(x.values.astype(float)),\n",
    "                                                               'sum': lambda x: np.sum(x.values.astype(float)),\n",
    "                                                                 'size': len\n",
    "                                                              })\n",
    "       )\n",
    "display(d.groupby(['oexp-NB', 'oexp'])['ctrl'].agg(**{'mn': lambda x: np.mean(x.values.astype(float)),\n",
    "                                                               'sum': lambda x: np.sum(x.values.astype(float)),\n",
    "                                                                 'size': len\n",
    "                                                              })\n",
    "       )\n",
    "\n",
    "display(d.groupby(['ctrl'])['oexp-NB', 'oexp'].agg(sum)\n",
    "       )"
   ]
  },
  {
   "cell_type": "raw",
   "metadata": {},
   "outputs": [],
   "source": [
    "d=(dat_issig\n",
    "    #.merge(cond_responding)\n",
    "     .pivot_table(index=[V.COL_CHANNELNAME, V.COL_GOODNAME, V.COL_CONDNAME], columns=V.COL_ISNB, values=V.COL_ISSIG)\n",
    "   .rename(columns=str)  \n",
    "   .reset_index()\n",
    "     .merge(dat_constrmeta)\n",
    "       .dropna()\n",
    "     \n",
    ")\n",
    "#display(d.pivot_table('oexp-NB', V.COL_CONSTR_TYPE, 'oexp', aggfunc=np.mean))\n",
    "#display(d.pivot_table('oexp-NB', V.COL_CONSTR_TYPE, 'oexp', aggfunc=np.sum))\n",
    "#display(d.pivot_table('oexp-NB', V.COL_CONSTR_TYPE, 'oexp', aggfunc=len))\n",
    "\n",
    "display(d.groupby(['oexp', V.COL_CONSTR_TYPE])['oexp-NB'].agg(**{'mn': lambda x: np.mean(x.values.astype(float)),\n",
    "                                                               'sum': lambda x: np.sum(x.astype(float)),\n",
    "                                                               'size': len\n",
    "                                                              })\n",
    "       )\n",
    "display(d\n",
    "        .groupby(['oexp'])['oexp-NB']\n",
    "        .agg(**{'mn': lambda x: np.mean(x.values.astype(float)),\n",
    "                                                               'sum': lambda x: np.sum(x.astype(float)),\n",
    "                                                               'size': len\n",
    "                                                              })\n",
    "       )\n",
    "display(d.merge(cond_responding)\n",
    "        .groupby(['oexp', V.COL_CONSTR_TYPE])['oexp-NB']\n",
    "        .agg(**{'mn': lambda x: np.mean(x.values.astype(float)),\n",
    "                                                               'sum': lambda x: np.sum(x.astype(float)),\n",
    "                                                               'size': len\n",
    "                                                              })\n",
    "       )\n",
    "display(d.merge(cond_responding)\n",
    "        .groupby(['oexp'])['oexp-NB']\n",
    "        .agg(**{'mn': lambda x: np.mean(x.values.astype(float)),\n",
    "                                                               'sum': lambda x: np.sum(x.astype(float)),\n",
    "                                                               'size': len\n",
    "                                                              })\n",
    "       )"
   ]
  },
  {
   "cell_type": "markdown",
   "metadata": {},
   "outputs": [],
   "source": [
    "How do p38 and JNK look in the neighbourhood"
   ]
  },
  {
   "cell_type": "code",
   "execution_count": null,
   "metadata": {},
   "outputs": [],
   "source": [
    "d=(dat_issig\n",
    "    #.merge(cond_responding)\n",
    "     .pivot_table(index=[V.COL_CHANNELNAME, V.COL_GOODNAME, V.COL_CONDNAME], columns=V.COL_ISNB, values=V.COL_ISSIG)\n",
    "   .rename(columns=str)  \n",
    "   .reset_index()\n",
    "     .merge(dat_constrmeta)\n",
    "       .dropna()\n",
    " #  .query(f'{V.COL_CHANNELNAME}  in {[CHANS.p38, CHANS.jnk]}')\n",
    "     \n",
    ")"
   ]
  },
  {
   "cell_type": "code",
   "execution_count": null,
   "metadata": {},
   "outputs": [],
   "source": [
    "display(d.groupby(['oexp', V.COL_GOODNAME], observed=True)['oexp-NB'].agg(**{'mn': lambda x: np.mean(x.values.astype(float)),\n",
    "                                                               'sum': lambda x: np.sum(x.values.astype(float)),\n",
    "                                                                 'size': len\n",
    "                                                              })\n",
    "        .sort_values('mn', ascending=False)\n",
    "        .query('size >10')\n",
    "       )"
   ]
  },
  {
   "cell_type": "code",
   "execution_count": null,
   "metadata": {},
   "outputs": [],
   "source": [
    "display(d.groupby(['oexp', V.COL_GOODNAME], observed=True)['ctrl'].agg(**{'mn': lambda x: np.mean(x.values.astype(float)),\n",
    "                                                               'sum': lambda x: np.sum(x.values.astype(float)),\n",
    "                                                                 'size': len\n",
    "                                                              })\n",
    "        .sort_values('mn', ascending=False).head(20)\n",
    "        .query('size > 10')\n",
    "       )"
   ]
  },
  {
   "cell_type": "code",
   "execution_count": null,
   "metadata": {},
   "outputs": [],
   "source": [
    "display(d.groupby(['oexp', V.COL_GOODNAME], observed=True)['oexp-NB'].agg(**{'mn': lambda x: np.mean(x.values.astype(float)),\n",
    "                                                               'sum': lambda x: np.sum(x.values.astype(float)),\n",
    "                                                                 'size': len\n",
    "                                                              })\n",
    "        .sort_values('mn', ascending=False).head(20)\n",
    "        .query('size > 10')\n",
    "       )"
   ]
  },
  {
   "cell_type": "markdown",
   "metadata": {},
   "outputs": [],
   "source": [
    "Check how strong absolute changes in neighbours changed internally on average are"
   ]
  },
  {
   "cell_type": "code",
   "execution_count": null,
   "metadata": {},
   "outputs": [],
   "source": [
    "d=(dat_absstat\n",
    " .merge(dat_issig.query(f'({V.COL_ISNB}==\"oexp\")&({V.COL_ISSIG}==1)')[[V.COL_CONDNAME, V.COL_CHANNELNAME]])\n",
    " .merge(cond_responding)\n",
    " .merge(dat_issig)\n",
    "      .query(f'{V.COL_CHANNELNAME} not in {CHANS.stereotypic}')\n",
    "\n",
    ")\n",
    "display(d\n",
    ".groupby([V.COL_ISNB, V.COL_ISSIG])['fc_vs_oexp'].describe())\n",
    "display(d\n",
    ".groupby([V.COL_ISNB, V.COL_ISSIG])['fc_vs_oexp']\n",
    "       .apply(lambda x: np.mean(x<0)))"
   ]
  },
  {
   "cell_type": "markdown",
   "metadata": {},
   "outputs": [],
   "source": [
    "Check overall neighbour effects vs internal effects"
   ]
  },
  {
   "cell_type": "code",
   "execution_count": null,
   "metadata": {},
   "outputs": [],
   "source": [
    "V.COL_MEAN_ABS_DELTA"
   ]
  },
  {
   "cell_type": "code",
   "execution_count": null,
   "metadata": {},
   "outputs": [],
   "source": [
    "d = (dat_issig.query(f'{V.COL_ISSIG}==1')\n",
    "     .merge(cond_responding)\n",
    "     .assign(**{V.COL_MEAN_ABS_DELTA: lambda x: np.abs(x[V.COL_DELTA])})\n",
    "     .groupby(V.COL_ISNB)[V.COL_MEAN_ABS_DELTA].describe()\n",
    ")\n",
    "display(d)\n",
    "display(10**d)"
   ]
  },
  {
   "cell_type": "markdown",
   "metadata": {},
   "outputs": [],
   "source": [
    "How many of these are actually the overexpressed gene?\n",
    "\n",
    "-> merch gene pannel and gene constructmeta to get all combinations"
   ]
  },
  {
   "cell_type": "code",
   "execution_count": null,
   "metadata": {},
   "outputs": [],
   "source": [
    "V.COL_GENE = 'gene'\n",
    "V.COL_METAL = 'metal'"
   ]
  },
  {
   "cell_type": "code",
   "execution_count": null,
   "metadata": {},
   "outputs": [],
   "source": [
    "from IPython.core.display import display, HTML"
   ]
  },
  {
   "cell_type": "code",
   "execution_count": null,
   "metadata": {},
   "outputs": [],
   "source": [
    "dat_pannel.columns"
   ]
  },
  {
   "cell_type": "code",
   "execution_count": null,
   "metadata": {},
   "outputs": [],
   "source": [
    "d=(dat_issig.merge(dat_constrmeta[[V.COL_CONDNAME, V.COL_GENE]])\n",
    "     .merge(dat_pannel, left_on=V.COL_CHANNELNAME, right_on=V.COL_METAL)\n",
    "     .query(f'{V.COL_GENE}_x== {V.COL_GENE}_y')\n",
    "     .query(f'{V.COL_GENE}_x !=\"GFP\"')\n",
    ")   \n",
    "\n",
    "display(d.query(f'{V.COL_ISNB} == \"oexp\"')[[V.COL_ISSIG,  V.COL_CONDNAME, V.COL_MODIFICATION,\n",
    "                                            V.COL_ISNB, V.COL_PLTNAME]])\n",
    "d.groupby([V.COL_ISNB,'modification'])[V.COL_ISSIG].agg(**{'mn': 'mean',\n",
    "                                                            'size': 'size'})"
   ]
  },
  {
   "cell_type": "raw",
   "metadata": {},
   "outputs": [],
   "source": [
    "dat_pannel.merge(dat_nodes.merge(dat_issig), on='gene').query(f'Target_x == Target_y')"
   ]
  },
  {
   "cell_type": "code",
   "execution_count": null,
   "metadata": {},
   "outputs": [],
   "source": []
  },
  {
   "cell_type": "markdown",
   "metadata": {},
   "outputs": [],
   "source": [
    "Of all things without a neighbourhood effect but with a bystander effect: what direction does the effect go?"
   ]
  },
  {
   "cell_type": "code",
   "execution_count": null,
   "metadata": {},
   "outputs": [],
   "source": [
    "(dat_issig\n",
    "     .pivot_table(index=[V.COL_CHANNELNAME, V.COL_GOODNAME, V.COL_CONDNAME], columns=V.COL_ISNB, values='sigdir')\n",
    "        .rename(columns=str)  \n",
    "     .reset_index()\n",
    ")"
   ]
  },
  {
   "cell_type": "code",
   "execution_count": null,
   "metadata": {},
   "outputs": [],
   "source": [
    "d = (dat_issig\n",
    "     .assign(**{'sigdir': lambda x: x['sigdir'].astype(str).astype(float)})\n",
    "     .pivot_table(index=[V.COL_CHANNELNAME, V.COL_GOODNAME, V.COL_CONDNAME], columns=V.COL_ISNB, values='sigdir')\n",
    "        .rename(columns=str)  \n",
    "     .reset_index()\n",
    "     .merge(dat_constrmeta)\n",
    "       .dropna()\n",
    ")\n",
    "d['any'] = (d['oexp-NB'] != 0) | (d['oexp'] != 0)\n",
    "\n",
    "display(d.groupby(['any', 'ctrl']).describe())"
   ]
  },
  {
   "cell_type": "code",
   "execution_count": null,
   "metadata": {},
   "outputs": [],
   "source": [
    "d.loc[(d['oexp-NB'] == 0) & (d['ctrl'] == 1),:]"
   ]
  },
  {
   "cell_type": "raw",
   "metadata": {},
   "outputs": [],
   "source": [
    "d=(dat_issig\n",
    "    #.merge(cond_responding)\n",
    "     .pivot_table(index=[V.COL_CHANNELNAME, V.COL_GOODNAME, V.COL_CONDNAME], columns=V.COL_ISNB, values=V.COL_ISSIG)\n",
    "     .reset_index()\n",
    "     .merge(dat_constrmeta)\n",
    "       .dropna()\n",
    "     \n",
    ")\n",
    "#display(d.pivot_table('oexp-NB', V.COL_CONSTR_TYPE, 'oexp', aggfunc=np.mean))\n",
    "#display(d.pivot_table('oexp-NB', V.COL_CONSTR_TYPE, 'oexp', aggfunc=np.sum))\n",
    "#display(d.pivot_table('oexp-NB', V.COL_CONSTR_TYPE, 'oexp', aggfunc=len))\n",
    "\n",
    "display(d.groupby(['oexp', V.COL_CONSTR_TYPE])['oexp-NB'].agg({'mn': lambda x: np.mean(x.values.astype(float)),\n",
    "                                                               'sum': lambda x: np.sum(x.astype(float)),\n",
    "                                                               'size': 'size'\n",
    "                                                              })\n",
    "       )\n",
    "display(d\n",
    "        .groupby(['oexp'])['oexp-NB']\n",
    "        .agg({'mn': lambda x: np.mean(x.values.astype(float)),\n",
    "                                                               'sum': lambda x: np.sum(x.astype(float)),\n",
    "                                                               'size': 'size'\n",
    "                                                              })\n",
    "       )\n",
    "display(d.merge(cond_responding)\n",
    "        .groupby(['oexp', V.COL_CONSTR_TYPE])['oexp-NB']\n",
    "        .agg({'mn': lambda x: np.mean(x.values.astype(float)),\n",
    "                                                               'sum': lambda x: np.sum(x.astype(float)),\n",
    "                                                               'size': 'size'\n",
    "                                                              })\n",
    "       )\n",
    "display(d.merge(cond_responding)\n",
    "        .groupby(['oexp'])['oexp-NB']\n",
    "        .agg({'mn': lambda x: np.mean(x.values.astype(float)),\n",
    "                                                               'sum': lambda x: np.sum(x.astype(float)),\n",
    "                                                               'size': 'size'\n",
    "                                                              })\n",
    "       )"
   ]
  },
  {
   "cell_type": "markdown",
   "metadata": {},
   "outputs": [],
   "source": [
    "How many respond in the neibourhood?"
   ]
  },
  {
   "cell_type": "code",
   "execution_count": null,
   "metadata": {},
   "outputs": [],
   "source": []
  },
  {
   "cell_type": "raw",
   "metadata": {},
   "outputs": [],
   "source": [
    "(d_frac.xs('pos',level=-1)\n",
    " .pipe(lambda d: d.apply(lambda x: x/d['oexp']))\n",
    ")"
   ]
  },
  {
   "cell_type": "code",
   "execution_count": null,
   "metadata": {},
   "outputs": [],
   "source": [
    "((dstat['other']['oexp'] >1).to_frame()\n",
    "    .join(dat_constrmeta.set_index(V.COL_CONDNAME)[[V.COL_CONSTR_TYPE]])\n",
    "     .groupby(V.COL_CONSTR_TYPE)['oexp'].agg(**{'frac': lambda x: np.sum(x)/x.size,\n",
    "                                        'tot': 'size',\n",
    "                                        'pos': 'sum'})\n",
    ")"
   ]
  },
  {
   "cell_type": "code",
   "execution_count": null,
   "metadata": {},
   "outputs": [],
   "source": [
    "dstat.stack(level=V.COL_ISSTEREOTYPIC).groupby(V.COL_ISSTEREOTYPIC)['oexp'].apply(lambda x: np.mean(x>0))"
   ]
  },
  {
   "cell_type": "raw",
   "metadata": {},
   "outputs": [],
   "source": [
    "dstat[stack(level=V.COL_ISSTEREOTYPIC).groupby(V.COL_ISSTEREOTYPIC)['oexp-NB'].apply(lambda x: np.mean(x>0))"
   ]
  },
  {
   "cell_type": "code",
   "execution_count": null,
   "metadata": {},
   "outputs": [],
   "source": []
  },
  {
   "cell_type": "markdown",
   "metadata": {},
   "outputs": [],
   "source": [
    "Which overexpression has the largest effect on the environment?"
   ]
  },
  {
   "cell_type": "code",
   "execution_count": null,
   "metadata": {},
   "outputs": [],
   "source": []
  },
  {
   "cell_type": "code",
   "execution_count": null,
   "metadata": {},
   "outputs": [],
   "source": []
  },
  {
   "cell_type": "code",
   "execution_count": null,
   "metadata": {},
   "outputs": [],
   "source": []
  },
  {
   "cell_type": "markdown",
   "metadata": {},
   "outputs": [],
   "source": []
  },
  {
   "cell_type": "markdown",
   "metadata": {},
   "outputs": [],
   "source": [
    "Check model convergence"
   ]
  },
  {
   "cell_type": "code",
   "execution_count": null,
   "metadata": {},
   "outputs": [],
   "source": [
    "dat_model= (pd.concat([pd.read_csv(fn) for fn in C.fns_lmm_model],\n",
    "                        keys=chans, names=[V.COL_CHANNELNAME,'index']).reset_index(V.COL_CHANNELNAME, drop=False)\n",
    "               .reset_index(drop=True)\n",
    "                )"
   ]
  },
  {
   "cell_type": "code",
   "execution_count": null,
   "metadata": {},
   "outputs": [],
   "source": [
    "dat_model"
   ]
  },
  {
   "cell_type": "markdown",
   "metadata": {},
   "outputs": [],
   "source": [
    "-> All converged"
   ]
  },
  {
   "cell_type": "code",
   "execution_count": null,
   "metadata": {},
   "outputs": [],
   "source": [
    "dat_modmeta= (pd.concat([pd.read_csv(fn) for fn in C.fns_lmm_model],\n",
    "                        keys=chans, names=[V.COL_CHANNELNAME,'index']).reset_index(V.COL_CHANNELNAME, drop=False)\n",
    "               .reset_index(drop=True)\n",
    "                )"
   ]
  },
  {
   "cell_type": "code",
   "execution_count": null,
   "metadata": {},
   "outputs": [],
   "source": [
    "dat_randeff = (pd.concat([pd.read_csv(fn) for fn in C.fns_lmm_randeff],\n",
    "                        keys=chans, names=[V.COL_CHANNELNAME,'index']).reset_index(V.COL_CHANNELNAME, drop=False)\n",
    "               .reset_index(drop=True)\n",
    "                )"
   ]
  },
  {
   "cell_type": "code",
   "execution_count": null,
   "metadata": {},
   "outputs": [],
   "source": [
    "dat_randeff.head()"
   ]
  },
  {
   "cell_type": "code",
   "execution_count": null,
   "metadata": {},
   "outputs": [],
   "source": [
    "(dat_randeff\n",
    " \n",
    "     #.query('grp not in [\"Residual\"]')\n",
    "     #.query('grp==\"site_id\"')\n",
    "      .merge(dat_pannel[[V.COL_METAL, V.COL_GOODNAME]], left_on=V.COL_CHANNELNAME, right_on=V.COL_METAL)\n",
    "     .assign(fc_sdcor=lambda x: 10**x['sdcor'])\n",
    "     .assign(idx=lambda x: 2.5+np.linspace(2.5,10,int(x.shape[0]))) >>\n",
    "     gg.ggplot(gg.aes(x='fc_sdcor')) +\n",
    "     gg.facet_wrap('grp')+\n",
    "     gg.geom_histogram(bins=30)+\n",
    "     gg.scale_x_log10(breaks=(1,1.05,1.1,1.2,1.3,1.4,1.5,1.6,1.7,2, 2.5, 3, 4, 6, 8, 10))\n",
    "     + gg.geom_text(gg.aes(y=8, label=V.COL_GOODNAME),angle=90, size=6)\n",
    "     + gg.ggtitle('Variance contributions')\n",
    "     + gg.xlab('Standard deviation [Fold Change]')\n",
    "     + gg.theme(figure_size=(15,8))\n",
    "\n",
    ")"
   ]
  }
 ],
 "metadata": {
  "jupytext": {
   "text_representation": {
    "extension": ".py",
    "format_name": "percent",
    "format_version": "1.3",
    "jupytext_version": "1.3.4"
   }
  },
  "kernelspec": {
   "display_name": "Python 3",
   "language": "python",
   "name": "python3"
  },
  "language_info": {
   "codemirror_mode": {
    "name": "ipython",
    "version": 3
   },
   "file_extension": ".py",
   "mimetype": "text/x-python",
   "name": "python",
   "nbconvert_exporter": "python",
   "pygments_lexer": "ipython3",
   "version": "3.8.5"
  }
 },
 "nbformat": 4,
 "nbformat_minor": 4
}
