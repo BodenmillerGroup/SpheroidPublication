{
 "cells": [
  {
   "cell_type": "code",
   "execution_count": null,
   "metadata": {},
   "outputs": [],
   "source": [
    "sm = snakemake"
   ]
  },
  {
   "cell_type": "code",
   "execution_count": null,
   "metadata": {
    "pycharm": {
     "name": "#%%\n"
    }
   },
   "outputs": [],
   "source": [
    "import spherpro.bro as sb\n",
    "from  spherpro import datastore as sd\n",
    "import spherpro.library as sl\n",
    "import spherpro.db as db\n",
    "import imp\n",
    "import pycytools as pct\n",
    "import pycytools.library\n",
    "import re\n",
    "import pandas as pd\n",
    "import numpy as np\n",
    "import plotnine as pn\n",
    "import seaborn as sns\n",
    "import operator\n",
    "import sqlalchemy as sa\n",
    "from sqlalchemy import func\n",
    "%matplotlib inline\n",
    "import matplotlib.pyplot as plt\n",
    "import pycytools\n",
    "import imp\n",
    "import scipy.stats as stats\n",
    "\n",
    "import pathlib\n",
    "import importlib as ipl"
   ]
  },
  {
   "cell_type": "markdown",
   "metadata": {},
   "outputs": [],
   "source": [
    "# Aim: Correct the 'distance to sphere border' readout\n",
    "\n",
    "Distance to sphere border can be used as a substitute measurement for global environment.\n",
    "\n",
    "However the 'naive' distance to border measurement we have is the distance to the sphere mask border. This systematically overestimates distance to mask border for tangential cuts.\n",
    "\n",
    "To counteract this, we use the sphere size from intact spheres and assume spheriodicity for the spheres, to calculate a corrected distance to border readout."
   ]
  },
  {
   "cell_type": "markdown",
   "metadata": {
    "pycharm": {
     "name": "#%% md\n"
    }
   },
   "outputs": [],
   "source": [
    "## 0) Config"
   ]
  },
  {
   "cell_type": "code",
   "execution_count": null,
   "metadata": {},
   "outputs": [],
   "source": [
    "fn_config = sm.input.fn_config\n",
    "fol_plot = pathlib.Path('results/figures/')"
   ]
  },
  {
   "cell_type": "code",
   "execution_count": null,
   "metadata": {},
   "outputs": [],
   "source": [
    "bro = sb.get_bro(fn_config)"
   ]
  },
  {
   "cell_type": "code",
   "execution_count": null,
   "metadata": {},
   "outputs": [],
   "source": [
    "#given variables\n",
    "\n",
    "COL_CONDITIONID = db.conditions.condition_id.key\n",
    "COL_PLATE = db.conditions.plate_id.key\n",
    "COL_WELL = db.conditions.well_name.key\n",
    "COL_IMGID = db.images.image_id.key\n",
    "COL_OBJID = db.objects.object_id.key\n",
    "COL_VALUE = db.object_measurements.value.key\n",
    "COL_MEASID = db.measurements.measurement_id.key"
   ]
  },
  {
   "cell_type": "code",
   "execution_count": null,
   "metadata": {},
   "outputs": [],
   "source": [
    "# variables bfanalysis\n",
    "COL_BF_AREA = 'AreaShape_Area'\n",
    "COL_BF_WELL = 'Metadata_well'\n",
    "COL_BF_PLATE = 'Metadata_plate'"
   ]
  },
  {
   "cell_type": "code",
   "execution_count": null,
   "metadata": {},
   "outputs": [],
   "source": [
    "#defined here\n",
    "COL_DTRIM = 'dist_to_rim'\n",
    "COL_APPERENT_RADIUS = 'apparent_sphere_rad'\n",
    "COL_IMG_RADIUS = 'image_radius'\n",
    "COL_BF_RADIUS = 'bf_radius'\n",
    "COL_BF_RADIUS_SCALED = 'scaled_radius'"
   ]
  },
  {
   "cell_type": "code",
   "execution_count": null,
   "metadata": {},
   "outputs": [],
   "source": [
    "COL_CORR_D2RIM = 'corr_dist2rim'"
   ]
  },
  {
   "cell_type": "code",
   "execution_count": null,
   "metadata": {
    "pycharm": {
     "name": "#%%\n"
    }
   },
   "outputs": [],
   "source": [
    "BF_RESOLTUION = 5*0.65 # 5x downscaling for segmentation, and 0.65 um/pixel microscope resolution"
   ]
  },
  {
   "cell_type": "markdown",
   "metadata": {
    "pycharm": {
     "name": "#%% md\n"
    }
   },
   "outputs": [],
   "source": [
    "## 1) Load real radius data\n",
    "\n",
    "The data was saved during the bf analysis"
   ]
  },
  {
   "cell_type": "code",
   "execution_count": null,
   "metadata": {
    "pycharm": {
     "name": "#%%\n"
    }
   },
   "outputs": [],
   "source": [
    "file_radius = sm.input.fn_bf_quantification\n",
    "dat_bf = pd.read_csv(file_radius)"
   ]
  },
  {
   "cell_type": "code",
   "execution_count": null,
   "metadata": {},
   "outputs": [],
   "source": [
    "dat_bf[COL_BF_PLATE].unique()"
   ]
  },
  {
   "cell_type": "code",
   "execution_count": null,
   "metadata": {},
   "outputs": [],
   "source": [
    "dat_bf[COL_BF_PLATE].unique()"
   ]
  },
  {
   "cell_type": "markdown",
   "metadata": {},
   "outputs": [],
   "source": [
    "## 2) Query for the distances to rim"
   ]
  },
  {
   "cell_type": "code",
   "execution_count": null,
   "metadata": {},
   "outputs": [],
   "source": [
    "q_measmeta = (bro.data.get_measmeta_query()\n",
    "                             .filter(\n",
    "                     db.measurements.measurement_name == 'MeanIntensity',\n",
    "                     db.ref_planes.channel_name == 'dist-sphere',\n",
    "                     db.stacks.stack_name == 'DistStack',\n",
    "             )\n",
    "                          )\n",
    "\n",
    "q_objmeta = (bro.data.get_objectmeta_query()\n",
    "                          .join(db.conditions, db.conditions.condition_id==db.images.condition_id)\n",
    "                     .filter(db.objects.object_type == 'cell')\n",
    "                               .add_columns(db.images.condition_id))"
   ]
  },
  {
   "cell_type": "code",
   "execution_count": null,
   "metadata": {},
   "outputs": [],
   "source": [
    "%%time\n",
    "adat_dist = bro.io.objmeasurements.get_measurements(q_meas=q_measmeta, q_obj=q_objmeta)"
   ]
  },
  {
   "cell_type": "code",
   "execution_count": null,
   "metadata": {},
   "outputs": [],
   "source": [
    "data_dist = bro.io.objmeasurements.convert_anndata_legacy(adat_dist)"
   ]
  },
  {
   "cell_type": "code",
   "execution_count": null,
   "metadata": {},
   "outputs": [],
   "source": [
    "data_dist = data_dist.query(f'{db.object_measurements.value.key} < 2**16-2').copy()"
   ]
  },
  {
   "cell_type": "code",
   "execution_count": null,
   "metadata": {},
   "outputs": [],
   "source": [
    "dat_conditions = bro.doquery(bro.data.main_session.query(db.conditions))"
   ]
  },
  {
   "cell_type": "code",
   "execution_count": null,
   "metadata": {},
   "outputs": [],
   "source": [
    "data_dist[COL_DTRIM] = data_dist[db.object_measurements.value.key]"
   ]
  },
  {
   "cell_type": "markdown",
   "metadata": {},
   "outputs": [],
   "source": [
    "## 3) Find the maximally oberved distance to rim\n",
    "\n",
    "3.1) Set all the negative values to zero"
   ]
  },
  {
   "cell_type": "code",
   "execution_count": null,
   "metadata": {},
   "outputs": [],
   "source": [
    "data_dist.loc[data_dist[COL_DTRIM]<0,COL_DTRIM]= 0"
   ]
  },
  {
   "cell_type": "code",
   "execution_count": null,
   "metadata": {},
   "outputs": [],
   "source": [
    "def get_rads(df):\n",
    "    max_radius_sphere = df.groupby([COL_CONDITIONID])[COL_DTRIM].max().reset_index()\n",
    "    max_radius_sphere = max_radius_sphere.rename(columns={COL_DTRIM: COL_APPERENT_RADIUS})\n",
    "    max_radius_img = df.groupby([COL_IMGID,COL_CONDITIONID])[COL_DTRIM].max().reset_index()\n",
    "    max_radius_img = max_radius_img.rename(columns={COL_DTRIM: COL_IMG_RADIUS})\n",
    "    \n",
    "    return max_radius_img.merge(max_radius_sphere, on=COL_CONDITIONID)"
   ]
  },
  {
   "cell_type": "markdown",
   "metadata": {},
   "outputs": [],
   "source": [
    "3.2) Find the maximum distance to rim of each sphere (this corresponds to the apparent sphere radius) and the maximum distance to rim of each image (this corresponds to the apparent image radius)"
   ]
  },
  {
   "cell_type": "code",
   "execution_count": null,
   "metadata": {},
   "outputs": [],
   "source": [
    "dat_imc_radius = get_rads(data_dist)"
   ]
  },
  {
   "cell_type": "code",
   "execution_count": null,
   "metadata": {},
   "outputs": [],
   "source": [
    "dat_imc_radius"
   ]
  },
  {
   "cell_type": "markdown",
   "metadata": {},
   "outputs": [],
   "source": [
    "3.3) Calculate the distance to rim from the areas"
   ]
  },
  {
   "cell_type": "code",
   "execution_count": null,
   "metadata": {},
   "outputs": [],
   "source": [
    "def get_radius(area, resolution):\n",
    "    r = np.sqrt(area/np.pi)\n",
    "    return r*resolution"
   ]
  },
  {
   "cell_type": "code",
   "execution_count": null,
   "metadata": {},
   "outputs": [],
   "source": [
    "dat_bf[COL_BF_RADIUS] = dat_bf[COL_BF_AREA].apply(get_radius, resolution=BF_RESOLTUION)"
   ]
  },
  {
   "cell_type": "code",
   "execution_count": null,
   "metadata": {},
   "outputs": [],
   "source": [
    "dat_bf = dat_bf.rename(columns={COL_BF_PLATE: COL_PLATE, COL_BF_WELL: COL_WELL})"
   ]
  },
  {
   "cell_type": "markdown",
   "metadata": {},
   "outputs": [],
   "source": [
    "Visualize the apperent sphere radius (=maximum observed sphere radius) vs the brightfield radius\n"
   ]
  },
  {
   "cell_type": "code",
   "execution_count": null,
   "metadata": {},
   "outputs": [],
   "source": [
    "import seaborn as sns"
   ]
  },
  {
   "cell_type": "code",
   "execution_count": null,
   "metadata": {},
   "outputs": [],
   "source": [
    "data_scatter = (dat_bf\n",
    "    .merge(dat_conditions)\n",
    "    .merge(dat_imc_radius))"
   ]
  },
  {
   "cell_type": "code",
   "execution_count": null,
   "metadata": {},
   "outputs": [],
   "source": [
    "fig, ax = plt.subplots(figsize=(5,5))\n",
    "sns.distplot(data_scatter[COL_APPERENT_RADIUS],label='apparent_radius',ax=ax)\n",
    "sns.distplot(data_scatter[COL_BF_RADIUS],label='real_radius',ax=ax)\n",
    "plt.legend()   "
   ]
  },
  {
   "cell_type": "code",
   "execution_count": null,
   "metadata": {},
   "outputs": [],
   "source": [
    "sns.lmplot(x=COL_BF_RADIUS,y=COL_APPERENT_RADIUS,data = data_scatter)"
   ]
  },
  {
   "cell_type": "markdown",
   "metadata": {},
   "outputs": [],
   "source": [
    "Find the correction that maps from the apparent radius to the real radius"
   ]
  },
  {
   "cell_type": "code",
   "execution_count": null,
   "metadata": {},
   "outputs": [],
   "source": [
    "from statsmodels.graphics.api import abline_plot\n",
    "from statsmodels.formula.api import ols, rlm\n",
    "import statsmodels as sm"
   ]
  },
  {
   "cell_type": "code",
   "execution_count": null,
   "metadata": {},
   "outputs": [],
   "source": [
    "rlm_model = (rlm(f'{COL_APPERENT_RADIUS}~{COL_BF_RADIUS}', data_scatter,\n",
    "                 ).fit()\n",
    "            )\n",
    "print(rlm_model.summary())\n",
    "try:\n",
    "    b = rlm_model.params.Intercept\n",
    "except:\n",
    "    b=0\n",
    "m = rlm_model.params[COL_BF_RADIUS]\n",
    "#m=1\n",
    "fig, ax = plt.subplots(figsize=(5,5))\n",
    "ax.scatter(data_scatter[COL_BF_RADIUS],data_scatter[COL_APPERENT_RADIUS])\n",
    "ax.plot(data_scatter[COL_BF_RADIUS],(data_scatter[COL_BF_RADIUS]*m+b),'-')\n",
    "#ax.plot(data_scatter[COL_BF_RADIUS],(data_scatter[COL_BF_RADIUS]*0.8),'-')\n",
    "plt.xlim(50,260)\n",
    "plt.ylim(50,260)\n",
    "\n",
    "ax.set_xlabel('real_radius')\n",
    "ax.set_ylabel('apparent_sphere_radius')"
   ]
  },
  {
   "cell_type": "markdown",
   "metadata": {},
   "outputs": [],
   "source": [
    "Background:\n",
    "Spheroids could shrink @embedding or we could have some systematic errors\n",
    "- Real Radius: calculated based on the equivalent diameter of the brightfield image segmentation\n",
    "- Apperent radius: This is the maximal distance to rim (outside) of any of the cells in all of the cuts of a sphere. This can be underestimated for two reasons:\n",
    "    1) No center cut: a perfect center cut is needed to not underestimate the sphere radius by distance to rim\n",
    "        -> Particularily relevant for small spheres\n",
    "    2) Deformation of the spheres: any deformation leads to an underestimation of radius based on distance to rim\n",
    "        -> Particularily relevant for large spheres\n",
    "        \n",
    "For segmentation this poses a problem:\n",
    "There is reason to assume that the apperent sphere radius is systematically underestimated. In particular for small (1) and large spheres (2). This kind of assymetric error poses a problem for regression.\n",
    "\n",
    "The robust regression indicates: a negligable intercept and an slope of ca 0.77, which I think is an underestimation (it should be closer to 1). \n",
    "\n",
    "Alternative estimation strategy: do the ratio apperent/real and look at histogram"
   ]
  },
  {
   "cell_type": "code",
   "execution_count": null,
   "metadata": {},
   "outputs": [],
   "source": [
    "%matplotlib inline"
   ]
  },
  {
   "cell_type": "code",
   "execution_count": null,
   "metadata": {},
   "outputs": [],
   "source": [
    "(pn.ggplot(data_scatter, pn.aes(x=f'{COL_APPERENT_RADIUS}/{COL_BF_RADIUS}'))+\n",
    "     pn.geom_histogram())"
   ]
  },
  {
   "cell_type": "markdown",
   "metadata": {},
   "outputs": [],
   "source": [
    "Get the scaling factor from the top 120 observations"
   ]
  },
  {
   "cell_type": "code",
   "execution_count": null,
   "metadata": {},
   "outputs": [],
   "source": [
    "scale_bf = data_scatter.eval(f'{COL_APPERENT_RADIUS}/{COL_BF_RADIUS}').sort_values().tail(120).mean()"
   ]
  },
  {
   "cell_type": "code",
   "execution_count": null,
   "metadata": {},
   "outputs": [],
   "source": [
    "fig, ax = plt.subplots(figsize=(5,5))\n",
    "ax.scatter(data_scatter[COL_BF_RADIUS],data_scatter[COL_APPERENT_RADIUS])\n",
    "ax.plot(data_scatter[COL_BF_RADIUS],(data_scatter[COL_BF_RADIUS]*scale_bf),'-')\n",
    "plt.xlim(50,260)\n",
    "plt.ylim(50,260)\n",
    "ax.set_xlabel('real_radius')\n",
    "ax.set_ylabel('apparent_sphere_radius')"
   ]
  },
  {
   "cell_type": "code",
   "execution_count": null,
   "metadata": {},
   "outputs": [],
   "source": [
    "dat_bf[COL_BF_RADIUS_SCALED] = dat_bf[COL_BF_RADIUS] * scale_bf"
   ]
  },
  {
   "cell_type": "code",
   "execution_count": null,
   "metadata": {},
   "outputs": [],
   "source": [
    "print(scale_bf)"
   ]
  },
  {
   "cell_type": "markdown",
   "metadata": {},
   "outputs": [],
   "source": [
    "3.3) Find the dist to rim with the next formula:\n",
    "<br>\n",
    "$$r_{real} = R - \\sqrt{R^{2}-2rx+ x^{2}}$$\n",
    "\n",
    "where, $r_{real}$ is the real distance to rim,  $R$ is the radius of the sphere, $r$ is the radius of the cut (corr_cut_rad) and $x$ is the distance to rim in the cut (apparent distance to rim)"
   ]
  },
  {
   "cell_type": "code",
   "execution_count": null,
   "metadata": {},
   "outputs": [],
   "source": [
    "def calculate_real_dist_to_rim(sphere_radius, cut_rad, dist_to_rim):\n",
    "    \"\"\"\n",
    "    Calculates the corrected distance to rim\n",
    "    \"\"\"\n",
    "    if cut_rad > sphere_radius:\n",
    "        return dist_to_rim\n",
    "    real_dist = sphere_radius-np.sqrt(sphere_radius**2 -(2*dist_to_rim*cut_rad) + dist_to_rim**2)\n",
    "    return real_dist"
   ]
  },
  {
   "cell_type": "code",
   "execution_count": null,
   "metadata": {},
   "outputs": [],
   "source": [
    "data_dist = data_dist.set_index(COL_OBJID, drop=False)"
   ]
  },
  {
   "cell_type": "code",
   "execution_count": null,
   "metadata": {},
   "outputs": [],
   "source": [
    "data_dist = data_dist.set_index(COL_OBJID, drop=False)\n",
    "data_dist[COL_CORR_D2RIM] = (data_dist\n",
    "    .merge(dat_imc_radius)\n",
    "    .merge(dat_conditions)\n",
    "    .merge(dat_bf)\n",
    "    .set_index(COL_OBJID)\n",
    "    .apply(lambda x: calculate_real_dist_to_rim(x[COL_BF_RADIUS_SCALED],\n",
    "                                                x[COL_IMG_RADIUS],\n",
    "                                                x[COL_DTRIM]), axis=1)\n",
    "\n",
    ")"
   ]
  },
  {
   "cell_type": "code",
   "execution_count": null,
   "metadata": {},
   "outputs": [],
   "source": [
    "\n",
    "sns.jointplot(x=COL_DTRIM,y=COL_CORR_D2RIM,data= data_dist)"
   ]
  },
  {
   "cell_type": "markdown",
   "metadata": {},
   "outputs": [],
   "source": [
    "-> As expected the distances get corrected distance to rim get shorter"
   ]
  },
  {
   "cell_type": "markdown",
   "metadata": {},
   "outputs": [],
   "source": [
    "## Upload the corrected distance to rim to the database"
   ]
  },
  {
   "cell_type": "code",
   "execution_count": null,
   "metadata": {},
   "outputs": [],
   "source": [
    "OUT_STACK = 'ObjectStack'\n",
    "OUT_CHANNEL_TYPE = 'object'\n",
    "OUT_CHANNEL_NAME = 'object'\n",
    "OUT_MEASUREMENT_NAME = 'dist-rim'\n",
    "OUT_MEASUREMENT_TYPE = 'Location'"
   ]
  },
  {
   "cell_type": "code",
   "execution_count": null,
   "metadata": {},
   "outputs": [],
   "source": [
    "plane_id = (bro.session.query(db.planes.plane_id)\n",
    "            .join(db.stacks)\n",
    "            .join(db.ref_stacks)\n",
    "            .join(db.ref_planes)\n",
    "            .filter(db.stacks.stack_name == OUT_STACK,\n",
    "                   db.ref_planes.channel_type == OUT_CHANNEL_TYPE,\n",
    "                   db.ref_planes.channel_name == OUT_CHANNEL_NAME)).one()[0]"
   ]
  },
  {
   "cell_type": "code",
   "execution_count": null,
   "metadata": {},
   "outputs": [],
   "source": [
    "dat_measure_meta = pd.DataFrame({db.measurements.measurement_name.key: [OUT_MEASUREMENT_NAME],\n",
    "                                db.measurements.plane_id.key: plane_id,\n",
    "                                db.measurements.measurement_type.key: OUT_MEASUREMENT_TYPE})"
   ]
  },
  {
   "cell_type": "code",
   "execution_count": null,
   "metadata": {},
   "outputs": [],
   "source": [
    "dat_measure_meta"
   ]
  },
  {
   "cell_type": "code",
   "execution_count": null,
   "metadata": {},
   "outputs": [],
   "source": [
    "dat_measure_meta = bro.processing.measurement_maker.register_measurements(dat_measure_meta)"
   ]
  },
  {
   "cell_type": "code",
   "execution_count": null,
   "metadata": {},
   "outputs": [],
   "source": [
    "dat_obj_meas = (data_dist\n",
    "                .loc[:, [COL_CORR_D2RIM, COL_OBJID, 'object_type', COL_IMGID]]\n",
    "                .rename(columns={COL_CORR_D2RIM: COL_VALUE})\n",
    "                .dropna()\n",
    "               )"
   ]
  },
  {
   "cell_type": "code",
   "execution_count": null,
   "metadata": {},
   "outputs": [],
   "source": [
    "dtrim_measid = dat_measure_meta[COL_MEASID].values[0]\n",
    "dat_obj_meas[COL_MEASID] = dtrim_measid"
   ]
  },
  {
   "cell_type": "code",
   "execution_count": null,
   "metadata": {},
   "outputs": [],
   "source": [
    "bro.processing.measurement_maker.add_object_measurements(dat_obj_meas, drop_all_old=True)"
   ]
  },
  {
   "cell_type": "markdown",
   "metadata": {},
   "outputs": [],
   "source": [
    "Remove all images that do not have a distance to rim"
   ]
  },
  {
   "cell_type": "code",
   "execution_count": null,
   "metadata": {},
   "outputs": [],
   "source": [
    "good_imgs = dat_obj_meas[COL_IMGID].unique()\n",
    "stmt = bro.session.query(db.valid_images).filter(sa.not_(db.valid_images.image_id.in_([int(i) for i in good_imgs])))"
   ]
  },
  {
   "cell_type": "code",
   "execution_count": null,
   "metadata": {},
   "outputs": [],
   "source": [
    "bro.doquery(stmt)"
   ]
  },
  {
   "cell_type": "code",
   "execution_count": null,
   "metadata": {},
   "outputs": [],
   "source": [
    "stmt.delete(synchronize_session='fetch')\n",
    "    #bro.session|.execute(stmt)\n",
    "bro.session.commit()"
   ]
  },
  {
   "cell_type": "markdown",
   "metadata": {},
   "outputs": [],
   "source": [
    "Calculate the 'average' distance to rim of neighbours"
   ]
  },
  {
   "cell_type": "code",
   "execution_count": null,
   "metadata": {},
   "outputs": [],
   "source": [
    "bro.processing.nb_aggregation.add_nb_measurement('NbMean',np.mean, object_type='cell', measurement_name=OUT_MEASUREMENT_NAME,\n",
    "                                                    stack_name=OUT_STACK)"
   ]
  },
  {
   "cell_type": "markdown",
   "metadata": {},
   "outputs": [],
   "source": [
    "## Sanity checks: Plot distance to rim vs Pt194\n",
    "\n",
    "CisPt194 was added to all spheres after pooling.\n",
    "\n",
    "Thus it's diffusion gradient inside the spheres could be used as a substitute readout for distance to border (e.g. like Durand, R. E. (1982). Use of Hoechst 33342 for cell selection from multicell systems. Journal of Histochemistry and Cytochemistry, 30(2), 117–122. http://doi.org/10.1177/30.2.6174559)"
   ]
  },
  {
   "cell_type": "code",
   "execution_count": null,
   "metadata": {},
   "outputs": [],
   "source": [
    "import spherpro.bromodules.helpers_vz as helpers_vz\n",
    "imp.reload(helpers_vz)\n",
    "hpr = helpers_vz.HelperVZ(bro)"
   ]
  },
  {
   "cell_type": "code",
   "execution_count": null,
   "metadata": {},
   "outputs": [],
   "source": [
    "from scipy import stats"
   ]
  },
  {
   "cell_type": "code",
   "execution_count": null,
   "metadata": {},
   "outputs": [],
   "source": [
    "col_int = 'Pt194'\n",
    "col_raw = 'dist-sphere'\n",
    "col_corr = 'object'\n",
    "transf = lambda x: np.log10(x+0.1)"
   ]
  },
  {
   "cell_type": "code",
   "execution_count": null,
   "metadata": {},
   "outputs": [],
   "source": [
    "q = (bro.session.query(db.conditions.condition_id)\n",
    "     #.join(db.sampleblocks)\n",
    "     #.filter(db.sampleblocks.sampleblock_name == blockname)\n",
    "   #  .filter(db.conditions.condition_name.like('DLD%'))\n",
    "     #.filter(db.conditions.bc_x.in_([2,3,6,10,11]))\n",
    "    ).all()"
   ]
  },
  {
   "cell_type": "code",
   "execution_count": null,
   "metadata": {},
   "outputs": [],
   "source": [
    "condids = [r[0] for r in q ]"
   ]
  },
  {
   "cell_type": "code",
   "execution_count": null,
   "metadata": {},
   "outputs": [],
   "source": [
    "measids = [m[0] for m in (bro.data.get_measmeta_query()\n",
    "           .filter(bro.filters.measurements.get_measmeta_filter_statements(\n",
    "    channel_names=[col_int,'object', 'dist-sphere'],\n",
    "    stack_names=['FullStackFiltered', 'ObjectStack', 'DistStack'],\n",
    "    measurement_names=['MeanIntensityComp', 'dist-rim', 'MeanIntensity'],\n",
    "    measurement_types=[None, None, None]))\n",
    "    .with_entities(db.measurements.measurement_id)).all()]"
   ]
  },
  {
   "cell_type": "code",
   "execution_count": null,
   "metadata": {},
   "outputs": [],
   "source": [
    "%%time\n",
    "dat = hpr.get_data(cond_ids=condids, meas_ids=measids, object_type='cell' ,legacy=False )"
   ]
  },
  {
   "cell_type": "code",
   "execution_count": null,
   "metadata": {},
   "outputs": [],
   "source": [
    "dat_measmeta = hpr.get_measuremeta(bro.data.pannel,\n",
    "                                   measurement_names=['MeanIntensityComp', 'NbMeanMeanIntensityComp'],\n",
    "                                   additional_measfilt=db.measurements.measurement_id.in_(measids)\n",
    "                                  )"
   ]
  },
  {
   "cell_type": "code",
   "execution_count": null,
   "metadata": {},
   "outputs": [],
   "source": [
    "bro.helpers.anndata.add_anndata_varmeta(dat, dat_measmeta, on='measurement_id')"
   ]
  },
  {
   "cell_type": "code",
   "execution_count": null,
   "metadata": {},
   "outputs": [],
   "source": [
    "dat.var_names = dat.var['channel_name']"
   ]
  },
  {
   "cell_type": "code",
   "execution_count": null,
   "metadata": {},
   "outputs": [],
   "source": [
    "dat.var_names"
   ]
  },
  {
   "cell_type": "code",
   "execution_count": null,
   "metadata": {},
   "outputs": [],
   "source": [
    "q = (bro.session.query(db.images.image_id, db.conditions)\n",
    "     .join(db.conditions)\n",
    "    )\n",
    "\n",
    "dat_cond = bro.doquery(q)\n"
   ]
  },
  {
   "cell_type": "code",
   "execution_count": null,
   "metadata": {},
   "outputs": [],
   "source": [
    "bro.helpers.anndata.add_anndata_obsmeta(dat, dat_cond, on=db.images.image_id.key)"
   ]
  },
  {
   "cell_type": "markdown",
   "metadata": {},
   "outputs": [],
   "source": [
    "Check how distance to border changes upon correction over all:"
   ]
  },
  {
   "cell_type": "code",
   "execution_count": null,
   "metadata": {},
   "outputs": [],
   "source": [
    "fig = plt.figure(figsize=(3,3))\n",
    "plt.hexbin(dat.obs_vector(col_raw), transf(dat.obs_vector(col_int)),\n",
    "          gridsize=100, rasterized=True)\n",
    "plt.colorbar()\n",
    "plt.title(f'Distance to border raw')\n",
    "plt.xlabel(r'Raw distance to border [$\\mu m$]')\n",
    "plt.ylabel('Cisplatin Pt194 [log10(MeanIntensity)]')\n",
    "fig.savefig(fol_plot / 'd2rim_raw_hm.pdf')"
   ]
  },
  {
   "cell_type": "code",
   "execution_count": null,
   "metadata": {},
   "outputs": [],
   "source": [
    "fig = plt.figure(figsize=(3,3))\n",
    "plt.hexbin(dat.obs_vector(col_corr), transf(dat.obs_vector(col_int)),\n",
    "          gridsize=100,rasterized=True)\n",
    "plt.colorbar()\n",
    "plt.title(f'Distance to border corrected')\n",
    "plt.xlabel(r'Corrected distance to border [$\\mu m$]')\n",
    "plt.ylabel('Cisplatin Pt194 [log10(MeanIntensity)]')\n",
    "fig.savefig(fol_plot / 'd2rim_corr_hm.pdf')"
   ]
  },
  {
   "cell_type": "code",
   "execution_count": null,
   "metadata": {},
   "outputs": [],
   "source": [
    "print(f'''\n",
    "Spearman overall:\n",
    "raw: {stats.spearmanr(dat.obs_vector(col_raw), dat.obs_vector(col_int))}\n",
    "\n",
    "corr: {stats.spearmanr(dat.obs_vector(col_corr), dat.obs_vector(col_int))}\n",
    "\n",
    "-> Overall correlation seems to improve upon correction\n",
    "''')"
   ]
  },
  {
   "cell_type": "markdown",
   "metadata": {},
   "outputs": [],
   "source": [
    "Also check the correlations for each sphere (=condition_id) - how often does it improve?"
   ]
  },
  {
   "cell_type": "code",
   "execution_count": null,
   "metadata": {},
   "outputs": [],
   "source": [
    "cordict = {}\n",
    "for c in dat.obs.condition_id.unique():\n",
    "    tdat = dat[dat.obs.condition_id == c]\n",
    "    cordict[c] = (stats.spearmanr(tdat.obs_vector(col_raw), tdat.obs_vector(col_int)).correlation,\n",
    "     stats.spearmanr(tdat.obs_vector(col_corr), tdat.obs_vector(col_int)).correlation)\n",
    "\n",
    "dat_cor = pd.DataFrame(cordict).T\n",
    "dat_cor.columns = ('raw', 'corrected')\n",
    "     \n",
    "dat_cor = dat_cor.assign(delta=lambda x: x['corrected']-x['raw'])"
   ]
  },
  {
   "cell_type": "code",
   "execution_count": null,
   "metadata": {},
   "outputs": [],
   "source": [
    "axs = dat_cor.hist(layout=(1,3), figsize=(5,1.5), bins=25)\n",
    "axs[0,0].set_title(r'$\\rho_{raw}$')\n",
    "axs[0,1].set_title(r'$\\rho_{corrected}$')\n",
    "axs[0,2].set_title(r'$\\Delta (\\rho)$')\n",
    "axs[0,0].set_ylabel('count')\n",
    "axs[0,0].set_xlabel(r'Spearman $\\rho$')\n",
    "axs[0,1].set_xlabel(r'Spearman $\\rho$')\n",
    "axs[0,2].set_xlabel(r'$\\Delta (\\rho_{corrected}-\\rho_{raw})$')"
   ]
  },
  {
   "cell_type": "code",
   "execution_count": null,
   "metadata": {},
   "outputs": [],
   "source": [
    "fig = axs[0,0].get_figure()\n",
    "fig.savefig(fol_plot / 'd2rim_hist.pdf')"
   ]
  },
  {
   "cell_type": "code",
   "execution_count": null,
   "metadata": {},
   "outputs": [],
   "source": [
    "dat_cor.mean()"
   ]
  },
  {
   "cell_type": "code",
   "execution_count": null,
   "metadata": {},
   "outputs": [],
   "source": [
    "print(\n",
    "f'''\n",
    "Correlation strength increases in: {(dat_cor['delta'] < 0).mean()}\n",
    "of spheres.\n",
    "''')"
   ]
  },
  {
   "cell_type": "code",
   "execution_count": null,
   "metadata": {},
   "outputs": [],
   "source": [
    "stats.ttest_1samp(dat_cor['delta'],0)"
   ]
  },
  {
   "cell_type": "code",
   "execution_count": null,
   "metadata": {},
   "outputs": [],
   "source": [
    "def boot_bigger(series: pd.Series, n: int, val: float):\n",
    "    is_big = 0\n",
    "    for _ in range(n):\n",
    "        is_big += series.sample(frac=1,replace=True).mean() > val\n",
    "    return is_big/n\n",
    "    "
   ]
  },
  {
   "cell_type": "code",
   "execution_count": null,
   "metadata": {},
   "outputs": [],
   "source": [
    "boot_bigger(dat_cor['delta'], 100000, 0)"
   ]
  },
  {
   "cell_type": "markdown",
   "metadata": {},
   "outputs": [],
   "source": [
    "Regress the two first without correction:"
   ]
  },
  {
   "cell_type": "code",
   "execution_count": null,
   "metadata": {},
   "outputs": [],
   "source": [
    "import statsmodels.api as sm\n",
    "import statsmodels.formula.api as smf\n",
    "import patsy\n",
    "from patsy.builtins import Q\n",
    "from patsy import bs"
   ]
  },
  {
   "cell_type": "code",
   "execution_count": null,
   "metadata": {},
   "outputs": [],
   "source": [
    "#d = pd.DataFrame({'x': np.log10(dat.obs_vector('Pt194')+0.01), 'y': np.log10(dat.obs_vector( 'object')+0.1)})\n",
    "d = pd.DataFrame({'x': np.log10(dat.obs_vector(col_int)+0.01), 'y': np.log10(dat.obs_vector( 'dist-sphere')+0.1)})\n",
    "d[d==np.inf]=np.nan\n",
    "d[d==-np.inf]=np.nan\n",
    "d = d.dropna()\n",
    "#mod = smf.ols(f'y~bs(x, df=10)', data=d).fit()\n",
    "mod_distsphere = smf.ols(f'y~x', data=d).fit()"
   ]
  },
  {
   "cell_type": "code",
   "execution_count": null,
   "metadata": {},
   "outputs": [],
   "source": [
    "mod_distsphere.summary()"
   ]
  },
  {
   "cell_type": "code",
   "execution_count": null,
   "metadata": {},
   "outputs": [],
   "source": [
    "plt.hexbin(d['x'],10**d['y'],yscale='log')\n",
    "plt.colorbar()\n",
    "predvals = pd.DataFrame({'x': np.arange(d['x'].min(), d['x'].max(), 0.1)})\n",
    "ax = plt.gca()\n",
    "ax.set_yscale('log')\n",
    "plt.scatter(predvals.loc[:,'x'], 10**mod_distsphere.predict(predvals), s=1, c='white')\n",
    "plt.title(f'Distance to border uncorrected\\nvs\\nCis{col_int}')\n",
    "plt.ylabel('Distance to border [um]')\n",
    "plt.xlabel('Cisplatin [log10(MeanIntensity)]')"
   ]
  },
  {
   "cell_type": "code",
   "execution_count": null,
   "metadata": {},
   "outputs": [],
   "source": [
    "plt.hexbin(d['x'],10**d['y'])\n",
    "plt.colorbar()\n",
    "predvals = pd.DataFrame({'x': np.arange(d['x'].min(), d['x'].max(), 0.1)})\n",
    "ax = plt.gca()\n",
    "plt.scatter(predvals.loc[:,'x'], 10**mod_distsphere.predict(predvals), s=1, c='white')\n",
    "plt.title(f'Distance to border uncorrected \\nvs\\nCis{col_int}')\n",
    "plt.ylabel('Distance to border [um]')\n",
    "plt.xlabel('Cisplatin [log10(MeanIntensity)]')\n",
    "plt.ylim((0,150))"
   ]
  },
  {
   "cell_type": "markdown",
   "metadata": {},
   "outputs": [],
   "source": [
    "And after correction:"
   ]
  },
  {
   "cell_type": "code",
   "execution_count": null,
   "metadata": {},
   "outputs": [],
   "source": [
    "d = pd.DataFrame({'x': np.log10(dat.obs_vector(col_int)+0.01), 'y': np.log10(dat.obs_vector( 'object')+0.1)})\n",
    "#d = pd.DataFrame({'x': np.log10(dat.obs_vector('Pt194')+0.01), 'y': -dat.obs_vector( 'dist-sphere')})\n",
    "d[d==np.inf]=np.nan\n",
    "d[d==-np.inf]=np.nan\n",
    "d = d.dropna()\n",
    "#mod = smf.ols(f'y~bs(x, df=10)', data=d).fit()\n",
    "mod = smf.ols(f'y~x', data=d).fit()"
   ]
  },
  {
   "cell_type": "code",
   "execution_count": null,
   "metadata": {},
   "outputs": [],
   "source": [
    "mod.summary()"
   ]
  },
  {
   "cell_type": "code",
   "execution_count": null,
   "metadata": {},
   "outputs": [],
   "source": [
    "plt.hexbin(d['x'],10**d['y'],yscale='log')\n",
    "plt.colorbar()\n",
    "predvals = pd.DataFrame({'x': np.arange(d['x'].min(), d['x'].max(), 0.1)})\n",
    "ax = plt.gca()\n",
    "ax.set_yscale('log')\n",
    "plt.scatter(predvals.loc[:,'x'], 10**mod.predict(predvals), s=1, c='white')\n",
    "plt.title(f'Distance to border\\nvs\\nCis{col_int}')\n",
    "plt.ylabel('Distance to border [um]')\n",
    "plt.xlabel('Cisplatin [log10(MeanIntensity)]')"
   ]
  },
  {
   "cell_type": "code",
   "execution_count": null,
   "metadata": {},
   "outputs": [],
   "source": [
    "plt.hexbin(d['x'],10**d['y'])\n",
    "plt.colorbar()\n",
    "predvals = pd.DataFrame({'x': np.arange(d['x'].min(), d['x'].max(), 0.1)})\n",
    "ax = plt.gca()\n",
    "plt.scatter(predvals.loc[:,'x'], 10**mod.predict(predvals), s=1, c='white')\n",
    "plt.title(f'Distance to border\\nvs\\nCis{col_int}')\n",
    "plt.ylabel('Distance to border [um]')\n",
    "plt.xlabel('Cisplatin [log10(MeanIntensity)]')\n",
    "plt.ylim((0,150))"
   ]
  },
  {
   "cell_type": "markdown",
   "metadata": {},
   "outputs": [],
   "source": [
    "-> On average also the goodness of fit seems to increase."
   ]
  },
  {
   "cell_type": "code",
   "execution_count": null,
   "metadata": {},
   "outputs": [],
   "source": []
  },
  {
   "cell_type": "code",
   "execution_count": null,
   "metadata": {},
   "outputs": [],
   "source": []
  }
 ],
 "metadata": {
  "jupytext": {
   "text_representation": {
    "extension": ".py",
    "format_name": "percent",
    "format_version": "1.3",
    "jupytext_version": "1.3.4"
   }
  },
  "kernelspec": {
   "display_name": "Python 3",
   "language": "python",
   "name": "python3"
  },
  "language_info": {
   "codemirror_mode": {
    "name": "ipython",
    "version": 3
   },
   "file_extension": ".py",
   "mimetype": "text/x-python",
   "name": "python",
   "nbconvert_exporter": "python",
   "pygments_lexer": "ipython3",
   "version": "3.8.5"
  }
 },
 "nbformat": 4,
 "nbformat_minor": 4
}
