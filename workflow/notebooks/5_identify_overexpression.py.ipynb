{
 "cells": [
  {
   "cell_type": "code",
   "execution_count": null,
   "metadata": {
    "pycharm": {
     "name": "#%%\n"
    }
   },
   "outputs": [],
   "source": [
    "sm = snakemake"
   ]
  },
  {
   "cell_type": "code",
   "execution_count": null,
   "metadata": {
    "lines_to_next_cell": 2
   },
   "outputs": [],
   "source": [
    "%load_ext autoreload\n",
    "%autoreload 2"
   ]
  },
  {
   "cell_type": "code",
   "execution_count": null,
   "metadata": {},
   "outputs": [],
   "source": [
    "%matplotlib inline"
   ]
  },
  {
   "cell_type": "code",
   "execution_count": null,
   "metadata": {
    "lines_to_next_cell": 2
   },
   "outputs": [],
   "source": [
    "import spherpro.bro as spb\n",
    "import spherpro.datastore as spd\n",
    "import spherpro.library as spl\n",
    "import spherpro.configuration as conf\n",
    "import spherpro.db as db\n",
    "import imp\n",
    "import pycytools as pct\n",
    "import pycytools.library as pclib\n",
    "import re\n",
    "import os\n",
    "import pandas as pd\n",
    "import numpy as np\n",
    "import spherpro.library as lib\n",
    "import matplotlib.pyplot as plt\n",
    "import plotnine as gg\n",
    "import seaborn as sns\n",
    "import pathlib"
   ]
  },
  {
   "cell_type": "markdown",
   "metadata": {
    "pycharm": {
     "name": "#%% md\n"
    }
   },
   "outputs": [],
   "source": [
    "# Aim: identify overexpressing cells and their neighbours\n",
    "\n",
    "The aim of this notebooks is to identify overexpressing cells as well as their neighbours.\n",
    "\n",
    "For consturcts with GFP we have 3 ways to do this:\n",
    "- two IMC GFP antibodies\n",
    "- primary GFP fluorescence\n",
    "- A pixel classifier trained for 'positive' pixels (visual) based on both IMC antibodies + primary fluorescence\n",
    "\n",
    "For constructs with FLAG tag we only have the FLAG tag measured by IMC\n",
    "\n"
   ]
  },
  {
   "cell_type": "markdown",
   "metadata": {},
   "outputs": [],
   "source": [
    "Setup the paths/configuration"
   ]
  },
  {
   "cell_type": "code",
   "execution_count": null,
   "metadata": {
    "pycharm": {
     "name": "#%%\n"
    }
   },
   "outputs": [],
   "source": [
    "class C:\n",
    "    # input files\n",
    "    fn_config = sm.input.fn_config\n",
    "    fn_constructs = pathlib.Path(sm.input.fn_constructs)\n",
    "    \n",
    "    # output files\n",
    "    fol_out = pathlib.Path(sm.params.fol_figures)\n",
    "    fol_plots = fol_out\n",
    "    \n",
    "    # module specific\n",
    "    metal_flag = ['Yb176']\n",
    "    fdr_flag = 0.01\n",
    "    metal_gfp = ['Er167', 'Tm169']\n",
    "    fdr_gfp = 0.05\n",
    "    measurement_name = 'MeanIntensityComp'\n",
    "    cell_type ='cell'\n",
    "    transform = lambda x: np.log10(x+0.1)\n",
    "    FIL_GFP='is-gfppos'\n",
    "    FIL_FLAG='is-flagpos'"
   ]
  },
  {
   "cell_type": "markdown",
   "metadata": {},
   "outputs": [],
   "source": [
    "Get the bro and setup some helpers\n"
   ]
  },
  {
   "cell_type": "code",
   "execution_count": null,
   "metadata": {
    "lines_to_next_cell": 2
   },
   "outputs": [],
   "source": [
    "bro = spb.get_bro(C.fn_config)"
   ]
  },
  {
   "cell_type": "code",
   "execution_count": null,
   "metadata": {},
   "outputs": [],
   "source": [
    "import spherpro.bromodules.helpers_vz as helpers_vz\n",
    "hpr = helpers_vz.HelperVZ(bro)"
   ]
  },
  {
   "cell_type": "code",
   "execution_count": null,
   "metadata": {},
   "outputs": [],
   "source": [
    "from src.variables import Vars as V"
   ]
  },
  {
   "cell_type": "code",
   "execution_count": null,
   "metadata": {},
   "outputs": [],
   "source": [
    "V.COL_METAL = 'metal'\n",
    "V.COL_TAGFLAG = 'TagFLAG'\n",
    "V.COL_TAGGFP = 'TagGFP'\n",
    "V.COL_ISFLAG = 'isFLAG'\n",
    "V.COL_ISGFP = 'isGFP'\n",
    "V.COL_CO = 'co'\n",
    "V.COL_ISSIG = 'is-sig'"
   ]
  },
  {
   "cell_type": "markdown",
   "metadata": {},
   "outputs": [],
   "source": [
    "Query metadata"
   ]
  },
  {
   "cell_type": "code",
   "execution_count": null,
   "metadata": {},
   "outputs": [],
   "source": [
    "dat_pannelcsv = hpr.get_pannelcsv()\n",
    "\n",
    "dat_measmeta = hpr.get_measuremeta(dat_pannelcsv, measurement_names=[C.measurement_name])\n",
    "\n",
    "dat_imgmeta = hpr.get_imgmeta()\n",
    "#dat_imgmeta[V.COL_SITELEVEL] = dat_imgmeta[V.COL_SITELEVEL].astype('str')\n",
    "\n",
    "fil_good_meas = hpr.get_fil_good_meas(dat_measmeta)"
   ]
  },
  {
   "cell_type": "code",
   "execution_count": null,
   "metadata": {},
   "outputs": [],
   "source": [
    "dat_constructs = pd.read_csv(C.fn_constructs)\n",
    "dat_constructs.head()"
   ]
  },
  {
   "cell_type": "code",
   "execution_count": null,
   "metadata": {},
   "outputs": [],
   "source": [
    "bro.doquery(bro.session.query(db.conditions)).head()"
   ]
  },
  {
   "cell_type": "markdown",
   "metadata": {},
   "outputs": [],
   "source": [
    "Generate a metadata table for the overexpression conditions"
   ]
  },
  {
   "cell_type": "code",
   "execution_count": null,
   "metadata": {
    "lines_to_next_cell": 2
   },
   "outputs": [],
   "source": [
    "dat_condmeta = (bro.doquery(bro.session.query(db.conditions))\n",
    "                .merge(dat_constructs)\n",
    "               )"
   ]
  },
  {
   "cell_type": "markdown",
   "metadata": {},
   "outputs": [],
   "source": [
    "We have either: c-TER Flag taged & FLAG-GFP tagged constructs.\n",
    "\n",
    "Setup a boolean indicator if we expect a GFP or FLAG signal"
   ]
  },
  {
   "cell_type": "code",
   "execution_count": null,
   "metadata": {
    "lines_to_next_cell": 2,
    "pycharm": {
     "name": "#%%\n"
    }
   },
   "outputs": [],
   "source": [
    "dat_condmeta[V.COL_ISFLAG] = dat_condmeta.apply(lambda x: x[V.COL_TAGGFP] | x[V.COL_TAGFLAG], axis=1)\n",
    "dat_condmeta[V.COL_ISGFP] = dat_condmeta.apply(lambda x: x[V.COL_TAGGFP] , axis=1)"
   ]
  },
  {
   "cell_type": "markdown",
   "metadata": {
    "pycharm": {
     "name": "#%% md\n"
    }
   },
   "outputs": [],
   "source": [
    "Prepare queries that identify specific measurements & objects in the database"
   ]
  },
  {
   "cell_type": "code",
   "execution_count": null,
   "metadata": {},
   "outputs": [],
   "source": [
    "fil_m = bro.filters.measurements.get_measmeta_filter_statements(\n",
    "        channel_names = [('GFP', 'DAPI'),  'prop-pos', tuple(C.metal_gfp+C.metal_flag)],\n",
    "        stack_names = ['IfStack', 'ProbPos', 'FullStackFiltered'],\n",
    "        measurement_names= ['MeanIntensity', ('UpperQuartileIntensity', 'MeanIntensity', 'NbAllMaxMeanIntensity'),\n",
    "                            ('MeanIntensityComp', 'NbAllMaxMeanIntensityComp')],\n",
    "        measurement_types=['Intensity', 'Intensity', 'Intensity'])\n",
    "\n",
    "q_meas = (bro.data.get_measmeta_query()\n",
    "            #.filter(db.stacks.stack_name.in_(['ifstack','gfpclass']))\n",
    "            .filter(fil_m)\n",
    "            .add_columns(db.ref_planes.channel_name,\n",
    "                        db.ref_stacks.scale)\n",
    "           )\n",
    "\n",
    "q_obj = (bro.data.get_objectmeta_query()\n",
    "        .filter(db.objects.object_type == 'cell')\n",
    "        .add_columns(db.objects.object_number))"
   ]
  },
  {
   "cell_type": "markdown",
   "metadata": {},
   "outputs": [],
   "source": [
    "Query the data measurements/objects from the database as an anndata object"
   ]
  },
  {
   "cell_type": "code",
   "execution_count": null,
   "metadata": {
    "lines_to_next_cell": 2
   },
   "outputs": [],
   "source": [
    "dat = bro.io.objmeasurements.get_measurements(q_obj=q_obj, q_meas=q_meas)\n",
    "dat = bro.io.objmeasurements.scale_anndata(dat)"
   ]
  },
  {
   "cell_type": "markdown",
   "metadata": {},
   "outputs": [],
   "source": [
    "Convert the data into a tidy format to quickly plot via plotnine"
   ]
  },
  {
   "cell_type": "code",
   "execution_count": null,
   "metadata": {},
   "outputs": [],
   "source": [
    "fil = dat.var.measurement_name.isin(['MeanIntensity', 'MeanIntensityComp'])\n",
    "pdat = pd.DataFrame(dat[:,fil].X, index=dat.obs.image_id, columns=dat[:,fil].var.channel_name).reset_index().merge(dat_imgmeta).merge(dat_condmeta)"
   ]
  },
  {
   "cell_type": "code",
   "execution_count": null,
   "metadata": {},
   "outputs": [],
   "source": [
    "(gg.ggplot(pdat, gg.aes(x='np.log10(GFP*2**16+300)', y='np.log10(Tm169+Er167+0.1)'))+\n",
    "     gg.facet_grid(f'.~{V.COL_ISGFP}+{V.COL_ISFLAG}')+\n",
    "     # gg.facet_grid('doxocyline~.')+\n",
    "     #gg.geom_point(alpha=1, size=0.01)+\n",
    "     gg.geom_bin2d(bins=200)+\n",
    "     gg.geom_smooth()+\n",
    "     gg.xlab('GFP primary fluorescence')+\n",
    "     gg.ylab('GFP IMC antibodies')+\n",
    "     gg.coord_equal()\n",
    ")"
   ]
  },
  {
   "cell_type": "markdown",
   "metadata": {},
   "outputs": [],
   "source": [
    "-> Seems like the sum of the GFP antibodies correlate with the GFP IF primary fluorescence.\n",
    "\n",
    "It looks like the IMC antibodies have a higher sensitivity"
   ]
  },
  {
   "cell_type": "code",
   "execution_count": null,
   "metadata": {},
   "outputs": [],
   "source": [
    "(gg.ggplot(pdat, gg.aes(x='np.log10(Er167+0.1)', y='np.log10(Tm169+0.1)'))+\n",
    "     gg.facet_grid(f'.~{V.COL_ISGFP}+{V.COL_ISFLAG}')+\n",
    "    # gg.facet_grid('doxocyline~.')+\n",
    "         #gg.geom_point(alpha=1, size=0.01)+\n",
    "         gg.geom_bin2d(bins=200)+\n",
    "         gg.geom_smooth()+\n",
    "         gg.coord_equal()\n",
    ")\n",
    "\n"
   ]
  },
  {
   "cell_type": "markdown",
   "metadata": {},
   "outputs": [],
   "source": [
    "-> The two antibodies are also correlating strongly"
   ]
  },
  {
   "cell_type": "code",
   "execution_count": null,
   "metadata": {},
   "outputs": [],
   "source": [
    "(gg.ggplot(pdat.rename(columns={'prop-pos':'pos'}), gg.aes(x='pos', y='np.log10(Tm169+0.1)'))+\n",
    "    gg.facet_grid(f'.~{V.COL_ISGFP}+{V.COL_ISFLAG}')+\n",
    "    # gg.facet_grid('doxocyline~.')+\n",
    "         #gg.geom_point(alpha=1, size=0.01)+\n",
    "         gg.geom_bin2d(bins=200)+\n",
    "        gg.scale_color_continuous(trans = \"log10\", option='inferno')\n",
    ")"
   ]
  },
  {
   "cell_type": "markdown",
   "metadata": {},
   "outputs": [],
   "source": [
    "-> The trained classifier seems to be quite specific.\n",
    "\n",
    "Some potential false positives can be seen in the Control cells.\n",
    "\n",
    "Interestingly the cells which had only a FLAG tag had a higher number of false positives"
   ]
  },
  {
   "cell_type": "code",
   "execution_count": null,
   "metadata": {},
   "outputs": [],
   "source": [
    "(gg.ggplot(pdat.rename(columns={'prop-pos':'pos'}),\n",
    "           gg.aes(x='pos'))+\n",
    "    gg.facet_grid(f'.~{V.COL_ISGFP}')+\n",
    "    # gg.facet_grid('doxocyline~.')+\n",
    "         #gg.geom_point(alpha=1, size=0.01)+\n",
    "         gg.geom_histogram(gg.aes(y='..density..'), bins=200)+\n",
    "     gg.scale_y_sqrt()+\n",
    " gg.xlab('Average positive pixel probability [a.u.]')+\n",
    " gg.ylab('Density [sqrt scale]') +\n",
    " gg.theme(figure_size=(5,3))\n",
    ")"
   ]
  },
  {
   "cell_type": "code",
   "execution_count": null,
   "metadata": {},
   "outputs": [],
   "source": [
    "(gg.ggplot(pdat.rename(columns={'prop-pos':'pos'}),\n",
    "           gg.aes(x='pos'))+\n",
    "    gg.facet_grid(f'.~{V.COL_ISGFP}')+\n",
    "    # gg.facet_grid('doxocyline~.')+\n",
    "         #gg.geom_point(alpha=1, size=0.01)+\n",
    "         gg.geom_histogram(gg.aes(y='..density..'), bins=200)+\n",
    " gg.coord_cartesian(ylim=(0,10))+\n",
    " gg.xlab('Average positive pixel probability [a.u.]')+\n",
    " gg.ylab('Density [sqrt scale]') +\n",
    " gg.theme(figure_size=(5,3))\n",
    ")"
   ]
  },
  {
   "cell_type": "markdown",
   "metadata": {},
   "outputs": [],
   "source": [
    "Plots the sum of both IMC antibodies on X, the GFP IF on Y and the probability for 'overexpression' as color.\n"
   ]
  },
  {
   "cell_type": "code",
   "execution_count": null,
   "metadata": {},
   "outputs": [],
   "source": [
    "d=pdat.query(f'{V.COL_TAGGFP}==True')\n",
    "plt.figure()\n",
    "plt.hexbin(C.transform(d['Er167']+d['Tm169']), C.transform(d['GFP']*2**16+300), C= d['prop-pos'], gridsize=80)\n",
    "plt.colorbar()"
   ]
  },
  {
   "cell_type": "markdown",
   "metadata": {},
   "outputs": [],
   "source": [
    "Now plot some example images to see how this looks in practice:"
   ]
  },
  {
   "cell_type": "code",
   "execution_count": null,
   "metadata": {},
   "outputs": [],
   "source": [
    "from src.plots.plot_ad_image import AnndataImagePlotter"
   ]
  },
  {
   "cell_type": "code",
   "execution_count": null,
   "metadata": {},
   "outputs": [],
   "source": [
    "ap = AnndataImagePlotter(bro)"
   ]
  },
  {
   "cell_type": "code",
   "execution_count": null,
   "metadata": {},
   "outputs": [],
   "source": [
    "a = ap.plot_anndata_subplots(1, dat, figsize=2)"
   ]
  },
  {
   "cell_type": "code",
   "execution_count": null,
   "metadata": {},
   "outputs": [],
   "source": [
    "plt.close('all')"
   ]
  },
  {
   "cell_type": "code",
   "execution_count": null,
   "metadata": {},
   "outputs": [],
   "source": [
    "a = ap.plot_anndata_subplots(12, dat, figsize=2)"
   ]
  },
  {
   "cell_type": "markdown",
   "metadata": {},
   "outputs": [],
   "source": [
    "Query some imageids for plotting"
   ]
  },
  {
   "cell_type": "code",
   "execution_count": null,
   "metadata": {},
   "outputs": [],
   "source": [
    "(bro.session.query(db.images.image_id, db.conditions.condition_name)\n",
    "            .join(db.conditions)\n",
    "            .filter(db.conditions.condition_name.startswith('GFP_GFP'))\n",
    "            .join(db.valid_images)).all()"
   ]
  },
  {
   "cell_type": "code",
   "execution_count": null,
   "metadata": {},
   "outputs": [],
   "source": [
    "imid = 504\n",
    "a = ap.plot_anndata_subplots(imid, dat, figsize=1.5)"
   ]
  },
  {
   "cell_type": "markdown",
   "metadata": {},
   "outputs": [],
   "source": [
    "Adjust some plotting parameters"
   ]
  },
  {
   "cell_type": "code",
   "execution_count": null,
   "metadata": {},
   "outputs": [],
   "source": [
    "ax = a[1][0]\n",
    "im = ax.images[0]\n",
    "im.set_clim(0,5)\n",
    "ax = a[1][4]\n",
    "im = ax.images[0]\n",
    "im.set_clim(0,5)"
   ]
  },
  {
   "cell_type": "code",
   "execution_count": null,
   "metadata": {},
   "outputs": [],
   "source": [
    "ax = a[1][3]\n",
    "im = ax.images[0]\n",
    "im.set_clim(0,3000)"
   ]
  },
  {
   "cell_type": "code",
   "execution_count": null,
   "metadata": {},
   "outputs": [],
   "source": [
    "img = a[1][1].images[0]"
   ]
  },
  {
   "cell_type": "code",
   "execution_count": null,
   "metadata": {},
   "outputs": [],
   "source": [
    "img.set_clim(0,1)"
   ]
  },
  {
   "cell_type": "code",
   "execution_count": null,
   "metadata": {},
   "outputs": [],
   "source": [
    "ax.get_figure()"
   ]
  },
  {
   "cell_type": "markdown",
   "metadata": {},
   "outputs": [],
   "source": [
    "Now decide on a cutoff"
   ]
  },
  {
   "cell_type": "code",
   "execution_count": null,
   "metadata": {},
   "outputs": [],
   "source": [
    "def score(x,y, ta=0.1, tb=0.3):\n",
    "    out = np.zeros(len(x))\n",
    "    sa = x > ta\n",
    "    sb = x > (y * tb)\n",
    "    neg = sa == False\n",
    "    pos = sa & sb\n",
    "    doubt = (sa & (sb == False))\n",
    "    out[neg] = 0\n",
    "    out[pos] = 2\n",
    "    out[doubt] = 1\n",
    "    return out\n",
    "    \n",
    "    \n",
    "    \n",
    "    "
   ]
  },
  {
   "cell_type": "code",
   "execution_count": null,
   "metadata": {},
   "outputs": [],
   "source": [
    "\n",
    "\n",
    "tdat = dat[dat.obs.query(f'{V.COL_IMGID}=={imid}').index,:][:, dat.var.query(f'({V.COL_CHANNELNAME}==\"prop-pos\") & {V.COL_MEASNAME}==\"MeanIntensity\"').index]\n",
    "\n",
    "\n",
    "\n",
    "    "
   ]
  },
  {
   "cell_type": "code",
   "execution_count": null,
   "metadata": {},
   "outputs": [],
   "source": [
    "(bro.session.query(db.images.image_id, db.conditions.condition_name)\n",
    "            .join(db.conditions)\n",
    "            .filter(db.conditions.condition_name.startswith('TNF'))\n",
    "            .join(db.valid_images)).all()"
   ]
  },
  {
   "cell_type": "code",
   "execution_count": null,
   "metadata": {},
   "outputs": [],
   "source": []
  },
  {
   "cell_type": "code",
   "execution_count": null,
   "metadata": {
    "lines_to_next_cell": 2
   },
   "outputs": [],
   "source": [
    "imid = 1111\n",
    "tdat = dat[dat.obs.query(f'{V.COL_IMGID}=={imid}').index,:][:,dat.var.channel_name.isin(['Er167', 'GFP', 'Tm169', 'prop-pos'])]\n",
    "a = ap.plot_anndata_subplots(imid, tdat, figsize=3)\n",
    "\n",
    "\n",
    "mask = bro.io.masks.get_mask(imid, 'cell')"
   ]
  },
  {
   "cell_type": "code",
   "execution_count": null,
   "metadata": {
    "lines_to_next_cell": 2
   },
   "outputs": [],
   "source": [
    "imid = 1111\n",
    "tdat = dat[dat.obs.query(f'{V.COL_IMGID}=={imid}').index,:][:,dat.var.channel_name.isin(['Er167', 'GFP', 'Tm169', 'prop-pos']) & (\n",
    "dat.var.measurement_name.isin(['MeanIntensity', 'MeanIntensityComp', 'NbAllMaxMeanIntensity']))]\n",
    "a = ap.plot_anndata_subplots(imid, tdat, figsize=3)\n",
    "\n",
    "\n",
    "mask = bro.io.masks.get_mask(imid, 'cell')\n",
    "ax = a[1][0]\n",
    "im = ax.images[0]\n",
    "im.set_clim(0,4)\n",
    "ax = a[1][1]\n",
    "im = ax.images[0]\n",
    "im.set_clim(0,2000)\n",
    "ax = a[1][2]\n",
    "im = ax.images[0]\n",
    "im.set_clim(0,4)"
   ]
  },
  {
   "cell_type": "markdown",
   "metadata": {},
   "outputs": [],
   "source": [
    "Try cutoffs"
   ]
  },
  {
   "cell_type": "code",
   "execution_count": null,
   "metadata": {},
   "outputs": [],
   "source": [
    "score_ta = 0.01\n",
    "score_tb = 0.3"
   ]
  },
  {
   "cell_type": "code",
   "execution_count": null,
   "metadata": {},
   "outputs": [],
   "source": [
    "val = score(tdat[:, tdat.var.query(f'({V.COL_CHANNELNAME}==\"prop-pos\") & {V.COL_MEASNAME}==\"MeanIntensity\"').index].X.squeeze(),\n",
    "     tdat[:, tdat.var.query(f'({V.COL_CHANNELNAME}==\"prop-pos\") & {V.COL_MEASNAME}==\"NbAllMaxMeanIntensity\"').index].X.squeeze(),\n",
    "    ta = score_ta, tb=score_tb)\n",
    "\n",
    "for ax in a.flatten():\n",
    "    ap._add_contour(mask, val, objnr=tdat.obs[db.objects.object_number.key], ax=ax, cmap=['white','red', 'green'],linestyles=':', linewidths=1)"
   ]
  },
  {
   "cell_type": "code",
   "execution_count": null,
   "metadata": {},
   "outputs": [],
   "source": [
    "ax.get_figure()"
   ]
  },
  {
   "cell_type": "markdown",
   "metadata": {},
   "outputs": [],
   "source": [
    "-> Green = Overexpression\n",
    "\n",
    "   Red = unsure due to spatial spillover"
   ]
  },
  {
   "cell_type": "raw",
   "metadata": {},
   "outputs": [],
   "source": [
    "%matplotlib widget"
   ]
  },
  {
   "cell_type": "code",
   "execution_count": null,
   "metadata": {},
   "outputs": [],
   "source": [
    "val_gfp = score(dat[:, dat.var.query(f'({V.COL_CHANNELNAME}==\"prop-pos\") & {V.COL_MEASNAME}==\"MeanIntensity\"').index].X.squeeze(),\n",
    "     dat[:, dat.var.query(f'({V.COL_CHANNELNAME}==\"prop-pos\") & {V.COL_MEASNAME}==\"NbAllMaxMeanIntensity\"').index].X.squeeze(),\n",
    "    ta =score_ta , tb=score_tb)\n",
    "\n",
    "obj_gfp = dat.obs.object_id\n",
    "dat_gfpfil = pd.DataFrame({db.object_filters.object_id.key: obj_gfp, \n",
    "                           db.object_filters.filter_value.key: val_gfp})"
   ]
  },
  {
   "cell_type": "code",
   "execution_count": null,
   "metadata": {},
   "outputs": [],
   "source": [
    "bro.filters.objectfilterlib.write_filter_to_db(dat_gfpfil, C.FIL_GFP, drop=True)"
   ]
  },
  {
   "cell_type": "code",
   "execution_count": null,
   "metadata": {},
   "outputs": [],
   "source": [
    "unique, counts = np.unique(val, return_counts=True)\n",
    "unique, counts"
   ]
  },
  {
   "cell_type": "code",
   "execution_count": null,
   "metadata": {},
   "outputs": [],
   "source": [
    "import seaborn as sns"
   ]
  },
  {
   "cell_type": "code",
   "execution_count": null,
   "metadata": {},
   "outputs": [],
   "source": [
    "t=score_ta\n",
    "x = (pdat.groupby(by=[V.COL_ISGFP, V.COL_ISFLAG])['prop-pos'].apply(lambda x: {'npos': np.sum(x > t),\n",
    "                                                                  'fracpos': np.mean(x>t),\n",
    "                                                                 'n': len(x)})\n",
    "     .unstack()\n",
    "     .assign(**{'exp_pos': lambda x:  x['n']*x.loc[(False, False), 'fracpos']})\n",
    "     .assign(**{'fdr': lambda x: x['exp_pos']/x['npos']})\n",
    "    )\n",
    "\n",
    "x"
   ]
  },
  {
   "cell_type": "code",
   "execution_count": null,
   "metadata": {},
   "outputs": [],
   "source": [
    "dat"
   ]
  },
  {
   "cell_type": "markdown",
   "metadata": {},
   "outputs": [],
   "source": [
    "Find also score for FLAG"
   ]
  },
  {
   "cell_type": "code",
   "execution_count": null,
   "metadata": {},
   "outputs": [],
   "source": [
    "\n",
    "def find_fdr_cutoff(values, neg_values, fdr=0.05):\n",
    "    \"\"\"\n",
    "    calculates the empirical FDR cuttof using a series of values values and a true negative label is_tn\n",
    "    :param value:\n",
    "    :param is_tn:\n",
    "    :return:\n",
    "    \"\"\"\n",
    "    univals = list(values.tolist())\n",
    "    univals.extend(neg_values.tolist())\n",
    "    univals.sort(reverse=True)\n",
    "    n_neg = len(neg_values)\n",
    "    n_vals = len(values)\n",
    "    for co in univals:\n",
    "        if n_neg > 0:\n",
    "            fpr = np.sum(neg_values >= co)/n_neg\n",
    "        if fpr > 0:\n",
    "            e_fdr = (fpr*n_vals)/np.sum(values >= co)\n",
    "            if e_fdr > fdr:\n",
    "                return co"
   ]
  },
  {
   "cell_type": "code",
   "execution_count": null,
   "metadata": {},
   "outputs": [],
   "source": [
    "tdat = dat[:,dat.var.query(f'({V.COL_CHANNELNAME} in {C.metal_flag}) & ({V.COL_MEASNAME}==\"MeanIntensityComp\")').index]\n",
    "tdat_max = dat[:,dat.var.query(f'({V.COL_CHANNELNAME} in {C.metal_flag}) & ({V.COL_MEASNAME}==\"NbAllMaxMeanIntensityComp\")').index]"
   ]
  },
  {
   "cell_type": "code",
   "execution_count": null,
   "metadata": {},
   "outputs": [],
   "source": [
    "is_empty = dat_imgmeta.merge(dat_condmeta.query(f'({V.COL_TAGFLAG} | {V.COL_TAGGFP}) == False'))[V.COL_IMGID]"
   ]
  },
  {
   "cell_type": "code",
   "execution_count": null,
   "metadata": {},
   "outputs": [],
   "source": [
    "is_flag = dat_imgmeta.merge(dat_condmeta.query(f'({V.COL_TAGFLAG})'))[V.COL_IMGID]"
   ]
  },
  {
   "cell_type": "code",
   "execution_count": null,
   "metadata": {},
   "outputs": [],
   "source": [
    "x_empty =  tdat[tdat.obs[V.COL_IMGID].isin(is_empty),:].X.squeeze()\n",
    "x_flag = tdat[tdat.obs[V.COL_IMGID].isin(is_flag),:].X.squeeze()\n",
    "co = find_fdr_cutoff(x_flag, x_empty, fdr=0.05)\n",
    "co"
   ]
  },
  {
   "cell_type": "code",
   "execution_count": null,
   "metadata": {},
   "outputs": [],
   "source": [
    "tdat.obs[V.COL_IMGID]"
   ]
  },
  {
   "cell_type": "code",
   "execution_count": null,
   "metadata": {},
   "outputs": [],
   "source": []
  },
  {
   "cell_type": "code",
   "execution_count": null,
   "metadata": {
    "lines_to_next_cell": 2
   },
   "outputs": [],
   "source": [
    "plt.figure()\n",
    "plt.hist([C.transform(np.array(x_empty)),C.transform(np.array(x_flag))],bins=100,density=True)\n",
    "plt.gca().axvline(C.transform(co))"
   ]
  },
  {
   "cell_type": "code",
   "execution_count": null,
   "metadata": {},
   "outputs": [],
   "source": [
    "C.transform(co)"
   ]
  },
  {
   "cell_type": "code",
   "execution_count": null,
   "metadata": {},
   "outputs": [],
   "source": [
    "np.sum(x_flag > co)"
   ]
  },
  {
   "cell_type": "raw",
   "metadata": {},
   "outputs": [],
   "source": [
    "%matplotlib widget\n",
    "%matplotlib widget"
   ]
  },
  {
   "cell_type": "code",
   "execution_count": null,
   "metadata": {
    "lines_to_next_cell": 2
   },
   "outputs": [],
   "source": [
    "val_flag = score(tdat.X.squeeze(), tdat_max.X.squeeze(), ta=co, tb=0.1)\n",
    "obj_flag = tdat.obs[V.COL_OBJID]\n",
    "\n",
    "dat_flagfil = pd.DataFrame({db.object_filters.object_id.key: obj_flag, \n",
    "                           db.object_filters.filter_value.key: val_flag})"
   ]
  },
  {
   "cell_type": "code",
   "execution_count": null,
   "metadata": {},
   "outputs": [],
   "source": [
    "bro.filters.objectfilterlib.write_filter_to_db(dat_flagfil, C.FIL_FLAG, drop=True)"
   ]
  },
  {
   "cell_type": "code",
   "execution_count": null,
   "metadata": {},
   "outputs": [],
   "source": [
    "imid = int(dat[dat.obs.object_id.isin(obj_flag[val_flag==2]) & dat.obs.image_id.isin(is_flag),:].obs.image_id.unique()[10])\n",
    "tdat = dat[dat.obs.query(f'{V.COL_IMGID}=={imid}').index,:][:,dat.var.channel_name.isin(C.metal_flag+['GFP', 'Tm169', 'prop-pos'])]\n",
    "a = ap.plot_anndata_subplots(imid, tdat, figsize=1.7)\n",
    "\n",
    "\n",
    "mask = bro.io.masks.get_mask(imid, 'cell')"
   ]
  },
  {
   "cell_type": "code",
   "execution_count": null,
   "metadata": {},
   "outputs": [],
   "source": [
    "a[1][0].images[0].set_clim(0,3)"
   ]
  },
  {
   "cell_type": "code",
   "execution_count": null,
   "metadata": {},
   "outputs": [],
   "source": [
    "a[0][0].images[0].set_clim(0,3)"
   ]
  },
  {
   "cell_type": "code",
   "execution_count": null,
   "metadata": {},
   "outputs": [],
   "source": [
    "dic_flagval = {o: v for o, v in zip(obj_flag, val_flag)} "
   ]
  },
  {
   "cell_type": "code",
   "execution_count": null,
   "metadata": {},
   "outputs": [],
   "source": [
    "val = np.array(list(map(dic_flagval.get, tdat.obs.object_id.values)))\n",
    "for ax in a.flatten():\n",
    "    ap._add_contour(mask, val, objnr=tdat.obs[db.objects.object_number.key], ax=ax, cmap=['white','red', 'green'],linestyles=':', linewidths=1)"
   ]
  },
  {
   "cell_type": "markdown",
   "metadata": {},
   "outputs": [],
   "source": [
    "Propagate the filters to neighbouring cells"
   ]
  },
  {
   "cell_type": "code",
   "execution_count": null,
   "metadata": {},
   "outputs": [],
   "source": [
    "def get_fildat(filname, obj_type='cell'):\n",
    "    d = bro.doquery(bro.session.query(db.object_filters, db.object_filter_names.object_filter_name)\n",
    "               .join(db.object_filter_names)\n",
    "               .filter(db.object_filter_names.object_filter_name == filname)\n",
    "               .join(db.objects)\n",
    "                    .join(db.images)\n",
    "                .filter(db.objects.object_type == obj_type)\n",
    "                .join(db.valid_objects)\n",
    "                    .join(db.valid_images)\n",
    "                   )\n",
    "    return d"
   ]
  },
  {
   "cell_type": "code",
   "execution_count": null,
   "metadata": {
    "lines_to_next_cell": 2
   },
   "outputs": [],
   "source": [
    "nbagg = bro.processing.nb_aggregation\n",
    "VAL_NB = 'Neighbors'"
   ]
  },
  {
   "cell_type": "code",
   "execution_count": null,
   "metadata": {},
   "outputs": [],
   "source": [
    "dat_nb = nbagg.get_nb_dat(VAL_NB,obj_type='cell')"
   ]
  },
  {
   "cell_type": "code",
   "execution_count": null,
   "metadata": {},
   "outputs": [],
   "source": [
    "def get_nb_filterval(fil_name, dat_nb, exclude_selfepos=False, pos_val=1):\n",
    "    \"\"\"\n",
    "    Generates a filter if there is any positive neightbours.\n",
    "    If the cell itself i\n",
    "    \"\"\"\n",
    "    COL_OBJ_ID = db.objects.object_id.key\n",
    "    COL_PARENTOBJID = db.object_relations.object_id_parent.key\n",
    "    COL_CHILDOBJID = db.object_relations.object_id_child.key\n",
    "    COL_FILTERVAL = db.object_filters.filter_value.key\n",
    "    dat_fil = (get_fildat(fil_name)[[COL_OBJ_ID, COL_FILTERVAL]])\n",
    "    if exclude_selfepos:\n",
    "        dat_fil_pos = dat_fil.query('{} == {}'.format(COL_FILTERVAL,pos_val))[COL_OBJ_ID]\n",
    "        # drop the children that are positive themselves\n",
    "        dat_nb= dat_nb.loc[dat_nb[COL_CHILDOBJID].isin(dat_fil_pos) == False,:]\n",
    "        \n",
    "    nb_fil = (dat_fil\n",
    "     .merge(dat_nb,left_on=COL_OBJ_ID, right_on=COL_PARENTOBJID)\n",
    "     .drop(COL_PARENTOBJID, axis=1)\n",
    "     .drop(COL_OBJ_ID,axis=1)\n",
    "     .rename(columns={COL_CHILDOBJID: COL_OBJ_ID})\n",
    "     .assign(**{COL_FILTERVAL: lambda x: x[COL_FILTERVAL] == pos_val})\n",
    "     .groupby(COL_OBJ_ID)[COL_FILTERVAL]\n",
    "     .sum()\n",
    "     .reset_index())\n",
    "    # Fill the object_ids that disappeared with 0\n",
    "    nb_fil = dat_fil[COL_OBJ_ID].to_frame().merge(nb_fil, how='left') \n",
    "    nb_fil[COL_FILTERVAL] = nb_fil[COL_FILTERVAL].fillna(0)\n",
    "    return nb_fil"
   ]
  },
  {
   "cell_type": "code",
   "execution_count": null,
   "metadata": {},
   "outputs": [],
   "source": [
    "x= get_nb_filterval(C.FIL_FLAG, dat_nb, pos_val=2, exclude_selfepos=False)"
   ]
  },
  {
   "cell_type": "code",
   "execution_count": null,
   "metadata": {},
   "outputs": [],
   "source": [
    "x.filter_value.median()"
   ]
  },
  {
   "cell_type": "code",
   "execution_count": null,
   "metadata": {},
   "outputs": [],
   "source": [
    "y = get_fildat(C.FIL_FLAG)"
   ]
  },
  {
   "cell_type": "code",
   "execution_count": null,
   "metadata": {},
   "outputs": [],
   "source": [
    "np.unique(y.query('filter_value==2').merge(x, on='object_id')['filter_value_y'], return_counts=True)"
   ]
  },
  {
   "cell_type": "code",
   "execution_count": null,
   "metadata": {},
   "outputs": [],
   "source": [
    "np.unique(x.filter_value, return_counts=True)"
   ]
  },
  {
   "cell_type": "code",
   "execution_count": null,
   "metadata": {
    "lines_to_next_cell": 2
   },
   "outputs": [],
   "source": [
    "fils = [C.FIL_FLAG, C.FIL_GFP]\n",
    "fil_suffix = 'Nb'\n",
    "\n",
    "for f in fils:\n",
    "    dat_filnb = get_nb_filterval(f, dat_nb, pos_val=2)\n",
    "    print(f)\n",
    "    print(dat_filnb[db.object_filters.filter_value.key].sum())\n",
    "    bro.filters.objectfilterlib.write_filter_to_db(dat_filnb, f+fil_suffix, drop=True)"
   ]
  },
  {
   "cell_type": "code",
   "execution_count": null,
   "metadata": {},
   "outputs": [],
   "source": [
    "fils = [C.FIL_FLAG, C.FIL_GFP]\n",
    "fil_suffix = 'NbWeak'\n",
    "\n",
    "for f in fils:\n",
    "    dat_filnb = get_nb_filterval(f, dat_nb, pos_val=1)\n",
    "    print(f)\n",
    "    print(dat_filnb[db.object_filters.filter_value.key].sum())\n",
    "    bro.filters.objectfilterlib.write_filter_to_db(dat_filnb, f+fil_suffix, drop=True)"
   ]
  },
  {
   "cell_type": "markdown",
   "metadata": {},
   "outputs": [],
   "source": [
    "Quick look at where the false positives from the FLAG taged constructs come from:"
   ]
  },
  {
   "cell_type": "code",
   "execution_count": null,
   "metadata": {},
   "outputs": [],
   "source": [
    "(pdat.query(f'{V.COL_ISGFP} == False')\n",
    " .assign(**{'pos': lambda x: x['prop-pos']>0.01})\n",
    " .groupby([ V.COL_CONDNAME, 'modification', 'tag', V.COL_CONDID])['pos'].sum()\n",
    " .reset_index()\n",
    "  .sort_values('pos', ascending=False)\n",
    " >> gg.ggplot(gg.aes(x='pos', fill=V.COL_CONDNAME))\n",
    " + gg.geom_histogram()\n",
    " + gg.coord_cartesian(ylim=(0,25))\n",
    " + gg.ggtitle('GFP positives per sphere')\n",
    ")"
   ]
  },
  {
   "cell_type": "markdown",
   "metadata": {},
   "outputs": [],
   "source": [
    "-> There seem to be multiple spheres positive for both myrFLAG-AKT and myr-FLAG-PI3K"
   ]
  },
  {
   "cell_type": "code",
   "execution_count": null,
   "metadata": {},
   "outputs": [],
   "source": [
    "tpdat = (pdat.query(f'{V.COL_ISGFP} == False')\n",
    " .assign(**{'pos': lambda x: x['prop-pos']>0.01})\n",
    " .groupby([ V.COL_CONDNAME, 'modification', 'tag', V.COL_CONDID, V.COL_IMGID])['pos'].sum()\n",
    " .reset_index()\n",
    "  .sort_values('pos', ascending=False)\n",
    ")"
   ]
  },
  {
   "cell_type": "code",
   "execution_count": null,
   "metadata": {},
   "outputs": [],
   "source": [
    "(tpdat\n",
    " >> gg.ggplot(gg.aes(x='pos', fill=V.COL_CONDNAME))\n",
    " + gg.geom_histogram()\n",
    " + gg.coord_cartesian(ylim=(0,25))\n",
    "  + gg.ggtitle('GFP positives per image')\n",
    ")"
   ]
  },
  {
   "cell_type": "markdown",
   "metadata": {},
   "outputs": [],
   "source": [
    "-> Looks like the positive cells also come from multiple images"
   ]
  },
  {
   "cell_type": "markdown",
   "metadata": {},
   "outputs": [],
   "source": [
    "I actually did a re-sequencing of the plasmids with C-ter FLAG tags as well as some Nter GFP constructs as control. I used a EGF N rev and Nter GFP fwd primer and found:\n",
    "- GFP sequence with both primers fo Nter GFP constructs -> as expected\n",
    "- An PI3K sequence for the EGFP N rev primer but not sequence for the Nter GFP fwd primer -> This suggests - as one would expext - that no N-ter GFP is found but ther seems to be a C-ter GFP -> We dont have a expression vector with C-ter GFP in the lab -> likely the entry clone was contaminated :/\n",
    "- For the other FLAG constructs I found no evidence for an unexpected GFP\n",
    "\n",
    "-> It seems that the PI3K construct seems to somehow have an unexpected Nter GFP"
   ]
  },
  {
   "cell_type": "code",
   "execution_count": null,
   "metadata": {},
   "outputs": [],
   "source": [
    "tpdat.head()"
   ]
  },
  {
   "cell_type": "code",
   "execution_count": null,
   "metadata": {},
   "outputs": [],
   "source": [
    "imid=998\n",
    "tdat = dat[dat.obs.query(f'{V.COL_IMGID}=={imid}').index,:][:,dat.var.channel_name.isin(C.metal_flag+['GFP', 'Tm169', 'prop-pos'])]\n",
    "a = ap.plot_anndata_subplots(imid, tdat, figsize=1.7)\n",
    "\n",
    "ax = a[1][0]\n",
    "im = ax.images[0]\n",
    "im.set_clim(0,1)\n",
    "ax = a[1][1]\n",
    "im = ax.images[0]\n",
    "im.set_clim(0,1)\n",
    "ax = a[1][2]\n",
    "im = ax.images[0]\n",
    "im.set_clim(0,1000)"
   ]
  },
  {
   "cell_type": "markdown",
   "metadata": {},
   "outputs": [],
   "source": [
    "-> I think these cells in an 'empty' sphere seem like real false positives, e.g. because of an air-bubble with higher background in the tissue:\n",
    "Both GFP antibodies seem o be slightly higher in this are, which can explain why the classifier classified the pixels positive.\n"
   ]
  }
 ],
 "metadata": {
  "jupytext": {
   "text_representation": {
    "extension": ".py",
    "format_name": "percent",
    "format_version": "1.3",
    "jupytext_version": "1.3.4"
   }
  },
  "kernelspec": {
   "display_name": "Python 3",
   "language": "python",
   "name": "python3"
  },
  "language_info": {
   "codemirror_mode": {
    "name": "ipython",
    "version": 3
   },
   "file_extension": ".py",
   "mimetype": "text/x-python",
   "name": "python",
   "nbconvert_exporter": "python",
   "pygments_lexer": "ipython3",
   "version": "3.8.5"
  }
 },
 "nbformat": 4,
 "nbformat_minor": 4
}
