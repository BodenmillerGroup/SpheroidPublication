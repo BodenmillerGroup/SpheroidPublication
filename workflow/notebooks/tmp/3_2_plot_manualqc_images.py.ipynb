{
 "cells": [
  {
   "cell_type": "code",
   "execution_count": null,
   "metadata": {},
   "outputs": [],
   "source": [
    "sm = snakemake"
   ]
  },
  {
   "cell_type": "code",
   "execution_count": null,
   "metadata": {
    "pycharm": {
     "name": "#%%\n"
    }
   },
   "outputs": [],
   "source": [
    "import spherpro.bro as spb\n",
    "import spherpro.datastore as spd\n",
    "import spherpro.library as spl\n",
    "import spherpro.configuration as conf\n",
    "import spherpro.db as db\n",
    "import imp\n",
    "import pycytools as pct\n",
    "import pycytools.library\n",
    "import re\n",
    "import os\n",
    "import pandas as pd\n",
    "import numpy as np\n",
    "import spherpro.library as lib\n",
    "import matplotlib.pyplot as plt\n",
    "import matplotlib_scalebar.scalebar as scalebar\n",
    "import pathlib\n",
    "import matplotlib.colors as colors\n",
    "import scipy.ndimage as ndimage\n",
    "\n",
    "from tqdm import tqdm\n",
    "%matplotlib inline"
   ]
  },
  {
   "cell_type": "markdown",
   "metadata": {
    "pycharm": {
     "name": "#%% md\n"
    }
   },
   "outputs": [],
   "source": [
    "# Aim:\n",
    "\n",
    "Plots for each image number a plot that should allow to easily judge the quality\n",
    "\n",
    "It should have:\n",
    "\n",
    "Ir193, Pr141 (tHH3), Pt194, Pt198\n",
    "\n",
    "Top row: Hm Images\n",
    "\n",
    "Bottom Row: IMC images"
   ]
  },
  {
   "cell_type": "code",
   "execution_count": null,
   "metadata": {},
   "outputs": [],
   "source": [
    "fn_config = sm.input.fn_config"
   ]
  },
  {
   "cell_type": "code",
   "execution_count": null,
   "metadata": {},
   "outputs": [],
   "source": [
    "fol_plts = pathlib.Path(sm.output[0])\n",
    "os.makedirs(fol_plts,exist_ok=True)"
   ]
  },
  {
   "cell_type": "code",
   "execution_count": null,
   "metadata": {},
   "outputs": [],
   "source": [
    "bro = spb.get_bro(fn_config)\n",
    "conf = bro.data.conf"
   ]
  },
  {
   "cell_type": "code",
   "execution_count": null,
   "metadata": {},
   "outputs": [],
   "source": [
    "conf_qd = conf['query_defaults']\n",
    "conf_cm = conf_qd['channel_measurements']\n",
    "conf_ob = conf_qd['object_defaults']\n",
    "conf_dist = conf_qd['distance_measure_raw']"
   ]
  },
  {
   "cell_type": "code",
   "execution_count": null,
   "metadata": {},
   "outputs": [],
   "source": [
    "import spherpro.bromodules.helpers_vz as helpers_vz\n",
    "V = helpers_vz.VariableBaseHelper\n",
    "\n",
    "\n",
    "class C:\n",
    "    PLOT_STACK = conf_cm['stack_name']\n",
    "    PLOT_MEAS = conf_cm['measurement_name']\n",
    "    PLOT_OBJECTYPE = conf_qd['object_type']\n",
    "    PLOT_DISTSTACK = 'DistStack'\n",
    "    PLOT_DISTMEAS = 'MaxIntensity'\n",
    "    PLOT_DISTCHAN = 'dist-sphere'\n",
    "    #PLOT_DISTCHANTYPE = 'Intensity'\n",
    "    PLOT_DISTTYPE = 'Location'\n",
    "    \n"
   ]
  },
  {
   "cell_type": "code",
   "execution_count": null,
   "metadata": {},
   "outputs": [],
   "source": [
    "pannel = bro.doquery(bro.session.query(db.pannel))\n",
    "pannel"
   ]
  },
  {
   "cell_type": "code",
   "execution_count": null,
   "metadata": {},
   "outputs": [],
   "source": [
    "from spherpro.bromodules.io_stackimage import IoStackImage\n",
    "iostackimg = IoStackImage(bro)"
   ]
  },
  {
   "cell_type": "code",
   "execution_count": null,
   "metadata": {},
   "outputs": [],
   "source": []
  },
  {
   "cell_type": "code",
   "execution_count": null,
   "metadata": {},
   "outputs": [],
   "source": [
    "def get_validobj_mask(imgid):\n",
    "    m = bro.io.masks.get_mask(imgid, 'cell')\n",
    "    obs = get_valid_objs(imgid)\n",
    "    m_sphere = np.isin(m, obs)\n",
    "    return m_sphere\n",
    "    \n",
    "def get_sphere_outline(mask):\n",
    "    m = ndimage.filters.maximum_filter(mask, 5)\n",
    "    m = ndimage.morphology.binary_fill_holes(m)\n",
    "    return m\n",
    "\n",
    "def get_valid_objs(imgid):\n",
    "    return [r[0] for r in bro.session.query(db.objects.object_number)\n",
    "         .join(db.valid_objects)\n",
    "         .filter(db.objects.image_id == imgid,\n",
    "                db.objects.object_type == C.PLOT_OBJECTYPE).all()]\n",
    "\n",
    "def _plot_imc(channel, imgid, ax=None):\n",
    "    if ax is None:\n",
    "        fig = plt.figure(figsize=(20,20))\n",
    "        ax = plt.gca()\n",
    "    plane_id = bro.helpers.dbhelp.get_plane_id(C.PLOT_STACK, channel)\n",
    "    img = iostackimg.get_planeimg(imgid, plane_id)\n",
    "    ax.imshow(img, cmap='plasma',\n",
    "                         norm=colors.SymLogNorm(linthresh=1, linscale=0.03, base=10))\n",
    "    ax.set_title('{} \\n {}'.format(bro.helpers.dbhelp.get_target_by_channel(channel), channel))\n",
    "    ax.axis('off')\n",
    "    return ax\n",
    "\n",
    "def _add_mask_contour(mask, ax=None, linewidths=1, linestyles=':', color='white'):\n",
    "    if ax is None:\n",
    "        fig = plt.figure(figsize=(20,20))\n",
    "        ax = plt.gca()\n",
    "    img = mask.copy()\n",
    "    ax.contour(img, [0,0.5],linewidths=linewidths, linestyles=linestyles,colors=color)"
   ]
  },
  {
   "cell_type": "code",
   "execution_count": null,
   "metadata": {},
   "outputs": [],
   "source": [
    "imgid= 123"
   ]
  },
  {
   "cell_type": "code",
   "execution_count": null,
   "metadata": {},
   "outputs": [],
   "source": [
    "channels = ['Ir193', 'Pr141', 'Nd144', 'Gd155', 'La139', 'Pt194']"
   ]
  },
  {
   "cell_type": "code",
   "execution_count": null,
   "metadata": {},
   "outputs": [],
   "source": [
    "def check_any_obj(imgid):\n",
    "    return (bro.session\n",
    "            .query(db.objects.object_id)\n",
    "            .filter(db.objects.image_id == imgid,\n",
    "                   db.objects.object_type == C.PLOT_OBJECTYPE)\n",
    "            .join(db.valid_objects).first() is not None)"
   ]
  },
  {
   "cell_type": "code",
   "execution_count": null,
   "metadata": {},
   "outputs": [],
   "source": [
    "def plot_qcplot(imgid, channels):\n",
    "    fig, axs = plt.subplots(2, len(channels)+1)\n",
    "    m_obj= get_validobj_mask(imgid)\n",
    "    m_sphere = get_sphere_outline(m_obj)\n",
    "    for a, c in zip(axs.T, channels):\n",
    "        bro.plots.heatmask.plt_heatplot([imgid], stat=C.PLOT_MEAS, stack=C.PLOT_STACK, channel=c, ax=a[0], colorbar=False)\n",
    "        _plot_imc(c, imgid, ax=a[1])\n",
    "        _add_mask_contour(m_sphere, ax=a[1],linewidths=0.5)\n",
    "    for ca in a:\n",
    "        sb = scalebar.ScaleBar(1, units='um', location=4, frameon=False, color='white')\n",
    "        ca.add_artist(sb)\n",
    "    a= axs.T[-1]\n",
    "    bro.plots.heatmask.plt_heatplot([imgid], stat=C.PLOT_DISTMEAS, stack=C.PLOT_DISTSTACK, channel=C.PLOT_DISTCHAN, ax=a[0], colorbar=False)\n",
    "    _plot_imc('Ir193', imgid, ax=a[1])\n",
    "    _add_mask_contour(m_obj, ax=a[1], linewidths=0.1)\n",
    "    plt.suptitle(f'image_id: {imgid}')\n",
    "    return fig"
   ]
  },
  {
   "cell_type": "code",
   "execution_count": null,
   "metadata": {},
   "outputs": [],
   "source": [
    "bro.plots.heatmask.plt_heatplot([2], stat=C.PLOT_DISTMEAS, stack=C.PLOT_DISTSTACK, channel=C.PLOT_DISTCHAN, colorbar=False)"
   ]
  },
  {
   "cell_type": "code",
   "execution_count": null,
   "metadata": {},
   "outputs": [],
   "source": [
    "def dosave_qcplot(imgid, channels, path):\n",
    "    fig = plot_qcplot(imgid, channels)\n",
    "    fn = path / f'qcplot_imgid_{imgid}.png'\n",
    "    fig.savefig(fn, dpi=300)\n",
    "    plt.close(fig)"
   ]
  },
  {
   "cell_type": "code",
   "execution_count": null,
   "metadata": {},
   "outputs": [],
   "source": [
    "fig = plot_qcplot(imgid, channels)\n",
    "fig.set_dpi(300)\n",
    "#plt.tight_layout()\n",
    "plt.show()"
   ]
  },
  {
   "cell_type": "code",
   "execution_count": null,
   "metadata": {},
   "outputs": [],
   "source": [
    "valid_imgs = [c[0] for c in bro.session.query(db.valid_images.image_id).all()]"
   ]
  },
  {
   "cell_type": "code",
   "execution_count": null,
   "metadata": {},
   "outputs": [],
   "source": [
    "len(valid_imgs)"
   ]
  },
  {
   "cell_type": "code",
   "execution_count": null,
   "metadata": {
    "pycharm": {
     "name": "#%%\n"
    }
   },
   "outputs": [],
   "source": []
  },
  {
   "cell_type": "code",
   "execution_count": null,
   "metadata": {
    "pycharm": {
     "name": "#%%\n"
    }
   },
   "outputs": [],
   "source": [
    "for img in tqdm(sorted(valid_imgs)):\n",
    "    try:\n",
    "        dosave_qcplot(int(img), channels, fol_plts)\n",
    "    except:\n",
    "        print(f'Error in img {img}')"
   ]
  },
  {
   "cell_type": "code",
   "execution_count": null,
   "metadata": {},
   "outputs": [],
   "source": [
    "for img in tqdm(sorted(valid_imgs)):\n",
    "    try:\n",
    "        dosave_qcplot(int(img), channels, fol_plts)\n",
    "    except:\n",
    "        print(f'Error in img {img}')"
   ]
  },
  {
   "cell_type": "code",
   "execution_count": null,
   "metadata": {},
   "outputs": [],
   "source": [
    "for img in tqdm(sorted(valid_imgs)):\n",
    "    try:\n",
    "        dosave_qcplot(int(img), channels, fol_plts)\n",
    "    except:\n",
    "        print(f'Error in img {img}')"
   ]
  }
 ],
 "metadata": {
  "jupytext": {
   "text_representation": {
    "extension": ".py",
    "format_name": "percent",
    "format_version": "1.3",
    "jupytext_version": "1.3.4"
   }
  },
  "kernelspec": {
   "display_name": "Python 3",
   "language": "python",
   "name": "python3"
  },
  "language_info": {
   "codemirror_mode": {
    "name": "ipython",
    "version": 3
   },
   "file_extension": ".py",
   "mimetype": "text/x-python",
   "name": "python",
   "nbconvert_exporter": "python",
   "pygments_lexer": "ipython3",
   "version": "3.8.5"
  }
 },
 "nbformat": 4,
 "nbformat_minor": 4
}
