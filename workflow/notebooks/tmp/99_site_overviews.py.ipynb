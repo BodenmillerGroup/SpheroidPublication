{
 "cells": [
  {
   "cell_type": "code",
   "execution_count": null,
   "metadata": {},
   "outputs": [],
   "source": [
    "sm = snakemake"
   ]
  },
  {
   "cell_type": "markdown",
   "metadata": {},
   "outputs": [],
   "source": [
    "Aim: make overviews of whole sites (=panorama) to be used for fig1\n"
   ]
  },
  {
   "cell_type": "code",
   "execution_count": null,
   "metadata": {},
   "outputs": [],
   "source": [
    "import pandas as pd\n",
    "import numpy as np\n",
    "import plotnine as gg\n",
    "import seaborn as sns\n",
    "import matplotlib.pyplot as plt\n",
    "import os \n",
    "import re\n",
    "import seaborn as sns\n",
    "\n",
    "import pathlib"
   ]
  },
  {
   "cell_type": "code",
   "execution_count": null,
   "metadata": {},
   "outputs": [],
   "source": [
    "import pycytools as pct\n",
    "import pycytools.library\n",
    "import pycytools.plots"
   ]
  },
  {
   "cell_type": "code",
   "execution_count": null,
   "metadata": {},
   "outputs": [],
   "source": [
    "import spherpro.bro as spb\n",
    "import spherpro.datastore as spd\n",
    "import spherpro.library as spl\n",
    "import spherpro.configuration as conf\n",
    "import spherpro.db as db\n",
    "import sqlalchemy as sa"
   ]
  },
  {
   "cell_type": "code",
   "execution_count": null,
   "metadata": {},
   "outputs": [],
   "source": [
    "import scipy.ndimage.filters as filters\n",
    "from scipy.ndimage.filters import gaussian_filter\n",
    "from skimage.color import label2rgb"
   ]
  },
  {
   "cell_type": "code",
   "execution_count": null,
   "metadata": {},
   "outputs": [],
   "source": [
    "from matplotlib_scalebar.scalebar import ScaleBar"
   ]
  },
  {
   "cell_type": "code",
   "execution_count": null,
   "metadata": {},
   "outputs": [],
   "source": [
    "import colorcet"
   ]
  },
  {
   "cell_type": "code",
   "execution_count": null,
   "metadata": {
    "lines_to_next_cell": 2
   },
   "outputs": [],
   "source": [
    "from src.config import Conf as C\n",
    "from src.variables import Vars as V"
   ]
  },
  {
   "cell_type": "code",
   "execution_count": null,
   "metadata": {},
   "outputs": [],
   "source": [
    "# move this into a global 'prepare folders function'\n",
    "C.fn_config = sm.input.fn_config\n",
    "C.fol_plts = pathlib.Path('results/figures/')\n",
    "C.fol_plts.mkdir(exist_ok=True)"
   ]
  },
  {
   "cell_type": "code",
   "execution_count": null,
   "metadata": {},
   "outputs": [],
   "source": [
    "bro = spb.get_bro(C.fn_config)"
   ]
  },
  {
   "cell_type": "code",
   "execution_count": null,
   "metadata": {},
   "outputs": [],
   "source": [
    "def _read_and_concat(fol_ome, suffix, idname):\n",
    "    ac_names = [f for f in os.listdir(fol_ome) if os.path.isdir(os.path.join(fol_ome, f))]\n",
    "    dat = pd.concat([pd.read_csv(os.path.join(fol_ome, a, a+suffix)) for a in ac_names],\n",
    "                           keys=ac_names, names=[V.COL_ACSESSION, V.VAL_TEMP])\n",
    "    dat = dat.reset_index(V.VAL_TEMP, drop=True)\n",
    "    dat = dat.reset_index()\n",
    "    dat = dat.rename(columns={V.COL_MCD_ID: V.COL_ACID})\n",
    "    return dat \n",
    "\n",
    "def read_acmeta(fol_ome):\n",
    "    dat_acmeta = _read_and_concat(fol_ome, V.SUFFIX_ACMETA, V.COL_ACID)\n",
    "    return dat_acmeta"
   ]
  },
  {
   "cell_type": "code",
   "execution_count": null,
   "metadata": {},
   "outputs": [],
   "source": [
    "def get_channel_images(acs, channels):\n",
    "    imgs = acs.map(lambda x: x.get_img_by_metal(channels))\n",
    "    return imgs\n",
    "    \n"
   ]
  },
  {
   "cell_type": "code",
   "execution_count": null,
   "metadata": {},
   "outputs": [],
   "source": [
    "def get_imc_acimg(x):\n",
    "    return bro.io.imcimg.get_imc_acquisition(x[db.slideacs.slideac_name.key], x[db.acquisitions.acquisition_mcd_acid.key])\n",
    "    \n"
   ]
  },
  {
   "cell_type": "code",
   "execution_count": null,
   "metadata": {},
   "outputs": [],
   "source": [
    "def get_img(site_id, channel, dat_acmeta_c, dat_site_c, filterfkt=None, norm=None, perc=99.999):\n",
    "    pdat =(dat_site_c\n",
    "           .query(f'{db.sites.site_id.key} == {site_id}')\n",
    "           .merge(dat_acmeta_c, left_on=(db.slideacs.slideac_name.key, db.acquisitions.acquisition_mcd_acid.key),\n",
    "                  right_on=(V.COL_ACSESSION, V.COL_ACID)))\n",
    "    img_dim = (np.max(pdat[V.COL_X_START]+pdat[V.COL_MAXX]), np.max(pdat[V.COL_Y_START]+pdat[V.COL_MAXY]))\n",
    "    img_big = np.zeros(img_dim)\n",
    "    img_big[:] = np.NAN\n",
    "    if ~(V.COL_IMCAC in pdat.columns):\n",
    "        pdat[V.COL_IMCAC] = (pdat.apply(get_imc_acimg, axis=1)\n",
    "        )       \n",
    "    \n",
    "    pdat = pdat.sort_values(V.COL_ACID, ascending=False)\n",
    "    for x,y,img in zip(pdat[V.COL_X_START], pdat[V.COL_Y_START], get_channel_images(pdat[V.COL_IMCAC], channel)):\n",
    "        img_big[x:(x+img.shape[1]), y:(y+img.shape[0])] = (np.fliplr(img.T))\n",
    "        #img_big[x:(x+img.shape[1]), y:(y+img.shape[0])] = ((img.T))\n",
    "\n",
    "    return img_big\n",
    "\n",
    "\n"
   ]
  },
  {
   "cell_type": "raw",
   "metadata": {},
   "outputs": [],
   "source": [
    "    fig, ax = plt.subplots()\n",
    "    vmax= np.percentile(img_big[~np.isnan(img_big)], perc)\n",
    "    if filterfkt is not None:\n",
    "        img_big = filterfkt(img_big)\n",
    "    cax = ax.imshow(img_big.T,cmap=plt.cm.Greys_r,\n",
    "                      interpolation='none', vmax=vmax, norm=norm)\n",
    "    ax.grid(False)\n",
    "    ax.set_aspect(\"equal\")\n",
    "    plt.colorbar(mappable=cax)\n",
    "    offset = (20, 100)\n",
    "    #plt.suptitle(acsession, fontdict={'fontsize': 40})\n",
    "    for x, y, a in zip(pdat[COL_X_START], pdat[COL_Y_START], pdat[COL_ACID]):\n",
    "        ax.text(x+offset[0], y+offset[1], f'{a}', fontdict={'fontsize': 15, 'color': 'r'})"
   ]
  },
  {
   "cell_type": "code",
   "execution_count": null,
   "metadata": {},
   "outputs": [],
   "source": [
    "fols_ome = bro.data.conf[conf.CPOUTPUT][conf.IMAGES_CSV][conf.IMAGE_OME_FOLDER_DIRS]"
   ]
  },
  {
   "cell_type": "code",
   "execution_count": null,
   "metadata": {},
   "outputs": [],
   "source": [
    "fols_ome"
   ]
  },
  {
   "cell_type": "code",
   "execution_count": null,
   "metadata": {},
   "outputs": [],
   "source": [
    "dat_acmeta = pd.concat([read_acmeta(f) for f in fols_ome])"
   ]
  },
  {
   "cell_type": "markdown",
   "metadata": {},
   "outputs": [],
   "source": [
    "1) get all acquisition from a site\n",
    "\n",
    "2) get the imc acquisitions"
   ]
  },
  {
   "cell_type": "code",
   "execution_count": null,
   "metadata": {
    "lines_to_next_cell": 2
   },
   "outputs": [],
   "source": [
    "dat_ac = bro.doquery(bro.session.query(db.sites, db.acquisitions, db.slideacs)\n",
    "           .join(db.acquisitions)\n",
    "            .join(db.slideacs)\n",
    "                )\n",
    "dat_ac = dat_ac.loc[:, ~dat_ac.columns.duplicated()]"
   ]
  },
  {
   "cell_type": "code",
   "execution_count": null,
   "metadata": {},
   "outputs": [],
   "source": [
    "dat_acmeta"
   ]
  },
  {
   "cell_type": "code",
   "execution_count": null,
   "metadata": {},
   "outputs": [],
   "source": [
    "site_id =21"
   ]
  },
  {
   "cell_type": "code",
   "execution_count": null,
   "metadata": {},
   "outputs": [],
   "source": [
    "dat_acmeta[V.COL_X_START] = dat_acmeta.groupby([V.COL_ACSESSION])[V.COL_XSLIDE_START].transform(lambda x: (x-np.min(x))).astype(int)\n",
    "dat_acmeta[V.COL_Y_START] = dat_acmeta.groupby([V.COL_ACSESSION])[V.COL_YSLIDE_END].transform(lambda x: (x-np.min(x))).astype(int)\n"
   ]
  },
  {
   "cell_type": "code",
   "execution_count": null,
   "metadata": {},
   "outputs": [],
   "source": [
    "img = get_img(site_id, 'Ir193', dat_acmeta, dat_ac)"
   ]
  },
  {
   "cell_type": "code",
   "execution_count": null,
   "metadata": {},
   "outputs": [],
   "source": [
    "\n",
    "def gauss_75(img):\n",
    "    img = gaussian_filter(img, 0.75)\n",
    "    return img"
   ]
  },
  {
   "cell_type": "code",
   "execution_count": null,
   "metadata": {},
   "outputs": [],
   "source": [
    "def process_img(img):\n",
    "    img = pct.plots._preproc_img_stack([img],sigma=0.75)[0]\n",
    "    return img"
   ]
  },
  {
   "cell_type": "code",
   "execution_count": null,
   "metadata": {},
   "outputs": [],
   "source": [
    "img_p = process_img(img)"
   ]
  },
  {
   "cell_type": "code",
   "execution_count": null,
   "metadata": {},
   "outputs": [],
   "source": [
    "plt.figure(figsize=(5,5))\n",
    "plt.imshow(img_p)"
   ]
  },
  {
   "cell_type": "raw",
   "metadata": {},
   "outputs": [],
   "source": [
    "# This plots all overviews to select the best\n",
    "chan = 'Ir193'\n",
    "for sid in dat_ac[db.sites.site_id.key].unique():\n",
    "    img = get_img(sid, chan, dat_acmeta, dat_ac)\n",
    "    img_p = process_img(img)\n",
    "    fig = plt.figure(figsize=(5,5))\n",
    "    plt.imshow(img_p)\n",
    "    slideac = dat_ac.query(f'{db.sites.site_id.key}=={sid}')[db.slideacs.slideac_name.key].values[0]\n",
    "    plt.title(f'{slideac} - site {sid} - {chan}')\n",
    "    fig.savefig(C.fol_plts / f'overview_{slideac}_site{sid}_{chan}.png')\n",
    "    plt.close()"
   ]
  },
  {
   "cell_type": "markdown",
   "metadata": {},
   "outputs": [],
   "source": [
    "After looking through these image, I decided for site 21 - this is a site that has only 1 acquisition and looks really nice"
   ]
  },
  {
   "cell_type": "code",
   "execution_count": null,
   "metadata": {},
   "outputs": [],
   "source": [
    "\n",
    "dat_cursite = bro.doquery(bro.session.query(db.images, db.acquisitions)\n",
    "    .join(db.acquisitions)\n",
    "    .join(db.sites)\n",
    "    #.join(db.valid_images)\n",
    "    .filter(db.sites.site_id == site_id))\n",
    "\n",
    "dat_cursite = dat_cursite.loc[:, ~dat_cursite.columns.duplicated()]\n",
    "\n",
    "dat_cursite[db.acquisitions.acquisition_id.key].unique()"
   ]
  },
  {
   "cell_type": "code",
   "execution_count": null,
   "metadata": {},
   "outputs": [],
   "source": [
    "img = get_img(site_id, 'Ir193', dat_acmeta, dat_ac)"
   ]
  },
  {
   "cell_type": "code",
   "execution_count": null,
   "metadata": {},
   "outputs": [],
   "source": [
    "import scipy.ndimage.filters as filters\n",
    "from scipy.ndimage.filters import gaussian_filter\n",
    "def gauss_75(img):\n",
    "    img = gaussian_filter(img, 0.75)\n",
    "    return img\n",
    "\n",
    "#%%\n",
    "\n",
    "def process_img(img):\n",
    "    img = pct.plots._preproc_img_stack([img],sigma=0.75)[0]\n",
    "    return img\n",
    "\n",
    "#%%\n",
    "\n",
    "img_p = process_img(img)\n",
    "\n",
    "#%%\n",
    "\n",
    "plt.figure(figsize=(5,5))\n",
    "plt.imshow(img_p)"
   ]
  },
  {
   "cell_type": "code",
   "execution_count": null,
   "metadata": {},
   "outputs": [],
   "source": [
    "acquisition_id = dat_cursite[db.acquisitions.acquisition_id.key].unique()[0]"
   ]
  },
  {
   "cell_type": "code",
   "execution_count": null,
   "metadata": {},
   "outputs": [],
   "source": [
    "imgs = list(dat_cursite[db.images.image_id.key])"
   ]
  },
  {
   "cell_type": "code",
   "execution_count": null,
   "metadata": {},
   "outputs": [],
   "source": [
    "imgs"
   ]
  },
  {
   "cell_type": "raw",
   "metadata": {},
   "outputs": [],
   "source": [
    "for g, dat in dat_cursite.groupby(db.acquisitions.acquisition_mcd_acid.key):\n",
    "    pass"
   ]
  },
  {
   "cell_type": "code",
   "execution_count": null,
   "metadata": {},
   "outputs": [],
   "source": [
    "for i in imgs:\n",
    "    try:\n",
    "        fig = bro.plots.debarcoededcells.plot_debarcoded_cells(i, colorbar=True)\n",
    "        plt.show()\n",
    "    except:\n",
    "        pass"
   ]
  },
  {
   "cell_type": "code",
   "execution_count": null,
   "metadata": {},
   "outputs": [],
   "source": [
    "# Select an example image\n",
    "cur_img=404"
   ]
  },
  {
   "cell_type": "raw",
   "metadata": {},
   "outputs": [],
   "source": [
    "mpl.rcParams[\"image.interpolation\"] = 'antialiased'\n",
    "fig = bro.plots.debarcoededcells.plot_debarcoded_cells(imgs[0], colorbar=True)\n",
    "plt.suptitle('Interpolation: Aliasing')"
   ]
  },
  {
   "cell_type": "raw",
   "metadata": {},
   "outputs": [],
   "source": [
    "mpl.rcParams[\"image.interpolation\"] = 'nearest'\n",
    "fig = bro.plots.debarcoededcells.plot_debarcoded_cells(imgs[0], colorbar=True)\n",
    "plt.suptitle('Interpolation: Nearest')"
   ]
  },
  {
   "cell_type": "code",
   "execution_count": null,
   "metadata": {},
   "outputs": [],
   "source": [
    "d = bro.plots.heatmask.get_heatmask_data({db.objects.object_type.key: 'cell',\n",
    "                                                db.ref_planes.channel_name.key: 'object',\n",
    "                                                db.stacks.stack_name.key: 'ObjectStack', db.measurement_names.measurement_name.key: 'barcode'},\n",
    "                                                image_ids=imgs,\n",
    "                                        valid_objects=True,\n",
    "                                        valid_images=False)"
   ]
  },
  {
   "cell_type": "code",
   "execution_count": null,
   "metadata": {},
   "outputs": [],
   "source": [
    "img = bro.plots.heatmask.assemble_heatmap_image(d)"
   ]
  },
  {
   "cell_type": "code",
   "execution_count": null,
   "metadata": {},
   "outputs": [],
   "source": [
    "import matplotlib.colors as mcolors"
   ]
  },
  {
   "cell_type": "code",
   "execution_count": null,
   "metadata": {},
   "outputs": [],
   "source": [
    "unicols=d[db.object_measurements.value.key].nunique()"
   ]
  },
  {
   "cell_type": "code",
   "execution_count": null,
   "metadata": {},
   "outputs": [],
   "source": [
    "base_colormap=colorcet.glasbey"
   ]
  },
  {
   "cell_type": "code",
   "execution_count": null,
   "metadata": {},
   "outputs": [],
   "source": [
    "color_invalid='#F8F8F8'"
   ]
  },
  {
   "cell_type": "raw",
   "metadata": {},
   "outputs": [],
   "source": [
    "color_invalid='#000022'"
   ]
  },
  {
   "cell_type": "code",
   "execution_count": null,
   "metadata": {},
   "outputs": [],
   "source": [
    "cmap = [color_invalid] + base_colormap"
   ]
  },
  {
   "cell_type": "code",
   "execution_count": null,
   "metadata": {},
   "outputs": [],
   "source": [
    "mymap = mcolors.LinearSegmentedColormap.from_list('mymap', cmap, N=unicols+1)"
   ]
  },
  {
   "cell_type": "code",
   "execution_count": null,
   "metadata": {},
   "outputs": [],
   "source": [
    "mymap.set_bad(color_invalid)"
   ]
  },
  {
   "cell_type": "code",
   "execution_count": null,
   "metadata": {},
   "outputs": [],
   "source": [
    "fig,ax = plt.subplots(1,1, figsize=(15,15))\n",
    "fig = bro.plots.heatmask.do_heatplot(img, cmap=mymap, colorbar=False, cmap_mask_alpha=0.3,ax=ax)\n",
    "fig.axes.axis('off')"
   ]
  },
  {
   "cell_type": "markdown",
   "metadata": {},
   "outputs": [],
   "source": [
    "Plot segmentation"
   ]
  },
  {
   "cell_type": "code",
   "execution_count": null,
   "metadata": {},
   "outputs": [],
   "source": [
    "d = bro.plots.heatmask.get_heatmask_data({db.objects.object_type.key: 'cell',\n",
    "                                                db.ref_planes.channel_name.key: 'Ir193',\n",
    "                                                db.stacks.stack_name.key: 'FullStackFiltered',\n",
    "                                          db.measurement_names.measurement_name.key: 'MeanIntensityComp'},\n",
    "                                                image_ids=imgs,\n",
    "                                         valid_objects=True,\n",
    "                                        valid_images=False)"
   ]
  },
  {
   "cell_type": "code",
   "execution_count": null,
   "metadata": {
    "lines_to_next_cell": 2
   },
   "outputs": [],
   "source": [
    "import random"
   ]
  },
  {
   "cell_type": "code",
   "execution_count": null,
   "metadata": {},
   "outputs": [],
   "source": [
    "random.seed(123213)\n",
    "d['obj'] = d[db.objects.object_number.key].sample(frac=1,).values\n",
    "d['img'] = d[db.images.image_id.key]"
   ]
  },
  {
   "cell_type": "code",
   "execution_count": null,
   "metadata": {},
   "outputs": [],
   "source": [
    "img = bro.plots.heatmask.assemble_heatmap_image(d,value_var='obj')"
   ]
  },
  {
   "cell_type": "code",
   "execution_count": null,
   "metadata": {},
   "outputs": [],
   "source": []
  },
  {
   "cell_type": "code",
   "execution_count": null,
   "metadata": {},
   "outputs": [],
   "source": [
    "col = [c for c in colorcet.glasbey]\n",
    "\n",
    "random.shuffle(col)"
   ]
  },
  {
   "cell_type": "code",
   "execution_count": null,
   "metadata": {},
   "outputs": [],
   "source": [
    "cmap_glasbey  = mcolors.LinearSegmentedColormap.from_list('glasbey', col)\n",
    "cmap_glasbey.set_bad(color_invalid)"
   ]
  },
  {
   "cell_type": "code",
   "execution_count": null,
   "metadata": {},
   "outputs": [],
   "source": [
    "fig,ax = plt.subplots(1,1, figsize=(15,15))\n",
    "fig = bro.plots.heatmask.do_heatplot(img, cmap=cmap_glasbey, colorbar=False, cmap_mask_alpha=1.5,ax=ax)\n",
    "fig.axes.axis('off')"
   ]
  },
  {
   "cell_type": "code",
   "execution_count": null,
   "metadata": {},
   "outputs": [],
   "source": [
    "img = bro.plots.heatmask.assemble_heatmap_image(d.query(f'{V.COL_IMGID}=={cur_img}'),value_var='obj')\n",
    "fig,ax = plt.subplots(1,1, figsize=(15,15))\n",
    "fig = bro.plots.heatmask.do_heatplot(img, cmap=cmap_glasbey, colorbar=False, cmap_mask_alpha=1.5,ax=ax)\n",
    "fig.axes.axis('off')"
   ]
  },
  {
   "cell_type": "markdown",
   "metadata": {},
   "outputs": [],
   "source": [
    "Illustrate the sphere segmentation based on this sphere"
   ]
  },
  {
   "cell_type": "markdown",
   "metadata": {},
   "outputs": [],
   "source": [
    "- get label mask"
   ]
  },
  {
   "cell_type": "code",
   "execution_count": null,
   "metadata": {},
   "outputs": [],
   "source": [
    "d = bro.plots.heatmask.get_heatmask_data({db.objects.object_type.key: 'cell',\n",
    "                                                db.ref_planes.channel_name.key: 'is-sphere',\n",
    "                                                db.stacks.stack_name.key: 'BinStack',\n",
    "                                          db.measurement_names.measurement_name.key: 'MeanIntensity'},\n",
    "                                                image_ids=[cur_img],\n",
    "                                         valid_objects=False,\n",
    "                                        valid_images=False)\n",
    "timg = bro.plots.heatmask.assemble_heatmap_image(d)\n",
    "timg.data[np.isnan(timg.data)] = 0 \n",
    "img_label_sphere =  np.ma.array((gaussian_filter(timg.data, 10) >0.2).astype(int), mask = gaussian_filter(timg.mask, 1) > 0.01)\n",
    "bro.plots.heatmask.do_heatplot(img_label_sphere)"
   ]
  },
  {
   "cell_type": "markdown",
   "metadata": {},
   "outputs": [],
   "source": [
    "- Get Iridium channel"
   ]
  },
  {
   "cell_type": "code",
   "execution_count": null,
   "metadata": {},
   "outputs": [],
   "source": [
    "img_dna = bro.io.stackimg.get_planeimg(cur_img, bro.helpers.dbhelp.get_plane_id('FullStackComp', 'Ir193'))"
   ]
  },
  {
   "cell_type": "code",
   "execution_count": null,
   "metadata": {},
   "outputs": [],
   "source": [
    "bro.plots.heatmask.do_heatplot(np.sqrt(img_dna))"
   ]
  },
  {
   "cell_type": "code",
   "execution_count": null,
   "metadata": {},
   "outputs": [],
   "source": []
  },
  {
   "cell_type": "markdown",
   "metadata": {},
   "outputs": [],
   "source": [
    "- overlay"
   ]
  },
  {
   "cell_type": "code",
   "execution_count": null,
   "metadata": {},
   "outputs": [],
   "source": [
    "img_lab = np.array(img_label_sphere.data)\n",
    "img_lab[img_label_sphere.mask == True] = -1\n",
    "image_label_overlay = label2rgb(img_lab, image=process_img(img_dna)*2, bg_label=-1,bg_color=(0,0,0))\n",
    "plt.imshow(image_label_overlay)\n",
    "plt.axis('off')"
   ]
  },
  {
   "cell_type": "raw",
   "metadata": {},
   "outputs": [],
   "source": [
    "Also overlay segmentation mask"
   ]
  },
  {
   "cell_type": "code",
   "execution_count": null,
   "metadata": {},
   "outputs": [],
   "source": [
    "timg = bro.plots.heatmask.assemble_heatmap_image(d, value_var=db.objects.object_id.key)\n",
    "timg.data[np.isnan(timg.data)] = 0 \n",
    "\n",
    "image_label_overlay = label2rgb(timg.data, image=process_img(img_dna)*2, bg_label=0,bg_color=(0,0,0))\n",
    "fig = plt.figure()\n",
    "plt.imshow(image_label_overlay)\n",
    "plt.axis('off')\n",
    "fig.set_dpi(200)"
   ]
  },
  {
   "cell_type": "markdown",
   "metadata": {},
   "outputs": [],
   "source": [
    "Plot markers"
   ]
  },
  {
   "cell_type": "raw",
   "metadata": {},
   "outputs": [],
   "source": [
    "    img = pct.plots.get_7_color_img(imc_img,\n",
    "                               metals=chans,\n",
    "                               alphas=alphas, sigma=0.5,\n",
    "                                   saturation=sat)\n",
    "\n",
    "    fig, ax =plt.subplots()\n",
    "    plt.imshow(img)\n",
    "    scalebar = ScaleBar(0.000001, location=4,color='white',pad=0.1,\n",
    "                            frameon=False,\n",
    "                            font_properties={'size': 10, 'family':'normal'}) # 1 pixel = 0.2 meter\n",
    "    plt.axis('off')\n",
    "    ax.add_artist(scalebar)"
   ]
  },
  {
   "cell_type": "code",
   "execution_count": null,
   "metadata": {},
   "outputs": [],
   "source": [
    "q=(bro.session.query(db.slideacs)\n",
    "           .join(db.sites)\n",
    "       .join(db.acquisitions)\n",
    "       .join(db.images)\n",
    "       .filter(db.images.image_id == cur_img)\n",
    "  )\n",
    "bro.doquery(q)"
   ]
  },
  {
   "cell_type": "code",
   "execution_count": null,
   "metadata": {},
   "outputs": [],
   "source": [
    "imc_img_single = bro.io.imcimg.get_imcimg(cur_img)\n",
    "imc_img = imc_img_single.original_imcac"
   ]
  },
  {
   "cell_type": "code",
   "execution_count": null,
   "metadata": {},
   "outputs": [],
   "source": [
    "def get_image_slice(row):\n",
    "    posx = int(row[db.images.image_pos_x.key])\n",
    "    posy = int(row[db.images.image_pos_y.key])\n",
    "    w = int(row[db.images.image_shape_w.key])\n",
    "    h = int(row[db.images.image_shape_h.key])\n",
    "    cur_slice = np.s_[posx:(h+posx), posy:(w+posy),:]\n",
    "    return cur_slice\n",
    "\n",
    "meta = bro.io.imcimg._get_imgmeta(cur_img)\n",
    "cur_slice = get_image_slice(meta)"
   ]
  },
  {
   "cell_type": "code",
   "execution_count": null,
   "metadata": {},
   "outputs": [],
   "source": [
    "def do_posterplot(imc_img, chans, alphas, basename, cur_slice):\n",
    "    img = pct.plots.get_7_color_img(imc_img,\n",
    "                               metals=chans,\n",
    "                               alphas=alphas, sigma=0.5,\n",
    "                                   saturation=sat)\n",
    "\n",
    "    fig, ax =plt.subplots()\n",
    "    plt.imshow(img)\n",
    "    scalebar = ScaleBar(0.000001, location=4,color='white',pad=0.1,\n",
    "                            frameon=False,\n",
    "                            font_properties={'size': 10, 'family':'normal'}) # 1 pixel = 0.2 meter\n",
    "    plt.axis('off')\n",
    "    ax.add_artist(scalebar)\n",
    "    #plt.savefig(os.path.join(fol_output, basename+'_overview.png'), dpi=300, bbox_inches='tight', pad_inches=0)\n",
    "\n",
    "\n",
    "    fig, ax =plt.subplots()\n",
    "    plt.imshow(img[cur_slice])\n",
    "    scalebar = ScaleBar(0.000001, location=4,color='white',pad=0.1,\n",
    "                            frameon=False,\n",
    "                            font_properties={'size': 10, 'family':'normal'}) # 1 pixel = 0.2 meter\n",
    "    plt.axis('off')\n",
    "    ax.add_artist(scalebar)\n",
    "    #plt.savefig(os.path.join(fol_output, basename+'_zoom.png'), dpi=300, bbox_inches='tight', pad_inches=0)\n",
    "    #|plt.ion()"
   ]
  },
  {
   "cell_type": "code",
   "execution_count": null,
   "metadata": {},
   "outputs": [],
   "source": [
    "vis_settings = [\n",
    "    [('Yb171', .5), #pS6 \n",
    "    ('Er166', .5), # Carbonic anhydrase\n",
    "     \n",
    "     ('Ir193',0.5),\n",
    "     (0, 0.5),\n",
    "    ('Er168', 0.7), #Ki67,\n",
    "     (0,0.5),\n",
    "    ('Yb172', 0.5) # # \n",
    "    ],\n",
    "    [('Nd148', .5), #rb \n",
    "    ('Yb176', .5), # Survivin\n",
    "     ('Tb159', 0.3), #GAPDH\n",
    "     \n",
    "     (0, 0.5),\n",
    "    ('Gd158',0.5),#pr\n",
    "     (0,0.5),\n",
    "    ('Eu153', 0.5) # # \n",
    "    ],\n",
    "    \n",
    "    [('Yb174', .7), #actin \n",
    "    ('Gd160', .5), # CD44\n",
    "     ('La139', 0.7), #trimet\n",
    "     \n",
    "     (0, 0.5),\n",
    "    ('Gd156',0.75),#Cycline B1\n",
    "     (0,0.5),\n",
    "    ('Sm152', 0.5) # AMPK\n",
    "    ],\n",
    "]\n",
    "basenames = ['img1', 'img2', 'img3']"
   ]
  },
  {
   "cell_type": "code",
   "execution_count": null,
   "metadata": {},
   "outputs": [],
   "source": [
    "\n",
    "sat=1.5\n",
    "\n",
    "\n",
    "for i, basename in enumerate(basenames):\n",
    "    chans, alphas = zip(*vis_settings[i]) \n",
    "    basename = basenames[i]\n",
    "    do_posterplot(imc_img, chans, alphas, basename, cur_slice)\n",
    "\n"
   ]
  },
  {
   "cell_type": "code",
   "execution_count": null,
   "metadata": {},
   "outputs": [],
   "source": []
  },
  {
   "cell_type": "markdown",
   "metadata": {},
   "outputs": [],
   "source": [
    "Get the slice information for all images"
   ]
  },
  {
   "cell_type": "code",
   "execution_count": null,
   "metadata": {},
   "outputs": [],
   "source": [
    "COL_SLICE = 'image_slice'"
   ]
  },
  {
   "cell_type": "code",
   "execution_count": null,
   "metadata": {},
   "outputs": [],
   "source": [
    "dat_image = bro.doquery(bro.session.query(db.images))\n",
    "dat_image[COL_SLICE] = dat_image.apply(get_image_slice, axis=1)"
   ]
  },
  {
   "cell_type": "markdown",
   "metadata": {},
   "outputs": [],
   "source": [
    "Plot Barcode Scheme"
   ]
  },
  {
   "cell_type": "code",
   "execution_count": null,
   "metadata": {},
   "outputs": [],
   "source": [
    "bro.data._read_barcode_key()"
   ]
  },
  {
   "cell_type": "code",
   "execution_count": null,
   "metadata": {},
   "outputs": [],
   "source": [
    "tab_bc =bro.processing.debarcode._get_barcode_key()"
   ]
  },
  {
   "cell_type": "code",
   "execution_count": null,
   "metadata": {},
   "outputs": [],
   "source": [
    "dat_cond = bro.doquery(bro.session.query(db.conditions))\n",
    "dat_cond = dat_cond"
   ]
  },
  {
   "cell_type": "code",
   "execution_count": null,
   "metadata": {},
   "outputs": [],
   "source": [
    "COL_WELL = db.conditions.well_name.key\n",
    "COL_METAL = db.ref_planes.channel_name.key\n",
    "COL_ISPRESENT = 'ispresent'"
   ]
  },
  {
   "cell_type": "code",
   "execution_count": null,
   "metadata": {},
   "outputs": [],
   "source": [
    "bc_scheme = tab_bc\n",
    "bc_scheme.columns.name = COL_METAL\n",
    "bc_scheme = bc_scheme.stack()\n",
    "bc_scheme.name = COL_ISPRESENT"
   ]
  },
  {
   "cell_type": "code",
   "execution_count": null,
   "metadata": {},
   "outputs": [],
   "source": []
  },
  {
   "cell_type": "code",
   "execution_count": null,
   "metadata": {},
   "outputs": [],
   "source": [
    "bc_scheme = (bc_scheme.to_frame()\n",
    "             .join(dat_cond.set_index(db.conditions.condition_id.key, drop=False)[COL_WELL]\n",
    "                   .drop_duplicates(), how='inner')\n",
    "             .set_index(COL_WELL,append=True)\n",
    "            )"
   ]
  },
  {
   "cell_type": "code",
   "execution_count": null,
   "metadata": {},
   "outputs": [],
   "source": [
    "dat_pannel = bro.data.pannel"
   ]
  },
  {
   "cell_type": "code",
   "execution_count": null,
   "metadata": {},
   "outputs": [],
   "source": [
    "\n"
   ]
  },
  {
   "cell_type": "code",
   "execution_count": null,
   "metadata": {},
   "outputs": [],
   "source": [
    "\n",
    "p = 99.9\n",
    "\n",
    "\n",
    "well_dict = {'%s%02d' % (r, c): (i, j) for (i,r) in enumerate('BCDEFG') for (j,c) in enumerate(range(2, 12))}\n",
    "\n",
    "\n",
    "#site = dat_image.index.get_level_values('site').unique()[0]\n",
    "#bc_metals = dat_pannel[dat_pannel['barcoding'] ==1 ]['metal']\n",
    "for metal, datmetal in bc_scheme.groupby(level=COL_METAL):\n",
    "    if metal != 'Pd102':\n",
    "        continue\n",
    "    fig, ax = plt.subplots(nrows=6, ncols=10, subplot_kw={'xticks': [], 'yticks': []},squeeze=False)\n",
    "    fig.patch.set_facecolor('black')\n",
    "    for well, datwell in datmetal.groupby(COL_WELL):\n",
    "        i,j = well_dict[well]\n",
    "        curax = ax[i,j]\n",
    "        col =[float(datwell.values[0]==0) for it in range(3)]\n",
    "        curax.scatter([1],[1],color=col, s=50, marker='o')\n",
    "        #curax.set_axis_bgcolor(col)\n",
    "    plt.suptitle(metal)"
   ]
  },
  {
   "cell_type": "code",
   "execution_count": null,
   "metadata": {},
   "outputs": [],
   "source": [
    "bc_scheme_w = bc_scheme.reset_index(level=COL_WELL,drop=False)\n",
    "bc_scheme_w['row'] = bc_scheme_w[COL_WELL].map(lambda x: well_dict[x][1])+2\n",
    "bc_scheme_w['col'] = bc_scheme_w[COL_WELL].map(lambda x: well_dict[x][0])+2\n",
    "bc_scheme_w['color']  = bc_scheme_w['ispresent'].map(lambda x: [min(float(x==0)+0.3,1) for it in range(3)])\n",
    "                                                \n",
    "bc_metals = bc_scheme.index.get_level_values(COL_METAL).unique()\n",
    "\n",
    "fig, allax = plt.subplots(nrows=2, ncols=4)\n",
    "for ax, (metal, datmetal) in zip(allax.flatten(), bc_scheme_w.groupby(level=COL_METAL)):   \n",
    "    ax.scatter(datmetal['row']-1.5, datmetal['col']-1.5,color=datmetal['color'], s=95, edgecolors='black')\n",
    "    ax.set_yticks(np.arange(7), minor=False)\n",
    "    ax.yaxis.grid(True, which='major')\n",
    "    ax.set_xticks(np.arange(11), minor=False)\n",
    "    ax.xaxis.grid(True, which='major')\n",
    "    #ax.set_axis_bgcolor('white')\n",
    "    ax.set_aspect(1)\n",
    "    ax.set_title(metal)\n",
    "    ax.tick_params(\n",
    "        axis='x',          # changes apply to the x-axis\n",
    "        which='both',      # both major and minor ticks are affected\n",
    "        bottom='off',      # ticks along the bottom edge are off\n",
    "        top='off',         # ticks along the top edge are off\n",
    "        labelbottom='off')\n",
    "    ax.tick_params(\n",
    "        axis='y',          # changes apply to the x-axis\n",
    "        which='both',      # both major and minor ticks are affected\n",
    "        bottom='off',      # ticks along the bottom edge are off\n",
    "        top='off',         # ticks along the top edge are off\n",
    "        labelbottom='off')\n",
    "    ax.get_yaxis().set_visible(False)\n",
    "plt.tight_layout()"
   ]
  },
  {
   "cell_type": "code",
   "execution_count": null,
   "metadata": {},
   "outputs": [],
   "source": [
    "\n",
    "color_dict = {'Pd102':(1,0,0), 'Pd104':(0,1,0),'Pd105':(0,0,1),'Pd106':(0,1,1), 'Pd108':(1,0,1),'Pd110':(1,1,0)}\n",
    "def get_col(p, w, color_dict, default=None):\n",
    "    if p & (w in color_dict.keys()):\n",
    "        return color_dict[w]\n",
    "    else:\n",
    "        if default is None:\n",
    "            return (0,0,0)\n",
    "        else:\n",
    "            return default"
   ]
  },
  {
   "cell_type": "code",
   "execution_count": null,
   "metadata": {
    "lines_to_next_cell": 2
   },
   "outputs": [],
   "source": [
    "\n",
    "bc_scheme_w['color_pd']  = [np.array(get_col(p,w, color_dict))*0.333 for p, w in  zip(bc_scheme_w['ispresent'], bc_scheme.index.get_level_values(COL_METAL))]"
   ]
  },
  {
   "cell_type": "code",
   "execution_count": null,
   "metadata": {
    "lines_to_next_cell": 2
   },
   "outputs": [],
   "source": [
    "\n",
    "datmetal =bc_scheme_w.groupby([COL_WELL, 'row','col'])['color_pd'].apply(lambda x: np.sum(x.T)).reset_index(drop=False)"
   ]
  },
  {
   "cell_type": "code",
   "execution_count": null,
   "metadata": {
    "lines_to_next_cell": 2
   },
   "outputs": [],
   "source": [
    "\n",
    "datmetal"
   ]
  },
  {
   "cell_type": "code",
   "execution_count": null,
   "metadata": {
    "lines_to_next_cell": 2
   },
   "outputs": [],
   "source": [
    "\n",
    "fig, ax = plt.subplots(nrows=1, ncols=1)\n",
    "\n",
    "ax.scatter(datmetal['row']-1.5, datmetal['col']-1.5,color=datmetal['color_pd'], s=1537, edgecolors='black')\n",
    "ax.set_yticks(np.arange(7), minor=False)\n",
    "ax.yaxis.grid(True, which='major')\n",
    "ax.set_xticks(np.arange(11), minor=False)\n",
    "ax.xaxis.grid(True, which='major')\n",
    "#ax.set_axis_bgcolor('white')\n",
    "ax.set_aspect(1)\n",
    "plt.axis('off')\n",
    "plt.xlim([0,10])\n",
    "plt.ylim([6,0]) \n",
    "ax.get_yaxis().set_visible(False)\n",
    "plt.tight_layout()"
   ]
  },
  {
   "cell_type": "code",
   "execution_count": null,
   "metadata": {},
   "outputs": [],
   "source": [
    "## Plot color image in plate layout\n",
    "p = 99.9\n",
    "\n",
    "sat = 2\n",
    "img = pct.plots.get_7_color_img(imc_img, sigma=0.7,\n",
    "             metals=['Yb174', # Pan Cadherin\n",
    "                     'Er167', #GFP\n",
    "                     'Eu153', #pHistone\n",
    "                     'Ir191', #Iridium\n",
    "                     'Er168', #Ki67\n",
    "                     'Nd145', #pMAPKAPK\n",
    "                     'Yb172'],# Cleaved Caspase\n",
    "            alphas=[0.2, #r\n",
    "                    0.3, #g\n",
    "                    0.3, #b\n",
    "                    0.3, #white\n",
    "                    0.3, # cyan\n",
    "                    0., #mangenta\n",
    "                   0.3], saturation=sat)#yellow"
   ]
  },
  {
   "cell_type": "code",
   "execution_count": null,
   "metadata": {},
   "outputs": [],
   "source": [
    "pdat = (dat_image\n",
    "        \n",
    "        .query(f'{db.images.acquisition_id.key}=={acquisition_id}')\n",
    "        .merge(dat_cond.reset_index(drop=True))\n",
    "       )"
   ]
  },
  {
   "cell_type": "code",
   "execution_count": null,
   "metadata": {},
   "outputs": [],
   "source": [
    "pdat = (dat_image\n",
    "        .query(f'{db.images.acquisition_id.key}=={acquisition_id}')\n",
    "    .merge(dat_cond))"
   ]
  },
  {
   "cell_type": "code",
   "execution_count": null,
   "metadata": {},
   "outputs": [],
   "source": [
    "fig, ax = plt.subplots(nrows=6, ncols=10, subplot_kw={'xticks': [], 'yticks': []},squeeze=True)\n",
    "fig.patch.set_facecolor('black')\n",
    "\n",
    "for idx, row in pdat.iterrows():    \n",
    "    wellid = row[COL_WELL]\n",
    "    i,j = well_dict[wellid]\n",
    "    curax = ax[i,j]\n",
    "\n",
    "    curslice = row[COL_SLICE]\n",
    "    pimg = img[curslice]\n",
    "    curax.imshow(pimg)\n",
    "    curax.set_aspect(1)\n",
    "    curax.tick_params(\n",
    "    axis='x',          # changes apply to the x-axis\n",
    "    which='both',      # both major and minor ticks are affected\n",
    "    bottom='off',      # ticks along the bottom edge are off\n",
    "    top='off',         # ticks along the top edge are off\n",
    "    labelbottom='off')\n",
    "    curax.tick_params(\n",
    "    axis='y',          # changes apply to the x-axis\n",
    "    which='both',      # both major and minor ticks are affected\n",
    "    bottom='off',      # ticks along the bottom edge are off\n",
    "    top='off',         # ticks along the top edge are off\n",
    "    labelbottom='off')\n",
    "    scalebar = ScaleBar(0.000001, location=4, color='white',pad=0.1,\n",
    "                        frameon=False,\n",
    "                        font_properties={'size': 5, 'family':'normal'}) # 1 pixel = 0.2 meter\n",
    "    #scalebar.set_units = 'um'\n",
    "    curax.add_artist(scalebar)\n",
    "#plt.suptitle(met)\n",
    "for curax in ax.flatten():\n",
    "    curax.set_facecolor('black')"
   ]
  },
  {
   "cell_type": "code",
   "execution_count": null,
   "metadata": {},
   "outputs": [],
   "source": [
    "sigma=2\n",
    "norm_perc=99.9\n",
    "outlierthresh =30\n",
    "sat=5\n",
    "img = pct.plots.get_7_color_img(imc_img, metals=['Pd102', 'Pd104','Pd105', 'Ir191','Pd106', 'Pd108','Pd110'],\n",
    "                           alphas=[0.33,0.33,0.33,0.01,0.33,0.33,0.33], saturation=sat,\n",
    "                                           norm_perc=norm_perc, sigma=sigma,\n",
    "                 outlierthresh=outlierthresh)"
   ]
  },
  {
   "cell_type": "code",
   "execution_count": null,
   "metadata": {},
   "outputs": [],
   "source": [
    "plt.imshow(img)"
   ]
  },
  {
   "cell_type": "code",
   "execution_count": null,
   "metadata": {},
   "outputs": [],
   "source": [
    "imc_img"
   ]
  },
  {
   "cell_type": "code",
   "execution_count": null,
   "metadata": {},
   "outputs": [],
   "source": [
    "fig, ax = plt.subplots(nrows=6, ncols=10, subplot_kw={'xticks': [], 'yticks': []},squeeze=True)\n",
    "fig.patch.set_facecolor('black')\n",
    "\n",
    "for idx, row in pdat.iterrows():    \n",
    "    wellid = row[COL_WELL]\n",
    "    i,j = well_dict[wellid]\n",
    "    curax = ax[i,j]\n",
    "\n",
    "    curslice = row[COL_SLICE]\n",
    "    pimg = img[curslice]\n",
    "    curax.imshow(pimg)\n",
    "    curax.set_aspect(1)\n",
    "    curax.tick_params(\n",
    "    axis='x',          # changes apply to the x-axis\n",
    "    which='both',      # both major and minor ticks are affected\n",
    "    bottom='off',      # ticks along the bottom edge are off\n",
    "    top='off',         # ticks along the top edge are off\n",
    "    labelbottom='off')\n",
    "    curax.tick_params(\n",
    "    axis='y',          # changes apply to the x-axis\n",
    "    which='both',      # both major and minor ticks are affected\n",
    "    bottom='off',      # ticks along the bottom edge are off\n",
    "    top='off',         # ticks along the top edge are off\n",
    "    labelbottom='off')\n",
    "    #scalebar = ScaleBar(0.000001, location=4, color='white',pad=0.1,\n",
    "    #                    frameon=False,\n",
    "    #                    font_properties={'size': 5, 'family':'normal'}) # 1 pixel = 0.2 meter\n",
    "    #scalebar.set_units = 'um'\n",
    "    #curax.add_artist(scalebar)\n",
    "#plt.suptitle(met)\n",
    "for curax in ax.flatten():\n",
    "    curax.set_facecolor('black')"
   ]
  },
  {
   "cell_type": "code",
   "execution_count": null,
   "metadata": {},
   "outputs": [],
   "source": [
    "def bc_img_process(imcimg, color_dict, sigma=4, div=2):\n",
    "    imgs = []\n",
    "    for m, col in color_dict.items():\n",
    "        img = imcimg.get_img_by_metal(m)\n",
    "        img = (gaussian_filter(img,sigma)/div)\n",
    "        img[img >1]=1\n",
    "        #imgs.append(m*c)\n",
    "        img=np.stack([img * c for c in col], axis=2)\n",
    "        imgs.append(img)\n",
    "    img = np.sum(imgs, axis=0)\n",
    "    img = img /np.sum(list(color_dict.values()), axis=0).max()\n",
    "    return img\n",
    "    \n",
    "img = bc_img_process(imc_img, color_dict)\n",
    "plt.imshow(img)"
   ]
  },
  {
   "cell_type": "code",
   "execution_count": null,
   "metadata": {},
   "outputs": [],
   "source": [
    "img = bc_img_process(imc_img, color_dict, sigma=6, div=0.5)\n",
    "plt.imshow(img)\n",
    "plt.axis('off')"
   ]
  },
  {
   "cell_type": "code",
   "execution_count": null,
   "metadata": {},
   "outputs": [],
   "source": [
    "def plot_siteimg_as_plate(img, well_slices, well_dict):\n",
    "    \"\"\"\n",
    "    img: an image\n",
    "    well_slices: a tuple with: (well, image_slice), eg from dat[[COL_WELL, COL_SLICE]].to_records(index=False)\n",
    "    \"\"\"\n",
    "    fig, ax = plt.subplots(nrows=6, ncols=10, subplot_kw={'xticks': [], 'yticks': []},squeeze=True)\n",
    "    fig.patch.set_facecolor('black')\n",
    "\n",
    "    for well, sl in well_slices:    \n",
    "        i,j = well_dict[well]\n",
    "        curax = ax[i,j]\n",
    "        pimg = img[sl]\n",
    "        curax.imshow(pimg)\n",
    "        curax.set_aspect(1)\n",
    "        curax.tick_params(\n",
    "        axis='x',          # changes apply to the x-axis\n",
    "        which='both',      # both major and minor ticks are affected\n",
    "        bottom='off',      # ticks along the bottom edge are off\n",
    "        top='off',         # ticks along the top edge are off\n",
    "        labelbottom='off')\n",
    "        curax.tick_params(\n",
    "        axis='y',          # changes apply to the x-axis\n",
    "        which='both',      # both major and minor ticks are affected\n",
    "        bottom='off',      # ticks along the bottom edge are off\n",
    "        top='off',         # ticks along the top edge are off\n",
    "        labelbottom='off')\n",
    "        #scalebar = ScaleBar(0.000001, location=4, color='white',pad=0.1,\n",
    "        #                    frameon=False,\n",
    "        #                    font_properties={'size': 5, 'family':'normal'}) # 1 pixel = 0.2 meter\n",
    "        #scalebar.set_units = 'um'\n",
    "        #curax.add_artist(scalebar)\n",
    "    #plt.suptitle(met)\n",
    "    for curax in ax.flatten():\n",
    "        curax.set_facecolor('black')\n",
    "    return fig"
   ]
  },
  {
   "cell_type": "code",
   "execution_count": null,
   "metadata": {},
   "outputs": [],
   "source": [
    "def plot_imgs_as_plate(wells_imgs, well_dict, shareax=False, scalebar=False):\n",
    "    \"\"\"\n",
    "    wells_imgs: a list of tuples (well, img)\n",
    "    \"\"\"\n",
    "    \n",
    "    fig, ax = plt.subplots(nrows=6, ncols=10, subplot_kw={'xticks': [], 'yticks': []},\n",
    "                           squeeze=True)\n",
    "    fig.patch.set_facecolor('white')\n",
    "\n",
    "    for well, img in wells_imgs:    \n",
    "        i,j = well_dict[well]\n",
    "        curax = ax[i,j]\n",
    "        curax.imshow(img)\n",
    "        curax.set_aspect(1)\n",
    "        curax.tick_params(\n",
    "        axis='x',          # changes apply to the x-axis\n",
    "        which='both',      # both major and minor ticks are affected\n",
    "        bottom='off',      # ticks along the bottom edge are off\n",
    "        top='off',         # ticks along the top edge are off\n",
    "        labelbottom='off')\n",
    "        curax.tick_params(\n",
    "        axis='y',          # changes apply to the x-axis\n",
    "        which='both',      # both major and minor ticks are affected\n",
    "        bottom='off',      # ticks along the bottom edge are off\n",
    "        top='off',         # ticks along the top edge are off\n",
    "        labelbottom='off')\n",
    "        if scalebar:\n",
    "            scalebar = ScaleBar(0.000001, location=4, color='white',pad=0.1,\n",
    "                                frameon=False,\n",
    "                                font_properties={'size': 5, 'family':'normal'}) # 1 pixel = 0.2 meter\n",
    "            scalebar.set_units = 'um'\n",
    "            curax.add_artist(scalebar)\n",
    "    #plt.suptitle(met)\n",
    "    for curax in ax.flatten():\n",
    "        curax.set_facecolor('black')\n",
    "    \n",
    "    if shareax:\n",
    "        lims = [max(v) for v in zip(*[(ax.get_xlim()[1], ax.get_ylim()[0]) for ax in fig.axes])]\n",
    "        for ax in fig.axes:\n",
    "            xcur = ax.get_xlim()[1]\n",
    "            ycur = ax.get_ylim()[0]\n",
    "            dx = (lims[0]-xcur)\n",
    "            dy = (lims[1]-ycur)\n",
    "            ax.set_xlim(-dx, xcur+dx)\n",
    "            ax.set_ylim(ycur+dy, -dy)\n",
    "    return fig"
   ]
  },
  {
   "cell_type": "code",
   "execution_count": null,
   "metadata": {},
   "outputs": [],
   "source": [
    "fig = plot_siteimg_as_plate(img, pdat[[COL_WELL, COL_SLICE]].values, well_dict)"
   ]
  },
  {
   "cell_type": "markdown",
   "metadata": {},
   "outputs": [],
   "source": [
    "Plot the  'biggest' section per well\n",
    "\n",
    "-> let's select the section with the highest nuber of valid barcodes as the 'biggest' section"
   ]
  },
  {
   "cell_type": "code",
   "execution_count": null,
   "metadata": {},
   "outputs": [],
   "source": [
    "from sqlalchemy import func"
   ]
  },
  {
   "cell_type": "code",
   "execution_count": null,
   "metadata": {},
   "outputs": [],
   "source": [
    "dat_maximg = (dat_image\n",
    "     .groupby(db.conditions.condition_id.key)\n",
    "     .apply(lambda x: x[db.images.image_id.key][x[db.images.bc_highest_count.key].idxmax()]\n",
    "           ).rename(db.images.image_id.key)\n",
    ").reset_index()"
   ]
  },
  {
   "cell_type": "code",
   "execution_count": null,
   "metadata": {},
   "outputs": [],
   "source": [
    "dat_bigbcimgs = (dat_image\n",
    " .merge(dat_maximg)\n",
    " .merge(dat_cond\n",
    "       .query(f'{db.conditions.plate_id.key} == 176'))\n",
    ")"
   ]
  },
  {
   "cell_type": "code",
   "execution_count": null,
   "metadata": {},
   "outputs": [],
   "source": [
    "dat_cond.columns"
   ]
  },
  {
   "cell_type": "code",
   "execution_count": null,
   "metadata": {},
   "outputs": [],
   "source": [
    "COL_IMG = 'img'\n",
    "COL_IMC = 'imc'"
   ]
  },
  {
   "cell_type": "code",
   "execution_count": null,
   "metadata": {},
   "outputs": [],
   "source": []
  },
  {
   "cell_type": "code",
   "execution_count": null,
   "metadata": {
    "lines_to_next_cell": 2
   },
   "outputs": [],
   "source": [
    "dat_bigbcimgs[COL_IMC] = (dat_bigbcimgs[db.images.image_id.key]\n",
    "                          .map(bro.io.imcimg.get_imcimg))"
   ]
  },
  {
   "cell_type": "code",
   "execution_count": null,
   "metadata": {},
   "outputs": [],
   "source": [
    "dat_bigbcimgs[COL_IMG] = (dat_bigbcimgs[COL_IMC]\n",
    "                 .apply(bc_img_process, color_dict=color_dict, sigma=6, div=0.5))"
   ]
  },
  {
   "cell_type": "code",
   "execution_count": null,
   "metadata": {},
   "outputs": [],
   "source": [
    "plot_imgs_as_plate(dat_bigbcimgs[[COL_WELL, COL_IMG]].values, well_dict, shareax=True)"
   ]
  },
  {
   "cell_type": "markdown",
   "metadata": {},
   "outputs": [],
   "source": [
    "This looks fairly good - also try once to get the 'biggest' sphere as the sphere\n",
    "with the most valid objects"
   ]
  },
  {
   "cell_type": "code",
   "execution_count": null,
   "metadata": {},
   "outputs": [],
   "source": [
    "from sqlalchemy import func"
   ]
  },
  {
   "cell_type": "code",
   "execution_count": null,
   "metadata": {},
   "outputs": [],
   "source": [
    "COL_NOBJ = 'nobjects'"
   ]
  },
  {
   "cell_type": "code",
   "execution_count": null,
   "metadata": {},
   "outputs": [],
   "source": [
    "q = (bro.session.query(db.conditions.condition_id, db.images.image_id,\n",
    "                       func.count(db.objects.object_id).label(COL_NOBJ))\n",
    "     .join(db.images, db.images.condition_id == db.conditions.condition_id)\n",
    "     .join(db.objects)\n",
    "     .join(db.valid_objects)\n",
    "     .group_by(db.conditions.condition_id, db.images.image_id)\n",
    "     .filter(db.conditions.plate_id == 176)\n",
    ")\n",
    "\n",
    "obj_ct = q.subquery()"
   ]
  },
  {
   "cell_type": "code",
   "execution_count": null,
   "metadata": {},
   "outputs": [],
   "source": [
    "maxobj_ct = (bro.session.query(obj_ct.c.condition_id, func.max(obj_ct.c[COL_NOBJ]).label(COL_NOBJ))\n",
    "    .group_by(obj_ct.c.condition_id)\n",
    "    ).subquery('maxct')"
   ]
  },
  {
   "cell_type": "code",
   "execution_count": null,
   "metadata": {},
   "outputs": [],
   "source": [
    "q = (bro.session.query(obj_ct)\n",
    "         .join(maxobj_ct, obj_ct.c.condition_id == maxobj_ct.c.condition_id)\n",
    "        .filter(obj_ct.c[COL_NOBJ] == maxobj_ct.c[COL_NOBJ]))"
   ]
  },
  {
   "cell_type": "code",
   "execution_count": null,
   "metadata": {},
   "outputs": [],
   "source": [
    "dat_maxobj = bro.doquery(q).merge(dat_cond)"
   ]
  },
  {
   "cell_type": "code",
   "execution_count": null,
   "metadata": {
    "lines_to_next_cell": 2
   },
   "outputs": [],
   "source": [
    "dat_maxobj[COL_IMC] = (dat_maxobj[db.images.image_id.key]\n",
    "                          .map(bro.io.imcimg.get_imcimg))"
   ]
  },
  {
   "cell_type": "code",
   "execution_count": null,
   "metadata": {},
   "outputs": [],
   "source": [
    "dat_maxobj[COL_IMG] = (dat_maxobj[COL_IMC]\n",
    "                 .apply(bc_img_process, color_dict=color_dict, sigma=6, div=0.5 ))"
   ]
  },
  {
   "cell_type": "code",
   "execution_count": null,
   "metadata": {},
   "outputs": [],
   "source": [
    "fig = plot_imgs_as_plate(dat_maxobj[[COL_WELL, COL_IMG]].values, well_dict, shareax=False)"
   ]
  },
  {
   "cell_type": "code",
   "execution_count": null,
   "metadata": {},
   "outputs": [],
   "source": [
    "fig = plot_imgs_as_plate(dat_maxobj[[COL_WELL, COL_IMG]].values, well_dict, shareax=True)"
   ]
  },
  {
   "cell_type": "markdown",
   "metadata": {},
   "outputs": [],
   "source": [
    "fig.savefig(C.fol_paper / 'fig1_bcspheres_plate.png')"
   ]
  },
  {
   "cell_type": "code",
   "execution_count": null,
   "metadata": {},
   "outputs": [],
   "source": [
    "## Plot color image in plate layout\n",
    "p = 99.9\n",
    "\n",
    "sat = 2\n",
    "\n",
    "def do_coolorplot(imc):\n",
    "    img = pct.plots.get_7_color_img(imc, sigma=0.7,\n",
    "                 metals=['Yb174', # Pan Cadherin\n",
    "                         'Er167', #GFP\n",
    "                         'Eu153', #pHistone\n",
    "                         'Ir191', #Iridium\n",
    "                         'Er168', #Ki67\n",
    "                         'Nd145', #pMAPKAPK\n",
    "                         'Yb172'],# Cleaved Caspase\n",
    "                alphas=[0.2, #r\n",
    "                        0.3, #g\n",
    "                        0.3, #b\n",
    "                        0.3, #white\n",
    "                        0.3, # cyan\n",
    "                        0., #mangenta\n",
    "                       0.3], saturation=sat,norm_perc=99.99)#yellow\n",
    "    return img"
   ]
  },
  {
   "cell_type": "code",
   "execution_count": null,
   "metadata": {},
   "outputs": [],
   "source": [
    "dat_maxobj[COL_IMG] = (dat_maxobj[COL_IMC]\n",
    "                 .apply(do_coolorplot ))"
   ]
  },
  {
   "cell_type": "code",
   "execution_count": null,
   "metadata": {},
   "outputs": [],
   "source": [
    "fig = plot_imgs_as_plate(dat_maxobj[[COL_WELL, COL_IMG]].values, well_dict, shareax=True)"
   ]
  },
  {
   "cell_type": "code",
   "execution_count": null,
   "metadata": {},
   "outputs": [],
   "source": [
    "def get_channels_imgmax(channels, ac):\n",
    "    q_max = (bro.data.get_measurement_query()\n",
    "     .with_entities((func.max(db.object_measurements.value)).label(db.object_measurements.value.key),\n",
    "                db.ref_planes.channel_name,  db.ref_stacks.scale)\n",
    "     .group_by(db.images.image_id, db.measurements.measurement_id, db.ref_stacks.scale,\n",
    "              db.ref_planes.channel_name)\n",
    "     .filter(db.ref_planes.channel_name.in_(channels))\n",
    "     .filter(db.objects.object_type == 'cell')\n",
    "     .filter(db.measurement_names.measurement_name == 'MeanIntensity')\n",
    "     .filter(db.stacks.stack_name == 'FullStackFiltered')\n",
    "     .filter(db.acquisitions.acquisition_id == ac)\n",
    "    ).subquery()\n",
    "    \n",
    "    q_max2 = (bro.session.query(q_max.c.channel_name,q_max.c.scale,\n",
    "                             func.avg(q_max.c.value).label(db.object_measurements.value.key),\n",
    "                   )\n",
    "        .group_by(q_max.c.channel_name, q_max.c.scale)).subquery()\n",
    "    \n",
    "    x =  {chan: val for chan, val in \n",
    "          (bro.session.query(q_max2.c.channel_name, q_max2.c.value*q_max2.c.scale))}\n",
    "    \n",
    "    \n",
    "    return x"
   ]
  },
  {
   "cell_type": "code",
   "execution_count": null,
   "metadata": {},
   "outputs": [],
   "source": [
    "def get_all_channels_imgmax(ac):\n",
    "    q_meas = (bro.data.get_measmeta_query()\n",
    "     .with_entities(db.measurements.measurement_id,\n",
    "                db.ref_planes.channel_name,  db.ref_stacks.scale)\n",
    "     #.group_by(db.images.image_id, db.measurements.measurement_id, db.ref_stacks.scale,\n",
    "     #         db.ref_planes.channel_name)\n",
    "     #.filter(db.ref_planes.channel_name.in_(channels))\n",
    "     .filter(db.measurement_names.measurement_name == 'MeanIntensityComp')\n",
    "     .filter(db.stacks.stack_name == 'FullStackFiltered')      \n",
    "             )\n",
    "              \n",
    "    q_obj = (bro.data.get_objectmeta_query(valid_images=False) \n",
    "     .filter(db.images.acquisition_id == ac)\n",
    "     .filter(db.objects.object_type == 'cell')\n",
    "    )\n",
    "    \n",
    "    \n",
    "    ad = bro.io.objmeasurements.get_measurements(q_meas=q_meas, q_obj=q_obj)\n",
    "    bro.io.objmeasurements.scale_anndata(ad)\n",
    "    return {c: m for c, m in zip(ad.var[db.ref_planes.channel_name.key], ad.X.max(0))}"
   ]
  },
  {
   "cell_type": "code",
   "execution_count": null,
   "metadata": {
    "lines_to_next_cell": 2
   },
   "outputs": [],
   "source": [
    "%%time\n",
    "ad = get_all_channels_imgmax(132)"
   ]
  },
  {
   "cell_type": "code",
   "execution_count": null,
   "metadata": {},
   "outputs": [],
   "source": [
    "ad"
   ]
  },
  {
   "cell_type": "markdown",
   "metadata": {},
   "outputs": [],
   "source": [
    "This doesnt seem to work!"
   ]
  },
  {
   "cell_type": "code",
   "execution_count": null,
   "metadata": {},
   "outputs": [],
   "source": [
    "metals=['Yb174', # Pan Cadherin\n",
    "                         'Er167', #GFP\n",
    "                         'Eu153', #pHistone\n",
    "                         'Ir193', #Iridium\n",
    "                         'Er168', #Ki67\n",
    "                         'Nd145', #pMAPKAPK\n",
    "                         'Yb172']"
   ]
  },
  {
   "cell_type": "code",
   "execution_count": null,
   "metadata": {},
   "outputs": [],
   "source": [
    "%%time\n",
    "metals_max =  get_all_channels_imgmax( int(acquisition_id))"
   ]
  },
  {
   "cell_type": "code",
   "execution_count": null,
   "metadata": {},
   "outputs": [],
   "source": []
  },
  {
   "cell_type": "markdown",
   "metadata": {},
   "outputs": [],
   "source": [
    "-> Quick and dirty: do it just based on 1 acquisition"
   ]
  },
  {
   "cell_type": "code",
   "execution_count": null,
   "metadata": {},
   "outputs": [],
   "source": [
    "def marker_img_process(imcimg, color_dict, div_dict, sigma=0.75,\n",
    "                      mult=1):\n",
    "    imgs = []\n",
    "    for m, col in color_dict.items():\n",
    "        img = imcimg.get_img_by_metal(m)\n",
    "        img = (gaussian_filter(img,sigma)/div_dict[m])*mult\n",
    "        img[img >1]=1\n",
    "        #imgs.append(m*c)\n",
    "        img=np.stack([img * c for c in col], axis=2)\n",
    "        imgs.append(img)\n",
    "    img = np.sum(imgs, axis=0)\n",
    "    img = img /np.sum(list(color_dict.values()), axis=0).max()\n",
    "    return img"
   ]
  },
  {
   "cell_type": "code",
   "execution_count": null,
   "metadata": {},
   "outputs": [],
   "source": [
    "metals_max"
   ]
  },
  {
   "cell_type": "code",
   "execution_count": null,
   "metadata": {},
   "outputs": [],
   "source": []
  },
  {
   "cell_type": "code",
   "execution_count": null,
   "metadata": {},
   "outputs": [],
   "source": [
    "marker_cols = {'Yb174': (1, 0, 0),\n",
    " 'Er167': (0, 1, 0),\n",
    " 'Eu153': (0, 0, 1),\n",
    " 'Er168': (0, 1, 1),\n",
    " 'Nd145': (1, 0, 1),\n",
    " 'Yb172': (1, 1, 0)}\n",
    "\n",
    "metals=['Yb174', # Pan Cadherin\n",
    "                         'Er167', #GFP\n",
    "                         'Eu153', #pHistone\n",
    "                         'Ir193', #Iridium\n",
    "                         'Er168', #Ki67\n",
    "                         'Nd145', #pMAPKAPK\n",
    "                         'Yb172']\n",
    "img = marker_img_process(imc_img, marker_cols,\n",
    "                         metals_max, mult=10)"
   ]
  },
  {
   "cell_type": "code",
   "execution_count": null,
   "metadata": {},
   "outputs": [],
   "source": [
    "plt.imshow(img)"
   ]
  },
  {
   "cell_type": "code",
   "execution_count": null,
   "metadata": {},
   "outputs": [],
   "source": [
    "dat_maxobj[COL_IMG] = (dat_maxobj[COL_IMC]\n",
    "                 .map(lambda x: marker_img_process(x,  marker_cols,\n",
    "                         metals_max,mult=10))\n",
    "                      )"
   ]
  },
  {
   "cell_type": "code",
   "execution_count": null,
   "metadata": {},
   "outputs": [],
   "source": [
    "plot_imgs_as_plate(dat_maxobj[[COL_WELL, COL_IMG]].values,\n",
    "                   well_dict, shareax=True)"
   ]
  },
  {
   "cell_type": "code",
   "execution_count": null,
   "metadata": {},
   "outputs": [],
   "source": [
    "plot_imgs_as_plate(dat_maxobj[[COL_WELL, COL_IMG]].values, well_dict, shareax=True)"
   ]
  },
  {
   "cell_type": "markdown",
   "metadata": {},
   "outputs": [],
   "source": [
    "## Example plots\n",
    "That looks not to bad - now find the sphere that should be used as an example sphere and optimize the visualization to show two example 7 color images.\n",
    "\n",
    "1 of the settings will then be further used to do the slide overview.\n",
    "\n",
    "\n",
    "Markers:\n",
    "cellline specific:\n",
    "- Vimentin - Dy162\n",
    "- Carbonic anhydrase - Er166\n",
    "- p-FAK - Nd143\n",
    "- CD44 - Nd150\n",
    "- pGSK3 beta - Gd158\n",
    "- pAKT - Dy163\n",
    "- Iridium - Ir193\n",
    "\n",
    "\n",
    "Spatial:\n",
    "- met"
   ]
  },
  {
   "cell_type": "markdown",
   "metadata": {},
   "outputs": [],
   "source": [
    "The example image should be from HT29\n",
    "-> plot all of them"
   ]
  },
  {
   "cell_type": "code",
   "execution_count": null,
   "metadata": {},
   "outputs": [],
   "source": [
    "ref_cond = ['HT-29_c0.5_tp96']"
   ]
  },
  {
   "cell_type": "code",
   "execution_count": null,
   "metadata": {},
   "outputs": [],
   "source": [
    "dat_refimgs = (dat_image\n",
    "        .query(f'{db.images.acquisition_id.key}=={acquisition_id}')\n",
    "        .merge(dat_cond)\n",
    "        .query(f'{db.conditions.condition_name.key} in {ref_cond}')\n",
    "       )\n",
    "ref_imgids = [[int(i) for i in dat_refimgs[db.images.image_id.key]][1]]\n",
    "print(ref_imgids)"
   ]
  },
  {
   "cell_type": "markdown",
   "metadata": {},
   "outputs": [],
   "source": [
    "Plot Carbonic Anhydrase, CD44, pS6, ki67"
   ]
  },
  {
   "cell_type": "code",
   "execution_count": null,
   "metadata": {},
   "outputs": [],
   "source": [
    "example_mark = ['Yb171', 'Er166', 'Er168', 'Eu153', 'Dy161', 'Nd150', 'Gd158', 'Nd143', 'Yb174','Lu175',\n",
    "               ]"
   ]
  },
  {
   "cell_type": "code",
   "execution_count": null,
   "metadata": {},
   "outputs": [],
   "source": [
    "imgids = ref_imgids[0]\n",
    "print(imgids)"
   ]
  },
  {
   "cell_type": "code",
   "execution_count": null,
   "metadata": {},
   "outputs": [],
   "source": [
    "import matplotlib.colors as colors"
   ]
  },
  {
   "cell_type": "code",
   "execution_count": null,
   "metadata": {},
   "outputs": [],
   "source": [
    "C.fol_paper = pathlib.Path('results/figures/')"
   ]
  },
  {
   "cell_type": "code",
   "execution_count": null,
   "metadata": {},
   "outputs": [],
   "source": [
    "for m in example_mark:\n",
    "    d=bro.plots.heatmask.get_heatmask_data({db.measurements.measurement_name.key: 'MeanIntensityComp',\n",
    "                                     db.objects.object_type.key: 'cell',\n",
    "                                     db.ref_planes.channel_name.key: m,\n",
    "                                     db.stacks.stack_name.key: 'FullStackFiltered'}, image_ids=ref_imgids)\n",
    "    for imid, dat in d.groupby(db.images.image_id.key):\n",
    "        dat[db.object_measurements.value.key] =  np.log10(dat[db.object_measurements.value.key]+0.1)\n",
    "        img = bro.plots.heatmask.assemble_heatmap_image(dat)\n",
    "        fig, ax = plt.subplots(1,1, figsize=(3,2))\n",
    "        ax=bro.plots.heatmask.do_heatplot(img,ax=ax)\n",
    "        scalebar = ScaleBar(0.000001, location=4,color='white',pad=0.1,fixed_value=100,fixed_units='um',\n",
    "                            frameon=False,\n",
    "                            font_properties={'size': 10, 'family':'normal'})\n",
    "        ax.add_artist(scalebar)\n",
    "        ax.axis('off')\n",
    "        aximg = ax.images[0]\n",
    "        #(vmin, vmax) = (aximg.norm.vmin, aximg.norm.vmax)\n",
    "        #aximg.set_norm(colors.LogNorm(vmin=vmin, vmax=vmax))\n",
    "        plt.title(f'{bro.helpers.dbhelp.get_target_by_channel(m)} - {m}')\n",
    "        plt.show()\n",
    "        fig = ax.get_figure()\n",
    "        fig.savefig(C.fol_paper / f'fig2_examplehmimg_{m}.pdf' ,transparent=True, dpi=800)"
   ]
  },
  {
   "cell_type": "code",
   "execution_count": null,
   "metadata": {},
   "outputs": [],
   "source": [
    "cur_slices = dat_refimgs.query(f'{db.images.image_id.key} in {ref_imgids}').apply(get_image_slice, axis=1)"
   ]
  },
  {
   "cell_type": "code",
   "execution_count": null,
   "metadata": {},
   "outputs": [],
   "source": [
    "def do_posterplot2(imc_img, chans, alphas, basename, cur_slices):\n",
    "    img = pct.plots.get_7_color_img(imc_img,\n",
    "                               metals=chans,\n",
    "                               alphas=alphas, sigma=0.5,\n",
    "                                   saturation=sat)\n",
    "\n",
    "    fig, ax =plt.subplots()\n",
    "    plt.imshow(img)\n",
    "    scalebar = ScaleBar(0.000001, location=4,color='white',pad=0.1,\n",
    "                            frameon=False,\n",
    "                            font_properties={'size': 10, 'family':'normal'}) # 1 pixel = 0.2 meter\n",
    "    plt.axis('off')\n",
    "    ax.add_artist(scalebar)\n",
    "    #plt.savefig(os.path.join(fol_output, basename+'_overview.png'), dpi=300, bbox_inches='tight', pad_inches=0)\n",
    "\n",
    "    for cur_slice in cur_slices:\n",
    "        fig, ax =plt.subplots()\n",
    "        plt.imshow(img[cur_slice])\n",
    "        scalebar = ScaleBar(0.000001, location=4,color='white',pad=0.1,\n",
    "                                frameon=False,\n",
    "                                font_properties={'size': 10, 'family':'normal'}) # 1 pixel = 0.2 meter\n",
    "        plt.axis('off')\n",
    "        ax.add_artist(scalebar)\n",
    "    #plt.savefig(os.path.join(fol_output, basename+'_zoom.png'), dpi=300, bbox_inches='tight', pad_inches=0)\n",
    "    #|plt.ion()"
   ]
  },
  {
   "cell_type": "code",
   "execution_count": null,
   "metadata": {},
   "outputs": [],
   "source": [
    "vis_settings = [\n",
    "    [('Yb171', .5), #Vimenting\n",
    "    ('Er166', .5), # Carbonic anhydrase\n",
    "     \n",
    "     ('Ir193',0.5),\n",
    "     (0, 0.5),\n",
    "    ('Er168', 0.7), #Ki67,\n",
    "     (0,0.5),\n",
    "    ('Yb174', 0.5) # Parp\n",
    "    ],\n",
    "    \n",
    "    \n",
    "    [('Nd148', .5), #rb \n",
    "    ('Yb176', .5), # Survivin\n",
    "     ('Tb159', 0.3), #GAPDH\n",
    "     \n",
    "     (0, 0.5),\n",
    "    ('Gd158',0.5),#pr\n",
    "     (0,0.5),\n",
    "    ('Eu153', 0.5) # # \n",
    "    ],\n",
    "    \n",
    "    [('Yb174', .7), #actin \n",
    "    ('Gd160', .5), # CD44\n",
    "     ('La139', 0.7), #trimet\n",
    "     \n",
    "     (0, 0.5),\n",
    "    ('Gd156',0.75),#Cycline B1\n",
    "     (0,0.5),\n",
    "    ('Sm152', 0.5) # AMPK\n",
    "    ],\n",
    "]\n",
    "basenames = ['img1', 'img2', 'img3']"
   ]
  },
  {
   "cell_type": "code",
   "execution_count": null,
   "metadata": {},
   "outputs": [],
   "source": [
    "sat=1.5\n",
    "\n",
    "for i, basename in enumerate(basenames):\n",
    "    chans, alphas = zip(*vis_settings[i]) \n",
    "    basename = basenames[i]\n",
    "    do_posterplot2(imc_img, chans, alphas, basename, cur_slices)"
   ]
  },
  {
   "cell_type": "code",
   "execution_count": null,
   "metadata": {},
   "outputs": [],
   "source": [
    "%%time\n",
    "chan_max = get_all_channels_imgmax(int(acquisition_id))"
   ]
  },
  {
   "cell_type": "code",
   "execution_count": null,
   "metadata": {},
   "outputs": [],
   "source": [
    "chan_max"
   ]
  },
  {
   "cell_type": "code",
   "execution_count": null,
   "metadata": {},
   "outputs": [],
   "source": [
    "fol_markimgs = (C.fol_plts / 'marker_imgs')\n",
    "fol_markimgs.mkdir(exist_ok=True)"
   ]
  },
  {
   "cell_type": "code",
   "execution_count": null,
   "metadata": {},
   "outputs": [],
   "source": [
    "marker_cols = {'Yb174': (1, 0, 0),\n",
    " 'Er167': (0, 1, 0),\n",
    " 'Eu153': (0, 0, 1),\n",
    " 'Er168': (0, 1, 1),\n",
    " 'Nd145': (1, 0, 1),\n",
    " 'Yb172': (1, 1, 0)}\n",
    "\n",
    "for m, title in bro.data.pannel.query(f'(working ==1 )')[['metal', 'goodname']].values:\n",
    "    marker_cols = {m: (1,1,1)}\n",
    "    img = marker_img_process(imc_img, marker_cols,\n",
    "                             chan_max, mult=1)\n",
    "    plt.figure(figsize=(15,15))\n",
    "    plt.imshow(img)\n",
    "    plt.title(title)\n",
    "    #fig.save(fol_markimgs / '')\n",
    "    fig, axs = plt.subplots(1, len(cur_slices), figsize=(8,24))\n",
    "    for ax, sl in zip([axs], cur_slices):\n",
    "        ax.imshow(img[sl])\n",
    "        ax.axis('off')\n",
    "\n",
    "    plt.title(title)\n",
    "    plt.tight_layout()\n",
    "\n",
    "plt.close('all')"
   ]
  },
  {
   "cell_type": "code",
   "execution_count": null,
   "metadata": {},
   "outputs": [],
   "source": [
    "marker_cols = {\n",
    "    'Yb171':  (1,0,0), #Vimenting\n",
    "    'Er166': (0,1,0), # Carbonic anhydrase\n",
    "     'Ir193': (0,0,1),\n",
    "     'Er168':  (1,0,1), #Ki67,\n",
    "     'Yb174':  (0,1,1) # Pa\n",
    "}\n",
    "img = marker_img_process(imc_img, marker_cols,\n",
    "                         chan_max, mult=0.2)\n",
    "plt.figure(figsize=(15,15))\n",
    "plt.imshow(img)"
   ]
  },
  {
   "cell_type": "code",
   "execution_count": null,
   "metadata": {},
   "outputs": [],
   "source": [
    "fig, axs = plt.subplots(1, len(cur_slices), figsize=(8,24))\n",
    "for ax, sl in zip([axs], cur_slices):\n",
    "    ax.imshow(img[sl])\n",
    "    ax.axis('off')\n",
    "\n",
    "plt.tight_layout()"
   ]
  },
  {
   "cell_type": "code",
   "execution_count": null,
   "metadata": {},
   "outputs": [],
   "source": [
    "def get_all_channels_perc(imc, percentile=99.9):\n",
    "    perc = {m: np.percentile(imc.get_img_by_metal(m)[:], percentile)\n",
    "            for m in imc.channel_metals}\n",
    "    \n",
    "    \n",
    "    return perc"
   ]
  },
  {
   "cell_type": "code",
   "execution_count": null,
   "metadata": {},
   "outputs": [],
   "source": [
    "chan_perc = get_all_channels_perc(imc_img, percentile=99.99)"
   ]
  },
  {
   "cell_type": "code",
   "execution_count": null,
   "metadata": {},
   "outputs": [],
   "source": [
    "chan_perc"
   ]
  },
  {
   "cell_type": "code",
   "execution_count": null,
   "metadata": {},
   "outputs": [],
   "source": []
  },
  {
   "cell_type": "code",
   "execution_count": null,
   "metadata": {},
   "outputs": [],
   "source": [
    "marker_cols_n ={\n",
    " 'Nd150':  ((1,1,0),2),\n",
    "    'Dy162':  ((1,0,1),1),\n",
    "      'Dy163':  ((0,1,1),0.7), # pAkt\n",
    "     'Ir193': ((1,1,1),0.1)\n",
    "}\n",
    "chan_perc_upt = {m: chan_perc[m]*mod for m, (c,mod) in marker_cols_n.items()}\n",
    "marker_cols =  {m: c for m, (c,mod) in marker_cols_n.items()}\n",
    "img = marker_img_process(imc_img, marker_cols,\n",
    "                         chan_perc_upt, mult=5)\n",
    "plt.figure(figsize=(15,15))\n",
    "plt.imshow(img)\n",
    "fig, axs = plt.subplots(1, len(cur_slices), figsize=(8,24))\n",
    "for ax, sl in zip([axs], cur_slices):\n",
    "    ax.imshow(img[sl])\n",
    "    ax.axis('off')\n",
    "\n",
    "plt.tight_layout()"
   ]
  },
  {
   "cell_type": "code",
   "execution_count": null,
   "metadata": {},
   "outputs": [],
   "source": [
    "def plot_labels(marker_cols):\n",
    "    dist = 0.3\n",
    "    fig = plt.figure(figsize=(3, len(marker_cols)*dist))\n",
    "    \n",
    "    for i, (metal, color) in enumerate(reversed(marker_cols.items())):\n",
    "        name = bro.data.pannel.query(f'{db.pannel.metal.key} == \"{metal}\"')['goodname'].iloc[0]\n",
    "        plt.text(0,i*dist, name, c=color[0],clip_on=True)\n",
    "    fig.axes[0].set_ylim((0,len(marker_cols)*dist))\n",
    "    plt.axis('off')\n",
    "    return fig"
   ]
  },
  {
   "cell_type": "code",
   "execution_count": null,
   "metadata": {},
   "outputs": [],
   "source": [
    "marker_cols"
   ]
  },
  {
   "cell_type": "code",
   "execution_count": null,
   "metadata": {},
   "outputs": [],
   "source": [
    "len(marker_cols)"
   ]
  },
  {
   "cell_type": "code",
   "execution_count": null,
   "metadata": {},
   "outputs": [],
   "source": [
    "dat_maxobj[COL_IMG] = (dat_maxobj[COL_IMC]\n",
    "                       .map(lambda x: marker_img_process(x, marker_cols,\n",
    "                         chan_perc_upt, mult=10)))"
   ]
  },
  {
   "cell_type": "code",
   "execution_count": null,
   "metadata": {},
   "outputs": [],
   "source": [
    "fig = plot_imgs_as_plate(dat_maxobj[[COL_WELL, COL_IMG]].values,\n",
    "                   well_dict, shareax=True)\n",
    "scalebar = ScaleBar(0.000001, location=4,color='white',pad=0.1,\n",
    "                                frameon=False,\n",
    "                                font_properties={'size': 5, 'family':'normal'}) # 1 pixel = 0.2 meter\n",
    "fig.axes[-1].add_artist(scalebar)\n",
    "fig.savefig(C.fol_paper / 'overview_imc.pdf')"
   ]
  },
  {
   "cell_type": "code",
   "execution_count": null,
   "metadata": {},
   "outputs": [],
   "source": [
    "plt.close('all')"
   ]
  },
  {
   "cell_type": "code",
   "execution_count": null,
   "metadata": {},
   "outputs": [],
   "source": [
    "fig = plot_labels(marker_cols_n)\n",
    "fig.savefig(C.fol_paper/ 'overview_imc_labels.pdf')"
   ]
  },
  {
   "cell_type": "code",
   "execution_count": null,
   "metadata": {},
   "outputs": [],
   "source": [
    "fig = plot_imgs_as_plate(dat_maxobj[[COL_WELL, COL_IMG]].values,\n",
    "                   well_dict, shareax=False)"
   ]
  },
  {
   "cell_type": "code",
   "execution_count": null,
   "metadata": {
    "jupyter": {
     "outputs_hidden": true
    }
   },
   "outputs": [],
   "source": [
    "marker_cols_list = [\n",
    "    #{\n",
    "    #'Yb171':  ((1,0,0),1), # pS6\n",
    "    #'Eu153': ((0,0,0),1), # pHH3\n",
    "    # 'Ir193': ((0.1,0.1,0.1),0.9), # \n",
    "    # 'Er168':  ((0,0,1),0.8), #Ki67,\n",
    "    # 'Dy161':  ((0,1,0),1) #  Cyclin B1\n",
    "#},\n",
    "{\n",
    "    'Yb171':  ((1,0,1),1), # pS6\n",
    "   # 'Eu153': ((0,0,0),1), # pHH3\n",
    "    # 'Ir193': ((0.1,0.1,0.1),0.9), # \n",
    "     'Er168':  ((0,1,1),1), #Ki67,\n",
    "     'Dy161':  ((1,1,0),1) #  Cyclin B1\n",
    "},\n",
    "    {\n",
    "    'Dy163':  ((1,0,1),0.7), # pAkt\n",
    "    # 'Ir193': ((0.1,0.1,0.1),0.9), # \n",
    "     'Eu153':  ((0,1,1),1), #pHH3,\n",
    "     'Er166':  ((1,1,0),2) #  CArbonic anhydrase\n",
    "},\n",
    "    {\n",
    "    'Lu175':  ((1,0,1),1), # Prb\n",
    "    # 'Ir193': ((0.1,0.1,0.1),0.9), # \n",
    "     'Nd150':  ((0,1,1),3), # CD44\n",
    "     'La139':  ((1,1,0),1) #  metHH3\n",
    "},\n",
    "        {\n",
    "    'Gd155':  ((1,0,1),1), # pHer2\n",
    "    # 'Ir193': ((0.1,0.1,0.1),0.9), # \n",
    "     'Nd143':  ((0,1,1),1), # FAK\n",
    "     'Nd145':  ((1,1,0),1) #  MAPKAPK\n",
    "},\n",
    "]\n",
    "for imnr, marker_cols in enumerate(marker_cols_list):\n",
    "    chan_perc_upt = {m: chan_perc[m]*mod for m, (c,mod) in marker_cols.items()}\n",
    "    marks = marker_cols\n",
    "    marker_cols =  {m: c for m, (c,mod) in marker_cols.items()}\n",
    "    img = marker_img_process(imc_img, marker_cols,\n",
    "                             chan_perc_upt, mult=10)\n",
    "    fig = plt.figure(figsize=(2.3,2.3), dpi=1200)\n",
    "    plt.imshow(img)\n",
    "    scalebar = ScaleBar(0.000001, location=4,color='white',pad=0.1,\n",
    "                            frameon=False,\n",
    "                            font_properties={'size': 10, 'family':'normal'}) # 1 pixel = 0.2 meter\n",
    "    ax = plt.gca()\n",
    "    ax.add_artist(scalebar)\n",
    "    plt.axis('off')\n",
    "    plt.gcf()\n",
    "    fig.savefig(C.fol_paper / f'exampleimgs2_{imnr}_big.pdf')\n",
    "    plot_labels(marks)\n",
    "    plt.gcf().savefig(C.fol_paper / f'exampleimgs2_{imnr}_label.pdf', dpi=1200)\n",
    "    fig, axs = plt.subplots(1, len(cur_slices), figsize=(2,2), dpi=1200)\n",
    "    if len(cur_slices) == 1:\n",
    "        axs = [axs]\n",
    "    for ax, sl in zip(axs, cur_slices):\n",
    "        ax.imshow(img[sl])\n",
    "        ax.axis('off')\n",
    "        scalebar = ScaleBar(0.000001, location=4,color='white',pad=0.1,\n",
    "                                frameon=False,\n",
    "                                font_properties={'size': 10, 'family':'normal'}) # 1 pixel = 0.2 meter\n",
    "        plt.axis('off')\n",
    "        ax.add_artist(scalebar)\n",
    "    plt.tight_layout()\n",
    "    plt.show()\n",
    "    fig.savefig(C.fol_paper / f'exampleimgs2_{imnr}_HT29.pdf')\n",
    "plt.close('all')"
   ]
  },
  {
   "cell_type": "code",
   "execution_count": null,
   "metadata": {
    "jupyter": {
     "outputs_hidden": true
    }
   },
   "outputs": [],
   "source": [
    "marker_cols_list = [\n",
    "    #{\n",
    "    #'Yb171':  ((1,0,0),1), # pS6\n",
    "    #'Eu153': ((0,0,0),1), # pHH3\n",
    "    # 'Ir193': ((0.1,0.1,0.1),0.9), # \n",
    "    # 'Er168':  ((0,0,1),0.8), #Ki67,\n",
    "    # 'Dy161':  ((0,1,0),1) #  Cyclin B1\n",
    "#},\n",
    "{\n",
    "    'Yb171':  ((1,0,0),1), # pS6\n",
    "         'Er166':  ((0,1,0),10), #  CArbonic anhydrase\n",
    "     'Ir193': ((0.,0.,1),0.1), # \n",
    "   # 'Eu153': ((0,0,0),1), # pHH3\n",
    "\n",
    "     'Er168':  ((0,1,1),1), #Ki67,\n",
    "    'Yb174':  ((1,1,0),1) #  parp\n",
    "},\n",
    "    {\n",
    "    'Lu175':  ((1,0,0),0.5), # Prb\n",
    "         'Nd150':  ((0,1,0),20), # CD44\n",
    "      'La139':  ((0,0,1),2), #  metHH3\n",
    "\n",
    "   'Nd143':  ((0,1,1),1), # fak   \n",
    "    'Eu153':  ((1,1,0),1), #pHH3,\n",
    "   # 'Dy163':  ((1,0,1),0.7), # pAkt\n",
    "    # 'Ir193': ((0.1,0.1,0.1),0.9), # \n",
    "\n",
    "\n",
    "},\n",
    "    {\n",
    "           'Dy161':  ((1,0,0),1.5), #  Cyclin B1\n",
    "            'Nd145':  ((0,1,0),2), # MAPKAPK \n",
    "        'Dy163':  ((0,0,1),2), # pAkt\n",
    "    # 'Ir193': ((0.1,0.1,0.1),0.9), # \n",
    "\n",
    "           'Dy162':  ((0,1,1),3), # vimentin  \n",
    "\n",
    "      'Sm152':  ((1,1,0),4), #  AMPK\n",
    "     \n",
    "        \n",
    "},\n",
    "]\n",
    "for imnr, marker_cols in enumerate(marker_cols_list):\n",
    "    chan_perc_upt = {m: chan_perc[m]*mod for m, (c,mod) in marker_cols.items()}\n",
    "    marks = marker_cols\n",
    "    marker_cols =  {m: c for m, (c,mod) in marker_cols.items()}\n",
    "    img = marker_img_process(imc_img, marker_cols,\n",
    "                             chan_perc_upt, mult=40)\n",
    "    fig = plt.figure(figsize=(2.3,2.3), dpi=1200)\n",
    "    plt.imshow(img)\n",
    "    scalebar = ScaleBar(0.000001, location=4,color='white',pad=0.1,\n",
    "                            frameon=False,\n",
    "                            font_properties={'size': 10, 'family':'normal'}) # 1 pixel = 0.2 meter\n",
    "    ax = plt.gca()\n",
    "    ax.add_artist(scalebar)\n",
    "    plt.axis('off')\n",
    "    plt.gcf()\n",
    "    fig.savefig(C.fol_paper / f'exampleimgs_{imnr}_big.pdf')\n",
    "    plot_labels(marks)\n",
    "    plt.gcf().savefig(C.fol_paper / f'exampleimgs_{imnr}_label.pdf', dpi=1200)\n",
    "    fig, axs = plt.subplots(1, len(cur_slices), figsize=(2,2), dpi=1200)\n",
    "    if len(cur_slices) == 1:\n",
    "        axs = [axs]\n",
    "    for ax, sl in zip(axs, cur_slices):\n",
    "        ax.imshow(img[sl])\n",
    "        ax.axis('off')\n",
    "        scalebar = ScaleBar(0.000001, location=4,color='white',pad=0.1,\n",
    "                                frameon=False,\n",
    "                                font_properties={'size': 10, 'family':'normal'}) # 1 pixel = 0.2 meter\n",
    "        plt.axis('off')\n",
    "        ax.add_artist(scalebar)\n",
    "    plt.tight_layout()\n",
    "    plt.show()\n",
    "    fig.savefig(C.fol_paper / f'exampleimgs_{imnr}_HT29.pdf')\n",
    "plt.close('all')"
   ]
  },
  {
   "cell_type": "code",
   "execution_count": null,
   "metadata": {
    "lines_to_next_cell": 2
   },
   "outputs": [],
   "source": [
    "\n",
    "for marker_cols in marker_cols_list:\n",
    "    plot_labels(marker_cols)"
   ]
  },
  {
   "cell_type": "markdown",
   "metadata": {},
   "outputs": [],
   "source": [
    "-> Looks good, now I just need to find the best combinations of markers"
   ]
  },
  {
   "cell_type": "code",
   "execution_count": null,
   "metadata": {},
   "outputs": [],
   "source": [
    "dat_image.query(f'{db.images.image_id.key} == 194')"
   ]
  },
  {
   "cell_type": "raw",
   "metadata": {},
   "outputs": [],
   "source": [
    "Use bbwidgets to explore good colors/combinations"
   ]
  },
  {
   "cell_type": "raw",
   "metadata": {},
   "outputs": [],
   "source": [
    "import bbwidgets"
   ]
  },
  {
   "cell_type": "raw",
   "metadata": {},
   "outputs": [],
   "source": [
    "c=cur_slices.values[0]"
   ]
  },
  {
   "cell_type": "raw",
   "metadata": {},
   "outputs": [],
   "source": [
    "(c[2], c[:2])"
   ]
  },
  {
   "cell_type": "raw",
   "metadata": {},
   "outputs": [],
   "source": [
    "imc_img.data[c[2], c[0], c[1]].shape"
   ]
  },
  {
   "cell_type": "raw",
   "metadata": {},
   "outputs": [],
   "source": [
    "%matplotlib inline"
   ]
  },
  {
   "cell_type": "raw",
   "metadata": {},
   "outputs": [],
   "source": [
    "\n",
    "bbwidgets.view_multichannel([imc_img.data[c[2], c[0], c[1]]], channel_names=imc_img.channel_metals)\n",
    "\n"
   ]
  },
  {
   "cell_type": "raw",
   "metadata": {},
   "outputs": [],
   "source": [
    "plt.imshow(imc_img.data[0, c[0], c[1]])"
   ]
  },
  {
   "cell_type": "raw",
   "metadata": {},
   "outputs": [],
   "source": []
  },
  {
   "cell_type": "raw",
   "metadata": {},
   "outputs": [],
   "source": []
  },
  {
   "cell_type": "raw",
   "metadata": {},
   "outputs": [],
   "source": []
  },
  {
   "cell_type": "raw",
   "metadata": {},
   "outputs": [],
   "source": []
  },
  {
   "cell_type": "raw",
   "metadata": {},
   "outputs": [],
   "source": []
  }
 ],
 "metadata": {
  "jupytext": {
   "text_representation": {
    "extension": ".py",
    "format_name": "percent",
    "format_version": "1.3",
    "jupytext_version": "1.3.4"
   }
  },
  "kernelspec": {
   "display_name": "Python 3",
   "language": "python",
   "name": "python3"
  },
  "language_info": {
   "codemirror_mode": {
    "name": "ipython",
    "version": 3
   },
   "file_extension": ".py",
   "mimetype": "text/x-python",
   "name": "python",
   "nbconvert_exporter": "python",
   "pygments_lexer": "ipython3",
   "version": "3.8.5"
  }
 },
 "nbformat": 4,
 "nbformat_minor": 4
}
