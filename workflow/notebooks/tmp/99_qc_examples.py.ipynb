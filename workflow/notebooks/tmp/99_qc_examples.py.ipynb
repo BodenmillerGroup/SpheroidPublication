{
 "cells": [
  {
   "cell_type": "code",
   "execution_count": null,
   "metadata": {},
   "outputs": [],
   "source": [
    "sm = snakemake"
   ]
  },
  {
   "cell_type": "code",
   "execution_count": null,
   "metadata": {},
   "outputs": [],
   "source": [
    "import spherpro.bro as spb\n",
    "import spherpro.datastore as spd\n",
    "import spherpro.library as spl\n",
    "import spherpro.configuration as conf\n",
    "import spherpro.db as db\n",
    "\n",
    "import matplotlib.pyplot as plt"
   ]
  },
  {
   "cell_type": "code",
   "execution_count": null,
   "metadata": {},
   "outputs": [],
   "source": [
    "%config InlineBackend.figure_format = 'retina'"
   ]
  },
  {
   "cell_type": "code",
   "execution_count": null,
   "metadata": {},
   "outputs": [],
   "source": [
    "class C:  \n",
    "    fn_config = sm.input.fn_config\n",
    "    filters = (('is-sphere', False),\n",
    "    ('is-ambiguous', True),\n",
    "    ('is-small', True),\n",
    "    ('is-notborder', False),\n",
    "    ('is-maincomponent', False),\n",
    "                   ('is-qchq', False)\n",
    ")\n",
    "    \n",
    "OBJECT_TYPE = 'cell'"
   ]
  },
  {
   "cell_type": "code",
   "execution_count": null,
   "metadata": {},
   "outputs": [],
   "source": []
  },
  {
   "cell_type": "code",
   "execution_count": null,
   "metadata": {},
   "outputs": [],
   "source": [
    "class V:\n",
    "    fil_value=db.object_filters.filter_value.key"
   ]
  },
  {
   "cell_type": "code",
   "execution_count": null,
   "metadata": {},
   "outputs": [],
   "source": [
    "bro = spb.get_bro(C.fn_config)"
   ]
  },
  {
   "cell_type": "code",
   "execution_count": null,
   "metadata": {},
   "outputs": [],
   "source": [
    "def get_filter_dat(imgid, fil_name):\n",
    "    q = (bro.session.query(db.object_filters, db.objects.object_number)\n",
    "         .join(db.object_filter_names)\n",
    "         .filter(db.object_filter_names.object_filter_name == fil_name)\n",
    "         .join(db.objects)\n",
    "         .filter(db.objects.image_id == imgid)\n",
    "        .filter(db.objects.object_type == OBJECT_TYPE)\n",
    "        )\n",
    "    dat = bro.doquery(q)\n",
    "    dat[db.images.image_id.key] = imgid\n",
    "    dat[db.objects.object_type.key] = OBJECT_TYPE\n",
    "    return dat\n",
    "    \n",
    "def plot_filter(imgid, fil_name, keepval=True, ax=None, **kwargs):\n",
    "    dat = get_filter_dat(imgid, fil_name)\n",
    "    if not keepval:\n",
    "        dat[db.object_filters.filter_value.key] = dat[db.object_filters.filter_value.key] == keepval\n",
    "    img = bro.plots.heatmask.assemble_heatmap_image(dat, value_var=V.fil_value)\n",
    "    ax = bro.plots.heatmask.do_heatplot(img, ax=ax, title=f'{fil_name}', **kwargs)\n",
    "    return ax\n",
    "    "
   ]
  },
  {
   "cell_type": "code",
   "execution_count": null,
   "metadata": {},
   "outputs": [],
   "source": [
    "\n",
    "imid = 2361"
   ]
  },
  {
   "cell_type": "code",
   "execution_count": null,
   "metadata": {},
   "outputs": [],
   "source": [
    "for imgid in (123,12,1,2,3,4,5,6,7,8, 23 ,53, 73,123,32):\n",
    "    fig, axs = plt.subplots(ncols=len(C.filters), dpi=200)\n",
    "    for (filname, val), ax in zip(C.filters, axs):\n",
    "        dat = plot_filter(imgid, filname, keepval= (val), ax=ax,colorbar=False,)\n",
    "        ax.axis('off')\n",
    "    plt.suptitle(f'Imag: {imgid}')\n",
    "    plt.tight_layout()\n",
    "    plt.show()\n",
    "    plt.close()\n",
    " "
   ]
  },
  {
   "cell_type": "code",
   "execution_count": null,
   "metadata": {},
   "outputs": [],
   "source": [
    "plot_filter(10, 'is-sphere')"
   ]
  },
  {
   "cell_type": "code",
   "execution_count": null,
   "metadata": {},
   "outputs": [],
   "source": [
    "img = bro.plots.heatmask.assemble_heatmap_image(dat, value_var=V.fil_value)"
   ]
  },
  {
   "cell_type": "code",
   "execution_count": null,
   "metadata": {},
   "outputs": [],
   "source": [
    "bro.plots.heatmask.do_heatplot(img)"
   ]
  }
 ],
 "metadata": {
  "kernelspec": {
   "display_name": "Python 3",
   "language": "python",
   "name": "python3"
  },
  "language_info": {
   "codemirror_mode": {
    "name": "ipython",
    "version": 3
   },
   "file_extension": ".py",
   "mimetype": "text/x-python",
   "name": "python",
   "nbconvert_exporter": "python",
   "pygments_lexer": "ipython3",
   "version": "3.8.5"
  }
 },
 "nbformat": 4,
 "nbformat_minor": 4
}
