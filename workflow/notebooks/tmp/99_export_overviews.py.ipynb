{
 "cells": [
  {
   "cell_type": "code",
   "execution_count": null,
   "metadata": {
    "lines_to_next_cell": 2
   },
   "outputs": [],
   "source": [
    "import pandas as pd\n",
    "\n",
    "import spherpro.bro as spb\n",
    "import spherpro.datastore as spd\n",
    "import spherpro.library as spl\n",
    "import spherpro.configuration as conf\n",
    "import spherpro.db as db\n",
    "\n",
    "from imctools.scripts import exportacquisitioncsv\n",
    "import imp\n",
    "import pycytools as pct\n",
    "import pycytools.library\n",
    "import re\n",
    "import os\n",
    "import pathlib\n",
    "import dateutil\n",
    "\n",
    "import numpy as np\n",
    "import spherpro.library as lib\n",
    "import matplotlib.pyplot as plt\n",
    "import plotnine as gg\n",
    "import seaborn as sns\n",
    "from matplotlib import colors\n",
    "#import mpld3\n",
    "import scipy.stats.mstats as mstats"
   ]
  },
  {
   "cell_type": "code",
   "execution_count": null,
   "metadata": {},
   "outputs": [],
   "source": [
    "import src.config.config as C"
   ]
  },
  {
   "cell_type": "code",
   "execution_count": null,
   "metadata": {},
   "outputs": [],
   "source": [
    "%load_ext autoreload\n",
    "%autoreload 2"
   ]
  },
  {
   "cell_type": "code",
   "execution_count": null,
   "metadata": {},
   "outputs": [],
   "source": [
    "metal_dead = ['Yb174', 'Yb172']"
   ]
  },
  {
   "cell_type": "code",
   "execution_count": null,
   "metadata": {},
   "outputs": [],
   "source": [
    "bro = spb.get_bro(C.fn_config)"
   ]
  },
  {
   "cell_type": "code",
   "execution_count": null,
   "metadata": {},
   "outputs": [],
   "source": [
    "import spherpro.bromodules.plot_condition_images as sb_ci_module"
   ]
  },
  {
   "cell_type": "code",
   "execution_count": null,
   "metadata": {},
   "outputs": [],
   "source": [
    "# I added consoring as there were hugh outliers in the data\n",
    "def censor_dat(x, q=99.9):\n",
    "    return mstats.winsorize(x, (1-(q/100)))\n",
    "def cur_logtransf(x):\n",
    "    return np.log10(x+0.1)\n",
    "\n",
    "def cur_transf(x):\n",
    "    x= censor_dat(x, 99.9)\n",
    "    x= cur_logtransf(x)\n",
    "    return x"
   ]
  },
  {
   "cell_type": "code",
   "execution_count": null,
   "metadata": {},
   "outputs": [],
   "source": [
    "sb_ci = sb_ci_module.PlotConditionImages(bro)"
   ]
  },
  {
   "cell_type": "code",
   "execution_count": null,
   "metadata": {},
   "outputs": [],
   "source": [
    "cond = bro.session.query(db.conditions.condition_name).first()[0]\n",
    "cond"
   ]
  },
  {
   "cell_type": "code",
   "execution_count": null,
   "metadata": {},
   "outputs": [],
   "source": [
    "sb_ci.plot_stackimg_conditions(cond, 'Yb171', 'FullStackComp', minmax=(0,0.99),transf=np.sqrt)"
   ]
  },
  {
   "cell_type": "code",
   "execution_count": null,
   "metadata": {},
   "outputs": [],
   "source": [
    "%%time\n",
    "sb_ci.plot_hm_conditions(cond, 'Yb171', measurement_name='MeanIntensityComp',transf=cur_logtransf)"
   ]
  },
  {
   "cell_type": "code",
   "execution_count": null,
   "metadata": {},
   "outputs": [],
   "source": [
    "sb_ci.plot_imc_conditions(cond, 'Yb171', minmax=(0,0.99))"
   ]
  }
 ],
 "metadata": {
  "jupytext": {
   "text_representation": {
    "extension": ".py",
    "format_name": "percent",
    "format_version": "1.3",
    "jupytext_version": "1.3.4"
   }
  },
  "kernelspec": {
   "display_name": "Python [conda env:20200303_phys_p173-p176-physiology_v3]",
   "language": "python",
   "name": "conda-env-20200303_phys_p173-p176-physiology_v3-py"
  },
  "language_info": {
   "codemirror_mode": {
    "name": "ipython",
    "version": 3
   },
   "file_extension": ".py",
   "mimetype": "text/x-python",
   "name": "python",
   "nbconvert_exporter": "python",
   "pygments_lexer": "ipython3",
   "version": "3.8.2"
  }
 },
 "nbformat": 4,
 "nbformat_minor": 4
}
