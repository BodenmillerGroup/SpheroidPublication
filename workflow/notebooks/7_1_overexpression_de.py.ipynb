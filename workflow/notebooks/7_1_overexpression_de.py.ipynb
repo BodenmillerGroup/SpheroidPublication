{
 "cells": [
  {
   "cell_type": "code",
   "execution_count": null,
   "metadata": {
    "pycharm": {
     "name": "#%%\n"
    }
   },
   "outputs": [],
   "source": [
    "sm = snakemake"
   ]
  },
  {
   "cell_type": "code",
   "execution_count": null,
   "metadata": {},
   "outputs": [],
   "source": [
    "import spherpro.bro as spb\n",
    "import spherpro.db as db\n",
    "import numpy as np\n",
    "import pathlib\n",
    "import loompy"
   ]
  },
  {
   "cell_type": "raw",
   "metadata": {},
   "outputs": [],
   "source": [
    "import rpy2\n",
    "import os\n",
    "os.environ[\"R_HOME\"] = \"/home/vitoz/miniconda3/envs/spheroid_testenv/lib/R\"\n",
    "%load_ext rpy2.ipython\n"
   ]
  },
  {
   "cell_type": "markdown",
   "metadata": {},
   "outputs": [],
   "source": [
    "### Aim: The goal is to find if there are markers which are significantly different with and without overexpression.\n",
    "\n",
    "First it is investigated for the infected cells themselves. Approach:\n",
    "- Fit a model to calculate:\n",
    "\n",
    "    log(y_marker) ~ dist-to-rim + site (a random effect)\n",
    "    \n",
    "    \n",
    "- Is is_overexpressing a singificant covariate?\n",
    "- Calculate the residuals after applying this model, visualize the z-score "
   ]
  },
  {
   "cell_type": "code",
   "execution_count": null,
   "metadata": {},
   "outputs": [],
   "source": [
    "fn_config =  sm.input.fn_config"
   ]
  },
  {
   "cell_type": "code",
   "execution_count": null,
   "metadata": {},
   "outputs": [],
   "source": [
    "from src.variables import Vars\n",
    "from src.config import Conf"
   ]
  },
  {
   "cell_type": "code",
   "execution_count": null,
   "metadata": {},
   "outputs": [],
   "source": [
    "bro = spb.get_bro(fn_config)"
   ]
  },
  {
   "cell_type": "markdown",
   "metadata": {},
   "outputs": [],
   "source": [
    "import spherpro.bromodules.helpers_vz as helpers_vz\n",
    "imp.reload(helpers_vz)\n",
    "hpr = helpers_vz.HelperVZ(bro)"
   ]
  },
  {
   "cell_type": "raw",
   "metadata": {},
   "outputs": [],
   "source": [
    "import spherpro.bromodules.helpers_overexpression as helpers_oexp\n",
    "imp.reload(helpers_oexp)\n"
   ]
  },
  {
   "cell_type": "code",
   "execution_count": null,
   "metadata": {},
   "outputs": [],
   "source": [
    "def censor_dat(x, q=99.99):\n",
    "    x = np.copy(x)\n",
    "    p = np.percentile(x,q=q)\n",
    "    x[x> p] = p\n",
    "    return x\n",
    "\n",
    "def cur_logtransf(x):\n",
    "    return np.log10(x+0.1)\n",
    "transform = cur_logtransf\n",
    "\n",
    "def cur_transf(x):\n",
    "    x= censor_dat(x)\n",
    "    x= cur_logtransf(x)\n",
    "    return x"
   ]
  },
  {
   "cell_type": "code",
   "execution_count": null,
   "metadata": {},
   "outputs": [],
   "source": [
    "V = Vars"
   ]
  },
  {
   "cell_type": "code",
   "execution_count": null,
   "metadata": {},
   "outputs": [],
   "source": [
    "class Config(Conf):\n",
    "    fn_constructs = pathlib.Path(sm.input.fn_constructs)\n",
    "    REF_COND = 'ctrl'\n",
    "    SUFFIX_NB = '-NB'\n",
    "    FIL_FLAGPOS = 'is-flagpos'\n",
    "    FIL_FLAGPOSNB = FIL_FLAGPOS+V.SUFFIX_FILNB\n",
    "    FIL_GFPPOS = 'is-gfppos'\n",
    "    FIL_GFPPOSNB = FIL_GFPPOS+V.SUFFIX_FILNB\n",
    "    FIL_LM = 'modelfitcond_v1'\n",
    "    FIL_LM_ONEFLAG = 'modelfitcondflag_v1'\n",
    "    FIL_LM_ALLCTRL = 'modelfitcondallctrl_v1'\n",
    "    FIL_LMS = [FIL_LM, FIL_LM_ONEFLAG]\n",
    "    fn_lmdata = sm.output.fn_lmdata\n",
    "C = Config"
   ]
  },
  {
   "cell_type": "code",
   "execution_count": null,
   "metadata": {
    "lines_to_next_cell": 2
   },
   "outputs": [],
   "source": [
    "q_obj = (bro.data.get_objectmeta_query()\n",
    "             .filter(db.objects.object_type == 'cell')\n",
    "            # .filter(db.objects.image_id == 101)\n",
    "            .join(db.conditions, db.images.condition_id == db.conditions.condition_id)\n",
    "             \n",
    "            .add_columns(db.sites.site_id,\n",
    "                        db.conditions.condition_id, db.conditions.plate_id,\n",
    "                         db.conditions.bc_plate, db.conditions.sampleblock_id,\n",
    "                        db.slides.slide_id, db.slideacs.slideac_id,\n",
    "                        db.conditions.condition_name))\n",
    "\n",
    "for fil_name in C.FIL_LMS:\n",
    "    fil = (bro.session.query(db.object_filters)\n",
    "               .join(db.object_filter_names)\n",
    "               .filter(db.object_filter_names.object_filter_name == fil_name)).subquery()\n",
    "    q_obj = (q_obj\n",
    "         .join(fil, fil.c.object_id == db.objects.object_id)\n",
    "         .add_columns(fil.c.filter_value.label(fil_name))\n",
    "        )"
   ]
  },
  {
   "cell_type": "code",
   "execution_count": null,
   "metadata": {
    "lines_to_next_cell": 2
   },
   "outputs": [],
   "source": [
    "bro.data._read_pannel()\n",
    "dat_pannel = bro.data.pannel"
   ]
  },
  {
   "cell_type": "code",
   "execution_count": null,
   "metadata": {},
   "outputs": [],
   "source": [
    "fil = bro.filters.measurements.get_measmeta_filter_statements(channel_names=[tuple(dat_pannel.query(f'{V.COL_WORKING} == True')['metal'].values), 'object'],\n",
    "                                                         measurement_names=['MeanIntensityComp', 'dist-rim'],\n",
    "                                                             measurement_types=['Intensity', 'Location'],\n",
    "                                                             stack_names=['FullStackFiltered', 'ObjectStack'])\n",
    "q_meas = (bro.data.get_measmeta_query()\n",
    "         .add_columns(db.ref_planes.channel_name,\n",
    "                      db.stacks.stack_name,\n",
    "                     db.ref_stacks.scale)\n",
    "          .filter(fil)\n",
    "         )"
   ]
  },
  {
   "cell_type": "code",
   "execution_count": null,
   "metadata": {},
   "outputs": [],
   "source": []
  },
  {
   "cell_type": "code",
   "execution_count": null,
   "metadata": {},
   "outputs": [],
   "source": [
    "%%time \n",
    "dat = bro.io.objmeasurements.get_measurements(q_meas=q_meas, q_obj=q_obj)\n",
    "bro.io.objmeasurements.scale_anndata(dat)"
   ]
  },
  {
   "cell_type": "code",
   "execution_count": null,
   "metadata": {},
   "outputs": [],
   "source": [
    "dat = dat[dat.obs[C.FIL_LM] > 0,:]"
   ]
  },
  {
   "cell_type": "code",
   "execution_count": null,
   "metadata": {
    "pycharm": {
     "name": "#%%\n"
    }
   },
   "outputs": [],
   "source": [
    "%%time\n",
    "dat.write_loom(C.fn_lmdata)\n"
   ]
  }
 ],
 "metadata": {
  "jupytext": {
   "text_representation": {
    "extension": ".py",
    "format_name": "percent",
    "format_version": "1.3",
    "jupytext_version": "1.3.4"
   }
  },
  "kernelspec": {
   "display_name": "Python 3",
   "language": "python",
   "name": "python3"
  },
  "language_info": {
   "codemirror_mode": {
    "name": "ipython",
    "version": 3
   },
   "file_extension": ".py",
   "mimetype": "text/x-python",
   "name": "python",
   "nbconvert_exporter": "python",
   "pygments_lexer": "ipython3",
   "version": "3.8.5"
  }
 },
 "nbformat": 4,
 "nbformat_minor": 4
}
