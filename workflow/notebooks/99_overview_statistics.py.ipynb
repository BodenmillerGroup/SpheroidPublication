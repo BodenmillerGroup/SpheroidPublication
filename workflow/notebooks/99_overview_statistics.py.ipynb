{
 "cells": [
  {
   "cell_type": "code",
   "execution_count": null,
   "metadata": {
    "pycharm": {
     "name": "#%%\n"
    }
   },
   "outputs": [],
   "source": [
    "sm = snakemake"
   ]
  },
  {
   "cell_type": "code",
   "execution_count": null,
   "metadata": {
    "pycharm": {
     "name": "#%%\n"
    }
   },
   "outputs": [],
   "source": [
    "import spherpro.bro as spb\n",
    "import spherpro.db as db\n",
    "from sqlalchemy import func\n",
    "\n",
    "import os"
   ]
  },
  {
   "cell_type": "markdown",
   "metadata": {},
   "outputs": [],
   "source": [
    "## Aim: Quick overview of the dataset\n",
    "- Number of blocks\n",
    "- Number of slides\n",
    "- Number of sites\n",
    "- Number of sphere sections\n",
    "- Number of cell sections"
   ]
  },
  {
   "cell_type": "code",
   "execution_count": null,
   "metadata": {
    "pycharm": {
     "name": "#%%\n"
    }
   },
   "outputs": [],
   "source": [
    "class Config:\n",
    "    fn_config = sm.input.fn_config\n",
    "    fol_plts = sm.output.fol_plots\n",
    "\n",
    "    \n",
    "C = Config        "
   ]
  },
  {
   "cell_type": "code",
   "execution_count": null,
   "metadata": {
    "pycharm": {
     "name": "#%%\n"
    }
   },
   "outputs": [],
   "source": [
    "os.makedirs(C.fol_plts, exist_ok=True)"
   ]
  },
  {
   "cell_type": "code",
   "execution_count": null,
   "metadata": {
    "pycharm": {
     "name": "#%%\n"
    }
   },
   "outputs": [],
   "source": [
    "bro = spb.get_bro(C.fn_config)"
   ]
  },
  {
   "cell_type": "markdown",
   "metadata": {},
   "outputs": [],
   "source": [
    "Get all the measurement metadata\n",
    "\n",
    "\n",
    "# Get basic statistics"
   ]
  },
  {
   "cell_type": "raw",
   "metadata": {},
   "outputs": [],
   "source": [
    "How many slide, sites, images, valid images, objects and valid objects are there?"
   ]
  },
  {
   "cell_type": "code",
   "execution_count": null,
   "metadata": {
    "pycharm": {
     "name": "#%%\n"
    }
   },
   "outputs": [],
   "source": [
    "def get_stats(bro):\n",
    "    query = bro.session.query    \n",
    "    well_ct = (query(func.count(db.conditions.condition_id).label('count'))\n",
    "            .join(db.images)\n",
    "            .join(db.valid_images)\n",
    "            .group_by(db.conditions.condition_id).subquery().c.count)\n",
    "    \n",
    "    cond_ct = (query(func.count(db.conditions.condition_id.distinct()).label('count'))\n",
    "            .join(db.images)\n",
    "            .join(db.valid_images)\n",
    "            .group_by(db.conditions.condition_name).subquery().c.count)\n",
    "    \n",
    "    cond_obj_ct = (query(func.count(db.objects.object_id.distinct()).label('count'))\n",
    "            .join(db.images)\n",
    "            .join(db.valid_images)\n",
    "             .join(db.conditions)\n",
    "             .join(db.valid_objects)\n",
    "            .filter(db.objects.object_type=='cell')\n",
    "            .group_by(db.conditions.condition_name).subquery().c.count)\n",
    "    \n",
    "    def get_stats(col):\n",
    "        return (query(func.min(col),\n",
    "                              func.avg(col),\n",
    "                             func.max(col))\n",
    "                            .all())\n",
    "        \n",
    "    return {'nslides': query(db.slides).count(),\n",
    "     'nsites': query(db.sites).count(),\n",
    "     'images': query(db.images).count(),\n",
    "     'valid_images': query(db.valid_images).count(),\n",
    "     'valid_objects': query(db.valid_objects)\n",
    "            .join(db.objects)\n",
    "            .filter(db.objects.object_type=='cell')\n",
    "            .join(db.images)\n",
    "            .join(db.valid_images)\\\n",
    "            .count(),\n",
    "     'total_wells': query(db.conditions).count(),\n",
    "     'measured_wells': query(db.conditions.condition_id)\n",
    "            .join(db.images)\n",
    "            .join(db.valid_images)\n",
    "            .distinct().count(),\n",
    "     'measured_wells_per_block': query(\n",
    "         db.sampleblocks.sampleblock_name,\n",
    "         func.count(db.conditions.condition_id.distinct()))\n",
    "            .join(db.images)\n",
    "            .join(db.sampleblocks)\n",
    "            .join(db.valid_images)\n",
    "            .group_by(db.sampleblocks.sampleblock_name)\n",
    "            .all(),\n",
    "     'avg_images_well': get_stats(well_ct),\n",
    "    'total_conditions': query(db.conditions.condition_name.distinct())\n",
    "            .count(),\n",
    "    'measured_conditions': query(db.conditions.condition_name.distinct())\n",
    "            .join(db.images)\n",
    "            .join(db.valid_images)\n",
    "            .count(),\n",
    "    'avg_well_cond': get_stats(cond_ct),\n",
    "    'avg_obj_ct': get_stats(cond_obj_ct),\n",
    "    \n",
    "    'sites_per_block': (bro.session.query(\n",
    "         db.sampleblocks.sampleblock_name,\n",
    "         func.count(db.sites.site_id))\n",
    "            .join(db.slides)\n",
    "            .join(db.slideacs)\n",
    "            .join(db.sites)\n",
    "            .group_by(db.sampleblocks.sampleblock_name)\n",
    "            .all()),\n",
    "    'slides_per_block': (bro.session.query(\n",
    "         db.sampleblocks.sampleblock_name,\n",
    "         func.count(db.slides.slide_id))\n",
    "            .join(db.slides)\n",
    "            .group_by(db.sampleblocks.sampleblock_name)\n",
    "            .all()),\n",
    "    'images_per_block': \n",
    "      (bro.session.query(\n",
    "         db.sampleblocks.sampleblock_name,\n",
    "         func.count(db.images.image_id))\n",
    "            .join(db.slides)\n",
    "            .join(db.slideacs)\n",
    "            .join(db.sites)\n",
    "            .join(db.acquisitions)\n",
    "            .join(db.images)\n",
    "            .group_by(db.sampleblocks.sampleblock_name)\n",
    "            .all()),\n",
    "    'valid_images_per_block': \n",
    "      (bro.session.query(\n",
    "         db.sampleblocks.sampleblock_name,\n",
    "         func.count(db.images.image_id))\n",
    "            .join(db.slides)\n",
    "            .join(db.slideacs)\n",
    "            .join(db.sites)\n",
    "            .join(db.acquisitions)\n",
    "            .join(db.images)\n",
    "            .join(db.valid_images)\n",
    "            .group_by(db.sampleblocks.sampleblock_name)\n",
    "            .all()),\n",
    "    'valid_cells_per_block': \n",
    "      (bro.session.query(\n",
    "         db.sampleblocks.sampleblock_name,\n",
    "          db.objects.object_type,\n",
    "         func.count(db.objects.object_id))\n",
    "            .join(db.slides)\n",
    "            .join(db.slideacs)\n",
    "            .join(db.sites)\n",
    "            .join(db.acquisitions)\n",
    "            .join(db.images)\n",
    "            .join(db.valid_images)\n",
    "            .join(db.objects)\n",
    "            .join(db.valid_objects)\n",
    "            .group_by(db.sampleblocks.sampleblock_name,\n",
    "                     db.objects.object_type)\n",
    "            .all()),\n",
    "            \n",
    "           }"
   ]
  },
  {
   "cell_type": "markdown",
   "metadata": {},
   "outputs": [],
   "source": [
    "Prints basic statistics"
   ]
  },
  {
   "cell_type": "code",
   "execution_count": null,
   "metadata": {
    "pycharm": {
     "name": "#%%\n"
    }
   },
   "outputs": [],
   "source": [
    "g = get_stats(bro)\n",
    "g"
   ]
  },
  {
   "cell_type": "code",
   "execution_count": null,
   "metadata": {},
   "outputs": [],
   "source": []
  }
 ],
 "metadata": {
  "jupytext": {
   "text_representation": {
    "extension": ".py",
    "format_name": "percent",
    "format_version": "1.3",
    "jupytext_version": "1.3.4"
   }
  },
  "kernelspec": {
   "display_name": "Python 3",
   "language": "python",
   "name": "python3"
  },
  "language_info": {
   "codemirror_mode": {
    "name": "ipython",
    "version": 3
   },
   "file_extension": ".py",
   "mimetype": "text/x-python",
   "name": "python",
   "nbconvert_exporter": "python",
   "pygments_lexer": "ipython3",
   "version": "3.8.5"
  }
 },
 "nbformat": 4,
 "nbformat_minor": 4
}
