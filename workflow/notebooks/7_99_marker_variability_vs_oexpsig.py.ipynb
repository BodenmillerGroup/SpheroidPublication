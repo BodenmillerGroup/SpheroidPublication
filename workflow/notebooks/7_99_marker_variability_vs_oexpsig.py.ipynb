{
 "cells": [
  {
   "cell_type": "code",
   "execution_count": null,
   "metadata": {},
   "outputs": [],
   "source": [
    "sm = snakemake"
   ]
  },
  {
   "cell_type": "code",
   "execution_count": null,
   "metadata": {},
   "outputs": [],
   "source": [
    "%load_ext autoreload\n",
    "%autoreload 2"
   ]
  },
  {
   "cell_type": "code",
   "execution_count": null,
   "metadata": {},
   "outputs": [],
   "source": [
    "import spherpro.bro as sb\n",
    "import spherpro.db as db\n",
    "\n",
    "import pandas as pd\n",
    "import numpy as np\n",
    "import matplotlib.pyplot as plt\n",
    "import matplotlib as mpl\n",
    "import plotnine as gg\n",
    "import scipy as sp\n",
    "import pathlib\n",
    "\n",
    "%matplotlib inline"
   ]
  },
  {
   "cell_type": "code",
   "execution_count": null,
   "metadata": {},
   "outputs": [],
   "source": [
    "from src.variables import Vars\n",
    "from src.config import Conf"
   ]
  },
  {
   "cell_type": "markdown",
   "metadata": {},
   "outputs": [],
   "source": [
    "## Aim\n",
    "\n",
    "Compare if variability analysis is related to dependence on overexpression."
   ]
  },
  {
   "cell_type": "markdown",
   "metadata": {},
   "outputs": [],
   "source": [
    "## 0) Setup configuration and bro"
   ]
  },
  {
   "cell_type": "code",
   "execution_count": null,
   "metadata": {},
   "outputs": [],
   "source": [
    "class V(Vars):\n",
    "    COL_MODELFITCOND = 'modelfitcond'\n",
    "    COL_MODELCLASS = 'modelclass'"
   ]
  },
  {
   "cell_type": "code",
   "execution_count": null,
   "metadata": {},
   "outputs": [],
   "source": [
    "class C(Conf):\n",
    "    fn_config = sm.input.fn_config\n",
    "    fn_out_sig = sm.input.fn_sigstats\n",
    "    fn_mod_stat = sm.input.fn_modstats\n",
    "    refcond = 'Empty_nan'\n",
    "    #refcond ='293T_c1.0_te%_tp96'\n",
    "    #COL_R2 = 'r2'\n",
    "    chan_oexp = ['Yb176', 'Er167','Tm169']\n",
    "    fol_plots = pathlib.Path(sm.output.fol_plots)"
   ]
  },
  {
   "cell_type": "code",
   "execution_count": null,
   "metadata": {},
   "outputs": [],
   "source": [
    "sm.output.fol_plots"
   ]
  },
  {
   "cell_type": "code",
   "execution_count": null,
   "metadata": {},
   "outputs": [],
   "source": [
    "C.fol_plots.mkdir(exist_ok=True)"
   ]
  },
  {
   "cell_type": "code",
   "execution_count": null,
   "metadata": {},
   "outputs": [],
   "source": [
    "class M:\n",
    "    dist = 'dist'\n",
    "    dist_nb = 'dist_nb'"
   ]
  },
  {
   "cell_type": "code",
   "execution_count": null,
   "metadata": {},
   "outputs": [],
   "source": [
    "bro = sb.get_bro(C.fn_config)"
   ]
  },
  {
   "cell_type": "markdown",
   "metadata": {},
   "outputs": [],
   "source": [
    "## 1) Analysis"
   ]
  },
  {
   "cell_type": "code",
   "execution_count": null,
   "metadata": {},
   "outputs": [],
   "source": [
    "dat_sig = pd.read_csv(C.fn_out_sig)"
   ]
  },
  {
   "cell_type": "code",
   "execution_count": null,
   "metadata": {},
   "outputs": [],
   "source": [
    "#dat_mod = pd.read_csv(C.fn_varanalysis_modstats_out)\n",
    "dat_mod = pd.read_csv(C.fn_mod_stat)"
   ]
  },
  {
   "cell_type": "code",
   "execution_count": null,
   "metadata": {},
   "outputs": [],
   "source": [
    "dat_mod"
   ]
  },
  {
   "cell_type": "markdown",
   "metadata": {},
   "outputs": [],
   "source": [
    "Hypothesis:  \n",
    "markers where a lot of variability is explained by dist_nb-dist are more often affected by overexpression"
   ]
  },
  {
   "cell_type": "code",
   "execution_count": null,
   "metadata": {},
   "outputs": [],
   "source": [
    "dat_mod[V.COL_CONDNAME].unique()"
   ]
  },
  {
   "cell_type": "code",
   "execution_count": null,
   "metadata": {},
   "outputs": [],
   "source": [
    "dat_delta = (dat_mod\n",
    " #.query(f'{V.COL_CONDNAME} in {[C.refcond]}')\n",
    "  .query(f'{V.COL_CHANNELNAME} not in {C.chan_oexp}')\n",
    " .loc[dat_mod[V.COL_CONDNAME].isin([ 'T-REx-293_c0.25_tp96',\n",
    "       'T-REx-293_c0.5_tp96', 'T-REx-293_c1.0_tp96'\n",
    "       ]),:]\n",
    " .pivot_table(index=[V.COL_CONDNAME, V.COL_CHANNELNAME],columns = V.COL_MODELCLASS, values=C.COL_R2)\n",
    " #.assign(**{V.COL_DELTA: lambda d: d['dist_nb']-d['dist']})\n",
    " .assign(**{V.COL_DELTA: lambda d: d['dist_nb']-d['dist']})\n",
    " .groupby(V.COL_CHANNELNAME)[V.COL_DELTA].mean()\n",
    " .reset_index()\n",
    ")"
   ]
  },
  {
   "cell_type": "code",
   "execution_count": null,
   "metadata": {},
   "outputs": [],
   "source": [
    "dat_delta.sort_values(V.COL_DELTA).merge(bro.data.pannel[[V.COL_METAL, V.COL_GOODNAME]], left_on=V.COL_CHANNELNAME, right_on=V.COL_METAL)"
   ]
  },
  {
   "cell_type": "code",
   "execution_count": null,
   "metadata": {},
   "outputs": [],
   "source": [
    "dat_fracsig = (dat_sig\n",
    " .pipe(lambda d: d.loc[~d[V.COL_CONDNAME].str.endswith('C-TER FLAG'),:])\n",
    " .query(f'{V.COL_ISNB} in [\"oexp-NB\", \"ctrl\"]')\n",
    " .groupby(V.COL_CHANNELNAME)[V.COL_ISSIG].sum()\n",
    " .reset_index()\n",
    " \n",
    ")"
   ]
  },
  {
   "cell_type": "code",
   "execution_count": null,
   "metadata": {},
   "outputs": [],
   "source": []
  },
  {
   "cell_type": "code",
   "execution_count": null,
   "metadata": {},
   "outputs": [],
   "source": [
    "(dat_delta.sort_values(V.COL_DELTA)\n",
    " .merge(dat_fracsig)\n",
    " .merge(bro.data.pannel[[V.COL_METAL, V.COL_GOODNAME]], left_on=V.COL_CHANNELNAME, right_on=V.COL_METAL)\n",
    "  >>\n",
    "    gg.ggplot(gg.aes(x=V.COL_DELTA, y=V.COL_ISSIG))\n",
    "              +gg.geom_point()\n",
    "         +gg.geom_smooth(method='lm')\n",
    " + gg.ylab('Significantly affected in overexpressions')\n",
    " + gg.xlab('Variability explained Neighbourhood-Global')\n",
    "        # +gg.geom_label(gg.aes(label=V.COL_GOODNAME))\n",
    ")"
   ]
  },
  {
   "cell_type": "code",
   "execution_count": null,
   "metadata": {},
   "outputs": [],
   "source": [
    "nsig=0"
   ]
  },
  {
   "cell_type": "code",
   "execution_count": null,
   "metadata": {},
   "outputs": [],
   "source": [
    "COL_ANYSIG = 'any_sign'"
   ]
  },
  {
   "cell_type": "code",
   "execution_count": null,
   "metadata": {},
   "outputs": [],
   "source": [
    "dat_fracsig[COL_ANYSIG] = dat_fracsig[V.COL_ISSIG] > nsig"
   ]
  },
  {
   "cell_type": "code",
   "execution_count": null,
   "metadata": {},
   "outputs": [],
   "source": []
  },
  {
   "cell_type": "code",
   "execution_count": null,
   "metadata": {},
   "outputs": [],
   "source": [
    "\n",
    "pltdat = (dat_delta.sort_values(V.COL_DELTA)\n",
    " .merge(dat_fracsig)\n",
    " .merge(bro.data.pannel[[V.COL_METAL, V.COL_GOODNAME]], left_on=V.COL_CHANNELNAME, right_on=V.COL_METAL)\n",
    "       )\n",
    "\n",
    "p =(pltdat >>\n",
    "    gg.ggplot(gg.aes(y=V.COL_DELTA, x=COL_ANYSIG))\n",
    "             + gg.geom_boxplot(outlier_alpha=0, color='grey')\n",
    "              +gg.geom_jitter(height=0, width=0.1, alpha=1, random_state=10)\n",
    " \n",
    " + gg.xlab('Significantly affected in\\n neighbourhood')\n",
    " + gg.ylab(r'$R_{localenv + globalenv}^2 - R_{globalenv}^2$')\n",
    "  + gg.theme_bw()\n",
    "     + gg.expand_limits(y=0)\n",
    "        # +gg.geom_label(gg.aes(label=V.COL_GOODNAME))\n",
    "     + gg.theme(text=gg.element_text(size=6),\n",
    "               figure_size=(1.2,1.9))\n",
    ")\n",
    "p"
   ]
  },
  {
   "cell_type": "code",
   "execution_count": null,
   "metadata": {},
   "outputs": [],
   "source": [
    "gg.ggsave(p, pathlib.Path(C.fol_plots) / 'oexp_vs_nb.pdf')"
   ]
  },
  {
   "cell_type": "code",
   "execution_count": null,
   "metadata": {},
   "outputs": [],
   "source": [
    "(p +gg.geom_text(gg.aes(label=V.COL_GOODNAME),position=gg.position_jitter())\n",
    "     + gg.theme(text=gg.element_text(size=6),\n",
    "               figure_size=(6,6))\n",
    ")"
   ]
  },
  {
   "cell_type": "code",
   "execution_count": null,
   "metadata": {},
   "outputs": [],
   "source": [
    "(dat_delta \n",
    "    .merge(dat_fracsig)\n",
    "     [COL_ANYSIG].mean()\n",
    ")"
   ]
  },
  {
   "cell_type": "code",
   "execution_count": null,
   "metadata": {},
   "outputs": [],
   "source": [
    "(dat_delta \n",
    "    .merge(dat_fracsig)\n",
    "     .groupby(COL_ANYSIG)[V.COL_DELTA].mean()\n",
    ")"
   ]
  },
  {
   "cell_type": "code",
   "execution_count": null,
   "metadata": {
    "lines_to_next_cell": 2
   },
   "outputs": [],
   "source": [
    "\n",
    "p_ttest = (dat_delta \n",
    "    .merge(dat_fracsig)\n",
    "     .pipe(lambda d: sp.stats.ttest_ind(d.loc[d[COL_ANYSIG],\n",
    "                                              V.COL_DELTA].values,\n",
    "                                        d.loc[d[COL_ANYSIG] == False,\n",
    "                                              V.COL_DELTA].values ))\n",
    ").pvalue\n",
    "p_ttest"
   ]
  },
  {
   "cell_type": "code",
   "execution_count": null,
   "metadata": {
    "lines_to_next_cell": 2
   },
   "outputs": [],
   "source": [
    "p_kruskal =(dat_delta \n",
    "    .merge(dat_fracsig)\n",
    "     .pipe(lambda d: sp.stats.kruskal(\n",
    "         d.loc[d[COL_ANYSIG], V.COL_DELTA].values,\n",
    "         d.loc[d[COL_ANYSIG] == False, V.COL_DELTA].values))\n",
    ").pvalue\n",
    "p_kruskal"
   ]
  },
  {
   "cell_type": "code",
   "execution_count": null,
   "metadata": {
    "lines_to_next_cell": 2
   },
   "outputs": [],
   "source": [
    "(dat_delta \n",
    "    .merge(dat_fracsig)\n",
    "     .pipe(lambda d: sp.stats.pearsonr(d[V.COL_DELTA], d[V.COL_ISSIG]))\n",
    ")"
   ]
  },
  {
   "cell_type": "code",
   "execution_count": null,
   "metadata": {},
   "outputs": [],
   "source": [
    "(dat_fracsig\n",
    " .eval(f'asig={V.COL_ISSIG} > 0')\n",
    " .merge(dat_delta)\n",
    " .groupby('asig')[V.COL_DELTA].describe())"
   ]
  },
  {
   "cell_type": "code",
   "execution_count": null,
   "metadata": {},
   "outputs": [],
   "source": [
    "dat_fracsig.merge(dat_delta).sort_values(V.COL_DELTA).merge(bro.data.pannel[[V.COL_METAL, V.COL_GOODNAME]], left_on=V.COL_CHANNELNAME, right_on=V.COL_METAL)"
   ]
  },
  {
   "cell_type": "code",
   "execution_count": null,
   "metadata": {},
   "outputs": [],
   "source": []
  },
  {
   "cell_type": "code",
   "execution_count": null,
   "metadata": {},
   "outputs": [],
   "source": []
  }
 ],
 "metadata": {
  "jupytext": {
   "text_representation": {
    "extension": ".py",
    "format_name": "percent",
    "format_version": "1.3",
    "jupytext_version": "1.3.4"
   }
  },
  "kernelspec": {
   "display_name": "Python 3",
   "language": "python",
   "name": "python3"
  },
  "language_info": {
   "codemirror_mode": {
    "name": "ipython",
    "version": 3
   },
   "file_extension": ".py",
   "mimetype": "text/x-python",
   "name": "python",
   "nbconvert_exporter": "python",
   "pygments_lexer": "ipython3",
   "version": "3.8.5"
  }
 },
 "nbformat": 4,
 "nbformat_minor": 4
}
