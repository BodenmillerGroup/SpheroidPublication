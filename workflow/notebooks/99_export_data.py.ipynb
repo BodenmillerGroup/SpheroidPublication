{
 "cells": [
  {
   "cell_type": "code",
   "execution_count": null,
   "metadata": {
    "pycharm": {
     "name": "#%%\n"
    }
   },
   "outputs": [],
   "source": [
    "\n",
    "import spherpro.bro as spb\n",
    "import spherpro.db as db\n",
    "import pathlib\n",
    "import scanpy as sc\n",
    "import anndata\n",
    "import pandas as pd\n",
    "from sqlalchemy.orm import aliased\n",
    "import shutil"
   ]
  },
  {
   "cell_type": "code",
   "execution_count": null,
   "metadata": {
    "pycharm": {
     "name": "#%%\n"
    }
   },
   "outputs": [],
   "source": [
    "import spherpro.configuration as conf"
   ]
  },
  {
   "cell_type": "code",
   "execution_count": null,
   "metadata": {
    "pycharm": {
     "name": "#%%\n"
    }
   },
   "outputs": [],
   "source": [
    "sm = snakemake"
   ]
  },
  {
   "cell_type": "markdown",
   "metadata": {},
   "outputs": [],
   "source": [
    "# Aim: export the Mean Intensity data\n"
   ]
  },
  {
   "cell_type": "code",
   "execution_count": null,
   "metadata": {
    "pycharm": {
     "name": "#%%\n"
    }
   },
   "outputs": [],
   "source": [
    "class C:\n",
    "    fn_config =  sm.input.fn_config\n",
    "    fol_export = pathlib.Path(sm.output.fol_export)\n",
    "    fol_cpout = pathlib.Path(sm.input.fol_cp)\n",
    "    fol_masks = fol_cpout / 'masks'\n",
    "    fol_images = fol_cpout / 'imgs'"
   ]
  },
  {
   "cell_type": "code",
   "execution_count": null,
   "metadata": {
    "pycharm": {
     "name": "#%%\n"
    }
   },
   "outputs": [],
   "source": [
    "C.fol_export.mkdir(exist_ok=True)"
   ]
  },
  {
   "cell_type": "code",
   "execution_count": null,
   "metadata": {
    "pycharm": {
     "name": "#%%\n"
    }
   },
   "outputs": [],
   "source": [
    "fn_readme = C.fol_export / 'README.md'\n"
   ]
  },
  {
   "cell_type": "code",
   "execution_count": null,
   "metadata": {
    "pycharm": {
     "name": "#%%\n"
    }
   },
   "outputs": [],
   "source": [
    "%%writefile $fn_readme\n",
    "\n",
    "\n",
    "## Export Oexp Analysis\n",
    "by Vito Zanotelli et al, Bodenmiller Lab UZH, 2020\n",
    "\n",
    "This is the export of the overexpression dataset from the paper:\n",
    "\"A quantitative analysis of the interplay of environment, neighborhood and cell state in 3D spheroids\"\n",
    "Raw data: 10.5281/zenodo.4055780\n",
    "Please cite the paper if you use this data!\n",
    "\n",
    "###Experimental design (More details in the paper):\n",
    "- Overexpressing 51 signaling constructs, 4 control contstructs (2x GFP,\n",
    "    1x HcRed, 1x Luciferase) and 1 'empty' mock transfection controls\n",
    "    grown in 5 replicates on 5 different plates ('empty' control has 35\n",
    "    replicates).\n",
    "\n",
    "- Most signaling constructs have a GFP tag. Typically only a subset of cells per sphere were overexpresing.\n",
    "\n",
    "- 4 plates were pooled into one block with 240 well barcoding, 2 plates in one block with 120 well barcoding.\n",
    "\n",
    "- A pellet of each pool was generated and cut into several 6um thick sections\n",
    "\n",
    "- A subset of these sections (='sites') were stained with an IMC pane and acquired as 1 or more 'acquisitions' containing\n",
    "  multiple spheres each.\n",
    "\n",
    "- Spheres in these acquisitions were identified via computer vision and croped into individual 'images'\n",
    "\n",
    "- In each image the following 'objects' were identified via computer vision:\n",
    "    - 'cell's (cell sections)\n",
    "    - 'nucleiexp' (slighly expanded cell centers around nuclei)\n",
    "    - 'cyto' (cytoplasm, cell region without nuclei)\n",
    "    -> In the manuscript only 'cell' level data was used.\n",
    "\n",
    "- The data was exported using the 'anndata' csv format:\n",
    "   https://anndata.readthedocs.io/en/stable/anndata.AnnData.html\n",
    "\n",
    "Some notes on the files and their columns:\n",
    "\n",
    "- **{object}_X.csv**:\n",
    "    - The data matrix\n",
    "    - Shape: #objects x #features\n",
    "    - The measurements of this export contain both compensated MeanIntensities (MeanIntensityComp) of an IMC image stack\n",
    "    (FullStackFiltered). In the case of 'cell' objects there are also measurements of min/max and mean Intensities from a pixel-wise compensated IMC image (FullStackComp) as well an Imunofluorescent stack\n",
    "     image (IfStack, Dapi+GFP channel) and a pixel-probability stack (ProbPos, channels: prop-pos, prop-neg),\n",
    "    - column metadata: **{object}_var.csv** table\n",
    "    - row metadata: **{object}_obs.csv** table\n",
    "\n",
    "- **{object}_var.csv**:\n",
    "    - Variable metadata\n",
    "    - Shape: #features x #columns\n",
    "    - Columns:\n",
    "        - measurement_id: unique measurement id\n",
    "        - measurement_name: Name of measurement (this export: all compensated mean intensity)\n",
    "        - measurement_type: Type of measurement (this export: only Intensity features)\n",
    "        - channel_name, metal: Isotope name\n",
    "        - stack_name: multicolor image stack containing this channel\n",
    "        - ref_plane_number: position of the measured channel in it's image stack\n",
    "        - goodname: The name of the marker\n",
    "               no prefix: total protein\n",
    "               p-: phopho protein\n",
    "               []: phospho residue\n",
    "               BC: barcoding metal\n",
    "        - Antibody Clone: antibody clone name\n",
    "        - is_cc: bool, indication if this marker is considered a classical cell cycle marker\n",
    "        - working: bool, indicates if the markers are working and of biological value. I would only look at the marker with working=1\n",
    "        Not important:\n",
    "        - scale: scale of raw data (data is already scaled)\n",
    "        - plane_id: database id for image plane.\n",
    "\n",
    "- **{object}_obs.csv**:\n",
    "    - Object (cell/nuclei/cytoplasma section) level metadata\n",
    "    - Shape: #objects x #columns\n",
    "    - Columns:\n",
    "        - object_id: Unique object id (unique also accross object types)\n",
    "        - image_id: The key linking to the 'image_meta.csv' table\n",
    "        - object_number: id corresponding to the object value in the segmentation mask\n",
    "        - distrim: Estimated distance to sphere border -> unit 'um'\n",
    "        - Center_X/Y: Centroid of object in image -> unit 'um'\n",
    "        - dist-sphere: distance to estimated spheroid section border\n",
    "        - dist-other: distance to other spheroid section in image\n",
    "        - dist-bg: distance to background pixels\n",
    "\n",
    "- **relations_{source}_{target}.csv**:\n",
    "    - Cell relationship graphs\n",
    "    - Shape: #relations x #columns\n",
    "    - Encoding relations between objects:\n",
    "        - cell_neighbors: Neighbourhood graph:\n",
    "            - object_id_cell: id of cell\n",
    "            - object_id_neighbour: id of neighbor\n",
    "        - cell_nuclei: Relationship between cells and nuclei\n",
    "            - object_id_cell\n",
    "            - object_id_nucleiexp\n",
    "            -> This is not necessarily a 1:1 correspondence\n",
    "        -cell_cyto: Relationship between cells and cytoplasm\n",
    "            - object_id_cell\n",
    "            - object_id_cyto\n",
    "            -> This is not necessarily a 1:1 correspondence\n",
    "\n",
    "\n",
    "- **image_meta.csv**:\n",
    "    - Image (=spheroid section) metadata\n",
    "    - Shape: #images x #columns\n",
    "    - Columns:\n",
    "        - Image metadata:\n",
    "            - image_id: The unique key of this table. Each row corresponds to a single spheroid section\n",
    "            - image_shape_h/w: width/heigh of image in pixels/um\n",
    "            - acquisition_id: unique id of IMC acquisition this image was cropped from\n",
    "            - site_id: unique id of the section this sphere cut comes from.\n",
    "                    All cuts in the same section were stained together.\n",
    "            - slide_id: unique id for a single slide containing 1 or more sites\n",
    "            - sampleblock_id: unique id of the sample block this sphere was pooled and processed in.\n",
    "\n",
    "            Not important:\n",
    "            - image_number: original cellprofiler image number\n",
    "            - crop_number: object number of the sphere that was used for this crop\n",
    "            - image_pos_x/y: top left coordinate of crop of sphere from original acquisition\n",
    "            - bc_depth: cells within this distance from border were considered for debarcoding\n",
    "            - bc_invalid: number of invalid debarcoded objects in this sphere crop\n",
    "            - bc_highest_count: number of cells assigned to the main barcode of this crop\n",
    "            - bc_second_count: number of cells assigned to the second most frequent barcode of this crop\n",
    "            - barcode: dictionary containing the barcode\n",
    "            - bc_plate, bc_x, bc_y: barcode metadata\n",
    "            - acquisition_mcd_acid: original MCD aquisition id\n",
    "            - site_mcd_panoramaid: original MCD panorama id\n",
    "            - acquisition_mcd_roiid: original MCD roiid\n",
    "            - slideac_id/name: unique id for each aquisition of a slide. Corresponds to a single mcd file\n",
    "            - slide_number: original number of slide this acquisition comes from\n",
    "\n",
    "        - Experimental metadata:\n",
    "            - condition_id: id of the physical spheroid the slice belongs to. Unique to each sphere replicate.\n",
    "            - condition_name: name of the growth condition this sphere came from\n",
    "            - plate_id: id of the plate the spheroid was grown in\n",
    "            - well_name: position of the well the spheroid was grown in\n",
    "            - sampleblock_id/sampleblock_name: id/name of the pooled block the spheroid was processed in\n",
    "            - site_id: corresponds to the site the spheroid slice was located on. All spheroid slices in the same site were stained together.\n",
    "            - file_name: filename of the segmentation mask found in masks_cell\n",
    "\n",
    "        - Filenames:\n",
    "            - mask_filename_{object}: filename of the object mask corresponding to this image\n",
    "            - image_stack_filename_{imagestack}: filename of the image stack with this name.\n",
    "                Note: all mean intensity measurements are usually done in the\n",
    "                'FullStackFiltered' (raw image with only filtered for strong outliers)\n",
    "                and then compensated for metal impurities (as recomended in Chevrier, Zanotelli and Crowell 2018).\n",
    "                For visualization and Min/Max measurements 'FullStackComp'\n",
    "                can be used as there the image was corrected for metal\n",
    "                impurities.\n",
    "                The channel order is the same for both stacks.\n",
    "\n",
    "- Folder **masks**:\n",
    "    - Folder containing the segmentation masks (See image_meta -> Filenames)\n",
    "\n",
    "- Folder **images**:\n",
    "    - Folder containing the image stacks (See image_meta -> Filenames)\n",
    "    - The mapping between channels and image planes number is given through\n",
    "        the 'ref_plane_number' from the {object}_var.csv metadata."
   ]
  },
  {
   "cell_type": "code",
   "execution_count": null,
   "metadata": {
    "pycharm": {
     "name": "#%%\n"
    }
   },
   "outputs": [],
   "source": [
    "bro = spb.get_bro(C.fn_config)"
   ]
  },
  {
   "cell_type": "markdown",
   "metadata": {},
   "outputs": [],
   "source": [
    "## Build an object level metadata table"
   ]
  },
  {
   "cell_type": "markdown",
   "metadata": {},
   "outputs": [],
   "source": [
    "Add filters"
   ]
  },
  {
   "cell_type": "code",
   "execution_count": null,
   "metadata": {},
   "outputs": [],
   "source": [
    "q_obj = (bro.data.get_objectmeta_query()\n",
    "         .filter(db.objects.object_type == 'cell')\n",
    "        )\n",
    "\n",
    "fil_name = 'modelfitcond_v1'\n",
    "fil = (bro.session.query(db.object_filters)\n",
    "           .join(db.object_filter_names)\n",
    "           .filter(db.object_filter_names.object_filter_name == fil_name)).subquery()\n",
    "q_obj = (q_obj\n",
    "     .join(fil, fil.c.object_id == db.objects.object_id)\n",
    "     .add_columns(fil.c.filter_value.label(fil_name))\n",
    "    )"
   ]
  },
  {
   "cell_type": "markdown",
   "metadata": {},
   "outputs": [],
   "source": [
    "Add distance to border"
   ]
  },
  {
   "cell_type": "code",
   "execution_count": null,
   "metadata": {
    "pycharm": {
     "name": "#%%\n"
    }
   },
   "outputs": [],
   "source": [
    "fil = (bro.filters.measurements.get_measmeta_filter_statements(\n",
    "    channel_names=['object'],\n",
    "    stack_names=['ObjectStack'],\n",
    "    measurement_names=[('dist-rim', 'Center_X', 'Center_Y')],\n",
    "    measurement_types=['Location'])\n",
    "    )\n",
    "\n",
    "q_meas = (bro.data.get_measmeta_query()\n",
    "              .filter(fil)\n",
    "              .add_column(db.ref_stacks.scale)\n",
    "             )\n",
    "\n",
    "tdat = bro.io.objmeasurements.get_measurements(q_obj=q_obj, q_meas=q_meas,)\n",
    "tdat = bro.io.objmeasurements.scale_anndata(tdat)\n",
    "dat_location = pd.DataFrame(tdat.X, index=tdat.obs.object_id, columns=tdat.var.measurement_name).reset_index()"
   ]
  },
  {
   "cell_type": "markdown",
   "metadata": {},
   "outputs": [],
   "source": [
    "Add distance to other spheres in the image"
   ]
  },
  {
   "cell_type": "code",
   "execution_count": null,
   "metadata": {
    "pycharm": {
     "name": "#%%\n"
    }
   },
   "outputs": [],
   "source": [
    "fil = bro.filters.measurements.get_measmeta_filter_statements(\n",
    "    channel_names=[None],\n",
    "    stack_names=['DistStack'],\n",
    "    measurement_names=['MeanIntensity'],\n",
    "    measurement_types=['Intensity'])\n",
    "\n",
    "q_meas = (bro.data.get_measmeta_query()\n",
    "              .filter(fil)\n",
    "              .add_columns(db.ref_stacks.scale,\n",
    "                         db.ref_planes.channel_name)\n",
    "             )\n",
    "\n",
    "tdat = bro.io.objmeasurements.get_measurements(q_obj=q_obj, q_meas=q_meas,)\n",
    "tdat = bro.io.objmeasurements.scale_anndata(tdat)\n",
    "dat_dist = pd.DataFrame(tdat.X, index=tdat.obs.object_id, columns=tdat.var.channel_name).reset_index()"
   ]
  },
  {
   "cell_type": "code",
   "execution_count": null,
   "metadata": {
    "pycharm": {
     "name": "#%%\n"
    }
   },
   "outputs": [],
   "source": [
    "dat_obs = (bro.doquery(q_obj)\n",
    "          .merge(dat_location)\n",
    "          .merge(dat_dist))"
   ]
  },
  {
   "cell_type": "code",
   "execution_count": null,
   "metadata": {
    "pycharm": {
     "name": "#%%\n"
    }
   },
   "outputs": [],
   "source": [
    "dat_obs.head()"
   ]
  },
  {
   "cell_type": "markdown",
   "metadata": {},
   "outputs": [],
   "source": [
    "Rename modelfitcondition classes"
   ]
  },
  {
   "cell_type": "code",
   "execution_count": null,
   "metadata": {},
   "outputs": [],
   "source": [
    "class_labels = ['doubt', 'ctrl', 'oexp-NB', 'oexp']\n",
    "\n",
    "dat_obs[fil_name] = pd.Categorical.from_codes(dat_obs[fil_name], categories=class_labels)"
   ]
  },
  {
   "cell_type": "code",
   "execution_count": null,
   "metadata": {},
   "outputs": [],
   "source": [
    "dat_obs.head()"
   ]
  },
  {
   "cell_type": "markdown",
   "metadata": {},
   "outputs": [],
   "source": [
    "## Build an measurement metadata table"
   ]
  },
  {
   "cell_type": "code",
   "execution_count": null,
   "metadata": {},
   "outputs": [],
   "source": [
    "bro.doquery(bro.session.query(db.stacks))"
   ]
  },
  {
   "cell_type": "code",
   "execution_count": null,
   "metadata": {
    "pycharm": {
     "name": "#%%\n"
    }
   },
   "outputs": [],
   "source": [
    "fil = bro.filters.measurements.get_measmeta_filter_statements(\n",
    "    channel_names=[None, None],\n",
    "    stack_names=['FullStackFiltered', ('FullStackComp', 'IfStack', 'ProbPos')],\n",
    "    measurement_names=['MeanIntensityComp', ('MinIntensity', 'MaxIntensity', 'MeanIntensity')],\n",
    "    measurement_types=[None, None])\n",
    "\n",
    "\n",
    "q_meas = (bro.data.get_measmeta_query()\n",
    "          .filter(fil)\n",
    "          .add_columns(\n",
    "              db.ref_planes.channel_name,\n",
    "              db.ref_stacks.scale,\n",
    "              db.planes.ref_plane_number,\n",
    "              db.stacks.stack_name\n",
    "          )\n",
    "         )\n",
    "\n",
    "dat_panel = bro.data.pannel[['metal', 'working', 'goodname', 'Antibody Clone', 'is_cc']]\n",
    "\n",
    "dat_measmeta = (bro.doquery(q_meas)\n",
    "                \n",
    "                .merge(dat_panel, left_on=db.ref_planes.channel_name.key,\n",
    "                                  right_on='metal',how='left')\n",
    "                \n",
    "               )\n",
    "\n",
    "dat_measmeta"
   ]
  },
  {
   "cell_type": "markdown",
   "metadata": {},
   "outputs": [],
   "source": [
    "## Build an image level metadata table"
   ]
  },
  {
   "cell_type": "code",
   "execution_count": null,
   "metadata": {
    "pycharm": {
     "name": "#%%\n"
    }
   },
   "outputs": [],
   "source": [
    "q_imgmeta = (bro.session.query(\n",
    "        db.images,\n",
    "        db.conditions,\n",
    "        db.acquisitions,\n",
    "        db.sites,\n",
    "        db.slideacs,\n",
    "        db.slides,\n",
    "    )\n",
    "    .join(db.conditions)\n",
    "    .join(db.acquisitions)\n",
    "    .join(db.sites)\n",
    "    .join(db.slideacs)\n",
    "    .join(db.slides)\n",
    "    .join(db.valid_images)\n",
    ")\n",
    "dat_imagemeta = bro.doquery(q_imgmeta)\n",
    "bro.data._read_experiment_layout()\n",
    "\n",
    "dat_imagemeta = (dat_imagemeta.loc[: , ~dat_imagemeta.columns.duplicated()]\n",
    "                 .dropna(how='all', axis=1)\n",
    "                 .merge(bro.data.experiment_layout.drop(columns=['iscontrol', 'control_name']))\n",
    "                )\n",
    "                 \n"
   ]
  },
  {
   "cell_type": "code",
   "execution_count": null,
   "metadata": {
    "pycharm": {
     "name": "#%%\n"
    }
   },
   "outputs": [],
   "source": [
    "dat_imagemeta.iloc[0,:]"
   ]
  },
  {
   "cell_type": "code",
   "execution_count": null,
   "metadata": {
    "pycharm": {
     "name": "#%%\n"
    }
   },
   "outputs": [],
   "source": [
    "q_imagestack_meta = (bro.session.query(\n",
    "        db.image_stacks, db.stacks.stack_name)\n",
    "        .join(db.stacks)\n",
    "        # The we dont export the full stack image, so showing it here is confusing.\n",
    "        .filter(db.stacks.stack_name != 'FullStack')\n",
    ")\n",
    "\n",
    "dat_stack_filenames = (bro.doquery(q_imagestack_meta).pivot(db.images.image_id.key,\n",
    "                                     db.stacks.stack_name.key,\n",
    "                                     db.image_stacks.image_stack_filename.key)\n",
    "        .rename(columns=lambda x: f'{db.image_stacks.image_stack_filename.key}_{x}')\n",
    "         .reset_index()\n",
    ")"
   ]
  },
  {
   "cell_type": "code",
   "execution_count": null,
   "metadata": {
    "pycharm": {
     "name": "#%%\n"
    }
   },
   "outputs": [],
   "source": [
    "dat_stack_filenames.iloc[0,:]"
   ]
  },
  {
   "cell_type": "code",
   "execution_count": null,
   "metadata": {
    "pycharm": {
     "name": "#%%\n"
    }
   },
   "outputs": [],
   "source": [
    "q_mask_meta = (bro.session.query(\n",
    "        db.masks)\n",
    "             #.filter(db.masks.object_type == 'cell')\n",
    "               )\n",
    "\n",
    "dat_mask_filenames = (bro.doquery(q_mask_meta).pivot(db.images.image_id.key,\n",
    "                                     db.masks.object_type.key,\n",
    "                                     db.masks.mask_filename.key)\n",
    "        .rename(columns=lambda x: f'{db.masks.mask_filename.key}_{x}')\n",
    "         .reset_index()\n",
    ")\n"
   ]
  },
  {
   "cell_type": "code",
   "execution_count": null,
   "metadata": {
    "pycharm": {
     "name": "#%%\n"
    }
   },
   "outputs": [],
   "source": [
    "dat_mask_filenames.iloc[0,:]"
   ]
  },
  {
   "cell_type": "markdown",
   "metadata": {},
   "outputs": [],
   "source": [
    "## Query the actual cell slice data"
   ]
  },
  {
   "cell_type": "code",
   "execution_count": null,
   "metadata": {
    "pycharm": {
     "name": "#%%\n"
    }
   },
   "outputs": [],
   "source": [
    "%%time\n",
    "ad_cells = bro.io.objmeasurements.get_measurements(dat_obj=dat_obs, dat_meas=dat_measmeta)\n",
    "ad_cells = bro.io.objmeasurements.scale_anndata(ad_cells)"
   ]
  },
  {
   "cell_type": "markdown",
   "metadata": {},
   "outputs": [],
   "source": [
    "### Also query matching nuclei and cytoplasma"
   ]
  },
  {
   "cell_type": "code",
   "execution_count": null,
   "metadata": {
    "pycharm": {
     "name": "#%%\n"
    }
   },
   "outputs": [],
   "source": [
    "q = bro.session.query(db.objects.object_type).distinct()\n",
    "bro.doquery(q)"
   ]
  },
  {
   "cell_type": "code",
   "execution_count": null,
   "metadata": {
    "pycharm": {
     "name": "#%%\n"
    }
   },
   "outputs": [],
   "source": [
    "q=bro.session.query(db.object_relation_types)\n",
    "bro.doquery(q)"
   ]
  },
  {
   "cell_type": "markdown",
   "metadata": {},
   "outputs": [],
   "source": [
    "Query cytoplasma which is a child of a cell"
   ]
  },
  {
   "cell_type": "code",
   "execution_count": null,
   "metadata": {
    "pycharm": {
     "name": "#%%\n"
    }
   },
   "outputs": [],
   "source": [
    "obj_alias = aliased(db.objects)\n",
    "subq_cyto = subq_cyto = (q_obj\n",
    "             .join(db.object_relations, db.object_relations.object_id_parent == db.objects.object_id)\n",
    "             .join(db.object_relation_types)\n",
    "             .filter(db.object_relation_types.object_relationtype_name=='Parent')\n",
    "             .join(obj_alias, db.object_relations.object_id_child == obj_alias.object_id)\n",
    "              .filter(obj_alias.object_type == 'cyto')\n",
    "              .with_entities(obj_alias)\n",
    "             .distinct()\n",
    "             )\n",
    "\n",
    "\n",
    "dat_obs_cyto = bro.doquery(subq_cyto)"
   ]
  },
  {
   "cell_type": "code",
   "execution_count": null,
   "metadata": {
    "pycharm": {
     "name": "#%%\n"
    }
   },
   "outputs": [],
   "source": [
    "dat_obs_cyto"
   ]
  },
  {
   "cell_type": "markdown",
   "metadata": {},
   "outputs": [],
   "source": [
    "Query nuclei which is a child of the cell"
   ]
  },
  {
   "cell_type": "code",
   "execution_count": null,
   "metadata": {
    "pycharm": {
     "name": "#%%\n"
    }
   },
   "outputs": [],
   "source": [
    "obj_alias = aliased(db.objects)\n",
    "subq_nuc = subq_cyto = (q_obj\n",
    "             .join(db.object_relations, db.object_relations.object_id_parent == db.objects.object_id)\n",
    "             .join(db.object_relation_types)\n",
    "             .filter(db.object_relation_types.object_relationtype_name=='Child')\n",
    "             .join(obj_alias, db.object_relations.object_id_child == obj_alias.object_id)\n",
    "              .filter(obj_alias.object_type == 'nucleiexp')\n",
    "              .with_entities(obj_alias)\n",
    "             .distinct()\n",
    "             )\n",
    "\n",
    "\n",
    "dat_obs_nuclei = bro.doquery(subq_nuc)"
   ]
  },
  {
   "cell_type": "code",
   "execution_count": null,
   "metadata": {
    "pycharm": {
     "name": "#%%\n"
    }
   },
   "outputs": [],
   "source": [
    "dat_obs_nuclei"
   ]
  },
  {
   "cell_type": "code",
   "execution_count": null,
   "metadata": {
    "pycharm": {
     "name": "#%%\n"
    }
   },
   "outputs": [],
   "source": [
    "ad_nuclei = bro.io.objmeasurements.get_measurements(dat_obj=dat_obs_nuclei, dat_meas=dat_measmeta)\n",
    "ad_nuclei = bro.io.objmeasurements.scale_anndata(ad_nuclei)"
   ]
  },
  {
   "cell_type": "code",
   "execution_count": null,
   "metadata": {
    "pycharm": {
     "name": "#%%\n"
    }
   },
   "outputs": [],
   "source": [
    "ad_cyto = bro.io.objmeasurements.get_measurements(dat_obj=dat_obs_cyto, dat_meas=dat_measmeta)\n",
    "ad_cyto = bro.io.objmeasurements.scale_anndata(ad_cyto)"
   ]
  },
  {
   "cell_type": "raw",
   "metadata": {
    "pycharm": {
     "name": "#%%\n"
    }
   },
   "outputs": [],
   "source": [
    "# In this case not all measurements are available for all objects\n",
    "for ad in [ad_cyto, ad_nuclei]:\n",
    "    pd.testing.assert_frame_equal(ad.var, ad_cells.var)"
   ]
  },
  {
   "cell_type": "code",
   "execution_count": null,
   "metadata": {
    "pycharm": {
     "name": "#%%\n"
    }
   },
   "outputs": [],
   "source": [
    "# Write first Nuclei and cytoplasm and cells\n",
    "for obj_type, ad in [('nucleiexp', ad_nuclei), ('cyto', ad_cyto), ('cell', ad_cells)]:\n",
    "    ad.write_csvs(C.fol_export, skip_data=False)\n",
    "    for x in ['X.csv', 'var.csv', 'obs.csv']:\n",
    "        fn = (C.fol_export / x)\n",
    "        fn.rename(C.fol_export / f'{obj_type}_{x}')\n"
   ]
  },
  {
   "cell_type": "code",
   "execution_count": null,
   "metadata": {
    "pycharm": {
     "name": "#%%\n"
    }
   },
   "outputs": [],
   "source": [
    "(C.fol_export / 'uns').rmdir()\n",
    "for x in ['varm.csv', 'obsm.csv']:\n",
    "    fn = (C.fol_export / x)\n",
    "    fn.unlink()\n"
   ]
  },
  {
   "cell_type": "code",
   "execution_count": null,
   "metadata": {
    "pycharm": {
     "name": "#%%\n"
    }
   },
   "outputs": [],
   "source": [
    "for fn in C.fol_export.glob('*'):\n",
    "    print(fn)"
   ]
  },
  {
   "cell_type": "code",
   "execution_count": null,
   "metadata": {
    "pycharm": {
     "name": "#%%\n"
    }
   },
   "outputs": [],
   "source": [
    "dat_img_meta_final = (dat_imagemeta\n",
    "                     .merge(dat_mask_filenames)\n",
    "                      .merge(dat_stack_filenames)\n",
    "                     )\n",
    "dat_img_meta_final.columns"
   ]
  },
  {
   "cell_type": "code",
   "execution_count": null,
   "metadata": {
    "pycharm": {
     "name": "#%%\n"
    }
   },
   "outputs": [],
   "source": [
    "dat_img_meta_final.to_csv(C.fol_export /'image_meta.csv',index=False)"
   ]
  },
  {
   "cell_type": "markdown",
   "metadata": {},
   "outputs": [],
   "source": [
    "### Export neighbourhood graph"
   ]
  },
  {
   "cell_type": "code",
   "execution_count": null,
   "metadata": {
    "pycharm": {
     "name": "#%%\n"
    }
   },
   "outputs": [],
   "source": [
    "bro.doquery(bro.session.query(db.object_relation_types))"
   ]
  },
  {
   "cell_type": "code",
   "execution_count": null,
   "metadata": {
    "pycharm": {
     "name": "#%%\n"
    }
   },
   "outputs": [],
   "source": [
    "q= (bro.session.query(db.object_relations.object_id_parent, db.object_relations.object_id_child)\n",
    "    .join(db.objects, db.objects.object_id == db.object_relations.object_id_parent)\n",
    "    .filter(db.objects.object_type == 'cell')\n",
    "    \n",
    "    .join(db.object_relation_types)\n",
    "    .filter(db.object_relation_types.object_relationtype_name == 'Neighbors')\n",
    "   )\n",
    "dat_neighbour = bro.doquery(q).rename(columns={'object_id_parent': 'object_id_cell',\n",
    "                                                                  'object_id_child': 'object_id_neighbor'})"
   ]
  },
  {
   "cell_type": "code",
   "execution_count": null,
   "metadata": {
    "pycharm": {
     "name": "#%%\n"
    }
   },
   "outputs": [],
   "source": [
    "dat_neighbour.iloc[0]"
   ]
  },
  {
   "cell_type": "code",
   "execution_count": null,
   "metadata": {
    "pycharm": {
     "name": "#%%\n"
    }
   },
   "outputs": [],
   "source": [
    "dat_neighbour.to_csv(C.fol_export /'relations_cell_neighbors.csv',index=False)"
   ]
  },
  {
   "cell_type": "code",
   "execution_count": null,
   "metadata": {
    "pycharm": {
     "name": "#%%\n"
    }
   },
   "outputs": [],
   "source": [
    "### Export object relations"
   ]
  },
  {
   "cell_type": "code",
   "execution_count": null,
   "metadata": {
    "pycharm": {
     "name": "#%%\n"
    }
   },
   "outputs": [],
   "source": [
    "%%time\n",
    "obj_alias = aliased(db.objects)\n",
    "subq_cyto = subq_cyto = (q_obj\n",
    "             .join(db.object_relations, db.object_relations.object_id_parent == db.objects.object_id)\n",
    "             .join(db.object_relation_types)\n",
    "             .filter(db.object_relation_types.object_relationtype_name=='Parent')\n",
    "             .join(obj_alias, db.object_relations.object_id_child == obj_alias.object_id)\n",
    "              .filter(obj_alias.object_type == 'cyto')\n",
    "              .with_entities(db.object_relations.object_id_parent, db.object_relations.object_id_child)\n",
    "             .distinct()\n",
    "             )\n",
    "\n",
    "\n",
    "dat_map_cell_cyto = bro.doquery(subq_cyto).rename(columns={'object_id_parent': 'object_id_cell',\n",
    "                                                                  'object_id_child': 'object_id_cyto'})"
   ]
  },
  {
   "cell_type": "code",
   "execution_count": null,
   "metadata": {
    "pycharm": {
     "name": "#%%\n"
    }
   },
   "outputs": [],
   "source": [
    "dat_map_cell_cyto.to_csv(C.fol_export /'relations_cell_cyto.csv',index=False)"
   ]
  },
  {
   "cell_type": "code",
   "execution_count": null,
   "metadata": {
    "pycharm": {
     "name": "#%%\n"
    }
   },
   "outputs": [],
   "source": [
    "%%time\n",
    "obj_alias = aliased(db.objects)\n",
    "subq_cyto = subq_cyto = (q_obj\n",
    "             .join(db.object_relations, db.object_relations.object_id_parent == db.objects.object_id)\n",
    "             .join(db.object_relation_types)\n",
    "             .filter(db.object_relation_types.object_relationtype_name=='Child')\n",
    "             .join(obj_alias, db.object_relations.object_id_child == obj_alias.object_id)\n",
    "              .filter(obj_alias.object_type == 'nucleiexp')\n",
    "              .with_entities(db.object_relations.object_id_parent, db.object_relations.object_id_child)\n",
    "             .distinct()\n",
    "             )\n",
    "\n",
    "\n",
    "dat_map_cell_nucleiexp = bro.doquery(subq_cyto).rename(columns={'object_id_parent': 'object_id_cell',\n",
    "                                                                  'object_id_child': 'object_id_nucleiexp'})"
   ]
  },
  {
   "cell_type": "code",
   "execution_count": null,
   "metadata": {
    "pycharm": {
     "name": "#%%\n"
    }
   },
   "outputs": [],
   "source": [
    "dat_map_cell_nucleiexp.to_csv(C.fol_export /'relations_cell_nucleiexp.csv',index=False)"
   ]
  },
  {
   "cell_type": "markdown",
   "metadata": {},
   "outputs": [],
   "source": [
    "## Copy images and masks"
   ]
  },
  {
   "cell_type": "code",
   "execution_count": null,
   "metadata": {
    "pycharm": {
     "name": "#%%\n"
    }
   },
   "outputs": [],
   "source": [
    "%%time\n",
    "try:\n",
    "    shutil.copytree(C.fol_images, C.fol_export /'images')\n",
    "except FileExistsError:\n",
    "    print('Folder already exists')"
   ]
  },
  {
   "cell_type": "code",
   "execution_count": null,
   "metadata": {
    "pycharm": {
     "name": "#%%\n"
    }
   },
   "outputs": [],
   "source": [
    "%%time\n",
    "try:\n",
    "    shutil.copytree(C.fol_masks, C.fol_export /'masks')\n",
    "except FileExistsError:\n",
    "    print('Folder already exists')"
   ]
  },
  {
   "cell_type": "code",
   "execution_count": null,
   "metadata": {},
   "outputs": [],
   "source": []
  }
 ],
 "metadata": {
  "kernelspec": {
   "display_name": "Python 3",
   "language": "python",
   "name": "python3"
  },
  "language_info": {
   "codemirror_mode": {
    "name": "ipython",
    "version": 3
   },
   "file_extension": ".py",
   "mimetype": "text/x-python",
   "name": "python",
   "nbconvert_exporter": "python",
   "pygments_lexer": "ipython3",
   "version": "3.7.7"
  }
 },
 "nbformat": 4,
 "nbformat_minor": 4
}
