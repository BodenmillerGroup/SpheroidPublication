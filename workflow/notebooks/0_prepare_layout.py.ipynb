{
 "cells": [
  {
   "cell_type": "code",
   "execution_count": null,
   "metadata": {},
   "outputs": [],
   "source": [
    "import os\n",
    "import pandas as pd"
   ]
  },
  {
   "cell_type": "code",
   "execution_count": null,
   "metadata": {
    "pycharm": {
     "name": "#%%\n"
    }
   },
   "outputs": [],
   "source": [
    "sm = snakemake"
   ]
  },
  {
   "cell_type": "markdown",
   "metadata": {},
   "source": [
    "# Create the layout for spherepro\n",
    "\n",
    "This uses the masterplate layout of the overexpression constructs to prepare the metadata layout for the spherpro."
   ]
  },
  {
   "cell_type": "code",
   "execution_count": null,
   "metadata": {},
   "outputs": [],
   "source": [
    "fn_masterlayout = sm.input.fn_masterplate_layout"
   ]
  },
  {
   "cell_type": "code",
   "execution_count": null,
   "metadata": {},
   "outputs": [],
   "source": [
    "dat_master = pd.read_csv(fn_masterlayout)"
   ]
  },
  {
   "cell_type": "code",
   "execution_count": null,
   "metadata": {},
   "outputs": [],
   "source": [
    "COL_CONDITION = 'condition'\n",
    "COL_PLATE = 'plate'\n",
    "COL_WELL = 'well'\n",
    "COL_BCPLATE = 'bc_plate'\n",
    "COL_ISCONTROL = 'iscontrol'\n",
    "COL_CONTROLNAME = 'control_name'\n",
    "COL_TIMEPOINT = 'timepoint'\n",
    "COL_CONC = 'concentration'\n",
    "COL_SAMPLEBLOCK_NAME = 'sampleblock_name'"
   ]
  },
  {
   "cell_type": "code",
   "execution_count": null,
   "metadata": {},
   "outputs": [],
   "source": [
    "dat_master[COL_CONDITION] = dat_master.apply(lambda x: '_'.join((x['Target'], str(x['EntryVector']))), axis=1)"
   ]
  },
  {
   "cell_type": "code",
   "execution_count": null,
   "metadata": {},
   "outputs": [],
   "source": [
    "dat_master[COL_WELL] = dat_master['target_well']"
   ]
  },
  {
   "cell_type": "code",
   "execution_count": null,
   "metadata": {},
   "outputs": [],
   "source": []
  },
  {
   "cell_type": "markdown",
   "metadata": {},
   "source": [
    "\n",
    "def fix_wellname(w):\n",
    "    \"\"\"\n",
    "    Input:\n",
    "        w: a potentially misformed well name: eg A1, d5 etc\n",
    "    Returns:\n",
    "        a proper well name: eg A01, D05\n",
    "    \"\"\"\n",
    "    return w[0].upper() +w[1:].zfill(2)\n"
   ]
  },
  {
   "cell_type": "code",
   "execution_count": null,
   "metadata": {},
   "outputs": [],
   "source": [
    "def fix_wellname(w):\n",
    "    \"\"\"\n",
    "    Input:\n",
    "        w: a potentially missformed well name: eg A1, d5 etc\n",
    "    Returns:\n",
    "        a proper well name: eg A01, D06\n",
    "    \"\"\"\n",
    "    return '{}{:02d}'.format(w[0].upper(), int(w[1:]))"
   ]
  },
  {
   "cell_type": "code",
   "execution_count": null,
   "metadata": {},
   "outputs": [],
   "source": [
    "fix_wellname('f1')"
   ]
  },
  {
   "cell_type": "code",
   "execution_count": null,
   "metadata": {},
   "outputs": [],
   "source": [
    "dat_master[COL_WELL] = dat_master[COL_WELL].map(fix_wellname)"
   ]
  },
  {
   "cell_type": "code",
   "execution_count": null,
   "metadata": {},
   "outputs": [],
   "source": [
    "n_plates = 6\n",
    "names = [COL_PLATE, COL_BCPLATE, COL_SAMPLEBLOCK_NAME]\n",
    "keys = [\n",
    "\n",
    "    (165, 1, 'p165'),\n",
    "    (171, 2, 'p165'),\n",
    "    (169, 3, 'p165'),\n",
    "    (167, 4, 'p165'),\n",
    "    (161, 1, 'p161'),\n",
    "    (163, 2, 'p161')\n",
    "]\n",
    "\n"
   ]
  },
  {
   "cell_type": "code",
   "execution_count": null,
   "metadata": {},
   "outputs": [],
   "source": [
    "dat_layout = pd.concat((dat_master.loc[:, (COL_CONDITION, COL_WELL)] for _ in range(n_plates)),keys=keys, names=names).reset_index(names, drop=False)"
   ]
  },
  {
   "cell_type": "code",
   "execution_count": null,
   "metadata": {},
   "outputs": [],
   "source": [
    "dat_layout[COL_CONC] = 0\n",
    "dat_layout[COL_TIMEPOINT] = 0\n",
    "dat_layout[COL_ISCONTROL] = 0\n",
    "dat_layout[COL_CONTROLNAME] = 0"
   ]
  },
  {
   "cell_type": "code",
   "execution_count": null,
   "metadata": {},
   "outputs": [],
   "source": [
    "dat_layout.to_csv(sm.output.fn_plate_layout, index=False)"
   ]
  },
  {
   "cell_type": "code",
   "execution_count": null,
   "metadata": {},
   "outputs": [],
   "source": [
    "dat_layout.shape"
   ]
  },
  {
   "cell_type": "code",
   "execution_count": null,
   "metadata": {},
   "outputs": [],
   "source": [
    "dat_layout"
   ]
  },
  {
   "cell_type": "code",
   "execution_count": null,
   "metadata": {},
   "outputs": [],
   "source": []
  }
 ],
 "metadata": {
  "kernelspec": {
   "display_name": "spherenv",
   "language": "python",
   "name": "spherenv"
  },
  "language_info": {
   "codemirror_mode": {
    "name": "ipython",
    "version": 3
   },
   "file_extension": ".py",
   "mimetype": "text/x-python",
   "name": "python",
   "nbconvert_exporter": "python",
   "pygments_lexer": "ipython3",
   "version": "3.7.3"
  }
 },
 "nbformat": 4,
 "nbformat_minor": 2
}
