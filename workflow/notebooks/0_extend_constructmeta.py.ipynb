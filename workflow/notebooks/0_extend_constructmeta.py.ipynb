{
 "cells": [
  {
   "cell_type": "markdown",
   "metadata": {},
   "outputs": [],
   "source": [
    "# Extend contstruct meta\n",
    "\n",
    "## Aim\n",
    "\n",
    "Extend the metadata of the constructs to be as comprehensible as possible."
   ]
  },
  {
   "cell_type": "code",
   "execution_count": null,
   "metadata": {
    "pycharm": {
     "name": "#%%\n"
    }
   },
   "outputs": [],
   "source": [
    "sm = snakemake"
   ]
  },
  {
   "cell_type": "code",
   "execution_count": null,
   "metadata": {},
   "outputs": [],
   "source": [
    "import pathlib\n",
    "import pandas as pd\n",
    "\n",
    "import spherpro.db as db"
   ]
  },
  {
   "cell_type": "code",
   "execution_count": null,
   "metadata": {
    "pycharm": {
     "name": "#%%\n"
    }
   },
   "outputs": [],
   "source": [
    "from src.variables import Vars as V"
   ]
  },
  {
   "cell_type": "code",
   "execution_count": null,
   "metadata": {
    "pycharm": {
     "name": "#%%\n"
    }
   },
   "outputs": [],
   "source": [
    "class C:\n",
    "    fn_construct_raw = pathlib.Path(sm.input.fn_construct_meta_raw)\n",
    "    fn_masterlayout = pathlib.Path(sm.input.fn_masterplate_layout)\n",
    "    fn_construct_out = pathlib.Path(sm.output.fn_construct_meta)"
   ]
  },
  {
   "cell_type": "code",
   "execution_count": null,
   "metadata": {},
   "outputs": [],
   "source": [
    "class C:\n",
    "    fn_construct_raw = pathlib.Path(sm.input.fn_construct_meta_raw)\n",
    "    fn_masterlayout = pathlib.Path(sm.input.fn_masterplate_layout)\n",
    "    fn_construct_out = pathlib.Path(sm.output.fn_construct_meta)"
   ]
  },
  {
   "cell_type": "code",
   "execution_count": null,
   "metadata": {},
   "outputs": [],
   "source": [
    "class C:\n",
    "    fn_construct_raw = pathlib.Path(sm.input.fn_construct_meta_raw)\n",
    "    fn_masterlayout = pathlib.Path(sm.input.fn_masterplate_layout)\n",
    "    fn_construct_out = pathlib.Path(sm.output.fn_construct_meta)"
   ]
  },
  {
   "cell_type": "code",
   "execution_count": null,
   "metadata": {},
   "outputs": [],
   "source": [
    "dat_constructs = pd.read_csv(C.fn_construct_raw)"
   ]
  },
  {
   "cell_type": "code",
   "execution_count": null,
   "metadata": {},
   "outputs": [],
   "source": [
    "dat_master = pd.read_csv(C.fn_masterlayout)"
   ]
  },
  {
   "cell_type": "code",
   "execution_count": null,
   "metadata": {},
   "outputs": [],
   "source": [
    "dat_constructs = dat_constructs.rename(columns={'condition': V.COL_CONDNAME})"
   ]
  },
  {
   "cell_type": "markdown",
   "metadata": {},
   "outputs": [],
   "source": [
    "Identifies the main tag:\n",
    "\n",
    "As the FLAG in FLAG-GFP is not working well, do not count it as FLAG positive"
   ]
  },
  {
   "cell_type": "code",
   "execution_count": null,
   "metadata": {},
   "outputs": [],
   "source": [
    "dat_constructs[V.COL_TAGGFP] = dat_constructs[V.COL_TAG].map(lambda x: x.find('GFP') >= 0)\n",
    "dat_constructs[V.COL_TAGFLAG] = dat_constructs[V.COL_TAG].map(lambda x: (x.find('FLAG') >= 0) & (x.find('GFP') < 0))"
   ]
  },
  {
   "cell_type": "markdown",
   "metadata": {},
   "outputs": [],
   "source": [
    "Drop not complete columns"
   ]
  },
  {
   "cell_type": "code",
   "execution_count": null,
   "metadata": {},
   "outputs": [],
   "source": [
    "dat_constructs = dat_constructs.drop(columns=['feature', 'insertname', 'link'],errors='ignore')\n",
    "dat_constructs"
   ]
  },
  {
   "cell_type": "code",
   "execution_count": null,
   "metadata": {},
   "outputs": [],
   "source": [
    "dat_constructs.to_csv(C.fn_construct_out, index=False)"
   ]
  },
  {
   "cell_type": "code",
   "execution_count": null,
   "metadata": {},
   "outputs": [],
   "source": []
  }
 ],
 "metadata": {
  "kernelspec": {
   "display_name": "Python 3",
   "language": "python",
   "name": "python3"
  },
  "language_info": {
   "codemirror_mode": {
    "name": "ipython",
    "version": 3
   },
   "file_extension": ".py",
   "mimetype": "text/x-python",
   "name": "python",
   "nbconvert_exporter": "python",
   "pygments_lexer": "ipython3",
   "version": "3.8.5"
  }
 },
 "nbformat": 4,
 "nbformat_minor": 2
}
