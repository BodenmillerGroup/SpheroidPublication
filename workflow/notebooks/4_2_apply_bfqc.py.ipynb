{
 "cells": [
  {
   "cell_type": "code",
   "execution_count": null,
   "metadata": {},
   "outputs": [],
   "source": [
    "sm = snakemake"
   ]
  },
  {
   "cell_type": "code",
   "execution_count": null,
   "metadata": {
    "pycharm": {
     "name": "#%%\n"
    }
   },
   "outputs": [],
   "source": [
    "import spherpro.bro as spb\n",
    "import spherpro.db as db\n",
    "\n",
    "import pandas as pd\n",
    "import pathlib\n",
    "import sqlalchemy as sa"
   ]
  },
  {
   "cell_type": "markdown",
   "metadata": {
    "pycharm": {
     "name": "#%% md\n"
    }
   },
   "outputs": [],
   "source": [
    "## Remove spheres determined bad in the BF analysis\n",
    "\n",
    "Applies the QC analysis from:\n",
    "https://github.com/BodenmillerGroup/SpheroidPaper/tree/master/analysis/20190311_oexp_bfanalysis-bigexperiment2_v1"
   ]
  },
  {
   "cell_type": "code",
   "execution_count": null,
   "metadata": {},
   "outputs": [],
   "source": [
    "class C:\n",
    "    fn_config = sm.input.fn_config \n",
    "    fn_bf_qc = sm.input.fn_bf_qc\n",
    "\n"
   ]
  },
  {
   "cell_type": "code",
   "execution_count": null,
   "metadata": {},
   "outputs": [],
   "source": [
    "bro = spb.get_bro(C.fn_config)"
   ]
  },
  {
   "cell_type": "code",
   "execution_count": null,
   "metadata": {
    "pycharm": {
     "name": "#%%\n"
    }
   },
   "outputs": [],
   "source": [
    "n_cond = (bro.session.query(db.conditions.condition_id)\n",
    "            .join(db.images)\n",
    "             .join(db.valid_images)\n",
    "              .group_by(db.conditions.condition_id).count())\n",
    "n_img = bro.session.query(db.valid_images.image_id).count()\n",
    "n_obj = (bro.session.query(db.valid_objects.object_id)\n",
    "            .join(db.objects)\n",
    "            .filter(db.objects.object_type == 'cell').count())\n",
    "\n",
    "\n",
    "\n",
    "\n",
    "print(n_cond,n_img, n_obj)"
   ]
  },
  {
   "cell_type": "markdown",
   "metadata": {
    "pycharm": {
     "name": "#%% md\n"
    }
   },
   "outputs": [],
   "source": [
    "Load data"
   ]
  },
  {
   "cell_type": "code",
   "execution_count": null,
   "metadata": {},
   "outputs": [],
   "source": [
    "dat_bfqc = pd.read_csv(C.fn_bf_qc)"
   ]
  },
  {
   "cell_type": "code",
   "execution_count": null,
   "metadata": {},
   "outputs": [],
   "source": [
    "list(dat_bfqc.columns)"
   ]
  },
  {
   "cell_type": "code",
   "execution_count": null,
   "metadata": {
    "pycharm": {
     "name": "#%%\n"
    }
   },
   "outputs": [],
   "source": [
    "bfqc_good = 'good'\n",
    "bfqc_colqc ='bf_qc'\n",
    "bfqc_well = 'well'\n",
    "bfqc_plate = 'plate'"
   ]
  },
  {
   "cell_type": "code",
   "execution_count": null,
   "metadata": {},
   "outputs": [],
   "source": [
    "dat_bfqc_exclude = dat_bfqc.query(f'{bfqc_colqc} != \"{bfqc_good}\"')"
   ]
  },
  {
   "cell_type": "markdown",
   "metadata": {
    "pycharm": {
     "name": "#%% md\n"
    }
   },
   "outputs": [],
   "source": [
    "Get imageids to delete"
   ]
  },
  {
   "cell_type": "code",
   "execution_count": null,
   "metadata": {},
   "outputs": [],
   "source": [
    "del_tups = list(dat_bfqc_exclude[[bfqc_plate, bfqc_well]].itertuples(index=False))\n",
    "bfbad_imids = [i[0] for i in (bro.session.query(db.images.image_id)\n",
    " .join(db.valid_images)\n",
    " .join(db.conditions)\n",
    "  .filter(sa.tuple_(db.conditions.plate_id, db.conditions.well_name).in_(del_tups))\n",
    " ).all()]"
   ]
  },
  {
   "cell_type": "code",
   "execution_count": null,
   "metadata": {
    "pycharm": {
     "name": "#%%\n"
    }
   },
   "outputs": [],
   "source": [
    "n_cond = (bro.session.query(db.images.condition_id)\\\n",
    "                                     .filter(db.images.image_id.in_(bfbad_imids))\n",
    "                                      .group_by(db.images.condition_id)\n",
    "                                     .count())"
   ]
  },
  {
   "cell_type": "code",
   "execution_count": null,
   "metadata": {},
   "outputs": [],
   "source": [
    "print(f'{len(bfbad_imids)} images of {n_cond} conditions removed via brightfield qc')"
   ]
  },
  {
   "cell_type": "markdown",
   "metadata": {
    "pycharm": {
     "name": "#%% md\n"
    }
   },
   "outputs": [],
   "source": [
    "Remove the images"
   ]
  },
  {
   "cell_type": "code",
   "execution_count": null,
   "metadata": {},
   "outputs": [],
   "source": [
    "stmt_bfbad = (bro.session.query(db.valid_images)\n",
    "             .filter(db.valid_images.image_id.in_(bfbad_imids)))"
   ]
  },
  {
   "cell_type": "code",
   "execution_count": null,
   "metadata": {},
   "outputs": [],
   "source": [
    "stmt_bfbad.delete(synchronize_session='fetch')\n",
    "\n",
    "bro.session.commit()"
   ]
  },
  {
   "cell_type": "markdown",
   "metadata": {
    "pycharm": {
     "name": "#%% md\n"
    }
   },
   "outputs": [],
   "source": [
    "Small sanity checks what is left"
   ]
  },
  {
   "cell_type": "code",
   "execution_count": null,
   "metadata": {},
   "outputs": [],
   "source": [
    "q = (bro.session.query(db.images, db.conditions)\n",
    "         .join(db.conditions)\n",
    "         .join(db.valid_images)\n",
    "    )\n",
    "d = bro.doquery(q)\n",
    "\n"
   ]
  },
  {
   "cell_type": "code",
   "execution_count": null,
   "metadata": {},
   "outputs": [],
   "source": [
    "d.shape"
   ]
  },
  {
   "cell_type": "code",
   "execution_count": null,
   "metadata": {},
   "outputs": [],
   "source": [
    "d[db.conditions.condition_id.key].nunique()"
   ]
  },
  {
   "cell_type": "code",
   "execution_count": null,
   "metadata": {
    "pycharm": {
     "name": "#%%\n"
    }
   },
   "outputs": [],
   "source": [
    "q = (bro.session.query(db.valid_images)\n",
    "    )\n",
    "d = bro.doquery(q)"
   ]
  },
  {
   "cell_type": "code",
   "execution_count": null,
   "metadata": {},
   "outputs": [],
   "source": [
    "n_cond = (bro.session.query(db.images.condition_id)\n",
    "             .join(db.valid_images)\n",
    "              .group_by(db.images.condition_id).count())\n",
    "n_img = bro.session.query(db.valid_images.image_id).count()\n",
    "n_obj = (bro.session.query(db.valid_objects.object_id)\n",
    "            .join(db.objects)\n",
    "            .filter(db.objects.object_type == 'cell').count())\n",
    "\n",
    "\n",
    "\n",
    "\n",
    "print(n_cond,n_img, n_obj)"
   ]
  },
  {
   "cell_type": "markdown",
   "metadata": {
    "pycharm": {
     "name": "#%% md\n"
    }
   },
   "outputs": [],
   "source": [
    "Objects within valid images"
   ]
  },
  {
   "cell_type": "code",
   "execution_count": null,
   "metadata": {},
   "outputs": [],
   "source": [
    "n_obj = (bro.session.query(db.valid_objects.object_id)\n",
    "            .join(db.objects)\n",
    "             .join(db.images)\n",
    "             .join(db.valid_images)\n",
    "            .filter(db.objects.object_type == 'cell').count())"
   ]
  },
  {
   "cell_type": "code",
   "execution_count": null,
   "metadata": {
    "pycharm": {
     "name": "#%%\n"
    }
   },
   "outputs": [],
   "source": [
    "n_obj"
   ]
  },
  {
   "cell_type": "code",
   "execution_count": null,
   "metadata": {
    "pycharm": {
     "name": "#%%\n"
    }
   },
   "outputs": [],
   "source": [
    "n_obj"
   ]
  },
  {
   "cell_type": "code",
   "execution_count": null,
   "metadata": {},
   "outputs": [],
   "source": [
    "n_obj"
   ]
  }
 ],
 "metadata": {
  "jupytext": {
   "text_representation": {
    "extension": ".py",
    "format_name": "percent",
    "format_version": "1.3",
    "jupytext_version": "1.3.4"
   }
  },
  "kernelspec": {
   "display_name": "Python 3",
   "language": "python",
   "name": "python3"
  },
  "language_info": {
   "codemirror_mode": {
    "name": "ipython",
    "version": 3
   },
   "file_extension": ".py",
   "mimetype": "text/x-python",
   "name": "python",
   "nbconvert_exporter": "python",
   "pygments_lexer": "ipython3",
   "version": "3.8.5"
  }
 },
 "nbformat": 4,
 "nbformat_minor": 4
}
