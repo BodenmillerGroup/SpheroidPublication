{
 "cells": [
  {
   "cell_type": "code",
   "execution_count": null,
   "metadata": {},
   "outputs": [],
   "source": [
    "sm = snakemake"
   ]
  },
  {
   "cell_type": "code",
   "execution_count": null,
   "metadata": {},
   "outputs": [],
   "source": [
    "import pandas as pd\n",
    "\n",
    "import spherpro.bro as spb\n",
    "import spherpro.datastore as spd\n",
    "import spherpro.library as spl\n",
    "import spherpro.configuration as conf\n",
    "import spherpro.db as db\n",
    "\n",
    "from imctools.scripts import exportacquisitioncsv\n",
    "import imp\n",
    "import pycytools as pct\n",
    "import pycytools.library\n",
    "import re\n",
    "import os\n",
    "import pathlib\n",
    "import dateutil\n",
    "\n",
    "import numpy as np\n",
    "import spherpro.library as lib\n",
    "import matplotlib.pyplot as plt\n",
    "import plotnine as gg\n",
    "import seaborn as sns\n",
    "from matplotlib import colors\n",
    "#import mpld3\n"
   ]
  },
  {
   "cell_type": "code",
   "execution_count": null,
   "metadata": {},
   "outputs": [],
   "source": [
    "from src.variables import Vars "
   ]
  },
  {
   "cell_type": "code",
   "execution_count": null,
   "metadata": {},
   "outputs": [],
   "source": [
    "def get_valid_filename(s):\n",
    "    s = str(s).strip().replace(' ', '_')\n",
    "    return re.sub(r'(?u)[^-\\w.]', '', s)"
   ]
  },
  {
   "cell_type": "code",
   "execution_count": null,
   "metadata": {},
   "outputs": [],
   "source": [
    "class C:\n",
    "    fol_plots = pathlib.Path(sm.output.fol_plots)\n",
    "    fn_config =  pathlib.Path(sm.input.fn_config)"
   ]
  },
  {
   "cell_type": "code",
   "execution_count": null,
   "metadata": {},
   "outputs": [],
   "source": [
    "C.fol_plots.mkdir(exist_ok=True)"
   ]
  },
  {
   "cell_type": "code",
   "execution_count": null,
   "metadata": {},
   "outputs": [],
   "source": [
    "class V(Vars):\n",
    "    COL_GFP1 = 'Tm169'\n",
    "    COL_GFP2 = 'Er167'\n",
    "    VAR_STACK = 'FullStackFiltered'\n"
   ]
  },
  {
   "cell_type": "code",
   "execution_count": null,
   "metadata": {},
   "outputs": [],
   "source": [
    "bro = spb.get_bro(C.fn_config)"
   ]
  },
  {
   "cell_type": "code",
   "execution_count": null,
   "metadata": {},
   "outputs": [],
   "source": [
    "import spherpro.bromodules.helpers_vz as helpers_vz\n",
    "imp.reload(helpers_vz)\n",
    "hpr = helpers_vz.HelperVZ(bro)"
   ]
  },
  {
   "cell_type": "markdown",
   "metadata": {},
   "outputs": [],
   "source": [
    "Query the measuremetn metadata"
   ]
  },
  {
   "cell_type": "code",
   "execution_count": null,
   "metadata": {},
   "outputs": [],
   "source": [
    "meas = [('MeanIntensityComp', 'NbMeanMeanIntensityComp', 'NbMaxMeanIntensityComp','NbMeanNormMeanIntensityComp')]\n",
    "fil = bro.filters.measurements.get_measmeta_filter_statements(\n",
    "    channel_names=[None],\n",
    "    stack_names=['FullStackFiltered'],\n",
    "    measurement_names=meas,\n",
    "    measurement_types=[None])\n",
    "    "
   ]
  },
  {
   "cell_type": "code",
   "execution_count": null,
   "metadata": {},
   "outputs": [],
   "source": [
    "%%time\n",
    "dat_measmeta = bro.doquery(bro.data.get_measmeta_query().filter(fil)\n",
    "                              .add_columns(db.stacks.stack_name,\n",
    "                                           db.ref_planes.channel_name, db.ref_stacks.scale))"
   ]
  },
  {
   "cell_type": "code",
   "execution_count": null,
   "metadata": {},
   "outputs": [],
   "source": [
    "dat_measmeta = (dat_measmeta\n",
    "    .merge(bro.data.pannel, left_on=V.COL_CHANNELNAME, right_on=V.COL_METAL)\n",
    "    #.query(f'{V.COL_WORKING} == True')\n",
    "               )"
   ]
  },
  {
   "cell_type": "code",
   "execution_count": null,
   "metadata": {},
   "outputs": [],
   "source": [
    "dat_measmeta"
   ]
  },
  {
   "cell_type": "code",
   "execution_count": null,
   "metadata": {},
   "outputs": [],
   "source": [
    "import anndata"
   ]
  },
  {
   "cell_type": "code",
   "execution_count": null,
   "metadata": {},
   "outputs": [],
   "source": [
    "q_obj = bro.data.get_objectmeta_query().filter(db.objects.object_type == 'cell')"
   ]
  },
  {
   "cell_type": "code",
   "execution_count": null,
   "metadata": {},
   "outputs": [],
   "source": [
    "dat = bro.io.objmeasurements.get_measurements(q_obj=q_obj, dat_meas=dat_measmeta)\n",
    "bro.io.objmeasurements.scale_anndata(dat)"
   ]
  },
  {
   "cell_type": "code",
   "execution_count": null,
   "metadata": {},
   "outputs": [],
   "source": [
    "# I added consoring as there were hugh outliers in the data\n",
    "def censor_dat(x, q=99.9):\n",
    "    x = np.copy(x)\n",
    "    pmax = np.percentile(x,q=q)\n",
    "    x[ x > pmax ] = pmax\n",
    "    pmin = np.percentile(x,q=100-q)\n",
    "    x[x < pmin] = pmin\n",
    "    return x\n",
    "\n",
    "def cur_logtransf(x):\n",
    "    return np.log10(x+0.1)\n",
    "\n",
    "def cur_transf(x):\n",
    "    x= censor_dat(x, 99.9)\n",
    "    x= cur_logtransf(x)\n",
    "    return x"
   ]
  },
  {
   "cell_type": "code",
   "execution_count": null,
   "metadata": {},
   "outputs": [],
   "source": [
    "dat.X = np.apply_along_axis(cur_transf, 0, dat.X)"
   ]
  },
  {
   "cell_type": "code",
   "execution_count": null,
   "metadata": {},
   "outputs": [],
   "source": [
    "import scanpy as sc\n"
   ]
  },
  {
   "cell_type": "code",
   "execution_count": null,
   "metadata": {},
   "outputs": [],
   "source": []
  },
  {
   "cell_type": "code",
   "execution_count": null,
   "metadata": {},
   "outputs": [],
   "source": [
    "q= (bro.session.query(db.images, db.conditions, db.acquisitions, db.sites, db.slideacs, db.slides)\n",
    "    .join(db.conditions)\n",
    "    .join(db.acquisitions)\n",
    "    .join(db.sites)\n",
    "    .join(db.slideacs)\n",
    "    .join(db.slides)\n",
    "    .join(db.valid_images)\n",
    ")\n",
    "dat_condition = bro.doquery(q)"
   ]
  },
  {
   "cell_type": "code",
   "execution_count": null,
   "metadata": {},
   "outputs": [],
   "source": []
  },
  {
   "cell_type": "code",
   "execution_count": null,
   "metadata": {},
   "outputs": [],
   "source": [
    "bro.data._read_experiment_layout()"
   ]
  },
  {
   "cell_type": "code",
   "execution_count": null,
   "metadata": {},
   "outputs": [],
   "source": [
    "dat_condition = dat_condition.merge(bro.data.experiment_layout)"
   ]
  },
  {
   "cell_type": "code",
   "execution_count": null,
   "metadata": {},
   "outputs": [],
   "source": [
    "dat_condition = dat_condition.loc[:,~dat_condition.columns.duplicated()]"
   ]
  },
  {
   "cell_type": "code",
   "execution_count": null,
   "metadata": {},
   "outputs": [],
   "source": [
    "dat_d2rim = hpr.get_d2rim()"
   ]
  },
  {
   "cell_type": "code",
   "execution_count": null,
   "metadata": {},
   "outputs": [],
   "source": [
    "bro.helpers.anndata.add_anndata_obsmeta(dat, dat_d2rim.loc[:, [V.COL_OBJID, V.COL_D2RIM]])"
   ]
  },
  {
   "cell_type": "code",
   "execution_count": null,
   "metadata": {},
   "outputs": [],
   "source": [
    "bro.helpers.anndata.add_anndata_obsmeta(dat, dat_condition)"
   ]
  },
  {
   "cell_type": "code",
   "execution_count": null,
   "metadata": {},
   "outputs": [],
   "source": []
  },
  {
   "cell_type": "code",
   "execution_count": null,
   "metadata": {},
   "outputs": [],
   "source": [
    "C.VAR_INT = 'MeanIntensityComp'\n",
    "C.VAR_NB = 'NbMeanMeanIntensityComp'\n",
    "good_channels = sorted(dat.var.query(f'{V.COL_WORKING}==1')[V.COL_CHANNELNAME].unique())"
   ]
  },
  {
   "cell_type": "code",
   "execution_count": null,
   "metadata": {},
   "outputs": [],
   "source": [
    "gfp_int = dat.var.query(f'({db.measurement_names.measurement_name.key}==\"{C.VAR_INT}\")&({db.ref_planes.channel_name.key} == \"{V.COL_GFP1}\")').index[0]\n",
    "\n",
    "gfp_nb = dat.var.query(f'({db.measurement_names.measurement_name.key}==\"{C.VAR_NB}\")&({db.ref_planes.channel_name.key} == \"{V.COL_GFP1}\")').index[0]"
   ]
  },
  {
   "cell_type": "code",
   "execution_count": null,
   "metadata": {},
   "outputs": [],
   "source": [
    "def plt_relation(dat, varx, vary, varval, gridsize=80, clim=None,extent=None, ax=None,\n",
    "                 colorbar=True, contour=False,contour_levels=5,contour_color='k',contour_linewidths=1, **kwargs):\n",
    "    if ax is None:\n",
    "        plt.figure()\n",
    "        ax=plt.gca()\n",
    "    p =ax.hexbin(dat.obs_vector(varx), dat.obs_vector(vary), C=dat.obs_vector(varval), gridsize=gridsize, clim=clim,\n",
    "                 extent=extent,**kwargs)\n",
    "    ax.set_aspect('equal', adjustable='box')\n",
    "    if contour:\n",
    "        points=p.get_offsets()\n",
    "        vals=p.get_array()\n",
    "        ax.tricontour(points[:,0],points[:,1],vals,colors=contour_color,\n",
    "                      levels=contour_levels,linewidths=contour_linewidths,alpha=1,linestyles='solid'\n",
    "                 )\n",
    "    if colorbar:\n",
    "        plt.colorbar(p)\n",
    "    return p"
   ]
  },
  {
   "cell_type": "code",
   "execution_count": null,
   "metadata": {},
   "outputs": [],
   "source": [
    "val = dat.var.query(f'(\\\n",
    "                       {db.measurement_names.measurement_name.key}==\"{C.VAR_INT}\")\\\n",
    "                        &({db.ref_planes.channel_name.key} == \"Yb171\")').index[0]"
   ]
  },
  {
   "cell_type": "code",
   "execution_count": null,
   "metadata": {},
   "outputs": [],
   "source": [
    "p = plt_relation(dat[dat.obs.query(f'{V.COL_CONDNAME}==\"Empty_nan\"').index], gfp_int, gfp_nb, val,\n",
    "             gridsize=20, extent=(-1,2,-1,2), marginals=True)"
   ]
  },
  {
   "cell_type": "code",
   "execution_count": null,
   "metadata": {},
   "outputs": [],
   "source": [
    "p = plt_relation(dat[dat.obs.query(f'{V.COL_CONDNAME}==\"FGFR1_GFP-FLAG\"').index], gfp_int, gfp_nb, val, gridsize=20)"
   ]
  },
  {
   "cell_type": "code",
   "execution_count": null,
   "metadata": {},
   "outputs": [],
   "source": [
    "print(p.get_offsets().shape)\n",
    "print(p.get_array().shape)"
   ]
  },
  {
   "cell_type": "code",
   "execution_count": null,
   "metadata": {},
   "outputs": [],
   "source": [
    "import scipy as sp"
   ]
  },
  {
   "cell_type": "code",
   "execution_count": null,
   "metadata": {},
   "outputs": [],
   "source": [
    "np.corrcoef(np.hstack([p.get_offsets()[:,0], p.get_array()]))"
   ]
  },
  {
   "cell_type": "code",
   "execution_count": null,
   "metadata": {},
   "outputs": [],
   "source": [
    "p.get_offsets()[:,0].max()"
   ]
  },
  {
   "cell_type": "code",
   "execution_count": null,
   "metadata": {},
   "outputs": [],
   "source": [
    "plt.scatter(p.get_offsets()[:,0], p.get_offsets()[:,1],c=p.get_array())"
   ]
  },
  {
   "cell_type": "code",
   "execution_count": null,
   "metadata": {},
   "outputs": [],
   "source": [
    "p = plt_relation(dat[dat.obs.query(f'{V.COL_CONDNAME}==\"MEK1 (S218D/S222D)_GFP-FLAG\"').index],\n",
    "             gfp_int, gfp_nb, val, gridsize=20)\n",
    "(sp.stats.spearmanr(p.get_offsets()[:,0], p.get_array()),\n",
    "                   sp.stats.spearmanr(p.get_offsets()[:,1], p.get_array()))"
   ]
  },
  {
   "cell_type": "code",
   "execution_count": null,
   "metadata": {},
   "outputs": [],
   "source": [
    "val = dat.var.query(f'(\\\n",
    "                       {db.measurement_names.measurement_name.key}==\"{C.VAR_INT}\")\\\n",
    "                        &({db.ref_planes.channel_name.key} == \"Sm154\")').index[0]\n",
    "p = plt_relation(dat[dat.obs.query(f'{V.COL_CONDNAME}==\"MEK1 (S218D/S222D)_GFP-FLAG\"').index],\n",
    "             gfp_int, gfp_nb, val, gridsize=20)\n",
    "(sp.stats.spearmanr(p.get_offsets()[:,0], p.get_array()),\n",
    "                   sp.stats.spearmanr(p.get_offsets()[:,1], p.get_array()))"
   ]
  },
  {
   "cell_type": "code",
   "execution_count": null,
   "metadata": {},
   "outputs": [],
   "source": [
    "val = dat.var.query(f'(\\\n",
    "                       {db.measurement_names.measurement_name.key}==\"{C.VAR_INT}\")\\\n",
    "                        &({db.ref_planes.channel_name.key} == \"Yb171\")').index[0]\n",
    "p = plt_relation(dat[dat.obs.query(f'{V.COL_CONDNAME}==\"MEK1 (S218D/S222D)_GFP-FLAG\"').index],\n",
    "             gfp_int, gfp_nb, val, gridsize=20)\n",
    "(sp.stats.spearmanr(p.get_offsets()[:,0], p.get_array()),\n",
    "                   sp.stats.spearmanr(p.get_offsets()[:,1], p.get_array()))\n",
    "\n"
   ]
  },
  {
   "cell_type": "code",
   "execution_count": null,
   "metadata": {},
   "outputs": [],
   "source": [
    "ax =p.get_figure().axes[0]"
   ]
  },
  {
   "cell_type": "code",
   "execution_count": null,
   "metadata": {},
   "outputs": [],
   "source": [
    "p.get_figure()"
   ]
  },
  {
   "cell_type": "code",
   "execution_count": null,
   "metadata": {},
   "outputs": [],
   "source": [
    "points = p.get_offsets()\n",
    "vals = p.get_array()\n",
    "\n",
    "np.arange(points.min())\n",
    "ax_range = list(np.linspace(a, b, 10) for a, b in zip(points.min(axis=0), points.max(axis=0)))\n"
   ]
  },
  {
   "cell_type": "code",
   "execution_count": null,
   "metadata": {},
   "outputs": [],
   "source": [
    "ax_range[0]"
   ]
  },
  {
   "cell_type": "code",
   "execution_count": null,
   "metadata": {},
   "outputs": [],
   "source": [
    "x,y = (v.flatten() for v in np.meshgrid(ax_range[0], ax_range[1]))"
   ]
  },
  {
   "cell_type": "code",
   "execution_count": null,
   "metadata": {},
   "outputs": [],
   "source": [
    "c=sp.interpolate.griddata(points, values=vals, xi=np.vstack((x.flatten(), y.flatten())).T, method='cubic' )"
   ]
  },
  {
   "cell_type": "code",
   "execution_count": null,
   "metadata": {},
   "outputs": [],
   "source": [
    "plt.scatter(points[:,0],points[:,1],c=vals )"
   ]
  },
  {
   "cell_type": "code",
   "execution_count": null,
   "metadata": {},
   "outputs": [],
   "source": [
    "fil=np.isfinite(c)\n",
    "x, y, c=list(v[fil] for v in (x,y,c))"
   ]
  },
  {
   "cell_type": "code",
   "execution_count": null,
   "metadata": {},
   "outputs": [],
   "source": [
    "plt.tricontour(x,y,c,colors='k')"
   ]
  },
  {
   "cell_type": "code",
   "execution_count": null,
   "metadata": {},
   "outputs": [],
   "source": [
    "val = dat.var.query(f'(\\\n",
    "                       {db.measurement_names.measurement_name.key}==\"{C.VAR_INT}\")\\\n",
    "                        &({db.ref_planes.channel_name.key} == \"Nd144\")').index[0]\n",
    "p = plt_relation(dat[dat.obs.query(f'{V.COL_CONDNAME}==\"MEK1 (S218D/S222D)_GFP-FLAG\"').index],\n",
    "             gfp_int, gfp_nb, val, gridsize=20)\n",
    "np.corrcoef(p.get_offsets()[:,0], p.get_array())[0,1], np.corrcoef(p.get_offsets()[:,1], p.get_array())[0,1]"
   ]
  },
  {
   "cell_type": "code",
   "execution_count": null,
   "metadata": {},
   "outputs": [],
   "source": [
    "def plt_hexbin_cond(dat, val, cond, ax=None, colorbar=True,titlesize=8, measure_name_int=C.VAR_INT, measure_name_nb=C.VAR_NB, oexp_channel_name=V.COL_GFP1, **kwargs):\n",
    "    if ax is None:\n",
    "        plt.figure()\n",
    "        ax=plt.gca()\n",
    "    gfp_int = dat.var.query(f'({db.measurement_names.measurement_name.key}==\"{measure_name_int}\")&({db.ref_planes.channel_name.key} == \"{oexp_channel_name}\")').index[0]\n",
    "    gfp_nb = dat.var.query(f'({db.measurement_names.measurement_name.key}==\"{measure_name_nb}\")&({db.ref_planes.channel_name.key} == \"{oexp_channel_name}\")').index[0]\n",
    "    x=dat.obs_vector(gfp_int)\n",
    "    xlims = [x.min(), x.max()]\n",
    "    y=dat.obs_vector(gfp_int)\n",
    "    ylims = [y.min(), y.max()]\n",
    "    extent= xlims +ylims\n",
    "    c = dat.obs_vector(val)\n",
    "    clim = (c.min(), c.max())\n",
    "    if cond is not None:\n",
    "        dat = dat[dat.obs.query(f'{V.COL_CONDNAME}==\"{cond}\"').index]\n",
    "        p= plt_relation(dat, gfp_int, gfp_nb, val, extent=extent, ax=ax, colorbar=colorbar,clim=clim,\n",
    "                       **kwargs)\n",
    "    #ax.set_xlabel('GFP ' + C.VAR_INT)\n",
    "    #ax.set_ylabel('GFP '+ C.VAR_NB)\n",
    "    if cond is not None:\n",
    "        ax.set_title(cond, fontsize=titlesize)\n",
    "    return ax\n",
    "        "
   ]
  },
  {
   "cell_type": "code",
   "execution_count": null,
   "metadata": {},
   "outputs": [],
   "source": [
    "def wrapsubplots(total, wrap=None, **kwargs):\n",
    "    if wrap is not None:\n",
    "        cols = min(total, wrap)\n",
    "        rows = 1 + (total - 1)//wrap\n",
    "    else:\n",
    "        cols = total\n",
    "        rows = 1\n",
    "    fig, ax = plt.subplots(rows, cols, **kwargs)\n",
    "    return fig, ax"
   ]
  },
  {
   "cell_type": "code",
   "execution_count": null,
   "metadata": {},
   "outputs": [],
   "source": [
    "def hexbin_all_conds(dat, channel_name, gridsize=20, figsize=(30,30), measure_name_nb=C.VAR_NB,**kwargs):\n",
    "    conds = sorted(dat.obs.condition_name.unique())\n",
    "    fig, axs = wrapsubplots(len(conds), 7, figsize=figsize)\n",
    "    val = dat.var.query(f'({db.measurement_names.measurement_name.key}==\"{C.VAR_INT}\")\\\n",
    "                            &({db.ref_planes.channel_name.key} == \"{channel_name}\")').index[0]\n",
    "    for c, a in zip(conds, axs.flatten()):\n",
    "        plt_hexbin_cond(dat, val,c, ax=a, colorbar=False, gridsize=gridsize,measure_name_nb=measure_name_nb,**kwargs)\n",
    "    # add a big axes, hide frame\n",
    "    fig.add_subplot(111, frameon=False)\n",
    "    fig.colorbar(a.collections[0],ax=fig.axes)\n",
    "    # hide tick and tick label of the big axes\n",
    "    plt.tick_params(labelcolor='none', top='off', bottom='off', left='off', right='off')\n",
    "    plt.grid(False)\n",
    "    plt.xlabel(C.VAR_INT)\n",
    "    plt.ylabel(measure_name_nb)\n",
    "    \n",
    "    for i in range(len(conds)-len(axs.flatten()),0):\n",
    "        fig.delaxes(axs.flatten()[i])\n",
    "    \n",
    "    plt.suptitle(f'{bro.helpers.dbhelp.get_target_by_channel(channel_name)} - {channel_name}')\n",
    "    return fig"
   ]
  },
  {
   "cell_type": "code",
   "execution_count": null,
   "metadata": {},
   "outputs": [],
   "source": [
    "def hexbin_all_chans(dat, condition, gridsize=20, figsize=(30,30),titlesize=8, channels=None,measure_name_nb=C.VAR_NB, **kwargs):\n",
    "    if channels is None:\n",
    "        chans = sorted(dat.var.channel_name.unique())\n",
    "    else:\n",
    "        chans = channels\n",
    "    fig, axs = wrapsubplots(len(chans), 7, figsize=figsize)\n",
    "\n",
    "    for c, a in zip(chans, axs.flatten()):\n",
    "        val = dat.var.query(f'({db.measurement_names.measurement_name.key}==\"{C.VAR_INT}\")\\\n",
    "                            &({db.ref_planes.channel_name.key} == \"{c}\")').index[0]\n",
    "        ax = plt_hexbin_cond(dat, val, condition, ax=a, colorbar=False, gridsize=gridsize,measure_name_nb=measure_name_nb,**kwargs)\n",
    "        plt.colorbar(ax.collections[0], ax=ax)\n",
    "        ax.set_title(f'{bro.helpers.dbhelp.get_target_by_channel(c)} - {c}', fontsize=titlesize)\n",
    "    # add a big axes, hide frame\n",
    "    fig.add_subplot(111, frameon=False)\n",
    "    # hide tick and tick label of the big axes\n",
    "    plt.tick_params(labelcolor='none', top='off', bottom='off', left='off', right='off')\n",
    "    plt.grid(False)\n",
    "    plt.xlabel(C.VAR_INT)\n",
    "    plt.ylabel(measure_name_nb)\n",
    "    \n",
    "    for i in range(len(chans)-len(axs.flatten()),0):\n",
    "        fig.delaxes(axs.flatten()[i])\n",
    "    \n",
    "    plt.suptitle(condition)\n",
    "    return fig"
   ]
  },
  {
   "cell_type": "code",
   "execution_count": null,
   "metadata": {},
   "outputs": [],
   "source": [
    "def hexbin_per_plate(dat, condition, channel_name, plates=None, gridsize=20, figsize=(30,30),titlesize=8, channels=None,measure_name_nb=C.VAR_NB, **kwargs):\n",
    "    if plates is None:\n",
    "        plates = sorted(dat.obs.plate_id.unique())\n",
    "\n",
    "    fig, axs = wrapsubplots(len(plates), len(plates), figsize=figsize)\n",
    "\n",
    "    for p, a in zip(plates, axs.flatten()):\n",
    "        val = dat.var.query(f'({db.measurement_names.measurement_name.key}==\"{C.VAR_INT}\")\\\n",
    "                            &({db.ref_planes.channel_name.key} == \"{channel_name}\")').index[0]\n",
    "        ax = plt_hexbin_cond(dat[dat.obs.plate_id == p,:], val, condition, ax=a, colorbar=False, gridsize=gridsize,measure_name_nb=measure_name_nb,**kwargs)\n",
    "        #plt.colorbar(ax.collections[0], ax=ax)\n",
    "        ax.set_title(f'Plate {p}', fontsize=titlesize)\n",
    "    # add a big axes, hide frame\n",
    "    fig.add_subplot(111, frameon=False)\n",
    "    fig.colorbar(a.collections[0],ax=fig.axes)\n",
    "    # hide tick and tick label of the big axes\n",
    "    plt.tick_params(labelcolor='none', top='off', bottom='off', left='off', right='off')\n",
    "    plt.grid(False)\n",
    "    plt.xlabel(C.VAR_INT)\n",
    "    plt.ylabel(measure_name_nb)\n",
    "    \n",
    "    for i in range(len(plates)-len(axs.flatten()),0):\n",
    "        fig.delaxes(axs.flatten()[i])\n",
    "    \n",
    "    plt.suptitle(f'{condition} - {bro.helpers.dbhelp.get_target_by_channel(channel_name)} - {channel_name}')\n",
    "    return fig"
   ]
  },
  {
   "cell_type": "markdown",
   "metadata": {},
   "outputs": [],
   "source": [
    "Plot mek1 dd vs"
   ]
  },
  {
   "cell_type": "code",
   "execution_count": null,
   "metadata": {},
   "outputs": [],
   "source": [
    "cur_cond =  'MEK1 (S218D/S222D)_GFP-FLAG'\n",
    "cur_marks = ['Tm169', 'Nd144', 'Sm154', 'Yb171', 'Nd143']"
   ]
  },
  {
   "cell_type": "code",
   "execution_count": null,
   "metadata": {},
   "outputs": [],
   "source": [
    "dat.obs.condition_name.unique()"
   ]
  },
  {
   "cell_type": "code",
   "execution_count": null,
   "metadata": {},
   "outputs": [],
   "source": [
    "fig = hexbin_all_chans(dat, cur_cond, channels=cur_marks,\n",
    "                      figsize=(12, 2), gridsize=15,measure_name_nb='NbMaxMeanIntensityComp',\n",
    "                      contour=True, contour_color='k',contour_linewidths=1)\n",
    "\n",
    "fig.subplots_adjust(top=0.8)\n",
    "fig.savefig(C.fol_plots / 'example_MEK1_DD.svg')\n",
    "fig.savefig(C.fol_plots / 'example_MEK1_DD.png')"
   ]
  },
  {
   "cell_type": "code",
   "execution_count": null,
   "metadata": {},
   "outputs": [],
   "source": [
    "plt.ioff()\n",
    "for chan in dat.var.channel_name.unique():\n",
    "    fig = hexbin_all_conds(dat, chan,figsize=(20,20), gridsize=10,measure_name_nb='NbMaxMeanIntensityComp')\n",
    "    target =bro.helpers.dbhelp.get_target_by_channel(chan)\n",
    "    fig.savefig(C.fol_plots / f'oexp_vs_nb_{chan}_{get_valid_filename(target)}_{V.COL_GFP1}.png')\n",
    "    plt.close()\n",
    "plt.ion()\n",
    "    "
   ]
  },
  {
   "cell_type": "raw",
   "metadata": {
    "pycharm": {
     "name": "#%% raw\n"
    }
   },
   "source": [
    "\n",
    "plt.ioff()\n",
    "for cond in dat.obs.condition_name.unique():\n",
    "    fig = hexbin_all_chans(dat, cond,figsize=(20,20), gridsize=10,measure_name_nb='NbMaxMeanIntensityComp')\n",
    "    fig.savefig(C.fol_plots / f'conds_oexp_vs_nb_{get_valid_filename(cond)}_{V.COL_GFP1}.png')\n",
    "    plt.close()\n",
    "plt.ion()\n",
    "    \n"
   ]
  },
  {
   "cell_type": "raw",
   "metadata": {
    "pycharm": {
     "name": "#%% raw\n"
    }
   },
   "source": [
    "\n",
    "plt.ioff()\n",
    "for cond in dat.obs.condition_name.unique():\n",
    "    fig = hexbin_all_chans(dat, cond,channels=good_channels,figsize=(20,20), gridsize=10,measure_name_nb='NbMaxMeanIntensityComp')\n",
    "    fig.savefig(C.fol_plots / f'conds_gc_oexp_vs_nb_{get_valid_filename(cond)}_{V.COL_GFP1}.png')\n",
    "    plt.close()\n",
    "plt.ion()\n",
    "    \n"
   ]
  },
  {
   "cell_type": "raw",
   "metadata": {
    "pycharm": {
     "name": "#%% raw\n"
    }
   },
   "source": [
    "\n",
    "plt.ioff()\n",
    "for cond in dat.obs.condition_name.unique():\n",
    "    fig = hexbin_all_chans(dat, cond,channels=good_channels,figsize=(20,20), gridsize=10,reduce_C_function=np.median,measure_name_nb='NbMaxMeanIntensityComp')\n",
    "    fig.savefig(C.fol_plots / f'conds_gc_oexp_vs_nb_{get_valid_filename(cond)}_{V.COL_GFP1}_med.png')\n",
    "    plt.close()\n",
    "plt.ion()\n",
    "    \n"
   ]
  },
  {
   "cell_type": "raw",
   "metadata": {
    "pycharm": {
     "name": "#%% raw\n"
    }
   },
   "source": [
    "\n",
    "plt.ioff()\n",
    "for chan in dat.var.channel_name.unique():\n",
    "    fig = hexbin_all_conds(dat, chan,figsize=(20,20), gridsize=10,reduce_C_function=np.median, measure_name_nb='NbMaxMeanIntensityComp')\n",
    "    target =bro.helpers.dbhelp.get_target_by_channel(chan)\n",
    "    fig.savefig(C.fol_plots / f'oexp_vs_nb_{chan}_{get_valid_filename(target)}_{V.COL_GFP1}_med.png')\n",
    "    plt.close()\n",
    "plt.ion()\n",
    "    \n"
   ]
  },
  {
   "cell_type": "raw",
   "metadata": {
    "pycharm": {
     "name": "#%% raw\n"
    }
   },
   "source": [
    "\n",
    "C.VAR_INT = 'MeanIntensityComp'\n",
    "C.VAR_NB = 'NbMeanMeanIntensityComp'\n"
   ]
  },
  {
   "cell_type": "raw",
   "metadata": {
    "pycharm": {
     "name": "#%% raw\n"
    }
   },
   "source": [
    "\n",
    "plt.ioff()\n",
    "for chan in dat.var.channel_name.unique():\n",
    "    fig = hexbin_all_conds(dat, chan,figsize=(20,20), gridsize=10)\n",
    "    target =bro.helpers.dbhelp.get_target_by_channel(chan)\n",
    "    fig.savefig(C.fol_plots / f'oexp_vs_meannb_{chan}_{get_valid_filename(target)}_{V.COL_GFP1}.png')\n",
    "    plt.close()\n",
    "plt.ion()\n"
   ]
  },
  {
   "cell_type": "markdown",
   "metadata": {},
   "outputs": [],
   "source": [
    "Plot 1 overview per plate"
   ]
  },
  {
   "cell_type": "raw",
   "metadata": {
    "pycharm": {
     "name": "#%% raw\n"
    }
   },
   "source": [
    "\n",
    "C.VAR_INT = 'MeanIntensityComp'\n",
    "C.VAR_NB = 'NbMeanMeanIntensityComp'\n",
    "plt.ioff()\n",
    "fol = C.fol_plots/'per_plate'\n",
    "fol.mkdir(exist_ok=True)\n",
    "\n",
    "for p in dat.obs.plate_id.unique():\n",
    "    for cond in dat.obs.condition_name.unique():\n",
    "        fig = hexbin_all_chans(dat[dat.obs.plate_id == p,:], cond,figsize=(20,20), gridsize=10,channels=good_channels, measure_name_nb='NbMeanMeanIntensityComp')\n",
    "        target =bro.helpers.dbhelp.get_target_by_channel(chan)\n",
    "        fig.savefig(fol / f'conds_oexp_vs_meannb_{get_valid_filename(cond)}_{V.COL_GFP1}_p{p}.png')\n",
    "        plt.close()\n",
    "plt.ion()\n",
    "    \n"
   ]
  },
  {
   "cell_type": "raw",
   "metadata": {
    "pycharm": {
     "name": "#%% raw\n"
    }
   },
   "source": [
    "\n",
    "C.VAR_INT = 'MeanIntensityComp'\n",
    "C.VAR_NB = 'NbMaxMeanIntensityComp'\n",
    "plt.ioff()\n",
    "fol = C.fol_plots/'per_plate_maxnb'\n",
    "fol.mkdir(exist_ok=True)\n",
    "\n",
    "for p in dat.obs.plate_id.unique():\n",
    "    for cond in dat.obs.condition_name.unique():\n",
    "        fig = hexbin_all_chans(dat[dat.obs.plate_id == p,:], cond,figsize=(20,20), gridsize=10,channels=good_channels, measure_name_nb='NbMaxMeanIntensityComp')\n",
    "        target =bro.helpers.dbhelp.get_target_by_channel(chan)\n",
    "        fig.savefig(fol / f'conds_oexp_vs_meannb_{get_valid_filename(cond)}_{V.COL_GFP1}_{C.VAR_NB}_p{p}.png')\n",
    "        plt.close()\n",
    "plt.ion()\n",
    "    \n"
   ]
  },
  {
   "cell_type": "raw",
   "metadata": {
    "pycharm": {
     "name": "#%% raw\n"
    }
   },
   "source": [
    "\n",
    "plt.ioff()\n",
    "C.VAR_INT = 'MeanIntensityComp'\n",
    "C.VAR_NB = 'NbMeanMeanIntensityComp'\n",
    "fol = C.fol_plots/'per_plate_finegrid'\n",
    "fol.mkdir(exist_ok=True)\n",
    "\n",
    "for p in dat.obs.plate_id.unique():\n",
    "    for cond in dat.obs.condition_name.unique():\n",
    "        fig = hexbin_all_chans(dat[dat.obs.plate_id == p,:], cond,figsize=(20,20), gridsize=20,channels=good_channels, measure_name_nb='NbMeanMeanIntensityComp')\n",
    "        target =bro.helpers.dbhelp.get_target_by_channel(chan)\n",
    "        fig.savefig(fol / f'conds_oexp_vs_meannb_{get_valid_filename(cond)}_{V.COL_GFP1}_p{p}.png')\n",
    "        plt.close()\n",
    "plt.ion()\n",
    "    \n"
   ]
  },
  {
   "cell_type": "markdown",
   "metadata": {},
   "outputs": [],
   "source": [
    "# Make it per marker, construct and plate\n",
    "\n",
    "-> plot all the replicates next to each other:\n"
   ]
  },
  {
   "cell_type": "raw",
   "metadata": {
    "pycharm": {
     "name": "#%% raw\n"
    }
   },
   "source": [
    "\n",
    "C.VAR_INT = 'MeanIntensityComp'\n",
    "C.VAR_NB = 'NbMeanMeanIntensityComp'\n",
    "plt.ioff()\n",
    "fol = C.fol_plots/'per_markercond'\n",
    "fol.mkdir(exist_ok=True)\n",
    "\n",
    "\n",
    "for cond in dat.obs.condition_name.unique():\n",
    "    for chan in good_channels:\n",
    "        fig = hexbin_per_plate(dat, cond, chan,figsize=(20,3), gridsize=10, measure_name_nb='NbMeanMeanIntensityComp')\n",
    "        target =bro.helpers.dbhelp.get_target_by_channel(chan)\n",
    "        fig.savefig(fol / f'oexp_vs_meannb_{get_valid_filename(cond)}_{get_valid_filename(target)}_{chan}_{V.COL_GFP1}.png')\n",
    "        plt.close()\n",
    "plt.ion()\n"
   ]
  },
  {
   "cell_type": "raw",
   "metadata": {
    "pycharm": {
     "name": "#%% raw\n"
    }
   },
   "source": [
    "\n",
    "chan=good_channels[0]\n",
    "cond = dat.obs.condition_name.unique()[0]\n"
   ]
  },
  {
   "cell_type": "raw",
   "metadata": {
    "pycharm": {
     "name": "#%% raw\n"
    }
   },
   "source": [
    "\n",
    "        fig = hexbin_per_plate(dat, cond, chan,figsize=(20,3), gridsize=10, measure_name_nb='NbMeanMeanIntensityComp')\n",
    "        target =bro.helpers.dbhelp.get_target_by_channel(chan)\n",
    "\n",
    "\n"
   ]
  },
  {
   "cell_type": "markdown",
   "metadata": {
    "pycharm": {
     "name": "#%% md\n"
    }
   },
   "source": [
    "Wo mitosis/apoptosis"
   ]
  },
  {
   "cell_type": "raw",
   "metadata": {
    "pycharm": {
     "name": "#%% raw\n"
    }
   },
   "source": [
    "\n",
    "C.VAR_INT = 'MeanIntensityComp'\n",
    "C.VAR_NB = 'NbMeanNormMeanIntensityCom'\n"
   ]
  },
  {
   "cell_type": "raw",
   "metadata": {
    "pycharm": {
     "name": "#%% raw\n"
    }
   },
   "source": [
    "\n",
    "plt.ioff()\n",
    "fol = C.fol_plots/'per_plate_womitosis'\n",
    "fol.mkdir(exist_ok=True)\n",
    "\n",
    "for p in dat.obs.plate_id.unique():\n",
    "    for cond in dat.obs.condition_name.unique():\n",
    "        fig = hexbin_all_chans(dat[dat.obs.plate_id == p,:], cond,figsize=(20,20), gridsize=10,channels=good_channels)\n",
    "        target =bro.helpers.dbhelp.get_target_by_channel(chan)\n",
    "        fig.savefig(fol / f'conds_oexp_vs_meannb_{get_valid_filename(cond)}_{V.COL_GFP1}_p{p}.png')\n",
    "        plt.close()\n",
    "plt.ion()\n"
   ]
  },
  {
   "cell_type": "code",
   "execution_count": null,
   "metadata": {},
   "outputs": [],
   "source": []
  }
 ],
 "metadata": {
  "kernelspec": {
   "display_name": "Python 3",
   "language": "python",
   "name": "python3"
  },
  "language_info": {
   "codemirror_mode": {
    "name": "ipython",
    "version": 3
   },
   "file_extension": ".py",
   "mimetype": "text/x-python",
   "name": "python",
   "nbconvert_exporter": "python",
   "pygments_lexer": "ipython3",
   "version": "3.8.5"
  }
 },
 "nbformat": 4,
 "nbformat_minor": 2
}
