{
 "cells": [
  {
   "cell_type": "code",
   "execution_count": null,
   "metadata": {},
   "outputs": [],
   "source": [
    "import spherpro.bro as spb\n",
    "import spherpro.db as db\n",
    "import re\n",
    "import pathlib"
   ]
  },
  {
   "cell_type": "markdown",
   "metadata": {},
   "source": [
    "# Aim\n",
    "\n",
    "Remove the images that were manually determined bad from the valid images"
   ]
  },
  {
   "cell_type": "code",
   "execution_count": null,
   "metadata": {},
   "outputs": [],
   "source": [
    "from src.config import Conf"
   ]
  },
  {
   "cell_type": "code",
   "execution_count": null,
   "metadata": {},
   "outputs": [],
   "source": [
    "class V:\n",
    "    COL_EXCLUDED_IMG = 'excluded_img_id'\n",
    "\n",
    "class C(Conf):\n",
    "    fol_bad = pathlib.Path('/mnt/bbvolume/server_homes/vitoz/mnt/tmp/scratch/vitoz/Data/Analysis/20200303_phys_p173-p176-physiology_v3/plots/qc_classification/bad')\n",
    "    re_qc_fn = re.compile('qcplot_imgid_(?P<img_id>[0-9]+)')\n",
    "    fn_datbad = fol_bad / 'dat_manualbad.csv'\n"
   ]
  },
  {
   "cell_type": "code",
   "execution_count": null,
   "metadata": {},
   "outputs": [],
   "source": []
  },
  {
   "cell_type": "code",
   "execution_count": null,
   "metadata": {},
   "outputs": [],
   "source": [
    "bro = spb.get_bro(C.fn_config)"
   ]
  },
  {
   "cell_type": "code",
   "execution_count": null,
   "metadata": {},
   "outputs": [],
   "source": [
    "n_img = bro.session.query(db.valid_images.image_id).count()\n",
    "n_obj = (bro.session.query(db.valid_objects.object_id)\n",
    "            .join(db.objects)\n",
    "            .filter(db.objects.object_type == 'cell').count())\n",
    "print(n_img, n_obj)"
   ]
  },
  {
   "cell_type": "code",
   "execution_count": null,
   "metadata": {},
   "outputs": [],
   "source": [
    "def get_id(fn, re):\n",
    "    i = re.match(fn.stem).groups()[0]\n",
    "    return int(i)"
   ]
  },
  {
   "cell_type": "code",
   "execution_count": null,
   "metadata": {},
   "outputs": [],
   "source": [
    "bad_img_ids = [get_id(f, C.re_qc_fn) for f in C.fol_bad.glob('*.png')]"
   ]
  },
  {
   "cell_type": "code",
   "execution_count": null,
   "metadata": {},
   "outputs": [],
   "source": [
    "len(bad_img_ids)"
   ]
  },
  {
   "cell_type": "markdown",
   "metadata": {},
   "source": [
    "Get acsession, acid and cutid from 'bad' images"
   ]
  },
  {
   "cell_type": "code",
   "execution_count": null,
   "metadata": {},
   "outputs": [],
   "source": [
    "q = (bro.session.query(db.images.acquisition_id,\n",
    "                     db.images.image_id,\n",
    "                     db.images.image_number,\n",
    "                     db.images.crop_number,\n",
    "                     db.acquisitions.acquisition_mcd_acid,\n",
    "                     db.sites.site_mcd_panoramaid,\n",
    "                     db.slideacs.slideac_name)\n",
    "     .join(db.acquisitions, db.images.acquisition_id == db.acquisitions.acquisition_id)\n",
    "     .join(db.sites)\n",
    "     .join(db.slideacs)\n",
    "     .filter(db.images.image_id.in_(bad_img_ids))\n",
    "    )\n",
    "dat_badimgs = bro.doquery(q)\n",
    "dat_badimgs.head()"
   ]
  },
  {
   "cell_type": "code",
   "execution_count": null,
   "metadata": {},
   "outputs": [],
   "source": [
    "dat_badimgs.to_csv(C.fn_datbad, index=False)"
   ]
  }
 ],
 "metadata": {
  "jupytext": {
   "text_representation": {
    "extension": ".py",
    "format_name": "percent",
    "format_version": "1.3",
    "jupytext_version": "1.3.4"
   }
  },
  "kernelspec": {
   "display_name": "Python [conda env:20200303_phys_p173-p176-physiology_v3]",
   "language": "python",
   "name": "conda-env-20200303_phys_p173-p176-physiology_v3-py"
  },
  "language_info": {
   "codemirror_mode": {
    "name": "ipython",
    "version": 3
   },
   "file_extension": ".py",
   "mimetype": "text/x-python",
   "name": "python",
   "nbconvert_exporter": "python",
   "pygments_lexer": "ipython3",
   "version": "3.8.2"
  }
 },
 "nbformat": 4,
 "nbformat_minor": 4
}
