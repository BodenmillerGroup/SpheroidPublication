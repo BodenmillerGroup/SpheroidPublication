{
 "cells": [
  {
   "cell_type": "code",
   "execution_count": null,
   "metadata": {},
   "outputs": [],
   "source": [
    "sm = snakemake"
   ]
  },
  {
   "cell_type": "code",
   "execution_count": null,
   "metadata": {},
   "outputs": [],
   "source": [
    "import pandas as pd\n",
    "\n",
    "import spherpro.bro as spb\n",
    "import spherpro.db as db\n",
    "\n",
    "import numpy as np\n",
    "import matplotlib.pyplot as plt\n",
    "import plotnine as gg\n",
    "\n",
    "import scanpy as sc\n",
    "\n",
    "import pathlib"
   ]
  },
  {
   "cell_type": "code",
   "execution_count": null,
   "metadata": {},
   "outputs": [],
   "source": [
    "%load_ext autoreload\n",
    "%autoreload 2"
   ]
  },
  {
   "cell_type": "code",
   "execution_count": null,
   "metadata": {},
   "outputs": [],
   "source": [
    "from src.config import Conf\n",
    "from src.variables import Vars"
   ]
  },
  {
   "cell_type": "code",
   "execution_count": null,
   "metadata": {},
   "outputs": [],
   "source": [
    "class C(Conf):\n",
    "    fn_config = sm.input.fn_config\n",
    "    fol_paper = pathlib.Path(sm.output.fol_plots)\n",
    "    chan_pher2 = 'Gd155'\n",
    "    chans_dead = ['Yb172', 'Yb174']\n",
    "    fn_panel_ord = sm.input.fn_panel_ord"
   ]
  },
  {
   "cell_type": "code",
   "execution_count": null,
   "metadata": {},
   "outputs": [],
   "source": [
    "C.fn_panel_ord = sm.input.fn_panel_ord\n",
    "C.fol_paper.mkdir()"
   ]
  },
  {
   "cell_type": "code",
   "execution_count": null,
   "metadata": {},
   "outputs": [],
   "source": [
    "class V(Vars):\n",
    "    COL_LEIDEN = 'leiden'\n",
    "    FIL_MITOSIS = 'is_mitotic'\n",
    "    FIL_APOPTOSIS = 'is_apoptotic'"
   ]
  },
  {
   "cell_type": "code",
   "execution_count": null,
   "metadata": {},
   "outputs": [],
   "source": [
    "C.fol_paper.mkdir(exist_ok=True)"
   ]
  },
  {
   "cell_type": "code",
   "execution_count": null,
   "metadata": {},
   "outputs": [],
   "source": [
    "bro = spb.get_bro(C.fn_config)"
   ]
  },
  {
   "cell_type": "code",
   "execution_count": null,
   "metadata": {},
   "outputs": [],
   "source": [
    "sc.settings.figdir = str( C.fol_paper)\n",
    "sc.settings._vector_friendly = True"
   ]
  },
  {
   "cell_type": "code",
   "execution_count": null,
   "metadata": {},
   "outputs": [],
   "source": [
    "import spherpro.bromodules.helpers_vz as helpers_vz\n",
    "\n",
    "hpr = helpers_vz.HelperVZ(bro)"
   ]
  },
  {
   "cell_type": "code",
   "execution_count": null,
   "metadata": {},
   "outputs": [],
   "source": [
    "\n",
    "fil = bro.filters.measurements.get_measmeta_filter_statements(\n",
    "    channel_names=[None, None],\n",
    "    stack_names=['FullStackFiltered', 'FullStackComp'],\n",
    "    measurement_names=[('MeanIntensityComp', 'NbMeanMeanIntensityComp', 'NbMaxMeanIntensityComp'), 'MeanIntensity'],\n",
    "    measurement_types=[None, None])\n",
    "\n",
    "q_meas = (bro.data.get_measmeta_query()\n",
    "          .filter(fil)\n",
    "          .add_columns(db.ref_stacks.scale, db.ref_planes.channel_name,\n",
    "                      db.stacks.stack_name)\n",
    "         )\n",
    "\n",
    "q_obj = (bro.data.get_objectmeta_query()\n",
    "         .join(db.conditions, db.conditions.condition_id == db.images.condition_id)\n",
    "         .filter(db.objects.object_type == 'cell')\n",
    "         .add_entity(db.conditions)\n",
    "         .add_entity(db.acquisitions)\n",
    "         .add_entity(db.sites)\n",
    "         .add_entity(db.slideacs)\n",
    "         .add_entity(db.slides)\n",
    "        )"
   ]
  },
  {
   "cell_type": "markdown",
   "metadata": {},
   "outputs": [],
   "source": [
    "Query data"
   ]
  },
  {
   "cell_type": "code",
   "execution_count": null,
   "metadata": {},
   "outputs": [],
   "source": [
    "%%time\n",
    "dat = bro.io.objmeasurements.get_measurements(q_meas=q_meas, q_obj=q_obj)\n",
    "dat = bro.io.objmeasurements.scale_anndata(dat)"
   ]
  },
  {
   "cell_type": "code",
   "execution_count": null,
   "metadata": {},
   "outputs": [],
   "source": [
    "dat.obs = dat.obs.loc[:,~dat.obs.columns.duplicated()]\n",
    "dat.var = dat.var.loc[:,~dat.var.columns.duplicated()]"
   ]
  },
  {
   "cell_type": "markdown",
   "metadata": {},
   "outputs": [],
   "source": [
    "Transform data"
   ]
  },
  {
   "cell_type": "code",
   "execution_count": null,
   "metadata": {},
   "outputs": [],
   "source": [
    "def censor_dat(x, q=99.9):\n",
    "    x = np.copy(x)\n",
    "    pmax = np.percentile(x,q=q)\n",
    "    x[ x > pmax ] = pmax\n",
    "    pmin = np.percentile(x,q=100-q)\n",
    "    x[x < pmin] = pmin\n",
    "    return x\n",
    "\n",
    "def cur_logtransf(x):\n",
    "    return np.log10(x+0.1)\n",
    "\n",
    "def cur_transf(x):\n",
    "    x= censor_dat(x, 99.9)\n",
    "    x= cur_logtransf(x)\n",
    "    return x"
   ]
  },
  {
   "cell_type": "code",
   "execution_count": null,
   "metadata": {},
   "outputs": [],
   "source": [
    "dat.X = np.apply_along_axis(cur_transf, 0, dat.X)"
   ]
  },
  {
   "cell_type": "markdown",
   "metadata": {},
   "outputs": [],
   "source": [
    "Add metadata"
   ]
  },
  {
   "cell_type": "code",
   "execution_count": null,
   "metadata": {},
   "outputs": [],
   "source": [
    "bro.data._read_experiment_layout()"
   ]
  },
  {
   "cell_type": "code",
   "execution_count": null,
   "metadata": {},
   "outputs": [],
   "source": [
    "dat_d2rim = hpr.get_d2rim()"
   ]
  },
  {
   "cell_type": "code",
   "execution_count": null,
   "metadata": {},
   "outputs": [],
   "source": [
    "bro.helpers.anndata.add_anndata_obsmeta(dat, dat_d2rim.drop(columns=['object_number', 'image_id', 'object_type']))"
   ]
  },
  {
   "cell_type": "code",
   "execution_count": null,
   "metadata": {},
   "outputs": [],
   "source": [
    "bro.helpers.anndata.add_anndata_obsmeta(dat, bro.data.experiment_layout)"
   ]
  },
  {
   "cell_type": "code",
   "execution_count": null,
   "metadata": {},
   "outputs": [],
   "source": [
    "bro.helpers.anndata.add_anndata_varmeta(dat, bro.data.pannel.rename(columns={'metal': db.ref_planes.channel_name.key}))"
   ]
  },
  {
   "cell_type": "code",
   "execution_count": null,
   "metadata": {},
   "outputs": [],
   "source": [
    "fil = (dat.var[db.ref_planes.channel_name.key].isin(list(bro.data.pannel.query(f'working==1')['metal'])+[C.chan_pher2]) &\n",
    "       (dat.var[db.measurement_names.measurement_name.key] == 'MeanIntensityComp') &\n",
    "       (dat.var[db.stacks.stack_name.key] == 'FullStackFiltered'))\n",
    "datf = dat[:,fil]"
   ]
  },
  {
   "cell_type": "code",
   "execution_count": null,
   "metadata": {},
   "outputs": [],
   "source": []
  },
  {
   "cell_type": "code",
   "execution_count": null,
   "metadata": {},
   "outputs": [],
   "source": [
    "sc.pp.neighbors(datf, use_rep='X')"
   ]
  },
  {
   "cell_type": "code",
   "execution_count": null,
   "metadata": {},
   "outputs": [],
   "source": [
    "sc.tl.umap(datf)"
   ]
  },
  {
   "cell_type": "code",
   "execution_count": null,
   "metadata": {},
   "outputs": [],
   "source": [
    "fig = sc.pl.umap(datf, color=['cellline'], s=1,)"
   ]
  },
  {
   "cell_type": "code",
   "execution_count": null,
   "metadata": {},
   "outputs": [],
   "source": [
    "sc.pl.umap(datf, color=['cellline'], s=1, save='_celline_overview.pdf')"
   ]
  },
  {
   "cell_type": "code",
   "execution_count": null,
   "metadata": {},
   "outputs": [],
   "source": [
    "sc.tl.leiden(datf, resolution=1, key_added='leiden')"
   ]
  },
  {
   "cell_type": "code",
   "execution_count": null,
   "metadata": {},
   "outputs": [],
   "source": [
    "sc.pl.stacked_violin(datf, var_names=datf.var.goodname, groupby='leiden', swap_axes=True, dendrogram=False, gene_symbols='goodname')"
   ]
  },
  {
   "cell_type": "code",
   "execution_count": null,
   "metadata": {},
   "outputs": [],
   "source": [
    "(datf.obs.groupby(['leiden', 'cellline']).size().rename('n').reset_index() >> \n",
    " gg.ggplot(gg.aes(x='leiden', y='n')) +\n",
    " gg.geom_bar( gg.aes(fill='cellline'),stat='identity', position='dodge')+\n",
    " #gg.coord_cartesian(ylim=(0,20))+\n",
    " gg.theme(figure_size=(20,5))\n",
    "    \n",
    " \n",
    " \n",
    ")"
   ]
  },
  {
   "cell_type": "code",
   "execution_count": null,
   "metadata": {},
   "outputs": [],
   "source": [
    "(datf.obs.groupby(['leiden', 'cellline']).size().rename('n').reset_index() >> \n",
    " gg.ggplot(gg.aes(x='cellline', y='n')) +\n",
    " gg.facet_wrap('leiden',scales='free')+\n",
    " gg.geom_bar( gg.aes(fill='cellline'),stat='identity', position='dodge')+\n",
    " #gg.coord_cartesian(ylim=(0,20))+\n",
    " gg.theme(figure_size=(20,5))\n",
    "    \n",
    " \n",
    " \n",
    ")"
   ]
  },
  {
   "cell_type": "code",
   "execution_count": null,
   "metadata": {},
   "outputs": [],
   "source": []
  },
  {
   "cell_type": "markdown",
   "metadata": {},
   "outputs": [],
   "source": [
    "Calculate for each image what fraction of cells are comming from a cluster that is dominated by the same cell line"
   ]
  },
  {
   "cell_type": "code",
   "execution_count": null,
   "metadata": {},
   "outputs": [],
   "source": [
    "\n"
   ]
  },
  {
   "cell_type": "code",
   "execution_count": null,
   "metadata": {},
   "outputs": [],
   "source": [
    "tdat = (datf.obs.groupby(['leiden', 'cellline']).size().rename('n')\n",
    " .groupby('leiden').apply(lambda x: x==max(x)).rename('is_majority')\n",
    " .reset_index()\n",
    " .merge(datf.obs[['cellline', 'leiden', 'image_id', 'object_id', 'object_number']]) \n",
    ")"
   ]
  },
  {
   "cell_type": "code",
   "execution_count": null,
   "metadata": {},
   "outputs": [],
   "source": [
    "tdat2 = (tdat\n",
    " .groupby(['image_id','cellline'],observed=True)['is_majority'].mean()\n",
    "\n",
    ")\n",
    "print(tdat2.sort_values())\n",
    "(tdat2.reset_index() >>\n",
    "  gg.ggplot(gg.aes(x='is_majority', fill='cellline'))+\n",
    " gg.geom_histogram()+\n",
    " gg.coord_cartesian(xlim=(0.75,1.0))+\n",
    " gg.scale_y_sqrt()\n",
    " \n",
    ")"
   ]
  },
  {
   "cell_type": "code",
   "execution_count": null,
   "metadata": {},
   "outputs": [],
   "source": [
    "p = (tdat2.reset_index() >>\n",
    "  gg.ggplot(gg.aes(x='is_majority'))\n",
    "  + gg.geom_histogram()\n",
    " + gg.ylab('Number of sphere slices in bin\\n [sqrt scaled axis]')\n",
    " + gg.xlab('Fraction of cells per sphere slice\\n'\n",
    "           'belonging to a cluster with\\n a consistent cell line label')\n",
    "  + gg.coord_cartesian(xlim=(0.75,1.0))\n",
    "  + gg.scale_y_sqrt()\n",
    "  #+ gg.guides(fill=gg.guide_legend(title='Cell Line'))\n",
    "  + gg.theme(figure_size=(2,1),text=gg.element_text(size=6))\n",
    ")\n",
    "gg.ggsave(p, C.fol_paper /'db_qc_cell_assignment.pdf')\n",
    "p"
   ]
  },
  {
   "cell_type": "code",
   "execution_count": null,
   "metadata": {},
   "outputs": [],
   "source": [
    "p = (datf.obs.groupby(['leiden', 'cellline']).size().rename('n').reset_index() >> \n",
    " gg.ggplot(gg.aes(x='leiden', y='n'))\n",
    " #gg.facet_wrap('leiden',scales='free')+\n",
    " + gg.geom_bar( gg.aes(fill='cellline'),stat='identity', position='dodge')\n",
    " #gg.coord_cartesian(ylim=(0,20))+\n",
    " + gg.ylab('Number of cells')\n",
    " + gg.xlab('Cluster number')\n",
    " + gg.guides(fill=gg.guide_legend(title='Cell Line'))\n",
    " + gg.theme(figure_size=(2,1),text=gg.element_text(size=6))\n",
    ")\n",
    "gg.ggsave(p, C.fol_paper /'db_qc_cluster_assignment.pdf')\n",
    "p"
   ]
  },
  {
   "cell_type": "code",
   "execution_count": null,
   "metadata": {},
   "outputs": [],
   "source": [
    "sc.pl.umap(datf, color=['leiden'], s=1, save='_celline_leiden.pdf')"
   ]
  },
  {
   "cell_type": "code",
   "execution_count": null,
   "metadata": {},
   "outputs": [],
   "source": [
    "tdat2.describe()"
   ]
  },
  {
   "cell_type": "code",
   "execution_count": null,
   "metadata": {},
   "outputs": [],
   "source": [
    "tdat['image_id'].nunique()"
   ]
  },
  {
   "cell_type": "markdown",
   "metadata": {},
   "outputs": [],
   "source": [
    "-> Maximal 12% of cells do not belong to the majority class cluster in any image"
   ]
  },
  {
   "cell_type": "markdown",
   "metadata": {},
   "outputs": [],
   "source": [
    "## There seem to be a split of of the UMAP/clusters do to pHer2\n",
    "This is as mean pHer2 levels can often be exactly 0.\n",
    "\n",
    "Check if whole spheres are pHer2 positive or if spheres can have both pos and neg slices"
   ]
  },
  {
   "cell_type": "markdown",
   "metadata": {},
   "outputs": [],
   "source": [
    "Check clusters with median > 0 pHer2"
   ]
  },
  {
   "cell_type": "code",
   "execution_count": null,
   "metadata": {
    "lines_to_next_cell": 2
   },
   "outputs": [],
   "source": [
    "d=(datf.obs[[V.COL_LEIDEN]]\n",
    "    .assign(**{V.COL_VALUE: datf.X[:, datf.var[V.COL_CHANNELNAME] == C.chan_pher2]})\n",
    "    .groupby(V.COL_LEIDEN).median()\n",
    "    \n",
    ")\n",
    "d.hist()"
   ]
  },
  {
   "cell_type": "code",
   "execution_count": null,
   "metadata": {},
   "outputs": [],
   "source": [
    "clust_her2pos = d.query(f'{V.COL_VALUE} > -0.5').index.values"
   ]
  },
  {
   "cell_type": "code",
   "execution_count": null,
   "metadata": {},
   "outputs": [],
   "source": [
    "t_her2 = (tdat\n",
    " .assign(**{'is_her2': lambda x: x['leiden'].isin(clust_her2pos).astype('float')})\n",
    " .merge(datf.obs)\n",
    " .assign(**{'date': lambda d: d['slideac_name'].map(lambda x: pd.to_datetime(x.split('_')[0]))})\n",
    " .groupby(['image_id']+['cellline',\n",
    "                        'condition_id',\n",
    "                        'time_point',\n",
    "                        'plate_id',\n",
    "                        'hastelox',\n",
    "                        'well_name','bc_x', 'bc_y', \n",
    "                        'slideac_name','date'\n",
    "                        ],observed=True)[['is_her2']].mean()\n",
    "\n",
    ")"
   ]
  },
  {
   "cell_type": "code",
   "execution_count": null,
   "metadata": {},
   "outputs": [],
   "source": [
    "t_her2['is_her2'].hist(bins=30)\n",
    "plt.suptitle('Fraction of cells of an image belonging to a pHer2 positive cluster')"
   ]
  },
  {
   "cell_type": "markdown",
   "metadata": {},
   "outputs": [],
   "source": [
    "-> There seem to be some images with exclusively positive cells"
   ]
  },
  {
   "cell_type": "code",
   "execution_count": null,
   "metadata": {},
   "outputs": [],
   "source": [
    "(t_her2.reset_index() >>\n",
    "    gg.ggplot(gg.aes(x='is_her2'))+\n",
    "     gg.facet_grid('plate_id~cellline')+\n",
    "     gg.geom_histogram(size=1)\n",
    ")"
   ]
  },
  {
   "cell_type": "markdown",
   "metadata": {},
   "outputs": [],
   "source": [
    "It seems that all T47D seem to be positive, for the others there seems to be quite a spread between\n",
    "fraction of pHer2 positive cells per images.\n",
    "\n",
    "How does this look per sphere?"
   ]
  },
  {
   "cell_type": "code",
   "execution_count": null,
   "metadata": {},
   "outputs": [],
   "source": [
    "t_her2_cond =(t_her2\n",
    "    .assign(**{'all_her2': lambda x: (x['is_her2'] > 0.50).astype(np.float)})\n",
    "    .groupby(['cellline',\n",
    "                        'condition_id',\n",
    "                        'time_point',\n",
    "                        'plate_id',\n",
    "                        'hastelox',\n",
    "                        'well_name','bc_x', 'bc_y'\n",
    "                        ], observed=True)['all_her2'].describe().reset_index()\n",
    ")"
   ]
  },
  {
   "cell_type": "code",
   "execution_count": null,
   "metadata": {},
   "outputs": [],
   "source": [
    "t_her2_cond['mean'].hist(bins=30)\n",
    "plt.title('Fraction of images per sphere with more than 50% of Her2 positive cells')"
   ]
  },
  {
   "cell_type": "code",
   "execution_count": null,
   "metadata": {},
   "outputs": [],
   "source": [
    "(t_her2_cond >>\n",
    "    gg.ggplot(gg.aes(x='count', y='mean'))+\n",
    "     gg.facet_grid('plate_id~cellline')+\n",
    "     gg.geom_point(size=1)+\n",
    "     gg.xlab('Nr of images per sphere')+\n",
    "     gg.ylab('Fraction of images with > 50% pHer2 positive cells')\n",
    ")"
   ]
  },
  {
   "cell_type": "markdown",
   "metadata": {},
   "outputs": [],
   "source": [
    "Seem to be quite random - is there a pattern on the plates?"
   ]
  },
  {
   "cell_type": "code",
   "execution_count": null,
   "metadata": {},
   "outputs": [],
   "source": [
    "(t_her2_cond >>\n",
    "    gg.ggplot(gg.aes(x='bc_x', y='bc_y',fill='mean'))+\n",
    "     gg.facet_wrap('plate_id',ncol=2)+\n",
    "     gg.geom_point(size=10)+\n",
    "     gg.ggtitle('Fraction of images with > 50% pHer2 positive cells over plate')+\n",
    "     gg.theme(figure_size=(10,2))\n",
    ")"
   ]
  },
  {
   "cell_type": "markdown",
   "metadata": {},
   "outputs": [],
   "source": [
    "Seems to be that there are more pHer2 negative images in the plate 176 (96h)"
   ]
  },
  {
   "cell_type": "markdown",
   "metadata": {},
   "outputs": [],
   "source": [
    "Is there a trend over the acquisition time?"
   ]
  },
  {
   "cell_type": "code",
   "execution_count": null,
   "metadata": {},
   "outputs": [],
   "source": [
    "(t_her2.reset_index() >>\n",
    "  gg.ggplot(gg.aes(x='np.argsort(date)', y='is_her2'))+\n",
    " gg.facet_wrap('cellline')+\n",
    " gg.geom_point()+\n",
    " gg.geom_smooth()\n",
    ")"
   ]
  },
  {
   "cell_type": "markdown",
   "metadata": {},
   "outputs": [],
   "source": [
    "Doesn't seem to be the case, at least not strongly"
   ]
  },
  {
   "cell_type": "raw",
   "metadata": {},
   "outputs": [],
   "source": [
    "t_her2_slide =(t_her2\n",
    "    .assign(**{'all_her2': lambda x: (x['is_her2'] > 0.9).astype(np.float)})\n",
    "    .groupby(['slideac_name'\n",
    "                        ], observed=True)['all_her2'].describe().reset_index()\n",
    ")"
   ]
  },
  {
   "cell_type": "raw",
   "metadata": {},
   "outputs": [],
   "source": [
    "t_her2_slide['date'] = t_her2_slide['slideac_name'].map(lambda x: int(x.split('_')[0]))"
   ]
  },
  {
   "cell_type": "markdown",
   "metadata": {},
   "outputs": [],
   "source": [
    "Instead of looking via clusters, how does this look if we directly look for cells\n",
    "with 0 mean counts:  \n",
    "Her2 < log10(0.01)"
   ]
  },
  {
   "cell_type": "code",
   "execution_count": null,
   "metadata": {},
   "outputs": [],
   "source": [
    "datf.var.columns"
   ]
  },
  {
   "cell_type": "code",
   "execution_count": null,
   "metadata": {},
   "outputs": [],
   "source": [
    "t_her2 = (datf.obs\n",
    " .join(pd.DataFrame({'ct_her2': datf[:, datf.var.channel_name == C.chan_pher2].X.squeeze()}, index=datf.obs.index))\n",
    " .assign(**{'is_her2': lambda x: x['ct_her2'] >-1})\n",
    " .assign(**{'date': lambda d: d['slideac_name'].map(lambda x: pd.to_datetime(x.split('_')[0]))})\n",
    " .groupby(['image_id']+['cellline',\n",
    "                        'condition_id',\n",
    "                        'time_point',\n",
    "                        'plate_id',\n",
    "                        'hastelox',\n",
    "                        'well_name','bc_x', 'bc_y', \n",
    "                        'slideac_name','date'\n",
    "                        ],observed=True)[['is_her2']].mean()\n",
    ")"
   ]
  },
  {
   "cell_type": "code",
   "execution_count": null,
   "metadata": {},
   "outputs": [],
   "source": [
    "(t_her2.reset_index() >>\n",
    "  gg.ggplot(gg.aes(x='np.argsort(date)', y='is_her2'))+\n",
    " gg.facet_grid('cellline~plate_id')+\n",
    " gg.geom_point()+\n",
    " gg.geom_smooth())"
   ]
  },
  {
   "cell_type": "code",
   "execution_count": null,
   "metadata": {},
   "outputs": [],
   "source": [
    "(t_her2.reset_index() >>\n",
    "  gg.ggplot(gg.aes(x='(np.argsort(condition_id))', y='is_her2', group='condition_id'))+\n",
    " gg.facet_grid('cellline~plate_id')+\n",
    " gg.geom_boxplot())"
   ]
  },
  {
   "cell_type": "markdown",
   "metadata": {},
   "outputs": [],
   "source": [
    "-> Looks similar\n",
    "\n",
    "Conclusion: The pHer2 being zero sometimes does not seem to be something systematically drifting over acquiisiton time. Also it does not seem to be affecting only certain images or spheres.\n",
    "\n",
    "Thus I conclude that pHer2 being sometimes low may be something biological and I leave pHer2 in the data."
   ]
  },
  {
   "cell_type": "raw",
   "metadata": {},
   "outputs": [],
   "source": [
    "img = bro.plots.heatmask.assemble_heatmap_image(tdat.rename(columns={'is_majority': 'value'}).query('image_id == 232'))\n",
    "bro.plots.heatmask.do_heatplot(img)"
   ]
  },
  {
   "cell_type": "markdown",
   "metadata": {},
   "outputs": [],
   "source": [
    "## Continue plotting:"
   ]
  },
  {
   "cell_type": "code",
   "execution_count": null,
   "metadata": {},
   "outputs": [],
   "source": [
    "sc.pl.umap(datf, color=['leiden'], s=1,)"
   ]
  },
  {
   "cell_type": "code",
   "execution_count": null,
   "metadata": {},
   "outputs": [],
   "source": [
    "for c in datf.obs.cellline.unique():\n",
    "    xy = datf.obsm['X_umap'][datf.obs.cellline==c,:]\n",
    "    plt.scatter(xy[:,0],xy[:,1], s=1,rasterized=True)\n",
    "    plt.title(c)\n",
    "    plt.show()\n",
    "    plt.close()"
   ]
  },
  {
   "cell_type": "code",
   "execution_count": null,
   "metadata": {},
   "outputs": [],
   "source": [
    "sc.pl.umap(datf, color=['cellline',\n",
    "                        'concentration',\n",
    "                        'time_point',\n",
    "                        'plate_id',\n",
    "                        'hastelox',\n",
    "                        'well_name','bc_x', 'bc_y'\n",
    "                        ], s=1)"
   ]
  },
  {
   "cell_type": "code",
   "execution_count": null,
   "metadata": {},
   "outputs": [],
   "source": [
    "sc.pl.umap(datf, color=list(datf.var.goodname)+['cellline',\n",
    "                        'concentration',\n",
    "                        'time_point',\n",
    "                        'plate_id',\n",
    "                        'distrim'\n",
    "                        ], gene_symbols='goodname', s=1)"
   ]
  },
  {
   "cell_type": "code",
   "execution_count": null,
   "metadata": {},
   "outputs": [],
   "source": [
    "sc.pl.umap(datf, color=list(datf.var.goodname)+['cellline',\n",
    "                        'concentration',\n",
    "                        'time_point',\n",
    "                        'plate_id',\n",
    "                        'distrim'\n",
    "                        ], gene_symbols='goodname', s=1)"
   ]
  },
  {
   "cell_type": "markdown",
   "metadata": {},
   "outputs": [],
   "source": [
    "Load Mitosis/Apoptosis Filter"
   ]
  },
  {
   "cell_type": "code",
   "execution_count": null,
   "metadata": {},
   "outputs": [],
   "source": [
    "q = (bro.session.query(db.object_filters,\n",
    "                   db.object_filter_names.object_filter_name)\n",
    "    .join(db.object_filter_names)\n",
    "     .filter(db.object_filter_names.object_filter_name.in_([V.FIL_MITOSIS,\n",
    "                                        V.FIL_APOPTOSIS]))\n",
    ")\n",
    "dat_fil = (bro.doquery(q)\n",
    "           .pivot_table(values=V.COL_FILTERVAL, index=V.COL_OBJID,\n",
    "                        columns=db.object_filter_names.object_filter_name.key)\n",
    "           .reset_index()\n",
    "          )"
   ]
  },
  {
   "cell_type": "code",
   "execution_count": null,
   "metadata": {},
   "outputs": [],
   "source": [
    "datf = bro.helpers.anndata.add_anndata_obsmeta(datf, dat_fil)"
   ]
  },
  {
   "cell_type": "code",
   "execution_count": null,
   "metadata": {},
   "outputs": [],
   "source": [
    "sc.pl.umap(datf, color=list(datf.var.goodname)+['cellline', V.FIL_MITOSIS, V.FIL_APOPTOSIS,\n",
    "                        'concentration',\n",
    "                        'time_point',\n",
    "                        'plate_id',\n",
    "                        'distrim'\n",
    "                        ],\n",
    "           gene_symbols='goodname', s=1, save='_markers.pdf')"
   ]
  },
  {
   "cell_type": "code",
   "execution_count": null,
   "metadata": {},
   "outputs": [],
   "source": [
    "\n"
   ]
  },
  {
   "cell_type": "code",
   "execution_count": null,
   "metadata": {},
   "outputs": [],
   "source": [
    "sc.set_figure_params(dpi_save=600,vector_friendly=True, figsize=(1, 1), fontsize=6)\n",
    "sc.pl.umap(datf, color=list(datf.var.goodname)+['cellline', V.FIL_MITOSIS, V.FIL_APOPTOSIS,\n",
    "                            'concentration',\n",
    "                            'time_point',\n",
    "                            'plate_id',\n",
    "                            'distrim'\n",
    "                            ],\n",
    "               gene_symbols='goodname', s=1)"
   ]
  },
  {
   "cell_type": "code",
   "execution_count": null,
   "metadata": {},
   "outputs": [],
   "source": [
    "dat_panel_ord = pd.read_csv(C.fn_panel_ord)"
   ]
  },
  {
   "cell_type": "code",
   "execution_count": null,
   "metadata": {},
   "outputs": [],
   "source": [
    "COL_CLASS = 'class'\n",
    "COL_ORD_WITHIN = 'ord_within_class'\n",
    "COL_METAL = 'metal'\n",
    "class_ord = ['tag','egf','mtor', 'cellcycle', 'stress', 'apoptosis','total']\n",
    "dat_panel_ord[COL_CLASS] = pd.Categorical(dat_panel_ord[COL_CLASS], categories=class_ord)"
   ]
  },
  {
   "cell_type": "code",
   "execution_count": null,
   "metadata": {},
   "outputs": [],
   "source": [
    "ord_pltname = datf.var.merge(dat_panel_ord[[COL_METAL, COL_CLASS, COL_ORD_WITHIN]], left_on=V.COL_CHANNELNAME,\n",
    "                             right_on=COL_METAL).sort_values([ COL_CLASS, COL_ORD_WITHIN])[V.COL_GOODNAME].unique()"
   ]
  },
  {
   "cell_type": "code",
   "execution_count": null,
   "metadata": {},
   "outputs": [],
   "source": [
    "sc.set_figure_params(dpi_save=600,vector_friendly=True, figsize=(0.8, 0.8), fontsize=6)\n",
    "sc.pl.umap(datf, color=['cellline', 'distrim']+ list(datf.var.goodname),\n",
    "               gene_symbols='goodname', s=0.1, save='_markers.svg')"
   ]
  },
  {
   "cell_type": "code",
   "execution_count": null,
   "metadata": {},
   "outputs": [],
   "source": [
    "fig = sc.pl.umap(datf, color=['cellline', 'distrim']+ list(datf.var.goodname),\n",
    "               gene_symbols='goodname', s=0.1,return_fig=True)"
   ]
  },
  {
   "cell_type": "code",
   "execution_count": null,
   "metadata": {},
   "outputs": [],
   "source": [
    "for ax in fig.axes:\n",
    "    ax.set_xlabel('')\n",
    "    ax.set_ylabel('')\n",
    "    ax.xaxis.labelpad=0.0 \n",
    "    ttl = ax.title\n",
    "    ttl.set_position([.5, 1.0])"
   ]
  },
  {
   "cell_type": "code",
   "execution_count": null,
   "metadata": {},
   "outputs": [],
   "source": [
    "fig.tight_layout()"
   ]
  },
  {
   "cell_type": "code",
   "execution_count": null,
   "metadata": {},
   "outputs": [],
   "source": [
    "fig"
   ]
  },
  {
   "cell_type": "code",
   "execution_count": null,
   "metadata": {},
   "outputs": [],
   "source": [
    "datf.obs['time_point'] = datf.obs['time_point'].astype(pd.CategoricalDtype(categories=sorted(datf.obs['time_point'].unique())))\n",
    "datf.obs['concentration'] = datf.obs['concentration'].astype(pd.CategoricalDtype(categories=sorted(datf.obs['concentration'].unique())))"
   ]
  },
  {
   "cell_type": "code",
   "execution_count": null,
   "metadata": {},
   "outputs": [],
   "source": [
    "marks = ['cellline']+ list(ord_pltname) + ['distrim', 'concentration', 'time_point', V.FIL_MITOSIS, V.FIL_APOPTOSIS]\n",
    "plt.ioff()\n",
    "ncol = 5\n",
    "fig, axs = plt.subplots(nrows=int(np.ceil(len(marks)/ncol)), ncols=ncol, figsize=(5,6))\n",
    "\n",
    "for ax, m in zip(axs.flatten(), marks):\n",
    "    sc.pl.umap(datf, color=m,\n",
    "               gene_symbols='goodname', s=0.1, ax=ax,title='')\n",
    "    ax.set_xlabel('')\n",
    "    ax.set_ylabel('')\n",
    "    ax.xaxis.labelpad=0.0 \n",
    "    ttl = ax.title\n",
    "    ttl.set_position([.5, 0.5])\n",
    "    ax.set_aspect('equal')\n",
    "    ax.set_title(m, pad=0)\n",
    "plt.ion()"
   ]
  },
  {
   "cell_type": "code",
   "execution_count": null,
   "metadata": {},
   "outputs": [],
   "source": [
    "import anndata as ad\n"
   ]
  },
  {
   "cell_type": "code",
   "execution_count": null,
   "metadata": {},
   "outputs": [],
   "source": [
    "x = np.arange(datf.shape[0])\n",
    "np.random.shuffle(x)"
   ]
  },
  {
   "cell_type": "code",
   "execution_count": null,
   "metadata": {},
   "outputs": [],
   "source": [
    "obsm = {'X_umap': datf.obsm['X_umap'][x,:]}\n",
    "obsm"
   ]
  },
  {
   "cell_type": "code",
   "execution_count": null,
   "metadata": {},
   "outputs": [],
   "source": [
    "datf2 = ad.AnnData(datf.X[x,:], obs=datf.obs.iloc[x,:], var=datf.var, obsm=obsm)"
   ]
  },
  {
   "cell_type": "code",
   "execution_count": null,
   "metadata": {},
   "outputs": [],
   "source": []
  },
  {
   "cell_type": "code",
   "execution_count": null,
   "metadata": {},
   "outputs": [],
   "source": [
    "\n",
    "sc.set_figure_params(dpi_save=600,vector_friendly=True, figsize=(1.5, 1.5), fontsize=6)\n",
    "marks = ['distrim'] + list(ord_pltname) + ['cellline', 'concentration', 'time_point', V.FIL_MITOSIS, V.FIL_APOPTOSIS]\n",
    "plt.ioff()\n",
    "ncol = 5\n",
    "fig, axs = plt.subplots(nrows=int(np.ceil(len(marks)/ncol)), ncols=ncol, figsize=(6,7))\n",
    "\n",
    "for ax, m in zip(axs.flatten(), marks):\n",
    "    sc.pl.umap(datf2, color=m,\n",
    "               gene_symbols='goodname', s=0.1, ax=ax,title='')\n",
    "    ax.set_xlabel('')\n",
    "    ax.set_ylabel('')\n",
    "    ax.xaxis.labelpad=0.0 \n",
    "    ttl = ax.title\n",
    "    ttl.set_position([.5, 0.5])\n",
    "    ax.set_aspect('equal')\n",
    "    ax.set_title(m, pad=0)\n",
    "plt.ion()"
   ]
  },
  {
   "cell_type": "code",
   "execution_count": null,
   "metadata": {},
   "outputs": [],
   "source": [
    "#fig.tight_layout()"
   ]
  },
  {
   "cell_type": "code",
   "execution_count": null,
   "metadata": {},
   "outputs": [],
   "source": [
    "fig.savefig(C.fol_paper / 'umap_markers.svg', dpi=600)"
   ]
  },
  {
   "cell_type": "code",
   "execution_count": null,
   "metadata": {},
   "outputs": [],
   "source": []
  }
 ],
 "metadata": {
  "jupytext": {
   "text_representation": {
    "extension": ".py",
    "format_name": "percent",
    "format_version": "1.3",
    "jupytext_version": "1.3.4"
   }
  },
  "kernelspec": {
   "display_name": "Python 3",
   "language": "python",
   "name": "python3"
  },
  "language_info": {
   "codemirror_mode": {
    "name": "ipython",
    "version": 3
   },
   "file_extension": ".py",
   "mimetype": "text/x-python",
   "name": "python",
   "nbconvert_exporter": "python",
   "pygments_lexer": "ipython3",
   "version": "3.8.5"
  }
 },
 "nbformat": 4,
 "nbformat_minor": 4
}
