{
 "cells": [
  {
   "cell_type": "markdown",
   "metadata": {},
   "outputs": [],
   "source": [
    "# Prepare data for alignment\n",
    "\n",
    "This will read in the metadata and match IMC panoramas with slidescan scenes.\n",
    "\n",
    "Further it will export the slidescan scenes as individual images.\n",
    "\n"
   ]
  },
  {
   "cell_type": "code",
   "execution_count": null,
   "metadata": {},
   "outputs": [],
   "source": [
    "%load_ext autoreload\n",
    "\n",
    "%autoreload 2"
   ]
  },
  {
   "cell_type": "code",
   "execution_count": null,
   "metadata": {},
   "outputs": [],
   "source": [
    "Cin = snakemake.input\n",
    "Cout = snakemake.output\n",
    "Cparams = snakemake.params"
   ]
  },
  {
   "cell_type": "code",
   "execution_count": null,
   "metadata": {},
   "outputs": [],
   "source": [
    "import pathlib\n",
    "import pandas as pd\n",
    "import numpy as np"
   ]
  },
  {
   "cell_type": "code",
   "execution_count": null,
   "metadata": {},
   "outputs": [],
   "source": [
    "import workflow.scripts.utils_alignment.library as lib\n",
    "\n",
    "import imctools.librarybase as imclib\n",
    "import imctools.library as imclib2"
   ]
  },
  {
   "cell_type": "code",
   "execution_count": null,
   "metadata": {},
   "outputs": [],
   "source": [
    "import skimage.transform as sktranf"
   ]
  },
  {
   "cell_type": "code",
   "execution_count": null,
   "metadata": {},
   "outputs": [],
   "source": [
    "import matplotlib as mpl\n",
    "import matplotlib.pyplot as plt\n",
    "%matplotlib inline"
   ]
  },
  {
   "cell_type": "markdown",
   "metadata": {},
   "outputs": [],
   "source": [
    "## Config"
   ]
  },
  {
   "cell_type": "code",
   "execution_count": null,
   "metadata": {},
   "outputs": [],
   "source": [
    "import workflow.scripts.utils_alignment.variables as V"
   ]
  },
  {
   "cell_type": "code",
   "execution_count": null,
   "metadata": {},
   "outputs": [],
   "source": [
    "for f in [pathlib.Path(Cout.fol_out_imgs)]:\n",
    "    f.mkdir(parents=True, exist_ok=True)"
   ]
  },
  {
   "cell_type": "code",
   "execution_count": null,
   "metadata": {},
   "outputs": [],
   "source": [
    "dat_slidemeta = pd.read_csv(Cin.fn_slidematch)"
   ]
  },
  {
   "cell_type": "code",
   "execution_count": null,
   "metadata": {
    "lines_to_next_cell": 2
   },
   "outputs": [],
   "source": [
    "fns = [f.stem for f in pathlib.Path(Cin.fol_imc).glob('*') if f.is_dir()]"
   ]
  },
  {
   "cell_type": "code",
   "execution_count": null,
   "metadata": {},
   "outputs": [],
   "source": [
    "dat_imcac = lib.get_imcfn_meta(fns, Cparams.re_imcac)\n",
    "dat_imcac = dat_imcac.merge(dat_slidemeta[[V.SAMPLEBLOCK, V.SLIDENUMBER, V.SLIDE]],how='left')"
   ]
  },
  {
   "cell_type": "code",
   "execution_count": null,
   "metadata": {},
   "outputs": [],
   "source": [
    "dat = list()\n",
    "for fn_slide, dat_slide in dat_imcac.groupby(V.SLIDESCAN):\n",
    "    dat_scene_cord = lib.get_scene_meta(pathlib.Path(Cin.fol_slide) / f'{fn_slide}.czi')\n",
    "    dat.append(dat_scene_cord)\n",
    "dat_scene_cord = pd.concat(dat).reset_index()"
   ]
  },
  {
   "cell_type": "code",
   "execution_count": null,
   "metadata": {},
   "outputs": [],
   "source": [
    "d_pano = []\n",
    "d_ac = []\n",
    "d_acroi = []\n",
    "for fn in dat_imcac[V.SESSIONID]:\n",
    "    m = lib.ImcMeta(pathlib.Path(Cin.fol_imc) / fn)\n",
    "    dat_pano_cord, dat_ac_cord = lib.get_imc_meta(m)\n",
    "    d_pano.append(dat_pano_cord)\n",
    "    d_ac.append(dat_ac_cord)\n",
    "dat_pano_cord = pd.concat(d_pano).reset_index()\n",
    "dat_ac_cord = pd.concat(d_ac).reset_index()"
   ]
  },
  {
   "cell_type": "code",
   "execution_count": null,
   "metadata": {
    "lines_to_next_cell": 2
   },
   "outputs": [],
   "source": [
    "lib.add_center(dat_pano_cord)"
   ]
  },
  {
   "cell_type": "code",
   "execution_count": null,
   "metadata": {},
   "outputs": [],
   "source": [
    "params = np.loadtxt(Cin.fn_transf_ifslide_imcslide)\n",
    "transf_ifslide_imcslide = sktranf.AffineTransform(params)"
   ]
  },
  {
   "cell_type": "code",
   "execution_count": null,
   "metadata": {},
   "outputs": [],
   "source": [
    "lib.add_center(dat_scene_cord, transform=transf_ifslide_imcslide)"
   ]
  },
  {
   "cell_type": "code",
   "execution_count": null,
   "metadata": {},
   "outputs": [],
   "source": [
    "lib.add_order(dat_scene_cord, V.SLIDE)"
   ]
  },
  {
   "cell_type": "code",
   "execution_count": null,
   "metadata": {},
   "outputs": [],
   "source": []
  },
  {
   "cell_type": "code",
   "execution_count": null,
   "metadata": {},
   "outputs": [],
   "source": [
    "dat_pano_cord = dat_pano_cord.apply(lib.get_match, axis=1, dat=dat_scene_cord, idcol=V.SCENEID)"
   ]
  },
  {
   "cell_type": "code",
   "execution_count": null,
   "metadata": {},
   "outputs": [],
   "source": [
    "dat_pano_cord"
   ]
  },
  {
   "cell_type": "code",
   "execution_count": null,
   "metadata": {},
   "outputs": [],
   "source": [
    "d = []\n",
    "\n",
    "for grp, dat in dat_pano_cord.merge(dat_imcac[[V.SESSIONID, V.SLIDE]]).groupby(V.SLIDE):\n",
    "    d.append(dat.apply(lib.get_match, axis=1,\n",
    "                                 dat=dat_scene_cord.query(f'{V.SLIDE}==\"{grp}\"'), idcol=V.SCENEID))\n",
    "dat_pano_cord = pd.concat(d)"
   ]
  },
  {
   "cell_type": "code",
   "execution_count": null,
   "metadata": {},
   "outputs": [],
   "source": [
    "dat_pano_cord"
   ]
  },
  {
   "cell_type": "code",
   "execution_count": null,
   "metadata": {},
   "outputs": [],
   "source": [
    "dat_pano_cord[V.SCENEID] = dat_pano_cord[V.SCENEID].astype(int)\n",
    "dat_pano_cord[V.PANOID] = dat_pano_cord[V.PANOID].astype(int)"
   ]
  },
  {
   "cell_type": "code",
   "execution_count": null,
   "metadata": {},
   "outputs": [],
   "source": [
    "dat_ac_cord"
   ]
  },
  {
   "cell_type": "code",
   "execution_count": null,
   "metadata": {},
   "outputs": [],
   "source": [
    "dat_cords = (dat_ac_cord\n",
    "             .merge(dat_pano_cord[[V.SESSIONID, V.PANOID, V.SCENEID, V.SLIDESCAN]], \n",
    "                    on=[V.SESSIONID, V.PANOID], suffixes=('','_pano'))\n",
    "                 .merge(dat_scene_cord[[V.SLIDE, V.SCENEID]])\n",
    "            )"
   ]
  },
  {
   "cell_type": "code",
   "execution_count": null,
   "metadata": {},
   "outputs": [],
   "source": [
    "dat_scene_cord.to_csv(Cout.fn_scenecords, index=False)"
   ]
  },
  {
   "cell_type": "code",
   "execution_count": null,
   "metadata": {},
   "outputs": [],
   "source": [
    "dat_cords[V.FNAC] = dat_cords.apply(\n",
    "    lambda x: f'{x[V.SESSIONID]}_s1_p{x[V.PANOID]}_r{x[V.ACROIID]}_a{x[V.ACID]}_ac_spheresegalign',axis=1)"
   ]
  },
  {
   "cell_type": "code",
   "execution_count": null,
   "metadata": {},
   "outputs": [],
   "source": [
    "dat_cords.iloc[100]"
   ]
  },
  {
   "cell_type": "code",
   "execution_count": null,
   "metadata": {},
   "outputs": [],
   "source": [
    "dat_cords.to_csv(Cout.fn_cords, index=False)"
   ]
  },
  {
   "cell_type": "markdown",
   "metadata": {},
   "outputs": [],
   "source": [
    "Get crop metadata"
   ]
  },
  {
   "cell_type": "code",
   "execution_count": null,
   "metadata": {},
   "outputs": [],
   "source": [
    "fns = list(pathlib.Path(Cin.fol_crop).glob(Cparams.fn_crop_glob))\n",
    "dat_crops = lib.get_crop_meta(fns, Cparams.re_crop)"
   ]
  },
  {
   "cell_type": "code",
   "execution_count": null,
   "metadata": {},
   "outputs": [],
   "source": [
    "dat_crops.to_csv(Cout.fn_cropmeta, index=False)"
   ]
  },
  {
   "cell_type": "markdown",
   "metadata": {},
   "outputs": [],
   "source": [
    "Save slidescan scene images"
   ]
  },
  {
   "cell_type": "code",
   "execution_count": null,
   "metadata": {},
   "outputs": [],
   "source": [
    "for fn in dat_scene_cord[V.SLIDESCAN].unique():\n",
    "    lib.save_scene_images(pathlib.Path(Cin.fol_slide) / f'{fn}{V.SUFFIX_CZI}', Cout.fol_out_imgs)"
   ]
  },
  {
   "cell_type": "code",
   "execution_count": null,
   "metadata": {},
   "outputs": [],
   "source": [
    "import sys\n",
    "!conda env export -p {sys.prefix} "
   ]
  }
 ],
 "metadata": {
  "jupytext": {
   "text_representation": {
    "extension": ".py",
    "format_name": "percent",
    "format_version": "1.3",
    "jupytext_version": "1.3.4"
   }
  },
  "kernelspec": {
   "display_name": "Python 3",
   "language": "python",
   "name": "python3"
  },
  "language_info": {
   "codemirror_mode": {
    "name": "ipython",
    "version": 3
   },
   "file_extension": ".py",
   "mimetype": "text/x-python",
   "name": "python",
   "nbconvert_exporter": "python",
   "pygments_lexer": "ipython3",
   "version": "3.7.6"
  }
 },
 "nbformat": 4,
 "nbformat_minor": 4
}
