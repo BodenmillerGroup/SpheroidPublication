{
 "cells": [
  {
   "cell_type": "markdown",
   "metadata": {},
   "outputs": [],
   "source": [
    "# Initial coordinate matching\n",
    "\n",
    "This script does the initial matching of the slidescanner (.czi file) and IMC (.mcd) slide coordinate systems.\n",
    "\n",
    "As only few (manual) points should be provided, this fixes the scale to the vendor provided scale from the image metadata (IMC 1um/pixel, IF slidescanner 0.3246..um/pixel) and only a rigid alignment is calculated.\n",
    "\n",
    "I found that the coordinate systems were fairly reproducible also between multiple slides (ca ~200 um error), so the transformation is estimated only on two slides."
   ]
  },
  {
   "cell_type": "code",
   "execution_count": null,
   "metadata": {},
   "outputs": [],
   "source": [
    "%load_ext autoreload\n",
    "\n",
    "%autoreload 2"
   ]
  },
  {
   "cell_type": "code",
   "execution_count": null,
   "metadata": {},
   "outputs": [],
   "source": [
    "import pathlib\n",
    "import pandas as pd\n",
    "import numpy as np"
   ]
  },
  {
   "cell_type": "code",
   "execution_count": null,
   "metadata": {},
   "outputs": [],
   "source": [
    "import workflow.scripts.utils_alignment.library as lib"
   ]
  },
  {
   "cell_type": "code",
   "execution_count": null,
   "metadata": {},
   "outputs": [],
   "source": [
    "import matplotlib.pyplot as plt\n",
    "%matplotlib inline"
   ]
  },
  {
   "cell_type": "code",
   "execution_count": null,
   "metadata": {},
   "outputs": [],
   "source": [
    "import skimage.io as skio\n",
    "import skimage.transform as sktranf"
   ]
  },
  {
   "cell_type": "markdown",
   "metadata": {},
   "outputs": [],
   "source": [
    "## Config"
   ]
  },
  {
   "cell_type": "code",
   "execution_count": null,
   "metadata": {},
   "outputs": [],
   "source": [
    "Cout = snakemake.output\n",
    "Cin = snakemake.input\n",
    "Cpar = snakemake.params"
   ]
  },
  {
   "cell_type": "code",
   "execution_count": null,
   "metadata": {},
   "outputs": [],
   "source": [
    "for f in [pathlib.Path(Cout.fn_transf_ifslide_imcslide).parent]:\n",
    "    f.mkdir(exist_ok=True)"
   ]
  },
  {
   "cell_type": "markdown",
   "metadata": {},
   "outputs": [],
   "source": [
    "A matching pair of slidescan and IMC acquisition with 3 sites/panoramas"
   ]
  },
  {
   "cell_type": "markdown",
   "metadata": {},
   "outputs": [],
   "source": [
    "fn_slide = pathlib.Path(Cin.fol_slide) / 'v.zanotelli_20190509_p165_036.czi'\n",
    "fol_imc = pathlib.Path(Cin.fol_imc) / '20190525_p165_slide45_ac1_vz'"
   ]
  },
  {
   "cell_type": "markdown",
   "metadata": {},
   "outputs": [],
   "source": [
    "Manually determined, matching points:"
   ]
  },
  {
   "cell_type": "code",
   "execution_count": null,
   "metadata": {},
   "outputs": [],
   "source": [
    "# matching points manually determined\n",
    "\n",
    "# coordinates: in mcd slide coordinates\n",
    "p_imc = np.array((np.array((29819, 13388.8)),\n",
    "         np.array((17979.1, 10165)),\n",
    "         np.array((42161.2, 13107))\n",
    "        ))\n",
    "         \n",
    "# coordinates: in czi slide coordinates\n",
    "p_if = np.array((np.array((-91289.4, 36818.4)), \n",
    "        np.array((-54926.2, 26638.9)),\n",
    "        np.array((-129342, 36198.8))\n",
    "       ))"
   ]
  },
  {
   "cell_type": "code",
   "execution_count": null,
   "metadata": {},
   "outputs": [],
   "source": []
  },
  {
   "cell_type": "markdown",
   "metadata": {},
   "outputs": [],
   "source": [
    "-> These points were determined by finding matching image regions in the plots bellow (by using the interactive matplotlib backend and zooming in):\n",
    "\n",
    "-> This was done based on some slides from the 'overexpression' part of the data. Please look at the notebook there to see the plots"
   ]
  },
  {
   "cell_type": "raw",
   "metadata": {},
   "outputs": [],
   "source": [
    "coord_idx = 1\n",
    "scene_id = 2\n",
    "pano_id = 1\n",
    "ax =lib.plot_czi_slide(fn_slide, channel=1,scenes=[scene_id])\n",
    "ax.scatter(p_if[coord_idx][0], p_if[coord_idx][1],color='r')\n",
    "ax2=lib.plot_imc_slide(fol_imc, panoid=pano_id, alpha=1)\n",
    "ax2.scatter(p_imc[coord_idx][0], p_imc[coord_idx][1], color='r')"
   ]
  },
  {
   "cell_type": "raw",
   "metadata": {},
   "outputs": [],
   "source": [
    "coord_idx = 2\n",
    "scene_id = 0\n",
    "pano_id = 3\n",
    "ax =lib.plot_czi_slide(fn_slide, channel=1,scenes=[scene_id])\n",
    "ax.scatter(p_if[coord_idx][0], p_if[coord_idx][1],color='r')\n",
    "ax2=lib.plot_imc_slide(fol_imc, panoid=pano_id,alpha=1)\n",
    "ax2.scatter(p_imc[coord_idx][0], p_imc[coord_idx][1], color='r')"
   ]
  },
  {
   "cell_type": "markdown",
   "metadata": {},
   "outputs": [],
   "source": [
    "Estimate the transform based on these coordinates"
   ]
  },
  {
   "cell_type": "code",
   "execution_count": null,
   "metadata": {},
   "outputs": [],
   "source": [
    "# scale from czi metadata\n",
    "scale = np.array((-0.32465132447751116,0.32465132447751116)) #(p1_imc-p2_imc)/(p1_if-p2_if)\n",
    "#offset = np.mean([p1-(p2*scale) for p1, p2 in zip(p_imc, p_if)], axis=0)"
   ]
  },
  {
   "cell_type": "code",
   "execution_count": null,
   "metadata": {},
   "outputs": [],
   "source": [
    "# Hardcode scale\n",
    "transf_scale = sktranf.AffineTransform(scale=scale)"
   ]
  },
  {
   "cell_type": "code",
   "execution_count": null,
   "metadata": {},
   "outputs": [],
   "source": [
    "# only estimate translation and rotation\n",
    "transf_translate = sktranf.estimate_transform('euclidean', transf_scale(p_if), p_imc)"
   ]
  },
  {
   "cell_type": "code",
   "execution_count": null,
   "metadata": {},
   "outputs": [],
   "source": [
    "# combine transforms\n",
    "transf_ifslide_imcslide = sktranf.AffineTransform((transf_scale + transf_translate).params)"
   ]
  },
  {
   "cell_type": "code",
   "execution_count": null,
   "metadata": {},
   "outputs": [],
   "source": [
    "# save the transform\n",
    "np.savetxt(str(Cout.fn_transf_ifslide_imcslide), transf_ifslide_imcslide.params)"
   ]
  },
  {
   "cell_type": "code",
   "execution_count": null,
   "metadata": {},
   "outputs": [],
   "source": [
    "params = np.loadtxt(Cout.fn_transf_ifslide_imcslide)\n",
    "transf_ifslide_imcslide = sktranf.AffineTransform(params)"
   ]
  },
  {
   "cell_type": "markdown",
   "metadata": {},
   "outputs": [],
   "source": [
    "Apply the transform to demonstrate that it works"
   ]
  },
  {
   "cell_type": "code",
   "execution_count": null,
   "metadata": {},
   "outputs": [],
   "source": [
    "import matplotlib.transforms as transforms"
   ]
  },
  {
   "cell_type": "code",
   "execution_count": null,
   "metadata": {},
   "outputs": [],
   "source": [
    "ifimc_transform = transforms.Affine2D(params)"
   ]
  },
  {
   "cell_type": "code",
   "execution_count": null,
   "metadata": {},
   "outputs": [],
   "source": [
    "def show_alignment(fn_slide, fol_imc, scene_id, pano_id, transform_ifimc, channel=1):\n",
    "    ax =lib.plot_czi_slide(fn_slide, channel=channel,scenes=[scene_id])\n",
    "    im = ax.images[0]\n",
    "    trans_data = transform_ifimc + ax.transData\n",
    "    im.set_transform(trans_data)\n",
    "    ax2=lib.plot_imc_slide(fol_imc, panoid=pano_id, alpha=0.5, ax=ax)\n",
    "    x0, x1, y0, y1 = im.get_extent()\n",
    "    p1 = transform_ifimc.transform_point((x0,y0))\n",
    "    p2 = transform_ifimc.transform_point((x1,y1))\n",
    "    ax.set_xlim((min(p1[0], p2[0]), max(p1[0], p2[0])))\n",
    "    ax.set_ylim((min(p1[1], p2[1]), max(p1[1], p2[1])))\n",
    "    plt.title('After alignment')\n",
    "    return ax"
   ]
  },
  {
   "cell_type": "markdown",
   "metadata": {},
   "outputs": [],
   "source": [
    "show_alignment(fn_slide, fol_imc, scene_id=1, pano_id=2, transform_ifimc=ifimc_transform)"
   ]
  },
  {
   "cell_type": "raw",
   "metadata": {},
   "outputs": [],
   "source": [
    "fn_slide_rand = pathlib.Path('/mnt/bbvolume/archive/vitoz/RawData/slidescanner_uncompressed/slidescanner_transfer_20190510_0015/v.zanotelli_20190509_p165_038.czi')\n",
    "fol_imc_rand = pathlib.Path('/home/vitoz/mnt/tmp/scratch/vitoz/Data/Analysis/20190726_oexp_p165-161-bigoverexpression_v3_a1//ometiff/20190523_p165_slide59_ac1_vz/')\n",
    "panoid_rand = 2\n",
    "sceneid_rand = 1"
   ]
  },
  {
   "cell_type": "raw",
   "metadata": {},
   "outputs": [],
   "source": [
    "show_alignment(fn_slide_rand, fol_imc_rand, scene_id=sceneid_rand, pano_id=panoid_rand, transform_ifimc=ifimc_transform)"
   ]
  },
  {
   "cell_type": "raw",
   "metadata": {},
   "outputs": [],
   "source": [
    "fn_slide_rand2 = pathlib.Path('/mnt/bbvolume/archive/vitoz/RawData/slidescanner_uncompressed/slidescanner_transfer_20190510_0015/v.zanotelli_20190509_p161_019.czi')\n",
    "fol_imc_rand2 = pathlib.Path('/home/vitoz/mnt/tmp/scratch/vitoz/Data/Analysis/20190726_oexp_p165-161-bigoverexpression_v3_a1//ometiff/20190618_p161_slide14_ac2_vz/')\n",
    "panoid_rand2 = 1\n",
    "sceneid_rand2 = 1"
   ]
  },
  {
   "cell_type": "raw",
   "metadata": {},
   "outputs": [],
   "source": [
    "show_alignment(fn_slide_rand2, fol_imc_rand2, scene_id=sceneid_rand2, pano_id=panoid_rand2, transform_ifimc=ifimc_transform)"
   ]
  },
  {
   "cell_type": "raw",
   "metadata": {},
   "outputs": [],
   "source": [
    "fn_slide_rand3 = pathlib.Path('/mnt/bbvolume/archive/vitoz/RawData/slidescanner_uncompressed/slidescanner_transfer_20190510_0015/v.zanotelli_20190509_p165_061.czi')\n",
    "fol_imc_rand3 = pathlib.Path('/home/vitoz/mnt/tmp/scratch/vitoz/Data/Analysis/20190726_oexp_p165-161-bigoverexpression_v3_a1//ometiff/20190515_p165_slide6_ac1_vz')\n",
    "panoid_rand3 = 1\n",
    "sceneid_rand3 = 0\n"
   ]
  },
  {
   "cell_type": "code",
   "execution_count": null,
   "metadata": {
    "pycharm": {
     "name": "#%%\n"
    }
   },
   "outputs": [],
   "source": [
    "\n",
    "show_alignment( pathlib.Path(Cin.fol_slide) / 'v.zanotelli_20190509_p165_061.czi',\n",
    "               pathlib.Path(Cin.fol_imc) / '20190515_p165_slide6_ac1_vz',\n",
    "               scene_id=0,\n",
    "               pano_id=1,\n",
    "               channel=0,               \n",
    "               transform_ifimc=ifimc_transform)\n"
   ]
  },
  {
   "cell_type": "code",
   "execution_count": null,
   "metadata": {},
   "outputs": [],
   "source": [
    "import sys\n",
    "!conda env export -p {sys.prefix} "
   ]
  },
  {
   "cell_type": "code",
   "execution_count": null,
   "metadata": {},
   "outputs": [],
   "source": []
  }
 ],
 "metadata": {
  "jupytext": {
   "text_representation": {
    "extension": ".py",
    "format_name": "percent",
    "format_version": "1.3",
    "jupytext_version": "1.3.4"
   }
  },
  "kernelspec": {
   "display_name": "Python 3",
   "language": "python",
   "name": "python3"
  },
  "language_info": {
   "codemirror_mode": {
    "name": "ipython",
    "version": 3
   },
   "file_extension": ".py",
   "mimetype": "text/x-python",
   "name": "python",
   "nbconvert_exporter": "python",
   "pygments_lexer": "ipython3",
   "version": "3.7.6"
  }
 },
 "nbformat": 4,
 "nbformat_minor": 4
}
