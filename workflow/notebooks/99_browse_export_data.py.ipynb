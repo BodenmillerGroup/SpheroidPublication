{
 "cells": [
  {
   "cell_type": "code",
   "execution_count": null,
   "metadata": {
    "colab": {
     "base_uri": "https://localhost:8080/"
    },
    "id": "kUwwxvB_JrMy",
    "outputId": "1d741a1d-2447-4d8c-890e-0e08484001b4"
   },
   "outputs": [],
   "source": [
    "%%time\n",
    "import sys\n",
    "\n",
    "# Setup environment if in google colab\n",
    "IN_COLAB = \"google.colab\" in sys.modules\n",
    "\n",
    "if IN_COLAB:\n",
    "  !pip install anndata==0.7.4 scanpy==1.6.0 matplotlib_scalebar==0.6.2 pandas==1.1.2 tifffile==2020.* zenodo_get"
   ]
  },
  {
   "cell_type": "code",
   "execution_count": null,
   "metadata": {
    "colab": {
     "base_uri": "https://localhost:8080/"
    },
    "id": "1cpYmxbyevj_",
    "outputId": "b95b7438-0f3c-45b2-9450-ecb9575231bb"
   },
   "outputs": [],
   "source": [
    "%%time\n",
    "if IN_COLAB:\n",
    "  # Retrieve files if in google colab\n",
    "  # -> This will take ca 10 minutes!\n",
    "\n",
    "  !python -m zenodo_get -o zipdata 4271910\n",
    "  !unzip -n -d data zipdata/phys_analysis_export_v3.zip"
   ]
  },
  {
   "cell_type": "code",
   "execution_count": null,
   "metadata": {
    "id": "gp1M2tENJoto",
    "pycharm": {
     "name": "#%%\n"
    }
   },
   "outputs": [],
   "source": [
    "# Python 3.8\n",
    "import pathlib\n",
    "import scanpy as sp # '1.6.0'\n",
    "import anndata as anndata # '0.7.4'\n",
    "\n",
    "import numpy as np # '1.19.1'\n",
    "import pandas as pd # '1.1.2'\n",
    "import copy\n",
    "\n",
    "import matplotlib.pyplot as plt # '3.3.2'\n",
    "from matplotlib import colors\n",
    "from matplotlib_scalebar.scalebar import ScaleBar # '0.6.2'\n",
    "\n",
    "import tifffile # '2020.9.22'\n",
    "\n",
    "import functools"
   ]
  },
  {
   "cell_type": "markdown",
   "metadata": {
    "id": "NiitbH_UJotp",
    "pycharm": {
     "name": "#%% md\n"
    }
   },
   "source": [
    "# Data export exploration\n",
    "\n",
    "This should be a simple example how to load and visualize the exported 4 cell line dataset\n",
    "found at: https://zenodo.org/record/4144362\n",
    "\n",
    "\n",
    "This uses only 'standard' packages as well as Scanpy.\n",
    "Please read the README of the export (printed also bellow) to find precise information on the data structure.\n"
   ]
  },
  {
   "cell_type": "code",
   "execution_count": null,
   "metadata": {
    "id": "EsqOxdlMJotp",
    "pycharm": {
     "name": "#%%\n"
    }
   },
   "outputs": [],
   "source": [
    "class C:\n",
    "    # Folder containing the unziped dataset downloaded from zenodo\n",
    "    # adapt if snakemake is not used\n",
    "    fol_export = pathlib.Path('data') if IN_COLAB else pathlib.Path(snakemake.input.fol_export)\n",
    "    fn_cell_x = fol_export / 'cell_X.csv'\n",
    "    fn_cell_obs = fol_export / 'cell_obs.csv'\n",
    "    fn_cell_var = fol_export / 'cell_var.csv'\n",
    "    \n",
    "    fn_nuc_x = fol_export / 'nucleiexp_X.csv'\n",
    "    fn_nuc_obs = fol_export / 'nucleiexp_obs.csv'\n",
    "    fn_nuc_var = fol_export / 'nucleiexp_var.csv'\n",
    "    \n",
    "    fn_cyto_x = fol_export / 'cyto_X.csv'\n",
    "    fn_cyto_obs = fol_export / 'cyto_obs.csv'\n",
    "    fn_cyto_var = fol_export / 'cyto_var.csv'\n",
    "    \n",
    "    fn_image_meta = fol_export / 'image_meta.csv'\n",
    "    fol_image = fol_export / 'images'\n",
    "    fol_masks = fol_export / 'masks'\n",
    "\n",
    "    fol_readme = fol_export / 'README.md'"
   ]
  },
  {
   "cell_type": "markdown",
   "metadata": {
    "id": "PDrOc0q7Jotp",
    "pycharm": {
     "name": "#%% md\n"
    }
   },
   "source": [
    "Some helper scripts\n",
    "\n",
    "-> could be also put in a library."
   ]
  },
  {
   "cell_type": "code",
   "execution_count": null,
   "metadata": {
    "id": "RAiojQgHJotp",
    "pycharm": {
     "name": "#%%\n"
    }
   },
   "outputs": [],
   "source": [
    "def load_anndata(fn_x, fn_obs, fn_var):\n",
    "    \"\"\"\n",
    "    Helper function to initialize an anndata object using csv files.\n",
    "    :param fn_x: path to data csv (X)\n",
    "    :param fn_obs: path to obs csv\n",
    "    :param fn_var: path to var csv\n",
    "    \n",
    "    :return: the loaded anndata\n",
    "    \"\"\"\n",
    "    dat_obs = pd.read_csv(fn_obs)\n",
    "    dat_var = pd.read_csv(fn_var)\n",
    "    dat_x = pd.read_csv(fn_x, delimiter=',', header=None)\n",
    "    return anndata.AnnData(dat_x.values, obs=dat_obs, var=dat_var)\n",
    "    \n",
    "def transform_anndata(ad):\n",
    "    # In a real analysis it may not be suitable to apply a transformation\n",
    "    # to all variable, e.g. for interquartile range or other features\n",
    "    # Log transform might be not optimal.\n",
    "    fil = ad.var.eval(\"measurement_type == 'Intensity'\")\n",
    "    ad.X[:,fil] = np.log10(ad.X[:, fil]+0.1)\n",
    "    \n",
    "def map_series_on_mask(mask, label, iterable):\n",
    "    \"\"\"\n",
    "    Maps values on a mask\n",
    "    :param mask: A mask where label!=0 equals the object number\n",
    "    :param iterable: an iterable\n",
    "    :param label: labels of same lenght than iterables\n",
    "    :return: the mapped image\n",
    "    \"\"\"\n",
    "    # make a dict\n",
    "\n",
    "    labeldict = np.empty(mask.max() + 1)\n",
    "    labeldict[:] = np.NaN\n",
    "\n",
    "    for lab, val in zip(label, iterable):\n",
    "        labeldict[int(lab)] = val\n",
    "\n",
    "    out_img = labeldict[mask.flatten()]\n",
    "    out_img = np.reshape(out_img, mask.shape)\n",
    "    out_img = np.ma.array(out_img, mask=mask == 0)\n",
    "    return out_img\n",
    "\n",
    "def plot_mask_contour(mask, ax=None, linewidths=0.5, linestyles=':', color='Gray', alpha=1):\n",
    "    \"\"\"\n",
    "    Adds background mask contour\n",
    "    \"\"\"\n",
    "    if ax is None:\n",
    "        fig = plt.figure(figsize=(20,20))\n",
    "        ax = plt.gca()\n",
    "    ax.contour(mask, [0,0.5],colors=[color],linewidths=linewidths, linestyles=linestyles,alpha=alpha)\n",
    "    return ax\n",
    "\n",
    "def plot_heatmask(img, *, cmap=None, cmap_mask=None, cmap_mask_alpha=0.3, colorbar=True, ax=None,\n",
    "                  bad_color='k', bad_alpha=1, crange=None, norm=None):\n",
    "    \"\"\"\n",
    "    Plots an image with nice defaults for masked pixels.\n",
    "    \"\"\"\n",
    "    if cmap is None:\n",
    "        cmap = plt.cm.viridis\n",
    "    cmap = copy.copy(cmap)\n",
    "    cmap.set_bad(bad_color, bad_alpha)\n",
    "    if ax is None:\n",
    "        plt.close()\n",
    "        fig, ax = plt.subplots(1, 1)\n",
    "    else:\n",
    "        fig = ax.get_figure()\n",
    "\n",
    "    cax = ax.imshow(img, cmap=cmap, interpolation=\"nearest\", norm=norm)\n",
    "    if colorbar:\n",
    "        fig.colorbar(cax)\n",
    "\n",
    "    if crange is not None:\n",
    "        cax.set_clim(crange[0], crange[1])\n",
    "\n",
    "    if hasattr(img, \"mask\"):\n",
    "        mask_img = np.isnan(img)\n",
    "        if np.any(mask_img):\n",
    "            mask_img = np.ma.array(mask_img, mask=img.mask | (mask_img == False))\n",
    "            if cmap_mask is None:\n",
    "                cmap_mask = \"Greys\"\n",
    "            ax.imshow(\n",
    "                mask_img == 1,\n",
    "                cmap=cmap_mask,\n",
    "                alpha=cmap_mask_alpha,\n",
    "                interpolation=\"nearest\",\n",
    "            )\n",
    "    ax.axis('off')\n",
    "    return ax\n",
    "    \n",
    "def add_scalebar(\n",
    "    ax, resolution=0.000001, location=4, color=\"white\", pad=0.5, frameon=False, **kwargs\n",
    "):\n",
    "    \"\"\"\n",
    "    Adds a scalebar\n",
    "    \"\"\"\n",
    "    scalebar = ScaleBar(\n",
    "        resolution, location=location, color=color, pad=pad, frameon=frameon, **kwargs\n",
    "    )  # 1 pixel = 0.2 meter\n",
    "    ax.add_artist(scalebar)\n",
    "\n",
    "\n",
    "def adapt_ax_clims(axs):\n",
    "    \"\"\"\n",
    "    Adapts color axes limits such that they are shared by the all images\n",
    "    \"\"\"\n",
    "    caxs = [ax.images[0] for ax in axs if len(ax.images) > 0]\n",
    "    clims = [cax.get_clim() for cax in caxs]\n",
    "    clims = [c for c in clims if c != (True, True)]\n",
    "    clim_all = [f(c) for f, c in zip([np.min, np.max], zip(*clims))]\n",
    "    for cax in caxs:\n",
    "        cax.set_clim(clim_all)\n",
    "        \n",
    "class IoHelper:\n",
    "    \"\"\"\n",
    "    Helper class for lazy image and mask IO\n",
    "    \"\"\"\n",
    "    def __init__(self, dat_img, fol_images, fol_masks):\n",
    "        self.dat_img = dat_img\n",
    "        self.fol_masks = fol_masks\n",
    "        self.fol_images = fol_images\n",
    "        \n",
    "    @functools.lru_cache()\n",
    "    def get_mask(self, imid, object_type='cell'):\n",
    "        img = self.dat_img.query(f'image_id == {imid}')[f'mask_filename_{object_type}'].iloc[0]\n",
    "        return tifffile.imread(self.fol_masks / img)\n",
    "\n",
    "\n",
    "    @functools.lru_cache()\n",
    "    def get_image(self, imid, stack_name='FullStackComp'):\n",
    "        img = self.dat_img.query(f'image_id == {imid}')[f'image_stack_filename_{stack_name}'].iloc[0]\n",
    "        return tifffile.imread(self.fol_images / img, out='memmap')\n",
    "\n",
    "\n",
    "    def get_image_channel(self, imid, plane_number, stack_name='FullStackComp'):\n",
    "        img = self.get_image(imid, stack_name)\n",
    "        if (img.shape[2] == self.dat_img.query(f'image_id == {imid}')['image_shape_w'].iloc[0]):\n",
    "            return img[plane_number-1, :, :].squeeze()\n",
    "        else:\n",
    "            return img[:, :, plane_number-1].squeeze()\n",
    "    \n",
    "    def plot_imag_ad(self, ad, channel_name,\n",
    "                     measurement_name='MeanIntensityComp',\n",
    "                     stack_name='FullStackFiltered',\n",
    "                     figsize=None, add_colorbar=True):\n",
    "        \"\"\"\n",
    "        Plots all objects contained in the anndata, plotting the individual images as columns.\n",
    "        \n",
    "        :param ad: an anndata with obs variables: 'image_id', 'object_type', 'object_number'\n",
    "        :param chan: The channel (metal) to plot\n",
    "        :param figsize: the output image size\n",
    "        \n",
    "        :returns: the figure object\n",
    "        \"\"\"\n",
    "        imgids = ad.obs['image_id'].unique()\n",
    "        fig, axs = plt.subplots(ncols=len(imgids), figsize=figsize)\n",
    "        try:\n",
    "            len(axs)\n",
    "        except:\n",
    "            axs = [axs]\n",
    "        \n",
    "        fil = ad.var.eval(f'channel_name == \"{channel_name}\" and measurement_name == \"{measurement_name}\" and '\n",
    "                      f'stack_name == \"{stack_name}\"')\n",
    "        \n",
    "        assert sum(fil) == 1\n",
    "        for ax, ((obj_type, imid), dat) in zip(axs, ad.obs.groupby(['object_type','image_id'])):\n",
    "            mask = self.get_mask(imid, object_type=obj_type)\n",
    "            values = ad[dat.index, :][:, fil].X.squeeze()\n",
    "            labels = dat['object_number']\n",
    "            img = map_series_on_mask(mask, labels, values)\n",
    "            \n",
    "            colorbar = (ax == axs[-1]) and add_colorbar\n",
    "            plot_heatmask(img, ax=ax, colorbar=colorbar)\n",
    "            ax.axis('off')\n",
    "        adapt_ax_clims(axs)\n",
    "        return fig\n",
    "        \n",
    "    \n"
   ]
  },
  {
   "cell_type": "markdown",
   "metadata": {
    "id": "1BDXlgl1cJDL"
   },
   "source": [
    "## Readme\n"
   ]
  },
  {
   "cell_type": "code",
   "execution_count": null,
   "metadata": {
    "colab": {
     "base_uri": "https://localhost:8080/"
    },
    "id": "soCsur8VcLwh",
    "outputId": "32886e38-10a6-4764-d285-6eb3d1ff5838"
   },
   "outputs": [],
   "source": [
    "!cat $C.fol_readme"
   ]
  },
  {
   "cell_type": "markdown",
   "metadata": {
    "id": "R2AWl5HxdJXq"
   },
   "source": [
    "## Load the data"
   ]
  },
  {
   "cell_type": "markdown",
   "metadata": {
    "id": "us75WHRoJotp",
    "pycharm": {
     "name": "#%% md\n"
    }
   },
   "source": [
    "Read the image metadata and initialize the IO handler\n",
    "\n",
    "-> This allows to conveniently retrieve images and maks."
   ]
  },
  {
   "cell_type": "code",
   "execution_count": null,
   "metadata": {
    "id": "vO86TUWdJotp",
    "pycharm": {
     "name": "#%%\n"
    }
   },
   "outputs": [],
   "source": [
    "dat_image = pd.read_csv(C.fn_image_meta)"
   ]
  },
  {
   "cell_type": "code",
   "execution_count": null,
   "metadata": {
    "id": "Xe6LzlMTJotq",
    "pycharm": {
     "name": "#%%\n"
    }
   },
   "outputs": [],
   "source": [
    "io = IoHelper(dat_image, fol_images=C.fol_image, fol_masks=C.fol_masks)"
   ]
  },
  {
   "cell_type": "markdown",
   "metadata": {
    "id": "DWMfzSozJotq",
    "pycharm": {
     "name": "#%% md\n"
    }
   },
   "source": [
    "Load the cell anndata\n",
    "\n",
    "-> All analyses in the paper were only done based on cellular readouts.\n",
    "\n",
    "This also transforms the data using: log10(x+0.1)"
   ]
  },
  {
   "cell_type": "code",
   "execution_count": null,
   "metadata": {
    "colab": {
     "base_uri": "https://localhost:8080/"
    },
    "id": "ADxQfHs9Jotq",
    "outputId": "cd1c1eff-921a-46ec-f104-2df3020afbcb",
    "pycharm": {
     "name": "#%%\n"
    }
   },
   "outputs": [],
   "source": [
    "ad_cell = load_anndata(C.fn_cell_x, C.fn_cell_obs, C.fn_cell_var)\n",
    "transform_anndata(ad_cell)"
   ]
  },
  {
   "cell_type": "code",
   "execution_count": null,
   "metadata": {
    "colab": {
     "base_uri": "https://localhost:8080/",
     "height": 206
    },
    "id": "xVZn5ELRJotq",
    "outputId": "40f038b7-b185-45f7-a24e-050af9b5546d",
    "pycharm": {
     "name": "#%%\n"
    }
   },
   "outputs": [],
   "source": [
    "ad_cell.obs.head()"
   ]
  },
  {
   "cell_type": "code",
   "execution_count": null,
   "metadata": {
    "colab": {
     "base_uri": "https://localhost:8080/",
     "height": 300
    },
    "id": "px1WZHH-Jotq",
    "outputId": "40e01391-4f80-458c-fc4a-edc22d14cd05"
   },
   "outputs": [],
   "source": [
    "ad_cell.obs.describe()"
   ]
  },
  {
   "cell_type": "code",
   "execution_count": null,
   "metadata": {
    "colab": {
     "base_uri": "https://localhost:8080/",
     "height": 531
    },
    "id": "jTXYlqs3Jotr",
    "outputId": "8194b564-adca-40a0-8d15-227449070a36",
    "pycharm": {
     "name": "#%%\n"
    }
   },
   "outputs": [],
   "source": [
    "ad_cell.var"
   ]
  },
  {
   "cell_type": "markdown",
   "metadata": {
    "id": "623zOghcJotr",
    "pycharm": {
     "name": "#%% md\n"
    }
   },
   "source": [
    "Add a 'plot name' that combines the metal with a human readable name"
   ]
  },
  {
   "cell_type": "code",
   "execution_count": null,
   "metadata": {
    "id": "ii4--CUQJotr"
   },
   "outputs": [],
   "source": [
    "ad_cell.var['plot_name'] = (ad_cell.var\n",
    "                            .apply(lambda row: f'{row[\"goodname\"]} - {row[\"channel_name\"]}', axis=1)\n",
    "                            .astype(pd.CategoricalDtype())\n",
    "                           )"
   ]
  },
  {
   "cell_type": "code",
   "execution_count": null,
   "metadata": {
    "colab": {
     "base_uri": "https://localhost:8080/"
    },
    "id": "prt_D8CFJotr",
    "outputId": "731c6fa2-37cc-4887-a497-8b474e14ee6b"
   },
   "outputs": [],
   "source": [
    "ad_cell.var['plot_name'] "
   ]
  },
  {
   "cell_type": "markdown",
   "metadata": {
    "id": "DKNcJbhOdTQf"
   },
   "source": [
    "## Visualize the data"
   ]
  },
  {
   "cell_type": "markdown",
   "metadata": {
    "id": "yPAcEGHVJotr",
    "pycharm": {
     "name": "#%% md\n"
    }
   },
   "source": [
    "Show how this could be visualized using eg a PCA"
   ]
  },
  {
   "cell_type": "code",
   "execution_count": null,
   "metadata": {
    "id": "KAZAHB8_Jotr",
    "pycharm": {
     "name": "#%%\n"
    }
   },
   "outputs": [],
   "source": [
    "ad_cell.var_names = ad_cell.var.measurement_id.astype(str)"
   ]
  },
  {
   "cell_type": "code",
   "execution_count": null,
   "metadata": {
    "id": "GbxWy7aBJotr",
    "pycharm": {
     "name": "#%%\n"
    }
   },
   "outputs": [],
   "source": [
    "ad_cell.obs = ad_cell.obs.reset_index().merge(dat_image[['image_id', 'cellline', 'time_point']], how='left',\n",
    "                           ).set_index('index')"
   ]
  },
  {
   "cell_type": "code",
   "execution_count": null,
   "metadata": {
    "colab": {
     "base_uri": "https://localhost:8080/"
    },
    "id": "A7MZfjQLJotr",
    "outputId": "59d72563-7ba4-49d3-bd60-c8e132bf4fac",
    "pycharm": {
     "name": "#%%\n"
    }
   },
   "outputs": [],
   "source": [
    "fil_main = ad_cell.var.eval('working == 1 and measurement_name == \"MeanIntensityComp\"'\n",
    "                            'and stack_name == \"FullStackFiltered\"')\n",
    "tmp_ad = ad_cell[:, fil_main]\n",
    "sp.preprocessing.pca(tmp_ad)\n",
    "ad_cell.obsm = tmp_ad.obsm"
   ]
  },
  {
   "cell_type": "code",
   "execution_count": null,
   "metadata": {
    "colab": {
     "base_uri": "https://localhost:8080/",
     "height": 489
    },
    "id": "QiU1lH13Jots",
    "outputId": "3c824810-0b49-4925-c19d-91c582c457a7",
    "pycharm": {
     "name": "#%%\n"
    }
   },
   "outputs": [],
   "source": [
    "sp.pl.pca(ad_cell, color='cellline')"
   ]
  },
  {
   "cell_type": "code",
   "execution_count": null,
   "metadata": {
    "colab": {
     "base_uri": "https://localhost:8080/",
     "height": 1000
    },
    "id": "oUN8ApWRJots",
    "outputId": "0d0cee86-43e2-4e6d-e672-a543167095c0"
   },
   "outputs": [],
   "source": [
    "fil = ad_cell.var.eval(f'measurement_name == \"MeanIntensityComp\" or channel_name == \"object\"')\n",
    "axs = sp.pl.pca(ad_cell, color=ad_cell.var.index[fil], show=False)\n",
    "for ax, tit in zip(axs, ad_cell.var.plot_name[fil]):\n",
    "    ax.set_title(tit)\n",
    "    ax.set_rasterized(True)\n",
    "plt.show()"
   ]
  },
  {
   "cell_type": "code",
   "execution_count": null,
   "metadata": {
    "colab": {
     "base_uri": "https://localhost:8080/"
    },
    "id": "WmNjyGltJots",
    "outputId": "87107a4c-ae50-4e43-b3d2-32d3f7d0e785",
    "pycharm": {
     "name": "#%%\n"
    }
   },
   "outputs": [],
   "source": [
    "len(ad_cell.var.plot_name.cat.categories)"
   ]
  },
  {
   "cell_type": "markdown",
   "metadata": {
    "id": "GTbtJlu9Jots",
    "pycharm": {
     "name": "#%% md\n"
    }
   },
   "source": [
    "Visualize the data as a heatmap"
   ]
  },
  {
   "cell_type": "code",
   "execution_count": null,
   "metadata": {
    "colab": {
     "base_uri": "https://localhost:8080/",
     "height": 1000
    },
    "id": "2K8dd12iJots",
    "outputId": "acffb92a-ac87-4bac-a6f8-3db25cfb846b",
    "pycharm": {
     "name": "#%%\n"
    }
   },
   "outputs": [],
   "source": [
    "fil = ad_cell.var.eval('working == 1 and measurement_name == \"MeanIntensityComp\"'\n",
    "                            'and stack_name == \"FullStackFiltered\"')\n",
    "axs = sp.pl.heatmap(ad_cell, var_names=ad_cell.var.index[fil], log=False, groupby='cellline',\n",
    "             show_gene_labels=True, standard_scale='var', show=False\n",
    "               )\n",
    "\n",
    "axs['heatmap_ax'].set_xticklabels(ad_cell.var.plot_name[fil])"
   ]
  },
  {
   "cell_type": "markdown",
   "metadata": {
    "id": "oodfP7c1Jots",
    "pycharm": {
     "name": "#%% md\n"
    }
   },
   "source": [
    "Show how the data could be visualized using a heatplot, mapping the average intensities on a mask\n",
    "\n",
    "\n",
    "-> Cells which were filtered out during QC are displayed as grey"
   ]
  },
  {
   "cell_type": "code",
   "execution_count": null,
   "metadata": {
    "colab": {
     "base_uri": "https://localhost:8080/",
     "height": 299
    },
    "id": "aOId46jFJots",
    "outputId": "0598d070-a15d-44a2-b7a9-2e23cee6801d",
    "pycharm": {
     "name": "#%%\n"
    }
   },
   "outputs": [],
   "source": [
    "fig = io.plot_imag_ad(ad_cell[ad_cell.obs.image_id.isin(ad_cell.obs.image_id.unique()[:10]) , :],\n",
    "                      'Ir193', figsize=(15,20))"
   ]
  },
  {
   "cell_type": "markdown",
   "metadata": {
    "id": "qIcuo3b_Jots",
    "pycharm": {
     "name": "#%% md\n"
    }
   },
   "source": [
    "Show how raw images could be visualized"
   ]
  },
  {
   "cell_type": "code",
   "execution_count": null,
   "metadata": {
    "id": "--WOi667Jots",
    "pycharm": {
     "name": "#%%\n"
    }
   },
   "outputs": [],
   "source": [
    "fil = ad_cell.var.eval(f'channel_name == \"Yb171\" and stack_name == \"FullStackFiltered\"')\n",
    "imid = 200\n",
    "img = io.get_image_channel(imid, ad_cell.var.ref_plane_number[fil][0])"
   ]
  },
  {
   "cell_type": "code",
   "execution_count": null,
   "metadata": {
    "colab": {
     "base_uri": "https://localhost:8080/",
     "height": 271
    },
    "id": "cvdUV3wYJots",
    "outputId": "ed5ad879-7d2f-4a19-ef82-26d27e6c2152",
    "pycharm": {
     "name": "#%%\n"
    }
   },
   "outputs": [],
   "source": [
    "ax= plot_heatmask(img,norm=colors.PowerNorm(gamma=1./2.)) # This plots the image with sqareroot transformed values\n",
    "add_scalebar(ax)\n",
    "plot_mask_contour(io.get_mask(imid), ax=ax)"
   ]
  },
  {
   "cell_type": "code",
   "execution_count": null,
   "metadata": {
    "colab": {
     "base_uri": "https://localhost:8080/",
     "height": 309
    },
    "id": "H2OmlItdAa1x",
    "outputId": "0d72cccb-d7bc-43e0-ccda-9f7379969acf"
   },
   "outputs": [],
   "source": [
    "# Highlight higher border cells in red:\n",
    "meas_fil = ad_cell.var.eval('measurement_name == \"dist-rim\"')\n",
    "tad = ad_cell[ad_cell.obs.image_id == imid, :] \n",
    "fil = tad[:,meas_fil].X.squeeze() < 50\n",
    "plot_mask_contour(np.isin(io.get_mask(imid), tad.obs.object_number.loc[fil]), ax=ax, color='r', alpha=0.3)\n",
    "ax.get_figure()"
   ]
  },
  {
   "cell_type": "markdown",
   "metadata": {
    "id": "0ob9Cjy6Jott",
    "pycharm": {
     "name": "#%% md\n"
    }
   },
   "source": [
    "The same image as heatmask"
   ]
  },
  {
   "cell_type": "code",
   "execution_count": null,
   "metadata": {
    "colab": {
     "base_uri": "https://localhost:8080/",
     "height": 303
    },
    "id": "LzdZzkPeJott",
    "outputId": "69892cc8-e7c3-43fb-c8f1-2f650c3365dd",
    "pycharm": {
     "name": "#%%\n"
    }
   },
   "outputs": [],
   "source": [
    "fig = io.plot_imag_ad(ad_cell[ad_cell.obs.image_id == imid, :], 'Yb171')\n",
    "add_scalebar(fig.axes[0])"
   ]
  },
  {
   "cell_type": "code",
   "execution_count": null,
   "metadata": {
    "colab": {
     "base_uri": "https://localhost:8080/",
     "height": 304
    },
    "id": "GbACsuPcJott",
    "outputId": "999a5a74-398d-405c-cfb8-ff3465105bf2"
   },
   "outputs": [],
   "source": [
    "fig = io.plot_imag_ad(ad_cell[ad_cell.obs.image_id == imid, :],\n",
    "                      'Yb171',\n",
    "                     measurement_name='NbMeanMeanIntensityComp')\n",
    "add_scalebar(fig.axes[0])"
   ]
  },
  {
   "cell_type": "code",
   "execution_count": null,
   "metadata": {
    "colab": {
     "base_uri": "https://localhost:8080/",
     "height": 303
    },
    "id": "lsTCWQAAJott",
    "outputId": "a863801a-cc1e-4d14-bac4-0c9c75db2816",
    "pycharm": {
     "name": "#%%\n"
    }
   },
   "outputs": [],
   "source": [
    "fig = io.plot_imag_ad(ad_cell[ad_cell.obs.image_id == imid, :],\n",
    "                     channel_name='object', measurement_name='dist-rim',\n",
    "                     stack_name='ObjectStack')\n",
    "add_scalebar(fig.axes[0])"
   ]
  },
  {
   "cell_type": "code",
   "execution_count": null,
   "metadata": {
    "colab": {
     "base_uri": "https://localhost:8080/",
     "height": 303
    },
    "id": "yprKzE_DJott",
    "outputId": "45015ef8-690f-4caf-b98f-ae1db64d4ace"
   },
   "outputs": [],
   "source": [
    "fig = io.plot_imag_ad(ad_cell[ad_cell.obs.image_id == imid, :],\n",
    "                     channel_name='object', measurement_name='Center_X',\n",
    "                     stack_name='ObjectStack')\n",
    "add_scalebar(fig.axes[0])"
   ]
  },
  {
   "cell_type": "code",
   "execution_count": null,
   "metadata": {
    "colab": {
     "base_uri": "https://localhost:8080/",
     "height": 303
    },
    "id": "ldRYtYU-TJmt",
    "outputId": "a8b740ed-fa99-4d79-f783-3396c58c03f9"
   },
   "outputs": [],
   "source": [
    "fig = io.plot_imag_ad(ad_cell[ad_cell.obs.image_id == imid, :],\n",
    "                     channel_name='object', measurement_name='Area',\n",
    "                     stack_name='ObjectStack')\n",
    "add_scalebar(fig.axes[0])"
   ]
  },
  {
   "cell_type": "markdown",
   "metadata": {
    "id": "ny_Vz-ppJott",
    "pycharm": {
     "name": "#%% md\n"
    }
   },
   "source": [
    "## Also load nuclear and cytoplasmic data\n",
    "\n",
    "(This was not used in the paper)"
   ]
  },
  {
   "cell_type": "code",
   "execution_count": null,
   "metadata": {
    "colab": {
     "base_uri": "https://localhost:8080/"
    },
    "id": "0fJn6FrjJott",
    "outputId": "10310327-6e7f-46d6-dfa9-7fbea0818708",
    "pycharm": {
     "name": "#%%\n"
    }
   },
   "outputs": [],
   "source": [
    "ad_nuc = load_anndata(C.fn_nuc_x, C.fn_nuc_obs, C.fn_nuc_var)\n",
    "transform_anndata(ad_nuc)\n",
    "ad_nuc.var_names = ad_nuc.var.measurement_id.astype(str)"
   ]
  },
  {
   "cell_type": "markdown",
   "metadata": {
    "id": "REnwyzRwJott",
    "pycharm": {
     "name": "#%% md\n"
    }
   },
   "source": [
    "Show example image nuclei"
   ]
  },
  {
   "cell_type": "code",
   "execution_count": null,
   "metadata": {
    "colab": {
     "base_uri": "https://localhost:8080/",
     "height": 309
    },
    "id": "TBCfWRZPJott",
    "outputId": "c479ff70-cf77-4d90-f170-4b94f8802b65",
    "pycharm": {
     "name": "#%%\n"
    }
   },
   "outputs": [],
   "source": [
    "fig = io.plot_imag_ad(ad_nuc[ad_nuc.obs.image_id == imid, :], 'Yb171')\n",
    "add_scalebar(fig.axes[0])"
   ]
  },
  {
   "cell_type": "code",
   "execution_count": null,
   "metadata": {
    "colab": {
     "base_uri": "https://localhost:8080/",
     "height": 271
    },
    "id": "epw0-sbxH6Ai",
    "outputId": "814981b3-9956-4f1c-eca2-180c6b45f512"
   },
   "outputs": [],
   "source": [
    "ax= plot_heatmask(img,norm=colors.PowerNorm(gamma=1./2.)) # This plots the image with sqareroot transformed values\n",
    "add_scalebar(ax)\n",
    "plot_mask_contour(io.get_mask(imid, object_type='nucleiexp'), ax=ax, color='red')"
   ]
  },
  {
   "cell_type": "code",
   "execution_count": null,
   "metadata": {
    "colab": {
     "base_uri": "https://localhost:8080/"
    },
    "id": "EsuzENHAJott",
    "outputId": "93afd36f-b618-4d94-c277-7b598c0f74d7",
    "pycharm": {
     "name": "#%%\n"
    }
   },
   "outputs": [],
   "source": [
    "ad_cyto = load_anndata(C.fn_cyto_x, C.fn_cyto_obs, C.fn_cyto_var)\n",
    "transform_anndata(ad_cyto)\n",
    "ad_cyto.var_names = ad_cyto.var.measurement_id.astype(str)"
   ]
  },
  {
   "cell_type": "markdown",
   "metadata": {
    "id": "-6ySof-rJott",
    "pycharm": {
     "name": "#%% md\n"
    }
   },
   "source": [
    "Show example image cytoplasm"
   ]
  },
  {
   "cell_type": "code",
   "execution_count": null,
   "metadata": {
    "colab": {
     "base_uri": "https://localhost:8080/",
     "height": 303
    },
    "id": "89sgbSFnJott",
    "outputId": "90b107b9-8283-47b1-e9b0-22593e7ccef0",
    "pycharm": {
     "name": "#%%\n"
    }
   },
   "outputs": [],
   "source": [
    "fig = io.plot_imag_ad(ad_cyto[ad_cyto.obs.image_id == imid, :], 'Yb171')\n",
    "add_scalebar(fig.axes[0])"
   ]
  },
  {
   "cell_type": "code",
   "execution_count": null,
   "metadata": {
    "colab": {
     "base_uri": "https://localhost:8080/",
     "height": 271
    },
    "id": "YXlIdlsLIJEF",
    "outputId": "d71f8249-9495-417a-8a60-c8940c2a918d"
   },
   "outputs": [],
   "source": [
    "ax= plot_heatmask(img,norm=colors.PowerNorm(gamma=1./2.)) # This plots the image with sqareroot transformed values\n",
    "add_scalebar(ax)\n",
    "plot_mask_contour(io.get_mask(imid, object_type='cyto'), ax=ax, color='red')"
   ]
  },
  {
   "cell_type": "code",
   "execution_count": null,
   "metadata": {
    "colab": {
     "base_uri": "https://localhost:8080/"
    },
    "id": "faqPlwj4Jott",
    "outputId": "2a9dd0d8-3044-4b7d-a623-ca965d30e4af",
    "pycharm": {
     "name": "#%%\n"
    }
   },
   "outputs": [],
   "source": [
    "ad_cyto"
   ]
  },
  {
   "cell_type": "markdown",
   "metadata": {
    "id": "tn4b6IY2Jott",
    "pycharm": {
     "name": "#%% md\n"
    }
   },
   "source": [
    "Plot PCA and heatmap also for nuclei"
   ]
  },
  {
   "cell_type": "code",
   "execution_count": null,
   "metadata": {
    "colab": {
     "base_uri": "https://localhost:8080/"
    },
    "id": "Tu3m-BN8Jott",
    "outputId": "a5cac58b-26ef-46ac-e89f-867f54ae2f62",
    "pycharm": {
     "name": "#%%\n"
    }
   },
   "outputs": [],
   "source": [
    "fil_main = ad_nuc.var.eval('working == 1 and measurement_name == \"MeanIntensityComp\"'\n",
    "                            'and stack_name == \"FullStackFiltered\"')\n",
    "tmp_ad = ad_nuc[:, fil_main]\n",
    "sp.preprocessing.pca(tmp_ad)\n",
    "ad_nuc.obsm = tmp_ad.obsm"
   ]
  },
  {
   "cell_type": "code",
   "execution_count": null,
   "metadata": {
    "id": "G1a2J73aJotu"
   },
   "outputs": [],
   "source": [
    "ad_nuc.obs = ad_nuc.obs.reset_index().merge(dat_image[['image_id', 'cellline', 'time_point']], how='left',\n",
    "                           ).set_index('index')"
   ]
  },
  {
   "cell_type": "code",
   "execution_count": null,
   "metadata": {
    "colab": {
     "base_uri": "https://localhost:8080/",
     "height": 489
    },
    "id": "wmaTn3rEJotu",
    "outputId": "1e42a054-2f87-4fb4-fc5b-84a69d8d9530",
    "pycharm": {
     "name": "#%%\n"
    }
   },
   "outputs": [],
   "source": [
    "sp.pl.pca(ad_nuc, color='cellline')"
   ]
  },
  {
   "cell_type": "code",
   "execution_count": null,
   "metadata": {
    "colab": {
     "base_uri": "https://localhost:8080/",
     "height": 1000
    },
    "id": "oeBhiVhOJotu",
    "outputId": "b739bcc0-f602-4540-abe3-05be4cc91acc",
    "pycharm": {
     "name": "#%%\n"
    }
   },
   "outputs": [],
   "source": [
    "fil = fil_main\n",
    "axs = sp.pl.heatmap(ad_nuc, var_names=ad_nuc.var.index[fil], log=False, groupby='cellline',\n",
    "             show_gene_labels=True, standard_scale='var', show=False\n",
    "               )\n",
    "\n",
    "axs['heatmap_ax'].set_xticklabels(ad_nuc.var.goodname[fil])"
   ]
  },
  {
   "cell_type": "markdown",
   "metadata": {
    "id": "pvkiiMK5Jotv",
    "pycharm": {
     "name": "#%% md\n"
    }
   },
   "source": [
    "And for cytoplasm"
   ]
  },
  {
   "cell_type": "code",
   "execution_count": null,
   "metadata": {
    "id": "L8EurPYsJotv",
    "pycharm": {
     "name": "#%%\n"
    }
   },
   "outputs": [],
   "source": [
    "ad_cyto.obs = ad_cyto.obs.reset_index().merge(dat_image[['image_id', 'cellline', 'time_point']], how='left',\n",
    "                           ).set_index('index')"
   ]
  },
  {
   "cell_type": "code",
   "execution_count": null,
   "metadata": {
    "colab": {
     "base_uri": "https://localhost:8080/"
    },
    "id": "n_y354JWJotv",
    "outputId": "c5a92333-393f-471a-cdf6-b4356b927076",
    "pycharm": {
     "name": "#%%\n"
    }
   },
   "outputs": [],
   "source": [
    "fil_main = ad_cyto.var.eval('working == 1 and measurement_name == \"MeanIntensityComp\"'\n",
    "                            'and stack_name == \"FullStackFiltered\"')\n",
    "tmp_ad = ad_cyto[:, fil_main]\n",
    "sp.preprocessing.pca(tmp_ad)\n",
    "ad_cyto.obsm = tmp_ad.obsm\n"
   ]
  },
  {
   "cell_type": "code",
   "execution_count": null,
   "metadata": {
    "colab": {
     "base_uri": "https://localhost:8080/",
     "height": 489
    },
    "id": "MVxnehIIJotv",
    "outputId": "288daa63-6f77-4b83-d833-7748d66a737f"
   },
   "outputs": [],
   "source": [
    "sp.pl.pca(ad_cyto, color='cellline')"
   ]
  },
  {
   "cell_type": "code",
   "execution_count": null,
   "metadata": {
    "colab": {
     "base_uri": "https://localhost:8080/",
     "height": 1000
    },
    "id": "3vFQt28zJotv",
    "outputId": "2abd7f94-063f-4420-aa82-86c75e79aa2b"
   },
   "outputs": [],
   "source": [
    "fil = fil_main | (ad_cyto.var.measurement_name == 'Area')\n",
    "axs = sp.pl.heatmap(ad_nuc, var_names=ad_nuc.var.channel_name[fil], log=False, groupby='cellline',\n",
    "             gene_symbols='channel_name',show_gene_labels=True, standard_scale='var', show=False\n",
    "               )\n",
    "\n",
    "axs['heatmap_ax'].set_xticklabels(ad_nuc.var.goodname[fil])"
   ]
  },
  {
   "cell_type": "markdown",
   "metadata": {
    "id": "kBOtEhEBHchO"
   },
   "source": [
    "Scatterplot example\n",
    "\n",
    "This is a very simple example how a scatterplot of markers could be done"
   ]
  },
  {
   "cell_type": "code",
   "execution_count": null,
   "metadata": {
    "colab": {
     "base_uri": "https://localhost:8080/",
     "height": 358
    },
    "id": "MS3zmMUOHeqP",
    "outputId": "11a1ce89-de18-4b30-95e7-e1f40b258f1d"
   },
   "outputs": [],
   "source": [
    "x = ad_cell.var.query(f'measurement_name == \"dist-rim\" and channel_name == \"object\"').index[0]\n",
    "y = ad_cell.var.query(f'measurement_name == \"MeanIntensityComp\" and channel_name == \"Yb171\"').index[0]\n",
    "obs_col = 'cellline'\n",
    "\n",
    "xlab, ylab = (ad_cell.var.goodname[m] for m in (x,y))\n",
    "\n",
    "ncat = len(ad_cell.obs[obs_col].cat.categories)\n",
    "fig, axs = plt.subplots(ncols=ncat,sharex=True, sharey=True, figsize=(20,5))\n",
    "\n",
    "for ax, (group, dat) in zip(axs, ad_cell.obs.groupby(obs_col)):\n",
    "  ax.hexbin(ad_cell[dat.index, :].obs_vector(x), \n",
    "             ad_cell[dat.index, :].obs_vector(y))\n",
    "  ax.set_title(group)\n",
    "  ax.set_xlabel(xlab)\n",
    "  ax.set_ylabel(ylab)\n",
    "  ax.set_facecolor(plt.cm.viridis.colors[0])\n",
    "\n"
   ]
  },
  {
   "cell_type": "code",
   "execution_count": null,
   "metadata": {
    "id": "cwW6cd2GUOpH"
   },
   "outputs": [],
   "source": []
  },
  {
   "cell_type": "code",
   "execution_count": null,
   "metadata": {
    "id": "PAK5ThFvVMwv"
   },
   "outputs": [],
   "source": []
  }
 ],
 "metadata": {
  "colab": {
   "name": "99_browse_export_data.py.ipynb",
   "provenance": [],
   "toc_visible": true
  },
  "kernelspec": {
   "display_name": "Python 3",
   "language": "python",
   "name": "python3"
  },
  "language_info": {
   "codemirror_mode": {
    "name": "ipython",
    "version": 3
   },
   "file_extension": ".py",
   "mimetype": "text/x-python",
   "name": "python",
   "nbconvert_exporter": "python",
   "pygments_lexer": "ipython3",
   "version": "3.7.7"
  }
 },
 "nbformat": 4,
 "nbformat_minor": 0
}
