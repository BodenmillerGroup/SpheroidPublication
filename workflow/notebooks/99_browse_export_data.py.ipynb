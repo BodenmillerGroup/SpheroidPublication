{
 "cells": [
  {
   "cell_type": "code",
   "execution_count": null,
   "metadata": {
    "colab": {
     "base_uri": "https://localhost:8080/"
    },
    "id": "Pa9-8hrlFgbY",
    "outputId": "8d742bc0-c600-491e-b5dc-881def3ecc7f",
    "pycharm": {
     "name": "#%%\n"
    }
   },
   "outputs": [],
   "source": [
    "import sys\n",
    "\n",
    "IN_COLAB = \"google.colab\" in sys.modules\n",
    "\n",
    "if IN_COLAB:\n",
    "  !pip install anndata==0.7.4 scanpy==1.6.0 matplotlib_scalebar==0.6.2 pandas==1.1.* tifffile==2020.* zenodo_get"
   ]
  },
  {
   "cell_type": "code",
   "execution_count": null,
   "metadata": {
    "colab": {
     "base_uri": "https://localhost:8080/"
    },
    "id": "2Au_upVSqkuR",
    "outputId": "d073bccc-7ee3-49a8-8376-95e7073023de"
   },
   "outputs": [],
   "source": [
    "%%time\n",
    "if IN_COLAB:\n",
    "  #  Retrieve files if in google colab\n",
    "  # -> This will take ca 30 minutes!\n",
    "  !python -m zenodo_get -o zipdata 4288515\n",
    "  !unzip -n -d data zipdata/oexp_analysis_export_v3.zip "
   ]
  },
  {
   "cell_type": "code",
   "execution_count": null,
   "metadata": {
    "id": "81P8LFhrFrtF"
   },
   "outputs": [],
   "source": [
    "# Python 3.8\n",
    "import pathlib\n",
    "import scanpy as sp # '1.6.0'\n",
    "import anndata as anndata # '0.7.4'\n",
    "\n",
    "import numpy as np # '1.19.1'\n",
    "import pandas as pd # '1.1.2'\n",
    "import copy\n",
    "\n",
    "import matplotlib.pyplot as plt # '3.3.2'\n",
    "from matplotlib import colors\n",
    "from matplotlib_scalebar.scalebar import ScaleBar # '0.6.2'\n",
    "\n",
    "import tifffile # '2020.9.22'\n",
    "\n",
    "import functools"
   ]
  },
  {
   "cell_type": "markdown",
   "metadata": {
    "id": "UIM82ON8FgbZ",
    "pycharm": {
     "name": "#%% md\n"
    }
   },
   "source": [
    "# Data export exploration\n",
    "\n",
    "This should be a simple example how to load and visualize the exported overexpression dataset\n",
    "found at: xx\n",
    "\n",
    "\n",
    "This uses only 'standard' packages as well as Scanpy.\n",
    "Please read the README of the export to find precise information on the data structure.\n"
   ]
  },
  {
   "cell_type": "code",
   "execution_count": null,
   "metadata": {
    "id": "y0X4u_X2FgbZ",
    "pycharm": {
     "name": "#%%\n"
    }
   },
   "outputs": [],
   "source": [
    "class C:\n",
    "    # Folder containing the unziped dataset downloaded from zenodo\n",
    "    # adapt if snakemake is not used\n",
    "    fol_export = pathlib.Path('data') if IN_COLAB else pathlib.Path(snakemake.input.fol_export)\n",
    "    fn_cell_x = fol_export / 'cell_X.csv'\n",
    "    fn_cell_obs = fol_export / 'cell_obs.csv'\n",
    "    fn_cell_var = fol_export / 'cell_var.csv'\n",
    "    \n",
    "    fn_nuc_x = fol_export / 'nucleiexp_X.csv'\n",
    "    fn_nuc_obs = fol_export / 'nucleiexp_obs.csv'\n",
    "    fn_nuc_var = fol_export / 'nucleiexp_var.csv'\n",
    "    \n",
    "    fn_cyto_x = fol_export / 'cyto_X.csv'\n",
    "    fn_cyto_obs = fol_export / 'cyto_obs.csv'\n",
    "    fn_cyto_var = fol_export / 'cyto_var.csv'\n",
    "    \n",
    "    fn_image_meta = fol_export / 'image_meta.csv'\n",
    "    fol_image = fol_export / 'images'\n",
    "    fol_masks = fol_export / 'masks'\n",
    "    \n",
    "    fn_rel_cell_nuc = fol_export / 'relations_cell_nucleiexp.csv'\n",
    "    fn_rel_cell_cyto = fol_export / 'relations_cell_cyto.csv'"
   ]
  },
  {
   "cell_type": "markdown",
   "metadata": {
    "id": "PdeND_utFgbZ",
    "pycharm": {
     "name": "#%% md\n"
    }
   },
   "source": [
    "Some helper scripts\n",
    "\n",
    "-> could be also put in a library."
   ]
  },
  {
   "cell_type": "code",
   "execution_count": null,
   "metadata": {
    "id": "GwHfPuVPFgbZ",
    "pycharm": {
     "name": "#%%\n"
    }
   },
   "outputs": [],
   "source": [
    "def load_anndata(fn_x, fn_obs, fn_var):\n",
    "    \"\"\"\n",
    "    Helper function to initialize an anndata object using csv files.\n",
    "    :param fn_x: path to data csv (X)\n",
    "    :param fn_obs: path to obs csv\n",
    "    :param fn_var: path to var csv\n",
    "    \n",
    "    :return: the loaded anndata\n",
    "    \"\"\"\n",
    "    dat_obs = pd.read_csv(fn_obs)\n",
    "    dat_var = pd.read_csv(fn_var)\n",
    "    dat_x = pd.read_csv(fn_x, delimiter=',', header=None)\n",
    "    return anndata.AnnData(dat_x.values, obs=dat_obs, var=dat_var)\n",
    "    \n",
    "def transform_anndata(ad):\n",
    "    # In a real analysis it may not be suitable to apply a transformation\n",
    "    # to all variable, e.g. for interquartile range or other features\n",
    "    # Log transform might be not optimal.\n",
    "    fil = ad.var.eval(\"measurement_type == 'Intensity'\")\n",
    "    ad.X[:,fil] = np.log10(ad.X[:, fil]+0.1)\n",
    "    \n",
    "def map_series_on_mask(mask, label, iterable):\n",
    "    \"\"\"\n",
    "    Maps values on a mask\n",
    "    :param mask: A mask where label!=0 equals the object number\n",
    "    :param iterable: an iterable\n",
    "    :param label: labels of same lenght than iterables\n",
    "    :return: the mapped image\n",
    "    \"\"\"\n",
    "    # make a dict\n",
    "\n",
    "    labeldict = np.empty(mask.max() + 1)\n",
    "    labeldict[:] = np.NaN\n",
    "\n",
    "    for lab, val in zip(label, iterable):\n",
    "        labeldict[int(lab)] = val\n",
    "\n",
    "    out_img = labeldict[mask.flatten()]\n",
    "    out_img = np.reshape(out_img, mask.shape)\n",
    "    out_img = np.ma.array(out_img, mask=mask == 0)\n",
    "    return out_img\n",
    "\n",
    "def plot_mask_contour(mask, ax=None, linewidths=0.5, linestyles=':', color='Gray', alpha=1):\n",
    "    \"\"\"\n",
    "    Adds background mask contour\n",
    "    \"\"\"\n",
    "    if ax is None:\n",
    "        fig = plt.figure(figsize=(20,20))\n",
    "        ax = plt.gca()\n",
    "    ax.contour(mask, [0,0.5],colors=[color],linewidths=linewidths, linestyles=linestyles,alpha=alpha)\n",
    "    return ax\n",
    "\n",
    "def plot_heatmask(img, *, cmap=None, cmap_mask=None, cmap_mask_alpha=0.3, colorbar=True, ax=None,\n",
    "                  bad_color='k', bad_alpha=1, crange=None, norm=None):\n",
    "    \"\"\"\n",
    "    Plots an image with nice defaults for masked pixels.\n",
    "    \"\"\"\n",
    "    if cmap is None:\n",
    "        cmap = plt.cm.viridis\n",
    "    cmap = copy.copy(cmap)\n",
    "    cmap.set_bad(bad_color, bad_alpha)\n",
    "    if ax is None:\n",
    "        plt.close()\n",
    "        fig, ax = plt.subplots(1, 1)\n",
    "    else:\n",
    "        fig = ax.get_figure()\n",
    "\n",
    "    cax = ax.imshow(img, cmap=cmap, interpolation=\"nearest\", norm=norm)\n",
    "    if colorbar:\n",
    "        fig.colorbar(cax)\n",
    "\n",
    "    if crange is not None:\n",
    "        cax.set_clim(crange[0], crange[1])\n",
    "\n",
    "    if hasattr(img, \"mask\"):\n",
    "        mask_img = np.isnan(img)\n",
    "        if np.any(mask_img):\n",
    "            mask_img = np.ma.array(mask_img, mask=img.mask | (mask_img == False))\n",
    "            if cmap_mask is None:\n",
    "                cmap_mask = \"Greys\"\n",
    "            ax.imshow(\n",
    "                mask_img == 1,\n",
    "                cmap=cmap_mask,\n",
    "                alpha=cmap_mask_alpha,\n",
    "                interpolation=\"nearest\",\n",
    "            )\n",
    "    ax.axis('off')\n",
    "    return ax\n",
    "    \n",
    "def add_scalebar(\n",
    "    ax, resolution=0.000001, location=4, color=\"white\", pad=0.5, frameon=False, **kwargs\n",
    "):\n",
    "    \"\"\"\n",
    "    Adds a scalebar\n",
    "    \"\"\"\n",
    "    scalebar = ScaleBar(\n",
    "        resolution, location=location, color=color, pad=pad, frameon=frameon, **kwargs\n",
    "    )  # 1 pixel = 0.2 meter\n",
    "    ax.add_artist(scalebar)\n",
    "\n",
    "\n",
    "def adapt_ax_clims(axs):\n",
    "    \"\"\"\n",
    "    Adapts color axes limits such that they are shared by the all images\n",
    "    \"\"\"\n",
    "    caxs = [ax.images[0] for ax in axs if len(ax.images) > 0]\n",
    "    clims = [cax.get_clim() for cax in caxs]\n",
    "    clims = [c for c in clims if c != (True, True)]\n",
    "    clim_all = [f(c) for f, c in zip([np.min, np.max], zip(*clims))]\n",
    "    for cax in caxs:\n",
    "        cax.set_clim(clim_all)\n",
    "        \n",
    "class IoHelper:\n",
    "    \"\"\"\n",
    "    Helper class for lazy image and mask IO\n",
    "    \"\"\"\n",
    "    def __init__(self, dat_img, fol_images, fol_masks):\n",
    "        self.dat_img = dat_img\n",
    "        self.fol_masks = fol_masks\n",
    "        self.fol_images = fol_images\n",
    "        \n",
    "    @functools.lru_cache()\n",
    "    def get_mask(self, imid, object_type='cell'):\n",
    "        img = self.dat_img.query(f'image_id == {imid}')[f'mask_filename_{object_type}'].iloc[0]\n",
    "        return tifffile.imread(self.fol_masks / img)\n",
    "\n",
    "\n",
    "    @functools.lru_cache()\n",
    "    def get_image(self, imid, stack_name='FullStackComp'):\n",
    "        img = self.dat_img.query(f'image_id == {imid}')[f'image_stack_filename_{stack_name}'].iloc[0]\n",
    "        return tifffile.imread(self.fol_images / img, out='memmap')\n",
    "\n",
    "\n",
    "    def get_image_channel(self, imid, plane_number, stack_name='FullStackComp'):\n",
    "        img = self.get_image(imid, stack_name)\n",
    "        if (img.shape[2] == self.dat_img.query(f'image_id == {imid}')['image_shape_w'].iloc[0]):\n",
    "            return img[plane_number-1, :, :].squeeze()\n",
    "        else:\n",
    "            return img[:, :, plane_number-1].squeeze()\n",
    "    \n",
    "    def plot_imag_ad(self, ad, channel_name,\n",
    "                     measurement_name='MeanIntensityComp',\n",
    "                     stack_name='FullStackFiltered',\n",
    "                     figsize=None, add_colorbar=True):\n",
    "        \"\"\"\n",
    "        Plots all objects contained in the anndata, plotting the individual images as columns.\n",
    "        \n",
    "        :param ad: an anndata with obs variables: 'image_id', 'object_type', 'object_number'\n",
    "        :param chan: The channel (metal) to plot\n",
    "        :param figsize: the output image size\n",
    "        \n",
    "        :returns: the figure object\n",
    "        \"\"\"\n",
    "        imgids = ad.obs['image_id'].unique()\n",
    "        fig, axs = plt.subplots(ncols=len(imgids), figsize=figsize)\n",
    "        try:\n",
    "            len(axs)\n",
    "        except:\n",
    "            axs = [axs]\n",
    "        \n",
    "        fil = ad.var.eval(f'channel_name == \"{channel_name}\" and measurement_name == \"{measurement_name}\" and '\n",
    "                      f'stack_name == \"{stack_name}\"')\n",
    "        \n",
    "        assert sum(fil) == 1\n",
    "        for ax, ((obj_type, imid), dat) in zip(axs, ad.obs.groupby(['object_type','image_id'])):\n",
    "            mask = self.get_mask(imid, object_type=obj_type)\n",
    "            values = ad[dat.index, :][:, fil].X.squeeze()\n",
    "            labels = dat['object_number']\n",
    "            img = map_series_on_mask(mask, labels, values)\n",
    "            \n",
    "            colorbar = (ax == axs[-1]) and add_colorbar\n",
    "            plot_heatmask(img, ax=ax, colorbar=colorbar)\n",
    "            ax.axis('off')\n",
    "        adapt_ax_clims(axs)\n",
    "        return fig\n",
    "        \n",
    "    \n"
   ]
  },
  {
   "cell_type": "markdown",
   "metadata": {
    "id": "NVn5NB8IFgba",
    "pycharm": {
     "name": "#%% md\n"
    }
   },
   "source": [
    "Read the image metadta and initialize the IO handler\n",
    "\n",
    "-> This allows to conveniently retrieve images and maks."
   ]
  },
  {
   "cell_type": "code",
   "execution_count": null,
   "metadata": {
    "id": "S4BVutE4Fgba",
    "pycharm": {
     "name": "#%%\n"
    }
   },
   "outputs": [],
   "source": [
    "dat_image = pd.read_csv(C.fn_image_meta)"
   ]
  },
  {
   "cell_type": "code",
   "execution_count": null,
   "metadata": {
    "colab": {
     "base_uri": "https://localhost:8080/"
    },
    "id": "srJwMVstFgba",
    "outputId": "5aafbfd3-2801-4847-a789-182cb8b49e28"
   },
   "outputs": [],
   "source": [
    "dat_image.iloc[0,:]"
   ]
  },
  {
   "cell_type": "code",
   "execution_count": null,
   "metadata": {
    "id": "_CGxYZPKFgba",
    "pycharm": {
     "name": "#%%\n"
    }
   },
   "outputs": [],
   "source": [
    "io = IoHelper(dat_image, fol_images=C.fol_image, fol_masks=C.fol_masks)"
   ]
  },
  {
   "cell_type": "markdown",
   "metadata": {
    "id": "Ycd7f8GyFgba",
    "pycharm": {
     "name": "#%% md\n"
    }
   },
   "source": [
    "Load the cell anndata\n",
    "\n",
    "-> All analyses in the paper were only done based on cellular readouts.\n",
    "\n",
    "This also transforms the data using: log10(x+0.1)"
   ]
  },
  {
   "cell_type": "code",
   "execution_count": null,
   "metadata": {
    "colab": {
     "base_uri": "https://localhost:8080/"
    },
    "id": "As3lRLrZFgba",
    "outputId": "58c0675f-4795-4f7a-f517-0dfbc07fea0c",
    "pycharm": {
     "name": "#%%\n"
    }
   },
   "outputs": [],
   "source": [
    "ad_cell = load_anndata(C.fn_cell_x, C.fn_cell_obs, C.fn_cell_var)\n",
    "transform_anndata(ad_cell)"
   ]
  },
  {
   "cell_type": "code",
   "execution_count": null,
   "metadata": {
    "colab": {
     "base_uri": "https://localhost:8080/",
     "height": 206
    },
    "id": "XkqLK96xFgba",
    "outputId": "9ffa47cf-4c5f-4c8b-81f9-918216545817",
    "pycharm": {
     "name": "#%%\n"
    }
   },
   "outputs": [],
   "source": [
    "ad_cell.obs.head()"
   ]
  },
  {
   "cell_type": "code",
   "execution_count": null,
   "metadata": {
    "colab": {
     "base_uri": "https://localhost:8080/",
     "height": 300
    },
    "id": "ZWHZbqxdFgbb",
    "outputId": "21342fb4-9e49-4da0-9102-7bcb30046279"
   },
   "outputs": [],
   "source": [
    "ad_cell.obs.describe()"
   ]
  },
  {
   "cell_type": "code",
   "execution_count": null,
   "metadata": {
    "colab": {
     "base_uri": "https://localhost:8080/",
     "height": 513
    },
    "id": "OQGCdFyuFgbb",
    "outputId": "f0f9c731-efc8-4acb-a2ee-59ae7a223eed",
    "pycharm": {
     "name": "#%%\n"
    }
   },
   "outputs": [],
   "source": [
    "ad_cell.var"
   ]
  },
  {
   "cell_type": "code",
   "execution_count": null,
   "metadata": {
    "colab": {
     "base_uri": "https://localhost:8080/"
    },
    "id": "i2l5sEDUrL31",
    "outputId": "fe0ceeaf-8964-44dd-8e27-ad160be22522"
   },
   "outputs": [],
   "source": [
    "ad_cell.var.measurement_name.unique()"
   ]
  },
  {
   "cell_type": "markdown",
   "metadata": {
    "id": "lScupgJpFgbb",
    "pycharm": {
     "name": "#%% md\n"
    }
   },
   "source": [
    "Add a 'plot name' that combines the metal with a human readable name"
   ]
  },
  {
   "cell_type": "code",
   "execution_count": null,
   "metadata": {
    "id": "s8f5ex5cFgbb"
   },
   "outputs": [],
   "source": [
    "ad_cell.var['plot_name'] = (ad_cell.var\n",
    "                            .apply(lambda row: f'{row[\"goodname\"]} - {row[\"channel_name\"]}', axis=1)\n",
    "                            .astype(pd.CategoricalDtype())\n",
    "                           )"
   ]
  },
  {
   "cell_type": "code",
   "execution_count": null,
   "metadata": {
    "colab": {
     "base_uri": "https://localhost:8080/"
    },
    "id": "BaDojjKlFgbb",
    "outputId": "ef6b481a-857d-474a-e78a-44a5dc76e75c",
    "pycharm": {
     "name": "#%%\n"
    }
   },
   "outputs": [],
   "source": [
    "ad_cell.var['plot_name'] "
   ]
  },
  {
   "cell_type": "markdown",
   "metadata": {
    "id": "XQXTmJ-lFgbb",
    "pycharm": {
     "name": "#%% md\n"
    }
   },
   "source": [
    "Show how this could be visualized using eg a PCA"
   ]
  },
  {
   "cell_type": "code",
   "execution_count": null,
   "metadata": {
    "id": "uZWNU7fpFgbb",
    "pycharm": {
     "name": "#%%\n"
    }
   },
   "outputs": [],
   "source": [
    "ad_cell.var_names = ad_cell.var.measurement_id.astype(str)"
   ]
  },
  {
   "cell_type": "code",
   "execution_count": null,
   "metadata": {
    "colab": {
     "base_uri": "https://localhost:8080/"
    },
    "id": "r5BowdDpFgbb",
    "outputId": "f5b23aa2-859d-44cb-f24d-0abfaef56143"
   },
   "outputs": [],
   "source": [
    "ad_cell.obs.iloc[0,:]"
   ]
  },
  {
   "cell_type": "code",
   "execution_count": null,
   "metadata": {
    "colab": {
     "base_uri": "https://localhost:8080/"
    },
    "id": "1h7IBc7uFgbb",
    "outputId": "e5aa6cae-a632-457e-8305-67baf34c175b"
   },
   "outputs": [],
   "source": [
    "dat_image.iloc[0,:]"
   ]
  },
  {
   "cell_type": "code",
   "execution_count": null,
   "metadata": {
    "id": "SyXyqbkhFgbb",
    "pycharm": {
     "name": "#%%\n"
    }
   },
   "outputs": [],
   "source": [
    "ad_cell.obs = ad_cell.obs.reset_index().merge(dat_image[['image_id', 'condition_name']], how='left',\n",
    "                           ).set_index('index')"
   ]
  },
  {
   "cell_type": "code",
   "execution_count": null,
   "metadata": {
    "colab": {
     "base_uri": "https://localhost:8080/"
    },
    "id": "aQSqmybmFgbc",
    "outputId": "b87ca51f-89e2-4aa2-c891-f4b60b469dd3",
    "pycharm": {
     "name": "#%%\n"
    }
   },
   "outputs": [],
   "source": [
    "fil_main = ad_cell.var.eval('working == 1 and measurement_name == \"MeanIntensityComp\"'\n",
    "                            'and stack_name == \"FullStackFiltered\"')\n",
    "tmp_ad = ad_cell[:, fil_main]\n",
    "sp.preprocessing.pca(tmp_ad)\n",
    "ad_cell.obsm = tmp_ad.obsm"
   ]
  },
  {
   "cell_type": "code",
   "execution_count": null,
   "metadata": {
    "colab": {
     "base_uri": "https://localhost:8080/",
     "height": 506
    },
    "id": "XKqpdLEuFgbc",
    "outputId": "f0604304-d4a4-4510-fffc-d82121f67f43",
    "pycharm": {
     "name": "#%%\n"
    }
   },
   "outputs": [],
   "source": [
    "sp.pl.pca(ad_cell, color='modelfitcond_v1')"
   ]
  },
  {
   "cell_type": "code",
   "execution_count": null,
   "metadata": {
    "colab": {
     "base_uri": "https://localhost:8080/",
     "height": 283
    },
    "id": "9AvayfBRFgbc",
    "outputId": "63f33380-8c4c-40eb-a25b-d39009aa1252",
    "pycharm": {
     "name": "#%%\n"
    }
   },
   "outputs": [],
   "source": [
    "fil = ad_cell.var.eval(f'measurement_name == \"MeanIntensityComp\" and channel_name in [\"Er167\", \"Tm169\"]')\n",
    "axs = sp.pl.pca(ad_cell, color=ad_cell.var.index[fil], show=False)\n",
    "for ax, tit in zip(axs, ad_cell.var.plot_name[fil]):\n",
    "    ax.set_title(tit)\n",
    "plt.show()"
   ]
  },
  {
   "cell_type": "code",
   "execution_count": null,
   "metadata": {
    "colab": {
     "base_uri": "https://localhost:8080/"
    },
    "id": "m6ARwtN9Fgbc",
    "outputId": "e14c0a35-7c11-499a-a2b3-9e32f7a6a332",
    "pycharm": {
     "name": "#%%\n"
    }
   },
   "outputs": [],
   "source": [
    "len(ad_cell.var.plot_name.cat.categories)"
   ]
  },
  {
   "cell_type": "markdown",
   "metadata": {
    "id": "PNUrK2oaFgbc",
    "pycharm": {
     "name": "#%% md\n"
    }
   },
   "source": [
    "Visualize the data as a heatmap"
   ]
  },
  {
   "cell_type": "code",
   "execution_count": null,
   "metadata": {
    "colab": {
     "base_uri": "https://localhost:8080/",
     "height": 1000
    },
    "id": "mo0VZ-lPFgbd",
    "outputId": "c4c9388e-4312-4e91-ecf1-69d861eee889",
    "pycharm": {
     "name": "#%%\n"
    }
   },
   "outputs": [],
   "source": [
    "fil = ad_cell.var.eval('working == 1 and measurement_name == \"MeanIntensityComp\"'\n",
    "                            'and stack_name == \"FullStackFiltered\"')\n",
    "axs = sp.pl.heatmap(ad_cell, var_names=ad_cell.var.index[fil], log=False, groupby='modelfitcond_v1',\n",
    "             show_gene_labels=True, standard_scale='var', show=False\n",
    "               )\n",
    "\n",
    "axs['heatmap_ax'].set_xticklabels(ad_cell.var.plot_name[fil])"
   ]
  },
  {
   "cell_type": "markdown",
   "metadata": {
    "id": "W471EVb8Fgbd",
    "pycharm": {
     "name": "#%% md\n"
    }
   },
   "source": [
    "Show how the data could be visualized using a heatplot, mapping the average intensities on a mask\n",
    "\n",
    "\n",
    "-> Cells which were filtered out during QC are displayed as grey"
   ]
  },
  {
   "cell_type": "code",
   "execution_count": null,
   "metadata": {
    "colab": {
     "base_uri": "https://localhost:8080/",
     "height": 299
    },
    "id": "wGc1UNeWFgbd",
    "outputId": "394b12bf-acad-41d9-f98e-3403501be7af",
    "pycharm": {
     "name": "#%%\n"
    }
   },
   "outputs": [],
   "source": [
    "fig = io.plot_imag_ad(ad_cell[ad_cell.obs.image_id.isin(ad_cell.obs.image_id.unique()[:10]) , :],\n",
    "                      'Ir193', figsize=(15,20))"
   ]
  },
  {
   "cell_type": "markdown",
   "metadata": {
    "id": "bXj5NYK1Fgbd",
    "pycharm": {
     "name": "#%% md\n"
    }
   },
   "source": [
    "Show how raw images could be visualized"
   ]
  },
  {
   "cell_type": "code",
   "execution_count": null,
   "metadata": {
    "id": "XpzqLv5ZFgbd",
    "pycharm": {
     "name": "#%%\n"
    }
   },
   "outputs": [],
   "source": [
    "imid = 123"
   ]
  },
  {
   "cell_type": "code",
   "execution_count": null,
   "metadata": {
    "colab": {
     "base_uri": "https://localhost:8080/",
     "height": 271
    },
    "id": "284WnTXoFgbd",
    "outputId": "e0931b8f-efa1-4ae4-8952-0710810e5802",
    "pycharm": {
     "name": "#%%\n"
    }
   },
   "outputs": [],
   "source": [
    "fil = ad_cell.var.eval(f'channel_name == \"Tm169\" and stack_name == \"FullStackFiltered\"')\n",
    "img = io.get_image_channel(imid, ad_cell.var.ref_plane_number[fil][0])\n",
    "ax= plot_heatmask(img,norm=colors.PowerNorm(gamma=1./2.)) # This plots the image with sqareroot transformed values\n",
    "add_scalebar(ax)\n",
    "plot_mask_contour(io.get_mask(imid), ax=ax)"
   ]
  },
  {
   "cell_type": "code",
   "execution_count": null,
   "metadata": {
    "id": "LMfyZoA3DwmT"
   },
   "outputs": [],
   "source": [
    "def highlight_classes(imid, ad, ax):\n",
    "  \"\"\"\n",
    "  Helper function:\n",
    "  Highlight overexpressing cells in green, doubt in red (not clear if overexpressing or\n",
    "  neighours of overexpressing cells) and neighbours in blue (clearly not overexpressing but\n",
    "  neighbour of overexpressing)\n",
    "\n",
    "  \"\"\"\n",
    "  tad = ad[ad.obs.image_id == imid, :]\n",
    "  for col, cls in (['green', 'oexp'], ['blue', 'oexp-NB'], ['red', 'doubt']):\n",
    "    fil = tad.obs.eval(f\"modelfitcond_v1 == '{cls}'\")\n",
    "    plot_mask_contour(np.isin(io.get_mask(imid), tad.obs.object_number.loc[fil]),\n",
    "                      ax=ax, color=col, alpha=0.8)\n",
    "  return ax\n"
   ]
  },
  {
   "cell_type": "code",
   "execution_count": null,
   "metadata": {
    "colab": {
     "base_uri": "https://localhost:8080/",
     "height": 309
    },
    "id": "JyXUqElwF9rN",
    "outputId": "6b2dead8-2126-49c9-d360-5394ae287190"
   },
   "outputs": [],
   "source": [
    "ax = highlight_classes(imid, ad_cell, ax)\n",
    "ax.get_figure()"
   ]
  },
  {
   "cell_type": "code",
   "execution_count": null,
   "metadata": {
    "colab": {
     "base_uri": "https://localhost:8080/",
     "height": 265
    },
    "id": "_VJV9peEFgbd",
    "outputId": "92f9488f-dd9d-4378-fbcc-9dac109a1acd",
    "pycharm": {
     "name": "#%%\n"
    }
   },
   "outputs": [],
   "source": [
    "fil = ad_cell.var.eval(f'channel_name == \"GFP\" and stack_name == \"IfStack\"')\n",
    "img = io.get_image_channel(imid, ad_cell.var.ref_plane_number[fil][0], stack_name=\"IfStack\")\n",
    "ax= plot_heatmask(img, norm=colors.PowerNorm(gamma=1./2.))\n",
    "add_scalebar(ax)\n",
    "plot_mask_contour(io.get_mask(imid), ax=ax)"
   ]
  },
  {
   "cell_type": "code",
   "execution_count": null,
   "metadata": {
    "colab": {
     "base_uri": "https://localhost:8080/",
     "height": 303
    },
    "id": "huIitCrBGVxW",
    "outputId": "b20d15ec-7b27-4272-beb2-01f008be4f62"
   },
   "outputs": [],
   "source": [
    "ax = highlight_classes(imid, ad_cell, ax)\n",
    "ax.get_figure()"
   ]
  },
  {
   "cell_type": "code",
   "execution_count": null,
   "metadata": {
    "colab": {
     "base_uri": "https://localhost:8080/",
     "height": 265
    },
    "id": "g4VMaHskFgbd",
    "outputId": "6203c567-3f83-49cb-c762-b24b99e8a88b"
   },
   "outputs": [],
   "source": [
    "fil = ad_cell.var.eval(f'channel_name == \"DAPI\" and stack_name == \"IfStack\"')\n",
    "img = io.get_image_channel(imid, ad_cell.var.ref_plane_number[fil][0], stack_name=\"IfStack\")\n",
    "ax= plot_heatmask(img, norm=colors.PowerNorm(gamma=1./2.))\n",
    "add_scalebar(ax)\n",
    "plot_mask_contour(io.get_mask(imid), ax=ax, color='red')"
   ]
  },
  {
   "cell_type": "markdown",
   "metadata": {
    "id": "wUN-2SVOFgbd",
    "pycharm": {
     "name": "#%% md\n"
    }
   },
   "source": [
    "The same image as heatmask"
   ]
  },
  {
   "cell_type": "code",
   "execution_count": null,
   "metadata": {
    "colab": {
     "base_uri": "https://localhost:8080/",
     "height": 309
    },
    "id": "qyqn7zMAFgbd",
    "outputId": "74dabdc6-98fc-493f-93d7-7d67dbecb554",
    "pycharm": {
     "name": "#%%\n"
    }
   },
   "outputs": [],
   "source": [
    "fig = io.plot_imag_ad(ad_cell[ad_cell.obs.image_id == imid, :], 'Tm169')\n",
    "add_scalebar(fig.axes[0])"
   ]
  },
  {
   "cell_type": "code",
   "execution_count": null,
   "metadata": {
    "colab": {
     "base_uri": "https://localhost:8080/",
     "height": 303
    },
    "id": "aQ21Efq-Fgbd",
    "outputId": "cd7c6eaa-be1d-4797-8f37-4c15e0b6f71d"
   },
   "outputs": [],
   "source": [
    "fig = io.plot_imag_ad(ad_cell[ad_cell.obs.image_id == imid, :], 'GFP',\n",
    "                     measurement_name='MeanIntensity',\n",
    "                     stack_name='IfStack')\n",
    "add_scalebar(fig.axes[0])"
   ]
  },
  {
   "cell_type": "markdown",
   "metadata": {
    "id": "zdUb8UBSrkl1"
   },
   "source": [
    "fig = io.plot_imag_ad(ad_cell[ad_cell.obs.image_id == imid, :],\n",
    "                      'Tm169',\n",
    "                     measurement_name='NbMeanMeanIntensityComp',\n",
    "                     stack_name='FullStackFiltered')\n",
    "add_scalebar(fig.axes[0])"
   ]
  },
  {
   "cell_type": "code",
   "execution_count": null,
   "metadata": {
    "colab": {
     "base_uri": "https://localhost:8080/",
     "height": 303
    },
    "id": "1UOCtH0OFgbd",
    "outputId": "a89d0976-3ebf-4af1-f54e-59aed0124571"
   },
   "outputs": [],
   "source": [
    "fig = io.plot_imag_ad(ad_cell[ad_cell.obs.image_id == imid, :],\n",
    "                     channel_name='object', measurement_name='dist-rim',\n",
    "                     stack_name='ObjectStack')\n",
    "add_scalebar(fig.axes[0])"
   ]
  },
  {
   "cell_type": "code",
   "execution_count": null,
   "metadata": {
    "colab": {
     "base_uri": "https://localhost:8080/",
     "height": 303
    },
    "id": "gqo2PVowFgbd",
    "outputId": "cbb4b5b6-a8c2-460d-9214-ef304ccf2b33"
   },
   "outputs": [],
   "source": [
    "fig = io.plot_imag_ad(ad_cell[ad_cell.obs.image_id == imid, :],\n",
    "                     channel_name='object', measurement_name='Center_X',\n",
    "                     stack_name='ObjectStack')\n",
    "add_scalebar(fig.axes[0])"
   ]
  },
  {
   "cell_type": "code",
   "execution_count": null,
   "metadata": {
    "colab": {
     "base_uri": "https://localhost:8080/",
     "height": 303
    },
    "id": "jjt5X0WlRtX8",
    "outputId": "6661e5e4-0b0d-4c17-d155-99e0711188dd"
   },
   "outputs": [],
   "source": [
    "fig = io.plot_imag_ad(ad_cell[ad_cell.obs.image_id == imid, :],\n",
    "                     channel_name='object', measurement_name='Area',\n",
    "                     stack_name='ObjectStack')\n",
    "add_scalebar(fig.axes[0])"
   ]
  },
  {
   "cell_type": "markdown",
   "metadata": {
    "id": "grge2NYCFgbd",
    "pycharm": {
     "name": "#%% md\n"
    }
   },
   "source": [
    "## Also load nuclear and cytoplasmic data\n",
    "\n",
    "(This was not used in the paper)"
   ]
  },
  {
   "cell_type": "markdown",
   "metadata": {
    "id": "pia9cz8tRtX9"
   },
   "source": [
    "### Load and plot nuclear data"
   ]
  },
  {
   "cell_type": "code",
   "execution_count": null,
   "metadata": {
    "colab": {
     "base_uri": "https://localhost:8080/"
    },
    "id": "3ToKnmOqFgbd",
    "outputId": "21c61cf5-f474-4a01-a358-e45e6b8c7385",
    "pycharm": {
     "name": "#%%\n"
    }
   },
   "outputs": [],
   "source": [
    "ad_nuc = load_anndata(C.fn_nuc_x, C.fn_nuc_obs, C.fn_nuc_var)\n",
    "transform_anndata(ad_nuc)\n",
    "ad_nuc.var_names = ad_nuc.var.measurement_id.astype(str)"
   ]
  },
  {
   "cell_type": "markdown",
   "metadata": {
    "id": "75iARk-iFgbd",
    "pycharm": {
     "name": "#%% md\n"
    }
   },
   "source": [
    "Get relation with cell ids"
   ]
  },
  {
   "cell_type": "code",
   "execution_count": null,
   "metadata": {
    "colab": {
     "base_uri": "https://localhost:8080/",
     "height": 81
    },
    "id": "LnTRoqLfFgbe",
    "outputId": "922b9a78-166a-4e3a-e715-afda6342a5b7"
   },
   "outputs": [],
   "source": [
    "rel_cell_nuc = pd.read_csv(C.fn_rel_cell_nuc)\n",
    "rel_cell_nuc.head(1)"
   ]
  },
  {
   "cell_type": "markdown",
   "metadata": {
    "id": "OxCjuPBeFgbe",
    "pycharm": {
     "name": "#%% md\n"
    }
   },
   "source": [
    "Identify nuclei of overexpressing cells via relations"
   ]
  },
  {
   "cell_type": "code",
   "execution_count": null,
   "metadata": {
    "id": "SAYh6Ln5Fgbe"
   },
   "outputs": [],
   "source": [
    "ad_nuc.obs = (\n",
    "    rel_cell_nuc\n",
    "    # sometimes a nuclei can belong to two cells...\n",
    "    .drop_duplicates('object_id_nucleiexp')\n",
    "     .merge(ad_cell.obs[['object_id', 'modelfitcond_v1']], left_on='object_id_cell', right_on='object_id')\n",
    "     .drop(columns=['object_id'])\n",
    "     .merge(ad_nuc.obs.reset_index(), left_on='object_id_nucleiexp', right_on='object_id', how='right')\n",
    "     .set_index('index')\n",
    ")"
   ]
  },
  {
   "cell_type": "markdown",
   "metadata": {
    "id": "XtWrHAkxFgbe",
    "pycharm": {
     "name": "#%% md\n"
    }
   },
   "source": [
    "Show example image nuclei"
   ]
  },
  {
   "cell_type": "code",
   "execution_count": null,
   "metadata": {
    "colab": {
     "base_uri": "https://localhost:8080/",
     "height": 309
    },
    "id": "Coxsuw6VFgbe",
    "outputId": "39a82a1d-3da5-4c0e-8a73-08dc066ed929",
    "pycharm": {
     "name": "#%%\n"
    }
   },
   "outputs": [],
   "source": [
    "fig = io.plot_imag_ad(ad_nuc[ad_nuc.obs.image_id == imid, :], 'Tm169')\n",
    "add_scalebar(fig.axes[0])"
   ]
  },
  {
   "cell_type": "markdown",
   "metadata": {
    "id": "y4rAUph_Fgbe"
   },
   "source": [
    "Also do pca and heamap for nuclei"
   ]
  },
  {
   "cell_type": "code",
   "execution_count": null,
   "metadata": {
    "colab": {
     "base_uri": "https://localhost:8080/"
    },
    "id": "XAPfPWjvFgbf",
    "outputId": "194bfdd0-2481-44d4-a5f9-f77092cb0257",
    "pycharm": {
     "name": "#%%\n"
    }
   },
   "outputs": [],
   "source": [
    "fil_main = ad_nuc.var.eval('working == 1 and measurement_name == \"MeanIntensityComp\"'\n",
    "                            'and stack_name == \"FullStackFiltered\"')\n",
    "tmp_ad = ad_nuc[:, fil_main]\n",
    "sp.preprocessing.pca(tmp_ad)\n",
    "ad_nuc.obsm = tmp_ad.obsm"
   ]
  },
  {
   "cell_type": "code",
   "execution_count": null,
   "metadata": {
    "id": "GegimEnrFgbf",
    "pycharm": {
     "name": "#%%\n"
    }
   },
   "outputs": [],
   "source": [
    "ad_nuc.obs = ad_nuc.obs.reset_index().merge(dat_image[['image_id', 'condition_name']], how='left',\n",
    "                           ).set_index('index')"
   ]
  },
  {
   "cell_type": "code",
   "execution_count": null,
   "metadata": {
    "colab": {
     "base_uri": "https://localhost:8080/",
     "height": 489
    },
    "id": "yzXQ-JmgFgbf",
    "outputId": "93fd8f78-9df6-4baf-b5be-48a78cb1e7e1",
    "pycharm": {
     "name": "#%%\n"
    }
   },
   "outputs": [],
   "source": [
    "sp.pl.pca(ad_nuc, color='modelfitcond_v1')"
   ]
  },
  {
   "cell_type": "code",
   "execution_count": null,
   "metadata": {
    "colab": {
     "base_uri": "https://localhost:8080/",
     "height": 283
    },
    "id": "UPjvrTojFgbf",
    "outputId": "f670bc81-456c-48bb-b83d-a3cdcdbf1433",
    "pycharm": {
     "name": "#%%\n"
    }
   },
   "outputs": [],
   "source": [
    "fil = ad_nuc.var.eval(f'measurement_name == \"MeanIntensityComp\" and channel_name in [\"Er167\", \"Tm169\"]')\n",
    "axs = sp.pl.pca(ad_nuc, color=ad_nuc.var.index[fil], show=False)\n",
    "for ax, tit in zip(axs, ad_nuc.var.goodname[fil]):\n",
    "    ax.set_title(tit)\n",
    "plt.show()"
   ]
  },
  {
   "cell_type": "code",
   "execution_count": null,
   "metadata": {
    "colab": {
     "base_uri": "https://localhost:8080/",
     "height": 1000
    },
    "id": "oiol-iByFgbf",
    "outputId": "801b4113-13e7-4163-9dbf-f2c38c54ba39",
    "pycharm": {
     "name": "#%%\n"
    }
   },
   "outputs": [],
   "source": [
    "fil = fil_main | (ad_nuc.var.measurement_name == 'Area')\n",
    "axs = sp.pl.heatmap(ad_nuc, var_names=ad_nuc.var.index[fil], log=False, groupby='modelfitcond_v1',\n",
    "             show_gene_labels=True, standard_scale='var', show=False\n",
    "               )\n",
    "\n",
    "axs['heatmap_ax'].set_xticklabels(ad_nuc.var.goodname[fil])"
   ]
  },
  {
   "cell_type": "markdown",
   "metadata": {
    "id": "zwfpcjR_RtX-"
   },
   "source": [
    "### Load cytoplasm data"
   ]
  },
  {
   "cell_type": "code",
   "execution_count": null,
   "metadata": {
    "colab": {
     "base_uri": "https://localhost:8080/"
    },
    "id": "kr4BaJ4nFgbe",
    "outputId": "b3102a78-b614-4d34-9306-39cab45f5384",
    "pycharm": {
     "name": "#%%\n"
    }
   },
   "outputs": [],
   "source": [
    "ad_cyto = load_anndata(C.fn_cyto_x, C.fn_cyto_obs, C.fn_cyto_var)\n",
    "transform_anndata(ad_cyto)\n",
    "ad_cyto.var_names = ad_cyto.var.measurement_id.astype(str)"
   ]
  },
  {
   "cell_type": "markdown",
   "metadata": {
    "id": "60aNZ1iAFgbe",
    "pycharm": {
     "name": "#%% md\n"
    }
   },
   "source": [
    "Match cytopasm "
   ]
  },
  {
   "cell_type": "markdown",
   "metadata": {
    "id": "KAIA_J_lFgbe",
    "pycharm": {
     "name": "#%% md\n"
    }
   },
   "source": [
    "Get relation with cell ids"
   ]
  },
  {
   "cell_type": "code",
   "execution_count": null,
   "metadata": {
    "colab": {
     "base_uri": "https://localhost:8080/",
     "height": 81
    },
    "id": "8_GudTFTFgbe",
    "outputId": "21472f43-7ace-489e-a957-420992f38b16"
   },
   "outputs": [],
   "source": [
    "rel_cell_cyto = pd.read_csv(C.fn_rel_cell_cyto)\n",
    "rel_cell_cyto.head(1)"
   ]
  },
  {
   "cell_type": "markdown",
   "metadata": {
    "id": "f9_Qu2F1Fgbe"
   },
   "source": [
    "Identify cytoplasm of overexpressing cells via relations"
   ]
  },
  {
   "cell_type": "code",
   "execution_count": null,
   "metadata": {
    "id": "IYxZUNKSFgbe",
    "pycharm": {
     "name": "#%%\n"
    }
   },
   "outputs": [],
   "source": [
    "ad_cyto.obs = (\n",
    "    rel_cell_cyto\n",
    "    # sometimes a cytoplasm can belong to two cells...\n",
    "    .drop_duplicates('object_id_cyto')\n",
    "     .merge(ad_cell.obs[['object_id', 'modelfitcond_v1']], left_on='object_id_cell', right_on='object_id')\n",
    "     .drop(columns=['object_id'])\n",
    "     .merge(ad_cyto.obs.reset_index(), left_on='object_id_cyto', right_on='object_id', how='right')\n",
    "     .set_index('index')\n",
    ")"
   ]
  },
  {
   "cell_type": "markdown",
   "metadata": {
    "id": "cn2dgsf-Fgbe",
    "pycharm": {
     "name": "#%% md\n"
    }
   },
   "source": [
    "Show example image cytoplasm"
   ]
  },
  {
   "cell_type": "code",
   "execution_count": null,
   "metadata": {
    "colab": {
     "base_uri": "https://localhost:8080/",
     "height": 309
    },
    "id": "Gn2zTdjvFgbe",
    "outputId": "a5cb08a1-0fdb-4322-b5c4-3bfad79a2be6",
    "pycharm": {
     "name": "#%%\n"
    }
   },
   "outputs": [],
   "source": [
    "fig = io.plot_imag_ad(ad_cyto[ad_cyto.obs.image_id == imid, :], 'Tm169')\n",
    "add_scalebar(fig.axes[0])"
   ]
  },
  {
   "cell_type": "markdown",
   "metadata": {
    "id": "B5PmCtrxRtX-"
   },
   "source": [
    "Plot heatmap and PCA"
   ]
  },
  {
   "cell_type": "code",
   "execution_count": null,
   "metadata": {
    "id": "V7V1uYRHFgbf",
    "pycharm": {
     "name": "#%%\n"
    }
   },
   "outputs": [],
   "source": [
    "ad_cyto.obs = ad_cyto.obs.reset_index().merge(dat_image[['image_id', 'condition_name']], how='left',\n",
    "                           ).set_index('index')"
   ]
  },
  {
   "cell_type": "code",
   "execution_count": null,
   "metadata": {
    "colab": {
     "base_uri": "https://localhost:8080/"
    },
    "id": "NloD6l9cFgbf",
    "outputId": "0c6b9af9-0877-4e1e-9f53-f1128dd62801",
    "pycharm": {
     "name": "#%%\n"
    }
   },
   "outputs": [],
   "source": [
    "fil_main = ad_cyto.var.eval('working == 1 and measurement_name == \"MeanIntensityComp\"'\n",
    "                            'and stack_name == \"FullStackFiltered\"')\n",
    "tmp_ad = ad_cyto[:, fil_main]\n",
    "sp.preprocessing.pca(tmp_ad)\n",
    "ad_cyto.obsm = tmp_ad.obsm\n"
   ]
  },
  {
   "cell_type": "code",
   "execution_count": null,
   "metadata": {
    "colab": {
     "base_uri": "https://localhost:8080/",
     "height": 489
    },
    "id": "WiXrh_VBFgbf",
    "outputId": "e59db43e-581c-4302-9489-7fda42cf29fe",
    "pycharm": {
     "name": "#%%\n"
    }
   },
   "outputs": [],
   "source": [
    "sp.pl.pca(ad_cyto, color='modelfitcond_v1')"
   ]
  },
  {
   "cell_type": "code",
   "execution_count": null,
   "metadata": {
    "colab": {
     "base_uri": "https://localhost:8080/",
     "height": 283
    },
    "id": "SR8qhjfoFgbf",
    "outputId": "6d106055-2867-4924-d6e8-4b34b31c6632",
    "pycharm": {
     "name": "#%%\n"
    }
   },
   "outputs": [],
   "source": [
    "fil = ad_cyto.var.eval(f'measurement_name == \"MeanIntensityComp\" and channel_name in [\"Er167\", \"Tm169\"]')\n",
    "axs = sp.pl.pca(ad_cyto, color=ad_cyto.var.index[fil], show=False)\n",
    "for ax, tit in zip(axs, ad_cyto.var.goodname[fil]):\n",
    "    ax.set_title(tit)\n",
    "plt.show()"
   ]
  },
  {
   "cell_type": "code",
   "execution_count": null,
   "metadata": {
    "colab": {
     "base_uri": "https://localhost:8080/",
     "height": 1000
    },
    "id": "pF_Ew7oKFgbf",
    "outputId": "78ccdbe7-e3d7-46a6-88fe-72cd0c3eb504",
    "pycharm": {
     "name": "#%%\n"
    }
   },
   "outputs": [],
   "source": [
    "fil = fil_main | (ad_cyto.var.measurement_name == 'Area')\n",
    "axs = sp.pl.heatmap(ad_nuc, var_names=ad_nuc.var.channel_name[fil], log=False, groupby='modelfitcond_v1',\n",
    "             gene_symbols='channel_name',show_gene_labels=True, standard_scale='var', show=False\n",
    "               )\n",
    "\n",
    "axs['heatmap_ax'].set_xticklabels(ad_nuc.var.goodname[fil])"
   ]
  },
  {
   "cell_type": "markdown",
   "metadata": {
    "id": "xvx9b-gPR_YX"
   },
   "source": [
    "Scatterplot example\n",
    "\n",
    "This is a very simple example how a scatterplot of markers could be done"
   ]
  },
  {
   "cell_type": "code",
   "execution_count": null,
   "metadata": {
    "colab": {
     "base_uri": "https://localhost:8080/",
     "height": 340
    },
    "id": "To1JHebFR8kB",
    "outputId": "b71111a6-df1e-46a9-9fbb-e45096b71482"
   },
   "outputs": [],
   "source": [
    "x = ad_cell.var.query(f'measurement_name == \"MeanIntensityComp\" and channel_name == \"Tm169\"').index[0]\n",
    "y = ad_cell.var.query(f'measurement_name == \"MeanIntensityComp\" and channel_name == \"Er167\"').index[0]\n",
    "obs_col = 'modelfitcond_v1'\n",
    "xlab, ylab = (ad_cell.var.goodname[m] for m in (x,y))\n",
    "\n",
    "ncat = len(ad_cell.obs[obs_col].cat.categories)\n",
    "fig, axs = plt.subplots(ncols=ncat,sharex=True, sharey=True, figsize=(20,5))\n",
    "\n",
    "for ax, (group, dat) in zip(axs, ad_cell.obs.groupby(obs_col)):\n",
    "  ax.hexbin(ad_cell[dat.index, :].obs_vector(x), \n",
    "            ad_cell[dat.index, :].obs_vector(y),)\n",
    "  ax.set_title(group)\n",
    "  ax.set_xlabel(xlab)\n",
    "  ax.set_ylabel(ylab)\n",
    "  ax.set_facecolor(plt.cm.viridis.colors[0])\n"
   ]
  }
 ],
 "metadata": {
  "colab": {
   "name": "99_browse_export_data.py.ipynb",
   "provenance": []
  },
  "kernelspec": {
   "display_name": "Python 3",
   "language": "python",
   "name": "python3"
  },
  "language_info": {
   "codemirror_mode": {
    "name": "ipython",
    "version": 3
   },
   "file_extension": ".py",
   "mimetype": "text/x-python",
   "name": "python",
   "nbconvert_exporter": "python",
   "pygments_lexer": "ipython3",
   "version": "3.7.7"
  }
 },
 "nbformat": 4,
 "nbformat_minor": 0
}
