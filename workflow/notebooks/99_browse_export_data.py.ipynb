{
 "cells": [
  {
   "cell_type": "code",
   "execution_count": null,
   "metadata": {
    "pycharm": {
     "name": "#%%\n"
    }
   },
   "outputs": [],
   "source": [
    "# Python 3.8\n",
    "import pathlib\n",
    "import scanpy as sp # '1.6.0'\n",
    "import anndata as anndata # '0.7.4'\n",
    "\n",
    "import numpy as np # '1.19.1'\n",
    "import pandas as pd # '1.1.2'\n",
    "import copy\n",
    "\n",
    "import matplotlib.pyplot as plt # '3.3.2'\n",
    "from matplotlib_scalebar.scalebar import ScaleBar # '0.6.2'\n",
    "\n",
    "import tifffile # '2020.9.22'\n",
    "\n",
    "import functools"
   ]
  },
  {
   "cell_type": "markdown",
   "metadata": {
    "pycharm": {
     "name": "#%% md\n"
    }
   },
   "outputs": [],
   "source": [
    "# Data export exploration\n",
    "\n",
    "This should be a simple example how to load and visualize the exported 4 cell line dataset\n",
    "found at: https://zenodo.org/record/4144362\n",
    "\n",
    "\n",
    "This uses only 'standard' packages as well as Scanpy.\n",
    "Please read the README of the export to find precise information on the data structure.\n"
   ]
  },
  {
   "cell_type": "code",
   "execution_count": null,
   "metadata": {
    "pycharm": {
     "name": "#%%\n"
    }
   },
   "outputs": [],
   "source": [
    "class C:\n",
    "    # Folder containing the unziped dataset downloaded from zenodo\n",
    "    # adapt if snakemake is not used\n",
    "    fol_export = pathlib.Path(snakemake.input.fol_export)\n",
    "    fn_cell_x = fol_export / 'cell_X.csv'\n",
    "    fn_cell_obs = fol_export / 'cell_obs.csv'\n",
    "    fn_cell_var = fol_export / 'cell_var.csv'\n",
    "    \n",
    "    fn_nuc_x = fol_export / 'nucleiexp_X.csv'\n",
    "    fn_nuc_obs = fol_export / 'nucleiexp_obs.csv'\n",
    "    fn_nuc_var = fol_export / 'nucleiexp_var.csv'\n",
    "    \n",
    "    fn_cyto_x = fol_export / 'cyto_X.csv'\n",
    "    fn_cyto_obs = fol_export / 'cyto_obs.csv'\n",
    "    fn_cyto_var = fol_export / 'cyto_var.csv'\n",
    "    \n",
    "    fn_image_meta = fol_export / 'image_meta.csv'\n",
    "    fol_image = fol_export / 'images'\n",
    "    fol_masks = fol_export / 'masks'"
   ]
  },
  {
   "cell_type": "markdown",
   "metadata": {
    "pycharm": {
     "name": "#%% md\n"
    }
   },
   "outputs": [],
   "source": [
    "Some helper scripts\n",
    "\n",
    "-> could be also put in a library."
   ]
  },
  {
   "cell_type": "code",
   "execution_count": null,
   "metadata": {
    "pycharm": {
     "name": "#%%\n"
    }
   },
   "outputs": [],
   "source": [
    "def load_anndata(fn_x, fn_obs, fn_var):\n",
    "    \"\"\"\n",
    "    Helper function to initialize an anndata object using csv files.\n",
    "    :param fn_x: path to data csv (X)\n",
    "    :param fn_obs: path to obs csv\n",
    "    :param fn_var: path to var csv\n",
    "    \n",
    "    :return: the loaded anndata\n",
    "    \"\"\"\n",
    "    dat_obs = pd.read_csv(fn_obs)\n",
    "    dat_var = pd.read_csv(fn_var)\n",
    "    dat_x = pd.read_csv(fn_x, delimiter=',', header=None)\n",
    "    return anndata.AnnData(dat_x.values, obs=dat_obs, var=dat_var)\n",
    "    \n",
    "def transform_anndata(ad):\n",
    "    ad.X = np.log10(ad.X+0.1)\n",
    "    \n",
    "def map_series_on_mask(mask, label, iterable):\n",
    "    \"\"\"\n",
    "    Maps values on a mask\n",
    "    :param mask: A mask where label!=0 equals the object number\n",
    "    :param iterable: an iterable\n",
    "    :param label: labels of same lenght than iterables\n",
    "    :return: the mapped image\n",
    "    \"\"\"\n",
    "    # make a dict\n",
    "\n",
    "    labeldict = np.empty(mask.max() + 1)\n",
    "    labeldict[:] = np.NaN\n",
    "\n",
    "    for lab, val in zip(label, iterable):\n",
    "        labeldict[int(lab)] = val\n",
    "\n",
    "    out_img = labeldict[mask.flatten()]\n",
    "    out_img = np.reshape(out_img, mask.shape)\n",
    "    out_img = np.ma.array(out_img, mask=mask == 0)\n",
    "    return out_img\n",
    "\n",
    "def plot_heatmask(img, *, cmap=None, cmap_mask=None, cmap_mask_alpha=0.3, colorbar=True, ax=None,\n",
    "                  bad_color='k', bad_alpha=1, crange=None):\n",
    "    \"\"\"\n",
    "    Plots an image with nice defaults for masked pixels.\n",
    "    \"\"\"\n",
    "    if cmap is None:\n",
    "        cmap = plt.cm.viridis\n",
    "    cmap = copy.copy(cmap)\n",
    "    cmap.set_bad(bad_color, bad_alpha)\n",
    "    if ax is None:\n",
    "        plt.close()\n",
    "        fig, ax = plt.subplots(1, 1)\n",
    "    else:\n",
    "        fig = ax.get_figure()\n",
    "\n",
    "    if len(ax.images) == 0:\n",
    "        cax = ax.imshow(img, cmap=cmap, interpolation=\"nearest\")\n",
    "        if colorbar:\n",
    "            fig.colorbar(cax)\n",
    "    else:\n",
    "        cax = ax.images[0]\n",
    "        if len(ax.images) == 2:\n",
    "            cax_mask = ax.images[1]\n",
    "            cax_mask.remove()\n",
    "\n",
    "    if crange is not None:\n",
    "        cax.set_clim(crange[0], crange[1])\n",
    "\n",
    "    if hasattr(img, \"mask\"):\n",
    "        mask_img = np.isnan(img)\n",
    "        if np.any(mask_img):\n",
    "            mask_img = np.ma.array(mask_img, mask=img.mask | (mask_img == False))\n",
    "            if cmap_mask is None:\n",
    "                cmap_mask = \"Greys\"\n",
    "            ax.imshow(\n",
    "                mask_img == 1,\n",
    "                cmap=cmap_mask,\n",
    "                alpha=cmap_mask_alpha,\n",
    "                interpolation=\"nearest\",\n",
    "            )\n",
    "    ax.axis('off')\n",
    "    return ax\n",
    "    \n",
    "def add_scalebar(\n",
    "    ax, resolution=0.000001, location=4, color=\"white\", pad=0.5, frameon=False, **kwargs\n",
    "):\n",
    "    \"\"\"\n",
    "    Adds a scalebar\n",
    "    \"\"\"\n",
    "    scalebar = ScaleBar(\n",
    "        resolution, location=location, color=color, pad=pad, frameon=frameon, **kwargs\n",
    "    )  # 1 pixel = 0.2 meter\n",
    "    ax.add_artist(scalebar)\n",
    "\n",
    "\n",
    "def adapt_ax_clims(axs):\n",
    "    \"\"\"\n",
    "    Adapts color axes limits such that they are shared by the all images\n",
    "    \"\"\"\n",
    "    caxs = [ax.images[0] for ax in axs if len(ax.images) > 0]\n",
    "    clims = [cax.get_clim() for cax in caxs]\n",
    "    clims = [c for c in clims if c != (True, True)]\n",
    "    clim_all = [f(c) for f, c in zip([np.min, np.max], zip(*clims))]\n",
    "    for cax in caxs:\n",
    "        cax.set_clim(clim_all)\n",
    "        \n",
    "class IoHelper:\n",
    "    \"\"\"\n",
    "    Helper class for lazy image and mask IO\n",
    "    \"\"\"\n",
    "    def __init__(self, dat_img, fol_images, fol_masks):\n",
    "        self.dat_img = dat_img\n",
    "        self.fol_masks = fol_masks\n",
    "        self.fol_images = fol_images\n",
    "        \n",
    "    @functools.lru_cache()\n",
    "    def get_mask(self, imid, object_type='cell'):\n",
    "        img = self.dat_img.query(f'image_id == {imid}')[f'mask_filename_{object_type}'].iloc[0]\n",
    "        return tifffile.imread(self.fol_masks / img)\n",
    "\n",
    "\n",
    "    @functools.lru_cache()\n",
    "    def get_image(self, imid, stack_name='FullStackComp'):\n",
    "        img = self.dat_img.query(f'image_id == {imid}')[f'image_stack_filename_{stack_name}'].iloc[0]\n",
    "        return tifffile.imread(self.fol_images / img, out='memmap')\n",
    "\n",
    "\n",
    "    def get_image_channel(self, imid, plane_number, stack_name='FullStackComp'):\n",
    "        img = self.get_image(imid, stack_name)\n",
    "        if (img.shape[2] == self.dat_img.query(f'image_id == {imid}')['image_shape_w'].iloc[0]):\n",
    "            return img[plane_number-1, :, :].squeeze()\n",
    "        else:\n",
    "            return img[:, :, plane_number-1].squeeze()\n",
    "    \n",
    "    def plot_imag_ad(self, ad, channel_name, measurement_name='MeanIntensityComp', stack_name='FullStackFiltered', figsize=None):\n",
    "        \"\"\"\n",
    "        Plots all objects contained in the anndata, plotting the individual images as columns.\n",
    "        \n",
    "        :param ad: an anndata with obs variables: 'image_id', 'object_type', 'object_number'\n",
    "        :param chan: The channel (metal) to plot\n",
    "        :param figsize: the output image size\n",
    "        \n",
    "        :returns: the figure object\n",
    "        \"\"\"\n",
    "        imgids = ad.obs['image_id'].unique()\n",
    "        fig, axs = plt.subplots(ncols=len(imgids), figsize=figsize)\n",
    "        try:\n",
    "            len(axs)\n",
    "        except:\n",
    "            axs = [axs]\n",
    "        \n",
    "        fil = ad.var.eval(f'channel_name == \"{channel_name}\" and measurement_name == \"{measurement_name}\" and '\n",
    "                      f'stack_name == \"{stack_name}\"')\n",
    "        \n",
    "        assert sum(fil) == 1\n",
    "        for ax, ((obj_type, imid), dat) in zip(axs, ad.obs.groupby(['object_type','image_id'])):\n",
    "            mask = self.get_mask(imid, object_type=obj_type)\n",
    "            values = ad[dat.index, :][:, fil].X.squeeze()\n",
    "            labels = dat['object_number']\n",
    "            img = map_series_on_mask(mask, labels, values)\n",
    "            \n",
    "            colorbar = ax == axs[-1]\n",
    "            plot_heatmask(img, ax=ax, colorbar=colorbar)\n",
    "            ax.axis('off')\n",
    "        adapt_ax_clims(axs)\n",
    "        return fig\n",
    "        \n",
    "    \n"
   ]
  },
  {
   "cell_type": "markdown",
   "metadata": {
    "pycharm": {
     "name": "#%% md\n"
    }
   },
   "outputs": [],
   "source": [
    "Read the image metadta and initialize the IO handler\n",
    "\n",
    "-> This allows to conveniently retrieve images and maks."
   ]
  },
  {
   "cell_type": "code",
   "execution_count": null,
   "metadata": {
    "pycharm": {
     "name": "#%%\n"
    }
   },
   "outputs": [],
   "source": [
    "dat_image = pd.read_csv(C.fn_image_meta)"
   ]
  },
  {
   "cell_type": "code",
   "execution_count": null,
   "metadata": {
    "pycharm": {
     "name": "#%%\n"
    }
   },
   "outputs": [],
   "source": [
    "io = IoHelper(dat_image, fol_images=C.fol_image, fol_masks=C.fol_masks)"
   ]
  },
  {
   "cell_type": "markdown",
   "metadata": {
    "pycharm": {
     "name": "#%% md\n"
    }
   },
   "outputs": [],
   "source": [
    "Load the cell anndata\n",
    "\n",
    "-> All analyses in the paper were only done based on cellular readouts.\n",
    "\n",
    "This also transforms the data using: log10(x+0.1)"
   ]
  },
  {
   "cell_type": "code",
   "execution_count": null,
   "metadata": {
    "pycharm": {
     "name": "#%%\n"
    }
   },
   "outputs": [],
   "source": [
    "ad_cell = load_anndata(C.fn_cell_x, C.fn_cell_obs, C.fn_cell_var)\n",
    "transform_anndata(ad_cell)"
   ]
  },
  {
   "cell_type": "code",
   "execution_count": null,
   "metadata": {
    "pycharm": {
     "name": "#%%\n"
    }
   },
   "outputs": [],
   "source": [
    "ad_cell.obs.head()"
   ]
  },
  {
   "cell_type": "code",
   "execution_count": null,
   "metadata": {},
   "outputs": [],
   "source": [
    "ad_cell.obs.describe()"
   ]
  },
  {
   "cell_type": "code",
   "execution_count": null,
   "metadata": {
    "pycharm": {
     "name": "#%%\n"
    }
   },
   "outputs": [],
   "source": [
    "ad_cell.var"
   ]
  },
  {
   "cell_type": "markdown",
   "metadata": {
    "pycharm": {
     "name": "#%% md\n"
    }
   },
   "outputs": [],
   "source": [
    "Add a 'plot name' that combines the metal with a human readable name"
   ]
  },
  {
   "cell_type": "code",
   "execution_count": null,
   "metadata": {},
   "outputs": [],
   "source": [
    "ad_cell.var['plot_name'] = (ad_cell.var\n",
    "                            .apply(lambda row: f'{row[\"goodname\"]} - {row[\"channel_name\"]}', axis=1)\n",
    "                            .astype(pd.CategoricalDtype())\n",
    "                           )"
   ]
  },
  {
   "cell_type": "code",
   "execution_count": null,
   "metadata": {},
   "outputs": [],
   "source": [
    "ad_cell.var['plot_name'] "
   ]
  },
  {
   "cell_type": "markdown",
   "metadata": {
    "pycharm": {
     "name": "#%% md\n"
    }
   },
   "outputs": [],
   "source": [
    "Show how this could be visualized using eg a PCA"
   ]
  },
  {
   "cell_type": "code",
   "execution_count": null,
   "metadata": {
    "pycharm": {
     "name": "#%%\n"
    }
   },
   "outputs": [],
   "source": [
    "ad_cell.var_names = ad_cell.var.measurement_id.astype(str)"
   ]
  },
  {
   "cell_type": "code",
   "execution_count": null,
   "metadata": {
    "pycharm": {
     "name": "#%%\n"
    }
   },
   "outputs": [],
   "source": [
    "ad_cell.obs = ad_cell.obs.reset_index().merge(dat_image[['image_id', 'cellline', 'time_point']], how='left',\n",
    "                           ).set_index('index')"
   ]
  },
  {
   "cell_type": "code",
   "execution_count": null,
   "metadata": {
    "pycharm": {
     "name": "#%%\n"
    }
   },
   "outputs": [],
   "source": [
    "fil_main = ad_cell.var.eval('working == 1 and measurement_name == \"MeanIntensityComp\"'\n",
    "                            'and stack_name == \"FullStackFiltered\"')\n",
    "tmp_ad = ad_cell[:, fil_main]\n",
    "sp.preprocessing.pca(tmp_ad)\n",
    "ad_cell.obsm = tmp_ad.obsm"
   ]
  },
  {
   "cell_type": "code",
   "execution_count": null,
   "metadata": {
    "pycharm": {
     "name": "#%%\n"
    }
   },
   "outputs": [],
   "source": [
    "sp.pl.pca(ad_cell, color='cellline')"
   ]
  },
  {
   "cell_type": "code",
   "execution_count": null,
   "metadata": {},
   "outputs": [],
   "source": [
    "fil = ad_cell.var.eval(f'measurement_name == \"MeanIntensityComp\" or channel_name == \"object\"')\n",
    "axs = sp.pl.pca(ad_cell, color=ad_cell.var.index[fil], show=False)\n",
    "for ax, tit in zip(axs, ad_cell.var.plot_name[fil]):\n",
    "    ax.set_title(tit)\n",
    "plt.show()"
   ]
  },
  {
   "cell_type": "code",
   "execution_count": null,
   "metadata": {
    "pycharm": {
     "name": "#%%\n"
    }
   },
   "outputs": [],
   "source": [
    "len(ad_cell.var.plot_name.cat.categories)"
   ]
  },
  {
   "cell_type": "markdown",
   "metadata": {
    "pycharm": {
     "name": "#%% md\n"
    }
   },
   "outputs": [],
   "source": [
    "Visualize the data as a heatmap"
   ]
  },
  {
   "cell_type": "code",
   "execution_count": null,
   "metadata": {
    "pycharm": {
     "name": "#%%\n"
    }
   },
   "outputs": [],
   "source": [
    "fil = ad_cell.var.eval('working == 1 and measurement_name == \"MeanIntensityComp\"'\n",
    "                            'and stack_name == \"FullStackFiltered\"')\n",
    "axs = sp.pl.heatmap(ad_cell, var_names=ad_cell.var.index[fil], log=False, groupby='cellline',\n",
    "             show_gene_labels=True, standard_scale='var', show=False\n",
    "               )\n",
    "\n",
    "axs['heatmap_ax'].set_xticklabels(ad_cell.var.plot_name[fil])"
   ]
  },
  {
   "cell_type": "markdown",
   "metadata": {
    "pycharm": {
     "name": "#%% md\n"
    }
   },
   "outputs": [],
   "source": [
    "Show how the data could be visualized using a heatplot, mapping the average intensities on a mask\n",
    "\n",
    "\n",
    "-> Cells which were filtered out during QC are displayed as grey"
   ]
  },
  {
   "cell_type": "code",
   "execution_count": null,
   "metadata": {
    "pycharm": {
     "name": "#%%\n"
    }
   },
   "outputs": [],
   "source": [
    "fig = io.plot_imag_ad(ad_cell[ad_cell.obs.image_id.isin(ad_cell.obs.image_id.unique()[:10]) , :],\n",
    "                      'Ir193', figsize=(15,20))"
   ]
  },
  {
   "cell_type": "markdown",
   "metadata": {
    "pycharm": {
     "name": "#%% md\n"
    }
   },
   "outputs": [],
   "source": [
    "Show how raw images could be visualized"
   ]
  },
  {
   "cell_type": "code",
   "execution_count": null,
   "metadata": {
    "pycharm": {
     "name": "#%%\n"
    }
   },
   "outputs": [],
   "source": [
    "fil = ad_cell.var.eval(f'channel_name == \"Yb171\" and stack_name == \"FullStackFiltered\"')\n",
    "imid = 200\n",
    "img = io.get_image_channel(imid, ad_cell.var.ref_plane_number[fil][0])"
   ]
  },
  {
   "cell_type": "code",
   "execution_count": null,
   "metadata": {
    "pycharm": {
     "name": "#%%\n"
    }
   },
   "outputs": [],
   "source": [
    "ax= plot_heatmask(np.sqrt(img))\n",
    "add_scalebar(ax)"
   ]
  },
  {
   "cell_type": "markdown",
   "metadata": {
    "pycharm": {
     "name": "#%% md\n"
    }
   },
   "outputs": [],
   "source": [
    "The same image as heatmask"
   ]
  },
  {
   "cell_type": "code",
   "execution_count": null,
   "metadata": {
    "pycharm": {
     "name": "#%%\n"
    }
   },
   "outputs": [],
   "source": [
    "fig = io.plot_imag_ad(ad_cell[ad_cell.obs.image_id == imid, :], 'Yb171')\n",
    "add_scalebar(fig.axes[0])"
   ]
  },
  {
   "cell_type": "code",
   "execution_count": null,
   "metadata": {},
   "outputs": [],
   "source": [
    "fig = io.plot_imag_ad(ad_cell[ad_cell.obs.image_id == imid, :],\n",
    "                      'Yb171',\n",
    "                     measurement_name='NbMeanMeanIntensityComp')\n",
    "add_scalebar(fig.axes[0])"
   ]
  },
  {
   "cell_type": "code",
   "execution_count": null,
   "metadata": {
    "pycharm": {
     "name": "#%%\n"
    }
   },
   "outputs": [],
   "source": [
    "fig = io.plot_imag_ad(ad_cell[ad_cell.obs.image_id == imid, :],\n",
    "                     channel_name='object', measurement_name='dist-rim',\n",
    "                     stack_name='ObjectStack')\n",
    "add_scalebar(fig.axes[0])"
   ]
  },
  {
   "cell_type": "code",
   "execution_count": null,
   "metadata": {},
   "outputs": [],
   "source": [
    "fig = io.plot_imag_ad(ad_cell[ad_cell.obs.image_id == imid, :],\n",
    "                     channel_name='object', measurement_name='Center_X',\n",
    "                     stack_name='ObjectStack')\n",
    "add_scalebar(fig.axes[0])"
   ]
  },
  {
   "cell_type": "markdown",
   "metadata": {
    "pycharm": {
     "name": "#%% md\n"
    }
   },
   "outputs": [],
   "source": [
    "## Also load nuclear and cytoplasmic data\n",
    "\n",
    "(This was not used in the paper)"
   ]
  },
  {
   "cell_type": "code",
   "execution_count": null,
   "metadata": {
    "pycharm": {
     "name": "#%%\n"
    }
   },
   "outputs": [],
   "source": [
    "ad_nuc = load_anndata(C.fn_nuc_x, C.fn_nuc_obs, C.fn_nuc_var)\n",
    "transform_anndata(ad_nuc)\n",
    "ad_nuc.var_names = ad_nuc.var.measurement_id.astype(str)"
   ]
  },
  {
   "cell_type": "markdown",
   "metadata": {
    "pycharm": {
     "name": "#%% md\n"
    }
   },
   "outputs": [],
   "source": [
    "Show example image nuclei"
   ]
  },
  {
   "cell_type": "code",
   "execution_count": null,
   "metadata": {
    "pycharm": {
     "name": "#%%\n"
    }
   },
   "outputs": [],
   "source": [
    "fig = io.plot_imag_ad(ad_nuc[ad_nuc.obs.image_id == imid, :], 'Yb171')\n",
    "add_scalebar(fig.axes[0])"
   ]
  },
  {
   "cell_type": "code",
   "execution_count": null,
   "metadata": {
    "pycharm": {
     "name": "#%%\n"
    }
   },
   "outputs": [],
   "source": [
    "ad_cyto = load_anndata(C.fn_cyto_x, C.fn_cyto_obs, C.fn_cyto_var)\n",
    "transform_anndata(ad_cyto)\n",
    "ad_cyto.var_names = ad_cyto.var.measurement_id.astype(str)"
   ]
  },
  {
   "cell_type": "markdown",
   "metadata": {
    "pycharm": {
     "name": "#%% md\n"
    }
   },
   "outputs": [],
   "source": [
    "Show example image cytoplasm"
   ]
  },
  {
   "cell_type": "code",
   "execution_count": null,
   "metadata": {
    "pycharm": {
     "name": "#%%\n"
    }
   },
   "outputs": [],
   "source": [
    "fig = io.plot_imag_ad(ad_cyto[ad_cyto.obs.image_id == imid, :], 'Yb171')\n",
    "add_scalebar(fig.axes[0])"
   ]
  },
  {
   "cell_type": "code",
   "execution_count": null,
   "metadata": {
    "pycharm": {
     "name": "#%%\n"
    }
   },
   "outputs": [],
   "source": [
    "ad_cyto"
   ]
  },
  {
   "cell_type": "markdown",
   "metadata": {
    "pycharm": {
     "name": "#%% md\n"
    }
   },
   "outputs": [],
   "source": [
    "Plot PCA and heatmap also for nuclei"
   ]
  },
  {
   "cell_type": "code",
   "execution_count": null,
   "metadata": {
    "pycharm": {
     "name": "#%%\n"
    }
   },
   "outputs": [],
   "source": [
    "fil_main = ad_nuc.var.eval('working == 1 and measurement_name == \"MeanIntensityComp\"'\n",
    "                            'and stack_name == \"FullStackFiltered\"')\n",
    "tmp_ad = ad_nuc[:, fil_main]\n",
    "sp.preprocessing.pca(tmp_ad)\n",
    "ad_nuc.obsm = tmp_ad.obsm"
   ]
  },
  {
   "cell_type": "code",
   "execution_count": null,
   "metadata": {},
   "outputs": [],
   "source": [
    "ad_nuc.obs = ad_nuc.obs.reset_index().merge(dat_image[['image_id', 'cellline', 'time_point']], how='left',\n",
    "                           ).set_index('index')"
   ]
  },
  {
   "cell_type": "code",
   "execution_count": null,
   "metadata": {
    "pycharm": {
     "name": "#%%\n"
    }
   },
   "outputs": [],
   "source": [
    "sp.pl.pca(ad_nuc, color='cellline')"
   ]
  },
  {
   "cell_type": "code",
   "execution_count": null,
   "metadata": {
    "pycharm": {
     "name": "#%%\n"
    }
   },
   "outputs": [],
   "source": [
    "fil = fil_main\n",
    "axs = sp.pl.heatmap(ad_nuc, var_names=ad_nuc.var.index[fil], log=False, groupby='cellline',\n",
    "             show_gene_labels=True, standard_scale='var', show=False\n",
    "               )\n",
    "\n",
    "axs['heatmap_ax'].set_xticklabels(ad_nuc.var.goodname[fil])"
   ]
  },
  {
   "cell_type": "markdown",
   "metadata": {
    "pycharm": {
     "name": "#%% md\n"
    }
   },
   "outputs": [],
   "source": [
    "And for cytoplasm"
   ]
  },
  {
   "cell_type": "code",
   "execution_count": null,
   "metadata": {
    "pycharm": {
     "name": "#%%\n"
    }
   },
   "outputs": [],
   "source": [
    "ad_cyto.obs = ad_cyto.obs.reset_index().merge(dat_image[['image_id', 'cellline', 'time_point']], how='left',\n",
    "                           ).set_index('index')"
   ]
  },
  {
   "cell_type": "code",
   "execution_count": null,
   "metadata": {
    "pycharm": {
     "name": "#%%\n"
    }
   },
   "outputs": [],
   "source": [
    "fil_main = ad_cyto.var.eval('working == 1 and measurement_name == \"MeanIntensityComp\"'\n",
    "                            'and stack_name == \"FullStackFiltered\"')\n",
    "tmp_ad = ad_cyto[:, fil_main]\n",
    "sp.preprocessing.pca(tmp_ad)\n",
    "ad_cyto.obsm = tmp_ad.obsm\n"
   ]
  },
  {
   "cell_type": "code",
   "execution_count": null,
   "metadata": {},
   "outputs": [],
   "source": [
    "sp.pl.pca(ad_cyto, color='cellline')"
   ]
  },
  {
   "cell_type": "code",
   "execution_count": null,
   "metadata": {},
   "outputs": [],
   "source": [
    "fil = fil_main | (ad_cyto.var.measurement_name == 'Area')\n",
    "axs = sp.pl.heatmap(ad_nuc, var_names=ad_nuc.var.channel_name[fil], log=False, groupby='cellline',\n",
    "             gene_symbols='channel_name',show_gene_labels=True, standard_scale='var', show=False\n",
    "               )\n",
    "\n",
    "axs['heatmap_ax'].set_xticklabels(ad_nuc.var.goodname[fil])"
   ]
  },
  {
   "cell_type": "code",
   "execution_count": null,
   "metadata": {},
   "outputs": [],
   "source": [
    "sp.pp.pca(ad_cyto)\n"
   ]
  },
  {
   "cell_type": "code",
   "execution_count": null,
   "metadata": {
    "pycharm": {
     "name": "#%%\n"
    }
   },
   "outputs": [],
   "source": [
    "ad_cyto.obs = ad_cyto.obs.reset_index().merge(dat_image[['image_id', 'cellline', 'time_point']], how='left',\n",
    "                           ).set_index('index')"
   ]
  },
  {
   "cell_type": "code",
   "execution_count": null,
   "metadata": {
    "pycharm": {
     "name": "#%%\n"
    }
   },
   "outputs": [],
   "source": [
    "fil = ad_cyto.var.working == 1\n",
    "axs = sp.pl.heatmap(ad_cyto, var_names=ad_nuc.var.channel_name[fil], log=False, groupby='cellline',\n",
    "             gene_symbols='channel_name',show_gene_labels=True, standard_scale='var', show=False\n",
    "               )\n",
    "\n",
    "axs['heatmap_ax'].set_xticklabels(ad_cyto.var.goodname[fil])"
   ]
  },
  {
   "cell_type": "code",
   "execution_count": null,
   "metadata": {
    "pycharm": {
     "name": "#%%\n"
    }
   },
   "outputs": [],
   "source": [
    "sp.pl.pca(ad_cyto, color='cellline')"
   ]
  },
  {
   "cell_type": "code",
   "execution_count": null,
   "metadata": {},
   "outputs": [],
   "source": []
  },
  {
   "cell_type": "code",
   "execution_count": null,
   "metadata": {},
   "outputs": [],
   "source": [
    "fil = ad_cyto.var.working == 1\n",
    "axs = sp.pl.heatmap(ad_cyto, var_names=ad_nuc.var.channel_name[fil], log=False, groupby='cellline',\n",
    "             gene_symbols='channel_name',show_gene_labels=True, standard_scale='var', show=False\n",
    "               )\n",
    "\n",
    "axs['heatmap_ax'].set_xticklabels(ad_cyto.var.goodname[fil])"
   ]
  },
  {
   "cell_type": "code",
   "execution_count": null,
   "metadata": {},
   "outputs": [],
   "source": [
    "sp.pl.pca(ad_cyto, color='cellline')"
   ]
  },
  {
   "cell_type": "code",
   "execution_count": null,
   "metadata": {},
   "outputs": [],
   "source": []
  }
 ],
 "metadata": {
  "kernelspec": {
   "display_name": "Python 3",
   "language": "python",
   "name": "python3"
  },
  "language_info": {
   "codemirror_mode": {
    "name": "ipython",
    "version": 3
   },
   "file_extension": ".py",
   "mimetype": "text/x-python",
   "name": "python",
   "nbconvert_exporter": "python",
   "pygments_lexer": "ipython3",
   "version": "3.7.7"
  }
 },
 "nbformat": 4,
 "nbformat_minor": 4
}
