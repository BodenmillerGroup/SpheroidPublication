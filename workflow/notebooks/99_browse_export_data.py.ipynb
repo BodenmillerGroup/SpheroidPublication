{
 "cells": [
  {
   "cell_type": "code",
   "execution_count": null,
   "metadata": {
    "colab": {
     "base_uri": "https://localhost:8080/",
     "height": 1000
    },
    "id": "Pa9-8hrlFgbY",
    "outputId": "535882d8-97f0-48c7-ee19-7c5ca759ee68",
    "pycharm": {
     "name": "#%%\n"
    }
   },
   "outputs": [],
   "source": [
    "import sys\n",
    "\n",
    "IN_COLAB = \"google.colab\" in sys.modules\n",
    "\n",
    "if IN_COLAB:\n",
    "  !pip install anndata==0.7.4 scanpy==1.6.0 matplotlib_scalebar==0.6.2 pandas==1.1.2 tifffile==2020.* zenodo_get"
   ]
  },
  {
   "cell_type": "code",
   "execution_count": null,
   "metadata": {
    "id": "2Au_upVSqkuR"
   },
   "outputs": [],
   "source": [
    "%%time\n",
    "if IN_COLAB:\n",
    "  #  Retrieve files if in google colab\n",
    "  # -> This will take ca 30 minutes!\n",
    "  !python -m zenodo_get -o zipdata 4271918\n",
    "  !unzip -n -d data zipdata/oexp_analysis_export_v2.zip "
   ]
  },
  {
   "cell_type": "code",
   "execution_count": null,
   "metadata": {
    "id": "81P8LFhrFrtF"
   },
   "outputs": [],
   "source": [
    "# Python 3.8\n",
    "import pathlib\n",
    "import scanpy as sp # '1.6.0'\n",
    "import anndata as anndata # '0.7.4'\n",
    "\n",
    "import numpy as np # '1.19.1'\n",
    "import pandas as pd # '1.1.2'\n",
    "import copy\n",
    "\n",
    "import matplotlib.pyplot as plt # '3.3.2'\n",
    "from matplotlib import colors\n",
    "from matplotlib_scalebar.scalebar import ScaleBar # '0.6.2'\n",
    "\n",
    "import tifffile # '2020.9.22'\n",
    "\n",
    "import functools"
   ]
  },
  {
   "cell_type": "markdown",
   "metadata": {
    "id": "UIM82ON8FgbZ",
    "pycharm": {
     "name": "#%% md\n"
    }
   },
   "outputs": [],
   "source": [
    "# Data export exploration\n",
    "\n",
    "This should be a simple example how to load and visualize the exported overexpression dataset\n",
    "found at: xx\n",
    "\n",
    "\n",
    "This uses only 'standard' packages as well as Scanpy.\n",
    "Please read the README of the export to find precise information on the data structure.\n"
   ]
  },
  {
   "cell_type": "code",
   "execution_count": null,
   "metadata": {
    "id": "y0X4u_X2FgbZ",
    "pycharm": {
     "name": "#%%\n"
    }
   },
   "outputs": [],
   "source": [
    "class C:\n",
    "    # Folder containing the unziped dataset downloaded from zenodo\n",
    "    # adapt if snakemake is not used\n",
    "    fol_export = pathlib.Path('data') if IN_COLAB else pathlib.Path(snakemake.input.fol_export)\n",
    "    fn_cell_x = fol_export / 'cell_X.csv'\n",
    "    fn_cell_obs = fol_export / 'cell_obs.csv'\n",
    "    fn_cell_var = fol_export / 'cell_var.csv'\n",
    "    \n",
    "    fn_nuc_x = fol_export / 'nucleiexp_X.csv'\n",
    "    fn_nuc_obs = fol_export / 'nucleiexp_obs.csv'\n",
    "    fn_nuc_var = fol_export / 'nucleiexp_var.csv'\n",
    "    \n",
    "    fn_cyto_x = fol_export / 'cyto_X.csv'\n",
    "    fn_cyto_obs = fol_export / 'cyto_obs.csv'\n",
    "    fn_cyto_var = fol_export / 'cyto_var.csv'\n",
    "    \n",
    "    fn_image_meta = fol_export / 'image_meta.csv'\n",
    "    fol_image = fol_export / 'images'\n",
    "    fol_masks = fol_export / 'masks'\n",
    "    \n",
    "    fn_rel_cell_nuc = fol_export / 'relations_cell_nucleiexp.csv'\n",
    "    fn_rel_cell_cyto = fol_export / 'relations_cell_cyto.csv'"
   ]
  },
  {
   "cell_type": "markdown",
   "metadata": {
    "id": "PdeND_utFgbZ",
    "pycharm": {
     "name": "#%% md\n"
    }
   },
   "outputs": [],
   "source": [
    "Some helper scripts\n",
    "\n",
    "-> could be also put in a library."
   ]
  },
  {
   "cell_type": "code",
   "execution_count": null,
   "metadata": {
    "id": "GwHfPuVPFgbZ",
    "pycharm": {
     "name": "#%%\n"
    }
   },
   "outputs": [],
   "source": [
    "def load_anndata(fn_x, fn_obs, fn_var):\n",
    "    \"\"\"\n",
    "    Helper function to initialize an anndata object using csv files.\n",
    "    :param fn_x: path to data csv (X)\n",
    "    :param fn_obs: path to obs csv\n",
    "    :param fn_var: path to var csv\n",
    "    \n",
    "    :return: the loaded anndata\n",
    "    \"\"\"\n",
    "    dat_obs = pd.read_csv(fn_obs)\n",
    "    dat_var = pd.read_csv(fn_var)\n",
    "    dat_x = pd.read_csv(fn_x, delimiter=',', header=None)\n",
    "    return anndata.AnnData(dat_x.values, obs=dat_obs, var=dat_var)\n",
    "    \n",
    "def transform_anndata(ad):\n",
    "    ad.X = np.log10(ad.X+0.1)\n",
    "    \n",
    "def map_series_on_mask(mask, label, iterable):\n",
    "    \"\"\"\n",
    "    Maps values on a mask\n",
    "    :param mask: A mask where label!=0 equals the object number\n",
    "    :param iterable: an iterable\n",
    "    :param label: labels of same lenght than iterables\n",
    "    :return: the mapped image\n",
    "    \"\"\"\n",
    "    # make a dict\n",
    "\n",
    "    labeldict = np.empty(mask.max() + 1)\n",
    "    labeldict[:] = np.NaN\n",
    "\n",
    "    for lab, val in zip(label, iterable):\n",
    "        labeldict[int(lab)] = val\n",
    "\n",
    "    out_img = labeldict[mask.flatten()]\n",
    "    out_img = np.reshape(out_img, mask.shape)\n",
    "    out_img = np.ma.array(out_img, mask=mask == 0)\n",
    "    return out_img\n",
    "\n",
    "def plot_mask_contour(mask, ax=None, linewidths=0.5, linestyles=':', col='Gray', alpha=1):\n",
    "    \"\"\"\n",
    "    Adds background mask contour\n",
    "    \"\"\"\n",
    "    if ax is None:\n",
    "        fig = plt.figure(figsize=(20,20))\n",
    "        ax = plt.gca()\n",
    "    ax.contour(mask, [0,0.5],colors=[col],linewidths=linewidths, linestyles=linestyles,alpha=alpha)\n",
    "    return ax\n",
    "\n",
    "def plot_heatmask(img, *, cmap=None, cmap_mask=None, cmap_mask_alpha=0.3, colorbar=True, ax=None,\n",
    "                  bad_color='k', bad_alpha=1, crange=None, norm=None):\n",
    "    \"\"\"\n",
    "    Plots an image with nice defaults for masked pixels.\n",
    "    \"\"\"\n",
    "    if cmap is None:\n",
    "        cmap = plt.cm.viridis\n",
    "    cmap = copy.copy(cmap)\n",
    "    cmap.set_bad(bad_color, bad_alpha)\n",
    "    if ax is None:\n",
    "        plt.close()\n",
    "        fig, ax = plt.subplots(1, 1)\n",
    "    else:\n",
    "        fig = ax.get_figure()\n",
    "\n",
    "    cax = ax.imshow(img, cmap=cmap, interpolation=\"nearest\", norm=norm)\n",
    "    if colorbar:\n",
    "        fig.colorbar(cax)\n",
    "\n",
    "    if crange is not None:\n",
    "        cax.set_clim(crange[0], crange[1])\n",
    "\n",
    "    if hasattr(img, \"mask\"):\n",
    "        mask_img = np.isnan(img)\n",
    "        if np.any(mask_img):\n",
    "            mask_img = np.ma.array(mask_img, mask=img.mask | (mask_img == False))\n",
    "            if cmap_mask is None:\n",
    "                cmap_mask = \"Greys\"\n",
    "            ax.imshow(\n",
    "                mask_img == 1,\n",
    "                cmap=cmap_mask,\n",
    "                alpha=cmap_mask_alpha,\n",
    "                interpolation=\"nearest\",\n",
    "            )\n",
    "    ax.axis('off')\n",
    "    return ax\n",
    "    \n",
    "def add_scalebar(\n",
    "    ax, resolution=0.000001, location=4, color=\"white\", pad=0.5, frameon=False, **kwargs\n",
    "):\n",
    "    \"\"\"\n",
    "    Adds a scalebar\n",
    "    \"\"\"\n",
    "    scalebar = ScaleBar(\n",
    "        resolution, location=location, color=color, pad=pad, frameon=frameon, **kwargs\n",
    "    )  # 1 pixel = 0.2 meter\n",
    "    ax.add_artist(scalebar)\n",
    "\n",
    "\n",
    "def adapt_ax_clims(axs):\n",
    "    \"\"\"\n",
    "    Adapts color axes limits such that they are shared by the all images\n",
    "    \"\"\"\n",
    "    caxs = [ax.images[0] for ax in axs if len(ax.images) > 0]\n",
    "    clims = [cax.get_clim() for cax in caxs]\n",
    "    clims = [c for c in clims if c != (True, True)]\n",
    "    clim_all = [f(c) for f, c in zip([np.min, np.max], zip(*clims))]\n",
    "    for cax in caxs:\n",
    "        cax.set_clim(clim_all)\n",
    "        \n",
    "class IoHelper:\n",
    "    \"\"\"\n",
    "    Helper class for lazy image and mask IO\n",
    "    \"\"\"\n",
    "    def __init__(self, dat_img, fol_images, fol_masks):\n",
    "        self.dat_img = dat_img\n",
    "        self.fol_masks = fol_masks\n",
    "        self.fol_images = fol_images\n",
    "        \n",
    "    @functools.lru_cache()\n",
    "    def get_mask(self, imid, object_type='cell'):\n",
    "        img = self.dat_img.query(f'image_id == {imid}')[f'mask_filename_{object_type}'].iloc[0]\n",
    "        return tifffile.imread(self.fol_masks / img)\n",
    "\n",
    "\n",
    "    @functools.lru_cache()\n",
    "    def get_image(self, imid, stack_name='FullStackComp'):\n",
    "        img = self.dat_img.query(f'image_id == {imid}')[f'image_stack_filename_{stack_name}'].iloc[0]\n",
    "        return tifffile.imread(self.fol_images / img, out='memmap')\n",
    "\n",
    "\n",
    "    def get_image_channel(self, imid, plane_number, stack_name='FullStackComp'):\n",
    "        img = self.get_image(imid, stack_name)\n",
    "        if (img.shape[2] == self.dat_img.query(f'image_id == {imid}')['image_shape_w'].iloc[0]):\n",
    "            return img[plane_number-1, :, :].squeeze()\n",
    "        else:\n",
    "            return img[:, :, plane_number-1].squeeze()\n",
    "    \n",
    "    def plot_imag_ad(self, ad, channel_name,\n",
    "                     measurement_name='MeanIntensityComp',\n",
    "                     stack_name='FullStackFiltered',\n",
    "                     figsize=None, add_colorbar=True):\n",
    "        \"\"\"\n",
    "        Plots all objects contained in the anndata, plotting the individual images as columns.\n",
    "        \n",
    "        :param ad: an anndata with obs variables: 'image_id', 'object_type', 'object_number'\n",
    "        :param chan: The channel (metal) to plot\n",
    "        :param figsize: the output image size\n",
    "        \n",
    "        :returns: the figure object\n",
    "        \"\"\"\n",
    "        imgids = ad.obs['image_id'].unique()\n",
    "        fig, axs = plt.subplots(ncols=len(imgids), figsize=figsize)\n",
    "        try:\n",
    "            len(axs)\n",
    "        except:\n",
    "            axs = [axs]\n",
    "        \n",
    "        fil = ad.var.eval(f'channel_name == \"{channel_name}\" and measurement_name == \"{measurement_name}\" and '\n",
    "                      f'stack_name == \"{stack_name}\"')\n",
    "        \n",
    "        assert sum(fil) == 1\n",
    "        for ax, ((obj_type, imid), dat) in zip(axs, ad.obs.groupby(['object_type','image_id'])):\n",
    "            mask = self.get_mask(imid, object_type=obj_type)\n",
    "            values = ad[dat.index, :][:, fil].X.squeeze()\n",
    "            labels = dat['object_number']\n",
    "            img = map_series_on_mask(mask, labels, values)\n",
    "            \n",
    "            colorbar = (ax == axs[-1]) and add_colorbar\n",
    "            plot_heatmask(img, ax=ax, colorbar=colorbar)\n",
    "            ax.axis('off')\n",
    "        adapt_ax_clims(axs)\n",
    "        return fig\n",
    "        \n",
    "    \n"
   ]
  },
  {
   "cell_type": "markdown",
   "metadata": {
    "id": "NVn5NB8IFgba",
    "pycharm": {
     "name": "#%% md\n"
    }
   },
   "outputs": [],
   "source": [
    "Read the image metadta and initialize the IO handler\n",
    "\n",
    "-> This allows to conveniently retrieve images and maks."
   ]
  },
  {
   "cell_type": "code",
   "execution_count": null,
   "metadata": {
    "id": "S4BVutE4Fgba",
    "pycharm": {
     "name": "#%%\n"
    }
   },
   "outputs": [],
   "source": [
    "dat_image = pd.read_csv(C.fn_image_meta)"
   ]
  },
  {
   "cell_type": "code",
   "execution_count": null,
   "metadata": {
    "colab": {
     "base_uri": "https://localhost:8080/"
    },
    "id": "srJwMVstFgba",
    "outputId": "c8984464-fa64-47c5-aa39-934b01ea33be"
   },
   "outputs": [],
   "source": [
    "dat_image.iloc[0,:]"
   ]
  },
  {
   "cell_type": "code",
   "execution_count": null,
   "metadata": {
    "id": "_CGxYZPKFgba",
    "pycharm": {
     "name": "#%%\n"
    }
   },
   "outputs": [],
   "source": [
    "io = IoHelper(dat_image, fol_images=C.fol_image, fol_masks=C.fol_masks)"
   ]
  },
  {
   "cell_type": "markdown",
   "metadata": {
    "id": "Ycd7f8GyFgba",
    "pycharm": {
     "name": "#%% md\n"
    }
   },
   "outputs": [],
   "source": [
    "Load the cell anndata\n",
    "\n",
    "-> All analyses in the paper were only done based on cellular readouts.\n",
    "\n",
    "This also transforms the data using: log10(x+0.1)"
   ]
  },
  {
   "cell_type": "code",
   "execution_count": null,
   "metadata": {
    "colab": {
     "base_uri": "https://localhost:8080/"
    },
    "id": "As3lRLrZFgba",
    "outputId": "b70fe984-ae59-4638-c327-a1e510ae1522",
    "pycharm": {
     "name": "#%%\n"
    }
   },
   "outputs": [],
   "source": [
    "ad_cell = load_anndata(C.fn_cell_x, C.fn_cell_obs, C.fn_cell_var)\n",
    "transform_anndata(ad_cell)"
   ]
  },
  {
   "cell_type": "code",
   "execution_count": null,
   "metadata": {
    "colab": {
     "base_uri": "https://localhost:8080/",
     "height": 206
    },
    "id": "XkqLK96xFgba",
    "outputId": "24a78f1c-1356-4e66-d19e-3467dfd0a732",
    "pycharm": {
     "name": "#%%\n"
    }
   },
   "outputs": [],
   "source": [
    "ad_cell.obs.head()"
   ]
  },
  {
   "cell_type": "code",
   "execution_count": null,
   "metadata": {
    "colab": {
     "base_uri": "https://localhost:8080/",
     "height": 300
    },
    "id": "ZWHZbqxdFgbb",
    "outputId": "1e6a1d10-5656-4a9f-a31e-fe74cc8aec38"
   },
   "outputs": [],
   "source": [
    "ad_cell.obs.describe()"
   ]
  },
  {
   "cell_type": "code",
   "execution_count": null,
   "metadata": {
    "colab": {
     "base_uri": "https://localhost:8080/",
     "height": 424
    },
    "id": "OQGCdFyuFgbb",
    "outputId": "b5f13955-9f04-44ec-be8f-64c9560b2686",
    "pycharm": {
     "name": "#%%\n"
    }
   },
   "outputs": [],
   "source": [
    "ad_cell.var"
   ]
  },
  {
   "cell_type": "code",
   "execution_count": null,
   "metadata": {
    "colab": {
     "base_uri": "https://localhost:8080/"
    },
    "id": "i2l5sEDUrL31",
    "outputId": "b4df2c42-9f44-4a4f-a114-2505ccf7df48"
   },
   "outputs": [],
   "source": [
    "ad_cell.var.measurement_name.unique()"
   ]
  },
  {
   "cell_type": "markdown",
   "metadata": {
    "id": "lScupgJpFgbb",
    "pycharm": {
     "name": "#%% md\n"
    }
   },
   "outputs": [],
   "source": [
    "Add a 'plot name' that combines the metal with a human readable name"
   ]
  },
  {
   "cell_type": "code",
   "execution_count": null,
   "metadata": {
    "id": "s8f5ex5cFgbb"
   },
   "outputs": [],
   "source": [
    "ad_cell.var['plot_name'] = (ad_cell.var\n",
    "                            .apply(lambda row: f'{row[\"goodname\"]} - {row[\"channel_name\"]}', axis=1)\n",
    "                            .astype(pd.CategoricalDtype())\n",
    "                           )"
   ]
  },
  {
   "cell_type": "code",
   "execution_count": null,
   "metadata": {
    "colab": {
     "base_uri": "https://localhost:8080/"
    },
    "id": "BaDojjKlFgbb",
    "outputId": "461d34ec-f061-4900-edb3-b513fde985e6",
    "pycharm": {
     "name": "#%%\n"
    }
   },
   "outputs": [],
   "source": [
    "ad_cell.var['plot_name'] "
   ]
  },
  {
   "cell_type": "markdown",
   "metadata": {
    "id": "XQXTmJ-lFgbb",
    "pycharm": {
     "name": "#%% md\n"
    }
   },
   "outputs": [],
   "source": [
    "Show how this could be visualized using eg a PCA"
   ]
  },
  {
   "cell_type": "code",
   "execution_count": null,
   "metadata": {
    "id": "uZWNU7fpFgbb",
    "pycharm": {
     "name": "#%%\n"
    }
   },
   "outputs": [],
   "source": [
    "ad_cell.var_names = ad_cell.var.measurement_id.astype(str)"
   ]
  },
  {
   "cell_type": "code",
   "execution_count": null,
   "metadata": {
    "colab": {
     "base_uri": "https://localhost:8080/"
    },
    "id": "r5BowdDpFgbb",
    "outputId": "375ff527-a718-4aa5-cfac-a9d92cc35f08"
   },
   "outputs": [],
   "source": [
    "ad_cell.obs.iloc[0,:]"
   ]
  },
  {
   "cell_type": "code",
   "execution_count": null,
   "metadata": {
    "colab": {
     "base_uri": "https://localhost:8080/"
    },
    "id": "1h7IBc7uFgbb",
    "outputId": "4e8dc40f-fa32-4616-ebf2-794876fde79c"
   },
   "outputs": [],
   "source": [
    "dat_image.iloc[0,:]"
   ]
  },
  {
   "cell_type": "code",
   "execution_count": null,
   "metadata": {
    "id": "SyXyqbkhFgbb",
    "pycharm": {
     "name": "#%%\n"
    }
   },
   "outputs": [],
   "source": [
    "ad_cell.obs = ad_cell.obs.reset_index().merge(dat_image[['image_id', 'condition_name']], how='left',\n",
    "                           ).set_index('index')"
   ]
  },
  {
   "cell_type": "code",
   "execution_count": null,
   "metadata": {
    "colab": {
     "base_uri": "https://localhost:8080/"
    },
    "id": "aQSqmybmFgbc",
    "outputId": "9c22a84a-bb01-41f0-d1ff-a128fb50ec97",
    "pycharm": {
     "name": "#%%\n"
    }
   },
   "outputs": [],
   "source": [
    "fil_main = ad_cell.var.eval('working == 1 and measurement_name == \"MeanIntensityComp\"'\n",
    "                            'and stack_name == \"FullStackFiltered\"')\n",
    "tmp_ad = ad_cell[:, fil_main]\n",
    "sp.preprocessing.pca(tmp_ad)\n",
    "ad_cell.obsm = tmp_ad.obsm"
   ]
  },
  {
   "cell_type": "code",
   "execution_count": null,
   "metadata": {
    "colab": {
     "base_uri": "https://localhost:8080/",
     "height": 486
    },
    "id": "XKqpdLEuFgbc",
    "outputId": "eeeb4ef7-de15-4886-dfc7-bae919edca7e",
    "pycharm": {
     "name": "#%%\n"
    }
   },
   "outputs": [],
   "source": [
    "sp.pl.pca(ad_cell, color='modelfitcond_v1')"
   ]
  },
  {
   "cell_type": "code",
   "execution_count": null,
   "metadata": {
    "colab": {
     "base_uri": "https://localhost:8080/",
     "height": 283
    },
    "id": "9AvayfBRFgbc",
    "outputId": "721470c6-84bd-40e6-836d-983e33a4f4a1",
    "pycharm": {
     "name": "#%%\n"
    }
   },
   "outputs": [],
   "source": [
    "fil = ad_cell.var.eval(f'measurement_name == \"MeanIntensityComp\" and channel_name in [\"Er167\", \"Tm169\"]')\n",
    "axs = sp.pl.pca(ad_cell, color=ad_cell.var.index[fil], show=False)\n",
    "for ax, tit in zip(axs, ad_cell.var.plot_name[fil]):\n",
    "    ax.set_title(tit)\n",
    "plt.show()"
   ]
  },
  {
   "cell_type": "code",
   "execution_count": null,
   "metadata": {
    "colab": {
     "base_uri": "https://localhost:8080/"
    },
    "id": "m6ARwtN9Fgbc",
    "outputId": "b77b475d-8100-4471-dcfe-5650f5336cdf",
    "pycharm": {
     "name": "#%%\n"
    }
   },
   "outputs": [],
   "source": [
    "len(ad_cell.var.plot_name.cat.categories)"
   ]
  },
  {
   "cell_type": "markdown",
   "metadata": {
    "id": "PNUrK2oaFgbc",
    "pycharm": {
     "name": "#%% md\n"
    }
   },
   "outputs": [],
   "source": [
    "Visualize the data as a heatmap"
   ]
  },
  {
   "cell_type": "code",
   "execution_count": null,
   "metadata": {
    "colab": {
     "base_uri": "https://localhost:8080/",
     "height": 1000
    },
    "id": "mo0VZ-lPFgbd",
    "outputId": "b39d72da-3ffe-4420-9fb0-8c03e1466493",
    "pycharm": {
     "name": "#%%\n"
    }
   },
   "outputs": [],
   "source": [
    "fil = ad_cell.var.eval('working == 1 and measurement_name == \"MeanIntensityComp\"'\n",
    "                            'and stack_name == \"FullStackFiltered\"')\n",
    "axs = sp.pl.heatmap(ad_cell, var_names=ad_cell.var.index[fil], log=False, groupby='modelfitcond_v1',\n",
    "             show_gene_labels=True, standard_scale='var', show=False\n",
    "               )\n",
    "\n",
    "axs['heatmap_ax'].set_xticklabels(ad_cell.var.plot_name[fil])"
   ]
  },
  {
   "cell_type": "markdown",
   "metadata": {
    "id": "W471EVb8Fgbd",
    "pycharm": {
     "name": "#%% md\n"
    }
   },
   "outputs": [],
   "source": [
    "Show how the data could be visualized using a heatplot, mapping the average intensities on a mask\n",
    "\n",
    "\n",
    "-> Cells which were filtered out during QC are displayed as grey"
   ]
  },
  {
   "cell_type": "code",
   "execution_count": null,
   "metadata": {
    "colab": {
     "base_uri": "https://localhost:8080/",
     "height": 279
    },
    "id": "wGc1UNeWFgbd",
    "outputId": "294a58bd-0e75-4cf9-bf7d-c265c10b45f9",
    "pycharm": {
     "name": "#%%\n"
    }
   },
   "outputs": [],
   "source": [
    "fig = io.plot_imag_ad(ad_cell[ad_cell.obs.image_id.isin(ad_cell.obs.image_id.unique()[:10]) , :],\n",
    "                      'Ir193', figsize=(15,20))"
   ]
  },
  {
   "cell_type": "markdown",
   "metadata": {
    "id": "bXj5NYK1Fgbd",
    "pycharm": {
     "name": "#%% md\n"
    }
   },
   "outputs": [],
   "source": [
    "Show how raw images could be visualized"
   ]
  },
  {
   "cell_type": "code",
   "execution_count": null,
   "metadata": {
    "id": "XpzqLv5ZFgbd",
    "pycharm": {
     "name": "#%%\n"
    }
   },
   "outputs": [],
   "source": [
    "imid = 123"
   ]
  },
  {
   "cell_type": "code",
   "execution_count": null,
   "metadata": {
    "colab": {
     "base_uri": "https://localhost:8080/",
     "height": 254
    },
    "id": "284WnTXoFgbd",
    "outputId": "b37be7bc-dcec-4974-9f15-37b27c318173",
    "pycharm": {
     "name": "#%%\n"
    }
   },
   "outputs": [],
   "source": [
    "fil = ad_cell.var.eval(f'channel_name == \"Tm169\" and stack_name == \"FullStackFiltered\"')\n",
    "img = io.get_image_channel(imid, ad_cell.var.ref_plane_number[fil][0])\n",
    "ax= plot_heatmask(img,norm=colors.PowerNorm(gamma=1./2.)) # This plots the image with sqareroot transformed values\n",
    "add_scalebar(ax)\n",
    "plot_mask_contour(io.get_mask(imid), ax=ax)"
   ]
  },
  {
   "cell_type": "code",
   "execution_count": null,
   "metadata": {
    "colab": {
     "base_uri": "https://localhost:8080/",
     "height": 248
    },
    "id": "_VJV9peEFgbd",
    "outputId": "ca358445-616f-457b-c4e2-37a56893ddc1",
    "pycharm": {
     "name": "#%%\n"
    }
   },
   "outputs": [],
   "source": [
    "fil = ad_cell.var.eval(f'channel_name == \"GFP\" and stack_name == \"IfStack\"')\n",
    "img = io.get_image_channel(imid, ad_cell.var.ref_plane_number[fil][0], stack_name=\"IfStack\")\n",
    "ax= plot_heatmask(img, norm=colors.PowerNorm(gamma=1./2.))\n",
    "add_scalebar(ax)\n",
    "plot_mask_contour(io.get_mask(imid), ax=ax)"
   ]
  },
  {
   "cell_type": "code",
   "execution_count": null,
   "metadata": {
    "colab": {
     "base_uri": "https://localhost:8080/",
     "height": 249
    },
    "id": "g4VMaHskFgbd",
    "outputId": "2a3c3f5d-5467-4d57-e152-1bda314e60b4"
   },
   "outputs": [],
   "source": [
    "fil = ad_cell.var.eval(f'channel_name == \"DAPI\" and stack_name == \"IfStack\"')\n",
    "img = io.get_image_channel(imid, ad_cell.var.ref_plane_number[fil][0], stack_name=\"IfStack\")\n",
    "ax= plot_heatmask(img, norm=colors.PowerNorm(gamma=1./2.))\n",
    "add_scalebar(ax)\n",
    "plot_mask_contour(io.get_mask(imid), ax=ax, col='red')"
   ]
  },
  {
   "cell_type": "markdown",
   "metadata": {
    "id": "wUN-2SVOFgbd",
    "pycharm": {
     "name": "#%% md\n"
    }
   },
   "outputs": [],
   "source": [
    "The same image as heatmask"
   ]
  },
  {
   "cell_type": "code",
   "execution_count": null,
   "metadata": {
    "colab": {
     "base_uri": "https://localhost:8080/",
     "height": 289
    },
    "id": "qyqn7zMAFgbd",
    "outputId": "c1954f75-ffe0-49ab-99a8-c4ef9152c9af",
    "pycharm": {
     "name": "#%%\n"
    }
   },
   "outputs": [],
   "source": [
    "fig = io.plot_imag_ad(ad_cell[ad_cell.obs.image_id == imid, :], 'Tm169')\n",
    "add_scalebar(fig.axes[0])"
   ]
  },
  {
   "cell_type": "code",
   "execution_count": null,
   "metadata": {
    "colab": {
     "base_uri": "https://localhost:8080/",
     "height": 283
    },
    "id": "aQ21Efq-Fgbd",
    "outputId": "c0fed9b2-6414-4dfa-8929-6ec9d4564c12"
   },
   "outputs": [],
   "source": [
    "fig = io.plot_imag_ad(ad_cell[ad_cell.obs.image_id == imid, :], 'GFP',\n",
    "                     measurement_name='MeanIntensity',\n",
    "                     stack_name='IfStack')\n",
    "add_scalebar(fig.axes[0])"
   ]
  },
  {
   "cell_type": "markdown",
   "metadata": {
    "id": "zdUb8UBSrkl1"
   },
   "outputs": [],
   "source": [
    "fig = io.plot_imag_ad(ad_cell[ad_cell.obs.image_id == imid, :],\n",
    "                      'Tm169',\n",
    "                     measurement_name='NbMeanMeanIntensityComp',\n",
    "                     stack_name='FullStackFiltered')\n",
    "add_scalebar(fig.axes[0])"
   ]
  },
  {
   "cell_type": "code",
   "execution_count": null,
   "metadata": {
    "colab": {
     "base_uri": "https://localhost:8080/",
     "height": 628
    },
    "id": "1UOCtH0OFgbd",
    "outputId": "74c84747-a572-4ee6-f815-39153052a198"
   },
   "outputs": [],
   "source": [
    "fig = io.plot_imag_ad(ad_cell[ad_cell.obs.image_id == imid, :],\n",
    "                     channel_name='object', measurement_name='dist-rim',\n",
    "                     stack_name='ObjectStack')\n",
    "add_scalebar(fig.axes[0])"
   ]
  },
  {
   "cell_type": "code",
   "execution_count": null,
   "metadata": {
    "colab": {
     "base_uri": "https://localhost:8080/",
     "height": 628
    },
    "id": "gqo2PVowFgbd",
    "outputId": "d80eb35a-2c70-434c-ec21-a33851d0ca53"
   },
   "outputs": [],
   "source": [
    "fig = io.plot_imag_ad(ad_cell[ad_cell.obs.image_id == imid, :],\n",
    "                     channel_name='object', measurement_name='Center_X',\n",
    "                     stack_name='ObjectStack')\n",
    "add_scalebar(fig.axes[0])"
   ]
  },
  {
   "cell_type": "code",
   "execution_count": null,
   "metadata": {},
   "outputs": [],
   "source": [
    "fig = io.plot_imag_ad(ad_cell[ad_cell.obs.image_id == imid, :],\n",
    "                     channel_name='object', measurement_name='Area',\n",
    "                     stack_name='ObjectStack')\n",
    "add_scalebar(fig.axes[0])"
   ]
  },
  {
   "cell_type": "markdown",
   "metadata": {
    "id": "grge2NYCFgbd",
    "pycharm": {
     "name": "#%% md\n"
    }
   },
   "outputs": [],
   "source": [
    "## Also load nuclear and cytoplasmic data\n",
    "\n",
    "(This was not used in the paper)"
   ]
  },
  {
   "cell_type": "markdown",
   "metadata": {},
   "outputs": [],
   "source": [
    "### Load and plot nuclear data"
   ]
  },
  {
   "cell_type": "code",
   "execution_count": null,
   "metadata": {
    "colab": {
     "base_uri": "https://localhost:8080/"
    },
    "id": "3ToKnmOqFgbd",
    "outputId": "67fa8f2e-0fe0-4cee-c9fb-f3497967f8c3",
    "pycharm": {
     "name": "#%%\n"
    }
   },
   "outputs": [],
   "source": [
    "ad_nuc = load_anndata(C.fn_nuc_x, C.fn_nuc_obs, C.fn_nuc_var)\n",
    "transform_anndata(ad_nuc)\n",
    "ad_nuc.var_names = ad_nuc.var.measurement_id.astype(str)"
   ]
  },
  {
   "cell_type": "markdown",
   "metadata": {
    "id": "75iARk-iFgbd",
    "pycharm": {
     "name": "#%% md\n"
    }
   },
   "outputs": [],
   "source": [
    "Get relation with cell ids"
   ]
  },
  {
   "cell_type": "code",
   "execution_count": null,
   "metadata": {
    "colab": {
     "base_uri": "https://localhost:8080/",
     "height": 81
    },
    "id": "LnTRoqLfFgbe",
    "outputId": "9f8f6ded-2755-4cde-f64e-606154a6790d"
   },
   "outputs": [],
   "source": [
    "rel_cell_nuc = pd.read_csv(C.fn_rel_cell_nuc)\n",
    "rel_cell_nuc.head(1)"
   ]
  },
  {
   "cell_type": "markdown",
   "metadata": {
    "id": "OxCjuPBeFgbe",
    "pycharm": {
     "name": "#%% md\n"
    }
   },
   "outputs": [],
   "source": [
    "Identify nuclei of overexpressing cells via relations"
   ]
  },
  {
   "cell_type": "code",
   "execution_count": null,
   "metadata": {
    "id": "SAYh6Ln5Fgbe"
   },
   "outputs": [],
   "source": [
    "ad_nuc.obs = (\n",
    "    rel_cell_nuc\n",
    "    # sometimes a nuclei can belong to two cells...\n",
    "    .drop_duplicates('object_id_nucleiexp')\n",
    "     .merge(ad_cell.obs[['object_id', 'modelfitcond_v1']], left_on='object_id_cell', right_on='object_id')\n",
    "     .drop(columns=['object_id'])\n",
    "     .merge(ad_nuc.obs.reset_index(), left_on='object_id_nucleiexp', right_on='object_id', how='right')\n",
    "     .set_index('index')\n",
    ")"
   ]
  },
  {
   "cell_type": "markdown",
   "metadata": {
    "id": "XtWrHAkxFgbe",
    "pycharm": {
     "name": "#%% md\n"
    }
   },
   "outputs": [],
   "source": [
    "Show example image nuclei"
   ]
  },
  {
   "cell_type": "code",
   "execution_count": null,
   "metadata": {
    "colab": {
     "base_uri": "https://localhost:8080/",
     "height": 289
    },
    "id": "Coxsuw6VFgbe",
    "outputId": "2cc7a5be-88ee-4037-a144-bd3d8479f775",
    "pycharm": {
     "name": "#%%\n"
    }
   },
   "outputs": [],
   "source": [
    "fig = io.plot_imag_ad(ad_nuc[ad_nuc.obs.image_id == imid, :], 'Tm169')\n",
    "add_scalebar(fig.axes[0])"
   ]
  },
  {
   "cell_type": "markdown",
   "metadata": {
    "id": "y4rAUph_Fgbe"
   },
   "outputs": [],
   "source": [
    "Also do pca and heamap for nuclei"
   ]
  },
  {
   "cell_type": "code",
   "execution_count": null,
   "metadata": {
    "colab": {
     "base_uri": "https://localhost:8080/"
    },
    "id": "XAPfPWjvFgbf",
    "outputId": "1309820f-e143-4db2-9b5a-f7ebb13807cf",
    "pycharm": {
     "name": "#%%\n"
    }
   },
   "outputs": [],
   "source": [
    "fil_main = ad_nuc.var.eval('working == 1 and measurement_name == \"MeanIntensityComp\"'\n",
    "                            'and stack_name == \"FullStackFiltered\"')\n",
    "tmp_ad = ad_nuc[:, fil_main]\n",
    "sp.preprocessing.pca(tmp_ad)\n",
    "ad_nuc.obsm = tmp_ad.obsm"
   ]
  },
  {
   "cell_type": "code",
   "execution_count": null,
   "metadata": {
    "id": "GegimEnrFgbf",
    "pycharm": {
     "name": "#%%\n"
    }
   },
   "outputs": [],
   "source": [
    "ad_nuc.obs = ad_nuc.obs.reset_index().merge(dat_image[['image_id', 'condition_name']], how='left',\n",
    "                           ).set_index('index')"
   ]
  },
  {
   "cell_type": "code",
   "execution_count": null,
   "metadata": {
    "colab": {
     "base_uri": "https://localhost:8080/",
     "height": 452
    },
    "id": "yzXQ-JmgFgbf",
    "outputId": "c052a5e4-a543-4436-efd5-95714f0944a3",
    "pycharm": {
     "name": "#%%\n"
    }
   },
   "outputs": [],
   "source": [
    "sp.pl.pca(ad_nuc, color='modelfitcond_v1')"
   ]
  },
  {
   "cell_type": "code",
   "execution_count": null,
   "metadata": {
    "colab": {
     "base_uri": "https://localhost:8080/",
     "height": 318
    },
    "id": "UPjvrTojFgbf",
    "outputId": "dde117f4-a743-4303-9ce4-33cf7543c769",
    "pycharm": {
     "name": "#%%\n"
    }
   },
   "outputs": [],
   "source": [
    "fil = ad_nuc.var.eval(f'measurement_name == \"MeanIntensityComp\" and channel_name in [\"Er167\", \"Tm169\"]')\n",
    "axs = sp.pl.pca(ad_nuc, color=ad_nuc.var.index[fil], show=False)\n",
    "for ax, tit in zip(axs, ad_nuc.var.goodname[fil]):\n",
    "    ax.set_title(tit)\n",
    "plt.show()"
   ]
  },
  {
   "cell_type": "code",
   "execution_count": null,
   "metadata": {
    "colab": {
     "base_uri": "https://localhost:8080/",
     "height": 1000
    },
    "id": "oiol-iByFgbf",
    "outputId": "e6037f6b-6bdb-4926-bb73-6539f0814cba",
    "pycharm": {
     "name": "#%%\n"
    }
   },
   "outputs": [],
   "source": [
    "fil = fil_main | (ad_nuc.var.measurement_name == 'Area')\n",
    "axs = sp.pl.heatmap(ad_nuc, var_names=ad_nuc.var.index[fil], log=False, groupby='modelfitcond_v1',\n",
    "             show_gene_labels=True, standard_scale='var', show=False\n",
    "               )\n",
    "\n",
    "axs['heatmap_ax'].set_xticklabels(ad_nuc.var.goodname[fil])"
   ]
  },
  {
   "cell_type": "markdown",
   "metadata": {},
   "outputs": [],
   "source": [
    "### Load cytoplasm data"
   ]
  },
  {
   "cell_type": "code",
   "execution_count": null,
   "metadata": {
    "colab": {
     "base_uri": "https://localhost:8080/"
    },
    "id": "kr4BaJ4nFgbe",
    "outputId": "4a15feb9-fb2a-445c-f31e-8011244cf248",
    "pycharm": {
     "name": "#%%\n"
    }
   },
   "outputs": [],
   "source": [
    "ad_cyto = load_anndata(C.fn_cyto_x, C.fn_cyto_obs, C.fn_cyto_var)\n",
    "transform_anndata(ad_cyto)\n",
    "ad_cyto.var_names = ad_cyto.var.measurement_id.astype(str)"
   ]
  },
  {
   "cell_type": "markdown",
   "metadata": {
    "id": "60aNZ1iAFgbe",
    "pycharm": {
     "name": "#%% md\n"
    }
   },
   "outputs": [],
   "source": [
    "Match cytopasm "
   ]
  },
  {
   "cell_type": "markdown",
   "metadata": {
    "id": "KAIA_J_lFgbe",
    "pycharm": {
     "name": "#%% md\n"
    }
   },
   "outputs": [],
   "source": [
    "Get relation with cell ids"
   ]
  },
  {
   "cell_type": "code",
   "execution_count": null,
   "metadata": {
    "colab": {
     "base_uri": "https://localhost:8080/",
     "height": 81
    },
    "id": "8_GudTFTFgbe",
    "outputId": "62910946-2949-4733-c9a8-20007584398a"
   },
   "outputs": [],
   "source": [
    "rel_cell_cyto = pd.read_csv(C.fn_rel_cell_cyto)\n",
    "rel_cell_cyto.head(1)"
   ]
  },
  {
   "cell_type": "markdown",
   "metadata": {
    "id": "f9_Qu2F1Fgbe"
   },
   "outputs": [],
   "source": [
    "Identify cytoplasm of overexpressing cells via relations"
   ]
  },
  {
   "cell_type": "code",
   "execution_count": null,
   "metadata": {
    "id": "IYxZUNKSFgbe",
    "pycharm": {
     "name": "#%%\n"
    }
   },
   "outputs": [],
   "source": [
    "ad_cyto.obs = (\n",
    "    rel_cell_cyto\n",
    "    # sometimes a cytoplasm can belong to two cells...\n",
    "    .drop_duplicates('object_id_cyto')\n",
    "     .merge(ad_cell.obs[['object_id', 'modelfitcond_v1']], left_on='object_id_cell', right_on='object_id')\n",
    "     .drop(columns=['object_id'])\n",
    "     .merge(ad_cyto.obs.reset_index(), left_on='object_id_cyto', right_on='object_id', how='right')\n",
    "     .set_index('index')\n",
    ")"
   ]
  },
  {
   "cell_type": "markdown",
   "metadata": {
    "id": "cn2dgsf-Fgbe",
    "pycharm": {
     "name": "#%% md\n"
    }
   },
   "outputs": [],
   "source": [
    "Show example image cytoplasm"
   ]
  },
  {
   "cell_type": "code",
   "execution_count": null,
   "metadata": {
    "colab": {
     "base_uri": "https://localhost:8080/",
     "height": 289
    },
    "id": "Gn2zTdjvFgbe",
    "outputId": "93f35361-ffb2-4b8e-9a3a-9cc81f29b6c6",
    "pycharm": {
     "name": "#%%\n"
    }
   },
   "outputs": [],
   "source": [
    "fig = io.plot_imag_ad(ad_cyto[ad_cyto.obs.image_id == imid, :], 'Tm169')\n",
    "add_scalebar(fig.axes[0])"
   ]
  },
  {
   "cell_type": "markdown",
   "metadata": {},
   "outputs": [],
   "source": [
    "Plot heatmap and PCA"
   ]
  },
  {
   "cell_type": "code",
   "execution_count": null,
   "metadata": {
    "id": "V7V1uYRHFgbf",
    "pycharm": {
     "name": "#%%\n"
    }
   },
   "outputs": [],
   "source": [
    "ad_cyto.obs = ad_cyto.obs.reset_index().merge(dat_image[['image_id', 'condition_name']], how='left',\n",
    "                           ).set_index('index')"
   ]
  },
  {
   "cell_type": "code",
   "execution_count": null,
   "metadata": {
    "colab": {
     "base_uri": "https://localhost:8080/"
    },
    "id": "NloD6l9cFgbf",
    "outputId": "de3153dc-ab23-4b15-e05a-c6415491ced6",
    "pycharm": {
     "name": "#%%\n"
    }
   },
   "outputs": [],
   "source": [
    "fil_main = ad_cyto.var.eval('working == 1 and measurement_name == \"MeanIntensityComp\"'\n",
    "                            'and stack_name == \"FullStackFiltered\"')\n",
    "tmp_ad = ad_cyto[:, fil_main]\n",
    "sp.preprocessing.pca(tmp_ad)\n",
    "ad_cyto.obsm = tmp_ad.obsm\n"
   ]
  },
  {
   "cell_type": "code",
   "execution_count": null,
   "metadata": {
    "colab": {
     "base_uri": "https://localhost:8080/",
     "height": 452
    },
    "id": "WiXrh_VBFgbf",
    "outputId": "22ae2e04-ec7f-430d-d063-843ff641b391",
    "pycharm": {
     "name": "#%%\n"
    }
   },
   "outputs": [],
   "source": [
    "sp.pl.pca(ad_cyto, color='modelfitcond_v1')"
   ]
  },
  {
   "cell_type": "code",
   "execution_count": null,
   "metadata": {
    "colab": {
     "base_uri": "https://localhost:8080/",
     "height": 318
    },
    "id": "SR8qhjfoFgbf",
    "outputId": "76d51762-c5fc-4269-a438-93547dca879b",
    "pycharm": {
     "name": "#%%\n"
    }
   },
   "outputs": [],
   "source": [
    "fil = ad_cyto.var.eval(f'measurement_name == \"MeanIntensityComp\" and channel_name in [\"Er167\", \"Tm169\"]')\n",
    "axs = sp.pl.pca(ad_cyto, color=ad_cyto.var.index[fil], show=False)\n",
    "for ax, tit in zip(axs, ad_cyto.var.goodname[fil]):\n",
    "    ax.set_title(tit)\n",
    "plt.show()"
   ]
  },
  {
   "cell_type": "code",
   "execution_count": null,
   "metadata": {
    "colab": {
     "base_uri": "https://localhost:8080/",
     "height": 1000
    },
    "id": "pF_Ew7oKFgbf",
    "outputId": "e3fff54a-d2a6-4608-bee0-37fce68e1b5c",
    "pycharm": {
     "name": "#%%\n"
    }
   },
   "outputs": [],
   "source": [
    "fil = fil_main | (ad_cyto.var.measurement_name == 'Area')\n",
    "axs = sp.pl.heatmap(ad_nuc, var_names=ad_nuc.var.channel_name[fil], log=False, groupby='modelfitcond_v1',\n",
    "             gene_symbols='channel_name',show_gene_labels=True, standard_scale='var', show=False\n",
    "               )\n",
    "\n",
    "axs['heatmap_ax'].set_xticklabels(ad_nuc.var.goodname[fil])"
   ]
  }
 ],
 "metadata": {
  "colab": {
   "name": "99_browse_export_data.py.ipynb",
   "provenance": []
  },
  "kernelspec": {
   "display_name": "Python 3",
   "language": "python",
   "name": "python3"
  },
  "language_info": {
   "codemirror_mode": {
    "name": "ipython",
    "version": 3
   },
   "file_extension": ".py",
   "mimetype": "text/x-python",
   "name": "python",
   "nbconvert_exporter": "python",
   "pygments_lexer": "ipython3",
   "version": "3.7.7"
  }
 },
 "nbformat": 4,
 "nbformat_minor": 1
}
