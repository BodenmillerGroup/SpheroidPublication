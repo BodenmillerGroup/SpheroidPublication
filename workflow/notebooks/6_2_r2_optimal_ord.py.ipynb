{
 "cells": [
  {
   "cell_type": "code",
   "execution_count": null,
   "metadata": {
    "pycharm": {
     "name": "#%%\n"
    }
   },
   "outputs": [],
   "source": [
    "sm = snakemake"
   ]
  },
  {
   "cell_type": "code",
   "execution_count": null,
   "metadata": {},
   "outputs": [],
   "source": [
    "import spherpro.bro as spb\n",
    "import spherpro.datastore as spd\n",
    "import spherpro.library as spl\n",
    "import spherpro.configuration as conf\n",
    "import spherpro.db as db\n",
    "import sqlalchemy as sa\n",
    "import imp\n",
    "import pycytools as pct\n",
    "import pycytools.library\n",
    "import re\n",
    "import os\n",
    "import pandas as pd\n",
    "import numpy as np\n",
    "import plotnine as gg\n",
    "import spherpro.library as lib\n",
    "import matplotlib.pyplot as plt\n",
    "import matplotlib.colors as colors\n",
    "import matplotlib.patches as mpatches\n",
    "import pdb\n",
    "import pathlib\n",
    "\n",
    "%matplotlib notebook\n",
    "%matplotlib inline\n",
    "\n",
    "\n",
    "import seaborn as sns\n",
    "import scipy.stats as stats\n",
    "from IPython.display import display\n",
    "\n"
   ]
  },
  {
   "cell_type": "code",
   "execution_count": null,
   "metadata": {
    "pycharm": {
     "name": "#%% md\n"
    }
   },
   "outputs": [],
   "source": [
    "from src.config import Conf as C\n"
   ]
  },
  {
   "cell_type": "code",
   "execution_count": null,
   "metadata": {},
   "outputs": [],
   "source": [
    "import spherpro.bromodules.helpers_vz as helpers_vz\n",
    "imp.reload(helpers_vz)"
   ]
  },
  {
   "cell_type": "code",
   "execution_count": null,
   "metadata": {},
   "outputs": [],
   "source": [
    "class CurVariableHelper(helpers_vz.VariableBaseHelper):\n",
    "    COL_D2RIM = 'DistRim'\n",
    "    COL_GENE = 'gene'\n",
    "    COL_GENE_UNTAGGED = 'gene_untagged'\n",
    "    COL_TAG = 'tag'\n",
    "    COL_DOXO = 'doxocycline'\n",
    "    COL_DILUTION = 'dilution'\n",
    "    COL_GOODNAME = 'goodname'\n",
    "    COL_ISNB = 'isnb'\n",
    "    COL_FITTED = 'fitted'\n",
    "    COL_RESID = 'residual'\n",
    "    COL_IMGID = db.images.image_id.key\n",
    "    COL_OBJ_NR = db.objects.object_number.key\n",
    "    COL_FC = 'fc'\n",
    "    COL_P = 'p'\n",
    "    COL_DF = 'DF'\n",
    "    COL_DELTA = 'delta'\n",
    "    COL_TSTAT = 't'\n",
    "    COL_TAGSTAT = 'TagStat'\n",
    "    COL_POSSTAT = 'PosStat'\n",
    "    COL_WORKING = 'working'\n",
    "    COL_N = 'n'\n",
    "    COL_N_OVEREXPR = 'n_overexpr'\n",
    "    COL_FC_CENS = 'fc_cens'\n",
    "    COL_NB = 'nb'\n",
    "    COL_P_CORR = 'p_corrected'\n",
    "    COL_ISSIG = 'is_sig_sel'\n",
    "    COL_FITCONDITIONNAME = 'FitConditionName'\n",
    "    COL_VALUES = db.object_measurements.value.key\n",
    "\n",
    "    COL_COEFNAME = 'coefname'\n",
    "    \n",
    "    LAB_CELLLINE = 'Cellline'\n",
    "    LAB_TP = 'Timepoint'\n",
    "    LAB_CONC = 'Size'\n",
    "    \n",
    "V = CurVariableHelper"
   ]
  },
  {
   "cell_type": "code",
   "execution_count": null,
   "metadata": {},
   "outputs": [],
   "source": [
    "V.COL_MODTYPE = 'modtype'\n",
    "V.COL_MODEL = 'model'\n",
    "V.COL_MODELCLASS = 'modelclass'\n",
    "V.COL_METAL = 'metal'\n",
    "V.COL_MARKER_CLASS = 'marker_class'\n",
    "V.COL_IS_CC = 'is_cc'\n",
    "\n",
    "V.COL_CONDITION = V.COL_CONDNAME\n",
    "V.COL_TP = 'timepoint'\n",
    "V.COL_CONC = 'concentration'\n",
    "V.COL_CELLLINE = 'cellline'\n",
    "\n",
    "V.COL_CHANNEL = 'channel'"
   ]
  },
  {
   "cell_type": "code",
   "execution_count": null,
   "metadata": {},
   "outputs": [],
   "source": [
    "class C(C):\n",
    "    main_conds = sm.params.main_conds\n",
    "    main_conds_cl = sm.params.celllines\n",
    "    all_conds =  sm.params.all_conds\n",
    "    fig2_cond = [main_conds[1]]"
   ]
  },
  {
   "cell_type": "code",
   "execution_count": null,
   "metadata": {},
   "outputs": [],
   "source": [
    "V.COL_MEASTYPE = db.measurement_types.measurement_type.key\n",
    "V.COL_MEASID = db.measurements.measurement_id.key\n",
    "V.COL_VALUE = db.object_measurements.value.key\n",
    "MEAS_INTENSITY = 'Intensity'"
   ]
  },
  {
   "cell_type": "code",
   "execution_count": null,
   "metadata": {},
   "outputs": [],
   "source": [
    "cmap_cells = [colors.to_hex(c) for c in sns.color_palette('deep')]"
   ]
  },
  {
   "cell_type": "code",
   "execution_count": null,
   "metadata": {},
   "outputs": [],
   "source": [
    "cmap_cells"
   ]
  },
  {
   "cell_type": "code",
   "execution_count": null,
   "metadata": {},
   "outputs": [],
   "source": [
    "fn_config = sm.input.fn_config\n",
    "fn_modstats_out = sm.input.fn_modstats\n",
    "fol_out_paper = pathlib.Path(sm.output.fol_out)\n",
    "\n",
    "\n",
    "bro = spb.get_bro(fn_config)\n",
    "\n",
    "\n",
    "hpr = helpers_vz.HelperVZ(bro)\n",
    "\n",
    "dat_pannelcsv = hpr.get_pannelcsv()\n",
    "\n",
    "dat_measmeta = hpr.get_measuremeta(dat_pannelcsv,additional_measfilt=sa.and_(db.stacks.stack_name == 'Dist',\n",
    "                                                                            db.measurements.measurement_name == 'dist-rim',\n",
    "                                                                            db.ref_planes.channel_name == 'object'))\n",
    "\n",
    "dat_imgmeta = hpr.get_imgmeta()\n",
    "#dat_imgmeta[V.COL_CONDLEVEL] = dat_imgmeta[V.COL_CONDID].map(str)\n",
    "#dat_imgmeta[V.COL_SITELEVEL] = dat_imgmeta[V.COL_SITEID].map(str)\n",
    "\n",
    "\n",
    "fil_good_meas = hpr.get_fil_good_meas(dat_measmeta)\n",
    "\n",
    "\n",
    "\n",
    "\n",
    "\n",
    "\n",
    "\n",
    "#dat_measmeta = dat_measmeta.merge(dat_pannelcsv[[V.COL_METAL, V.COL_MARKER_CLASS]],how='left')\n",
    "dat_measmeta = dat_measmeta.merge(dat_pannelcsv, how='left')\n",
    "dat_measmeta[V.COL_IS_CC] = dat_measmeta[V.COL_IS_CC] == 1\n",
    "#dat_measmeta[V.COL_IS_CC] = False\n",
    "dat_measmeta = dat_measmeta.set_index(V.COL_MEASID, drop=False)"
   ]
  },
  {
   "cell_type": "code",
   "execution_count": null,
   "metadata": {},
   "outputs": [],
   "source": [
    "fol_out = pathlib.Path(sm.output.fol_out)\n",
    "os.makedirs(fol_out, exist_ok=True)"
   ]
  },
  {
   "cell_type": "code",
   "execution_count": null,
   "metadata": {},
   "outputs": [],
   "source": [
    "dat_mod_stats = pd.read_csv(fn_modstats_out)"
   ]
  },
  {
   "cell_type": "code",
   "execution_count": null,
   "metadata": {},
   "outputs": [],
   "source": [
    "dat_mod_stats"
   ]
  },
  {
   "cell_type": "code",
   "execution_count": null,
   "metadata": {},
   "outputs": [],
   "source": [
    "chans = dat_pannelcsv.query(f'{V.COL_WORKING} == True')[V.COL_METAL]\n",
    "dat_mod_stats = dat_mod_stats.query(f'{V.COL_CHANNELNAME} in {list(chans)}')"
   ]
  },
  {
   "cell_type": "code",
   "execution_count": null,
   "metadata": {},
   "outputs": [],
   "source": [
    "chans"
   ]
  },
  {
   "cell_type": "code",
   "execution_count": null,
   "metadata": {},
   "outputs": [],
   "source": [
    "r_var= V.COL_R2 = COL_R2VAR = 'r2_adj_corr'\n",
    "COL_MODELSEQ = 'modelseq'"
   ]
  },
  {
   "cell_type": "code",
   "execution_count": null,
   "metadata": {},
   "outputs": [],
   "source": [
    "# creats all possible combinations:\n",
    "from itertools import chain, combinations\n",
    "import itertools\n",
    "\n",
    "def powerset(iterable):\n",
    "    \"powerset([1,2,3]) --> () (1,) (2,) (3,) (1,2) (1,3) (2,3) (1,2,3)\"\n",
    "    s = list(iterable)  # allows duplicate elements\n",
    "    return chain.from_iterable(combinations(s, r) for r in range(len(s)+1))"
   ]
  },
  {
   "cell_type": "code",
   "execution_count": null,
   "metadata": {},
   "outputs": [],
   "source": [
    "seq= ['dist', 'int', 'nb', 'self']"
   ]
  },
  {
   "cell_type": "code",
   "execution_count": null,
   "metadata": {},
   "outputs": [],
   "source": []
  },
  {
   "cell_type": "code",
   "execution_count": null,
   "metadata": {},
   "outputs": [],
   "source": [
    "def all_delta_r(dat, seq):\n",
    "    n_el = len(seq)\n",
    "    seq_deltas = dict()\n",
    "    for perm in itertools.permutations(range(n_el)):\n",
    "        r_delta = np.empty(shape=n_el)\n",
    "        r_cur = 0\n",
    "        for i in range(n_el):\n",
    "            mod = '_'.join(seq[j] for j in sorted(perm[:i+1]))\n",
    "            d_cur = dat[mod]-r_cur\n",
    "            r_delta[i] = d_cur\n",
    "            r_cur = dat[mod]\n",
    "        seq_lab = '_'.join(seq[k] for k in perm)\n",
    "        seq_deltas[seq_lab] = r_delta\n",
    "    return seq_deltas"
   ]
  },
  {
   "cell_type": "code",
   "execution_count": null,
   "metadata": {},
   "outputs": [],
   "source": [
    "def calc_deltavar(d):\n",
    "    dat = dict(d[[V.COL_MODELCLASS, V.COL_R2]].to_records(index=False))\n",
    "    mod_var = pd.Series(all_delta_r(dat, seq)).map(np.var)\n",
    "    mod_var.index.name = COL_MODELSEQ\n",
    "    mod_var.name = COL_R2VAR\n",
    "    return mod_var"
   ]
  },
  {
   "cell_type": "code",
   "execution_count": null,
   "metadata": {},
   "outputs": [],
   "source": [
    "dat_r2var = dat_mod_stats.groupby([V.COL_CONDNAME, V.COL_CHANNELNAME]).apply(calc_deltavar).stack().reset_index().rename(columns={0: COL_R2VAR})"
   ]
  },
  {
   "cell_type": "code",
   "execution_count": null,
   "metadata": {},
   "outputs": [],
   "source": [
    "dat_r2var.groupby([COL_MODELSEQ])[COL_R2VAR].mean().sort_values()"
   ]
  },
  {
   "cell_type": "code",
   "execution_count": null,
   "metadata": {},
   "outputs": [],
   "source": [
    "def get_groupmin(dat, group_vars, val_var):\n",
    "    return dat.loc[dat.groupby(group_vars)[val_var].idxmin()]"
   ]
  },
  {
   "cell_type": "code",
   "execution_count": null,
   "metadata": {},
   "outputs": [],
   "source": [
    "\n",
    "get_groupmin(dat_r2var, [V.COL_CONDNAME, V.COL_CHANNELNAME], COL_R2VAR)[COL_MODELSEQ].value_counts()"
   ]
  },
  {
   "cell_type": "code",
   "execution_count": null,
   "metadata": {
    "pycharm": {
     "name": "#%%\n"
    }
   },
   "outputs": [],
   "source": [
    "d = dat_r2var.groupby([COL_MODELSEQ, V.COL_CONDNAME])[COL_R2VAR].mean().reset_index()\n",
    "get_groupmin(d, [V.COL_CONDNAME], COL_R2VAR)[COL_MODELSEQ].value_counts()"
   ]
  },
  {
   "cell_type": "code",
   "execution_count": null,
   "metadata": {
    "pycharm": {
     "name": "#%%\n"
    }
   },
   "outputs": [],
   "source": [
    "d = dat_r2var.groupby([COL_MODELSEQ, V.COL_CHANNELNAME])[COL_R2VAR].mean().reset_index()\n",
    "get_groupmin(d, [V.COL_CHANNELNAME], COL_R2VAR)[COL_MODELSEQ].value_counts()"
   ]
  },
  {
   "cell_type": "markdown",
   "metadata": {
    "pycharm": {
     "name": "#%% md\n"
    }
   },
   "outputs": [],
   "source": [
    "## Additional analyses\n",
    "\n",
    "Calculate for each order:\n",
    "- how much absolute variability is additionally explained\n",
    "- What fraction of additional variability is explained at each step\n",
    "\n",
    "-> This can be used to get the additional variability explained when averaging over all orders"
   ]
  },
  {
   "cell_type": "code",
   "execution_count": null,
   "metadata": {},
   "outputs": [],
   "source": [
    "def all_delta_rstats(dat, seq):\n",
    "    n_el = len(seq)\n",
    "    seq_deltas = dict()\n",
    "    for perm in itertools.permutations(range(n_el)):\n",
    "        r_delta = np.empty(shape=n_el)\n",
    "        r_res = np.empty(shape=n_el)\n",
    "        r_cur = 0\n",
    "        for i in range(n_el):\n",
    "            mod = '_'.join(seq[j] for j in sorted(perm[:i+1]))\n",
    "            d_cur = dat[mod]-r_cur\n",
    "            r_delta[i] = d_cur\n",
    "            r_res[i] = 1-r_cur\n",
    "            r_cur = dat[mod]\n",
    "        seq_lab = '_'.join(seq[k] for k in perm)\n",
    "        seq_deltas[seq_lab] = pd.DataFrame({'r_delta':r_delta,\n",
    "                                            'r_res': r_res,\n",
    "                                            'submod': [seq[k] for k in perm]})\n",
    "    return seq_deltas"
   ]
  },
  {
   "cell_type": "code",
   "execution_count": null,
   "metadata": {},
   "outputs": [],
   "source": [
    "def calc_deltavar(d):\n",
    "    dat = dict(d[[V.COL_MODELCLASS, V.COL_R2]].to_records(index=False))\n",
    "    mod_var = pd.concat(all_delta_rstats(dat, seq),names=['mod_order',None])\n",
    "    return mod_var"
   ]
  },
  {
   "cell_type": "code",
   "execution_count": null,
   "metadata": {},
   "outputs": [],
   "source": [
    "dat_r2_det = dat_mod_stats.groupby([V.COL_CONDNAME, V.COL_CHANNELNAME]).apply(calc_deltavar).reset_index()"
   ]
  },
  {
   "cell_type": "code",
   "execution_count": null,
   "metadata": {},
   "outputs": [],
   "source": [
    "dat_r2_det.head()"
   ]
  },
  {
   "cell_type": "code",
   "execution_count": null,
   "metadata": {},
   "outputs": [],
   "source": [
    "dat_r2_det.groupby([V.COL_CONDNAME, V.COL_CHANNELNAME, 'submod'])['r_delta'].mean().groupby(['submod']).mean()"
   ]
  },
  {
   "cell_type": "code",
   "execution_count": null,
   "metadata": {},
   "outputs": [],
   "source": [
    "dat_r2_det.groupby([V.COL_CONDNAME, V.COL_CHANNELNAME, 'submod']).apply(lambda x: np.mean(x['r_delta']/x['r_res'])).groupby(['submod']).mean()"
   ]
  },
  {
   "cell_type": "code",
   "execution_count": null,
   "metadata": {},
   "outputs": [],
   "source": [
    "dat_r2_det.groupby([V.COL_CONDNAME, V.COL_CHANNELNAME, 'submod']).apply(lambda x: np.mean(x['r_delta']/x['r_res'])).groupby(['submod']).mean()"
   ]
  },
  {
   "cell_type": "code",
   "execution_count": null,
   "metadata": {},
   "outputs": [],
   "source": [
    "dat_r2_det"
   ]
  },
  {
   "cell_type": "code",
   "execution_count": null,
   "metadata": {},
   "outputs": [],
   "source": [
    "dat_r2_det.query('mod_order==\"dist_nb_self_int\"').groupby(['submod']).mean()"
   ]
  },
  {
   "cell_type": "code",
   "execution_count": null,
   "metadata": {},
   "outputs": [],
   "source": [
    "dat_r2avg = (dat_r2_det.groupby([V.COL_CONDNAME, V.COL_CHANNELNAME, 'submod'])\n",
    " .apply(lambda x: pd.Series({'r2_average': np.mean(x['r_delta']), 'r2_average_ofresid': np.mean(x['r_delta']/x['r_res'])}))\n",
    " #.rename('r2_average')\n",
    " .reset_index()\n",
    ")"
   ]
  },
  {
   "cell_type": "code",
   "execution_count": null,
   "metadata": {},
   "outputs": [],
   "source": [
    "dat_r2avg"
   ]
  },
  {
   "cell_type": "code",
   "execution_count": null,
   "metadata": {},
   "outputs": [],
   "source": [
    "dat_r2avg.query('channel_name == \"Yb171\"')"
   ]
  },
  {
   "cell_type": "code",
   "execution_count": null,
   "metadata": {},
   "outputs": [],
   "source": [
    "from pandas.api.types import CategoricalDtype"
   ]
  },
  {
   "cell_type": "code",
   "execution_count": null,
   "metadata": {},
   "outputs": [],
   "source": [
    "V.COL_SUBMOD = 'submod'"
   ]
  },
  {
   "cell_type": "code",
   "execution_count": null,
   "metadata": {},
   "outputs": [],
   "source": [
    "dat_layout = pd.read_csv(bro.data.conf['layout_csv']['path'])\n",
    "\n",
    "\n",
    "dat_layout=dat_layout.rename(columns={bro.data.conf['layout_csv']['condition_col']: V.COL_CONDNAME})\n",
    "\n",
    "dat_condmeta=(dat_layout.groupby(by=[V.COL_CELLLINE, V.COL_CONC, V.COL_TP])['well'].count()\n",
    "   .reset_index()\n",
    "   .assign(**{V.COL_CONDNAME: \n",
    "              lambda x: x.apply(\n",
    "                  lambda g: f'{g[V.COL_CELLLINE]}_c{g[V.COL_CONC]}_tp{g[V.COL_TP]}', axis=1)}))\n",
    "\n",
    "dat_condmeta[V.COL_CELLLINE] = pd.Categorical(dat_condmeta[V.COL_CELLLINE], categories=C.main_conds_cl)"
   ]
  },
  {
   "cell_type": "code",
   "execution_count": null,
   "metadata": {},
   "outputs": [],
   "source": [
    "dsubmod = CategoricalDtype(categories=reversed(['dist', 'nb', 'self', 'int']))"
   ]
  },
  {
   "cell_type": "code",
   "execution_count": null,
   "metadata": {},
   "outputs": [],
   "source": [
    "dat_r2avg[V.COL_SUBMOD ] = dat_r2avg[V.COL_SUBMOD ].astype(dsubmod) "
   ]
  },
  {
   "cell_type": "code",
   "execution_count": null,
   "metadata": {},
   "outputs": [],
   "source": [
    "dat_r2avg[V.COL_SUBMOD ]"
   ]
  },
  {
   "cell_type": "code",
   "execution_count": null,
   "metadata": {},
   "outputs": [],
   "source": [
    "(dat_r2avg\n",
    " .merge(dat_condmeta)\n",
    " .groupby(by=[V.COL_CELLLINE,V.COL_SUBMOD])['r2_average']\n",
    " .mean()\n",
    " .reset_index()\n",
    " .sort_values(V.COL_SUBMOD)\n",
    " >> \n",
    "gg.ggplot(gg.aes(x=V.COL_CELLLINE, y='r2_average', fill=f\"pd.Categorical({V.COL_SUBMOD}, categories=reversed(['dist', 'nb', 'self', 'int']))\"))\n",
    "     + gg.geom_bar(stat='identity')\n",
    "     +gg.coord_cartesian(ylim=(0,0.59))\n",
    "    )"
   ]
  },
  {
   "cell_type": "code",
   "execution_count": null,
   "metadata": {},
   "outputs": [],
   "source": [
    "(dat_r2avg\n",
    " .merge(dat_condmeta)\n",
    " .groupby(by=[V.COL_CELLLINE,V.COL_SUBMOD])['r2_average']\n",
    " .mean()\n",
    " .reset_index()\n",
    " .sort_values(V.COL_SUBMOD)\n",
    " >> \n",
    "gg.ggplot(gg.aes(x=V.COL_CELLLINE, y='r2_average', fill=f\"pd.Categorical({V.COL_SUBMOD}, categories=reversed(['dist', 'nb', 'self', 'int']))\"))\n",
    "     + gg.geom_bar(stat='identity')\n",
    "     +gg.coord_cartesian(ylim=(0,0.59))\n",
    "    )"
   ]
  },
  {
   "cell_type": "code",
   "execution_count": null,
   "metadata": {},
   "outputs": [],
   "source": [
    "(dat_r2avg\n",
    " .merge(dat_condmeta)\n",
    " .groupby(by=[V.COL_CELLLINE,V.COL_SUBMOD])['r2_average']\n",
    " .mean()\n",
    " .reset_index()\n",
    ")"
   ]
  },
  {
   "cell_type": "code",
   "execution_count": null,
   "metadata": {},
   "outputs": [],
   "source": [
    "(dat_r2avg\n",
    " .merge(dat_condmeta)\n",
    " .groupby(by=[V.COL_CELLLINE,V.COL_SUBMOD])['r2_average_ofresid']\n",
    " .mean()\n",
    " .reset_index()\n",
    " .sort_values(V.COL_SUBMOD)\n",
    " >> \n",
    "gg.ggplot(gg.aes(x=V.COL_CELLLINE, y='r2_average_ofresid', fill=f\"pd.Categorical({V.COL_SUBMOD}, categories=reversed(['dist', 'nb', 'self', 'int']))\"))\n",
    " +gg.geom_bar(gg.aes(y=1), fill='grey', stat='identity')    \n",
    " + gg.geom_bar(stat='identity')\n",
    "     +gg.coord_cartesian(ylim=(0,0.59))\n",
    "    )"
   ]
  },
  {
   "cell_type": "code",
   "execution_count": null,
   "metadata": {},
   "outputs": [],
   "source": [
    "dat_condmeta"
   ]
  },
  {
   "cell_type": "code",
   "execution_count": null,
   "metadata": {},
   "outputs": [],
   "source": []
  },
  {
   "cell_type": "code",
   "execution_count": null,
   "metadata": {},
   "outputs": [],
   "source": [
    "dat_r2avg"
   ]
  },
  {
   "cell_type": "code",
   "execution_count": null,
   "metadata": {},
   "outputs": [],
   "source": [
    "f'{V.COL_CELLLINE}~{V.COL_CHANNEL}+{V.COL_TP}'"
   ]
  },
  {
   "cell_type": "code",
   "execution_count": null,
   "metadata": {},
   "outputs": [],
   "source": [
    "(dat_r2avg\n",
    " .merge(dat_condmeta)\n",
    " >> \n",
    "gg.ggplot(gg.aes(x=f'pd.Categorical({V.COL_CONC})',\n",
    "                 y='r2_average',\n",
    "                 fill=f\"pd.Categorical({V.COL_SUBMOD}, categories=reversed(['dist', 'nb', 'self', 'int']))\"))\n",
    " +gg.facet_grid(f'{V.COL_CELLLINE}~{V.COL_CHANNELNAME}+{V.COL_TP}')\n",
    " +gg.geom_bar(gg.aes(y=1), fill='grey', stat='identity')    \n",
    " + gg.geom_bar(stat='identity')\n",
    " \n",
    "     +gg.coord_cartesian(ylim=(0,1))\n",
    " +gg.theme(figure_size=(35,8))\n",
    " + gg.ggtitle('')\n",
    "    )"
   ]
  },
  {
   "cell_type": "code",
   "execution_count": null,
   "metadata": {},
   "outputs": [],
   "source": []
  },
  {
   "cell_type": "code",
   "execution_count": null,
   "metadata": {},
   "outputs": [],
   "source": [
    "(dat_r2_det\n",
    " .query('mod_order==\"dist_nb_self_int\"')\n",
    " .merge(dat_condmeta)\n",
    " >> \n",
    "gg.ggplot(gg.aes(x=f'pd.Categorical({V.COL_CONC})',\n",
    "                 y='r_delta',\n",
    "                 fill=f\"pd.Categorical({V.COL_SUBMOD}, categories=reversed(['dist', 'nb', 'self', 'int']))\"))\n",
    " +gg.facet_grid(f'{V.COL_CELLLINE}~{V.COL_CHANNELNAME}+{V.COL_TP}')\n",
    " +gg.geom_bar(gg.aes(y=1), fill='grey', stat='identity')    \n",
    " + gg.geom_bar(stat='identity')\n",
    "     +gg.coord_cartesian(ylim=(0,1))\n",
    " +gg.theme(figure_size=(35,8))\n",
    " + gg.ggtitle('')\n",
    "    )"
   ]
  },
  {
   "cell_type": "code",
   "execution_count": null,
   "metadata": {},
   "outputs": [],
   "source": [
    "(pd.concat([dat_r2_det,\n",
    "           dat_r2avg\n",
    "        .rename(columns={'r2_average': 'r_delta'})\n",
    "           .assign(**{'mod_order': 'average'})])\n",
    " .query(f'{V.COL_CONDNAME} == {C.fig2_cond}')\n",
    " .query(f'{V.COL_CHANNELNAME} == \"Yb171\"')\n",
    " #.query('mod_order==\"dist_nb_self_int\"')\n",
    " .merge(dat_condmeta)\n",
    " >> \n",
    "gg.ggplot(gg.aes(x=f'mod_order',\n",
    "                 y='r_delta',\n",
    "                 fill=f\"pd.Categorical({V.COL_SUBMOD}, categories=reversed(['dist', 'nb', 'self', 'int']))\"))\n",
    " +gg.facet_grid(f'{V.COL_CHANNELNAME}~.')\n",
    " +gg.geom_bar(gg.aes(y=1), fill='grey', stat='identity')    \n",
    " + gg.geom_bar(stat='identity')\n",
    "     +gg.coord_cartesian(ylim=(0,1))\n",
    " +gg.theme(figure_size=(12,5))\n",
    " + gg.theme(axis_text_x = gg.element_text(angle = 90))\n",
    " + gg.ggtitle('')\n",
    "    )"
   ]
  },
  {
   "cell_type": "code",
   "execution_count": null,
   "metadata": {},
   "outputs": [],
   "source": [
    "(pd.concat([dat_r2_det,\n",
    "           dat_r2avg\n",
    "        .rename(columns={'r2_average': 'r_delta'})\n",
    "           .assign(**{'mod_order': 'average'})])\n",
    " .query(f'{V.COL_CONDNAME} =={C.fig2_cond}')\n",
    " #.query(f'{V.COL_CHANNELNAME} == \"Nd150\"')\n",
    " #.query('mod_order==\"dist_nb_self_int\"')\n",
    " .merge(dat_condmeta)\n",
    " >> \n",
    "gg.ggplot(gg.aes(x=f'mod_order',\n",
    "                 y='r_delta',\n",
    "                 fill=f\"pd.Categorical({V.COL_SUBMOD}, categories=reversed(['dist', 'nb', 'self', 'int']))\"))\n",
    " +gg.facet_grid(f'{V.COL_CHANNELNAME}~.')\n",
    " +gg.geom_bar(gg.aes(y=1), fill='grey', stat='identity')    \n",
    " + gg.geom_bar(stat='identity')\n",
    "     +gg.coord_cartesian(ylim=(0,1))\n",
    " +gg.theme(figure_size=(10,30))\n",
    " + gg.theme(axis_text_x = gg.element_text(angle = 90))\n",
    " + gg.ggtitle('')\n",
    "    )"
   ]
  },
  {
   "cell_type": "code",
   "execution_count": null,
   "metadata": {},
   "outputs": [],
   "source": [
    "(pd.concat([dat_r2_det,\n",
    "           dat_r2avg\n",
    "        .rename(columns={'r2_average': 'r_delta'})\n",
    "           .assign(**{'mod_order': 'average'})])\n",
    " .query(f'{V.COL_CONDNAME} =={C.fig2_cond}')\n",
    " #.query(f'{V.COL_CHANNELNAME} == \"Nd150\"')\n",
    " #.query('mod_order==\"dist_nb_self_int\"')\n",
    " .merge(dat_condmeta)\n",
    " >> \n",
    "gg.ggplot(gg.aes(x=f'mod_order',\n",
    "                 y='r_delta',\n",
    "                 fill=f\"pd.Categorical({V.COL_SUBMOD}, categories=reversed(['dist', 'nb', 'self', 'int']))\"))\n",
    " +gg.facet_grid(f'{V.COL_CHANNELNAME}~.',scales='free_y')\n",
    "# +gg.geom_bar(gg.aes(y=1), fill='grey', stat='identity')    \n",
    " + gg.geom_bar(stat='identity')\n",
    "   #  +gg.coord_cartesian(ylim=(0,1))\n",
    " +gg.theme(figure_size=(10,30))\n",
    " + gg.theme(axis_text_x = gg.element_text(angle = 90))\n",
    " + gg.ggtitle('')\n",
    "    )"
   ]
  },
  {
   "cell_type": "code",
   "execution_count": null,
   "metadata": {},
   "outputs": [],
   "source": [
    "C.main_conds[0]"
   ]
  },
  {
   "cell_type": "code",
   "execution_count": null,
   "metadata": {},
   "outputs": [],
   "source": [
    "(pd.concat([dat_r2_det,\n",
    "           dat_r2avg\n",
    "        .rename(columns={'r2_average': 'r_delta'})\n",
    "           .assign(**{'mod_order': 'average'})])\n",
    " .query(f'{V.COL_CONDNAME} == \"{C.main_conds[0]}\"')\n",
    " .query(f'{V.COL_CHANNELNAME} == \"Yb171\"')\n",
    " #.query('mod_order==\"dist_nb_self_int\"')\n",
    " .merge(dat_condmeta)\n",
    " >> \n",
    "gg.ggplot(gg.aes(x=f'mod_order',\n",
    "                 y='r_delta',\n",
    "                 fill=f\"pd.Categorical({V.COL_SUBMOD}, categories=reversed(['dist', 'nb', 'self', 'int']))\"))\n",
    " +gg.facet_grid(f'{V.COL_CHANNELNAME}~.')\n",
    " +gg.geom_bar(gg.aes(y=1), fill='grey', stat='identity')    \n",
    " + gg.geom_bar(stat='identity')\n",
    "     +gg.coord_cartesian(ylim=(0,1))\n",
    " +gg.theme(figure_size=(12,5))\n",
    " + gg.theme(axis_text_x = gg.element_text(angle = 90))\n",
    " + gg.ggtitle('')\n",
    "    )"
   ]
  },
  {
   "cell_type": "code",
   "execution_count": null,
   "metadata": {},
   "outputs": [],
   "source": [
    "(pd.concat([dat_r2_det,\n",
    "           dat_r2avg\n",
    "        .rename(columns={'r2_average': 'r_delta'})\n",
    "           .assign(**{'mod_order': 'average'})])\n",
    " .query(f'{V.COL_CONDNAME} =={C.fig2_cond}')\n",
    " .query(f'{V.COL_CHANNELNAME} == \"Yb171\"')\n",
    " #.query('mod_order==\"dist_nb_self_int\"')\n",
    " .merge(dat_condmeta)\n",
    " >> \n",
    "gg.ggplot(gg.aes(x=f'mod_order',\n",
    "                 y='r_delta',\n",
    "                 fill=f\"pd.Categorical({V.COL_SUBMOD}, categories=reversed(['dist', 'nb', 'self', 'int']))\"))\n",
    " +gg.facet_grid(f'{V.COL_CHANNELNAME}~.')\n",
    " +gg.geom_bar(gg.aes(y=1), fill='grey', stat='identity')    \n",
    " + gg.geom_bar(stat='identity')\n",
    "     +gg.coord_cartesian(ylim=(0,1))\n",
    " +gg.theme(figure_size=(12,5))\n",
    " + gg.theme(axis_text_x = gg.element_text(angle = 90))\n",
    " + gg.ggtitle('')\n",
    "    )"
   ]
  },
  {
   "cell_type": "code",
   "execution_count": null,
   "metadata": {},
   "outputs": [],
   "source": [
    "(pd.concat([dat_r2_det,\n",
    "           dat_r2avg\n",
    "        .rename(columns={'r2_average': 'r_delta'})\n",
    "           .assign(**{'mod_order': 'average'})])\n",
    " #.query(f'{V.COL_CONDNAME} ==\"HT29_c1.0_te%_tp96\"')\n",
    " .groupby(by=[V.COL_SUBMOD, 'mod_order'])['r_delta'].mean().reset_index()\n",
    " #.query('mod_order==\"dist_nb_self_int\"')\n",
    " #.merge(dat_condmeta)\n",
    " >> \n",
    "gg.ggplot(gg.aes(x=f'mod_order',\n",
    "                 y='r_delta',\n",
    "                 fill=f\"pd.Categorical({V.COL_SUBMOD}, categories=reversed(['dist', 'nb', 'self', 'int']))\"))\n",
    "# +gg.facet_grid(f'{V.COL_CHANNELNAME}~.')\n",
    " +gg.geom_bar(gg.aes(y=1), fill='grey', stat='identity')    \n",
    " + gg.geom_bar(stat='identity')\n",
    "     +gg.coord_cartesian(ylim=(0,0.5))\n",
    " +gg.theme(figure_size=(12,5))\n",
    " + gg.theme(axis_text_x = gg.element_text(angle = 90))\n",
    " + gg.ggtitle('')\n",
    "    )"
   ]
  },
  {
   "cell_type": "code",
   "execution_count": null,
   "metadata": {},
   "outputs": [],
   "source": [
    "d = (pd.concat([dat_r2_det,\n",
    "           dat_r2avg\n",
    "        .rename(columns={'r2_average': 'r_delta'})\n",
    "           .assign(**{'mod_order': 'average'})])\n",
    " #.query(f'{V.COL_CONDNAME} ==\"HT29_c1.0_te%_tp96\"')\n",
    " .groupby(by=[V.COL_SUBMOD, 'mod_order'])['r_delta'].mean().reset_index()\n",
    " #.query('mod_order==\"dist_nb_self_int\"')\n",
    " #.merge(dat_condmeta)\n",
    "    ) \n",
    "(gg.ggplot(d, gg.aes(x=f'mod_order',\n",
    "                 y='r_delta',\n",
    "                 fill=f\"pd.Categorical({V.COL_SUBMOD}, categories=reversed(['dist', 'nb', 'self', 'int']))\"))\n",
    "# +gg.facet_grid(f'{V.COL_CHANNELNAME}~.')\n",
    "# +gg.geom_bar(gg.aes(y=1), fill='grey', stat='identity')    \n",
    "# + gg.geom_bar(stat='identity')\n",
    " +gg.geom_point()\n",
    " + gg.geom_hline(gg.aes(yintercept=d['r_delta'].mean()))\n",
    " +gg.stat_summary(gg.aes(group='mod_order'),fun_data = 'mean_se', geom = \"errorbar\")\n",
    "     +gg.coord_cartesian(ylim=(0,0.5))\n",
    "\n",
    " +gg.theme(figure_size=(12,5))\n",
    " + gg.theme(axis_text_x = gg.element_text(angle = 90))\n",
    " + gg.ggtitle('')\n",
    "    )"
   ]
  },
  {
   "cell_type": "code",
   "execution_count": null,
   "metadata": {},
   "outputs": [],
   "source": [
    "(pd.concat([dat_r2_det,\n",
    "           dat_r2avg\n",
    "        .rename(columns={'r2_average': 'r_delta'})\n",
    "           .assign(**{'mod_order': 'average'})])\n",
    " .query(f'{V.COL_CONDNAME} =={C.fig2_cond}')\n",
    " .query(f'{V.COL_CHANNELNAME} == \"Yb171\"')\n",
    " #.query('mod_order==\"dist_nb_self_int\"')\n",
    " .merge(dat_condmeta)\n",
    " >> \n",
    "gg.ggplot(gg.aes(x=f'mod_order',\n",
    "                 y='r_delta',\n",
    "                 fill=f\"pd.Categorical({V.COL_SUBMOD}, categories=reversed(['dist', 'nb', 'self', 'int']))\"\n",
    "                ))\n",
    " +gg.facet_grid(f'{V.COL_CHANNELNAME}~.')\n",
    " +gg.geom_bar(gg.aes(y=1), fill='grey', stat='identity', position='identity')    \n",
    " + gg.geom_bar(stat='identity')\n",
    "  + gg.geom_hline(gg.aes(yintercept=d['r_delta'].mean()))\n",
    "# +gg.stat_summary(gg.aes(group='mod_order'),fun_data = 'mean_se', geom = \"point\")\n",
    "  +gg.stat_summary(gg.aes(group='mod_order'),fun_data = 'mean_se', geom = \"errorbar\")\n",
    "     +gg.coord_cartesian(ylim=(0,0.5))\n",
    "\n",
    "     +gg.coord_cartesian(ylim=(0,1))\n",
    " +gg.theme(figure_size=(12,5))\n",
    " + gg.theme(axis_text_x = gg.element_text(angle = 90))\n",
    " + gg.guides(fill=gg.guide_legend(title='Submodel'))\n",
    " + gg.ggtitle(' ')\n",
    " + gg.xlab('Model fitting order')\n",
    " + gg.ylab('Additional variability explained')\n",
    "    )"
   ]
  },
  {
   "cell_type": "code",
   "execution_count": null,
   "metadata": {
    "pycharm": {
     "name": "#%%\n"
    }
   },
   "outputs": [],
   "source": [
    "def get_pord(x):\n",
    "    var = x['mod_order']\n",
    "    if var == 'average':\n",
    "        var = 'dist_nb_self_int'\n",
    "    return str(np.where(np.flip(np.array(var.split('_'))) == x['submod'])[0][0])\n",
    "\n",
    "p = (pd.concat([dat_r2_det,\n",
    "           dat_r2avg\n",
    "        .rename(columns={'r2_average': 'r_delta'})\n",
    "           .assign(**{'mod_order': 'average'})])\n",
    " .query(f'{V.COL_CONDNAME} =={C.fig2_cond}')\n",
    " .query(f'{V.COL_CHANNELNAME} == \"Yb171\"')\n",
    " #.query('mod_order==\"dist_nb_self_int\"')\n",
    " .merge(dat_condmeta)\n",
    " .assign(p_ord = lambda d: d.apply(get_pord ,axis=1))\n",
    " >> \n",
    "gg.ggplot(gg.aes(x=f'mod_order',\n",
    "                 y='r_delta',\n",
    "                 group='p_ord',\n",
    "                 fill=f\"pd.Categorical({V.COL_SUBMOD}, categories=reversed(['dist', 'nb', 'self', 'int']))\"\n",
    "                ))\n",
    " +gg.facet_grid(f'{V.COL_CHANNELNAME}~.')\n",
    " +gg.geom_bar(gg.aes(y=1), fill='grey', stat='identity', position='identity')    \n",
    " + gg.geom_bar(stat='identity')\n",
    "     +gg.coord_cartesian(ylim=(0,1))\n",
    " +gg.theme(figure_size=(7,2))\n",
    " + gg.theme(axis_text_x = gg.element_text(angle = 90),\n",
    "           text=gg.element_text(size=6))\n",
    " + gg.guides(fill=gg.guide_legend(title='Submodel'))\n",
    " + gg.ggtitle('Barplots of all possible permutations\\n'\n",
    "             'of model order\\n'\n",
    "             'for pS6 in the HT29 example condition')\n",
    " + gg.xlab('Model fitting order')\n",
    " + gg.ylab('Additional variability explained')\n",
    "    )\n",
    "p\n",
    "gg.ggsave(p, fol_out / 'all_permutations.pdf')"
   ]
  },
  {
   "cell_type": "code",
   "execution_count": null,
   "metadata": {},
   "outputs": [],
   "source": [
    "\n",
    "\n",
    "(dat_r2_det\n",
    "     .assign(p_ord = lambda d: d.apply(get_pord ,axis=1))\n",
    ")"
   ]
  },
  {
   "cell_type": "code",
   "execution_count": null,
   "metadata": {},
   "outputs": [],
   "source": [
    "\n",
    "\n",
    "(dat_r2_det\n",
    "     .assign(p_ord = lambda d: d.apply(get_pord ,axis=1))\n",
    ")"
   ]
  },
  {
   "cell_type": "code",
   "execution_count": null,
   "metadata": {},
   "outputs": [],
   "source": [
    "p = (pd.concat([dat_r2_det,\n",
    "           dat_r2avg\n",
    "        .rename(columns={'r2_average': 'r_delta'})\n",
    "           .assign(**{'mod_order': 'average'})])\n",
    " .query(f'{V.COL_CONDNAME} =={C.fig2_cond}')\n",
    " .query(f'{V.COL_CHANNELNAME} == \"Yb171\"')\n",
    " #.query('mod_order==\"dist_nb_self_int\"')\n",
    " .merge(dat_condmeta)\n",
    " >> \n",
    "gg.ggplot(gg.aes(x=f'mod_order',\n",
    "                 y='r_delta',\n",
    "                 fill=f\"pd.Categorical({V.COL_SUBMOD}, categories=reversed(['dist', 'nb', 'self', 'int']))\"\n",
    "                ))\n",
    " +gg.facet_grid(f'{V.COL_CHANNELNAME}~.')\n",
    " +gg.geom_bar(gg.aes(y=1), fill='grey', stat='identity', position='identity')    \n",
    " + gg.geom_bar(stat='identity')\n",
    "     +gg.coord_cartesian(ylim=(0,1))\n",
    " +gg.theme(figure_size=(7.5,1))\n",
    " + gg.theme(axis_text_x = gg.element_text(angle = 90, size=6),\n",
    "           axis_title_x = gg.element_text( size=6),\n",
    "           axis_title_y = gg.element_text( size=6),\n",
    "            axis_text_y = gg.element_text( size=6)\n",
    "           )\n",
    " + gg.guides(fill=gg.guide_legend(title='Submodel'))\n",
    " + gg.ggtitle(' ')\n",
    " + gg.xlab('Model fitting order')\n",
    " + gg.ylab('Additional variability explained')\n",
    "    )"
   ]
  },
  {
   "cell_type": "code",
   "execution_count": null,
   "metadata": {
    "pycharm": {
     "name": "#%%\n"
    }
   },
   "outputs": [],
   "source": [
    "p"
   ]
  },
  {
   "cell_type": "code",
   "execution_count": null,
   "metadata": {
    "pycharm": {
     "name": "#%%\n"
    }
   },
   "outputs": [],
   "source": [
    "gg.ggsave(p, fol_out / 'all_orders_example.pdf')"
   ]
  },
  {
   "cell_type": "code",
   "execution_count": null,
   "metadata": {
    "pycharm": {
     "name": "#%%\n"
    }
   },
   "outputs": [],
   "source": []
  },
  {
   "cell_type": "code",
   "execution_count": null,
   "metadata": {
    "pycharm": {
     "name": "#%%\n"
    }
   },
   "outputs": [],
   "source": [
    "dat_r2_det"
   ]
  },
  {
   "cell_type": "code",
   "execution_count": null,
   "metadata": {
    "pycharm": {
     "name": "#%%\n"
    }
   },
   "outputs": [],
   "source": [
    "dat_r2var"
   ]
  },
  {
   "cell_type": "code",
   "execution_count": null,
   "metadata": {
    "pycharm": {
     "name": "#%%\n"
    }
   },
   "outputs": [],
   "source": [
    "min_mean = dat_r2var.groupby(COL_MODELSEQ).mean().min()\n",
    "        \n",
    "(dat_r2var >>\n",
    "    gg.ggplot(gg.aes(x=COL_MODELSEQ,\n",
    "                 y=COL_R2VAR))\n",
    "# +gg.facet_grid(f'{V.COL_CHANNELNAME}~.')\n",
    "# +gg.geom_bar(gg.aes(y=1), fill='grey', stat='identity')    \n",
    "# + gg.geom_bar(stat='identity')\n",
    " +gg.geom_violin()\n",
    "    # +gg.coord_cartesian(ylim=(0,0.5))\n",
    " + gg.geom_hline(yintercept=min_mean, color='gray')\n",
    " +gg.stat_summary(gg.aes(group=COL_MODELSEQ),fun_data = 'mean_se', geom = \"errorbar\")\n",
    "  +gg.stat_summary(gg.aes(group=COL_MODELSEQ),fun_data = 'mean_se', geom = \"point\")\n",
    " +gg.theme(figure_size=(12,2))\n",
    " + gg.theme(axis_text_x = gg.element_text(angle = 90))\n",
    " + gg.ggtitle('')\n",
    " + gg.xlab('Model fitting order')\n",
    " + gg.ylab('Variance of submodel contributions')\n",
    "    #  +gg.coord_cartesian(ylim=(0,0.3))\n",
    "    )"
   ]
  },
  {
   "cell_type": "code",
   "execution_count": null,
   "metadata": {
    "pycharm": {
     "name": "#%%\n"
    }
   },
   "outputs": [],
   "source": [
    "dat_r2_det"
   ]
  },
  {
   "cell_type": "code",
   "execution_count": null,
   "metadata": {
    "pycharm": {
     "name": "#%%\n"
    }
   },
   "outputs": [],
   "source": [
    "d = (pd.concat([dat_r2_det,\n",
    "           dat_r2avg\n",
    "        .rename(columns={'r2_average': 'r_delta'})\n",
    "           .assign(**{'mod_order': 'average'})])\n",
    "       .rename(columns={'mod_order': COL_MODELSEQ})\n",
    " #.query(f'{V.COL_CONDNAME} ==\"HT29_c1.0_te%_tp96\"')\n",
    " .groupby(by=[V.COL_CONDNAME, V.COL_CHANNELNAME, COL_MODELSEQ])['r_delta'].var().reset_index())"
   ]
  },
  {
   "cell_type": "code",
   "execution_count": null,
   "metadata": {
    "pycharm": {
     "name": "#%%\n"
    }
   },
   "outputs": [],
   "source": [
    "dat_r2var.merge(d)"
   ]
  },
  {
   "cell_type": "code",
   "execution_count": null,
   "metadata": {
    "pycharm": {
     "name": "#%%\n"
    }
   },
   "outputs": [],
   "source": [
    "min_mean = d.groupby(COL_MODELSEQ).mean().min()\n",
    "\n",
    "p = (d >>\n",
    "    gg.ggplot(gg.aes(x=COL_MODELSEQ,\n",
    "                 y='r_delta'))\n",
    "# +gg.facet_grid(f'{V.COL_CHANNELNAME}~.')\n",
    "# +gg.geom_bar(gg.aes(y=1), fill='grey', stat='identity')    \n",
    "# + gg.geom_bar(stat='identity')\n",
    " +gg.geom_violin()\n",
    "    # +gg.coord_cartesian(ylim=(0,0.5))\n",
    " + gg.geom_hline(yintercept=min_mean, color='gray')\n",
    " +gg.stat_summary(gg.aes(group=COL_MODELSEQ),fun_data = 'mean_se', geom = \"errorbar\")\n",
    "  +gg.stat_summary(gg.aes(group=COL_MODELSEQ),fun_data = 'mean_se', geom = \"point\")\n",
    " +gg.theme(figure_size=(7.5,1.))\n",
    " + gg.theme(axis_text_x = gg.element_text(angle = 90, size=6),\n",
    "           axis_title_x = gg.element_text( size=6),\n",
    "           axis_title_y = gg.element_text( size=6),\n",
    "            axis_text_y = gg.element_text( size=6)\n",
    "           )\n",
    " + gg.ggtitle('')\n",
    " + gg.xlab('Model fitting order')\n",
    " + gg.ylab('Variance of submodel contributions')\n",
    "    #  +gg.coord_cartesian(ylim=(0,0.3))\n",
    "    )\n",
    "p"
   ]
  },
  {
   "cell_type": "code",
   "execution_count": null,
   "metadata": {
    "pycharm": {
     "name": "#%%\n"
    }
   },
   "outputs": [],
   "source": [
    "gg.ggsave(p, fol_out / 'variance_of_order_all.pdf')"
   ]
  },
  {
   "cell_type": "code",
   "execution_count": null,
   "metadata": {
    "pycharm": {
     "name": "#%%\n"
    }
   },
   "outputs": [],
   "source": [
    "d['norm_var'] = (d.groupby(by=[V.COL_CONDNAME, V.COL_CHANNELNAME])['r_delta']\n",
    "      .transform(lambda x: x-x.min())\n",
    "      \n",
    ")\n",
    "d"
   ]
  },
  {
   "cell_type": "code",
   "execution_count": null,
   "metadata": {
    "pycharm": {
     "name": "#%%\n"
    }
   },
   "outputs": [],
   "source": [
    "#min_mean = d2.groupby(COL_MODELSEQ).mean().min()\n",
    "\n",
    "( d >>\n",
    "    gg.ggplot(gg.aes(x=COL_MODELSEQ,\n",
    "                 y='norm_var'))\n",
    "# +gg.facet_grid(f'{V.COL_CHANNELNAME}~.')\n",
    "# +gg.geom_bar(gg.aes(y=1), fill='grey', stat='identity')    \n",
    "# + gg.geom_bar(stat='identity')\n",
    " #+gg.geom_violin()\n",
    "    # +gg.coord_cartesian(ylim=(0,0.5))\n",
    " #+ gg.geom_hline(yintercept=min_mean, color='gray')\n",
    "# +gg.stat_summary(gg.aes(group=COL_MODELSEQ),fun_data = 'mean_se', geom = \"errorbar\")\n",
    "  +gg.stat_summary(gg.aes(group=COL_MODELSEQ),fun_data = 'mean_se', geom = \"point\")\n",
    " +gg.theme(figure_size=(12,3))\n",
    " + gg.theme(axis_text_x = gg.element_text(angle = 90))\n",
    " + gg.ggtitle('')\n",
    " + gg.xlab('Model fitting order')\n",
    " + gg.ylab('Variance of submodel contributions-minimal variance per condition/marker')\n",
    "  +gg.coord_cartesian(ylim=(0,0.05))\n",
    "    )"
   ]
  },
  {
   "cell_type": "markdown",
   "metadata": {
    "collapsed": false
   },
   "source": [
    "-> Like this it would be even clearer that either dist_nb_self_int and co usually have the lowest variance"
   ]
  },
  {
   "cell_type": "code",
   "execution_count": null,
   "metadata": {
    "pycharm": {
     "name": "#%%\n"
    }
   },
   "outputs": [],
   "source": []
  },
  {
   "cell_type": "code",
   "execution_count": null,
   "metadata": {},
   "outputs": [],
   "source": []
  },
  {
   "cell_type": "code",
   "execution_count": null,
   "metadata": {},
   "outputs": [],
   "source": [
    "gg.ggsave(p, fol_out / 'all_orders_example.pdf')"
   ]
  },
  {
   "cell_type": "code",
   "execution_count": null,
   "metadata": {},
   "outputs": [],
   "source": []
  },
  {
   "cell_type": "code",
   "execution_count": null,
   "metadata": {},
   "outputs": [],
   "source": [
    "dat_r2_det"
   ]
  },
  {
   "cell_type": "code",
   "execution_count": null,
   "metadata": {},
   "outputs": [],
   "source": [
    "dat_r2var"
   ]
  },
  {
   "cell_type": "code",
   "execution_count": null,
   "metadata": {},
   "outputs": [],
   "source": [
    "min_mean = dat_r2var.groupby(COL_MODELSEQ).mean().min()\n",
    "        \n",
    "(dat_r2var >>\n",
    "    gg.ggplot(gg.aes(x=COL_MODELSEQ,\n",
    "                 y=COL_R2VAR))\n",
    "# +gg.facet_grid(f'{V.COL_CHANNELNAME}~.')\n",
    "# +gg.geom_bar(gg.aes(y=1), fill='grey', stat='identity')    \n",
    "# + gg.geom_bar(stat='identity')\n",
    " +gg.geom_violin()\n",
    "    # +gg.coord_cartesian(ylim=(0,0.5))\n",
    " + gg.geom_hline(yintercept=min_mean, color='gray')\n",
    " +gg.stat_summary(gg.aes(group=COL_MODELSEQ),fun_data = 'mean_se', geom = \"errorbar\")\n",
    "  +gg.stat_summary(gg.aes(group=COL_MODELSEQ),fun_data = 'mean_se', geom = \"point\")\n",
    " +gg.theme(figure_size=(12,2))\n",
    " + gg.theme(axis_text_x = gg.element_text(angle = 90))\n",
    " + gg.ggtitle('')\n",
    " + gg.xlab('Model fitting order')\n",
    " + gg.ylab('Variance of submodel contributions')\n",
    "    #  +gg.coord_cartesian(ylim=(0,0.3))\n",
    "    )"
   ]
  },
  {
   "cell_type": "code",
   "execution_count": null,
   "metadata": {},
   "outputs": [],
   "source": [
    "dat_r2_det"
   ]
  },
  {
   "cell_type": "code",
   "execution_count": null,
   "metadata": {},
   "outputs": [],
   "source": [
    "d = (pd.concat([dat_r2_det,\n",
    "           dat_r2avg\n",
    "        .rename(columns={'r2_average': 'r_delta'})\n",
    "           .assign(**{'mod_order': 'average'})])\n",
    "       .rename(columns={'mod_order': COL_MODELSEQ})\n",
    " #.query(f'{V.COL_CONDNAME} ==\"HT29_c1.0_te%_tp96\"')\n",
    " .groupby(by=[V.COL_CONDNAME, V.COL_CHANNELNAME, COL_MODELSEQ])['r_delta'].var().reset_index())"
   ]
  },
  {
   "cell_type": "code",
   "execution_count": null,
   "metadata": {},
   "outputs": [],
   "source": [
    "dat_r2var.merge(d)"
   ]
  },
  {
   "cell_type": "code",
   "execution_count": null,
   "metadata": {},
   "outputs": [],
   "source": [
    "min_mean = d.groupby(COL_MODELSEQ).mean().min()\n",
    "\n",
    "p = (d >>\n",
    "    gg.ggplot(gg.aes(x=COL_MODELSEQ,\n",
    "                 y='r_delta'))\n",
    "# +gg.facet_grid(f'{V.COL_CHANNELNAME}~.')\n",
    "# +gg.geom_bar(gg.aes(y=1), fill='grey', stat='identity')    \n",
    "# + gg.geom_bar(stat='identity')\n",
    " +gg.geom_violin()\n",
    "    # +gg.coord_cartesian(ylim=(0,0.5))\n",
    " + gg.geom_hline(yintercept=min_mean, color='gray')\n",
    " +gg.stat_summary(gg.aes(group=COL_MODELSEQ),fun_data = 'mean_se', geom = \"errorbar\")\n",
    "  +gg.stat_summary(gg.aes(group=COL_MODELSEQ),fun_data = 'mean_se', geom = \"point\")\n",
    " +gg.theme(figure_size=(7.5,1.))\n",
    " + gg.theme(axis_text_x = gg.element_text(angle = 90, size=6),\n",
    "           axis_title_x = gg.element_text( size=6),\n",
    "           axis_title_y = gg.element_text( size=6),\n",
    "            axis_text_y = gg.element_text( size=6)\n",
    "           )\n",
    " + gg.ggtitle('')\n",
    " + gg.xlab('Model fitting order')\n",
    " + gg.ylab('Variance of submodel contributions')\n",
    "    #  +gg.coord_cartesian(ylim=(0,0.3))\n",
    "    )\n",
    "p"
   ]
  },
  {
   "cell_type": "code",
   "execution_count": null,
   "metadata": {},
   "outputs": [],
   "source": [
    "gg.ggsave(p, fol_out / 'variance_of_order_all.pdf')"
   ]
  },
  {
   "cell_type": "code",
   "execution_count": null,
   "metadata": {},
   "outputs": [],
   "source": [
    "d['norm_var'] = (d.groupby(by=[V.COL_CONDNAME, V.COL_CHANNELNAME])['r_delta']\n",
    "      .transform(lambda x: x-x.min())\n",
    "      \n",
    ")\n",
    "d"
   ]
  },
  {
   "cell_type": "code",
   "execution_count": null,
   "metadata": {},
   "outputs": [],
   "source": [
    "#min_mean = d2.groupby(COL_MODELSEQ).mean().min()\n",
    "\n",
    "( d >>\n",
    "    gg.ggplot(gg.aes(x=COL_MODELSEQ,\n",
    "                 y='norm_var'))\n",
    "# +gg.facet_grid(f'{V.COL_CHANNELNAME}~.')\n",
    "# +gg.geom_bar(gg.aes(y=1), fill='grey', stat='identity')    \n",
    "# + gg.geom_bar(stat='identity')\n",
    " #+gg.geom_violin()\n",
    "    # +gg.coord_cartesian(ylim=(0,0.5))\n",
    " #+ gg.geom_hline(yintercept=min_mean, color='gray')\n",
    "# +gg.stat_summary(gg.aes(group=COL_MODELSEQ),fun_data = 'mean_se', geom = \"errorbar\")\n",
    "  +gg.stat_summary(gg.aes(group=COL_MODELSEQ),fun_data = 'mean_se', geom = \"point\")\n",
    " +gg.theme(figure_size=(12,3))\n",
    " + gg.theme(axis_text_x = gg.element_text(angle = 90))\n",
    " + gg.ggtitle('')\n",
    " + gg.xlab('Model fitting order')\n",
    " + gg.ylab('Variance of submodel contributions-minimal variance per condition/marker')\n",
    "  +gg.coord_cartesian(ylim=(0,0.05))\n",
    "    )"
   ]
  },
  {
   "cell_type": "markdown",
   "metadata": {},
   "outputs": [],
   "source": [
    "-> Like this it would be even clearer that either dist_nb_self_int and co usually have the lowest variance"
   ]
  },
  {
   "cell_type": "code",
   "execution_count": null,
   "metadata": {},
   "outputs": [],
   "source": []
  },
  {
   "cell_type": "code",
   "execution_count": null,
   "metadata": {},
   "outputs": [],
   "source": []
  },
  {
   "cell_type": "code",
   "execution_count": null,
   "metadata": {},
   "outputs": [],
   "source": []
  }
 ],
 "metadata": {
  "jupytext": {
   "text_representation": {
    "extension": ".py",
    "format_name": "percent",
    "format_version": "1.3",
    "jupytext_version": "1.3.4"
   }
  },
  "kernelspec": {
   "display_name": "Python 3",
   "language": "python",
   "name": "python3"
  },
  "language_info": {
   "codemirror_mode": {
    "name": "ipython",
    "version": 3
   },
   "file_extension": ".py",
   "mimetype": "text/x-python",
   "name": "python",
   "nbconvert_exporter": "python",
   "pygments_lexer": "ipython3",
   "version": "3.8.5"
  }
 },
 "nbformat": 4,
 "nbformat_minor": 4
}
