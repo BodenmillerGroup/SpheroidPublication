{
 "cells": [
  {
   "cell_type": "code",
   "execution_count": null,
   "metadata": {},
   "outputs": [],
   "source": [
    "sm = snakemake"
   ]
  },
  {
   "cell_type": "code",
   "execution_count": null,
   "metadata": {},
   "outputs": [],
   "source": [
    "import spherpro.bro as spb\n",
    "import spherpro.db as db\n",
    "import re\n",
    "import pandas as pd\n",
    "import pathlib"
   ]
  },
  {
   "cell_type": "markdown",
   "metadata": {},
   "outputs": [],
   "source": [
    "# Aim\n",
    "\n",
    "Remove the images that were manually determined bad from the valid images"
   ]
  },
  {
   "cell_type": "code",
   "execution_count": null,
   "metadata": {},
   "outputs": [],
   "source": [
    "class V:\n",
    "    COL_ISBAD = 'is_bad'\n",
    "class C:\n",
    "    fn_config = sm.input.fn_config\n",
    "    fn_manual_qc_dat = sm.input.fn_manual_qc_dat"
   ]
  },
  {
   "cell_type": "code",
   "execution_count": null,
   "metadata": {},
   "outputs": [],
   "source": [
    "bro = spb.get_bro(C.fn_config)"
   ]
  },
  {
   "cell_type": "code",
   "execution_count": null,
   "metadata": {},
   "outputs": [],
   "source": [
    "n_img = bro.session.query(db.valid_images.image_id).count()\n",
    "n_obj = (bro.session.query(db.valid_objects.object_id)\n",
    "            .join(db.objects)\n",
    "            .filter(db.objects.object_type == 'cell').count())\n",
    "print(n_img, n_obj)\n"
   ]
  },
  {
   "cell_type": "code",
   "execution_count": null,
   "metadata": {},
   "outputs": [],
   "source": [
    "dat_qc = pd.read_csv(C.fn_manual_qc_dat)\n",
    "dat_qc[V.COL_ISBAD] = True "
   ]
  },
  {
   "cell_type": "code",
   "execution_count": null,
   "metadata": {},
   "outputs": [],
   "source": [
    "q = (bro.session.query(db.images.acquisition_id,\n",
    "                     db.images.image_id,\n",
    "                     db.images.image_number,\n",
    "                     db.images.crop_number,\n",
    "                     db.acquisitions.acquisition_mcd_acid,\n",
    "                     db.sites.site_mcd_panoramaid,\n",
    "                     db.slideacs.slideac_name)\n",
    "     .join(db.acquisitions, db.images.acquisition_id == db.acquisitions.acquisition_id)\n",
    "     .join(db.sites)\n",
    "     .join(db.slideacs)\n",
    "    )\n",
    "dat_imgs = bro.doquery(q)"
   ]
  },
  {
   "cell_type": "code",
   "execution_count": null,
   "metadata": {},
   "outputs": [],
   "source": []
  },
  {
   "cell_type": "code",
   "execution_count": null,
   "metadata": {},
   "outputs": [],
   "source": [
    "dat_imgs.query('image_number == 501')"
   ]
  },
  {
   "cell_type": "code",
   "execution_count": null,
   "metadata": {},
   "outputs": [],
   "source": [
    "dat_isbad = dat_imgs.merge(dat_qc[[db.images.crop_number.key,\n",
    "                                db.acquisitions.acquisition_mcd_acid.key,\n",
    "                                db.slideacs.slideac_name.key]])"
   ]
  },
  {
   "cell_type": "code",
   "execution_count": null,
   "metadata": {},
   "outputs": [],
   "source": [
    "dat_isbad.head()"
   ]
  },
  {
   "cell_type": "code",
   "execution_count": null,
   "metadata": {},
   "outputs": [],
   "source": [
    "bad_img_ids = list(dat_isbad[db.images.image_id.key])"
   ]
  },
  {
   "cell_type": "code",
   "execution_count": null,
   "metadata": {},
   "outputs": [],
   "source": [
    "stmt = (bro.session.query(db.valid_images)\n",
    " .filter(db.valid_images.image_id.in_(bad_img_ids)))\n",
    "\n",
    "print(f'{len(bad_img_ids)} determined bad of which {stmt.count()} were in the valid images')"
   ]
  },
  {
   "cell_type": "markdown",
   "metadata": {},
   "outputs": [],
   "source": [
    "Do the deletion"
   ]
  },
  {
   "cell_type": "code",
   "execution_count": null,
   "metadata": {},
   "outputs": [],
   "source": [
    "stmt.delete(synchronize_session='fetch')\n",
    "bro.session.commit()"
   ]
  },
  {
   "cell_type": "markdown",
   "metadata": {},
   "outputs": [],
   "source": [
    "Sanity check - plot all the 'bad' images:"
   ]
  },
  {
   "cell_type": "code",
   "execution_count": null,
   "metadata": {},
   "outputs": [],
   "source": [
    "import matplotlib.pyplot as plt"
   ]
  },
  {
   "cell_type": "code",
   "execution_count": null,
   "metadata": {},
   "outputs": [],
   "source": [
    "for im in bad_img_ids:\n",
    "    fig = bro.plots.heatmask.plt_heatplot([im], stat='MeanIntensityComp', stack='FullStackFiltered', channel='Ir193',\n",
    "                                    title=f'image {im}', valid_images=False\n",
    "                               )\n",
    "    plt.show()\n",
    "    plt.close()"
   ]
  },
  {
   "cell_type": "code",
   "execution_count": null,
   "metadata": {
    "pycharm": {
     "name": "#%%\n"
    }
   },
   "outputs": [],
   "source": []
  },
  {
   "cell_type": "code",
   "execution_count": null,
   "metadata": {},
   "outputs": [],
   "source": []
  }
 ],
 "metadata": {
  "jupytext": {
   "text_representation": {
    "extension": ".py",
    "format_name": "percent",
    "format_version": "1.3",
    "jupytext_version": "1.3.4"
   }
  },
  "kernelspec": {
   "display_name": "Python 3",
   "language": "python",
   "name": "python3"
  },
  "language_info": {
   "codemirror_mode": {
    "name": "ipython",
    "version": 3
   },
   "file_extension": ".py",
   "mimetype": "text/x-python",
   "name": "python",
   "nbconvert_exporter": "python",
   "pygments_lexer": "ipython3",
   "version": "3.8.5"
  }
 },
 "nbformat": 4,
 "nbformat_minor": 4
}
