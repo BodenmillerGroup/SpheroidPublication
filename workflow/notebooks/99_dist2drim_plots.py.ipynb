{
 "cells": [
  {
   "cell_type": "code",
   "execution_count": null,
   "metadata": {
    "pycharm": {
     "name": "#%%\n"
    }
   },
   "outputs": [],
   "source": [
    "sm = snakemake"
   ]
  },
  {
   "cell_type": "code",
   "execution_count": null,
   "metadata": {
    "pycharm": {
     "name": "#%%\n"
    }
   },
   "outputs": [],
   "source": [
    "import spherpro.bro as sb\n",
    "import spherpro.db as db\n",
    "import pandas as pd\n",
    "import numpy as np\n",
    "import matplotlib.pyplot as plt\n",
    "from scipy import stats\n",
    "\n",
    "import pathlib\n",
    "\n",
    "import spherpro.bromodules.helpers_vz as helpers_vz"
   ]
  },
  {
   "cell_type": "markdown",
   "metadata": {},
   "source": [
    "# Aim: Assess distance to border readout\n",
    "Plot distance to rim vs Pt194\n",
    "\n",
    "CisPt194 was added to all spheres after pooling.\n",
    "\n",
    "Thus it's diffusion gradient inside the spheres could be used as a substitute readout for distance to border (e.g. like Durand, R. E. (1982). Use of Hoechst 33342 for cell selection from multicell systems. Journal of Histochemistry and Cytochemistry, 30(2), 117–122. http://doi.org/10.1177/30.2.6174559)"
   ]
  },
  {
   "cell_type": "markdown",
   "metadata": {},
   "source": [
    "## 0) Config"
   ]
  },
  {
   "cell_type": "code",
   "execution_count": null,
   "metadata": {
    "pycharm": {
     "name": "#%%\n"
    }
   },
   "outputs": [],
   "source": [
    "fn_config = sm.input.fn_config\n",
    "fol_plot = pathlib.Path(sm.output.fol_out)\n",
    "fol_plot.mkdir()"
   ]
  },
  {
   "cell_type": "code",
   "execution_count": null,
   "metadata": {
    "pycharm": {
     "name": "#%%\n"
    }
   },
   "outputs": [],
   "source": [
    "bro = sb.get_bro(fn_config)\n"
   ]
  },
  {
   "cell_type": "code",
   "execution_count": null,
   "metadata": {
    "pycharm": {
     "name": "#%%\n"
    }
   },
   "outputs": [],
   "source": [
    "hpr = helpers_vz.HelperVZ(bro)\n",
    "\n"
   ]
  },
  {
   "cell_type": "code",
   "execution_count": null,
   "metadata": {
    "pycharm": {
     "name": "#%%\n"
    }
   },
   "outputs": [],
   "source": [
    "col_int = 'Pt194'\n",
    "col_raw = 'dist-sphere'\n",
    "col_corr = 'object'\n",
    "transf = lambda x: np.log10(x+0.1)"
   ]
  },
  {
   "cell_type": "code",
   "execution_count": null,
   "metadata": {
    "pycharm": {
     "name": "#%%\n"
    }
   },
   "outputs": [],
   "source": [
    "q = (bro.session.query(db.conditions.condition_id)\n",
    "     #.join(db.sampleblocks)\n",
    "     #.filter(db.sampleblocks.sampleblock_name == blockname)\n",
    "   #  .filter(db.conditions.condition_name.like('DLD%'))\n",
    "     #.filter(db.conditions.bc_x.in_([2,3,6,10,11]))\n",
    "    ).all()"
   ]
  },
  {
   "cell_type": "code",
   "execution_count": null,
   "metadata": {
    "pycharm": {
     "name": "#%%\n"
    }
   },
   "outputs": [],
   "source": [
    "condids = [r[0] for r in q ]"
   ]
  },
  {
   "cell_type": "code",
   "execution_count": null,
   "metadata": {
    "pycharm": {
     "name": "#%%\n"
    }
   },
   "outputs": [],
   "source": [
    "measids = [m[0] for m in (bro.data.get_measmeta_query()\n",
    "           .filter(bro.filters.measurements.get_measmeta_filter_statements(\n",
    "    channel_names=[col_int,'object', 'dist-sphere'],\n",
    "    stack_names=['FullStackFiltered', 'ObjectStack', 'DistStack'],\n",
    "    measurement_names=['MeanIntensityComp', 'dist-rim', 'MeanIntensity'],\n",
    "    measurement_types=[None, None, None]))\n",
    "    .with_entities(db.measurements.measurement_id)).all()]"
   ]
  },
  {
   "cell_type": "code",
   "execution_count": null,
   "metadata": {
    "pycharm": {
     "name": "#%%\n"
    }
   },
   "outputs": [],
   "source": [
    "%%time\n",
    "dat = hpr.get_data(cond_ids=condids, meas_ids=measids, object_type='cell' ,legacy=False )"
   ]
  },
  {
   "cell_type": "code",
   "execution_count": null,
   "metadata": {
    "pycharm": {
     "name": "#%%\n"
    }
   },
   "outputs": [],
   "source": [
    "dat_measmeta = hpr.get_measuremeta(bro.data.pannel,\n",
    "                                   measurement_names=['MeanIntensityComp', 'NbMeanMeanIntensityComp'],\n",
    "                                   additional_measfilt=db.measurements.measurement_id.in_(measids)\n",
    "                                  )"
   ]
  },
  {
   "cell_type": "code",
   "execution_count": null,
   "metadata": {
    "pycharm": {
     "name": "#%%\n"
    }
   },
   "outputs": [],
   "source": [
    "bro.helpers.anndata.add_anndata_varmeta(dat, dat_measmeta, on='measurement_id')"
   ]
  },
  {
   "cell_type": "code",
   "execution_count": null,
   "metadata": {
    "pycharm": {
     "name": "#%%\n"
    }
   },
   "outputs": [],
   "source": [
    "dat.var_names = dat.var['channel_name']"
   ]
  },
  {
   "cell_type": "code",
   "execution_count": null,
   "metadata": {
    "pycharm": {
     "name": "#%%\n"
    }
   },
   "outputs": [],
   "source": [
    "dat.var_names"
   ]
  },
  {
   "cell_type": "code",
   "execution_count": null,
   "metadata": {
    "pycharm": {
     "name": "#%%\n"
    }
   },
   "outputs": [],
   "source": [
    "q = (bro.session.query(db.images.image_id, db.conditions)\n",
    "     .join(db.conditions)\n",
    "    )\n",
    "\n",
    "dat_cond = bro.doquery(q)\n"
   ]
  },
  {
   "cell_type": "code",
   "execution_count": null,
   "metadata": {
    "pycharm": {
     "name": "#%%\n"
    }
   },
   "outputs": [],
   "source": [
    "bro.helpers.anndata.add_anndata_obsmeta(dat, dat_cond, on=db.images.image_id.key)"
   ]
  },
  {
   "cell_type": "markdown",
   "metadata": {},
   "source": [
    "Check how distance to border changes upon correction over all:"
   ]
  },
  {
   "cell_type": "code",
   "execution_count": null,
   "metadata": {
    "pycharm": {
     "name": "#%%\n"
    }
   },
   "outputs": [],
   "source": [
    "fig = plt.figure(figsize=(3,3))\n",
    "plt.hexbin(dat.obs_vector(col_raw), transf(dat.obs_vector(col_int)),\n",
    "          gridsize=100, rasterized=True)\n",
    "plt.colorbar()\n",
    "plt.title(f'Distance to border raw')\n",
    "plt.xlabel(r'Raw distance to border [$\\mu m$]')\n",
    "plt.ylabel('Cisplatin Pt194 [log10(MeanIntensity)]')\n",
    "fig.savefig(fol_plot / 'd2rim_raw_hm.pdf')"
   ]
  },
  {
   "cell_type": "code",
   "execution_count": null,
   "metadata": {
    "pycharm": {
     "name": "#%%\n"
    }
   },
   "outputs": [],
   "source": [
    "fig = plt.figure(figsize=(3,3))\n",
    "plt.hexbin(dat.obs_vector(col_corr), transf(dat.obs_vector(col_int)),\n",
    "          gridsize=100,rasterized=True)\n",
    "plt.colorbar()\n",
    "plt.title(f'Distance to border corrected')\n",
    "plt.xlabel(r'Corrected distance to border [$\\mu m$]')\n",
    "plt.ylabel('Cisplatin Pt194 [log10(MeanIntensity)]')\n",
    "fig.savefig(fol_plot / 'd2rim_corr_hm.pdf')"
   ]
  },
  {
   "cell_type": "code",
   "execution_count": null,
   "metadata": {
    "pycharm": {
     "name": "#%%\n"
    }
   },
   "outputs": [],
   "source": [
    "print(f'''\n",
    "Spearman overall:\n",
    "raw: {stats.spearmanr(dat.obs_vector(col_raw), dat.obs_vector(col_int))}\n",
    "\n",
    "corr: {stats.spearmanr(dat.obs_vector(col_corr), dat.obs_vector(col_int))}\n",
    "\n",
    "-> Overall correlation seems to improve upon correction\n",
    "''')"
   ]
  },
  {
   "cell_type": "markdown",
   "metadata": {},
   "source": [
    "Also check the correlations for each sphere (=condition_id) - how often does it improve?"
   ]
  },
  {
   "cell_type": "code",
   "execution_count": null,
   "metadata": {
    "pycharm": {
     "name": "#%%\n"
    }
   },
   "outputs": [],
   "source": [
    "cordict = {}\n",
    "for c in dat.obs.condition_id.unique():\n",
    "    tdat = dat[dat.obs.condition_id == c]\n",
    "    cordict[c] = (stats.spearmanr(tdat.obs_vector(col_raw), tdat.obs_vector(col_int)).correlation,\n",
    "     stats.spearmanr(tdat.obs_vector(col_corr), tdat.obs_vector(col_int)).correlation)\n",
    "\n",
    "dat_cor = pd.DataFrame(cordict).T\n",
    "dat_cor.columns = ('raw', 'corrected')\n",
    "     \n",
    "dat_cor = dat_cor.assign(delta=lambda x: x['corrected']-x['raw'])"
   ]
  },
  {
   "cell_type": "code",
   "execution_count": null,
   "metadata": {
    "pycharm": {
     "name": "#%%\n"
    }
   },
   "outputs": [],
   "source": [
    "axs = dat_cor.hist(layout=(1,3), figsize=(5,1.5), bins=25)\n",
    "axs[0,0].set_title(r'$\\rho_{raw}$')\n",
    "axs[0,1].set_title(r'$\\rho_{corrected}$')\n",
    "axs[0,2].set_title(r'$\\Delta (\\rho)$')\n",
    "axs[0,0].set_ylabel('count')\n",
    "axs[0,0].set_xlabel(r'Spearman $\\rho$')\n",
    "axs[0,1].set_xlabel(r'Spearman $\\rho$')\n",
    "axs[0,2].set_xlabel(r'$\\Delta (\\rho_{corrected}-\\rho_{raw})$')"
   ]
  },
  {
   "cell_type": "code",
   "execution_count": null,
   "metadata": {
    "pycharm": {
     "name": "#%%\n"
    }
   },
   "outputs": [],
   "source": [
    "fig = axs[0,0].get_figure()\n",
    "fig.savefig(fol_plot / 'd2rim_hist.pdf')"
   ]
  },
  {
   "cell_type": "code",
   "execution_count": null,
   "metadata": {
    "pycharm": {
     "name": "#%%\n"
    }
   },
   "outputs": [],
   "source": [
    "dat_cor.mean()"
   ]
  },
  {
   "cell_type": "code",
   "execution_count": null,
   "metadata": {
    "pycharm": {
     "name": "#%%\n"
    }
   },
   "outputs": [],
   "source": [
    "print(\n",
    "f'''\n",
    "Correlation strength increases in: {(dat_cor['delta'] < 0).mean()}\n",
    "of spheres.\n",
    "''')"
   ]
  },
  {
   "cell_type": "code",
   "execution_count": null,
   "metadata": {
    "pycharm": {
     "name": "#%%\n"
    }
   },
   "outputs": [],
   "source": [
    "stats.ttest_1samp(dat_cor['delta'],0)"
   ]
  },
  {
   "cell_type": "code",
   "execution_count": null,
   "metadata": {
    "pycharm": {
     "name": "#%%\n"
    }
   },
   "outputs": [],
   "source": [
    "def boot_bigger(series: pd.Series, n: int, val: float):\n",
    "    is_big = 0\n",
    "    for _ in range(n):\n",
    "        is_big += series.sample(frac=1,replace=True).mean() > val\n",
    "    return is_big/n\n",
    "    "
   ]
  },
  {
   "cell_type": "code",
   "execution_count": null,
   "metadata": {
    "pycharm": {
     "name": "#%%\n"
    }
   },
   "outputs": [],
   "source": [
    "boot_bigger(dat_cor['delta'], 100000, 0)"
   ]
  },
  {
   "cell_type": "markdown",
   "metadata": {},
   "source": [
    "Regress the two first without correction:"
   ]
  },
  {
   "cell_type": "code",
   "execution_count": null,
   "metadata": {
    "pycharm": {
     "name": "#%%\n"
    }
   },
   "outputs": [],
   "source": [
    "import statsmodels.api as sm\n",
    "import statsmodels.formula.api as smf\n",
    "import patsy\n",
    "from patsy.builtins import Q\n",
    "from patsy import bs"
   ]
  },
  {
   "cell_type": "code",
   "execution_count": null,
   "metadata": {
    "pycharm": {
     "name": "#%%\n"
    }
   },
   "outputs": [],
   "source": [
    "#d = pd.DataFrame({'x': np.log10(dat.obs_vector('Pt194')+0.01), 'y': np.log10(dat.obs_vector( 'object')+0.1)})\n",
    "d = pd.DataFrame({'x': np.log10(dat.obs_vector(col_int)+0.01), 'y': np.log10(dat.obs_vector( 'dist-sphere')+0.1)})\n",
    "d[d==np.inf]=np.nan\n",
    "d[d==-np.inf]=np.nan\n",
    "d = d.dropna()\n",
    "#mod = smf.ols(f'y~bs(x, df=10)', data=d).fit()\n",
    "mod_distsphere = smf.ols(f'y~x', data=d).fit()"
   ]
  },
  {
   "cell_type": "code",
   "execution_count": null,
   "metadata": {
    "pycharm": {
     "name": "#%%\n"
    }
   },
   "outputs": [],
   "source": [
    "mod_distsphere.summary()"
   ]
  },
  {
   "cell_type": "code",
   "execution_count": null,
   "metadata": {
    "pycharm": {
     "name": "#%%\n"
    }
   },
   "outputs": [],
   "source": [
    "plt.hexbin(d['x'],10**d['y'],yscale='log')\n",
    "plt.colorbar()\n",
    "predvals = pd.DataFrame({'x': np.arange(d['x'].min(), d['x'].max(), 0.1)})\n",
    "ax = plt.gca()\n",
    "ax.set_yscale('log')\n",
    "plt.scatter(predvals.loc[:,'x'], 10**mod_distsphere.predict(predvals), s=1, c='white')\n",
    "plt.title(f'Distance to border uncorrected\\nvs\\nCis{col_int}')\n",
    "plt.ylabel('Distance to border [um]')\n",
    "plt.xlabel('Cisplatin [log10(MeanIntensity)]')"
   ]
  },
  {
   "cell_type": "code",
   "execution_count": null,
   "metadata": {
    "pycharm": {
     "name": "#%%\n"
    }
   },
   "outputs": [],
   "source": [
    "plt.hexbin(d['x'],10**d['y'])\n",
    "plt.colorbar()\n",
    "predvals = pd.DataFrame({'x': np.arange(d['x'].min(), d['x'].max(), 0.1)})\n",
    "ax = plt.gca()\n",
    "plt.scatter(predvals.loc[:,'x'], 10**mod_distsphere.predict(predvals), s=1, c='white')\n",
    "plt.title(f'Distance to border uncorrected \\nvs\\nCis{col_int}')\n",
    "plt.ylabel('Distance to border [um]')\n",
    "plt.xlabel('Cisplatin [log10(MeanIntensity)]')\n",
    "plt.ylim((0,150))"
   ]
  },
  {
   "cell_type": "markdown",
   "metadata": {},
   "source": [
    "And after correction:"
   ]
  },
  {
   "cell_type": "code",
   "execution_count": null,
   "metadata": {
    "pycharm": {
     "name": "#%%\n"
    }
   },
   "outputs": [],
   "source": [
    "d = pd.DataFrame({'x': np.log10(dat.obs_vector(col_int)+0.01), 'y': np.log10(dat.obs_vector( 'object')+0.1)})\n",
    "#d = pd.DataFrame({'x': np.log10(dat.obs_vector('Pt194')+0.01), 'y': -dat.obs_vector( 'dist-sphere')})\n",
    "d[d==np.inf]=np.nan\n",
    "d[d==-np.inf]=np.nan\n",
    "d = d.dropna()\n",
    "#mod = smf.ols(f'y~bs(x, df=10)', data=d).fit()\n",
    "mod = smf.ols(f'y~x', data=d).fit()"
   ]
  },
  {
   "cell_type": "code",
   "execution_count": null,
   "metadata": {
    "pycharm": {
     "name": "#%%\n"
    }
   },
   "outputs": [],
   "source": [
    "mod.summary()"
   ]
  },
  {
   "cell_type": "code",
   "execution_count": null,
   "metadata": {
    "pycharm": {
     "name": "#%%\n"
    }
   },
   "outputs": [],
   "source": [
    "plt.hexbin(d['x'],10**d['y'],yscale='log')\n",
    "plt.colorbar()\n",
    "predvals = pd.DataFrame({'x': np.arange(d['x'].min(), d['x'].max(), 0.1)})\n",
    "ax = plt.gca()\n",
    "ax.set_yscale('log')\n",
    "plt.scatter(predvals.loc[:,'x'], 10**mod.predict(predvals), s=1, c='white')\n",
    "plt.title(f'Distance to border\\nvs\\nCis{col_int}')\n",
    "plt.ylabel('Distance to border [um]')\n",
    "plt.xlabel('Cisplatin [log10(MeanIntensity)]')"
   ]
  },
  {
   "cell_type": "code",
   "execution_count": null,
   "metadata": {
    "pycharm": {
     "name": "#%%\n"
    }
   },
   "outputs": [],
   "source": [
    "plt.hexbin(d['x'],10**d['y'])\n",
    "plt.colorbar()\n",
    "predvals = pd.DataFrame({'x': np.arange(d['x'].min(), d['x'].max(), 0.1)})\n",
    "ax = plt.gca()\n",
    "plt.scatter(predvals.loc[:,'x'], 10**mod.predict(predvals), s=1, c='white')\n",
    "plt.title(f'Distance to border\\nvs\\nCis{col_int}')\n",
    "plt.ylabel('Distance to border [um]')\n",
    "plt.xlabel('Cisplatin [log10(MeanIntensity)]')\n",
    "plt.ylim((0,150))"
   ]
  },
  {
   "cell_type": "markdown",
   "metadata": {},
   "source": [
    "-> On average also the goodness of fit seems to increase."
   ]
  },
  {
   "cell_type": "code",
   "execution_count": null,
   "metadata": {
    "pycharm": {
     "name": "#%%\n"
    }
   },
   "outputs": [],
   "source": []
  },
  {
   "cell_type": "code",
   "execution_count": null,
   "metadata": {
    "pycharm": {
     "name": "#%%\n"
    }
   },
   "outputs": [],
   "source": []
  }
 ],
 "metadata": {
  "jupytext": {
   "text_representation": {
    "extension": ".py",
    "format_name": "percent",
    "format_version": "1.3",
    "jupytext_version": "1.3.4"
   }
  },
  "kernelspec": {
   "display_name": "Python 3",
   "language": "python",
   "name": "python3"
  },
  "language_info": {
   "codemirror_mode": {
    "name": "ipython",
    "version": 3
   },
   "file_extension": ".py",
   "mimetype": "text/x-python",
   "name": "python",
   "nbconvert_exporter": "python",
   "pygments_lexer": "ipython3",
   "version": "3.8.5"
  }
 },
 "nbformat": 4,
 "nbformat_minor": 4
}
