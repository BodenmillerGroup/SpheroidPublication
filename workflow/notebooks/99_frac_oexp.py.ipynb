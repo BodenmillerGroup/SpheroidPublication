{
 "cells": [
  {
   "cell_type": "code",
   "execution_count": null,
   "metadata": {},
   "outputs": [],
   "source": [
    "sm = snakemake"
   ]
  },
  {
   "cell_type": "code",
   "execution_count": null,
   "metadata": {},
   "outputs": [],
   "source": [
    "import spherpro.bro as sb\n",
    "import spherpro.db as db\n",
    "\n",
    "import pandas as pd\n",
    "import numpy as np\n",
    "import matplotlib.pyplot as plt\n",
    "import matplotlib as mpl\n",
    "import plotnine as gg\n",
    "\n",
    "import re\n",
    "import pathlib\n",
    "\n",
    "%matplotlib inline"
   ]
  },
  {
   "cell_type": "code",
   "execution_count": null,
   "metadata": {},
   "outputs": [],
   "source": [
    "from src.variables import Vars\n",
    "from src.config import Conf"
   ]
  },
  {
   "cell_type": "markdown",
   "metadata": {},
   "outputs": [],
   "source": [
    "## Aim\n",
    "\n",
    "Plot the fraction of overexpressing cells per conditions"
   ]
  },
  {
   "cell_type": "code",
   "execution_count": null,
   "metadata": {},
   "outputs": [],
   "source": [
    "class CurVariableHelper(Vars):\n",
    "    SUFFIX_FILNB = 'Nb'\n",
    "    COL_COEFNAME = 'coefname'\n",
    "    COL_D2RIM = 'DistRim'\n",
    "    COL_DELTA = 'delta'\n",
    "    COL_DF = 'DF'\n",
    "    COL_DILUTION = 'dilution'\n",
    "    COL_DOXO = 'doxocycline'\n",
    "    COL_FC = 'fc'\n",
    "    COL_FC_CENS = 'fc_cens'\n",
    "    COL_FITCONDITIONNAME = 'FitConditionName'\n",
    "    COL_FITTED = 'fitted'\n",
    "    COL_FLAGPOS = 'IsFlagpos'\n",
    "    COL_FLAGPOSNB = COL_FLAGPOS+SUFFIX_FILNB\n",
    "    COL_GENE = 'gene'\n",
    "    COL_GENE_UNTAGGED = 'gene_untagged'\n",
    "    COL_GFPPOS = 'IsGfppos'\n",
    "    COL_GFPPOSNB = COL_GFPPOS+SUFFIX_FILNB\n",
    "    COL_GOODNAME = 'goodname'\n",
    "    COL_ISNB = 'isnb'\n",
    "    COL_ISSIG = 'is_sig_sel'\n",
    "    COL_N = 'n'\n",
    "    COL_NB = 'nb'\n",
    "    COL_N_OVEREXPR = 'n_overexpr'\n",
    "    COL_OBJ_NR = db.objects.object_number.key\n",
    "    COL_P = 'p'\n",
    "    COL_POSSTAT = 'PosStat'\n",
    "    COL_P_CORR = 'p_corrected'\n",
    "    COL_RESID = 'residual'\n",
    "    COL_TAG = 'tag'\n",
    "    COL_TAGFLAG = 'TagFLAG'\n",
    "    COL_TAGGFP = 'TagGFP'\n",
    "    COL_TAGSTAT = 'TagStat'\n",
    "    COL_TSTAT = 't'\n",
    "    COL_WORKING = 'working'\n",
    "    \n",
    "    COL_FIL = 'filters'\n",
    "    COL_FILSTAT = 'filter_stat'\n",
    "    COL_FILTAG = 'filter_tag'\n",
    "       \n",
    "    \n",
    "V = CurVariableHelper"
   ]
  },
  {
   "cell_type": "code",
   "execution_count": null,
   "metadata": {},
   "outputs": [],
   "source": [
    "\n",
    "\n",
    "class Config(Conf):\n",
    "    fn_config = sm.input.fn_config\n",
    "    fol_paper = pathlib.Path(sm.output.fol_plots)\n",
    "    REF_COND = 'ctrl'\n",
    "    SUFFIX_NB = '-NB'\n",
    "    FIL_FLAGPOS = 'is-flagpos'\n",
    "    FIL_FLAGPOSNB = FIL_FLAGPOS+V.SUFFIX_FILNB\n",
    "    FIL_GFPPOS = 'is-gfppos'\n",
    "    FIL_GFPPOSNB = FIL_GFPPOS+V.SUFFIX_FILNB\n",
    "    FILS = [FIL_GFPPOS, FIL_GFPPOSNB,\n",
    "    FIL_FLAGPOS,FIL_FLAGPOSNB]\n",
    "    FILS_POS = [V.COL_GFPPOS, V.COL_GFPPOSNB]\n",
    "    DIC_TAG = {\n",
    "              V.COL_GFPPOS: V.COL_TAGGFP,\n",
    "               V.COL_GFPPOSNB: V.COL_TAGGFP,\n",
    "              }\n",
    "    \n",
    "    name_gfp = 'GFP'\n",
    "    \n",
    "C = Config        "
   ]
  },
  {
   "cell_type": "code",
   "execution_count": null,
   "metadata": {},
   "outputs": [],
   "source": [
    "C.fol_paper.mkdir(exist_ok=True)"
   ]
  },
  {
   "cell_type": "markdown",
   "metadata": {},
   "outputs": [],
   "source": [
    "## 0) Setup configuration and bro"
   ]
  },
  {
   "cell_type": "code",
   "execution_count": null,
   "metadata": {},
   "outputs": [],
   "source": [
    "\n",
    "\n",
    "import spherpro.bromodules.helpers_vz as helpers_vz\n",
    "\n"
   ]
  },
  {
   "cell_type": "code",
   "execution_count": null,
   "metadata": {},
   "outputs": [],
   "source": [
    "bro = sb.get_bro(C.fn_config)\n",
    "\n",
    "hpr = helpers_vz.HelperVZ(bro)"
   ]
  },
  {
   "cell_type": "markdown",
   "metadata": {},
   "outputs": [],
   "source": [
    "## 1) Analysis"
   ]
  },
  {
   "cell_type": "code",
   "execution_count": null,
   "metadata": {},
   "outputs": [],
   "source": [
    "\n",
    "\n",
    "\n",
    "def update_condmeta(dat_condmeta):\n",
    "    dat_condmeta = dat_condmeta.copy()\n",
    "    \n",
    "    def split_names(x):\n",
    "        c = re.compile('(?P<{}>.*)_(?P<{}>.*)'.format(V.COL_GENE_UNTAGGED, V.COL_TAG))\n",
    "\n",
    "        m = c.match(x)\n",
    "        g = m.groups() \n",
    "        return pd.Series({l: g[i-1] for l, i in c.groupindex.items()},name=x.index)\n",
    "    \n",
    "    dat_condmeta = dat_condmeta.join(dat_condmeta[V.COL_CONDNAME].apply(split_names))\n",
    "    # Fix the one GFP without GFP-FLAG\n",
    "    #dat_condmeta[V.COL_CONDNAME] = dat_condmeta[V.COL_CONDNAME].replace({'GFP_nan': 'GFP_GFP-FLAG'})\n",
    "    # Fix the one GFP without GFP-FLAG\n",
    "    #dat_condmeta[V.COL_CONDNAME] = dat_condmeta[V.COL_CONDNAME].replace({'GFP_nan': 'GFP_GFP-FLAG'})\n",
    "    dat_condmeta[V.COL_TAGGFP] = dat_condmeta[V.COL_CONDNAME].map(lambda x: x.find('GFP') >= 0)\n",
    "    dat_condmeta[V.COL_TAGFLAG] = dat_condmeta[V.COL_CONDNAME].map(lambda x: (x.find('FLAG') >= 0) & (x.find('GFP') < 0))\n",
    "    # Make the gene also be tag specific, as these are different constructs \n",
    "    dat_condmeta[V.COL_GENE] = dat_condmeta.apply(lambda x: '_'.join([x[V.COL_GENE_UNTAGGED], x[V.COL_TAG]]), axis=1)\n",
    "    return dat_condmeta\n",
    "\n",
    "def get_data(channel_name, measurement_name, transf=True, object_type='cell'):\n",
    "    fil = (dat_measmeta.channel_name == channel_name) & (dat_measmeta.measurement_name == measurement_name)\n",
    "    meas_ids = list(dat_measmeta.loc[fil, V.COL_MEASID])\n",
    "    dat=hpr.get_data(meas_ids=meas_ids,object_type=object_type)\n",
    "    if transf:\n",
    "        dat[V.COL_VALUE] = dat.groupby(V.COL_MEASID)[V.COL_VALUE].transform(cur_transf)\n",
    "    return dat\n",
    "\n",
    "def get_fildat(filname):\n",
    "    d = bro.doquery(bro.session.query(db.object_filters, db.object_filter_names.object_filter_name)\n",
    "               .join(db.object_filter_names)\n",
    "               .filter(db.object_filter_names.object_filter_name == filname))\n",
    "    return d\n",
    "\n",
    "def rename_measurement(dat, name):\n",
    "    dat = dat.rename({V.COL_VALUE: name}, axis=1)\n",
    "    dat = dat.drop(V.COL_MEASID, axis=1)\n",
    "    return dat\n",
    "\n",
    "def get_fildats(filnames):\n",
    "    q_obj = (bro.data.get_objectmeta_query()\n",
    "             .filter(db.objects.object_type == 'cell')\n",
    "            # .filter(db.objects.image_id == 101)\n",
    "            .join(db.conditions, db.images.condition_id == db.conditions.condition_id)\n",
    "            .add_columns(db.conditions.condition_id, db.conditions.plate_id)\n",
    "        )\n",
    "\n",
    "    for fil_name in filnames:\n",
    "        fil = (bro.session.query(db.object_filters)\n",
    "                   .join(db.object_filter_names)\n",
    "                   .filter(db.object_filter_names.object_filter_name == fil_name)).subquery()\n",
    "        q_obj = (q_obj\n",
    "             .join(fil, fil.c.object_id == db.objects.object_id)\n",
    "             .add_columns(fil.c.filter_value.label(fil_name))\n",
    "            )\n",
    "    return bro.doquery(q_obj)\n",
    "    \n",
    "\n",
    "\n",
    "\n",
    "def sort_levels(col, vals):\n",
    "    return pd.Categorical(col, categories=vals)\n",
    "\n",
    "\n",
    "\n",
    "def reverse_logical(col):\n",
    "    return pd.Categorical(col, categories=[True, False])"
   ]
  },
  {
   "cell_type": "code",
   "execution_count": null,
   "metadata": {},
   "outputs": [],
   "source": [
    "\n",
    "\n",
    "dat_imgmeta = hpr.get_imgmeta()\n",
    "\n",
    "\n",
    "dat_condmeta = bro.doquery(bro.session.query(db.conditions))\n",
    "dat_condmeta = update_condmeta(dat_condmeta)"
   ]
  },
  {
   "cell_type": "code",
   "execution_count": null,
   "metadata": {},
   "outputs": [],
   "source": [
    "dat_obj = bro.doquery(bro.session.query(db.objects.object_id, db.objects.image_id)\n",
    "                     .filter(db.objects.object_type == 'cell'))"
   ]
  },
  {
   "cell_type": "code",
   "execution_count": null,
   "metadata": {},
   "outputs": [],
   "source": [
    "C.FIL_LM_CLASSES = ['doubt', 'ctrl', 'oexp-NB', 'oexp']\n",
    "\n",
    "def get_fitcond(dat):\n",
    "    dat[V.COL_FITCONDITIONNAME] = C.FIL_LM_CLASSES[1] # ref\n",
    "    \n",
    "    fil = dat[C.FIL_GFPPOSNB] > 0\n",
    "    \n",
    "    dat.loc[fil, V.COL_FITCONDITIONNAME] = C.FIL_LM_CLASSES[2]\n",
    "    \n",
    "    fil = dat[C.FIL_GFPPOS] == 2\n",
    "    \n",
    "    dat.loc[fil, V.COL_FITCONDITIONNAME] = C.FIL_LM_CLASSES[3]\n",
    "    \n",
    "    fil = dat[C.FIL_GFPPOS] == 1\n",
    "    \n",
    "    dat.loc[fil, V.COL_FITCONDITIONNAME] = C.FIL_LM_CLASSES[0]\n",
    "    #dat[V.COL_FITCONDITIONNAME] = pd.Categorical(dat[V.COL_FITCONDITIONNAME], categories=C.FIL_LM_CLASSES)\n",
    "    \n",
    "    return dat[[V.COL_FITCONDITIONNAME, V.COL_OBJID]]"
   ]
  },
  {
   "cell_type": "code",
   "execution_count": null,
   "metadata": {},
   "outputs": [],
   "source": [
    "dat_fil = get_fildats(C.FILS)\n",
    "dat_fil = get_fitcond(dat_fil)"
   ]
  },
  {
   "cell_type": "code",
   "execution_count": null,
   "metadata": {},
   "outputs": [],
   "source": [
    "dat_fil"
   ]
  },
  {
   "cell_type": "code",
   "execution_count": null,
   "metadata": {},
   "outputs": [],
   "source": [
    "\n",
    "\n",
    "dat_filstat = (dat_fil\n",
    "    .assign(val=1)\n",
    "    .pivot_table(values='val', index=V.COL_OBJID,\n",
    "                 columns=V.COL_FITCONDITIONNAME,\n",
    "                fill_value=0)\n",
    "    .reset_index()\n",
    "    .merge(dat_obj)\n",
    "    .merge(dat_imgmeta)\n",
    "    .groupby(V.COL_CONDID)[C.FIL_LM_CLASSES].mean()\n",
    "     .rename_axis(columns=V.COL_FIL)\n",
    "     .stack()\n",
    "     .rename(V.COL_FILSTAT)\n",
    "     .to_frame()\n",
    "     .reset_index()\n",
    "     .assign(**{V.COL_NB: lambda x: ['Nb' in n for n in x[V.COL_FIL]]})\n",
    "     #.eval(f'{V.COL_FILTAG} = @gettag({V.COL_FIL})', local_dict={'gettag': lambda x: [C.name_gfp if 'Gfp' in n else C.name_flag \n",
    "     #                                                                                 for n in x]})\n",
    ")\n",
    "\n",
    "\n",
    "# - sort conditions names according to average fraction of overexpressing cell\n",
    "# - Plot as stacked bar graphs\n",
    "# \n",
    "# Facet by: COL_FILTAG ~ COL_CONDITIONNAME\n",
    "# x=conditionid, y=fraction, color=is_nb"
   ]
  },
  {
   "cell_type": "code",
   "execution_count": null,
   "metadata": {},
   "outputs": [],
   "source": [
    "dat_filstat"
   ]
  },
  {
   "cell_type": "code",
   "execution_count": null,
   "metadata": {},
   "outputs": [],
   "source": [
    "condid_sort = (dat_filstat\n",
    "                .merge(dat_condmeta)\n",
    "               .query(f'{V.COL_FIL} == \"{C.FIL_LM_CLASSES[3]}\"')\n",
    "               \n",
    "               .groupby(V.COL_CONDNAME)[V.COL_FILSTAT].mean()\n",
    "               .reset_index()\n",
    "               .sort_values(V.COL_FILSTAT, ascending=False)[V.COL_CONDNAME]\n",
    "              )"
   ]
  },
  {
   "cell_type": "code",
   "execution_count": null,
   "metadata": {},
   "outputs": [],
   "source": [
    "\n",
    "\n",
    "tagorder = ['GFP','FLAG']\n",
    "\n",
    "p = (dat_condmeta\n",
    "     .merge(dat_filstat)\n",
    "     .assign(sb = lambda x: [f'Set {i}' for i in x[db.conditions.sampleblock_id.key]])\n",
    "     >>\n",
    "     gg.ggplot(gg.aes(x=f'{V.COL_CONDID}.astype(str)', y=V.COL_FILSTAT,\n",
    "                fill=f'pd.Categorical({V.COL_FIL}, categories={C.FIL_LM_CLASSES})')) +\n",
    "     gg.facet_grid(f'sb~sort_levels({V.COL_CONDNAME}, condid_sort)',\n",
    "                   scales='free_x')+\n",
    "     gg.geom_bar(stat='identity')+\n",
    "     gg.ylab('Fraction [a.u.]') +\n",
    "     gg.xlab('Sphere ID')+\n",
    "     gg.guides(fill = gg.guide_legend(title = \"Category\"))+\n",
    "     gg.theme(figure_size=(13,3),\n",
    "              strip_text_x = gg.element_text(angle = 45, va='bottom',ha='left'),\n",
    "              axis_text_x =gg.element_blank())\n",
    ")\n",
    "p"
   ]
  },
  {
   "cell_type": "code",
   "execution_count": null,
   "metadata": {},
   "outputs": [],
   "source": [
    "gg.ggsave(p, C.fol_paper / 'oexp_overview.pdf', limitsize=False)"
   ]
  },
  {
   "cell_type": "code",
   "execution_count": null,
   "metadata": {},
   "outputs": [],
   "source": []
  }
 ],
 "metadata": {
  "jupytext": {
   "text_representation": {
    "extension": ".py",
    "format_name": "percent",
    "format_version": "1.3",
    "jupytext_version": "1.3.4"
   }
  },
  "kernelspec": {
   "display_name": "Python 3",
   "language": "python",
   "name": "python3"
  },
  "language_info": {
   "codemirror_mode": {
    "name": "ipython",
    "version": 3
   },
   "file_extension": ".py",
   "mimetype": "text/x-python",
   "name": "python",
   "nbconvert_exporter": "python",
   "pygments_lexer": "ipython3",
   "version": "3.8.5"
  }
 },
 "nbformat": 4,
 "nbformat_minor": 4
}
